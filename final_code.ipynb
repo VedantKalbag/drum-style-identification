{
 "cells": [
  {
   "cell_type": "code",
   "execution_count": 23,
   "metadata": {},
   "outputs": [],
   "source": [
    "import os\n",
    "import numpy as np\n",
    "import scipy\n",
    "from scipy.io import wavfile\n",
    "import scipy.fftpack as fft\n",
    "from scipy.signal import get_window\n",
    "import matplotlib.pyplot as plt\n",
    "import math\n",
    "import librosa\n",
    "import pandas as pd\n",
    "\n",
    "from sklearn.model_selection import train_test_split\n",
    "from sklearn.neighbors import KNeighborsClassifier\n",
    "from sklearn.svm import SVC\n",
    "from sklearn.ensemble import RandomForestClassifier\n",
    "from sklearn.metrics import confusion_matrix\n",
    "from sklearn.metrics import balanced_accuracy_score,f1_score\n",
    "from sklearn.model_selection import cross_validate\n",
    "from sklearn.preprocessing import StandardScaler\n",
    "from sklearn.pipeline import make_pipeline\n",
    "from sklearn.metrics import accuracy_score\n",
    "import warnings\n",
    "from sklearn.exceptions import DataConversionWarning\n",
    "from sklearn.model_selection import RandomizedSearchCV"
   ]
  },
  {
   "cell_type": "markdown",
   "metadata": {},
   "source": [
    "# Audio Load, Feature Extraction"
   ]
  },
  {
   "cell_type": "code",
   "execution_count": null,
   "metadata": {},
   "outputs": [],
   "source": [
    "relevant_genres = ['funk', 'hiphop', 'jazz', 'rock']"
   ]
  },
  {
   "cell_type": "code",
   "execution_count": null,
   "metadata": {},
   "outputs": [],
   "source": [
    "from scipy.io.wavfile import read as wavread\n",
    "def ToolReadAudio(cAudioFilePath):    \n",
    "    [samplerate, x] = wavread(cAudioFilePath)    \n",
    "    if x.dtype == 'float32':        \n",
    "        audio = x    \n",
    "    else:        \n",
    "        # change range to [-1,1)        \n",
    "        if x.dtype == 'uint8':            \n",
    "            nbits = 8        \n",
    "        elif x.dtype == 'int16':            \n",
    "            nbits = 16        \n",
    "        elif x.dtype == 'int32':            \n",
    "            nbits = 32        \n",
    "        audio = x / float(2**(nbits - 1))    \n",
    "        # special case of unsigned format    \n",
    "    if x.dtype == 'uint8':        \n",
    "        audio = audio - 1.    \n",
    "    return (samplerate, audio)"
   ]
  },
  {
   "cell_type": "code",
   "execution_count": null,
   "metadata": {},
   "outputs": [],
   "source": [
    "import pandas as pd\n",
    "info = pd.read_csv('./groove/info.csv')\n",
    "#df=info[info['style'].isin(relevant_genres)]\n",
    "\n",
    "#df.pivot(index='style', columns='beat_type', values='audio_filename')\n",
    "df = pd.pivot_table(info, values='audio_filename', index=['style'],\n",
    "                    columns=['beat_type'], aggfunc='count')\n",
    "#df[df['beat'] >= 20]\n",
    "\n",
    "info = info[info['style'].isin(relevant_genres)]\n",
    "info = info[info['beat_type'] == \"beat\"]\n",
    "info = info[info['audio_filename'].notna()].reset_index()\n",
    "#locs = info['audio_filename'].to_numpy()\n"
   ]
  },
  {
   "cell_type": "code",
   "execution_count": null,
   "metadata": {},
   "outputs": [],
   "source": [
    "info['audio'] = ''\n",
    "for index, row in info.iterrows():\n",
    "    #if index % 10 == 0:\n",
    "        #print(index)\n",
    "    try:\n",
    "        sr,audio = ToolReadAudio('./groove/'+row['audio_filename'])\n",
    "        if audio.shape[-1] == 2:\n",
    "            info['audio'][index] = np.mean(audio,axis=1)\n",
    "        else:\n",
    "            info['audio'][index] = audio\n",
    "        #info['audio'][index] = audio\n",
    "    except Exception as e: # Some files are unable to be read by scipy's wavfile read, so skipping them and removing the corresponding rows\n",
    "        info.drop(index,inplace=True)\n",
    "        #print(e)\n",
    "        \n",
    "        print(\"Error, dropping row\")\n",
    "        print(f\"size of info is now: {len(info)}\")\n",
    "info.reset_index(drop=True, inplace=True)\n",
    "info.drop('index',axis=1,inplace=True)"
   ]
  },
  {
   "cell_type": "code",
   "execution_count": null,
   "metadata": {},
   "outputs": [],
   "source": [
    "def block_audio(x,blockSize,hopSize,fs):    \n",
    "    # allocate memory    \n",
    "    numBlocks = math.ceil(x.size / hopSize)    \n",
    "    xb = np.zeros([numBlocks, blockSize])    \n",
    "    # compute time stamps    \n",
    "    t = (np.arange(0, numBlocks) * hopSize) / fs   \n",
    "    x = np.concatenate((x, np.zeros(blockSize)),axis=0)    \n",
    "    for n in range(0, numBlocks):        \n",
    "        i_start = n * hopSize        \n",
    "        i_stop = np.min([x.size - 1, i_start + blockSize - 1])        \n",
    "        xb[n][np.arange(0,blockSize)] = x[np.arange(i_start, i_stop + 1)]    \n",
    "    return (xb,t)\n",
    "def agg_mfccs(x):\n",
    "    mfccs = librosa.feature.mfcc(x,n_mfcc = 13)\n",
    "    mean = [np.mean(feature) for feature in mfccs]\n",
    "    std = [np.std(feature) for feature in mfccs]\n",
    "    mfcc_delta = librosa.feature.delta(mfccs)\n",
    "    delta_mean=[np.mean(feature) for feature in mfcc_delta]\n",
    "    delta_std=[np.std(feature) for feature in mfcc_delta]\n",
    "    return mean,std,delta_mean,delta_std\n",
    "\n",
    "def extract_spectral_centroid(xb, fs):\n",
    "    centroids = np.zeros(xb.shape[0])\n",
    "    stft,freqs = calc_stft(xb,fs)\n",
    "    #np.sum(magnitudes*freqs) / np.sum(magnitudes)\n",
    "    for i in range(freqs.shape[0]):\n",
    "        if np.all(stft[i] == 0):\n",
    "            pass\n",
    "        else:\n",
    "            centroid = np.sum(stft[i]*freqs[i]) / np.sum(stft[i])\n",
    "            centroids[i]=centroid\n",
    "        #centroids.append(centroid)\n",
    "    #centroids=np.array(centroids)\n",
    "    return centroids\n",
    "\n",
    "def extract_spectral_centroid(xb, fs):\n",
    "    centroids = np.zeros(xb.shape[0])\n",
    "    stft,freqs = calc_stft(xb,fs)\n",
    "    #np.sum(magnitudes*freqs) / np.sum(magnitudes)\n",
    "    for i in range(freqs.shape[0]):\n",
    "        if np.all(stft[i] == 0):\n",
    "            pass\n",
    "        else:\n",
    "            centroid = np.sum(stft[i]*freqs[i]) / np.sum(stft[i])\n",
    "            centroids[i]=centroid\n",
    "        #centroids.append(centroid)\n",
    "    #centroids=np.array(centroids)\n",
    "    return centroids\n",
    "def calc_stft(xb,fs=44100):\n",
    "    stft = np.zeros((xb.shape[0],(int(xb[0].shape[0]/2)+1)))\n",
    "    freqs = np.zeros((xb.shape[0],(int(xb[0].shape[0]/2)+1)))\n",
    "    window = np.hanning(xb[0].shape[0])\n",
    "    for i in range(xb.shape[0]):\n",
    "        block= xb[i]\n",
    "        # Apply Window to the block\n",
    "        windowed_block = window * block \n",
    "        stft_blk = np.fft.fft(windowed_block)\n",
    "        #stft_blk = np.fft.rfft(windowed_block)\n",
    "        freq=np.fft.fftfreq(block.size,1/fs)\n",
    "        freqs[i]=freq[:int(block.size/2)+1]\n",
    "        stft_blk = np.abs(stft_blk)\n",
    "        #stft_block = stft_blk[int((stft_blk.shape[0])/2):]\n",
    "        stft_block = stft_blk[:int(((stft_blk.shape[0])/2)+1)]\n",
    "        #stft_db = 10*np.log10(stft_block) # IS THIS CORRECT??\n",
    "        stft[i]=stft_block#stft_db\n",
    "    stft = np.array(stft)\n",
    "    freqs=np.array(freqs)\n",
    "    return stft,freqs\n",
    "\n",
    "def extract_spectral_centroid(xb, fs):\n",
    "    centroids = np.zeros(xb.shape[0])\n",
    "    stft,freqs = calc_stft(xb,fs)\n",
    "    #np.sum(magnitudes*freqs) / np.sum(magnitudes)\n",
    "    for i in range(freqs.shape[0]):\n",
    "        if np.all(stft[i] == 0):\n",
    "            pass\n",
    "        else:\n",
    "            centroid = np.sum(stft[i]*freqs[i]) / np.sum(stft[i])\n",
    "            centroids[i]=centroid\n",
    "        #centroids.append(centroid)\n",
    "    #centroids=np.array(centroids)\n",
    "    return centroids\n",
    "\n",
    "def extract_rms(xb):\n",
    "    rms = np.zeros(xb.shape[0])\n",
    "    for i in range(xb.shape[0]):\n",
    "        if np.all(xb[i] == 0):\n",
    "            r = 0.00001\n",
    "        else:\n",
    "            block = xb[i]\n",
    "            r = np.sqrt(np.sum(block**2)/xb.shape[0])\n",
    "            if r <= 0.00001: # Done to handle case when rms is 0 (for a block of all zeros\n",
    "                r = 0.00001\n",
    "            #rms.append(r)\n",
    "        rms[i] = r\n",
    "    #rms=np.array(rms)\n",
    "    return 20*np.log10(rms)#rms,20*np.log10(rms) # What is reference value to convert to dB? Is it 1?\n",
    "\n",
    "def extract_zerocrossingrate(xb):\n",
    "    zcr= np.zeros(xb.shape[0])\n",
    "    for i in range(xb.shape[0]):\n",
    "        if np.all(xb[i] == 0):\n",
    "            pass\n",
    "        else:\n",
    "            block = xb[i]\n",
    "            zero_crossings = np.sum(np.abs(np.diff(np.sign(block)))) / block.shape[0] #np.nonzero(np.diff(block > 0))[0].size\n",
    "            #zcr.append(zero_crossings)\n",
    "            zcr[i] = zero_crossings \n",
    "    #zcr = np.array(zcr)\n",
    "    return zcr\n",
    "\n",
    "def extract_spectral_crest(xb):\n",
    "    crest = np.zeros(xb.shape[0])\n",
    "    stft,freqs = calc_stft(xb,44100)\n",
    "    for i in range(stft.shape[0]):\n",
    "        if np.all(stft[i] == 0):\n",
    "            pass\n",
    "        else:\n",
    "            #crest.append((np.max(stft[i])/np.sum(stft[i])))\n",
    "            crest[i] = np.max(stft[i])/np.sum(stft[i])\n",
    "    #crest = np.array(crest)\n",
    "    return crest\n",
    "\n",
    "def extract_spectral_flux(xb):\n",
    "    num_blocks=xb.shape[0] \n",
    "    blockSize = xb.shape[1]\n",
    "    spectral_flux = np.zeros(num_blocks)\n",
    "    stft,freqs = calc_stft(xb,44100)\n",
    "    fft_len= stft.shape[1]\n",
    "    n = 0\n",
    "    k = 0\n",
    "    for n in range(1,num_blocks):\n",
    "        if np.all(stft[n] == 0):\n",
    "            pass\n",
    "        else:\n",
    "            sum_flux = 0\n",
    "            for k in range(fft_len):\n",
    "                f = (abs(stft[n, k]) - abs(stft[n-1, k]))**2\n",
    "                sum_flux += f\n",
    "            flux = np.sqrt(sum_flux)/((blockSize/2)+1)\n",
    "            spectral_flux[n] = flux #first flux value will be 0\n",
    "    return spectral_flux\n",
    "def get_novelty(xb):\n",
    "    N = 2048#xb.shape[1]\n",
    "    w = scipy.signal.hann(N)\n",
    "    novelty=np.zeros([xb.shape[0],xb.shape[1]])\n",
    "    for i in range(xb.shape[0]):\n",
    "        xb_square = xb[i]**2\n",
    "        energy_local = np.convolve(xb_square, w**2, 'same')\n",
    "        energy_local_diff = np.diff(energy_local)\n",
    "        energy_local_diff = np.concatenate((energy_local_diff, np.array([0])))\n",
    "        novelty_energy = np.copy(energy_local_diff)\n",
    "        novelty_energy[energy_local_diff < 0] = 0\n",
    "        novelty[i] = novelty_energy\n",
    "    return novelty\n",
    "def get_num_onsets(novelty,thresh):\n",
    "    onsets=np.zeros(novelty.shape[0])\n",
    "    for i in range(novelty.shape[0]):\n",
    "        p = scipy.signal.find_peaks(novelty[i])[0]\n",
    "        onsets[i]=(novelty[i][p] >= thresh).sum()\n",
    "    return onsets\n",
    "def get_onset_data(xb,threshold):\n",
    "    novelty=get_novelty(xb)\n",
    "    onsets = get_num_onsets(novelty,threshold)\n",
    "    return onsets#, (onsets/durationInSecs)\n",
    "\n",
    "from scipy.signal import butter, lfilter\n",
    "\n",
    "def butter_bandpass(lowcut, highcut, fs, order=5):\n",
    "    nyq = 0.5 * fs\n",
    "    low = lowcut / nyq\n",
    "    high = highcut / nyq\n",
    "    b, a = butter(order, [low, high], btype='band')\n",
    "    return b, a\n",
    "\n",
    "def butter_bandpass_filter(data, lowcut, highcut, fs, order=5):\n",
    "    b, a = butter_bandpass(lowcut, highcut, fs, order=order)\n",
    "    y = lfilter(b, a, data)\n",
    "    return y\n",
    "\n",
    "def get_onsets_in_freq_bands(x,blockSize,hopSize,fs,threshold=0.001,fl1=20,fh1=400,fl2=400,fh2=3000,fl3=8000,fh3=15000):\n",
    "    x1 = butter_bandpass_filter(x,fl1,fh1,fs)\n",
    "    x2 = butter_bandpass_filter(x,fl2,fh2,fs)\n",
    "    x3 = butter_bandpass_filter(x,fl3,fh3,fs)\n",
    "\n",
    "    xb1,_ = block_audio(x1,blockSize,hopSize,fs)\n",
    "    xb2,_ = block_audio(x2,blockSize,hopSize,fs)\n",
    "    xb3,_ = block_audio(x3,blockSize,hopSize,fs)\n",
    "\n",
    "    onsets1 = get_onset_data(xb1,0.0000001)\n",
    "    onsets2 = get_onset_data(xb2,0.0001)\n",
    "    onsets3 = get_onset_data(xb3,0.00001)\n",
    "    return onsets1, onsets2, onsets3\n",
    "\n",
    "def extract_manual_features(x,fs):\n",
    "\n",
    "    xb,ts = block_audio(x,2048,1024,fs)\n",
    "    centroid = extract_spectral_centroid(xb,fs)\n",
    "    rms = extract_rms(xb)\n",
    "    zcr = extract_zerocrossingrate(xb)\n",
    "    crest = extract_spectral_crest(xb)\n",
    "    flux = extract_spectral_flux(xb)\n",
    "\n",
    "    centroid_mean = np.mean(centroid)\n",
    "    centroid_std = np.std(centroid)\n",
    "\n",
    "    rms_mean = np.mean(rms)\n",
    "    rms_std = np.std(rms)\n",
    "\n",
    "    zcr_mean = np.mean(zcr)\n",
    "    zcr_std = np.std(zcr)\n",
    "\n",
    "    crest_mean = np.mean(crest)\n",
    "    crest_std = np.std(crest)\n",
    "\n",
    "    flux_mean = np.mean(flux)\n",
    "    flux_std = np.std(flux)\n",
    "\n",
    "    xb2,ts2 = block_audio(x,int(fs*1),int(fs*0.5),fs)\n",
    "    onsets = get_onset_data(xb2,0.001)\n",
    "\n",
    "    onsets_mean = np.mean(onsets)\n",
    "    onsets_std = np.std(onsets)\n",
    "\n",
    "    onsets1,onsets2,onsets3 = get_onsets_in_freq_bands(x,2048,1024,fs)\n",
    "    # onsets1_mean = np.mean(onsets1)\n",
    "    onsets2_mean = np.mean(onsets2)\n",
    "    onsets3_mean = np.mean(onsets3)\n",
    "    \n",
    "    # onsets1_std = np.std(onsets1)\n",
    "    onsets2_std = np.std(onsets2)\n",
    "    onsets3_std = np.std(onsets3)\n",
    "\n",
    "    return centroid_mean, centroid_std, rms_mean, rms_std, zcr_mean, zcr_std, crest_mean, crest_std, \\\n",
    "        flux_mean,flux_std,onsets_mean,onsets_std,onsets2_mean,onsets3_mean,onsets2_std,onsets3_std"
   ]
  },
  {
   "cell_type": "code",
   "execution_count": null,
   "metadata": {},
   "outputs": [],
   "source": [
    "df=info\n",
    "df['mfcc_mean'] = ''\n",
    "df['mfcc_std'] = ''\n",
    "\n",
    "df['delta_mfcc_mean'] = ''\n",
    "df['delta_mfcc_std'] = ''\n",
    "\n",
    "df['centroid_mean'] = ''\n",
    "df['centroid_std'] = ''\n",
    "\n",
    "df['rms_mean'] = ''\n",
    "df['rms_std'] = ''\n",
    "\n",
    "df['zcr_mean'] = ''\n",
    "df['zcr_std'] = ''\n",
    "\n",
    "df['crest_mean'] = ''\n",
    "df['crest_std'] = ''\n",
    "\n",
    "df['flux_mean'] = ''\n",
    "df['flux_std'] = ''\n",
    "\n",
    "df['onsets_mean'] = ''\n",
    "df['onsets_std'] = ''\n",
    "\n",
    "df['onsets_mid_mean'] = ''\n",
    "df['onsets_mid_std'] = ''\n",
    "\n",
    "df['onsets_high_mean'] = ''\n",
    "df['onsets_high_std'] = ''\n",
    "for i in range(len(df)):\n",
    "    #print(df['audio'][i].shape)\n",
    "    mean,std,delta_mean,delta_std = agg_mfccs(df['audio'][i])\n",
    "    # Extract 13 MFCCs - get mean and std deviation for each (26 features) + Delta MFCCs (26 features) = total 52 Features\n",
    "    df['mfcc_mean'][i] = mean\n",
    "    df['mfcc_std'][i] = std\n",
    "    df['delta_mfcc_mean'][i] = delta_mean\n",
    "    df['delta_mfcc_std'][i] = delta_std\n",
    "\n",
    "    centroid_mean, centroid_std, rms_mean, rms_std, zcr_mean, zcr_std, crest_mean, crest_std, flux_mean,flux_std,onsets_mean,onsets_std,onsets2_mean,onsets3_mean,onsets2_std,onsets3_std \\\n",
    "         = extract_manual_features(df['audio'][i],44100)\n",
    "    df['centroid_mean'][i] = centroid_mean\n",
    "    df['centroid_std'][i] = centroid_std\n",
    "    df['rms_mean'][i] = rms_mean\n",
    "    df['rms_std'][i] = rms_std\n",
    "    df['zcr_mean'][i] = zcr_mean\n",
    "    df['zcr_std'][i] = zcr_std\n",
    "    df['crest_mean'][i] = crest_mean\n",
    "    df['crest_std'][i] = crest_std\n",
    "    df['flux_mean'][i] = flux_mean\n",
    "    df['flux_std'][i] = flux_std\n",
    "    df['onsets_mean'][i] = onsets_mean\n",
    "    df['onsets_std'][i] = onsets_std\n",
    "\n",
    "    # df['onsets_low_mean'][i] = onsets1_mean\n",
    "    # df['onsets_low_std'][i] = onsets1_std\n",
    "\n",
    "    df['onsets_mid_mean'][i] = onsets2_mean\n",
    "    df['onsets_mid_std'][i] = onsets2_std\n",
    "\n",
    "    df['onsets_high_mean'][i] = onsets3_mean\n",
    "    df['onsets_high_std'][i] = onsets3_std\n",
    "\n",
    "\n",
    "df[['mfcc1_mean','mfcc2_mean','mfcc3_mean','mfcc4_mean','mfcc5_mean','mfcc6_mean','mfcc7_mean','mfcc8_mean','mfcc9_mean','mfcc10_mean','mfcc11_mean','mfcc12_mean','mfcc13_mean']]=pd.DataFrame(df.mfcc_mean.tolist(), index= df.index)\n",
    "df[['mfcc1_std','mfcc2_std','mfcc3_std','mfcc4_std','mfcc5_std','mfcc6_std','mfcc7_std','mfcc8_std','mfcc9_std','mfcc10_std','mfcc11_std','mfcc12_std','mfcc13_std']]=pd.DataFrame(df.mfcc_std.tolist(), index= df.index)\n",
    "\n",
    "df[['delta_mfcc1_mean','delta_mfcc2_mean','delta_mfcc3_mean','delta_mfcc4_mean','delta_mfcc5_mean','delta_mfcc6_mean','delta_mfcc7_mean','delta_mfcc8_mean','delta_mfcc9_mean','delta_mfcc10_mean','delta_mfcc11_mean','delta_mfcc12_mean','delta_mfcc13_mean']]=pd.DataFrame(df.delta_mfcc_mean.tolist(), index= df.index)\n",
    "df[['delta_mfcc1_std','delta_mfcc2_std','delta_mfcc3_std','delta_mfcc4_std','delta_mfcc5_std','delta_mfcc6_std','delta_mfcc7_std','delta_mfcc8_std','delta_mfcc9_std','delta_mfcc10_std','delta_mfcc11_std','delta_mfcc12_std','delta_mfcc13_std']]=pd.DataFrame(df.delta_mfcc_std.tolist(), index= df.index)\n"
   ]
  },
  {
   "cell_type": "code",
   "execution_count": null,
   "metadata": {},
   "outputs": [],
   "source": [
    "out = df.to_numpy()\n",
    "np.save('./resources/working_data/data.npy', out)"
   ]
  },
  {
   "cell_type": "markdown",
   "metadata": {},
   "source": [
    "# Load Feature File and classify"
   ]
  },
  {
   "cell_type": "code",
   "execution_count": 24,
   "metadata": {},
   "outputs": [],
   "source": [
    "names=['drummer', 'session', 'id', 'style', 'bpm', 'beat_type',\n",
    "       'time_signature', 'midi_filename', 'audio_filename', 'duration',\n",
    "       'split', 'audio', 'mfcc_mean', 'mfcc_std', 'delta_mfcc_mean',\n",
    "       'delta_mfcc_std', 'centroid_mean', 'centroid_std', 'rms_mean',\n",
    "       'rms_std', 'zcr_mean', 'zcr_std', 'crest_mean', 'crest_std',\n",
    "       'flux_mean', 'flux_std', 'onsets_mean', 'onsets_std', 'mfcc1_mean',\n",
    "       'mfcc2_mean', 'mfcc3_mean', 'mfcc4_mean', 'mfcc5_mean', 'mfcc6_mean',\n",
    "       'mfcc7_mean', 'mfcc8_mean', 'mfcc9_mean', 'mfcc10_mean', 'mfcc11_mean',\n",
    "       'mfcc12_mean', 'mfcc13_mean', 'mfcc1_std', 'mfcc2_std', 'mfcc3_std',\n",
    "       'mfcc4_std', 'mfcc5_std', 'mfcc6_std', 'mfcc7_std', 'mfcc8_std',\n",
    "       'mfcc9_std', 'mfcc10_std', 'mfcc11_std', 'mfcc12_std', 'mfcc13_std',\n",
    "       'delta_mfcc1_mean', 'delta_mfcc2_mean', 'delta_mfcc3_mean',\n",
    "       'delta_mfcc4_mean', 'delta_mfcc5_mean', 'delta_mfcc6_mean',\n",
    "       'delta_mfcc7_mean', 'delta_mfcc8_mean', 'delta_mfcc9_mean',\n",
    "       'delta_mfcc10_mean', 'delta_mfcc11_mean', 'delta_mfcc12_mean',\n",
    "       'delta_mfcc13_mean', 'delta_mfcc1_std', 'delta_mfcc2_std',\n",
    "       'delta_mfcc3_std', 'delta_mfcc4_std', 'delta_mfcc5_std',\n",
    "       'delta_mfcc6_std', 'delta_mfcc7_std', 'delta_mfcc8_std',\n",
    "       'delta_mfcc9_std', 'delta_mfcc10_std', 'delta_mfcc11_std',\n",
    "       'delta_mfcc12_std', 'delta_mfcc13_std', 'onsets_low_mean',\n",
    "       'onsets_low_std','onsets_mid_mean', 'onsets_mid_std',\n",
    "       'onsets_high_mean', 'onsets_high_std']\n",
    "df=pd.DataFrame(np.load('./resources/working_data/data.npy',allow_pickle=True),columns=names)"
   ]
  },
  {
   "cell_type": "code",
   "execution_count": 25,
   "metadata": {},
   "outputs": [
    {
     "data": {
      "application/vnd.plotly.v1+json": {
       "config": {
        "plotlyServerURL": "https://plot.ly"
       },
       "data": [
        {
         "dimensions": [
          {
           "axis": {
            "matches": true
           },
           "label": "mfcc1_mean",
           "values": [
            -432.616355373271,
            -314.38503713137817,
            -429.3064726116158,
            -392.3593751347707,
            -378.3888196950997,
            -328.91953526306054,
            -303.5141196996473,
            -318.25215691963245,
            -316.77843501594543,
            -333.9087648142284,
            -287.57135873606865,
            -338.29912863337313,
            -346.284942290299,
            -341.1546082802546,
            -389.6754646652504,
            -383.534857311595,
            -373.3802531340952,
            -355.68806902188254,
            -361.79363598344946,
            -328.8802021094531,
            -289.45245028635287,
            -293.6614979499918,
            -340.58616796606555,
            -305.1788751233992,
            -295.9871864810669,
            -309.79476427938135,
            -331.21948658879364,
            -353.9590090169835
           ]
          },
          {
           "axis": {
            "matches": true
           },
           "label": "mfcc2_mean",
           "values": [
            22.49809168201099,
            40.66948674007691,
            28.13942860697189,
            29.777852838672406,
            -26.9129013054373,
            -10.650258784909726,
            60.91383801360013,
            23.360306658218168,
            27.71028927662792,
            9.8416596155189,
            12.696190315147433,
            21.82284206009607,
            25.40802004576601,
            12.51728528095887,
            36.98818283096763,
            37.868283524105586,
            28.9099609684865,
            40.437790611900546,
            33.65915005739662,
            20.77972998148965,
            27.089885903053702,
            27.19630669191556,
            31.190615843980012,
            38.98465078049055,
            17.146084729896636,
            22.803102074798108,
            8.96013898361513,
            17.687762730783962
           ]
          },
          {
           "axis": {
            "matches": true
           },
           "label": "onsets_mean",
           "values": [
            2.3850574712643677,
            4.286666666666667,
            2.2471264367816093,
            3.0609756097560976,
            2.34375,
            5.497175141242938,
            3.902684563758389,
            4.3119266055045875,
            4.156565656565657,
            2.324074074074074,
            3.2,
            2.8,
            3.2,
            2.4791666666666665,
            2.227979274611399,
            3.0384615384615383,
            1.9855072463768115,
            2.927536231884058,
            2.8834355828220857,
            3.446768060836502,
            4.961538461538462,
            5.058201058201059,
            3.537037037037037,
            4.543478260869565,
            3.6726190476190474,
            4.278846153846154,
            3.821875,
            3.67
           ]
          },
          {
           "axis": {
            "matches": true
           },
           "label": "onsets_std",
           "values": [
            0.9321867426293056,
            1.9160259798748962,
            1.2138415394376296,
            1.99805328616743,
            1.5887721827282573,
            2.07792892812591,
            2.9040459235355303,
            1.970876243939526,
            2.538736726185119,
            0.825840802788327,
            1.4000000000000001,
            0.9273618495495705,
            1.469693845669907,
            0.9572004173050119,
            1.138057867340241,
            1.0183232534518252,
            1.0562821541036869,
            2.142183909206015,
            1.6958724270401981,
            1.6465250340183386,
            2.370720477376876,
            2.6670235756787743,
            2.4960187778478344,
            2.800177675849486,
            1.1521048222891659,
            1.9584959435614733,
            0.7001046238777459,
            0.9279547402756236
           ]
          },
          {
           "axis": {
            "matches": true
           },
           "label": "bpm",
           "values": [
            80,
            95,
            80,
            80,
            117,
            117,
            100,
            102,
            102,
            100,
            100,
            100,
            100,
            100,
            112,
            112,
            112,
            112,
            112,
            95,
            108,
            108,
            95,
            115,
            80,
            80,
            96,
            96
           ]
          }
         ],
         "hovertemplate": "style=funk<br>%{xaxis.title.text}=%{x}<br>%{yaxis.title.text}=%{y}<extra></extra>",
         "legendgroup": "funk",
         "marker": {
          "color": "#636efa",
          "symbol": "circle"
         },
         "name": "funk",
         "showlegend": true,
         "type": "splom"
        },
        {
         "dimensions": [
          {
           "axis": {
            "matches": true
           },
           "label": "mfcc1_mean",
           "values": [
            -362.6509266419495,
            -389.22146277368574,
            -352.91861935928915,
            -438.11102634177615,
            -335.43410665876394,
            -315.3518778552284,
            -467.70187929713643,
            -428.2531439941584,
            -513.3545385310003,
            -540.0615445613457,
            -464.91743288947254,
            -329.96447046153634,
            -407.5037574371028,
            -398.8695890778414,
            -405.0440198572253,
            -278.6674143642406,
            -333.3454131458844,
            -390.10754593097516,
            -257.6375788858227,
            -417.9288124249032,
            -481.25450175820976,
            -305.61778582217477,
            -508.3420924700075,
            -486.4166865444736
           ]
          },
          {
           "axis": {
            "matches": true
           },
           "label": "mfcc2_mean",
           "values": [
            68.25337942449839,
            74.7952510334276,
            61.22701582269402,
            10.17094848105962,
            55.9253385192404,
            79.43652656037246,
            27.37366536149845,
            28.107138992068887,
            62.193399385949235,
            -25.976972564020077,
            33.07382916119299,
            71.30065950783425,
            116.61612935026785,
            84.7393748560675,
            112.12753767160213,
            87.74530323970038,
            81.9212247492504,
            109.9392421999728,
            86.16384910578839,
            69.5227315999168,
            27.804510816353016,
            45.27598456845826,
            19.91718602261493,
            35.68171071594377
           ]
          },
          {
           "axis": {
            "matches": true
           },
           "label": "onsets_mean",
           "values": [
            2.1460055096418733,
            1.4033149171270718,
            2.2034632034632033,
            1.0723404255319149,
            1.800865800865801,
            6.7317073170731705,
            1.3371212121212122,
            1.949579831932773,
            0.109375,
            0.95,
            1.25,
            2.75,
            5.1875,
            3.897727272727273,
            7.0625,
            5.5,
            3.263157894736842,
            7.352941176470588,
            4.75,
            2.0397350993377485,
            0.18181818181818182,
            5.079207920792079,
            0.3140495867768595,
            0.5852272727272727
           ]
          },
          {
           "axis": {
            "matches": true
           },
           "label": "onsets_std",
           "values": [
            2.2582946026518194,
            1.4931852768470995,
            2.299479735470791,
            1.5350794736734108,
            1.3238403842393438,
            3.905537387904569,
            1.1163322861883058,
            1.3525496588892092,
            0.3121091305537215,
            0.5894913061275798,
            1.713913650100261,
            2.5074887836239665,
            2.877037321620976,
            3.9052405720544074,
            2.536452985962878,
            1.6583123951777,
            2.4460947449731054,
            2.167708914433915,
            0.9682458365518543,
            2.470704633658439,
            0.38569460791993493,
            1.404964100995387,
            0.5147904628891714,
            0.6338984311972858
           ]
          },
          {
           "axis": {
            "matches": true
           },
           "label": "bpm",
           "values": [
            102,
            93,
            125,
            125,
            125,
            125,
            120,
            200,
            120,
            120,
            120,
            120,
            120,
            120,
            120,
            120,
            120,
            120,
            120,
            105,
            92,
            158,
            100,
            112
           ]
          }
         ],
         "hovertemplate": "style=jazz<br>%{xaxis.title.text}=%{x}<br>%{yaxis.title.text}=%{y}<extra></extra>",
         "legendgroup": "jazz",
         "marker": {
          "color": "#EF553B",
          "symbol": "circle"
         },
         "name": "jazz",
         "showlegend": true,
         "type": "splom"
        },
        {
         "dimensions": [
          {
           "axis": {
            "matches": true
           },
           "label": "mfcc1_mean",
           "values": [
            -450.0724585205305,
            -390.2581270616979,
            -388.44513751914565,
            -301.98728980052067,
            -356.37297010280037,
            -278.205321950667,
            -235.51337773710415,
            -256.8890593190659,
            -389.3805469031007,
            -339.8625602838631,
            -399.12091981038657,
            -371.7056346864247,
            -376.2804976724695,
            -520.6451312780187,
            -381.6453658553561,
            -461.91805974798314,
            -313.8912935190121,
            -446.18137345100126,
            -346.6747680532843,
            -322.43821335275965,
            -298.8304474939526,
            -345.6623223059308,
            -378.66180956120724,
            -398.43401040481206,
            -333.32213482795106,
            -427.2243422745653,
            -371.2598400611492,
            -309.67890907813063,
            -329.2306054747035,
            -323.376481804639,
            -373.73071665173217,
            -354.8122144792052,
            -364.3655104162248,
            -336.00521414308616,
            -207.85357337978286,
            -249.80707780287713,
            -219.0373493282281,
            -224.62845793366563,
            -518.9403660873693,
            -318.66338857989035,
            -254.8573170480611,
            -404.8032274994483,
            -253.65573765590653,
            -372.0758438224601,
            -360.7488996419468,
            -390.2743184079488,
            -412.9272783723884,
            -408.8974367375836,
            -343.47920845590346,
            -331.43034874968725,
            -335.47887417775854,
            -355.91820344110795,
            -356.6053475640082,
            -373.86350114813234,
            -433.1122772958632,
            -383.17844754221,
            -479.1588176505495,
            -406.82349671229906,
            -399.57180415148395,
            -397.1973712646309,
            -365.379902805273,
            -388.77504573867526,
            -360.87950232226245,
            -375.67103077958933,
            -363.03532557789373,
            -422.20199095785426,
            -420.74091162358116,
            -392.76390553152976,
            -312.2095683944902,
            -331.76629483740624,
            -345.70980830389715,
            -420.17277842681136,
            -403.9582301648102,
            -438.1439920039767,
            -402.5488787499899,
            -335.23220511009197,
            -352.4253129275669,
            -407.641312883146,
            -427.02335097209664,
            -395.7320723674288,
            -400.515973657269,
            -393.2344014411955,
            -380.25425009675087,
            -243.9615706246886,
            -326.36929783722684,
            -305.9035582720349,
            -278.18949519758655,
            -329.6303965513945,
            -316.91768826695323,
            -298.2165581574914,
            -335.5361433086999,
            -384.2229764534544,
            -381.5299635755384,
            -405.03629622973347,
            -383.3258975052404,
            -282.5779870008544,
            -251.24127330843532,
            -294.0735090976052,
            -428.68348789160024,
            -391.7094867038394,
            -383.02650538581855,
            -431.6184210201267,
            -363.9235119235476,
            -363.4138074133901,
            -301.47107546785054,
            -328.57175266906745,
            -342.7178560802951,
            -219.48981085750953,
            -411.5576537410872,
            -675.8836722492978,
            -214.42576154489447,
            -217.969487604893,
            -397.6397773441908,
            -368.6074322988531,
            -296.74668710621876,
            -388.3600905752537,
            -405.4130402518825,
            -298.32301431456017,
            -279.86682268628124,
            -291.6215508315153,
            -272.3583442486327,
            -315.95982447941054,
            -371.07384216585666,
            -249.75821218011063,
            -286.10104434973397,
            -280.0458009878876,
            -325.7748573651995,
            -351.22359068193055,
            -477.7757450074999,
            -402.7470696489997,
            -310.89967540970594,
            -302.58937760425147,
            -294.0531214637854,
            -297.7862436248466,
            -288.3071015465094,
            -273.15725487683494,
            -325.77000068162846,
            -394.79649998406677,
            -377.9963767016903,
            -337.56382158899413,
            -411.86034751244574,
            -314.7763263651059,
            -349.5014814909896,
            -317.6474907760162,
            -290.19175061321675,
            -358.024564453194,
            -383.31511292043,
            -375.74501121976795,
            -356.1041467344044,
            -361.5394061177328,
            -298.0169989893273,
            -377.19737168697526,
            -321.8511419222868,
            -344.0650924625362,
            -351.3884611277707,
            -311.87740773352635,
            -375.5319709547015,
            -337.08786517625384,
            -291.9013543186642,
            -362.5559997919907,
            -401.4739316440155,
            -357.8422151701301,
            -362.79360399834235,
            -399.66762149948113,
            -367.8715783430115,
            -331.0968646539972,
            -375.59176965602165
           ]
          },
          {
           "axis": {
            "matches": true
           },
           "label": "mfcc2_mean",
           "values": [
            23.24469110522822,
            44.07756586033144,
            34.74944595725994,
            73.7376957185701,
            41.56028637456726,
            36.57078555692397,
            1.4489196861504818,
            13.434844952497995,
            36.92516579645561,
            89.03139994847838,
            76.48754917702136,
            75.85901415941942,
            16.85468096211446,
            1.6127451497740701,
            52.21507092450757,
            29.276826969434357,
            20.068797532623204,
            30.390993642012642,
            61.16610050390282,
            101.47996383571268,
            92.54298344852381,
            86.6900533100677,
            67.31717611748947,
            31.445771126674252,
            106.54082102265642,
            -9.917445684425635,
            15.209013400795202,
            64.46131392272368,
            88.44979082680779,
            81.1196425341358,
            81.24760598702748,
            108.93096323588647,
            99.78721521481835,
            105.5600060474674,
            27.530407357570922,
            20.55106511856181,
            22.75599320478126,
            17.302818231607585,
            37.510004632278154,
            56.290277990011205,
            46.6528380203611,
            73.13248758682839,
            43.97609620178496,
            74.55855905580339,
            -4.322385721457644,
            60.717470630527075,
            78.44183844017974,
            2.8361374248542424,
            55.26154436252387,
            65.95528421212084,
            55.20909704616254,
            51.0482878799567,
            60.668416063131616,
            58.86908651753242,
            3.9618949532067695,
            10.77676086087222,
            10.508259342415721,
            86.85573294646014,
            4.726230875375757,
            11.359833485451539,
            7.018215045394291,
            53.660084245072156,
            50.42680101016754,
            62.01907180572166,
            47.39708685819933,
            74.81526378102318,
            -0.38267998991807695,
            56.77114504269186,
            58.451230492777896,
            75.74779769015291,
            62.32995354677545,
            14.215230015659767,
            74.86159141895136,
            -18.918159379224186,
            18.499979576212365,
            52.63202302187571,
            56.7070484589862,
            86.39573868695076,
            75.80711763461599,
            16.857198281988914,
            8.683106699542158,
            5.663122485051193,
            22.298756892579533,
            78.3193614013068,
            50.36490616513784,
            3.3600364109612384,
            16.193538937957978,
            45.205500310297126,
            50.447333500995306,
            44.95677006082829,
            55.36282499488636,
            24.186199478366856,
            39.48543203282463,
            44.867128249417746,
            41.67191801943709,
            29.5460239441165,
            35.964038176613414,
            35.31402221160638,
            45.588594204273285,
            49.99036011767426,
            20.11944717318058,
            1.4491126778944188,
            10.841016144739315,
            10.28560275384869,
            15.792507680650964,
            74.53481143969555,
            26.558364626747974,
            42.2075468724586,
            74.41721572707792,
            41.97672196986123,
            46.176972451390085,
            43.133205826259,
            10.329774523124348,
            12.673355622223598,
            88.96403564510584,
            16.368106531111334,
            6.463557389383277,
            27.812336987375847,
            84.19613825909705,
            23.95248392693968,
            49.22920607150643,
            81.26899194830104,
            8.142244542616929,
            54.89895707972318,
            16.32703280835364,
            35.692407614480956,
            70.41576613800795,
            26.653908526367573,
            9.778233966438135,
            36.0165451447754,
            32.26290802606481,
            44.17771998721827,
            56.639174936679005,
            36.88790345334082,
            56.521985020143255,
            55.05238597653701,
            38.38718446040107,
            18.901433164459142,
            23.934343721705336,
            79.23356380804124,
            15.061309298367885,
            70.12409146206612,
            28.94929525136835,
            -15.087417130558485,
            3.6503959521239593,
            97.92933975699495,
            82.86659989379599,
            86.72996456758538,
            38.723715037704075,
            41.549158870575575,
            1.168553128692137,
            36.61969006158397,
            63.37011596015993,
            58.066008771713584,
            23.599347237371152,
            80.01994308656471,
            74.26260557216753,
            67.51066742930358,
            84.78698407745073,
            44.62605987838799,
            68.71022014914085,
            -22.725037867317678,
            58.43754241680543,
            37.16460784525499,
            10.178434778627613,
            29.593691279484293,
            22.956737108435714
           ]
          },
          {
           "axis": {
            "matches": true
           },
           "label": "onsets_mean",
           "values": [
            1.7700892857142858,
            3.3713235294117645,
            3.339331619537275,
            9.490228013029316,
            5.186180422264875,
            7.28421052631579,
            8.852459016393443,
            7.147869674185464,
            3.1564625850340136,
            3.642857142857143,
            2.625,
            2.9558823529411766,
            3.2058823529411766,
            0.7708333333333334,
            2.8238636363636362,
            2.526315789473684,
            3.125,
            2.3125,
            4.375,
            6.75,
            6.25,
            2.5,
            5,
            3.3333333333333335,
            10,
            1.5,
            2.7386363636363638,
            2,
            4.5,
            5,
            2.8627450980392157,
            8.5,
            5.25,
            8.75,
            5.5,
            3.125,
            4.875,
            2.75,
            0.75,
            4.25,
            5.5,
            1.5714285714285714,
            5.111111111111111,
            2.6956521739130435,
            2.4057971014492754,
            2.7454545454545456,
            3.6551724137931036,
            2.409090909090909,
            3.95,
            3.8666666666666667,
            3.717948717948718,
            2.875,
            3.310344827586207,
            3.312,
            2.1176470588235294,
            3.5,
            0.8,
            4.175,
            3.095890410958904,
            3.8095238095238093,
            3.913793103448276,
            3.1818181818181817,
            4.027027027027027,
            3.259259259259259,
            3.53125,
            4.916666666666667,
            3,
            2.619047619047619,
            4.285714285714286,
            5.545454545454546,
            3.9482758620689653,
            2.857142857142857,
            4.166666666666667,
            1.95,
            2.84375,
            3.1666666666666665,
            3.3333333333333335,
            4.902439024390244,
            4.145833333333333,
            2.923076923076923,
            2.4,
            2.95,
            3.2672413793103448,
            6.566164154103853,
            3.3908045977011496,
            2.824561403508772,
            3.650537634408602,
            5.410958904109589,
            5.092485549132948,
            5.7317073170731705,
            4.700934579439252,
            2.230769230769231,
            2.9577836411609497,
            2.278745644599303,
            3.004938271604938,
            4.339285714285714,
            7.95820895522388,
            5.518072289156627,
            1.8984547461368653,
            3.78125,
            2.6846153846153844,
            1.8064516129032258,
            3.1101190476190474,
            3.287128712871287,
            4.015151515151516,
            6.454545454545454,
            3.4025974025974026,
            3.978448275862069,
            6.2,
            0,
            5.918918918918919,
            5.671232876712328,
            1.8839285714285714,
            2.765625,
            10.375,
            1.9,
            1.6724137931034482,
            4.043010752688172,
            11.291666666666666,
            4.881118881118881,
            5.015625,
            9.84375,
            3,
            5.065573770491803,
            4.684782608695652,
            4.47239263803681,
            7.875,
            3.1926605504587156,
            1.5125,
            2,
            4.13302752293578,
            4.261904761904762,
            5.782608695652174,
            3.731707317073171,
            4.575268817204301,
            4.836538461538462,
            5.023017902813299,
            2.792079207920792,
            2.466666666666667,
            4.05,
            2.375,
            4.465909090909091,
            3.843220338983051,
            3.2083333333333335,
            4.083333333333333,
            7.916666666666667,
            5.113636363636363,
            5.5064935064935066,
            3.5977011494252875,
            2.9407894736842106,
            5.083333333333333,
            2.84375,
            5.258064516129032,
            3.4100719424460433,
            3.986666666666667,
            3.9571428571428573,
            5.0625,
            3.59375,
            4.181818181818182,
            2.823529411764706,
            2.727272727272727,
            2.25,
            3.3055555555555554,
            1.6,
            3.4166666666666665,
            4.130434782608695,
            3.388888888888889
           ]
          },
          {
           "axis": {
            "matches": true
           },
           "label": "onsets_std",
           "values": [
            1.2332079215372997,
            1.3686300626063626,
            1.5186994048581175,
            2.9648981636218967,
            2.3359579650072515,
            2.2524676116747124,
            2.345809417256832,
            2.4021062652037215,
            1.8320676407919154,
            1.3942300925673667,
            0.8809322713277489,
            1.4696320420773175,
            1.7868706093040043,
            1.1590150871417602,
            1.4877144091602865,
            1.4997691419763166,
            2.3859397170367345,
            0.7680128579652817,
            4.553501400021746,
            1.7853571071357126,
            1.6393596310755,
            1.6583123951777,
            4.663689526544408,
            2.3428377854407434,
            1.5811388300841898,
            1.118033988749895,
            1.3185246419407408,
            1.5811388300841898,
            2.179449471770337,
            1.8708286933869707,
            1.3579050739749634,
            3.5,
            1.479019945774904,
            2.384848003542364,
            1.5,
            1.5360257159305635,
            1.0532687216470449,
            1.0897247358851685,
            1.299038105676658,
            1.1989578808281798,
            1.224744871391589,
            1.0033955955097849,
            2.3306863292670035,
            1.4576569229774097,
            1.2431708008120197,
            1.3010697018784219,
            1.5262273087124638,
            1.386922391126578,
            2.290742237791062,
            2.0933757957476775,
            1.5012596070055844,
            2.027159342528357,
            1.086070051587836,
            1.1413395638459223,
            0.9629826790438176,
            1.5652475842498528,
            0.7483314773547883,
            1.8423829677892702,
            1.1367387088068353,
            1.4349065879351774,
            1.5456778756017864,
            1.02851895445316,
            1.958853587598603,
            2.7834509967490275,
            2.2636305876843066,
            2.3790170706033664,
            1.632993161855452,
            1.2140522651411392,
            0.9331389496316869,
            2.01646118298353,
            1.9863535625925854,
            1.206558043744755,
            2.2852182001336816,
            0.8645808232895291,
            1.7988892695679373,
            1.536590742882148,
            1.699673171197595,
            1.7916456265567762,
            2.371616742271445,
            1.0472091208544685,
            1.624807680927192,
            1.4654350889752845,
            2.1709594201193614,
            4.461380253015669,
            2.2059983804477845,
            2.053006413518698,
            2.298064807938818,
            2.465296761365414,
            1.9804247679101235,
            1.3070986348267573,
            1.4090160500736002,
            2.311748571874994,
            1.3008263440841208,
            1.7206476663597703,
            2.2211053434735795,
            3.109758751060268,
            3.4733161604391216,
            3.4069198862374415,
            0.7796089447099327,
            2.8975676760862723,
            1.6917656474574603,
            1.4237468703686393,
            2.5265999146451357,
            1.8818393870047736,
            2.0961177985809876,
            4.250425355476713,
            2.6980499945294314,
            2.511089406203073,
            5.015974481593781,
            0,
            4.35193885575575,
            3.428545737958776,
            1.1199931099460079,
            2.788044719758813,
            3.9031237489989987,
            1.841195263952197,
            1.056799511773928,
            2.718240437992457,
            5.95454424974928,
            1.97710500546898,
            2.847653570814926,
            4.031976678689994,
            0.7071067811865476,
            2.991073344596323,
            2.955942238603185,
            2.165861404840226,
            6.0711922222904455,
            1.995302116510218,
            0.6799586384479573,
            1.8110770276274832,
            1.933697083849103,
            2.340731711091781,
            3.562565291412434,
            1.6082772216423937,
            2.9815257663617882,
            3.3572842072902778,
            2.378931845065061,
            1.3881880182180386,
            1.0873004286866728,
            1.5960889699512368,
            1.3169567191065923,
            1.7185410278671875,
            1.400966906634354,
            1.11725730648266,
            1.4976833963009524,
            3.121386800054674,
            2.7897206530966594,
            2.651259816312652,
            1.473597288325273,
            1.1654768203772075,
            1.3819269959814167,
            1.301666599978658,
            2.4556418507313875,
            2.1850141979364794,
            1.4282234496822344,
            2.0314366083827355,
            2.164161211647598,
            1.1821425199611086,
            1.4965525121049388,
            1.5929487067913648,
            1.8752410313396612,
            0.7664854858377946,
            1.2708143592997636,
            0.8,
            1.2219065248845982,
            1.0755927719002591,
            1.0613873985857112
           ]
          },
          {
           "axis": {
            "matches": true
           },
           "label": "bpm",
           "values": [
            50,
            115,
            102,
            115,
            94,
            128,
            135,
            135,
            105,
            105,
            120,
            120,
            120,
            120,
            120,
            105,
            120,
            120,
            120,
            120,
            120,
            120,
            120,
            105,
            120,
            120,
            120,
            120,
            120,
            120,
            105,
            120,
            120,
            120,
            120,
            120,
            120,
            120,
            120,
            120,
            120,
            105,
            120,
            105,
            105,
            105,
            100,
            100,
            100,
            100,
            100,
            100,
            100,
            100,
            100,
            100,
            100,
            100,
            92,
            92,
            92,
            92,
            92,
            92,
            92,
            100,
            92,
            92,
            92,
            92,
            92,
            92,
            100,
            110,
            110,
            110,
            110,
            100,
            100,
            100,
            100,
            100,
            87,
            136,
            105,
            140,
            140,
            70,
            70,
            80,
            80,
            60,
            95,
            95,
            88,
            90,
            127,
            88,
            86,
            93,
            93,
            93,
            93,
            93,
            120,
            95,
            95,
            118,
            120,
            118,
            118,
            118,
            75,
            75,
            120,
            75,
            75,
            112,
            120,
            135,
            135,
            135,
            120,
            135,
            120,
            145,
            120,
            95,
            60,
            60,
            95,
            95,
            95,
            95,
            93,
            93,
            102,
            100,
            100,
            100,
            100,
            120,
            120,
            120,
            120,
            120,
            120,
            120,
            100,
            120,
            120,
            120,
            120,
            90,
            90,
            90,
            90,
            90,
            90,
            100,
            90,
            100,
            100,
            100,
            100,
            100,
            100
           ]
          }
         ],
         "hovertemplate": "style=rock<br>%{xaxis.title.text}=%{x}<br>%{yaxis.title.text}=%{y}<extra></extra>",
         "legendgroup": "rock",
         "marker": {
          "color": "#00cc96",
          "symbol": "circle"
         },
         "name": "rock",
         "showlegend": true,
         "type": "splom"
        },
        {
         "dimensions": [
          {
           "axis": {
            "matches": true
           },
           "label": "mfcc1_mean",
           "values": [
            -393.75793302315407,
            -401.2924023054231,
            -393.38950860009385,
            -405.26075404953957,
            -397.79351746844554,
            -356.1536596886485,
            -578.1175573275185,
            -329.88378786402416,
            -318.9686775924341,
            -348.2741790813028,
            -360.1661291586194,
            -399.7714690001794,
            -423.45733315787413,
            -408.77529107198694,
            -335.57223470074257,
            -316.4789047534397,
            -294.92173454980536,
            -297.27016927970044,
            -196.67270384218844,
            -363.62697606778386,
            -333.55630441861797,
            -209.38531133195386,
            -383.76067807857817,
            -369.2577857903185,
            -429.7758309019965,
            -295.9019591245779,
            -252.40770868645836,
            -283.0276580306531
           ]
          },
          {
           "axis": {
            "matches": true
           },
           "label": "mfcc2_mean",
           "values": [
            19.99384201952463,
            13.093972137759296,
            5.85073418498658,
            -0.48121738667567915,
            1.8484908396929467,
            32.59206221620966,
            -18.98273646129336,
            12.627384787194265,
            21.830438124347083,
            31.420602396377895,
            21.346802613206197,
            19.938074434442512,
            24.039269870955195,
            23.096512685899764,
            -0.889410962776945,
            11.044012367974336,
            -1.2520941122237232,
            -1.11085383779747,
            24.893412960873825,
            29.587550613852645,
            38.48213297816145,
            11.310672919087688,
            28.366117656758735,
            35.461825035778894,
            21.53503229758089,
            -8.26251339437396,
            -24.67316398218647,
            -4.264741122253136
           ]
          },
          {
           "axis": {
            "matches": true
           },
           "label": "onsets_mean",
           "values": [
            3.518987341772152,
            3.2333333333333334,
            2.4444444444444446,
            2.5238095238095237,
            1.8181818181818181,
            4.8,
            1.5555555555555556,
            4.1521739130434785,
            5.0476190476190474,
            4.159090909090909,
            3.395348837209302,
            2.811320754716981,
            2,
            2.230769230769231,
            3.309417040358744,
            3.65625,
            4.384615384615385,
            3.793103448275862,
            6.0181818181818185,
            3.5051546391752577,
            3.5655737704918034,
            5.24113475177305,
            2.2507645259938838,
            2.779891304347826,
            2.0078125,
            3.9,
            4.21304347826087,
            3.7890625
           ]
          },
          {
           "axis": {
            "matches": true
           },
           "label": "onsets_std",
           "values": [
            2.2717904581883688,
            1.8336363385966754,
            1.1967032904743342,
            1.5922146187905226,
            1.3360853142453697,
            1.8943525090572317,
            0.4969039949999533,
            2.279086309146028,
            3.4928660693884055,
            2.713126189289445,
            1.8941714134229986,
            1.3743829321867407,
            0.9789450103725609,
            2.5666653858958357,
            1.1859608963207862,
            1.4778089426016252,
            1.3609081548426256,
            2.082427468535758,
            3.884659381772962,
            2.392530090472988,
            3.421215642730828,
            2.8093075021108724,
            0.9440580452864301,
            1.796109318454038,
            1.1238148415896114,
            1.347219358530748,
            1.2624353096904093,
            1.2446908737087092
           ]
          },
          {
           "axis": {
            "matches": true
           },
           "label": "bpm",
           "values": [
            92,
            92,
            92,
            92,
            92,
            110,
            110,
            100,
            100,
            100,
            100,
            100,
            100,
            100,
            140,
            75,
            75,
            75,
            70,
            67,
            67,
            70,
            94,
            94,
            70,
            90,
            90,
            90
           ]
          }
         ],
         "hovertemplate": "style=hiphop<br>%{xaxis.title.text}=%{x}<br>%{yaxis.title.text}=%{y}<extra></extra>",
         "legendgroup": "hiphop",
         "marker": {
          "color": "#ab63fa",
          "symbol": "circle"
         },
         "name": "hiphop",
         "showlegend": true,
         "type": "splom"
        }
       ],
       "layout": {
        "dragmode": "select",
        "legend": {
         "title": {
          "text": "style"
         },
         "tracegroupgap": 0
        },
        "margin": {
         "t": 60
        },
        "template": {
         "data": {
          "bar": [
           {
            "error_x": {
             "color": "#2a3f5f"
            },
            "error_y": {
             "color": "#2a3f5f"
            },
            "marker": {
             "line": {
              "color": "#E5ECF6",
              "width": 0.5
             }
            },
            "type": "bar"
           }
          ],
          "barpolar": [
           {
            "marker": {
             "line": {
              "color": "#E5ECF6",
              "width": 0.5
             }
            },
            "type": "barpolar"
           }
          ],
          "carpet": [
           {
            "aaxis": {
             "endlinecolor": "#2a3f5f",
             "gridcolor": "white",
             "linecolor": "white",
             "minorgridcolor": "white",
             "startlinecolor": "#2a3f5f"
            },
            "baxis": {
             "endlinecolor": "#2a3f5f",
             "gridcolor": "white",
             "linecolor": "white",
             "minorgridcolor": "white",
             "startlinecolor": "#2a3f5f"
            },
            "type": "carpet"
           }
          ],
          "choropleth": [
           {
            "colorbar": {
             "outlinewidth": 0,
             "ticks": ""
            },
            "type": "choropleth"
           }
          ],
          "contour": [
           {
            "colorbar": {
             "outlinewidth": 0,
             "ticks": ""
            },
            "colorscale": [
             [
              0,
              "#0d0887"
             ],
             [
              0.1111111111111111,
              "#46039f"
             ],
             [
              0.2222222222222222,
              "#7201a8"
             ],
             [
              0.3333333333333333,
              "#9c179e"
             ],
             [
              0.4444444444444444,
              "#bd3786"
             ],
             [
              0.5555555555555556,
              "#d8576b"
             ],
             [
              0.6666666666666666,
              "#ed7953"
             ],
             [
              0.7777777777777778,
              "#fb9f3a"
             ],
             [
              0.8888888888888888,
              "#fdca26"
             ],
             [
              1,
              "#f0f921"
             ]
            ],
            "type": "contour"
           }
          ],
          "contourcarpet": [
           {
            "colorbar": {
             "outlinewidth": 0,
             "ticks": ""
            },
            "type": "contourcarpet"
           }
          ],
          "heatmap": [
           {
            "colorbar": {
             "outlinewidth": 0,
             "ticks": ""
            },
            "colorscale": [
             [
              0,
              "#0d0887"
             ],
             [
              0.1111111111111111,
              "#46039f"
             ],
             [
              0.2222222222222222,
              "#7201a8"
             ],
             [
              0.3333333333333333,
              "#9c179e"
             ],
             [
              0.4444444444444444,
              "#bd3786"
             ],
             [
              0.5555555555555556,
              "#d8576b"
             ],
             [
              0.6666666666666666,
              "#ed7953"
             ],
             [
              0.7777777777777778,
              "#fb9f3a"
             ],
             [
              0.8888888888888888,
              "#fdca26"
             ],
             [
              1,
              "#f0f921"
             ]
            ],
            "type": "heatmap"
           }
          ],
          "heatmapgl": [
           {
            "colorbar": {
             "outlinewidth": 0,
             "ticks": ""
            },
            "colorscale": [
             [
              0,
              "#0d0887"
             ],
             [
              0.1111111111111111,
              "#46039f"
             ],
             [
              0.2222222222222222,
              "#7201a8"
             ],
             [
              0.3333333333333333,
              "#9c179e"
             ],
             [
              0.4444444444444444,
              "#bd3786"
             ],
             [
              0.5555555555555556,
              "#d8576b"
             ],
             [
              0.6666666666666666,
              "#ed7953"
             ],
             [
              0.7777777777777778,
              "#fb9f3a"
             ],
             [
              0.8888888888888888,
              "#fdca26"
             ],
             [
              1,
              "#f0f921"
             ]
            ],
            "type": "heatmapgl"
           }
          ],
          "histogram": [
           {
            "marker": {
             "colorbar": {
              "outlinewidth": 0,
              "ticks": ""
             }
            },
            "type": "histogram"
           }
          ],
          "histogram2d": [
           {
            "colorbar": {
             "outlinewidth": 0,
             "ticks": ""
            },
            "colorscale": [
             [
              0,
              "#0d0887"
             ],
             [
              0.1111111111111111,
              "#46039f"
             ],
             [
              0.2222222222222222,
              "#7201a8"
             ],
             [
              0.3333333333333333,
              "#9c179e"
             ],
             [
              0.4444444444444444,
              "#bd3786"
             ],
             [
              0.5555555555555556,
              "#d8576b"
             ],
             [
              0.6666666666666666,
              "#ed7953"
             ],
             [
              0.7777777777777778,
              "#fb9f3a"
             ],
             [
              0.8888888888888888,
              "#fdca26"
             ],
             [
              1,
              "#f0f921"
             ]
            ],
            "type": "histogram2d"
           }
          ],
          "histogram2dcontour": [
           {
            "colorbar": {
             "outlinewidth": 0,
             "ticks": ""
            },
            "colorscale": [
             [
              0,
              "#0d0887"
             ],
             [
              0.1111111111111111,
              "#46039f"
             ],
             [
              0.2222222222222222,
              "#7201a8"
             ],
             [
              0.3333333333333333,
              "#9c179e"
             ],
             [
              0.4444444444444444,
              "#bd3786"
             ],
             [
              0.5555555555555556,
              "#d8576b"
             ],
             [
              0.6666666666666666,
              "#ed7953"
             ],
             [
              0.7777777777777778,
              "#fb9f3a"
             ],
             [
              0.8888888888888888,
              "#fdca26"
             ],
             [
              1,
              "#f0f921"
             ]
            ],
            "type": "histogram2dcontour"
           }
          ],
          "mesh3d": [
           {
            "colorbar": {
             "outlinewidth": 0,
             "ticks": ""
            },
            "type": "mesh3d"
           }
          ],
          "parcoords": [
           {
            "line": {
             "colorbar": {
              "outlinewidth": 0,
              "ticks": ""
             }
            },
            "type": "parcoords"
           }
          ],
          "pie": [
           {
            "automargin": true,
            "type": "pie"
           }
          ],
          "scatter": [
           {
            "marker": {
             "colorbar": {
              "outlinewidth": 0,
              "ticks": ""
             }
            },
            "type": "scatter"
           }
          ],
          "scatter3d": [
           {
            "line": {
             "colorbar": {
              "outlinewidth": 0,
              "ticks": ""
             }
            },
            "marker": {
             "colorbar": {
              "outlinewidth": 0,
              "ticks": ""
             }
            },
            "type": "scatter3d"
           }
          ],
          "scattercarpet": [
           {
            "marker": {
             "colorbar": {
              "outlinewidth": 0,
              "ticks": ""
             }
            },
            "type": "scattercarpet"
           }
          ],
          "scattergeo": [
           {
            "marker": {
             "colorbar": {
              "outlinewidth": 0,
              "ticks": ""
             }
            },
            "type": "scattergeo"
           }
          ],
          "scattergl": [
           {
            "marker": {
             "colorbar": {
              "outlinewidth": 0,
              "ticks": ""
             }
            },
            "type": "scattergl"
           }
          ],
          "scattermapbox": [
           {
            "marker": {
             "colorbar": {
              "outlinewidth": 0,
              "ticks": ""
             }
            },
            "type": "scattermapbox"
           }
          ],
          "scatterpolar": [
           {
            "marker": {
             "colorbar": {
              "outlinewidth": 0,
              "ticks": ""
             }
            },
            "type": "scatterpolar"
           }
          ],
          "scatterpolargl": [
           {
            "marker": {
             "colorbar": {
              "outlinewidth": 0,
              "ticks": ""
             }
            },
            "type": "scatterpolargl"
           }
          ],
          "scatterternary": [
           {
            "marker": {
             "colorbar": {
              "outlinewidth": 0,
              "ticks": ""
             }
            },
            "type": "scatterternary"
           }
          ],
          "surface": [
           {
            "colorbar": {
             "outlinewidth": 0,
             "ticks": ""
            },
            "colorscale": [
             [
              0,
              "#0d0887"
             ],
             [
              0.1111111111111111,
              "#46039f"
             ],
             [
              0.2222222222222222,
              "#7201a8"
             ],
             [
              0.3333333333333333,
              "#9c179e"
             ],
             [
              0.4444444444444444,
              "#bd3786"
             ],
             [
              0.5555555555555556,
              "#d8576b"
             ],
             [
              0.6666666666666666,
              "#ed7953"
             ],
             [
              0.7777777777777778,
              "#fb9f3a"
             ],
             [
              0.8888888888888888,
              "#fdca26"
             ],
             [
              1,
              "#f0f921"
             ]
            ],
            "type": "surface"
           }
          ],
          "table": [
           {
            "cells": {
             "fill": {
              "color": "#EBF0F8"
             },
             "line": {
              "color": "white"
             }
            },
            "header": {
             "fill": {
              "color": "#C8D4E3"
             },
             "line": {
              "color": "white"
             }
            },
            "type": "table"
           }
          ]
         },
         "layout": {
          "annotationdefaults": {
           "arrowcolor": "#2a3f5f",
           "arrowhead": 0,
           "arrowwidth": 1
          },
          "autotypenumbers": "strict",
          "coloraxis": {
           "colorbar": {
            "outlinewidth": 0,
            "ticks": ""
           }
          },
          "colorscale": {
           "diverging": [
            [
             0,
             "#8e0152"
            ],
            [
             0.1,
             "#c51b7d"
            ],
            [
             0.2,
             "#de77ae"
            ],
            [
             0.3,
             "#f1b6da"
            ],
            [
             0.4,
             "#fde0ef"
            ],
            [
             0.5,
             "#f7f7f7"
            ],
            [
             0.6,
             "#e6f5d0"
            ],
            [
             0.7,
             "#b8e186"
            ],
            [
             0.8,
             "#7fbc41"
            ],
            [
             0.9,
             "#4d9221"
            ],
            [
             1,
             "#276419"
            ]
           ],
           "sequential": [
            [
             0,
             "#0d0887"
            ],
            [
             0.1111111111111111,
             "#46039f"
            ],
            [
             0.2222222222222222,
             "#7201a8"
            ],
            [
             0.3333333333333333,
             "#9c179e"
            ],
            [
             0.4444444444444444,
             "#bd3786"
            ],
            [
             0.5555555555555556,
             "#d8576b"
            ],
            [
             0.6666666666666666,
             "#ed7953"
            ],
            [
             0.7777777777777778,
             "#fb9f3a"
            ],
            [
             0.8888888888888888,
             "#fdca26"
            ],
            [
             1,
             "#f0f921"
            ]
           ],
           "sequentialminus": [
            [
             0,
             "#0d0887"
            ],
            [
             0.1111111111111111,
             "#46039f"
            ],
            [
             0.2222222222222222,
             "#7201a8"
            ],
            [
             0.3333333333333333,
             "#9c179e"
            ],
            [
             0.4444444444444444,
             "#bd3786"
            ],
            [
             0.5555555555555556,
             "#d8576b"
            ],
            [
             0.6666666666666666,
             "#ed7953"
            ],
            [
             0.7777777777777778,
             "#fb9f3a"
            ],
            [
             0.8888888888888888,
             "#fdca26"
            ],
            [
             1,
             "#f0f921"
            ]
           ]
          },
          "colorway": [
           "#636efa",
           "#EF553B",
           "#00cc96",
           "#ab63fa",
           "#FFA15A",
           "#19d3f3",
           "#FF6692",
           "#B6E880",
           "#FF97FF",
           "#FECB52"
          ],
          "font": {
           "color": "#2a3f5f"
          },
          "geo": {
           "bgcolor": "white",
           "lakecolor": "white",
           "landcolor": "#E5ECF6",
           "showlakes": true,
           "showland": true,
           "subunitcolor": "white"
          },
          "hoverlabel": {
           "align": "left"
          },
          "hovermode": "closest",
          "mapbox": {
           "style": "light"
          },
          "paper_bgcolor": "white",
          "plot_bgcolor": "#E5ECF6",
          "polar": {
           "angularaxis": {
            "gridcolor": "white",
            "linecolor": "white",
            "ticks": ""
           },
           "bgcolor": "#E5ECF6",
           "radialaxis": {
            "gridcolor": "white",
            "linecolor": "white",
            "ticks": ""
           }
          },
          "scene": {
           "xaxis": {
            "backgroundcolor": "#E5ECF6",
            "gridcolor": "white",
            "gridwidth": 2,
            "linecolor": "white",
            "showbackground": true,
            "ticks": "",
            "zerolinecolor": "white"
           },
           "yaxis": {
            "backgroundcolor": "#E5ECF6",
            "gridcolor": "white",
            "gridwidth": 2,
            "linecolor": "white",
            "showbackground": true,
            "ticks": "",
            "zerolinecolor": "white"
           },
           "zaxis": {
            "backgroundcolor": "#E5ECF6",
            "gridcolor": "white",
            "gridwidth": 2,
            "linecolor": "white",
            "showbackground": true,
            "ticks": "",
            "zerolinecolor": "white"
           }
          },
          "shapedefaults": {
           "line": {
            "color": "#2a3f5f"
           }
          },
          "ternary": {
           "aaxis": {
            "gridcolor": "white",
            "linecolor": "white",
            "ticks": ""
           },
           "baxis": {
            "gridcolor": "white",
            "linecolor": "white",
            "ticks": ""
           },
           "bgcolor": "#E5ECF6",
           "caxis": {
            "gridcolor": "white",
            "linecolor": "white",
            "ticks": ""
           }
          },
          "title": {
           "x": 0.05
          },
          "xaxis": {
           "automargin": true,
           "gridcolor": "white",
           "linecolor": "white",
           "ticks": "",
           "title": {
            "standoff": 15
           },
           "zerolinecolor": "white",
           "zerolinewidth": 2
          },
          "yaxis": {
           "automargin": true,
           "gridcolor": "white",
           "linecolor": "white",
           "ticks": "",
           "title": {
            "standoff": 15
           },
           "zerolinecolor": "white",
           "zerolinewidth": 2
          }
         }
        }
       }
      }
     },
     "metadata": {},
     "output_type": "display_data"
    }
   ],
   "source": [
    "import plotly.express as px\n",
    "lst=df.columns\n",
    "lst=['style','bpm','mfcc1_mean', 'mfcc2_mean', 'mfcc3_mean',\n",
    "       'mfcc4_mean', 'mfcc5_mean', 'mfcc6_mean', 'mfcc7_mean', 'mfcc8_mean',\n",
    "       'mfcc9_mean', 'mfcc10_mean', 'mfcc11_mean', 'mfcc12_mean',\n",
    "       'mfcc13_mean', 'mfcc1_std', 'mfcc2_std', 'mfcc3_std', 'mfcc4_std',\n",
    "       'mfcc5_std', 'mfcc6_std', 'mfcc7_std', 'mfcc8_std', 'mfcc9_std',\n",
    "       'mfcc10_std', 'mfcc11_std', 'mfcc12_std', 'mfcc13_std',\n",
    "       'delta_mfcc1_mean', 'delta_mfcc2_mean', 'delta_mfcc3_mean',\n",
    "       'delta_mfcc4_mean', 'delta_mfcc5_mean', 'delta_mfcc6_mean',\n",
    "       'delta_mfcc7_mean', 'delta_mfcc8_mean', 'delta_mfcc9_mean',\n",
    "       'delta_mfcc10_mean', 'delta_mfcc11_mean', 'delta_mfcc12_mean',\n",
    "       'delta_mfcc13_mean', 'delta_mfcc1_std', 'delta_mfcc2_std',\n",
    "       'delta_mfcc3_std', 'delta_mfcc4_std', 'delta_mfcc5_std',\n",
    "       'delta_mfcc6_std', 'delta_mfcc7_std', 'delta_mfcc8_std',\n",
    "       'delta_mfcc9_std', 'delta_mfcc10_std', 'delta_mfcc11_std',\n",
    "       'delta_mfcc12_std', 'delta_mfcc13_std',\\\n",
    "       'centroid_mean','centroid_std','rms_mean','rms_std','zcr_mean','zcr_std','crest_mean','crest_std','flux_mean','flux_std','onsets_mean', 'onsets_std','onsets_mid_mean', 'onsets_mid_std',\n",
    "       'onsets_high_mean', 'onsets_high_std']\n",
    "fig = px.scatter_matrix(df[lst],dimensions=['mfcc1_mean', 'mfcc2_mean','onsets_mean','onsets_std','bpm'],color='style')\n",
    "fig.show()"
   ]
  },
  {
   "cell_type": "code",
   "execution_count": 26,
   "metadata": {},
   "outputs": [],
   "source": [
    "X_allfeatures = df[['mfcc1_mean', 'mfcc2_mean', 'mfcc3_mean',\n",
    "       'mfcc4_mean', 'mfcc5_mean', 'mfcc6_mean', 'mfcc7_mean', 'mfcc8_mean',\n",
    "       'mfcc9_mean', 'mfcc10_mean', 'mfcc11_mean', 'mfcc12_mean',\n",
    "       'mfcc13_mean', 'mfcc1_std', 'mfcc2_std', 'mfcc3_std', 'mfcc4_std',\n",
    "       'mfcc5_std', 'mfcc6_std', 'mfcc7_std', 'mfcc8_std', 'mfcc9_std',\n",
    "       'mfcc10_std', 'mfcc11_std', 'mfcc12_std', 'mfcc13_std',\n",
    "       'delta_mfcc1_mean', 'delta_mfcc2_mean', 'delta_mfcc3_mean',\n",
    "       'delta_mfcc4_mean', 'delta_mfcc5_mean', 'delta_mfcc6_mean',\n",
    "       'delta_mfcc7_mean', 'delta_mfcc8_mean', 'delta_mfcc9_mean',\n",
    "       'delta_mfcc10_mean', 'delta_mfcc11_mean', 'delta_mfcc12_mean',\n",
    "       'delta_mfcc13_mean', 'delta_mfcc1_std', 'delta_mfcc2_std',\n",
    "       'delta_mfcc3_std', 'delta_mfcc4_std', 'delta_mfcc5_std',\n",
    "       'delta_mfcc6_std', 'delta_mfcc7_std', 'delta_mfcc8_std',\n",
    "       'delta_mfcc9_std', 'delta_mfcc10_std', 'delta_mfcc11_std',\n",
    "       'delta_mfcc12_std', 'delta_mfcc13_std',\\\n",
    "       'centroid_mean','centroid_std','rms_mean','rms_std','zcr_mean',\n",
    "       'zcr_std','crest_mean','crest_std','flux_mean','flux_std',\n",
    "       'onsets_mean', 'onsets_std','onsets_mid_mean', 'onsets_mid_std',\n",
    "       'onsets_high_mean', 'onsets_high_std']]\n",
    "\n",
    "y=df[['style']]"
   ]
  },
  {
   "cell_type": "code",
   "execution_count": 27,
   "metadata": {},
   "outputs": [
    {
     "name": "stdout",
     "output_type": "stream",
     "text": [
      "Index(['mfcc1_mean', 'mfcc2_mean', 'mfcc3_mean', 'mfcc4_mean', 'mfcc5_mean',\n",
      "       'mfcc6_mean', 'mfcc7_mean', 'mfcc8_mean', 'mfcc9_mean', 'mfcc10_mean',\n",
      "       'mfcc11_mean', 'mfcc12_mean', 'mfcc13_mean', 'mfcc1_std', 'mfcc2_std',\n",
      "       'mfcc3_std', 'mfcc4_std', 'mfcc5_std', 'mfcc6_std', 'mfcc7_std',\n",
      "       'mfcc8_std', 'mfcc9_std', 'mfcc10_std', 'mfcc11_std', 'mfcc12_std',\n",
      "       'mfcc13_std', 'delta_mfcc1_std', 'delta_mfcc2_std', 'centroid_mean',\n",
      "       'centroid_std', 'rms_mean', 'rms_std', 'onsets_mean', 'onsets_std'],\n",
      "      dtype='object')\n",
      "34\n"
     ]
    }
   ],
   "source": [
    "#FEATURE SELECTION\n",
    "from sklearn.feature_selection import VarianceThreshold\n",
    "selector = VarianceThreshold(threshold=0.5) # Variance threshold \n",
    "sel = selector.fit(X_allfeatures)\n",
    "sel_index = sel.get_support()\n",
    "X_vt = X_allfeatures.iloc[:, sel_index]\n",
    "print(X_vt.columns)\n",
    "print(len(X_vt.columns))"
   ]
  },
  {
   "cell_type": "code",
   "execution_count": 28,
   "metadata": {},
   "outputs": [
    {
     "name": "stderr",
     "output_type": "stream",
     "text": [
      "/usr/local/lib/python3.9/site-packages/sklearn/utils/validation.py:63: DataConversionWarning:\n",
      "\n",
      "A column-vector y was passed when a 1d array was expected. Please change the shape of y to (n_samples, ), for example using ravel().\n",
      "\n"
     ]
    },
    {
     "name": "stdout",
     "output_type": "stream",
     "text": [
      "mfcc1_std 0.19571416472480374\n",
      "flux_mean 0.18946082626843608\n",
      "delta_mfcc1_std 0.17146268280202936\n",
      "flux_std 0.1691835113249054\n",
      "mfcc2_mean 0.16391999508760668\n",
      "mfcc9_mean 0.1564266169681845\n",
      "delta_mfcc10_std 0.15125969257156835\n",
      "zcr_std 0.1498671756544192\n",
      "mfcc13_mean 0.14709893638139127\n",
      "mfcc8_mean 0.14374131132867474\n",
      "delta_mfcc2_std 0.14059785386746948\n",
      "mfcc11_mean 0.13268130431894432\n",
      "centroid_std 0.1267104351178172\n",
      "mfcc10_mean 0.12365698771666\n",
      "rms_std 0.12150884656847638\n",
      "centroid_mean 0.1196435291237734\n",
      "onsets_mid_std 0.1165737382301828\n",
      "delta_mfcc13_mean 0.11574028517528401\n",
      "mfcc13_std 0.11167288387253627\n",
      "mfcc2_std 0.11028943724045215\n",
      "delta_mfcc2_mean 0.10480984695020523\n",
      "delta_mfcc3_std 0.10225179505608484\n",
      "delta_mfcc8_std 0.09714559465137595\n",
      "rms_mean 0.09557731555876336\n",
      "delta_mfcc9_std 0.09517276092111637\n",
      "Index(['mfcc1_std', 'flux_mean', 'delta_mfcc1_std', 'flux_std', 'mfcc2_mean',\n",
      "       'mfcc9_mean', 'delta_mfcc10_std', 'zcr_std', 'mfcc13_mean',\n",
      "       'mfcc8_mean', 'delta_mfcc2_std', 'mfcc11_mean', 'centroid_std',\n",
      "       'mfcc10_mean', 'rms_std', 'centroid_mean', 'onsets_mid_std',\n",
      "       'delta_mfcc13_mean', 'mfcc13_std', 'mfcc2_std', 'delta_mfcc2_mean',\n",
      "       'delta_mfcc3_std', 'delta_mfcc8_std', 'rms_mean', 'delta_mfcc9_std'],\n",
      "      dtype='object')\n"
     ]
    }
   ],
   "source": [
    "from sklearn.feature_selection import mutual_info_classif\n",
    "threshold = 25  # the number of most relevant features\n",
    "high_score_features = []\n",
    "feature_scores = mutual_info_classif(X_allfeatures, y, random_state=0)\n",
    "for score, f_name in sorted(zip(feature_scores, X_allfeatures.columns), reverse=True)[:threshold]:\n",
    "        print(f_name, score)\n",
    "        high_score_features.append(f_name)\n",
    "X_mic = X_allfeatures[high_score_features]\n",
    "print(X_mic.columns)"
   ]
  },
  {
   "cell_type": "code",
   "execution_count": 70,
   "metadata": {},
   "outputs": [],
   "source": [
    "features=['mfcc1_std', 'flux_mean', 'delta_mfcc1_std', 'flux_std', 'mfcc2_mean',\n",
    "       'mfcc9_mean', 'delta_mfcc10_std', 'zcr_std', 'mfcc13_mean',\n",
    "       'mfcc8_mean', 'delta_mfcc2_std', 'mfcc11_mean', 'centroid_std',\n",
    "       'mfcc10_mean', 'rms_std', 'centroid_mean', 'onsets_mid_std',\n",
    "       'delta_mfcc13_mean', 'mfcc13_std', 'mfcc2_std', 'delta_mfcc2_mean',\n",
    "       'delta_mfcc3_std', 'delta_mfcc8_std', 'rms_mean', 'delta_mfcc9_std']\n",
    "X = df[features]\n",
    "y=df[['style']]\n",
    "\n",
    "X_train, X_test, y_train, y_test = train_test_split(X, y, test_size=0.3,random_state=29)\n",
    "\n",
    "X_train = X_train.to_numpy()\n",
    "X_test = X_test.to_numpy()\n",
    "y_train = y_train.to_numpy()\n",
    "y_test = y_test.to_numpy()\n",
    "\n",
    "from sklearn.preprocessing import StandardScaler\n",
    "scaler = StandardScaler()\n",
    "X_train = scaler.fit_transform(X_train)\n",
    "X_test = scaler.transform(X_test)"
   ]
  },
  {
   "cell_type": "code",
   "execution_count": 71,
   "metadata": {},
   "outputs": [
    {
     "name": "stdout",
     "output_type": "stream",
     "text": [
      "-------------------------------------------------------------------------------\n",
      "            KNN             \n",
      "-------------------------------------------------------------------------------\n",
      "Confusion Matrix:\n",
      " [[ 6  1  0  2]\n",
      " [ 0  4  0  4]\n",
      " [ 0  1  1  6]\n",
      " [ 2  0  1 47]]\n",
      "[[0.66666667 0.125      0.         0.04      ]\n",
      " [0.         0.5        0.         0.08      ]\n",
      " [0.         0.125      0.125      0.12      ]\n",
      " [0.22222222 0.         0.125      0.94      ]]\n",
      "Accuracy score: 0.7733333333333333\n",
      "Macro accuracy score: 0.5579166666666666\n",
      "F1 score: 0.5849240613676663\n",
      "-------------------------------------------------------------------------------\n",
      "            SVM             \n",
      "-------------------------------------------------------------------------------\n",
      "[[ 6  0  0  3]\n",
      " [ 0  0  0  8]\n",
      " [ 0  0  6  2]\n",
      " [ 0  0  2 48]]\n",
      "[[0.66666667 0.         0.         0.06      ]\n",
      " [0.         0.         0.         0.16      ]\n",
      " [0.         0.         0.75       0.04      ]\n",
      " [0.         0.         0.25       0.96      ]]\n",
      "Accuracy Score:  0.8\n",
      "Macro accuracy Score: 0.5941666666666666\n",
      "F1 score: 0.6037162162162162\n",
      "-------------------------------------------------------------------------------\n",
      "            RF              \n",
      "-------------------------------------------------------------------------------\n"
     ]
    },
    {
     "name": "stderr",
     "output_type": "stream",
     "text": [
      "/usr/local/lib/python3.9/site-packages/sklearn/neighbors/_classification.py:179: DataConversionWarning:\n",
      "\n",
      "A column-vector y was passed when a 1d array was expected. Please change the shape of y to (n_samples,), for example using ravel().\n",
      "\n",
      "/usr/local/lib/python3.9/site-packages/sklearn/utils/validation.py:63: DataConversionWarning:\n",
      "\n",
      "A column-vector y was passed when a 1d array was expected. Please change the shape of y to (n_samples, ), for example using ravel().\n",
      "\n",
      "<ipython-input-71-e3552dc5464e>:44: DataConversionWarning:\n",
      "\n",
      "A column-vector y was passed when a 1d array was expected. Please change the shape of y to (n_samples,), for example using ravel().\n",
      "\n"
     ]
    },
    {
     "name": "stdout",
     "output_type": "stream",
     "text": [
      "[[ 6  0  0  3]\n",
      " [ 0  3  0  5]\n",
      " [ 0  0  5  3]\n",
      " [ 0  1  2 47]]\n",
      "[[0.66666667 0.         0.         0.06      ]\n",
      " [0.         0.375      0.         0.1       ]\n",
      " [0.         0.         0.625      0.06      ]\n",
      " [0.         0.125      0.25       0.94      ]]\n",
      "Accuracy Score:  0.8133333333333334\n",
      "Macro accuracy Score: 0.6516666666666666\n",
      "F1 score: 0.7092592592592593\n"
     ]
    }
   ],
   "source": [
    "print(\"-------------------------------------------------------------------------------\")\n",
    "print(\"            KNN             \")\n",
    "print(\"-------------------------------------------------------------------------------\")\n",
    "#k= [int(x) for x in range(4,10)]\n",
    "#knn_grid = {'n_neighbors':k}\n",
    "\n",
    "\n",
    "KNN_model = KNeighborsClassifier(n_neighbors=7)\n",
    "#KNN_model=RandomizedSearchCV(estimator = knn, param_distributions=knn_grid,cv=10,verbose=2,n_jobs=4)\n",
    "KNN_model.fit(X_train, y_train)\n",
    "#print(KNN_model.best_params_)\n",
    "KNN_prediction = KNN_model.predict(X_test)\n",
    "score=balanced_accuracy_score(y_test, KNN_prediction)\n",
    "accuracy = accuracy_score(y_test, KNN_prediction)\n",
    "f1=f1_score(y_test,KNN_prediction,average='macro')\n",
    "cm = confusion_matrix(y_test, KNN_prediction) # clean, highfry, layered, lowfry, midfry, no vocals\n",
    "print(f\"Confusion Matrix:\\n {cm}\")\n",
    "print(cm/cm.sum(axis=1))\n",
    "print(f\"Accuracy score: {accuracy}\")\n",
    "print(f\"Macro accuracy score: {score}\")\n",
    "print(f\"F1 score: {f1}\")\n",
    "\n",
    "print(\"-------------------------------------------------------------------------------\")\n",
    "print(\"            SVM             \")\n",
    "print(\"-------------------------------------------------------------------------------\")\n",
    "SVM_model = make_pipeline(StandardScaler(), SVC(kernel='poly',gamma='scale',degree=3,decision_function_shape='ovr',coef0=0.7000000000000001,C=1.053475672085955,random_state=0))\n",
    "SVM_model.fit(X_train, y_train)\n",
    "SVM_prediction = SVM_model.predict(X_test)\n",
    "score=balanced_accuracy_score(y_test, SVM_prediction)\n",
    "cm = confusion_matrix(y_test, SVM_prediction) # clean, highfry, layered, lowfry, midfry, no vocals\n",
    "f1=f1_score(y_test,SVM_prediction,average='macro')\n",
    "acc = accuracy_score(y_test, SVM_prediction)\n",
    "print(cm)\n",
    "print(cm/cm.sum(axis=1))\n",
    "print(\"Accuracy Score: \",acc)\n",
    "print(\"Macro accuracy Score:\",score)\n",
    "print(f\"F1 score: {f1}\")\n",
    "\n",
    "print(\"-------------------------------------------------------------------------------\")\n",
    "print(\"            RF              \")\n",
    "print(\"-------------------------------------------------------------------------------\")\n",
    "\n",
    "RF_model = RandomForestClassifier(n_estimators=800,min_samples_split = 8, min_samples_leaf = 2,max_leaf_nodes = 29, max_depth = 796, criterion = 'entropy',class_weight='balanced',random_state=0)\n",
    "RF_model.fit(X_train, y_train)\n",
    "RF_prediction = RF_model.predict(X_test)\n",
    "score=balanced_accuracy_score(y_test, RF_prediction)\n",
    "cm = confusion_matrix(y_test, RF_prediction) # clean, highfry, layered, lowfry, midfry, no vocals\n",
    "f1=f1_score(y_test,RF_prediction,average='macro')\n",
    "acc = accuracy_score(y_test, RF_prediction)\n",
    "print(cm)\n",
    "print(cm/cm.sum(axis=1))\n",
    "print(\"Accuracy Score: \",acc)\n",
    "print(\"Macro accuracy Score:\",score)\n",
    "print(f\"F1 score: {f1}\")"
   ]
  },
  {
   "cell_type": "code",
   "execution_count": null,
   "metadata": {},
   "outputs": [],
   "source": [
    "cv_acc=[]\n",
    "cv_std=[]\n",
    "\n",
    "scores = cross_validate(RF_model, X_train, y_train, cv=10)\n",
    "cv_acc.append(scores['test_score'].mean())\n",
    "cv_std.append(scores['test_score'].std())\n",
    "print(\"Accuracy: %0.2f (+/- %0.4f)\" % (scores['test_score'].mean(), scores['test_score'].std() * 2))"
   ]
  }
 ],
 "metadata": {
  "interpreter": {
   "hash": "aee8b7b246df8f9039afb4144a1f6fd8d2ca17a180786b69acc140d282b71a49"
  },
  "kernelspec": {
   "display_name": "Python 3.9.7 64-bit",
   "language": "python",
   "name": "python3"
  },
  "language_info": {
   "codemirror_mode": {
    "name": "ipython",
    "version": 3
   },
   "file_extension": ".py",
   "mimetype": "text/x-python",
   "name": "python",
   "nbconvert_exporter": "python",
   "pygments_lexer": "ipython3",
   "version": "3.9.7"
  },
  "orig_nbformat": 4
 },
 "nbformat": 4,
 "nbformat_minor": 2
}
