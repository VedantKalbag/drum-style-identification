{
 "cells": [
  {
   "cell_type": "code",
   "execution_count": 18,
   "metadata": {},
   "outputs": [],
   "source": [
    "import os\n",
    "import numpy as np\n",
    "import scipy\n",
    "from scipy.io import wavfile\n",
    "import scipy.fftpack as fft\n",
    "from scipy.signal import get_window\n",
    "import matplotlib.pyplot as plt\n",
    "import math\n",
    "import librosa\n",
    "\n",
    "from sklearn.model_selection import train_test_split\n",
    "from sklearn.neighbors import KNeighborsClassifier\n",
    "from sklearn.svm import SVC\n",
    "from sklearn.ensemble import RandomForestClassifier\n",
    "from sklearn.metrics import confusion_matrix\n",
    "from sklearn.metrics import precision_score\n",
    "from sklearn.preprocessing import StandardScaler\n",
    "from sklearn.pipeline import make_pipeline\n",
    "from sklearn.metrics import accuracy_score\n",
    "import warnings\n",
    "from sklearn.exceptions import DataConversionWarning\n",
    "from sklearn.model_selection import RandomizedSearchCV"
   ]
  },
  {
   "cell_type": "markdown",
   "metadata": {},
   "source": [
    "# kNN classifier code"
   ]
  },
  {
   "cell_type": "code",
   "execution_count": null,
   "metadata": {},
   "outputs": [],
   "source": [
    "import numpy as np\n",
    "from scipy.stats import mode\n",
    " \n",
    "def eucledian(p1,p2):\n",
    "    dist = np.sqrt(np.sum((p1-p2)**2))\n",
    "    return dist\n",
    "\n",
    "def predict(x_train, y , x_input, k):\n",
    "    op_labels = []\n",
    "    for item in x_input: \n",
    "        point_dist=np.zeros(x_input.shape[0])\n",
    "        for j in range(len(x_train)): \n",
    "            distances = eucledian(np.array(x_train[j,:]) , item)\n",
    "            point_dist.append(distances) \n",
    "        point_dist = np.array(point_dist) \n",
    "        dist = np.argsort(point_dist)[:k] \n",
    "        labels = y[dist]\n",
    "        lab = mode(labels) \n",
    "        lab = lab.mode[0]\n",
    "        op_labels.append(lab)\n",
    " \n",
    "    return op_labels"
   ]
  },
  {
   "cell_type": "markdown",
   "metadata": {},
   "source": [
    "# Feature Extraction"
   ]
  },
  {
   "cell_type": "markdown",
   "metadata": {},
   "source": [
    "## Vggish"
   ]
  },
  {
   "cell_type": "code",
   "execution_count": 2,
   "metadata": {},
   "outputs": [],
   "source": [
    "import tensorflow as tf\n",
    "import tensorflow_hub as hub\n",
    "import numpy as np\n",
    "import librosa\n",
    "vggmodel = hub.load('https://tfhub.dev/google/vggish/1')\n",
    "\n",
    "def embedding_from_fn(fn):\n",
    "    x, sr = librosa.load(fn,sr=None)\n",
    "    x_16k = librosa.resample(x,sr,16000) #resample to 16KHz\n",
    "    embedding = np.array(vggmodel(x_16k))\n",
    "    return embedding"
   ]
  },
  {
   "cell_type": "markdown",
   "metadata": {},
   "source": [
    "## Info csv load"
   ]
  },
  {
   "cell_type": "code",
   "execution_count": 19,
   "metadata": {},
   "outputs": [],
   "source": [
    "relevant_genres = ['funk', 'hiphop', 'jazz', 'rock']"
   ]
  },
  {
   "cell_type": "code",
   "execution_count": 20,
   "metadata": {},
   "outputs": [],
   "source": [
    "from scipy.io.wavfile import read as wavread\n",
    "def ToolReadAudio(cAudioFilePath):    \n",
    "    [samplerate, x] = wavread(cAudioFilePath)    \n",
    "    if x.dtype == 'float32':        \n",
    "        audio = x    \n",
    "    else:        \n",
    "        # change range to [-1,1)        \n",
    "        if x.dtype == 'uint8':            \n",
    "            nbits = 8        \n",
    "        elif x.dtype == 'int16':            \n",
    "            nbits = 16        \n",
    "        elif x.dtype == 'int32':            \n",
    "            nbits = 32        \n",
    "        audio = x / float(2**(nbits - 1))    \n",
    "        # special case of unsigned format    \n",
    "    if x.dtype == 'uint8':        \n",
    "        audio = audio - 1.    \n",
    "    return (samplerate, audio)"
   ]
  },
  {
   "cell_type": "code",
   "execution_count": 21,
   "metadata": {},
   "outputs": [],
   "source": [
    "import pandas as pd\n",
    "info = pd.read_csv('./groove/info.csv')\n",
    "#df=info[info['style'].isin(relevant_genres)]\n",
    "\n",
    "#df.pivot(index='style', columns='beat_type', values='audio_filename')\n",
    "df = pd.pivot_table(info, values='audio_filename', index=['style'],\n",
    "                    columns=['beat_type'], aggfunc='count')\n",
    "#df[df['beat'] >= 20]\n",
    "\n",
    "info = info[info['style'].isin(relevant_genres)]\n",
    "info = info[info['beat_type'] == \"beat\"]\n",
    "info = info[info['audio_filename'].notna()].reset_index()\n",
    "#locs = info['audio_filename'].to_numpy()\n"
   ]
  },
  {
   "cell_type": "code",
   "execution_count": 6,
   "metadata": {},
   "outputs": [
    {
     "data": {
      "text/html": [
       "<div>\n",
       "<style scoped>\n",
       "    .dataframe tbody tr th:only-of-type {\n",
       "        vertical-align: middle;\n",
       "    }\n",
       "\n",
       "    .dataframe tbody tr th {\n",
       "        vertical-align: top;\n",
       "    }\n",
       "\n",
       "    .dataframe thead th {\n",
       "        text-align: right;\n",
       "    }\n",
       "</style>\n",
       "<table border=\"1\" class=\"dataframe\">\n",
       "  <thead>\n",
       "    <tr style=\"text-align: right;\">\n",
       "      <th></th>\n",
       "      <th>index</th>\n",
       "      <th>drummer</th>\n",
       "      <th>session</th>\n",
       "      <th>id</th>\n",
       "      <th>bpm</th>\n",
       "      <th>beat_type</th>\n",
       "      <th>time_signature</th>\n",
       "      <th>midi_filename</th>\n",
       "      <th>audio_filename</th>\n",
       "      <th>duration</th>\n",
       "      <th>split</th>\n",
       "    </tr>\n",
       "    <tr>\n",
       "      <th>style</th>\n",
       "      <th></th>\n",
       "      <th></th>\n",
       "      <th></th>\n",
       "      <th></th>\n",
       "      <th></th>\n",
       "      <th></th>\n",
       "      <th></th>\n",
       "      <th></th>\n",
       "      <th></th>\n",
       "      <th></th>\n",
       "      <th></th>\n",
       "    </tr>\n",
       "  </thead>\n",
       "  <tbody>\n",
       "    <tr>\n",
       "      <th>funk</th>\n",
       "      <td>28</td>\n",
       "      <td>28</td>\n",
       "      <td>28</td>\n",
       "      <td>28</td>\n",
       "      <td>28</td>\n",
       "      <td>28</td>\n",
       "      <td>28</td>\n",
       "      <td>28</td>\n",
       "      <td>28</td>\n",
       "      <td>28</td>\n",
       "      <td>28</td>\n",
       "    </tr>\n",
       "    <tr>\n",
       "      <th>hiphop</th>\n",
       "      <td>28</td>\n",
       "      <td>28</td>\n",
       "      <td>28</td>\n",
       "      <td>28</td>\n",
       "      <td>28</td>\n",
       "      <td>28</td>\n",
       "      <td>28</td>\n",
       "      <td>28</td>\n",
       "      <td>28</td>\n",
       "      <td>28</td>\n",
       "      <td>28</td>\n",
       "    </tr>\n",
       "    <tr>\n",
       "      <th>jazz</th>\n",
       "      <td>24</td>\n",
       "      <td>24</td>\n",
       "      <td>24</td>\n",
       "      <td>24</td>\n",
       "      <td>24</td>\n",
       "      <td>24</td>\n",
       "      <td>24</td>\n",
       "      <td>24</td>\n",
       "      <td>24</td>\n",
       "      <td>24</td>\n",
       "      <td>24</td>\n",
       "    </tr>\n",
       "    <tr>\n",
       "      <th>rock</th>\n",
       "      <td>171</td>\n",
       "      <td>171</td>\n",
       "      <td>171</td>\n",
       "      <td>171</td>\n",
       "      <td>171</td>\n",
       "      <td>171</td>\n",
       "      <td>171</td>\n",
       "      <td>171</td>\n",
       "      <td>171</td>\n",
       "      <td>171</td>\n",
       "      <td>171</td>\n",
       "    </tr>\n",
       "  </tbody>\n",
       "</table>\n",
       "</div>"
      ],
      "text/plain": [
       "        index  drummer  session   id  bpm  beat_type  time_signature  \\\n",
       "style                                                                  \n",
       "funk       28       28       28   28   28         28              28   \n",
       "hiphop     28       28       28   28   28         28              28   \n",
       "jazz       24       24       24   24   24         24              24   \n",
       "rock      171      171      171  171  171        171             171   \n",
       "\n",
       "        midi_filename  audio_filename  duration  split  \n",
       "style                                                   \n",
       "funk               28              28        28     28  \n",
       "hiphop             28              28        28     28  \n",
       "jazz               24              24        24     24  \n",
       "rock              171             171       171    171  "
      ]
     },
     "execution_count": 6,
     "metadata": {},
     "output_type": "execute_result"
    }
   ],
   "source": [
    "info.groupby('style').count()"
   ]
  },
  {
   "cell_type": "markdown",
   "metadata": {},
   "source": [
    "## Loading and Normalizing (and converting to Mono) Audio"
   ]
  },
  {
   "cell_type": "code",
   "execution_count": 7,
   "metadata": {},
   "outputs": [
    {
     "data": {
      "text/plain": [
       "'drummer1/session1/1_funk_80_beat_4-4.wav'"
      ]
     },
     "execution_count": 7,
     "metadata": {},
     "output_type": "execute_result"
    }
   ],
   "source": [
    "info['audio_filename'][0]"
   ]
  },
  {
   "cell_type": "code",
   "execution_count": 8,
   "metadata": {},
   "outputs": [
    {
     "name": "stderr",
     "output_type": "stream",
     "text": [
      "<ipython-input-4-70eaf167f057>:3: WavFileWarning: Chunk (non-data) not understood, skipping it.\n",
      "  [samplerate, x] = wavread(cAudioFilePath)\n"
     ]
    },
    {
     "data": {
      "text/plain": [
       "2"
      ]
     },
     "execution_count": 8,
     "metadata": {},
     "output_type": "execute_result"
    }
   ],
   "source": [
    "sr,audio = ToolReadAudio('./groove/'+'drummer1/session1/1_funk_80_beat_4-4.wav')\n",
    "audio.shape[-1]"
   ]
  },
  {
   "cell_type": "markdown",
   "metadata": {},
   "source": [
    "# Feature Extraction and Pre-Processing"
   ]
  },
  {
   "cell_type": "code",
   "execution_count": 22,
   "metadata": {},
   "outputs": [
    {
     "name": "stderr",
     "output_type": "stream",
     "text": [
      "<ipython-input-20-70eaf167f057>:3: WavFileWarning:\n",
      "\n",
      "Chunk (non-data) not understood, skipping it.\n",
      "\n",
      "<ipython-input-22-771846dd385f>:8: SettingWithCopyWarning:\n",
      "\n",
      "\n",
      "A value is trying to be set on a copy of a slice from a DataFrame\n",
      "\n",
      "See the caveats in the documentation: https://pandas.pydata.org/pandas-docs/stable/user_guide/indexing.html#returning-a-view-versus-a-copy\n",
      "\n",
      "<ipython-input-22-771846dd385f>:10: SettingWithCopyWarning:\n",
      "\n",
      "\n",
      "A value is trying to be set on a copy of a slice from a DataFrame\n",
      "\n",
      "See the caveats in the documentation: https://pandas.pydata.org/pandas-docs/stable/user_guide/indexing.html#returning-a-view-versus-a-copy\n",
      "\n"
     ]
    },
    {
     "name": "stdout",
     "output_type": "stream",
     "text": [
      "Error, dropping row\n",
      "size of info is now: 250\n",
      "Error, dropping row\n",
      "size of info is now: 249\n",
      "Error, dropping row\n",
      "size of info is now: 248\n",
      "Error, dropping row\n",
      "size of info is now: 247\n"
     ]
    }
   ],
   "source": [
    "info['audio'] = ''\n",
    "for index, row in info.iterrows():\n",
    "    #if index % 10 == 0:\n",
    "        #print(index)\n",
    "    try:\n",
    "        sr,audio = ToolReadAudio('./groove/'+row['audio_filename'])\n",
    "        if audio.shape[-1] == 2:\n",
    "            info['audio'][index] = np.mean(audio,axis=1)\n",
    "        else:\n",
    "            info['audio'][index] = audio\n",
    "        #info['audio'][index] = audio\n",
    "    except Exception as e: # Some files are unable to be read by scipy's wavfile read, so skipping them and removing the corresponding rows\n",
    "        info.drop(index,inplace=True)\n",
    "        #print(e)\n",
    "        \n",
    "        print(\"Error, dropping row\")\n",
    "        print(f\"size of info is now: {len(info)}\")\n",
    "info.reset_index(drop=True, inplace=True)\n",
    "info.drop('index',axis=1,inplace=True)"
   ]
  },
  {
   "cell_type": "code",
   "execution_count": 23,
   "metadata": {},
   "outputs": [],
   "source": [
    "def block_audio(x,blockSize,hopSize,fs):    \n",
    "    # allocate memory    \n",
    "    numBlocks = math.ceil(x.size / hopSize)    \n",
    "    xb = np.zeros([numBlocks, blockSize])    \n",
    "    # compute time stamps    \n",
    "    t = (np.arange(0, numBlocks) * hopSize) / fs   \n",
    "    x = np.concatenate((x, np.zeros(blockSize)),axis=0)    \n",
    "    for n in range(0, numBlocks):        \n",
    "        i_start = n * hopSize        \n",
    "        i_stop = np.min([x.size - 1, i_start + blockSize - 1])        \n",
    "        xb[n][np.arange(0,blockSize)] = x[np.arange(i_start, i_stop + 1)]    \n",
    "    return (xb,t)"
   ]
  },
  {
   "cell_type": "code",
   "execution_count": 70,
   "metadata": {},
   "outputs": [],
   "source": [
    "xb,t = block_audio(audio,2048,1024,44100)"
   ]
  },
  {
   "cell_type": "code",
   "execution_count": 24,
   "metadata": {},
   "outputs": [],
   "source": [
    "def agg_mfccs(x):\n",
    "    mfccs = librosa.feature.mfcc(x,n_mfcc = 13)\n",
    "    mean = [np.mean(feature) for feature in mfccs]\n",
    "    std = [np.std(feature) for feature in mfccs]\n",
    "    mfcc_delta = librosa.feature.delta(mfccs)\n",
    "    delta_mean=[np.mean(feature) for feature in mfcc_delta]\n",
    "    delta_std=[np.std(feature) for feature in mfcc_delta]\n",
    "    return mean,std,delta_mean,delta_std"
   ]
  },
  {
   "cell_type": "code",
   "execution_count": 25,
   "metadata": {},
   "outputs": [],
   "source": [
    "def extract_spectral_centroid(xb, fs):\n",
    "    centroids = np.zeros(xb.shape[0])\n",
    "    stft,freqs = calc_stft(xb,fs)\n",
    "    #np.sum(magnitudes*freqs) / np.sum(magnitudes)\n",
    "    for i in range(freqs.shape[0]):\n",
    "        if np.all(stft[i] == 0):\n",
    "            pass\n",
    "        else:\n",
    "            centroid = np.sum(stft[i]*freqs[i]) / np.sum(stft[i])\n",
    "            centroids[i]=centroid\n",
    "        #centroids.append(centroid)\n",
    "    #centroids=np.array(centroids)\n",
    "    return centroids\n",
    "\n",
    "def extract_spectral_centroid(xb, fs):\n",
    "    centroids = np.zeros(xb.shape[0])\n",
    "    stft,freqs = calc_stft(xb,fs)\n",
    "    #np.sum(magnitudes*freqs) / np.sum(magnitudes)\n",
    "    for i in range(freqs.shape[0]):\n",
    "        if np.all(stft[i] == 0):\n",
    "            pass\n",
    "        else:\n",
    "            centroid = np.sum(stft[i]*freqs[i]) / np.sum(stft[i])\n",
    "            centroids[i]=centroid\n",
    "        #centroids.append(centroid)\n",
    "    #centroids=np.array(centroids)\n",
    "    return centroids\n",
    "def calc_stft(xb,fs=44100):\n",
    "    stft = np.zeros((xb.shape[0],(int(xb[0].shape[0]/2)+1)))\n",
    "    freqs = np.zeros((xb.shape[0],(int(xb[0].shape[0]/2)+1)))\n",
    "    window = np.hanning(xb[0].shape[0])\n",
    "    for i in range(xb.shape[0]):\n",
    "        block= xb[i]\n",
    "        # Apply Window to the block\n",
    "        windowed_block = window * block \n",
    "        stft_blk = np.fft.fft(windowed_block)\n",
    "        #stft_blk = np.fft.rfft(windowed_block)\n",
    "        freq=np.fft.fftfreq(block.size,1/fs)\n",
    "        freqs[i]=freq[:int(block.size/2)+1]\n",
    "        stft_blk = np.abs(stft_blk)\n",
    "        #stft_block = stft_blk[int((stft_blk.shape[0])/2):]\n",
    "        stft_block = stft_blk[:int(((stft_blk.shape[0])/2)+1)]\n",
    "        #stft_db = 10*np.log10(stft_block) # IS THIS CORRECT??\n",
    "        stft[i]=stft_block#stft_db\n",
    "    stft = np.array(stft)\n",
    "    freqs=np.array(freqs)\n",
    "    return stft,freqs\n",
    "\n",
    "def extract_spectral_centroid(xb, fs):\n",
    "    centroids = np.zeros(xb.shape[0])\n",
    "    stft,freqs = calc_stft(xb,fs)\n",
    "    #np.sum(magnitudes*freqs) / np.sum(magnitudes)\n",
    "    for i in range(freqs.shape[0]):\n",
    "        if np.all(stft[i] == 0):\n",
    "            pass\n",
    "        else:\n",
    "            centroid = np.sum(stft[i]*freqs[i]) / np.sum(stft[i])\n",
    "            centroids[i]=centroid\n",
    "        #centroids.append(centroid)\n",
    "    #centroids=np.array(centroids)\n",
    "    return centroids\n",
    "\n",
    "def extract_rms(xb):\n",
    "    rms = np.zeros(xb.shape[0])\n",
    "    for i in range(xb.shape[0]):\n",
    "        if np.all(xb[i] == 0):\n",
    "            r = 0.00001\n",
    "        else:\n",
    "            block = xb[i]\n",
    "            r = np.sqrt(np.sum(block**2)/xb.shape[0])\n",
    "            if r <= 0.00001: # Done to handle case when rms is 0 (for a block of all zeros\n",
    "                r = 0.00001\n",
    "            #rms.append(r)\n",
    "        rms[i] = r\n",
    "    #rms=np.array(rms)\n",
    "    return 20*np.log10(rms)#rms,20*np.log10(rms) # What is reference value to convert to dB? Is it 1?\n",
    "\n",
    "def extract_zerocrossingrate(xb):\n",
    "    zcr= np.zeros(xb.shape[0])\n",
    "    for i in range(xb.shape[0]):\n",
    "        if np.all(xb[i] == 0):\n",
    "            pass\n",
    "        else:\n",
    "            block = xb[i]\n",
    "            zero_crossings = np.sum(np.abs(np.diff(np.sign(block)))) / block.shape[0] #np.nonzero(np.diff(block > 0))[0].size\n",
    "            #zcr.append(zero_crossings)\n",
    "            zcr[i] = zero_crossings \n",
    "    #zcr = np.array(zcr)\n",
    "    return zcr\n",
    "\n",
    "def extract_spectral_crest(xb):\n",
    "    crest = np.zeros(xb.shape[0])\n",
    "    stft,freqs = calc_stft(xb,44100)\n",
    "    for i in range(stft.shape[0]):\n",
    "        if np.all(stft[i] == 0):\n",
    "            pass\n",
    "        else:\n",
    "            #crest.append((np.max(stft[i])/np.sum(stft[i])))\n",
    "            crest[i] = np.max(stft[i])/np.sum(stft[i])\n",
    "    #crest = np.array(crest)\n",
    "    return crest\n",
    "\n",
    "def extract_spectral_flux(xb):\n",
    "    num_blocks=xb.shape[0] \n",
    "    blockSize = xb.shape[1]\n",
    "    spectral_flux = np.zeros(num_blocks)\n",
    "    stft,freqs = calc_stft(xb,44100)\n",
    "    fft_len= stft.shape[1]\n",
    "    n = 0\n",
    "    k = 0\n",
    "    for n in range(1,num_blocks):\n",
    "        if np.all(stft[n] == 0):\n",
    "            pass\n",
    "        else:\n",
    "            sum_flux = 0\n",
    "            for k in range(fft_len):\n",
    "                f = (abs(stft[n, k]) - abs(stft[n-1, k]))**2\n",
    "                sum_flux += f\n",
    "            flux = np.sqrt(sum_flux)/((blockSize/2)+1)\n",
    "            spectral_flux[n] = flux #first flux value will be 0\n",
    "    return spectral_flux\n",
    "def get_novelty(xb):\n",
    "    N = 2048#xb.shape[1]\n",
    "    w = scipy.signal.hann(N)\n",
    "    novelty=np.zeros([xb.shape[0],xb.shape[1]])\n",
    "    for i in range(xb.shape[0]):\n",
    "        xb_square = xb[i]**2\n",
    "        energy_local = np.convolve(xb_square, w**2, 'same')\n",
    "        energy_local_diff = np.diff(energy_local)\n",
    "        energy_local_diff = np.concatenate((energy_local_diff, np.array([0])))\n",
    "        novelty_energy = np.copy(energy_local_diff)\n",
    "        novelty_energy[energy_local_diff < 0] = 0\n",
    "        novelty[i] = novelty_energy\n",
    "    return novelty\n",
    "def get_num_onsets(novelty,thresh):\n",
    "    onsets=np.zeros(novelty.shape[0])\n",
    "    for i in range(novelty.shape[0]):\n",
    "        p = scipy.signal.find_peaks(novelty[i])[0]\n",
    "        onsets[i]=(novelty[i][p] >= thresh).sum()\n",
    "    return onsets\n",
    "def get_onset_data(xb,threshold):\n",
    "    novelty=get_novelty(xb)\n",
    "    onsets = get_num_onsets(novelty,threshold)\n",
    "    return onsets#, (onsets/durationInSecs)\n",
    "\n",
    "from scipy.signal import butter, lfilter\n",
    "\n",
    "def butter_bandpass(lowcut, highcut, fs, order=5):\n",
    "    nyq = 0.5 * fs\n",
    "    low = lowcut / nyq\n",
    "    high = highcut / nyq\n",
    "    b, a = butter(order, [low, high], btype='band')\n",
    "    return b, a\n",
    "\n",
    "def butter_bandpass_filter(data, lowcut, highcut, fs, order=5):\n",
    "    b, a = butter_bandpass(lowcut, highcut, fs, order=order)\n",
    "    y = lfilter(b, a, data)\n",
    "    return y\n",
    "\n",
    "def get_onsets_in_freq_bands(x,blockSize,hopSize,fs,threshold=0.001,fl1=20,fh1=400,fl2=400,fh2=3000,fl3=8000,fh3=15000):\n",
    "    x1 = butter_bandpass_filter(x,fl1,fh1,fs)\n",
    "    x2 = butter_bandpass_filter(x,fl2,fh2,fs)\n",
    "    x3 = butter_bandpass_filter(x,fl3,fh3,fs)\n",
    "\n",
    "    xb1,_ = block_audio(x1,blockSize,hopSize,fs)\n",
    "    xb2,_ = block_audio(x2,blockSize,hopSize,fs)\n",
    "    xb3,_ = block_audio(x3,blockSize,hopSize,fs)\n",
    "\n",
    "    onsets1 = get_onset_data(xb1,0.0000001)\n",
    "    onsets2 = get_onset_data(xb2,0.0001)\n",
    "    onsets3 = get_onset_data(xb3,0.00001)\n",
    "    return onsets1, onsets2, onsets3\n",
    "\n",
    "def extract_manual_features(x,fs):\n",
    "\n",
    "    xb,ts = block_audio(x,2048,1024,fs)\n",
    "    centroid = extract_spectral_centroid(xb,fs)\n",
    "    rms = extract_rms(xb)\n",
    "    zcr = extract_zerocrossingrate(xb)\n",
    "    crest = extract_spectral_crest(xb)\n",
    "    flux = extract_spectral_flux(xb)\n",
    "\n",
    "    centroid_mean = np.mean(centroid)\n",
    "    centroid_std = np.std(centroid)\n",
    "\n",
    "    rms_mean = np.mean(rms)\n",
    "    rms_std = np.std(rms)\n",
    "\n",
    "    zcr_mean = np.mean(zcr)\n",
    "    zcr_std = np.std(zcr)\n",
    "\n",
    "    crest_mean = np.mean(crest)\n",
    "    crest_std = np.std(crest)\n",
    "\n",
    "    flux_mean = np.mean(flux)\n",
    "    flux_std = np.std(flux)\n",
    "\n",
    "    xb2,ts2 = block_audio(x,int(fs*1),int(fs*0.5),fs)\n",
    "    onsets = get_onset_data(xb2,0.001)\n",
    "\n",
    "    onsets_mean = np.mean(onsets)\n",
    "    onsets_std = np.std(onsets)\n",
    "\n",
    "    onsets1,onsets2,onsets3 = get_onsets_in_freq_bands(x,2048,1024,fs)\n",
    "    # onsets1_mean = np.mean(onsets1)\n",
    "    onsets2_mean = np.mean(onsets2)\n",
    "    onsets3_mean = np.mean(onsets3)\n",
    "    \n",
    "    # onsets1_std = np.std(onsets1)\n",
    "    onsets2_std = np.std(onsets2)\n",
    "    onsets3_std = np.std(onsets3)\n",
    "\n",
    "    return centroid_mean, centroid_std, rms_mean, rms_std, zcr_mean, zcr_std, crest_mean, crest_std, \\\n",
    "        flux_mean,flux_std,onsets_mean,onsets_std,onsets2_mean,onsets3_mean,onsets2_std,onsets3_std"
   ]
  },
  {
   "cell_type": "code",
   "execution_count": 75,
   "metadata": {},
   "outputs": [
    {
     "data": {
      "text/plain": [
       "[<matplotlib.lines.Line2D at 0x1759b7790>]"
      ]
     },
     "execution_count": 75,
     "metadata": {},
     "output_type": "execute_result"
    },
    {
     "data": {
      "image/png": "[encoded data removed]",
      "text/plain": [
       "<Figure size 432x288 with 1 Axes>"
      ]
     },
     "metadata": {
      "needs_background": "light"
     },
     "output_type": "display_data"
    }
   ],
   "source": [
    "x = df['audio'][0]\n",
    "x_low=butter_bandpass_filter(x,100,1000,fs)\n",
    "plt.plot(x_low)"
   ]
  },
  {
   "cell_type": "code",
   "execution_count": 63,
   "metadata": {},
   "outputs": [
    {
     "ename": "ParameterError",
     "evalue": "Audio buffer is not finite everywhere",
     "output_type": "error",
     "traceback": [
      "\u001b[0;31m---------------------------------------------------------------------------\u001b[0m",
      "\u001b[0;31mParameterError\u001b[0m                            Traceback (most recent call last)",
      "\u001b[0;32m<ipython-input-63-551732d4fef1>\u001b[0m in \u001b[0;36m<module>\u001b[0;34m\u001b[0m\n\u001b[1;32m      1\u001b[0m \u001b[0;32mimport\u001b[0m \u001b[0mlibrosa\u001b[0m\u001b[0;34m.\u001b[0m\u001b[0mdisplay\u001b[0m\u001b[0;34m\u001b[0m\u001b[0;34m\u001b[0m\u001b[0m\n\u001b[0;32m----> 2\u001b[0;31m \u001b[0mD\u001b[0m \u001b[0;34m=\u001b[0m \u001b[0mlibrosa\u001b[0m\u001b[0;34m.\u001b[0m\u001b[0mamplitude_to_db\u001b[0m\u001b[0;34m(\u001b[0m\u001b[0mnp\u001b[0m\u001b[0;34m.\u001b[0m\u001b[0mabs\u001b[0m\u001b[0;34m(\u001b[0m\u001b[0mlibrosa\u001b[0m\u001b[0;34m.\u001b[0m\u001b[0mstft\u001b[0m\u001b[0;34m(\u001b[0m\u001b[0mx_low\u001b[0m\u001b[0;34m)\u001b[0m\u001b[0;34m)\u001b[0m\u001b[0;34m,\u001b[0m \u001b[0mref\u001b[0m\u001b[0;34m=\u001b[0m\u001b[0mnp\u001b[0m\u001b[0;34m.\u001b[0m\u001b[0mmax\u001b[0m\u001b[0;34m)\u001b[0m\u001b[0;34m\u001b[0m\u001b[0;34m\u001b[0m\u001b[0m\n\u001b[0m\u001b[1;32m      3\u001b[0m \u001b[0mlibrosa\u001b[0m\u001b[0;34m.\u001b[0m\u001b[0mdisplay\u001b[0m\u001b[0;34m.\u001b[0m\u001b[0mspecshow\u001b[0m\u001b[0;34m(\u001b[0m\u001b[0mD\u001b[0m\u001b[0;34m,\u001b[0m\u001b[0msr\u001b[0m\u001b[0;34m=\u001b[0m\u001b[0;36m44100\u001b[0m\u001b[0;34m)\u001b[0m\u001b[0;34m\u001b[0m\u001b[0;34m\u001b[0m\u001b[0m\n",
      "\u001b[0;32m/usr/local/lib/python3.9/site-packages/librosa/core/spectrum.py\u001b[0m in \u001b[0;36mstft\u001b[0;34m(y, n_fft, hop_length, win_length, window, center, dtype, pad_mode)\u001b[0m\n\u001b[1;32m    215\u001b[0m \u001b[0;34m\u001b[0m\u001b[0m\n\u001b[1;32m    216\u001b[0m     \u001b[0;31m# Check audio is valid\u001b[0m\u001b[0;34m\u001b[0m\u001b[0;34m\u001b[0m\u001b[0m\n\u001b[0;32m--> 217\u001b[0;31m     \u001b[0mutil\u001b[0m\u001b[0;34m.\u001b[0m\u001b[0mvalid_audio\u001b[0m\u001b[0;34m(\u001b[0m\u001b[0my\u001b[0m\u001b[0;34m)\u001b[0m\u001b[0;34m\u001b[0m\u001b[0;34m\u001b[0m\u001b[0m\n\u001b[0m\u001b[1;32m    218\u001b[0m \u001b[0;34m\u001b[0m\u001b[0m\n\u001b[1;32m    219\u001b[0m     \u001b[0;31m# Pad the time series so that frames are centered\u001b[0m\u001b[0;34m\u001b[0m\u001b[0;34m\u001b[0m\u001b[0m\n",
      "\u001b[0;32m/usr/local/lib/python3.9/site-packages/librosa/util/utils.py\u001b[0m in \u001b[0;36mvalid_audio\u001b[0;34m(y, mono)\u001b[0m\n\u001b[1;32m    308\u001b[0m \u001b[0;34m\u001b[0m\u001b[0m\n\u001b[1;32m    309\u001b[0m     \u001b[0;32mif\u001b[0m \u001b[0;32mnot\u001b[0m \u001b[0mnp\u001b[0m\u001b[0;34m.\u001b[0m\u001b[0misfinite\u001b[0m\u001b[0;34m(\u001b[0m\u001b[0my\u001b[0m\u001b[0;34m)\u001b[0m\u001b[0;34m.\u001b[0m\u001b[0mall\u001b[0m\u001b[0;34m(\u001b[0m\u001b[0;34m)\u001b[0m\u001b[0;34m:\u001b[0m\u001b[0;34m\u001b[0m\u001b[0;34m\u001b[0m\u001b[0m\n\u001b[0;32m--> 310\u001b[0;31m         \u001b[0;32mraise\u001b[0m \u001b[0mParameterError\u001b[0m\u001b[0;34m(\u001b[0m\u001b[0;34m\"Audio buffer is not finite everywhere\"\u001b[0m\u001b[0;34m)\u001b[0m\u001b[0;34m\u001b[0m\u001b[0;34m\u001b[0m\u001b[0m\n\u001b[0m\u001b[1;32m    311\u001b[0m \u001b[0;34m\u001b[0m\u001b[0m\n\u001b[1;32m    312\u001b[0m     \u001b[0;32mreturn\u001b[0m \u001b[0;32mTrue\u001b[0m\u001b[0;34m\u001b[0m\u001b[0;34m\u001b[0m\u001b[0m\n",
      "\u001b[0;31mParameterError\u001b[0m: Audio buffer is not finite everywhere"
     ]
    }
   ],
   "source": [
    "import librosa.display\n",
    "D = librosa.amplitude_to_db(np.abs(librosa.stft(x_low)), ref=np.max)\n",
    "librosa.display.specshow(D,sr=44100)"
   ]
  },
  {
   "cell_type": "code",
   "execution_count": 58,
   "metadata": {},
   "outputs": [
    {
     "name": "stderr",
     "output_type": "stream",
     "text": [
      "<ipython-input-57-11c1127e17f2>:127: RuntimeWarning:\n",
      "\n",
      "overflow encountered in square\n",
      "\n"
     ]
    },
    {
     "name": "stdout",
     "output_type": "stream",
     "text": [
      "[0. 0. 0. 1. 2. 2. 2. 1. 1. 3. 3. 2. 3. 2. 1. 2. 1. 1. 3. 2. 1. 3. 2. 1.\n",
      " 3. 3. 1. 2. 3. 2. 3. 4. 2. 3. 3. 2. 3. 3. 2. 3. 4. 3. 3. 2. 1. 3. 3. 2.\n",
      " 1. 1. 2. 3. 3. 2. 2. 1. 1. 2. 3. 3. 2. 2. 2. 3. 3. 2. 3. 2. 1. 3. 3. 2.\n",
      " 3. 3. 2. 2. 2. 2. 2. 1. 1. 3. 3. 2. 3. 3. 2. 2. 2. 2. 2. 1. 0. 2. 4. 2.\n",
      " 2. 2. 1. 3. 4. 2. 2. 2. 0. 3. 5. 3. 3. 3. 1. 2. 4. 3. 3. 4. 2. 2. 4. 3.\n",
      " 3. 4. 3. 3. 4. 3. 3. 3. 2. 3. 3. 2. 3. 3. 2. 3. 3. 2. 3. 3. 2. 3. 3. 2.\n",
      " 3. 3. 2. 2. 3. 4. 4. 3. 2. 3. 3. 2. 3. 3. 2. 3. 3. 2. 2. 1. 1. 3. 3. 2.\n",
      " 3. 2. 1. 3. 5. 3.]\n",
      "[0. 0. 0. 1. 0. 0. 0. 0. 0. 0. 0. 0. 0. 0. 0. 0. 0. 0. 0. 0. 0. 0. 0. 0.\n",
      " 0. 0. 0. 0. 0. 0. 0. 0. 0. 0. 0. 0. 0. 0. 0. 0. 0. 0. 0. 0. 0. 0. 0. 0.\n",
      " 0. 0. 0. 0. 0. 0. 0. 0. 0. 0. 0. 0. 0. 0. 0. 0. 0. 0. 0. 0. 0. 0. 0. 0.\n",
      " 0. 0. 0. 0. 0. 0. 0. 0. 0. 0. 0. 0. 0. 0. 0. 0. 0. 0. 0. 0. 0. 0. 0. 0.\n",
      " 0. 0. 0. 0. 0. 0. 0. 0. 0. 0. 0. 0. 0. 0. 0. 0. 0. 0. 0. 0. 0. 0. 0. 0.\n",
      " 0. 0. 0. 0. 0. 0. 0. 0. 0. 0. 0. 0. 0. 0. 0. 0. 0. 0. 0. 0. 0. 0. 0. 0.\n",
      " 0. 0. 0. 0. 0. 0. 0. 0. 0. 0. 0. 0. 0. 0. 0. 0. 0. 0. 0. 0. 0. 0. 0. 0.\n",
      " 0. 0. 0. 0. 0. 0.]\n",
      "[0. 0. 0. 0. 0. 0. 0. 0. 0. 0. 0. 0. 1. 1. 0. 0. 0. 0. 1. 1. 0. 1. 1. 0.\n",
      " 1. 2. 1. 1. 1. 0. 1. 1. 0. 1. 2. 1. 0. 1. 1. 0. 1. 1. 1. 1. 0. 1. 1. 0.\n",
      " 0. 1. 1. 1. 1. 0. 1. 1. 0. 0. 0. 0. 1. 1. 0. 1. 1. 0. 1. 1. 0. 1. 1. 0.\n",
      " 0. 1. 1. 0. 0. 0. 1. 1. 0. 1. 1. 0. 1. 2. 1. 0. 0. 0. 1. 1. 0. 1. 1. 0.\n",
      " 1. 1. 0. 1. 1. 0. 1. 1. 0. 1. 2. 1. 1. 1. 0. 1. 1. 0. 1. 1. 0. 1. 1. 0.\n",
      " 1. 1. 0. 1. 1. 0. 1. 2. 1. 1. 2. 1. 0. 0. 0. 0. 0. 0. 0. 0. 0. 0. 0. 0.\n",
      " 0. 0. 0. 1. 3. 2. 1. 1. 0. 0. 1. 1. 1. 2. 1. 1. 1. 0. 1. 1. 0. 0. 0. 0.\n",
      " 1. 1. 0. 1. 2. 1.]\n",
      "[0. 0. 0. 0. 2. 3. 3. 5. 5. 5. 4. 4. 4. 4. 4. 4. 4. 3. 2. 4. 5. 4. 5. 5.\n",
      " 4. 4. 4. 3. 3. 3. 3. 4. 3. 3. 5. 4. 3. 6. 6. 5. 6. 5. 5. 6. 5. 4. 5. 5.\n",
      " 2. 2. 3. 4. 6. 5. 3. 4. 5. 5. 6. 4. 3. 5. 5. 6. 7. 4. 3. 5. 5. 5. 7. 6.\n",
      " 5. 7. 6. 4. 5. 5. 4. 5. 5. 5. 6. 5. 5. 7. 6. 5. 7. 7. 3. 4. 5. 4. 5. 5.\n",
      " 5. 5. 5. 4. 5. 4. 4. 6. 5. 5. 5. 5. 5. 5. 4. 3. 4. 3. 2. 3. 3. 3. 5. 5.\n",
      " 4. 4. 3. 3. 5. 5. 3. 4. 5. 3. 3. 4. 3. 3. 4. 4. 4. 4. 5. 6. 5. 5. 6. 5.\n",
      " 5. 6. 5. 4. 4. 4. 4. 5. 5. 3. 3. 4. 3. 4. 4. 3. 4. 2. 1. 4. 4. 3. 5. 3.\n",
      " 2. 5. 4. 2. 2. 1.]\n"
     ]
    }
   ],
   "source": [
    "xb2,ts2 = block_audio(x,int(fs*1),int(fs*0.5),fs)\n",
    "y= get_onset_data(xb2,0.001)\n",
    "a,b,c=get_onsets_in_freq_bands(x,int(fs*1),int(fs*0.5),fs)\n",
    "print(y)\n",
    "print(a)\n",
    "print(b)\n",
    "print(c)"
   ]
  },
  {
   "cell_type": "code",
   "execution_count": 38,
   "metadata": {},
   "outputs": [],
   "source": [
    "x = df['audio'][0]\n",
    "x\n",
    "fs=44100"
   ]
  },
  {
   "cell_type": "code",
   "execution_count": 79,
   "metadata": {},
   "outputs": [
    {
     "name": "stderr",
     "output_type": "stream",
     "text": [
      "<ipython-input-79-7e338f95f05a>:35: SettingWithCopyWarning:\n",
      "\n",
      "\n",
      "A value is trying to be set on a copy of a slice from a DataFrame\n",
      "\n",
      "See the caveats in the documentation: https://pandas.pydata.org/pandas-docs/stable/user_guide/indexing.html#returning-a-view-versus-a-copy\n",
      "\n",
      "<ipython-input-79-7e338f95f05a>:36: SettingWithCopyWarning:\n",
      "\n",
      "\n",
      "A value is trying to be set on a copy of a slice from a DataFrame\n",
      "\n",
      "See the caveats in the documentation: https://pandas.pydata.org/pandas-docs/stable/user_guide/indexing.html#returning-a-view-versus-a-copy\n",
      "\n",
      "<ipython-input-79-7e338f95f05a>:37: SettingWithCopyWarning:\n",
      "\n",
      "\n",
      "A value is trying to be set on a copy of a slice from a DataFrame\n",
      "\n",
      "See the caveats in the documentation: https://pandas.pydata.org/pandas-docs/stable/user_guide/indexing.html#returning-a-view-versus-a-copy\n",
      "\n",
      "<ipython-input-79-7e338f95f05a>:38: SettingWithCopyWarning:\n",
      "\n",
      "\n",
      "A value is trying to be set on a copy of a slice from a DataFrame\n",
      "\n",
      "See the caveats in the documentation: https://pandas.pydata.org/pandas-docs/stable/user_guide/indexing.html#returning-a-view-versus-a-copy\n",
      "\n",
      "<ipython-input-77-e43e12d949e4>:127: RuntimeWarning:\n",
      "\n",
      "overflow encountered in square\n",
      "\n",
      "<ipython-input-79-7e338f95f05a>:42: SettingWithCopyWarning:\n",
      "\n",
      "\n",
      "A value is trying to be set on a copy of a slice from a DataFrame\n",
      "\n",
      "See the caveats in the documentation: https://pandas.pydata.org/pandas-docs/stable/user_guide/indexing.html#returning-a-view-versus-a-copy\n",
      "\n",
      "<ipython-input-79-7e338f95f05a>:43: SettingWithCopyWarning:\n",
      "\n",
      "\n",
      "A value is trying to be set on a copy of a slice from a DataFrame\n",
      "\n",
      "See the caveats in the documentation: https://pandas.pydata.org/pandas-docs/stable/user_guide/indexing.html#returning-a-view-versus-a-copy\n",
      "\n",
      "<ipython-input-79-7e338f95f05a>:44: SettingWithCopyWarning:\n",
      "\n",
      "\n",
      "A value is trying to be set on a copy of a slice from a DataFrame\n",
      "\n",
      "See the caveats in the documentation: https://pandas.pydata.org/pandas-docs/stable/user_guide/indexing.html#returning-a-view-versus-a-copy\n",
      "\n",
      "<ipython-input-79-7e338f95f05a>:45: SettingWithCopyWarning:\n",
      "\n",
      "\n",
      "A value is trying to be set on a copy of a slice from a DataFrame\n",
      "\n",
      "See the caveats in the documentation: https://pandas.pydata.org/pandas-docs/stable/user_guide/indexing.html#returning-a-view-versus-a-copy\n",
      "\n",
      "<ipython-input-79-7e338f95f05a>:46: SettingWithCopyWarning:\n",
      "\n",
      "\n",
      "A value is trying to be set on a copy of a slice from a DataFrame\n",
      "\n",
      "See the caveats in the documentation: https://pandas.pydata.org/pandas-docs/stable/user_guide/indexing.html#returning-a-view-versus-a-copy\n",
      "\n",
      "<ipython-input-79-7e338f95f05a>:47: SettingWithCopyWarning:\n",
      "\n",
      "\n",
      "A value is trying to be set on a copy of a slice from a DataFrame\n",
      "\n",
      "See the caveats in the documentation: https://pandas.pydata.org/pandas-docs/stable/user_guide/indexing.html#returning-a-view-versus-a-copy\n",
      "\n",
      "<ipython-input-79-7e338f95f05a>:48: SettingWithCopyWarning:\n",
      "\n",
      "\n",
      "A value is trying to be set on a copy of a slice from a DataFrame\n",
      "\n",
      "See the caveats in the documentation: https://pandas.pydata.org/pandas-docs/stable/user_guide/indexing.html#returning-a-view-versus-a-copy\n",
      "\n",
      "<ipython-input-79-7e338f95f05a>:49: SettingWithCopyWarning:\n",
      "\n",
      "\n",
      "A value is trying to be set on a copy of a slice from a DataFrame\n",
      "\n",
      "See the caveats in the documentation: https://pandas.pydata.org/pandas-docs/stable/user_guide/indexing.html#returning-a-view-versus-a-copy\n",
      "\n",
      "<ipython-input-79-7e338f95f05a>:50: SettingWithCopyWarning:\n",
      "\n",
      "\n",
      "A value is trying to be set on a copy of a slice from a DataFrame\n",
      "\n",
      "See the caveats in the documentation: https://pandas.pydata.org/pandas-docs/stable/user_guide/indexing.html#returning-a-view-versus-a-copy\n",
      "\n",
      "<ipython-input-79-7e338f95f05a>:51: SettingWithCopyWarning:\n",
      "\n",
      "\n",
      "A value is trying to be set on a copy of a slice from a DataFrame\n",
      "\n",
      "See the caveats in the documentation: https://pandas.pydata.org/pandas-docs/stable/user_guide/indexing.html#returning-a-view-versus-a-copy\n",
      "\n",
      "<ipython-input-79-7e338f95f05a>:52: SettingWithCopyWarning:\n",
      "\n",
      "\n",
      "A value is trying to be set on a copy of a slice from a DataFrame\n",
      "\n",
      "See the caveats in the documentation: https://pandas.pydata.org/pandas-docs/stable/user_guide/indexing.html#returning-a-view-versus-a-copy\n",
      "\n",
      "<ipython-input-79-7e338f95f05a>:53: SettingWithCopyWarning:\n",
      "\n",
      "\n",
      "A value is trying to be set on a copy of a slice from a DataFrame\n",
      "\n",
      "See the caveats in the documentation: https://pandas.pydata.org/pandas-docs/stable/user_guide/indexing.html#returning-a-view-versus-a-copy\n",
      "\n",
      "<ipython-input-79-7e338f95f05a>:58: SettingWithCopyWarning:\n",
      "\n",
      "\n",
      "A value is trying to be set on a copy of a slice from a DataFrame\n",
      "\n",
      "See the caveats in the documentation: https://pandas.pydata.org/pandas-docs/stable/user_guide/indexing.html#returning-a-view-versus-a-copy\n",
      "\n",
      "<ipython-input-79-7e338f95f05a>:59: SettingWithCopyWarning:\n",
      "\n",
      "\n",
      "A value is trying to be set on a copy of a slice from a DataFrame\n",
      "\n",
      "See the caveats in the documentation: https://pandas.pydata.org/pandas-docs/stable/user_guide/indexing.html#returning-a-view-versus-a-copy\n",
      "\n",
      "<ipython-input-79-7e338f95f05a>:61: SettingWithCopyWarning:\n",
      "\n",
      "\n",
      "A value is trying to be set on a copy of a slice from a DataFrame\n",
      "\n",
      "See the caveats in the documentation: https://pandas.pydata.org/pandas-docs/stable/user_guide/indexing.html#returning-a-view-versus-a-copy\n",
      "\n",
      "<ipython-input-79-7e338f95f05a>:62: SettingWithCopyWarning:\n",
      "\n",
      "\n",
      "A value is trying to be set on a copy of a slice from a DataFrame\n",
      "\n",
      "See the caveats in the documentation: https://pandas.pydata.org/pandas-docs/stable/user_guide/indexing.html#returning-a-view-versus-a-copy\n",
      "\n"
     ]
    }
   ],
   "source": [
    "df=info\n",
    "df['mfcc_mean'] = ''\n",
    "df['mfcc_std'] = ''\n",
    "\n",
    "df['delta_mfcc_mean'] = ''\n",
    "df['delta_mfcc_std'] = ''\n",
    "\n",
    "df['centroid_mean'] = ''\n",
    "df['centroid_std'] = ''\n",
    "\n",
    "df['rms_mean'] = ''\n",
    "df['rms_std'] = ''\n",
    "\n",
    "df['zcr_mean'] = ''\n",
    "df['zcr_std'] = ''\n",
    "\n",
    "df['crest_mean'] = ''\n",
    "df['crest_std'] = ''\n",
    "\n",
    "df['flux_mean'] = ''\n",
    "df['flux_std'] = ''\n",
    "\n",
    "df['onsets_mean'] = ''\n",
    "df['onsets_std'] = ''\n",
    "\n",
    "df['onsets_mid_mean'] = ''\n",
    "df['onsets_mid_std'] = ''\n",
    "\n",
    "df['onsets_high_mean'] = ''\n",
    "df['onsets_high_std'] = ''\n",
    "for i in range(len(df)):\n",
    "    #print(df['audio'][i].shape)\n",
    "    mean,std,delta_mean,delta_std = agg_mfccs(df['audio'][i])\n",
    "    # Extract 13 MFCCs - get mean and std deviation for each (26 features) + Delta MFCCs (26 features) = total 52 Features\n",
    "    df['mfcc_mean'][i] = mean\n",
    "    df['mfcc_std'][i] = std\n",
    "    df['delta_mfcc_mean'][i] = delta_mean\n",
    "    df['delta_mfcc_std'][i] = delta_std\n",
    "\n",
    "    centroid_mean, centroid_std, rms_mean, rms_std, zcr_mean, zcr_std, crest_mean, crest_std, flux_mean,flux_std,onsets_mean,onsets_std,onsets2_mean,onsets3_mean,onsets2_std,onsets3_std \\\n",
    "         = extract_manual_features(df['audio'][i],44100)\n",
    "    df['centroid_mean'][i] = centroid_mean\n",
    "    df['centroid_std'][i] = centroid_std\n",
    "    df['rms_mean'][i] = rms_mean\n",
    "    df['rms_std'][i] = rms_std\n",
    "    df['zcr_mean'][i] = zcr_mean\n",
    "    df['zcr_std'][i] = zcr_std\n",
    "    df['crest_mean'][i] = crest_mean\n",
    "    df['crest_std'][i] = crest_std\n",
    "    df['flux_mean'][i] = flux_mean\n",
    "    df['flux_std'][i] = flux_std\n",
    "    df['onsets_mean'][i] = onsets_mean\n",
    "    df['onsets_std'][i] = onsets_std\n",
    "\n",
    "    # df['onsets_low_mean'][i] = onsets1_mean\n",
    "    # df['onsets_low_std'][i] = onsets1_std\n",
    "\n",
    "    df['onsets_mid_mean'][i] = onsets2_mean\n",
    "    df['onsets_mid_std'][i] = onsets2_std\n",
    "\n",
    "    df['onsets_high_mean'][i] = onsets3_mean\n",
    "    df['onsets_high_std'][i] = onsets3_std\n",
    "\n",
    "\n",
    "df[['mfcc1_mean','mfcc2_mean','mfcc3_mean','mfcc4_mean','mfcc5_mean','mfcc6_mean','mfcc7_mean','mfcc8_mean','mfcc9_mean','mfcc10_mean','mfcc11_mean','mfcc12_mean','mfcc13_mean']]=pd.DataFrame(df.mfcc_mean.tolist(), index= df.index)\n",
    "df[['mfcc1_std','mfcc2_std','mfcc3_std','mfcc4_std','mfcc5_std','mfcc6_std','mfcc7_std','mfcc8_std','mfcc9_std','mfcc10_std','mfcc11_std','mfcc12_std','mfcc13_std']]=pd.DataFrame(df.mfcc_std.tolist(), index= df.index)\n",
    "\n",
    "df[['delta_mfcc1_mean','delta_mfcc2_mean','delta_mfcc3_mean','delta_mfcc4_mean','delta_mfcc5_mean','delta_mfcc6_mean','delta_mfcc7_mean','delta_mfcc8_mean','delta_mfcc9_mean','delta_mfcc10_mean','delta_mfcc11_mean','delta_mfcc12_mean','delta_mfcc13_mean']]=pd.DataFrame(df.delta_mfcc_mean.tolist(), index= df.index)\n",
    "df[['delta_mfcc1_std','delta_mfcc2_std','delta_mfcc3_std','delta_mfcc4_std','delta_mfcc5_std','delta_mfcc6_std','delta_mfcc7_std','delta_mfcc8_std','delta_mfcc9_std','delta_mfcc10_std','delta_mfcc11_std','delta_mfcc12_std','delta_mfcc13_std']]=pd.DataFrame(df.delta_mfcc_std.tolist(), index= df.index)\n"
   ]
  },
  {
   "cell_type": "code",
   "execution_count": 80,
   "metadata": {},
   "outputs": [],
   "source": [
    "out = df.to_numpy()\n",
    "np.save('./resources/working_data/data.npy', out)"
   ]
  },
  {
   "cell_type": "code",
   "execution_count": 81,
   "metadata": {},
   "outputs": [
    {
     "data": {
      "text/plain": [
       "Index(['drummer', 'session', 'id', 'style', 'bpm', 'beat_type',\n",
       "       'time_signature', 'midi_filename', 'audio_filename', 'duration',\n",
       "       'split', 'audio', 'mfcc_mean', 'mfcc_std', 'delta_mfcc_mean',\n",
       "       'delta_mfcc_std', 'centroid_mean', 'centroid_std', 'rms_mean',\n",
       "       'rms_std', 'zcr_mean', 'zcr_std', 'crest_mean', 'crest_std',\n",
       "       'flux_mean', 'flux_std', 'onsets_mean', 'onsets_std', 'mfcc1_mean',\n",
       "       'mfcc2_mean', 'mfcc3_mean', 'mfcc4_mean', 'mfcc5_mean', 'mfcc6_mean',\n",
       "       'mfcc7_mean', 'mfcc8_mean', 'mfcc9_mean', 'mfcc10_mean', 'mfcc11_mean',\n",
       "       'mfcc12_mean', 'mfcc13_mean', 'mfcc1_std', 'mfcc2_std', 'mfcc3_std',\n",
       "       'mfcc4_std', 'mfcc5_std', 'mfcc6_std', 'mfcc7_std', 'mfcc8_std',\n",
       "       'mfcc9_std', 'mfcc10_std', 'mfcc11_std', 'mfcc12_std', 'mfcc13_std',\n",
       "       'delta_mfcc1_mean', 'delta_mfcc2_mean', 'delta_mfcc3_mean',\n",
       "       'delta_mfcc4_mean', 'delta_mfcc5_mean', 'delta_mfcc6_mean',\n",
       "       'delta_mfcc7_mean', 'delta_mfcc8_mean', 'delta_mfcc9_mean',\n",
       "       'delta_mfcc10_mean', 'delta_mfcc11_mean', 'delta_mfcc12_mean',\n",
       "       'delta_mfcc13_mean', 'delta_mfcc1_std', 'delta_mfcc2_std',\n",
       "       'delta_mfcc3_std', 'delta_mfcc4_std', 'delta_mfcc5_std',\n",
       "       'delta_mfcc6_std', 'delta_mfcc7_std', 'delta_mfcc8_std',\n",
       "       'delta_mfcc9_std', 'delta_mfcc10_std', 'delta_mfcc11_std',\n",
       "       'delta_mfcc12_std', 'delta_mfcc13_std', 'onsets_low_mean',\n",
       "       'onsets_low_std', 'onsets_mid_mean', 'onsets_mid_std',\n",
       "       'onsets_high_mean', 'onsets_high_std'],\n",
       "      dtype='object')"
      ]
     },
     "execution_count": 81,
     "metadata": {},
     "output_type": "execute_result"
    }
   ],
   "source": [
    "df.columns"
   ]
  },
  {
   "cell_type": "markdown",
   "metadata": {},
   "source": [
    "# Load Feature file and classify"
   ]
  },
  {
   "cell_type": "markdown",
   "metadata": {},
   "source": [
    "## Load Feature File"
   ]
  },
  {
   "cell_type": "code",
   "execution_count": 26,
   "metadata": {},
   "outputs": [],
   "source": [
    "import os\n",
    "import numpy as np\n",
    "import scipy\n",
    "from scipy.io import wavfile\n",
    "import scipy.fftpack as fft\n",
    "from scipy.signal import get_window\n",
    "import matplotlib.pyplot as plt\n",
    "import math\n",
    "import librosa\n",
    "import pandas as pd\n",
    "\n",
    "from sklearn.model_selection import train_test_split\n",
    "from sklearn.neighbors import KNeighborsClassifier\n",
    "from sklearn.svm import SVC\n",
    "from sklearn.ensemble import RandomForestClassifier\n",
    "from sklearn.metrics import confusion_matrix\n",
    "from sklearn.metrics import precision_score\n",
    "from sklearn.preprocessing import StandardScaler\n",
    "from sklearn.pipeline import make_pipeline\n",
    "from sklearn.metrics import accuracy_score\n",
    "from sklearn.metrics import balanced_accuracy_score,f1_score\n",
    "from sklearn.model_selection import cross_validate\n",
    "import warnings\n",
    "from sklearn.exceptions import DataConversionWarning\n",
    "from sklearn.model_selection import RandomizedSearchCV, GridSearchCV\n",
    "names=['drummer', 'session', 'id', 'style', 'bpm', 'beat_type',\n",
    "       'time_signature', 'midi_filename', 'audio_filename', 'duration',\n",
    "       'split', 'audio', 'mfcc_mean', 'mfcc_std', 'delta_mfcc_mean',\n",
    "       'delta_mfcc_std', 'centroid_mean', 'centroid_std', 'rms_mean',\n",
    "       'rms_std', 'zcr_mean', 'zcr_std', 'crest_mean', 'crest_std',\n",
    "       'flux_mean', 'flux_std', 'onsets_mean', 'onsets_std', 'mfcc1_mean',\n",
    "       'mfcc2_mean', 'mfcc3_mean', 'mfcc4_mean', 'mfcc5_mean', 'mfcc6_mean',\n",
    "       'mfcc7_mean', 'mfcc8_mean', 'mfcc9_mean', 'mfcc10_mean', 'mfcc11_mean',\n",
    "       'mfcc12_mean', 'mfcc13_mean', 'mfcc1_std', 'mfcc2_std', 'mfcc3_std',\n",
    "       'mfcc4_std', 'mfcc5_std', 'mfcc6_std', 'mfcc7_std', 'mfcc8_std',\n",
    "       'mfcc9_std', 'mfcc10_std', 'mfcc11_std', 'mfcc12_std', 'mfcc13_std',\n",
    "       'delta_mfcc1_mean', 'delta_mfcc2_mean', 'delta_mfcc3_mean',\n",
    "       'delta_mfcc4_mean', 'delta_mfcc5_mean', 'delta_mfcc6_mean',\n",
    "       'delta_mfcc7_mean', 'delta_mfcc8_mean', 'delta_mfcc9_mean',\n",
    "       'delta_mfcc10_mean', 'delta_mfcc11_mean', 'delta_mfcc12_mean',\n",
    "       'delta_mfcc13_mean', 'delta_mfcc1_std', 'delta_mfcc2_std',\n",
    "       'delta_mfcc3_std', 'delta_mfcc4_std', 'delta_mfcc5_std',\n",
    "       'delta_mfcc6_std', 'delta_mfcc7_std', 'delta_mfcc8_std',\n",
    "       'delta_mfcc9_std', 'delta_mfcc10_std', 'delta_mfcc11_std',\n",
    "       'delta_mfcc12_std', 'delta_mfcc13_std', 'onsets_low_mean',\n",
    "       'onsets_low_std','onsets_mid_mean', 'onsets_mid_std',\n",
    "       'onsets_high_mean', 'onsets_high_std']\n",
    "df=pd.DataFrame(np.load('./resources/working_data/data.npy',allow_pickle=True),columns=names)"
   ]
  },
  {
   "cell_type": "code",
   "execution_count": 27,
   "metadata": {},
   "outputs": [
    {
     "data": {
      "application/vnd.plotly.v1+json": {
       "config": {
        "plotlyServerURL": "https://plot.ly"
       },
       "data": [
        {
         "dimensions": [
          {
           "axis": {
            "matches": true
           },
           "label": "mfcc1_mean",
           "values": [
            -432.616355373271,
            -314.38503713137817,
            -429.3064726116158,
            -392.3593751347707,
            -378.3888196950997,
            -328.91953526306054,
            -303.5141196996473,
            -318.25215691963245,
            -316.77843501594543,
            -333.9087648142284,
            -287.57135873606865,
            -338.29912863337313,
            -346.284942290299,
            -341.1546082802546,
            -389.6754646652504,
            -383.534857311595,
            -373.3802531340952,
            -355.68806902188254,
            -361.79363598344946,
            -328.8802021094531,
            -289.45245028635287,
            -293.6614979499918,
            -340.58616796606555,
            -305.1788751233992,
            -295.9871864810669,
            -309.79476427938135,
            -331.21948658879364,
            -353.9590090169835
           ]
          },
          {
           "axis": {
            "matches": true
           },
           "label": "mfcc2_mean",
           "values": [
            22.49809168201099,
            40.66948674007691,
            28.13942860697189,
            29.777852838672406,
            -26.9129013054373,
            -10.650258784909726,
            60.91383801360013,
            23.360306658218168,
            27.71028927662792,
            9.8416596155189,
            12.696190315147433,
            21.82284206009607,
            25.40802004576601,
            12.51728528095887,
            36.98818283096763,
            37.868283524105586,
            28.9099609684865,
            40.437790611900546,
            33.65915005739662,
            20.77972998148965,
            27.089885903053702,
            27.19630669191556,
            31.190615843980012,
            38.98465078049055,
            17.146084729896636,
            22.803102074798108,
            8.96013898361513,
            17.687762730783962
           ]
          },
          {
           "axis": {
            "matches": true
           },
           "label": "onsets_mean",
           "values": [
            2.3850574712643677,
            4.286666666666667,
            2.2471264367816093,
            3.0609756097560976,
            2.34375,
            5.497175141242938,
            3.902684563758389,
            4.3119266055045875,
            4.156565656565657,
            2.324074074074074,
            3.2,
            2.8,
            3.2,
            2.4791666666666665,
            2.227979274611399,
            3.0384615384615383,
            1.9855072463768115,
            2.927536231884058,
            2.8834355828220857,
            3.446768060836502,
            4.961538461538462,
            5.058201058201059,
            3.537037037037037,
            4.543478260869565,
            3.6726190476190474,
            4.278846153846154,
            3.821875,
            3.67
           ]
          },
          {
           "axis": {
            "matches": true
           },
           "label": "onsets_std",
           "values": [
            0.9321867426293056,
            1.9160259798748962,
            1.2138415394376296,
            1.99805328616743,
            1.5887721827282573,
            2.07792892812591,
            2.9040459235355303,
            1.970876243939526,
            2.538736726185119,
            0.825840802788327,
            1.4000000000000001,
            0.9273618495495705,
            1.469693845669907,
            0.9572004173050119,
            1.138057867340241,
            1.0183232534518252,
            1.0562821541036869,
            2.142183909206015,
            1.6958724270401981,
            1.6465250340183386,
            2.370720477376876,
            2.6670235756787743,
            2.4960187778478344,
            2.800177675849486,
            1.1521048222891659,
            1.9584959435614733,
            0.7001046238777459,
            0.9279547402756236
           ]
          },
          {
           "axis": {
            "matches": true
           },
           "label": "bpm",
           "values": [
            80,
            95,
            80,
            80,
            117,
            117,
            100,
            102,
            102,
            100,
            100,
            100,
            100,
            100,
            112,
            112,
            112,
            112,
            112,
            95,
            108,
            108,
            95,
            115,
            80,
            80,
            96,
            96
           ]
          }
         ],
         "hovertemplate": "style=funk<br>%{xaxis.title.text}=%{x}<br>%{yaxis.title.text}=%{y}<extra></extra>",
         "legendgroup": "funk",
         "marker": {
          "color": "#636efa",
          "symbol": "circle"
         },
         "name": "funk",
         "showlegend": true,
         "type": "splom"
        },
        {
         "dimensions": [
          {
           "axis": {
            "matches": true
           },
           "label": "mfcc1_mean",
           "values": [
            -362.6509266419495,
            -389.22146277368574,
            -352.91861935928915,
            -438.11102634177615,
            -335.43410665876394,
            -315.3518778552284,
            -467.70187929713643,
            -428.2531439941584,
            -513.3545385310003,
            -540.0615445613457,
            -464.91743288947254,
            -329.96447046153634,
            -407.5037574371028,
            -398.8695890778414,
            -405.0440198572253,
            -278.6674143642406,
            -333.3454131458844,
            -390.10754593097516,
            -257.6375788858227,
            -417.9288124249032,
            -481.25450175820976,
            -305.61778582217477,
            -508.3420924700075,
            -486.4166865444736
           ]
          },
          {
           "axis": {
            "matches": true
           },
           "label": "mfcc2_mean",
           "values": [
            68.25337942449839,
            74.7952510334276,
            61.22701582269402,
            10.17094848105962,
            55.9253385192404,
            79.43652656037246,
            27.37366536149845,
            28.107138992068887,
            62.193399385949235,
            -25.976972564020077,
            33.07382916119299,
            71.30065950783425,
            116.61612935026785,
            84.7393748560675,
            112.12753767160213,
            87.74530323970038,
            81.9212247492504,
            109.9392421999728,
            86.16384910578839,
            69.5227315999168,
            27.804510816353016,
            45.27598456845826,
            19.91718602261493,
            35.68171071594377
           ]
          },
          {
           "axis": {
            "matches": true
           },
           "label": "onsets_mean",
           "values": [
            2.1460055096418733,
            1.4033149171270718,
            2.2034632034632033,
            1.0723404255319149,
            1.800865800865801,
            6.7317073170731705,
            1.3371212121212122,
            1.949579831932773,
            0.109375,
            0.95,
            1.25,
            2.75,
            5.1875,
            3.897727272727273,
            7.0625,
            5.5,
            3.263157894736842,
            7.352941176470588,
            4.75,
            2.0397350993377485,
            0.18181818181818182,
            5.079207920792079,
            0.3140495867768595,
            0.5852272727272727
           ]
          },
          {
           "axis": {
            "matches": true
           },
           "label": "onsets_std",
           "values": [
            2.2582946026518194,
            1.4931852768470995,
            2.299479735470791,
            1.5350794736734108,
            1.3238403842393438,
            3.905537387904569,
            1.1163322861883058,
            1.3525496588892092,
            0.3121091305537215,
            0.5894913061275798,
            1.713913650100261,
            2.5074887836239665,
            2.877037321620976,
            3.9052405720544074,
            2.536452985962878,
            1.6583123951777,
            2.4460947449731054,
            2.167708914433915,
            0.9682458365518543,
            2.470704633658439,
            0.38569460791993493,
            1.404964100995387,
            0.5147904628891714,
            0.6338984311972858
           ]
          },
          {
           "axis": {
            "matches": true
           },
           "label": "bpm",
           "values": [
            102,
            93,
            125,
            125,
            125,
            125,
            120,
            200,
            120,
            120,
            120,
            120,
            120,
            120,
            120,
            120,
            120,
            120,
            120,
            105,
            92,
            158,
            100,
            112
           ]
          }
         ],
         "hovertemplate": "style=jazz<br>%{xaxis.title.text}=%{x}<br>%{yaxis.title.text}=%{y}<extra></extra>",
         "legendgroup": "jazz",
         "marker": {
          "color": "#EF553B",
          "symbol": "circle"
         },
         "name": "jazz",
         "showlegend": true,
         "type": "splom"
        },
        {
         "dimensions": [
          {
           "axis": {
            "matches": true
           },
           "label": "mfcc1_mean",
           "values": [
            -450.0724585205305,
            -390.2581270616979,
            -388.44513751914565,
            -301.98728980052067,
            -356.37297010280037,
            -278.205321950667,
            -235.51337773710415,
            -256.8890593190659,
            -389.3805469031007,
            -339.8625602838631,
            -399.12091981038657,
            -371.7056346864247,
            -376.2804976724695,
            -520.6451312780187,
            -381.6453658553561,
            -461.91805974798314,
            -313.8912935190121,
            -446.18137345100126,
            -346.6747680532843,
            -322.43821335275965,
            -298.8304474939526,
            -345.6623223059308,
            -378.66180956120724,
            -398.43401040481206,
            -333.32213482795106,
            -427.2243422745653,
            -371.2598400611492,
            -309.67890907813063,
            -329.2306054747035,
            -323.376481804639,
            -373.73071665173217,
            -354.8122144792052,
            -364.3655104162248,
            -336.00521414308616,
            -207.85357337978286,
            -249.80707780287713,
            -219.0373493282281,
            -224.62845793366563,
            -518.9403660873693,
            -318.66338857989035,
            -254.8573170480611,
            -404.8032274994483,
            -253.65573765590653,
            -372.0758438224601,
            -360.7488996419468,
            -390.2743184079488,
            -412.9272783723884,
            -408.8974367375836,
            -343.47920845590346,
            -331.43034874968725,
            -335.47887417775854,
            -355.91820344110795,
            -356.6053475640082,
            -373.86350114813234,
            -433.1122772958632,
            -383.17844754221,
            -479.1588176505495,
            -406.82349671229906,
            -399.57180415148395,
            -397.1973712646309,
            -365.379902805273,
            -388.77504573867526,
            -360.87950232226245,
            -375.67103077958933,
            -363.03532557789373,
            -422.20199095785426,
            -420.74091162358116,
            -392.76390553152976,
            -312.2095683944902,
            -331.76629483740624,
            -345.70980830389715,
            -420.17277842681136,
            -403.9582301648102,
            -438.1439920039767,
            -402.5488787499899,
            -335.23220511009197,
            -352.4253129275669,
            -407.641312883146,
            -427.02335097209664,
            -395.7320723674288,
            -400.515973657269,
            -393.2344014411955,
            -380.25425009675087,
            -243.9615706246886,
            -326.36929783722684,
            -305.9035582720349,
            -278.18949519758655,
            -329.6303965513945,
            -316.91768826695323,
            -298.2165581574914,
            -335.5361433086999,
            -384.2229764534544,
            -381.5299635755384,
            -405.03629622973347,
            -383.3258975052404,
            -282.5779870008544,
            -251.24127330843532,
            -294.0735090976052,
            -428.68348789160024,
            -391.7094867038394,
            -383.02650538581855,
            -431.6184210201267,
            -363.9235119235476,
            -363.4138074133901,
            -301.47107546785054,
            -328.57175266906745,
            -342.7178560802951,
            -219.48981085750953,
            -411.5576537410872,
            -675.8836722492978,
            -214.42576154489447,
            -217.969487604893,
            -397.6397773441908,
            -368.6074322988531,
            -296.74668710621876,
            -388.3600905752537,
            -405.4130402518825,
            -298.32301431456017,
            -279.86682268628124,
            -291.6215508315153,
            -272.3583442486327,
            -315.95982447941054,
            -371.07384216585666,
            -249.75821218011063,
            -286.10104434973397,
            -280.0458009878876,
            -325.7748573651995,
            -351.22359068193055,
            -477.7757450074999,
            -402.7470696489997,
            -310.89967540970594,
            -302.58937760425147,
            -294.0531214637854,
            -297.7862436248466,
            -288.3071015465094,
            -273.15725487683494,
            -325.77000068162846,
            -394.79649998406677,
            -377.9963767016903,
            -337.56382158899413,
            -411.86034751244574,
            -314.7763263651059,
            -349.5014814909896,
            -317.6474907760162,
            -290.19175061321675,
            -358.024564453194,
            -383.31511292043,
            -375.74501121976795,
            -356.1041467344044,
            -361.5394061177328,
            -298.0169989893273,
            -377.19737168697526,
            -321.8511419222868,
            -344.0650924625362,
            -351.3884611277707,
            -311.87740773352635,
            -375.5319709547015,
            -337.08786517625384,
            -291.9013543186642,
            -362.5559997919907,
            -401.4739316440155,
            -357.8422151701301,
            -362.79360399834235,
            -399.66762149948113,
            -367.8715783430115,
            -331.0968646539972,
            -375.59176965602165
           ]
          },
          {
           "axis": {
            "matches": true
           },
           "label": "mfcc2_mean",
           "values": [
            23.24469110522822,
            44.07756586033144,
            34.74944595725994,
            73.7376957185701,
            41.56028637456726,
            36.57078555692397,
            1.4489196861504818,
            13.434844952497995,
            36.92516579645561,
            89.03139994847838,
            76.48754917702136,
            75.85901415941942,
            16.85468096211446,
            1.6127451497740701,
            52.21507092450757,
            29.276826969434357,
            20.068797532623204,
            30.390993642012642,
            61.16610050390282,
            101.47996383571268,
            92.54298344852381,
            86.6900533100677,
            67.31717611748947,
            31.445771126674252,
            106.54082102265642,
            -9.917445684425635,
            15.209013400795202,
            64.46131392272368,
            88.44979082680779,
            81.1196425341358,
            81.24760598702748,
            108.93096323588647,
            99.78721521481835,
            105.5600060474674,
            27.530407357570922,
            20.55106511856181,
            22.75599320478126,
            17.302818231607585,
            37.510004632278154,
            56.290277990011205,
            46.6528380203611,
            73.13248758682839,
            43.97609620178496,
            74.55855905580339,
            -4.322385721457644,
            60.717470630527075,
            78.44183844017974,
            2.8361374248542424,
            55.26154436252387,
            65.95528421212084,
            55.20909704616254,
            51.0482878799567,
            60.668416063131616,
            58.86908651753242,
            3.9618949532067695,
            10.77676086087222,
            10.508259342415721,
            86.85573294646014,
            4.726230875375757,
            11.359833485451539,
            7.018215045394291,
            53.660084245072156,
            50.42680101016754,
            62.01907180572166,
            47.39708685819933,
            74.81526378102318,
            -0.38267998991807695,
            56.77114504269186,
            58.451230492777896,
            75.74779769015291,
            62.32995354677545,
            14.215230015659767,
            74.86159141895136,
            -18.918159379224186,
            18.499979576212365,
            52.63202302187571,
            56.7070484589862,
            86.39573868695076,
            75.80711763461599,
            16.857198281988914,
            8.683106699542158,
            5.663122485051193,
            22.298756892579533,
            78.3193614013068,
            50.36490616513784,
            3.3600364109612384,
            16.193538937957978,
            45.205500310297126,
            50.447333500995306,
            44.95677006082829,
            55.36282499488636,
            24.186199478366856,
            39.48543203282463,
            44.867128249417746,
            41.67191801943709,
            29.5460239441165,
            35.964038176613414,
            35.31402221160638,
            45.588594204273285,
            49.99036011767426,
            20.11944717318058,
            1.4491126778944188,
            10.841016144739315,
            10.28560275384869,
            15.792507680650964,
            74.53481143969555,
            26.558364626747974,
            42.2075468724586,
            74.41721572707792,
            41.97672196986123,
            46.176972451390085,
            43.133205826259,
            10.329774523124348,
            12.673355622223598,
            88.96403564510584,
            16.368106531111334,
            6.463557389383277,
            27.812336987375847,
            84.19613825909705,
            23.95248392693968,
            49.22920607150643,
            81.26899194830104,
            8.142244542616929,
            54.89895707972318,
            16.32703280835364,
            35.692407614480956,
            70.41576613800795,
            26.653908526367573,
            9.778233966438135,
            36.0165451447754,
            32.26290802606481,
            44.17771998721827,
            56.639174936679005,
            36.88790345334082,
            56.521985020143255,
            55.05238597653701,
            38.38718446040107,
            18.901433164459142,
            23.934343721705336,
            79.23356380804124,
            15.061309298367885,
            70.12409146206612,
            28.94929525136835,
            -15.087417130558485,
            3.6503959521239593,
            97.92933975699495,
            82.86659989379599,
            86.72996456758538,
            38.723715037704075,
            41.549158870575575,
            1.168553128692137,
            36.61969006158397,
            63.37011596015993,
            58.066008771713584,
            23.599347237371152,
            80.01994308656471,
            74.26260557216753,
            67.51066742930358,
            84.78698407745073,
            44.62605987838799,
            68.71022014914085,
            -22.725037867317678,
            58.43754241680543,
            37.16460784525499,
            10.178434778627613,
            29.593691279484293,
            22.956737108435714
           ]
          },
          {
           "axis": {
            "matches": true
           },
           "label": "onsets_mean",
           "values": [
            1.7700892857142858,
            3.3713235294117645,
            3.339331619537275,
            9.490228013029316,
            5.186180422264875,
            7.28421052631579,
            8.852459016393443,
            7.147869674185464,
            3.1564625850340136,
            3.642857142857143,
            2.625,
            2.9558823529411766,
            3.2058823529411766,
            0.7708333333333334,
            2.8238636363636362,
            2.526315789473684,
            3.125,
            2.3125,
            4.375,
            6.75,
            6.25,
            2.5,
            5,
            3.3333333333333335,
            10,
            1.5,
            2.7386363636363638,
            2,
            4.5,
            5,
            2.8627450980392157,
            8.5,
            5.25,
            8.75,
            5.5,
            3.125,
            4.875,
            2.75,
            0.75,
            4.25,
            5.5,
            1.5714285714285714,
            5.111111111111111,
            2.6956521739130435,
            2.4057971014492754,
            2.7454545454545456,
            3.6551724137931036,
            2.409090909090909,
            3.95,
            3.8666666666666667,
            3.717948717948718,
            2.875,
            3.310344827586207,
            3.312,
            2.1176470588235294,
            3.5,
            0.8,
            4.175,
            3.095890410958904,
            3.8095238095238093,
            3.913793103448276,
            3.1818181818181817,
            4.027027027027027,
            3.259259259259259,
            3.53125,
            4.916666666666667,
            3,
            2.619047619047619,
            4.285714285714286,
            5.545454545454546,
            3.9482758620689653,
            2.857142857142857,
            4.166666666666667,
            1.95,
            2.84375,
            3.1666666666666665,
            3.3333333333333335,
            4.902439024390244,
            4.145833333333333,
            2.923076923076923,
            2.4,
            2.95,
            3.2672413793103448,
            6.566164154103853,
            3.3908045977011496,
            2.824561403508772,
            3.650537634408602,
            5.410958904109589,
            5.092485549132948,
            5.7317073170731705,
            4.700934579439252,
            2.230769230769231,
            2.9577836411609497,
            2.278745644599303,
            3.004938271604938,
            4.339285714285714,
            7.95820895522388,
            5.518072289156627,
            1.8984547461368653,
            3.78125,
            2.6846153846153844,
            1.8064516129032258,
            3.1101190476190474,
            3.287128712871287,
            4.015151515151516,
            6.454545454545454,
            3.4025974025974026,
            3.978448275862069,
            6.2,
            0,
            5.918918918918919,
            5.671232876712328,
            1.8839285714285714,
            2.765625,
            10.375,
            1.9,
            1.6724137931034482,
            4.043010752688172,
            11.291666666666666,
            4.881118881118881,
            5.015625,
            9.84375,
            3,
            5.065573770491803,
            4.684782608695652,
            4.47239263803681,
            7.875,
            3.1926605504587156,
            1.5125,
            2,
            4.13302752293578,
            4.261904761904762,
            5.782608695652174,
            3.731707317073171,
            4.575268817204301,
            4.836538461538462,
            5.023017902813299,
            2.792079207920792,
            2.466666666666667,
            4.05,
            2.375,
            4.465909090909091,
            3.843220338983051,
            3.2083333333333335,
            4.083333333333333,
            7.916666666666667,
            5.113636363636363,
            5.5064935064935066,
            3.5977011494252875,
            2.9407894736842106,
            5.083333333333333,
            2.84375,
            5.258064516129032,
            3.4100719424460433,
            3.986666666666667,
            3.9571428571428573,
            5.0625,
            3.59375,
            4.181818181818182,
            2.823529411764706,
            2.727272727272727,
            2.25,
            3.3055555555555554,
            1.6,
            3.4166666666666665,
            4.130434782608695,
            3.388888888888889
           ]
          },
          {
           "axis": {
            "matches": true
           },
           "label": "onsets_std",
           "values": [
            1.2332079215372997,
            1.3686300626063626,
            1.5186994048581175,
            2.9648981636218967,
            2.3359579650072515,
            2.2524676116747124,
            2.345809417256832,
            2.4021062652037215,
            1.8320676407919154,
            1.3942300925673667,
            0.8809322713277489,
            1.4696320420773175,
            1.7868706093040043,
            1.1590150871417602,
            1.4877144091602865,
            1.4997691419763166,
            2.3859397170367345,
            0.7680128579652817,
            4.553501400021746,
            1.7853571071357126,
            1.6393596310755,
            1.6583123951777,
            4.663689526544408,
            2.3428377854407434,
            1.5811388300841898,
            1.118033988749895,
            1.3185246419407408,
            1.5811388300841898,
            2.179449471770337,
            1.8708286933869707,
            1.3579050739749634,
            3.5,
            1.479019945774904,
            2.384848003542364,
            1.5,
            1.5360257159305635,
            1.0532687216470449,
            1.0897247358851685,
            1.299038105676658,
            1.1989578808281798,
            1.224744871391589,
            1.0033955955097849,
            2.3306863292670035,
            1.4576569229774097,
            1.2431708008120197,
            1.3010697018784219,
            1.5262273087124638,
            1.386922391126578,
            2.290742237791062,
            2.0933757957476775,
            1.5012596070055844,
            2.027159342528357,
            1.086070051587836,
            1.1413395638459223,
            0.9629826790438176,
            1.5652475842498528,
            0.7483314773547883,
            1.8423829677892702,
            1.1367387088068353,
            1.4349065879351774,
            1.5456778756017864,
            1.02851895445316,
            1.958853587598603,
            2.7834509967490275,
            2.2636305876843066,
            2.3790170706033664,
            1.632993161855452,
            1.2140522651411392,
            0.9331389496316869,
            2.01646118298353,
            1.9863535625925854,
            1.206558043744755,
            2.2852182001336816,
            0.8645808232895291,
            1.7988892695679373,
            1.536590742882148,
            1.699673171197595,
            1.7916456265567762,
            2.371616742271445,
            1.0472091208544685,
            1.624807680927192,
            1.4654350889752845,
            2.1709594201193614,
            4.461380253015669,
            2.2059983804477845,
            2.053006413518698,
            2.298064807938818,
            2.465296761365414,
            1.9804247679101235,
            1.3070986348267573,
            1.4090160500736002,
            2.311748571874994,
            1.3008263440841208,
            1.7206476663597703,
            2.2211053434735795,
            3.109758751060268,
            3.4733161604391216,
            3.4069198862374415,
            0.7796089447099327,
            2.8975676760862723,
            1.6917656474574603,
            1.4237468703686393,
            2.5265999146451357,
            1.8818393870047736,
            2.0961177985809876,
            4.250425355476713,
            2.6980499945294314,
            2.511089406203073,
            5.015974481593781,
            0,
            4.35193885575575,
            3.428545737958776,
            1.1199931099460079,
            2.788044719758813,
            3.9031237489989987,
            1.841195263952197,
            1.056799511773928,
            2.718240437992457,
            5.95454424974928,
            1.97710500546898,
            2.847653570814926,
            4.031976678689994,
            0.7071067811865476,
            2.991073344596323,
            2.955942238603185,
            2.165861404840226,
            6.0711922222904455,
            1.995302116510218,
            0.6799586384479573,
            1.8110770276274832,
            1.933697083849103,
            2.340731711091781,
            3.562565291412434,
            1.6082772216423937,
            2.9815257663617882,
            3.3572842072902778,
            2.378931845065061,
            1.3881880182180386,
            1.0873004286866728,
            1.5960889699512368,
            1.3169567191065923,
            1.7185410278671875,
            1.400966906634354,
            1.11725730648266,
            1.4976833963009524,
            3.121386800054674,
            2.7897206530966594,
            2.651259816312652,
            1.473597288325273,
            1.1654768203772075,
            1.3819269959814167,
            1.301666599978658,
            2.4556418507313875,
            2.1850141979364794,
            1.4282234496822344,
            2.0314366083827355,
            2.164161211647598,
            1.1821425199611086,
            1.4965525121049388,
            1.5929487067913648,
            1.8752410313396612,
            0.7664854858377946,
            1.2708143592997636,
            0.8,
            1.2219065248845982,
            1.0755927719002591,
            1.0613873985857112
           ]
          },
          {
           "axis": {
            "matches": true
           },
           "label": "bpm",
           "values": [
            50,
            115,
            102,
            115,
            94,
            128,
            135,
            135,
            105,
            105,
            120,
            120,
            120,
            120,
            120,
            105,
            120,
            120,
            120,
            120,
            120,
            120,
            120,
            105,
            120,
            120,
            120,
            120,
            120,
            120,
            105,
            120,
            120,
            120,
            120,
            120,
            120,
            120,
            120,
            120,
            120,
            105,
            120,
            105,
            105,
            105,
            100,
            100,
            100,
            100,
            100,
            100,
            100,
            100,
            100,
            100,
            100,
            100,
            92,
            92,
            92,
            92,
            92,
            92,
            92,
            100,
            92,
            92,
            92,
            92,
            92,
            92,
            100,
            110,
            110,
            110,
            110,
            100,
            100,
            100,
            100,
            100,
            87,
            136,
            105,
            140,
            140,
            70,
            70,
            80,
            80,
            60,
            95,
            95,
            88,
            90,
            127,
            88,
            86,
            93,
            93,
            93,
            93,
            93,
            120,
            95,
            95,
            118,
            120,
            118,
            118,
            118,
            75,
            75,
            120,
            75,
            75,
            112,
            120,
            135,
            135,
            135,
            120,
            135,
            120,
            145,
            120,
            95,
            60,
            60,
            95,
            95,
            95,
            95,
            93,
            93,
            102,
            100,
            100,
            100,
            100,
            120,
            120,
            120,
            120,
            120,
            120,
            120,
            100,
            120,
            120,
            120,
            120,
            90,
            90,
            90,
            90,
            90,
            90,
            100,
            90,
            100,
            100,
            100,
            100,
            100,
            100
           ]
          }
         ],
         "hovertemplate": "style=rock<br>%{xaxis.title.text}=%{x}<br>%{yaxis.title.text}=%{y}<extra></extra>",
         "legendgroup": "rock",
         "marker": {
          "color": "#00cc96",
          "symbol": "circle"
         },
         "name": "rock",
         "showlegend": true,
         "type": "splom"
        },
        {
         "dimensions": [
          {
           "axis": {
            "matches": true
           },
           "label": "mfcc1_mean",
           "values": [
            -393.75793302315407,
            -401.2924023054231,
            -393.38950860009385,
            -405.26075404953957,
            -397.79351746844554,
            -356.1536596886485,
            -578.1175573275185,
            -329.88378786402416,
            -318.9686775924341,
            -348.2741790813028,
            -360.1661291586194,
            -399.7714690001794,
            -423.45733315787413,
            -408.77529107198694,
            -335.57223470074257,
            -316.4789047534397,
            -294.92173454980536,
            -297.27016927970044,
            -196.67270384218844,
            -363.62697606778386,
            -333.55630441861797,
            -209.38531133195386,
            -383.76067807857817,
            -369.2577857903185,
            -429.7758309019965,
            -295.9019591245779,
            -252.40770868645836,
            -283.0276580306531
           ]
          },
          {
           "axis": {
            "matches": true
           },
           "label": "mfcc2_mean",
           "values": [
            19.99384201952463,
            13.093972137759296,
            5.85073418498658,
            -0.48121738667567915,
            1.8484908396929467,
            32.59206221620966,
            -18.98273646129336,
            12.627384787194265,
            21.830438124347083,
            31.420602396377895,
            21.346802613206197,
            19.938074434442512,
            24.039269870955195,
            23.096512685899764,
            -0.889410962776945,
            11.044012367974336,
            -1.2520941122237232,
            -1.11085383779747,
            24.893412960873825,
            29.587550613852645,
            38.48213297816145,
            11.310672919087688,
            28.366117656758735,
            35.461825035778894,
            21.53503229758089,
            -8.26251339437396,
            -24.67316398218647,
            -4.264741122253136
           ]
          },
          {
           "axis": {
            "matches": true
           },
           "label": "onsets_mean",
           "values": [
            3.518987341772152,
            3.2333333333333334,
            2.4444444444444446,
            2.5238095238095237,
            1.8181818181818181,
            4.8,
            1.5555555555555556,
            4.1521739130434785,
            5.0476190476190474,
            4.159090909090909,
            3.395348837209302,
            2.811320754716981,
            2,
            2.230769230769231,
            3.309417040358744,
            3.65625,
            4.384615384615385,
            3.793103448275862,
            6.0181818181818185,
            3.5051546391752577,
            3.5655737704918034,
            5.24113475177305,
            2.2507645259938838,
            2.779891304347826,
            2.0078125,
            3.9,
            4.21304347826087,
            3.7890625
           ]
          },
          {
           "axis": {
            "matches": true
           },
           "label": "onsets_std",
           "values": [
            2.2717904581883688,
            1.8336363385966754,
            1.1967032904743342,
            1.5922146187905226,
            1.3360853142453697,
            1.8943525090572317,
            0.4969039949999533,
            2.279086309146028,
            3.4928660693884055,
            2.713126189289445,
            1.8941714134229986,
            1.3743829321867407,
            0.9789450103725609,
            2.5666653858958357,
            1.1859608963207862,
            1.4778089426016252,
            1.3609081548426256,
            2.082427468535758,
            3.884659381772962,
            2.392530090472988,
            3.421215642730828,
            2.8093075021108724,
            0.9440580452864301,
            1.796109318454038,
            1.1238148415896114,
            1.347219358530748,
            1.2624353096904093,
            1.2446908737087092
           ]
          },
          {
           "axis": {
            "matches": true
           },
           "label": "bpm",
           "values": [
            92,
            92,
            92,
            92,
            92,
            110,
            110,
            100,
            100,
            100,
            100,
            100,
            100,
            100,
            140,
            75,
            75,
            75,
            70,
            67,
            67,
            70,
            94,
            94,
            70,
            90,
            90,
            90
           ]
          }
         ],
         "hovertemplate": "style=hiphop<br>%{xaxis.title.text}=%{x}<br>%{yaxis.title.text}=%{y}<extra></extra>",
         "legendgroup": "hiphop",
         "marker": {
          "color": "#ab63fa",
          "symbol": "circle"
         },
         "name": "hiphop",
         "showlegend": true,
         "type": "splom"
        }
       ],
       "layout": {
        "dragmode": "select",
        "legend": {
         "title": {
          "text": "style"
         },
         "tracegroupgap": 0
        },
        "margin": {
         "t": 60
        },
        "template": {
         "data": {
          "bar": [
           {
            "error_x": {
             "color": "#2a3f5f"
            },
            "error_y": {
             "color": "#2a3f5f"
            },
            "marker": {
             "line": {
              "color": "#E5ECF6",
              "width": 0.5
             }
            },
            "type": "bar"
           }
          ],
          "barpolar": [
           {
            "marker": {
             "line": {
              "color": "#E5ECF6",
              "width": 0.5
             }
            },
            "type": "barpolar"
           }
          ],
          "carpet": [
           {
            "aaxis": {
             "endlinecolor": "#2a3f5f",
             "gridcolor": "white",
             "linecolor": "white",
             "minorgridcolor": "white",
             "startlinecolor": "#2a3f5f"
            },
            "baxis": {
             "endlinecolor": "#2a3f5f",
             "gridcolor": "white",
             "linecolor": "white",
             "minorgridcolor": "white",
             "startlinecolor": "#2a3f5f"
            },
            "type": "carpet"
           }
          ],
          "choropleth": [
           {
            "colorbar": {
             "outlinewidth": 0,
             "ticks": ""
            },
            "type": "choropleth"
           }
          ],
          "contour": [
           {
            "colorbar": {
             "outlinewidth": 0,
             "ticks": ""
            },
            "colorscale": [
             [
              0,
              "#0d0887"
             ],
             [
              0.1111111111111111,
              "#46039f"
             ],
             [
              0.2222222222222222,
              "#7201a8"
             ],
             [
              0.3333333333333333,
              "#9c179e"
             ],
             [
              0.4444444444444444,
              "#bd3786"
             ],
             [
              0.5555555555555556,
              "#d8576b"
             ],
             [
              0.6666666666666666,
              "#ed7953"
             ],
             [
              0.7777777777777778,
              "#fb9f3a"
             ],
             [
              0.8888888888888888,
              "#fdca26"
             ],
             [
              1,
              "#f0f921"
             ]
            ],
            "type": "contour"
           }
          ],
          "contourcarpet": [
           {
            "colorbar": {
             "outlinewidth": 0,
             "ticks": ""
            },
            "type": "contourcarpet"
           }
          ],
          "heatmap": [
           {
            "colorbar": {
             "outlinewidth": 0,
             "ticks": ""
            },
            "colorscale": [
             [
              0,
              "#0d0887"
             ],
             [
              0.1111111111111111,
              "#46039f"
             ],
             [
              0.2222222222222222,
              "#7201a8"
             ],
             [
              0.3333333333333333,
              "#9c179e"
             ],
             [
              0.4444444444444444,
              "#bd3786"
             ],
             [
              0.5555555555555556,
              "#d8576b"
             ],
             [
              0.6666666666666666,
              "#ed7953"
             ],
             [
              0.7777777777777778,
              "#fb9f3a"
             ],
             [
              0.8888888888888888,
              "#fdca26"
             ],
             [
              1,
              "#f0f921"
             ]
            ],
            "type": "heatmap"
           }
          ],
          "heatmapgl": [
           {
            "colorbar": {
             "outlinewidth": 0,
             "ticks": ""
            },
            "colorscale": [
             [
              0,
              "#0d0887"
             ],
             [
              0.1111111111111111,
              "#46039f"
             ],
             [
              0.2222222222222222,
              "#7201a8"
             ],
             [
              0.3333333333333333,
              "#9c179e"
             ],
             [
              0.4444444444444444,
              "#bd3786"
             ],
             [
              0.5555555555555556,
              "#d8576b"
             ],
             [
              0.6666666666666666,
              "#ed7953"
             ],
             [
              0.7777777777777778,
              "#fb9f3a"
             ],
             [
              0.8888888888888888,
              "#fdca26"
             ],
             [
              1,
              "#f0f921"
             ]
            ],
            "type": "heatmapgl"
           }
          ],
          "histogram": [
           {
            "marker": {
             "colorbar": {
              "outlinewidth": 0,
              "ticks": ""
             }
            },
            "type": "histogram"
           }
          ],
          "histogram2d": [
           {
            "colorbar": {
             "outlinewidth": 0,
             "ticks": ""
            },
            "colorscale": [
             [
              0,
              "#0d0887"
             ],
             [
              0.1111111111111111,
              "#46039f"
             ],
             [
              0.2222222222222222,
              "#7201a8"
             ],
             [
              0.3333333333333333,
              "#9c179e"
             ],
             [
              0.4444444444444444,
              "#bd3786"
             ],
             [
              0.5555555555555556,
              "#d8576b"
             ],
             [
              0.6666666666666666,
              "#ed7953"
             ],
             [
              0.7777777777777778,
              "#fb9f3a"
             ],
             [
              0.8888888888888888,
              "#fdca26"
             ],
             [
              1,
              "#f0f921"
             ]
            ],
            "type": "histogram2d"
           }
          ],
          "histogram2dcontour": [
           {
            "colorbar": {
             "outlinewidth": 0,
             "ticks": ""
            },
            "colorscale": [
             [
              0,
              "#0d0887"
             ],
             [
              0.1111111111111111,
              "#46039f"
             ],
             [
              0.2222222222222222,
              "#7201a8"
             ],
             [
              0.3333333333333333,
              "#9c179e"
             ],
             [
              0.4444444444444444,
              "#bd3786"
             ],
             [
              0.5555555555555556,
              "#d8576b"
             ],
             [
              0.6666666666666666,
              "#ed7953"
             ],
             [
              0.7777777777777778,
              "#fb9f3a"
             ],
             [
              0.8888888888888888,
              "#fdca26"
             ],
             [
              1,
              "#f0f921"
             ]
            ],
            "type": "histogram2dcontour"
           }
          ],
          "mesh3d": [
           {
            "colorbar": {
             "outlinewidth": 0,
             "ticks": ""
            },
            "type": "mesh3d"
           }
          ],
          "parcoords": [
           {
            "line": {
             "colorbar": {
              "outlinewidth": 0,
              "ticks": ""
             }
            },
            "type": "parcoords"
           }
          ],
          "pie": [
           {
            "automargin": true,
            "type": "pie"
           }
          ],
          "scatter": [
           {
            "marker": {
             "colorbar": {
              "outlinewidth": 0,
              "ticks": ""
             }
            },
            "type": "scatter"
           }
          ],
          "scatter3d": [
           {
            "line": {
             "colorbar": {
              "outlinewidth": 0,
              "ticks": ""
             }
            },
            "marker": {
             "colorbar": {
              "outlinewidth": 0,
              "ticks": ""
             }
            },
            "type": "scatter3d"
           }
          ],
          "scattercarpet": [
           {
            "marker": {
             "colorbar": {
              "outlinewidth": 0,
              "ticks": ""
             }
            },
            "type": "scattercarpet"
           }
          ],
          "scattergeo": [
           {
            "marker": {
             "colorbar": {
              "outlinewidth": 0,
              "ticks": ""
             }
            },
            "type": "scattergeo"
           }
          ],
          "scattergl": [
           {
            "marker": {
             "colorbar": {
              "outlinewidth": 0,
              "ticks": ""
             }
            },
            "type": "scattergl"
           }
          ],
          "scattermapbox": [
           {
            "marker": {
             "colorbar": {
              "outlinewidth": 0,
              "ticks": ""
             }
            },
            "type": "scattermapbox"
           }
          ],
          "scatterpolar": [
           {
            "marker": {
             "colorbar": {
              "outlinewidth": 0,
              "ticks": ""
             }
            },
            "type": "scatterpolar"
           }
          ],
          "scatterpolargl": [
           {
            "marker": {
             "colorbar": {
              "outlinewidth": 0,
              "ticks": ""
             }
            },
            "type": "scatterpolargl"
           }
          ],
          "scatterternary": [
           {
            "marker": {
             "colorbar": {
              "outlinewidth": 0,
              "ticks": ""
             }
            },
            "type": "scatterternary"
           }
          ],
          "surface": [
           {
            "colorbar": {
             "outlinewidth": 0,
             "ticks": ""
            },
            "colorscale": [
             [
              0,
              "#0d0887"
             ],
             [
              0.1111111111111111,
              "#46039f"
             ],
             [
              0.2222222222222222,
              "#7201a8"
             ],
             [
              0.3333333333333333,
              "#9c179e"
             ],
             [
              0.4444444444444444,
              "#bd3786"
             ],
             [
              0.5555555555555556,
              "#d8576b"
             ],
             [
              0.6666666666666666,
              "#ed7953"
             ],
             [
              0.7777777777777778,
              "#fb9f3a"
             ],
             [
              0.8888888888888888,
              "#fdca26"
             ],
             [
              1,
              "#f0f921"
             ]
            ],
            "type": "surface"
           }
          ],
          "table": [
           {
            "cells": {
             "fill": {
              "color": "#EBF0F8"
             },
             "line": {
              "color": "white"
             }
            },
            "header": {
             "fill": {
              "color": "#C8D4E3"
             },
             "line": {
              "color": "white"
             }
            },
            "type": "table"
           }
          ]
         },
         "layout": {
          "annotationdefaults": {
           "arrowcolor": "#2a3f5f",
           "arrowhead": 0,
           "arrowwidth": 1
          },
          "autotypenumbers": "strict",
          "coloraxis": {
           "colorbar": {
            "outlinewidth": 0,
            "ticks": ""
           }
          },
          "colorscale": {
           "diverging": [
            [
             0,
             "#8e0152"
            ],
            [
             0.1,
             "#c51b7d"
            ],
            [
             0.2,
             "#de77ae"
            ],
            [
             0.3,
             "#f1b6da"
            ],
            [
             0.4,
             "#fde0ef"
            ],
            [
             0.5,
             "#f7f7f7"
            ],
            [
             0.6,
             "#e6f5d0"
            ],
            [
             0.7,
             "#b8e186"
            ],
            [
             0.8,
             "#7fbc41"
            ],
            [
             0.9,
             "#4d9221"
            ],
            [
             1,
             "#276419"
            ]
           ],
           "sequential": [
            [
             0,
             "#0d0887"
            ],
            [
             0.1111111111111111,
             "#46039f"
            ],
            [
             0.2222222222222222,
             "#7201a8"
            ],
            [
             0.3333333333333333,
             "#9c179e"
            ],
            [
             0.4444444444444444,
             "#bd3786"
            ],
            [
             0.5555555555555556,
             "#d8576b"
            ],
            [
             0.6666666666666666,
             "#ed7953"
            ],
            [
             0.7777777777777778,
             "#fb9f3a"
            ],
            [
             0.8888888888888888,
             "#fdca26"
            ],
            [
             1,
             "#f0f921"
            ]
           ],
           "sequentialminus": [
            [
             0,
             "#0d0887"
            ],
            [
             0.1111111111111111,
             "#46039f"
            ],
            [
             0.2222222222222222,
             "#7201a8"
            ],
            [
             0.3333333333333333,
             "#9c179e"
            ],
            [
             0.4444444444444444,
             "#bd3786"
            ],
            [
             0.5555555555555556,
             "#d8576b"
            ],
            [
             0.6666666666666666,
             "#ed7953"
            ],
            [
             0.7777777777777778,
             "#fb9f3a"
            ],
            [
             0.8888888888888888,
             "#fdca26"
            ],
            [
             1,
             "#f0f921"
            ]
           ]
          },
          "colorway": [
           "#636efa",
           "#EF553B",
           "#00cc96",
           "#ab63fa",
           "#FFA15A",
           "#19d3f3",
           "#FF6692",
           "#B6E880",
           "#FF97FF",
           "#FECB52"
          ],
          "font": {
           "color": "#2a3f5f"
          },
          "geo": {
           "bgcolor": "white",
           "lakecolor": "white",
           "landcolor": "#E5ECF6",
           "showlakes": true,
           "showland": true,
           "subunitcolor": "white"
          },
          "hoverlabel": {
           "align": "left"
          },
          "hovermode": "closest",
          "mapbox": {
           "style": "light"
          },
          "paper_bgcolor": "white",
          "plot_bgcolor": "#E5ECF6",
          "polar": {
           "angularaxis": {
            "gridcolor": "white",
            "linecolor": "white",
            "ticks": ""
           },
           "bgcolor": "#E5ECF6",
           "radialaxis": {
            "gridcolor": "white",
            "linecolor": "white",
            "ticks": ""
           }
          },
          "scene": {
           "xaxis": {
            "backgroundcolor": "#E5ECF6",
            "gridcolor": "white",
            "gridwidth": 2,
            "linecolor": "white",
            "showbackground": true,
            "ticks": "",
            "zerolinecolor": "white"
           },
           "yaxis": {
            "backgroundcolor": "#E5ECF6",
            "gridcolor": "white",
            "gridwidth": 2,
            "linecolor": "white",
            "showbackground": true,
            "ticks": "",
            "zerolinecolor": "white"
           },
           "zaxis": {
            "backgroundcolor": "#E5ECF6",
            "gridcolor": "white",
            "gridwidth": 2,
            "linecolor": "white",
            "showbackground": true,
            "ticks": "",
            "zerolinecolor": "white"
           }
          },
          "shapedefaults": {
           "line": {
            "color": "#2a3f5f"
           }
          },
          "ternary": {
           "aaxis": {
            "gridcolor": "white",
            "linecolor": "white",
            "ticks": ""
           },
           "baxis": {
            "gridcolor": "white",
            "linecolor": "white",
            "ticks": ""
           },
           "bgcolor": "#E5ECF6",
           "caxis": {
            "gridcolor": "white",
            "linecolor": "white",
            "ticks": ""
           }
          },
          "title": {
           "x": 0.05
          },
          "xaxis": {
           "automargin": true,
           "gridcolor": "white",
           "linecolor": "white",
           "ticks": "",
           "title": {
            "standoff": 15
           },
           "zerolinecolor": "white",
           "zerolinewidth": 2
          },
          "yaxis": {
           "automargin": true,
           "gridcolor": "white",
           "linecolor": "white",
           "ticks": "",
           "title": {
            "standoff": 15
           },
           "zerolinecolor": "white",
           "zerolinewidth": 2
          }
         }
        }
       }
      }
     },
     "metadata": {},
     "output_type": "display_data"
    }
   ],
   "source": [
    "import plotly.express as px\n",
    "lst=df.columns\n",
    "lst=['style','bpm','mfcc1_mean', 'mfcc2_mean', 'mfcc3_mean',\n",
    "       'mfcc4_mean', 'mfcc5_mean', 'mfcc6_mean', 'mfcc7_mean', 'mfcc8_mean',\n",
    "       'mfcc9_mean', 'mfcc10_mean', 'mfcc11_mean', 'mfcc12_mean',\n",
    "       'mfcc13_mean', 'mfcc1_std', 'mfcc2_std', 'mfcc3_std', 'mfcc4_std',\n",
    "       'mfcc5_std', 'mfcc6_std', 'mfcc7_std', 'mfcc8_std', 'mfcc9_std',\n",
    "       'mfcc10_std', 'mfcc11_std', 'mfcc12_std', 'mfcc13_std',\n",
    "       'delta_mfcc1_mean', 'delta_mfcc2_mean', 'delta_mfcc3_mean',\n",
    "       'delta_mfcc4_mean', 'delta_mfcc5_mean', 'delta_mfcc6_mean',\n",
    "       'delta_mfcc7_mean', 'delta_mfcc8_mean', 'delta_mfcc9_mean',\n",
    "       'delta_mfcc10_mean', 'delta_mfcc11_mean', 'delta_mfcc12_mean',\n",
    "       'delta_mfcc13_mean', 'delta_mfcc1_std', 'delta_mfcc2_std',\n",
    "       'delta_mfcc3_std', 'delta_mfcc4_std', 'delta_mfcc5_std',\n",
    "       'delta_mfcc6_std', 'delta_mfcc7_std', 'delta_mfcc8_std',\n",
    "       'delta_mfcc9_std', 'delta_mfcc10_std', 'delta_mfcc11_std',\n",
    "       'delta_mfcc12_std', 'delta_mfcc13_std',\\\n",
    "       'centroid_mean','centroid_std','rms_mean','rms_std','zcr_mean','zcr_std','crest_mean','crest_std','flux_mean','flux_std','onsets_mean', 'onsets_std','onsets_mid_mean', 'onsets_mid_std',\n",
    "       'onsets_high_mean', 'onsets_high_std']\n",
    "fig = px.scatter_matrix(df[lst],dimensions=['mfcc1_mean', 'mfcc2_mean','onsets_mean','onsets_std','bpm'],color='style')\n",
    "fig.show()"
   ]
  },
  {
   "cell_type": "markdown",
   "metadata": {},
   "source": [
    "### Feature Normalization and train-test split"
   ]
  },
  {
   "cell_type": "code",
   "execution_count": 99,
   "metadata": {},
   "outputs": [
    {
     "data": {
      "text/html": [
       "<div>\n",
       "<style scoped>\n",
       "    .dataframe tbody tr th:only-of-type {\n",
       "        vertical-align: middle;\n",
       "    }\n",
       "\n",
       "    .dataframe tbody tr th {\n",
       "        vertical-align: top;\n",
       "    }\n",
       "\n",
       "    .dataframe thead th {\n",
       "        text-align: right;\n",
       "    }\n",
       "</style>\n",
       "<table border=\"1\" class=\"dataframe\">\n",
       "  <thead>\n",
       "    <tr style=\"text-align: right;\">\n",
       "      <th></th>\n",
       "      <th>drummer</th>\n",
       "      <th>session</th>\n",
       "      <th>id</th>\n",
       "      <th>style</th>\n",
       "      <th>bpm</th>\n",
       "      <th>beat_type</th>\n",
       "      <th>time_signature</th>\n",
       "      <th>midi_filename</th>\n",
       "      <th>audio_filename</th>\n",
       "      <th>duration</th>\n",
       "      <th>...</th>\n",
       "      <th>delta_mfcc10_std</th>\n",
       "      <th>delta_mfcc11_std</th>\n",
       "      <th>delta_mfcc12_std</th>\n",
       "      <th>delta_mfcc13_std</th>\n",
       "      <th>onsets_low_mean</th>\n",
       "      <th>onsets_low_std</th>\n",
       "      <th>onsets_mid_mean</th>\n",
       "      <th>onsets_mid_std</th>\n",
       "      <th>onsets_high_mean</th>\n",
       "      <th>onsets_high_std</th>\n",
       "    </tr>\n",
       "  </thead>\n",
       "  <tbody>\n",
       "    <tr>\n",
       "      <th>0</th>\n",
       "      <td>drummer1</td>\n",
       "      <td>drummer1/session1</td>\n",
       "      <td>drummer1/session1/1</td>\n",
       "      <td>funk</td>\n",
       "      <td>80</td>\n",
       "      <td>beat</td>\n",
       "      <td>4-4</td>\n",
       "      <td>drummer1/session1/1_funk_80_beat_4-4.mid</td>\n",
       "      <td>drummer1/session1/1_funk_80_beat_4-4.wav</td>\n",
       "      <td>86.704688</td>\n",
       "      <td>...</td>\n",
       "      <td>1.366241</td>\n",
       "      <td>1.161793</td>\n",
       "      <td>0.966226</td>\n",
       "      <td>0.962835</td>\n",
       "      <td></td>\n",
       "      <td></td>\n",
       "      <td>0.030166</td>\n",
       "      <td>0.171043</td>\n",
       "      <td>0.176989</td>\n",
       "      <td>0.386524</td>\n",
       "    </tr>\n",
       "    <tr>\n",
       "      <th>1</th>\n",
       "      <td>drummer1</td>\n",
       "      <td>drummer1/session1</td>\n",
       "      <td>drummer1/session1/102</td>\n",
       "      <td>funk</td>\n",
       "      <td>95</td>\n",
       "      <td>beat</td>\n",
       "      <td>4-4</td>\n",
       "      <td>drummer1/session1/102_funk_95_beat_4-4.mid</td>\n",
       "      <td>drummer1/session1/102_funk_95_beat_4-4.wav</td>\n",
       "      <td>224.807558</td>\n",
       "      <td>...</td>\n",
       "      <td>1.304854</td>\n",
       "      <td>1.059812</td>\n",
       "      <td>1.017045</td>\n",
       "      <td>1.017376</td>\n",
       "      <td></td>\n",
       "      <td></td>\n",
       "      <td>0.140688</td>\n",
       "      <td>0.363956</td>\n",
       "      <td>0.258961</td>\n",
       "      <td>0.468377</td>\n",
       "    </tr>\n",
       "    <tr>\n",
       "      <th>2</th>\n",
       "      <td>drummer1</td>\n",
       "      <td>drummer1/session1</td>\n",
       "      <td>drummer1/session1/2</td>\n",
       "      <td>funk</td>\n",
       "      <td>80</td>\n",
       "      <td>beat</td>\n",
       "      <td>4-4</td>\n",
       "      <td>drummer1/session1/2_funk_80_beat_4-4.mid</td>\n",
       "      <td>drummer1/session1/2_funk_80_beat_4-4.wav</td>\n",
       "      <td>86.914062</td>\n",
       "      <td>...</td>\n",
       "      <td>1.258876</td>\n",
       "      <td>1.048738</td>\n",
       "      <td>0.897463</td>\n",
       "      <td>0.908775</td>\n",
       "      <td></td>\n",
       "      <td></td>\n",
       "      <td>0.032034</td>\n",
       "      <td>0.176091</td>\n",
       "      <td>0.139883</td>\n",
       "      <td>0.353724</td>\n",
       "    </tr>\n",
       "    <tr>\n",
       "      <th>3</th>\n",
       "      <td>drummer1</td>\n",
       "      <td>drummer1/session1</td>\n",
       "      <td>drummer1/session1/3</td>\n",
       "      <td>funk</td>\n",
       "      <td>80</td>\n",
       "      <td>beat</td>\n",
       "      <td>4-4</td>\n",
       "      <td>drummer1/session1/3_funk_80_beat_4-4.mid</td>\n",
       "      <td>drummer1/session1/3_funk_80_beat_4-4.wav</td>\n",
       "      <td>122.851562</td>\n",
       "      <td>...</td>\n",
       "      <td>1.208663</td>\n",
       "      <td>0.943772</td>\n",
       "      <td>0.90037</td>\n",
       "      <td>0.973241</td>\n",
       "      <td></td>\n",
       "      <td></td>\n",
       "      <td>0.049868</td>\n",
       "      <td>0.22026</td>\n",
       "      <td>0.164715</td>\n",
       "      <td>0.381467</td>\n",
       "    </tr>\n",
       "    <tr>\n",
       "      <th>4</th>\n",
       "      <td>drummer1</td>\n",
       "      <td>drummer1/session1</td>\n",
       "      <td>drummer1/session1/47</td>\n",
       "      <td>jazz</td>\n",
       "      <td>102</td>\n",
       "      <td>beat</td>\n",
       "      <td>4-4</td>\n",
       "      <td>drummer1/session1/47_jazz_102_beat_4-4.mid</td>\n",
       "      <td>drummer1/session1/47_jazz_102_beat_4-4.wav</td>\n",
       "      <td>183.415349</td>\n",
       "      <td>...</td>\n",
       "      <td>1.060434</td>\n",
       "      <td>0.949308</td>\n",
       "      <td>1.027447</td>\n",
       "      <td>0.852236</td>\n",
       "      <td></td>\n",
       "      <td></td>\n",
       "      <td>0.03397</td>\n",
       "      <td>0.185349</td>\n",
       "      <td>0.142418</td>\n",
       "      <td>0.361025</td>\n",
       "    </tr>\n",
       "    <tr>\n",
       "      <th>...</th>\n",
       "      <td>...</td>\n",
       "      <td>...</td>\n",
       "      <td>...</td>\n",
       "      <td>...</td>\n",
       "      <td>...</td>\n",
       "      <td>...</td>\n",
       "      <td>...</td>\n",
       "      <td>...</td>\n",
       "      <td>...</td>\n",
       "      <td>...</td>\n",
       "      <td>...</td>\n",
       "      <td>...</td>\n",
       "      <td>...</td>\n",
       "      <td>...</td>\n",
       "      <td>...</td>\n",
       "      <td>...</td>\n",
       "      <td>...</td>\n",
       "      <td>...</td>\n",
       "      <td>...</td>\n",
       "      <td>...</td>\n",
       "      <td>...</td>\n",
       "    </tr>\n",
       "    <tr>\n",
       "      <th>242</th>\n",
       "      <td>drummer9</td>\n",
       "      <td>drummer9/session1</td>\n",
       "      <td>drummer9/session1/5</td>\n",
       "      <td>rock</td>\n",
       "      <td>100</td>\n",
       "      <td>beat</td>\n",
       "      <td>4-4</td>\n",
       "      <td>drummer9/session1/5_rock_100_beat_4-4.mid</td>\n",
       "      <td>drummer9/session1/5_rock_100_beat_4-4.wav</td>\n",
       "      <td>71.78</td>\n",
       "      <td>...</td>\n",
       "      <td>1.170351</td>\n",
       "      <td>1.161183</td>\n",
       "      <td>1.136704</td>\n",
       "      <td>1.0122</td>\n",
       "      <td></td>\n",
       "      <td></td>\n",
       "      <td>0.078039</td>\n",
       "      <td>0.268233</td>\n",
       "      <td>0.177362</td>\n",
       "      <td>0.398502</td>\n",
       "    </tr>\n",
       "    <tr>\n",
       "      <th>243</th>\n",
       "      <td>drummer9</td>\n",
       "      <td>drummer9/session1</td>\n",
       "      <td>drummer9/session1/6</td>\n",
       "      <td>rock</td>\n",
       "      <td>100</td>\n",
       "      <td>beat</td>\n",
       "      <td>4-4</td>\n",
       "      <td>drummer9/session1/6_rock_100_beat_4-4.mid</td>\n",
       "      <td>drummer9/session1/6_rock_100_beat_4-4.wav</td>\n",
       "      <td>4.74875</td>\n",
       "      <td>...</td>\n",
       "      <td>1.077896</td>\n",
       "      <td>1.273932</td>\n",
       "      <td>0.874763</td>\n",
       "      <td>0.882934</td>\n",
       "      <td></td>\n",
       "      <td></td>\n",
       "      <td>0.039024</td>\n",
       "      <td>0.193653</td>\n",
       "      <td>0.126829</td>\n",
       "      <td>0.332782</td>\n",
       "    </tr>\n",
       "    <tr>\n",
       "      <th>244</th>\n",
       "      <td>drummer9</td>\n",
       "      <td>drummer9/session1</td>\n",
       "      <td>drummer9/session1/7</td>\n",
       "      <td>rock</td>\n",
       "      <td>100</td>\n",
       "      <td>beat</td>\n",
       "      <td>4-4</td>\n",
       "      <td>drummer9/session1/7_rock_100_beat_4-4.mid</td>\n",
       "      <td>drummer9/session1/7_rock_100_beat_4-4.wav</td>\n",
       "      <td>23.93875</td>\n",
       "      <td>...</td>\n",
       "      <td>1.192762</td>\n",
       "      <td>1.090079</td>\n",
       "      <td>1.13261</td>\n",
       "      <td>1.10033</td>\n",
       "      <td></td>\n",
       "      <td></td>\n",
       "      <td>0.058027</td>\n",
       "      <td>0.233795</td>\n",
       "      <td>0.235977</td>\n",
       "      <td>0.442454</td>\n",
       "    </tr>\n",
       "    <tr>\n",
       "      <th>245</th>\n",
       "      <td>drummer9</td>\n",
       "      <td>drummer9/session1</td>\n",
       "      <td>drummer9/session1/8</td>\n",
       "      <td>rock</td>\n",
       "      <td>100</td>\n",
       "      <td>beat</td>\n",
       "      <td>4-4</td>\n",
       "      <td>drummer9/session1/8_rock_100_beat_4-4.mid</td>\n",
       "      <td>drummer9/session1/8_rock_100_beat_4-4.wav</td>\n",
       "      <td>11.20875</td>\n",
       "      <td>...</td>\n",
       "      <td>1.335897</td>\n",
       "      <td>1.109056</td>\n",
       "      <td>1.246564</td>\n",
       "      <td>1.127368</td>\n",
       "      <td></td>\n",
       "      <td></td>\n",
       "      <td>0.087576</td>\n",
       "      <td>0.282678</td>\n",
       "      <td>0.234216</td>\n",
       "      <td>0.437697</td>\n",
       "    </tr>\n",
       "    <tr>\n",
       "      <th>246</th>\n",
       "      <td>drummer9</td>\n",
       "      <td>drummer9/session1</td>\n",
       "      <td>drummer9/session1/9</td>\n",
       "      <td>rock</td>\n",
       "      <td>100</td>\n",
       "      <td>beat</td>\n",
       "      <td>4-4</td>\n",
       "      <td>drummer9/session1/9_rock_100_beat_4-4.mid</td>\n",
       "      <td>drummer9/session1/9_rock_100_beat_4-4.wav</td>\n",
       "      <td>9.07125</td>\n",
       "      <td>...</td>\n",
       "      <td>1.302988</td>\n",
       "      <td>1.092199</td>\n",
       "      <td>1.156614</td>\n",
       "      <td>1.004919</td>\n",
       "      <td></td>\n",
       "      <td></td>\n",
       "      <td>0.061856</td>\n",
       "      <td>0.240893</td>\n",
       "      <td>0.213918</td>\n",
       "      <td>0.434483</td>\n",
       "    </tr>\n",
       "  </tbody>\n",
       "</table>\n",
       "<p>247 rows × 86 columns</p>\n",
       "</div>"
      ],
      "text/plain": [
       "      drummer            session                     id style  bpm beat_type  \\\n",
       "0    drummer1  drummer1/session1    drummer1/session1/1  funk   80      beat   \n",
       "1    drummer1  drummer1/session1  drummer1/session1/102  funk   95      beat   \n",
       "2    drummer1  drummer1/session1    drummer1/session1/2  funk   80      beat   \n",
       "3    drummer1  drummer1/session1    drummer1/session1/3  funk   80      beat   \n",
       "4    drummer1  drummer1/session1   drummer1/session1/47  jazz  102      beat   \n",
       "..        ...                ...                    ...   ...  ...       ...   \n",
       "242  drummer9  drummer9/session1    drummer9/session1/5  rock  100      beat   \n",
       "243  drummer9  drummer9/session1    drummer9/session1/6  rock  100      beat   \n",
       "244  drummer9  drummer9/session1    drummer9/session1/7  rock  100      beat   \n",
       "245  drummer9  drummer9/session1    drummer9/session1/8  rock  100      beat   \n",
       "246  drummer9  drummer9/session1    drummer9/session1/9  rock  100      beat   \n",
       "\n",
       "    time_signature                               midi_filename  \\\n",
       "0              4-4    drummer1/session1/1_funk_80_beat_4-4.mid   \n",
       "1              4-4  drummer1/session1/102_funk_95_beat_4-4.mid   \n",
       "2              4-4    drummer1/session1/2_funk_80_beat_4-4.mid   \n",
       "3              4-4    drummer1/session1/3_funk_80_beat_4-4.mid   \n",
       "4              4-4  drummer1/session1/47_jazz_102_beat_4-4.mid   \n",
       "..             ...                                         ...   \n",
       "242            4-4   drummer9/session1/5_rock_100_beat_4-4.mid   \n",
       "243            4-4   drummer9/session1/6_rock_100_beat_4-4.mid   \n",
       "244            4-4   drummer9/session1/7_rock_100_beat_4-4.mid   \n",
       "245            4-4   drummer9/session1/8_rock_100_beat_4-4.mid   \n",
       "246            4-4   drummer9/session1/9_rock_100_beat_4-4.mid   \n",
       "\n",
       "                                 audio_filename    duration  ...  \\\n",
       "0      drummer1/session1/1_funk_80_beat_4-4.wav   86.704688  ...   \n",
       "1    drummer1/session1/102_funk_95_beat_4-4.wav  224.807558  ...   \n",
       "2      drummer1/session1/2_funk_80_beat_4-4.wav   86.914062  ...   \n",
       "3      drummer1/session1/3_funk_80_beat_4-4.wav  122.851562  ...   \n",
       "4    drummer1/session1/47_jazz_102_beat_4-4.wav  183.415349  ...   \n",
       "..                                          ...         ...  ...   \n",
       "242   drummer9/session1/5_rock_100_beat_4-4.wav       71.78  ...   \n",
       "243   drummer9/session1/6_rock_100_beat_4-4.wav     4.74875  ...   \n",
       "244   drummer9/session1/7_rock_100_beat_4-4.wav    23.93875  ...   \n",
       "245   drummer9/session1/8_rock_100_beat_4-4.wav    11.20875  ...   \n",
       "246   drummer9/session1/9_rock_100_beat_4-4.wav     9.07125  ...   \n",
       "\n",
       "    delta_mfcc10_std delta_mfcc11_std delta_mfcc12_std delta_mfcc13_std  \\\n",
       "0           1.366241         1.161793         0.966226         0.962835   \n",
       "1           1.304854         1.059812         1.017045         1.017376   \n",
       "2           1.258876         1.048738         0.897463         0.908775   \n",
       "3           1.208663         0.943772          0.90037         0.973241   \n",
       "4           1.060434         0.949308         1.027447         0.852236   \n",
       "..               ...              ...              ...              ...   \n",
       "242         1.170351         1.161183         1.136704           1.0122   \n",
       "243         1.077896         1.273932         0.874763         0.882934   \n",
       "244         1.192762         1.090079          1.13261          1.10033   \n",
       "245         1.335897         1.109056         1.246564         1.127368   \n",
       "246         1.302988         1.092199         1.156614         1.004919   \n",
       "\n",
       "    onsets_low_mean onsets_low_std onsets_mid_mean onsets_mid_std  \\\n",
       "0                                         0.030166       0.171043   \n",
       "1                                         0.140688       0.363956   \n",
       "2                                         0.032034       0.176091   \n",
       "3                                         0.049868        0.22026   \n",
       "4                                          0.03397       0.185349   \n",
       "..              ...            ...             ...            ...   \n",
       "242                                       0.078039       0.268233   \n",
       "243                                       0.039024       0.193653   \n",
       "244                                       0.058027       0.233795   \n",
       "245                                       0.087576       0.282678   \n",
       "246                                       0.061856       0.240893   \n",
       "\n",
       "    onsets_high_mean onsets_high_std  \n",
       "0           0.176989        0.386524  \n",
       "1           0.258961        0.468377  \n",
       "2           0.139883        0.353724  \n",
       "3           0.164715        0.381467  \n",
       "4           0.142418        0.361025  \n",
       "..               ...             ...  \n",
       "242         0.177362        0.398502  \n",
       "243         0.126829        0.332782  \n",
       "244         0.235977        0.442454  \n",
       "245         0.234216        0.437697  \n",
       "246         0.213918        0.434483  \n",
       "\n",
       "[247 rows x 86 columns]"
      ]
     },
     "execution_count": 99,
     "metadata": {},
     "output_type": "execute_result"
    }
   ],
   "source": [
    "df"
   ]
  },
  {
   "cell_type": "code",
   "execution_count": 28,
   "metadata": {},
   "outputs": [],
   "source": []
  },
  {
   "cell_type": "code",
   "execution_count": 29,
   "metadata": {},
   "outputs": [],
   "source": []
  },
  {
   "cell_type": "code",
   "execution_count": 30,
   "metadata": {},
   "outputs": [
    {
     "data": {
      "text/plain": [
       "(247, 42)"
      ]
     },
     "execution_count": 30,
     "metadata": {},
     "output_type": "execute_result"
    }
   ],
   "source": [
    "X.shape"
   ]
  },
  {
   "cell_type": "code",
   "execution_count": 31,
   "metadata": {},
   "outputs": [
    {
     "name": "stdout",
     "output_type": "stream",
     "text": [
      "(172, 42)\n",
      "(172, 1)\n",
      "(75, 42)\n",
      "(75, 1)\n"
     ]
    }
   ],
   "source": [
    "print(X_train.shape)\n",
    "print(y_train.shape)\n",
    "print(X_test.shape)\n",
    "print(y_test.shape)"
   ]
  },
  {
   "cell_type": "code",
   "execution_count": 32,
   "metadata": {},
   "outputs": [],
   "source": []
  },
  {
   "cell_type": "code",
   "execution_count": 33,
   "metadata": {},
   "outputs": [],
   "source": [
    "from sklearn.exceptions import UndefinedMetricWarning\n",
    "warnings.filterwarnings('ignore', category=UndefinedMetricWarning) \n",
    "warnings.filterwarnings(action='ignore', category=DataConversionWarning)"
   ]
  },
  {
   "cell_type": "markdown",
   "metadata": {},
   "source": [
    "## Results with MFCCs + Delta MFCCs"
   ]
  },
  {
   "cell_type": "code",
   "execution_count": 21,
   "metadata": {},
   "outputs": [
    {
     "name": "stdout",
     "output_type": "stream",
     "text": [
      "-------------------------------------------------------------------------------\n",
      "            KNN with k=4              \n",
      "-------------------------------------------------------------------------------\n",
      "Confusion Matrix:\n",
      " [[ 6  1  0  2]\n",
      " [ 1  4  0  6]\n",
      " [ 0  0  6  2]\n",
      " [ 4  6  3 41]]\n",
      "Accuracy score: 0.6951219512195121\n",
      "Macro accuracy score: 0.5949197860962567\n",
      "-------------------------------------------------------------------------------\n",
      "            SVM with C=1, kernel = rbf, degree = 3              \n",
      "-------------------------------------------------------------------------------\n",
      "Confusion Matrix:\n",
      " [[ 0  0  0  9]\n",
      " [ 0  0  0 11]\n",
      " [ 0  0  1  7]\n",
      " [ 0  0  0 54]]\n",
      "Accuracy score: 0.6707317073170732\n",
      "Macro accuracy score: 0.41666666666666663\n",
      "-------------------------------------------------------------------------------\n",
      "            RF with n_estimators = 100, criterion=gini, max_depth=None, min_samples_split=2,min_samples_leaf=1,max_features='auto', max_leaf_nodes=None,class_weight='balanced'              \n",
      "-------------------------------------------------------------------------------\n",
      "Confusion Matrix:\n",
      " [[ 3  0  0  6]\n",
      " [ 0  3  0  8]\n",
      " [ 0  0  2  6]\n",
      " [ 0  0  0 54]]\n",
      "Accuracy score: 0.7560975609756098\n",
      "Macro accuracy score: 0.9324324324324325\n"
     ]
    }
   ],
   "source": [
    "print(\"-------------------------------------------------------------------------------\")\n",
    "print(\"            KNN with k=4              \")\n",
    "print(\"-------------------------------------------------------------------------------\")\n",
    "k=4\n",
    "KNN_model = KNeighborsClassifier(n_neighbors=k)\n",
    "KNN_model.fit(X_train, y_train)\n",
    "KNN_prediction = KNN_model.predict(X_test)\n",
    "score=precision_score(y_test, KNN_prediction, average='macro')\n",
    "accuracy = accuracy_score(y_test, KNN_prediction)\n",
    "cm = confusion_matrix(y_test, KNN_prediction) # clean, highfry, layered, lowfry, midfry, no vocals\n",
    "print(f\"Confusion Matrix:\\n {cm}\")\n",
    "print(f\"Accuracy score: {accuracy}\")\n",
    "print(f\"Macro accuracy score: {score}\")\n",
    "\n",
    "print(\"-------------------------------------------------------------------------------\")\n",
    "print(\"            SVM with C=1, kernel = rbf, degree = 3              \")\n",
    "print(\"-------------------------------------------------------------------------------\")\n",
    "\n",
    "SVM_model = make_pipeline(StandardScaler(), SVC(gamma='auto',C=1.0, kernel='rbf', degree=3,random_state=None))\n",
    "SVM_model.fit(X_train, y_train)\n",
    "SVM_prediction = SVM_model.predict(X_test)\n",
    "score=precision_score(y_test, SVM_prediction, average='macro')\n",
    "accuracy = accuracy_score(y_test, SVM_prediction)\n",
    "cm = confusion_matrix(y_test, SVM_prediction) # clean, highfry, layered, lowfry, midfry, no vocals\n",
    "print(f\"Confusion Matrix:\\n {cm}\")\n",
    "print(f\"Accuracy score: {accuracy}\")\n",
    "print(f\"Macro accuracy score: {score}\")\n",
    "\n",
    "print(\"-------------------------------------------------------------------------------\")\n",
    "print(\"            RF with n_estimators = 100, criterion=gini, max_depth=None, min_samples_split=2,min_samples_leaf=1,max_features='auto', max_leaf_nodes=None,class_weight='balanced'              \")\n",
    "print(\"-------------------------------------------------------------------------------\")\n",
    "\n",
    "RF_model = RandomForestClassifier(n_estimators=100,criterion='gini',max_depth=None,\\\n",
    "    min_samples_split=2,min_samples_leaf=1,max_features='auto',max_leaf_nodes=None,class_weight='balanced')\n",
    "RF_model.fit(X_train, y_train)\n",
    "RF_prediction = RF_model.predict(X_test)\n",
    "score=precision_score(y_test, RF_prediction, average='macro')\n",
    "accuracy = accuracy_score(y_test, RF_prediction)\n",
    "cm = confusion_matrix(y_test, RF_prediction) # clean, highfry, layered, lowfry, midfry, no vocals\n",
    "print(f\"Confusion Matrix:\\n {cm}\")\n",
    "print(f\"Accuracy score: {accuracy}\")\n",
    "print(f\"Macro accuracy score: {score}\")"
   ]
  },
  {
   "cell_type": "markdown",
   "metadata": {},
   "source": [
    "## Overall Hyperparameter Optimization"
   ]
  },
  {
   "cell_type": "code",
   "execution_count": 22,
   "metadata": {},
   "outputs": [
    {
     "name": "stdout",
     "output_type": "stream",
     "text": [
      "-------------------------------------------------------------------------------\n",
      "            KNN             \n",
      "{'n_neighbors': 9}\n",
      "-------------------------------------------------------------------------------\n",
      "Fitting 10 folds for each of 6 candidates, totalling 60 fits\n",
      "[CV] END ......................................n_neighbors=4; total time=   0.0s\n",
      "[CV] END ......................................n_neighbors=4; total time=   0.0s\n",
      "[CV] END ......................................n_neighbors=4; total time=   0.0s\n",
      "[CV] END ......................................n_neighbors=4; total time=   0.0s\n",
      "[CV] END ......................................n_neighbors=4; total time=   0.0s\n",
      "[CV] END ......................................n_neighbors=4; total time=   0.0s\n",
      "[CV] END ......................................n_neighbors=4; total time=   0.0s\n",
      "[CV] END ......................................n_neighbors=4; total time=   0.0s\n",
      "[CV] END ......................................n_neighbors=4; total time=   0.0s\n",
      "[CV] END ......................................n_neighbors=4; total time=   0.0s\n",
      "[CV] END ......................................n_neighbors=5; total time=   0.0s\n",
      "[CV] END ......................................n_neighbors=5; total time=   0.0s\n",
      "[CV] END ......................................n_neighbors=5; total time=   0.0s\n",
      "[CV] END ......................................n_neighbors=5; total time=   0.0s\n",
      "[CV] END ......................................n_neighbors=5; total time=   0.0s\n",
      "[CV] END ......................................n_neighbors=5; total time=   0.0s\n",
      "[CV] END ......................................n_neighbors=5; total time=   0.0s\n",
      "[CV] END ......................................n_neighbors=5; total time=   0.0s\n",
      "[CV] END ......................................n_neighbors=5; total time=   0.0s\n",
      "[CV] END ......................................n_neighbors=5; total time=   0.0s\n",
      "[CV] END ......................................n_neighbors=6; total time=   0.0s\n",
      "[CV] END ......................................n_neighbors=6; total time=   0.0s\n",
      "[CV] END ......................................n_neighbors=6; total time=   0.0s\n",
      "[CV] END ......................................n_neighbors=6; total time=   0.0s\n",
      "[CV] END ......................................n_neighbors=6; total time=   0.0s\n",
      "[CV] END ......................................n_neighbors=6; total time=   0.0s\n",
      "[CV] END ......................................n_neighbors=6; total time=   0.0s\n",
      "[CV] END ......................................n_neighbors=6; total time=   0.0s\n",
      "[CV] END ......................................n_neighbors=6; total time=   0.0s\n",
      "[CV] END ......................................n_neighbors=6; total time=   0.0s\n",
      "[CV] END ......................................n_neighbors=7; total time=   0.0s\n",
      "[CV] END ......................................n_neighbors=7; total time=   0.0s\n",
      "[CV] END ......................................n_neighbors=7; total time=   0.0s\n",
      "[CV] END ......................................n_neighbors=7; total time=   0.0s\n",
      "[CV] END ......................................n_neighbors=7; total time=   0.0s\n",
      "[CV] END ......................................n_neighbors=7; total time=   0.0s\n",
      "[CV] END ......................................n_neighbors=7; total time=   0.0s\n",
      "[CV] END ......................................n_neighbors=7; total time=   0.0s\n",
      "[CV] END ......................................n_neighbors=7; total time=   0.0s\n",
      "[CV] END ......................................n_neighbors=7; total time=   0.0s\n",
      "[CV] END ......................................n_neighbors=8; total time=   0.0s\n",
      "[CV] END ......................................n_neighbors=8; total time=   0.0s\n",
      "[CV] END ......................................n_neighbors=8; total time=   0.0s\n",
      "[CV] END ......................................n_neighbors=8; total time=   0.0s\n",
      "[CV] END ......................................n_neighbors=8; total time=   0.0s\n",
      "[CV] END ......................................n_neighbors=8; total time=   0.0s\n",
      "[CV] END ......................................n_neighbors=8; total time=   0.0s\n",
      "[CV] END ......................................n_neighbors=8; total time=   0.0s\n",
      "[CV] END ......................................n_neighbors=8; total time=   0.0s\n",
      "[CV] END ......................................n_neighbors=8; total time=   0.0s\n",
      "[CV] END ......................................n_neighbors=9; total time=   0.0s\n",
      "[CV] END ......................................n_neighbors=9; total time=   0.0s\n",
      "[CV] END ......................................n_neighbors=9; total time=   0.0s\n",
      "[CV] END ......................................n_neighbors=9; total time=   0.0s\n"
     ]
    },
    {
     "name": "stderr",
     "output_type": "stream",
     "text": [
      "/usr/local/lib/python3.9/site-packages/sklearn/model_selection/_search.py:285: UserWarning: The total space of parameters 6 is smaller than n_iter=10. Running 6 iterations. For exhaustive searches, use GridSearchCV.\n",
      "  warnings.warn(\n"
     ]
    },
    {
     "name": "stdout",
     "output_type": "stream",
     "text": [
      "[CV] END ......................................n_neighbors=9; total time=   0.0s\n",
      "[CV] END ......................................n_neighbors=9; total time=   0.0s\n",
      "[CV] END ......................................n_neighbors=9; total time=   0.0s\n",
      "[CV] END ......................................n_neighbors=9; total time=   0.0s\n",
      "[CV] END ......................................n_neighbors=9; total time=   0.0s\n",
      "[CV] END ......................................n_neighbors=9; total time=   0.0s\n",
      "{'n_neighbors': 5}\n",
      "Training CV Accuracy: 0.7161764705882353\n",
      "Confusion Matrix:\n",
      " [[ 6  0  0  3]\n",
      " [ 1  4  0  6]\n",
      " [ 0  0  3  5]\n",
      " [ 5  2  3 44]]\n",
      "Accuracy score: 0.6951219512195121\n",
      "Macro accuracy score: 0.6063218390804597\n",
      "-------------------------------------------------------------------------------\n",
      "            SVM             \n",
      "{'kernel': 'poly', 'gamma': 'scale', 'degree': 5, 'decision_function_shape': 'ovr', 'coef0': 3.2, 'C': 1.053646986645436}\n",
      "-------------------------------------------------------------------------------\n",
      "Fitting 10 folds for each of 10 candidates, totalling 100 fits\n",
      "{'kernel': 'poly', 'gamma': 'auto', 'degree': 4, 'decision_function_shape': 'ovo', 'coef0': 1.7000000000000002, 'C': 1.0388004405460807}\n",
      "Confusion Matrix:\n",
      " [[ 6  1  0  2]\n",
      " [ 0  5  0  6]\n",
      " [ 0  0  6  2]\n",
      " [ 3  5  4 42]]\n",
      "Accuracy score: 0.7195121951219512\n",
      "Macro accuracy score: 0.6322261072261073\n",
      "-------------------------------------------------------------------------------\n",
      "            Random Forest             \n",
      "{'n_estimators': 650, 'min_samples_split': 5, 'min_samples_leaf': 2, 'max_leaf_nodes': 14, 'max_features': 30, 'max_depth': 46, 'criterion': 'entropy', 'class_weight': 'balanced_subsample'}\n",
      "-------------------------------------------------------------------------------\n",
      "Fitting 10 folds for each of 10 candidates, totalling 100 fits\n"
     ]
    },
    {
     "name": "stderr",
     "output_type": "stream",
     "text": [
      "/usr/local/lib/python3.9/site-packages/sklearn/model_selection/_search.py:922: UserWarning: One or more of the test scores are non-finite: [       nan        nan 0.70808824 0.72683824 0.62904412 0.76323529\n",
      "        nan 0.61727941        nan 0.61066176]\n",
      "  warnings.warn(\n"
     ]
    },
    {
     "name": "stdout",
     "output_type": "stream",
     "text": [
      "{'n_estimators': 910, 'min_samples_split': 3, 'min_samples_leaf': 3, 'max_leaf_nodes': 94, 'max_features': 51, 'max_depth': 896, 'criterion': 'entropy', 'class_weight': 'balanced_subsample'}\n",
      "Confusion Matrix:\n",
      " [[ 2  2  0  5]\n",
      " [ 0  5  0  6]\n",
      " [ 0  0  4  4]\n",
      " [ 1  1  1 51]]\n",
      "Accuracy score: 0.7560975609756098\n",
      "Macro accuracy score: 0.7160984848484848\n"
     ]
    }
   ],
   "source": [
    "print(\"-------------------------------------------------------------------------------\")\n",
    "print(\"            KNN             \")\n",
    "print(\"{'n_neighbors': 9}\")\n",
    "print(\"-------------------------------------------------------------------------------\")\n",
    "k= [int(x) for x in range(4,10)]\n",
    "knn_grid = {'n_neighbors':k}\n",
    "\n",
    "\n",
    "knn = KNeighborsClassifier()\n",
    "KNN_model=RandomizedSearchCV(estimator = knn, param_distributions=knn_grid,cv=10,verbose=2,n_jobs=1)\n",
    "KNN_model.fit(X_train, y_train)\n",
    "print(KNN_model.best_params_)\n",
    "print(f'Training CV Accuracy: {KNN_model.best_score_}')\n",
    "KNN_prediction = KNN_model.predict(X_test)\n",
    "score=precision_score(y_test, KNN_prediction, average='macro')\n",
    "accuracy = accuracy_score(y_test, KNN_prediction)\n",
    "cm = confusion_matrix(y_test, KNN_prediction) # clean, highfry, layered, lowfry, midfry, no vocals\n",
    "print(f\"Confusion Matrix:\\n {cm}\")\n",
    "print(f\"Accuracy score: {accuracy}\")\n",
    "print(f\"Macro accuracy score: {score}\")\n",
    "\n",
    "print(\"-------------------------------------------------------------------------------\")\n",
    "print(\"            SVM             \")\n",
    "print(\"{'kernel': 'poly', 'gamma': 'scale', 'degree': 5, 'decision_function_shape': 'ovr', 'coef0': 3.2, 'C': 1.053646986645436}\")\n",
    "print(\"-------------------------------------------------------------------------------\")\n",
    "\n",
    "C = [x**0.01 for x in range(25,200)]\n",
    "kernel = ['rbf','linear','poly','sigmoid']\n",
    "degree = [int(x) for x in range(1,8)]\n",
    "gamma = ['scale','auto']\n",
    "coef0 = [x*0.1 for x in range(0,40)]\n",
    "decision_function_shape = ['ovo','ovr']\n",
    "\n",
    "svm_grid = { 'C' : C,\n",
    "            'kernel' : kernel,\n",
    "            'degree' : degree,\n",
    "            'gamma' : gamma,\n",
    "            'coef0' : coef0,\n",
    "            'decision_function_shape' : decision_function_shape\n",
    "            }\n",
    "\n",
    "svc = SVC(random_state=0)\n",
    "\n",
    "\n",
    "svc_RandomGrid = RandomizedSearchCV(estimator = svc, param_distributions=svm_grid,cv=10,verbose=2,n_jobs=4)\n",
    "svc_RandomGrid.fit(X_train,y_train)\n",
    "print(svc_RandomGrid.best_params_)\n",
    "y_prediction = svc_RandomGrid.predict(X_test)\n",
    "score=precision_score(y_test, y_prediction, average='macro')\n",
    "accuracy = accuracy_score(y_test, y_prediction)\n",
    "cm = confusion_matrix(y_test, y_prediction) # clean, highfry, layered, lowfry, midfry, no vocals\n",
    "print(f\"Confusion Matrix:\\n {cm}\")\n",
    "print(f\"Accuracy score: {accuracy}\")\n",
    "print(f\"Macro accuracy score: {score}\")\n",
    "\n",
    "print(\"-------------------------------------------------------------------------------\")\n",
    "print(\"            Random Forest             \")\n",
    "print(\"{'n_estimators': 650, 'min_samples_split': 5, 'min_samples_leaf': 2, 'max_leaf_nodes': 14, 'max_features': 30, 'max_depth': 46, 'criterion': 'entropy', 'class_weight': 'balanced_subsample'}\")\n",
    "print(\"-------------------------------------------------------------------------------\")\n",
    "\n",
    "n_estimators= [x for x in range(10,1000,10)]\n",
    "criterion=['gini','entropy']\n",
    "\n",
    "max_depth=[y for y in range(1,1000,5)]\n",
    "max_depth.append(None)\n",
    "\n",
    "min_samples_split=[x for x in range(2,10)]\n",
    "min_samples_leaf=[x for x in range(1,10)]\n",
    "max_features=[x for x in range(0,100)]\n",
    "max_features.append('auto')\n",
    "max_features.append('sqrt')\n",
    "max_features.append('log2')\n",
    "max_leaf_nodes=[x for x in range(0,100)]\n",
    "class_weight=['balanced','balanced_subsample']\n",
    "\n",
    "\n",
    "rf_grid = { 'n_estimators' : n_estimators,\n",
    "            'criterion' : criterion,\n",
    "            'max_depth': max_depth,\n",
    "            'min_samples_split': min_samples_split,\n",
    "            'min_samples_leaf': min_samples_leaf,\n",
    "            'max_features': max_features,\n",
    "            'max_leaf_nodes': max_leaf_nodes,\n",
    "            'class_weight': class_weight \n",
    "            }\n",
    "\n",
    "rf = RandomForestClassifier(random_state=0)\n",
    "RF_model = RandomizedSearchCV(estimator = rf, param_distributions=rf_grid,cv=10,verbose=2,n_jobs=4)\n",
    "RF_model.fit(X_train, y_train)\n",
    "print(RF_model.best_params_)\n",
    "RF_prediction = RF_model.predict(X_test)\n",
    "score=precision_score(y_test, RF_prediction, average='macro')\n",
    "accuracy = accuracy_score(y_test, RF_prediction)\n",
    "cm = confusion_matrix(y_test, RF_prediction) # clean, highfry, layered, lowfry, midfry, no vocals\n",
    "print(f\"Confusion Matrix:\\n {cm}\")\n",
    "print(f\"Accuracy score: {accuracy}\")\n",
    "print(f\"Macro accuracy score: {score}\")"
   ]
  },
  {
   "cell_type": "markdown",
   "metadata": {},
   "source": [
    "# Hyperparameter tuning\n",
    "\n",
    "## Best Results:\n",
    "\n",
    "\n",
    "\n",
    "RF:  \n",
    "accuracy                                                     0.743902  \n",
    "macro_accuracy                                               0.678571  \n",
    "{'n_estimators': 800,\n",
    " 'min_samples_split': 8,\n",
    " 'min_samples_leaf': 2,\n",
    " 'max_leaf_nodes': 29,\n",
    " 'max_features': 45,\n",
    " 'max_depth': 796,\n",
    " 'criterion': 'entropy',\n",
    " 'class_weight': 'balanced'}\n",
    "\n",
    "\n",
    "SVM: \n",
    "\n",
    "accuracy 0.8658536585365854  \n",
    "macro-accuracy 0.8566308243727598  \n",
    "[[ 5  1  0  3]  \n",
    " [ 0  8  0  3]  \n",
    " [ 0  0  4  2]  \n",
    " [ 0  0  2 54]]  \n",
    "{'kernel': 'poly', 'gamma': 'auto', 'degree': 4, 'decision_function_shape': 'ovr', 'coef0': 0.9, 'C': 1.051659640188661}\n",
    "\n",
    "accuracy                                                     0.8414634146341463  \n",
    "macro_accuracy                                               0.8418898809523809  \n",
    "{'kernel': 'poly', 'gamma': 'scale', 'degree': 3, 'decision_function_shape': 'ovr', 'coef0': 1.1, 'C': 1.053359910724275}\n",
    "\n",
    "accuracy                                                     0.780488  \n",
    "macro_accuracy                                               0.728571  \n",
    "{'kernel': 'poly',\n",
    " 'gamma': 'scale',\n",
    " 'degree': 3,\n",
    " 'decision_function_shape': 'ovr',\n",
    " 'coef0': 0.7000000000000001,\n",
    " 'C': 1.053475672085955}\n",
    "\n",
    "accuracy              0.792683  \n",
    "macro_accuracy        0.768056  \n",
    " {'kernel': 'poly',\n",
    " 'gamma': 'scale',\n",
    " 'degree': 7,\n",
    " 'decision_function_shape': 'ovr',\n",
    " 'coef0': 0.6000000000000001,\n",
    " 'C': 1.053646986645436}\n"
   ]
  },
  {
   "cell_type": "markdown",
   "metadata": {},
   "source": [
    "### SVM Params"
   ]
  },
  {
   "cell_type": "code",
   "execution_count": 52,
   "metadata": {},
   "outputs": [
    {
     "name": "stdout",
     "output_type": "stream",
     "text": [
      "Accuracy: 0.68 (+/- 0.05)\n",
      "Accuracy: 0.67 (+/- 0.08)\n",
      "Accuracy: 0.71 (+/- 0.10)\n",
      "Accuracy: 0.70 (+/- 0.13)\n",
      "Accuracy: 0.72 (+/- 0.10)\n",
      "Accuracy: 0.70 (+/- 0.06)\n",
      "Accuracy: 0.68 (+/- 0.05)\n",
      "Accuracy: 0.70 (+/- 0.12)\n",
      "Accuracy: 0.67 (+/- 0.07)\n",
      "Accuracy: 0.69 (+/- 0.10)\n",
      "Accuracy: 0.70 (+/- 0.10)\n",
      "Accuracy: 0.71 (+/- 0.12)\n",
      "Accuracy: 0.71 (+/- 0.12)\n",
      "Accuracy: 0.73 (+/- 0.17)\n",
      "Accuracy: 0.71 (+/- 0.03)\n",
      "Accuracy: 0.72 (+/- 0.12)\n",
      "Accuracy: 0.71 (+/- 0.11)\n",
      "Accuracy: 0.71 (+/- 0.17)\n",
      "Accuracy: 0.68 (+/- 0.12)\n",
      "Accuracy: 0.67 (+/- 0.11)\n",
      "Accuracy: 0.76 (+/- 0.13)\n",
      "Accuracy: 0.68 (+/- 0.10)\n",
      "Accuracy: 0.70 (+/- 0.15)\n",
      "Accuracy: 0.72 (+/- 0.12)\n",
      "Accuracy: 0.70 (+/- 0.10)\n",
      "Accuracy: 0.70 (+/- 0.05)\n",
      "Accuracy: 0.69 (+/- 0.12)\n",
      "Accuracy: 0.70 (+/- 0.11)\n",
      "Accuracy: 0.68 (+/- 0.08)\n",
      "Accuracy: 0.70 (+/- 0.12)\n",
      "Accuracy: 0.73 (+/- 0.07)\n",
      "Accuracy: 0.69 (+/- 0.06)\n",
      "Accuracy: 0.72 (+/- 0.14)\n",
      "Accuracy: 0.67 (+/- 0.05)\n",
      "Accuracy: 0.70 (+/- 0.08)\n",
      "Accuracy: 0.70 (+/- 0.12)\n",
      "Accuracy: 0.68 (+/- 0.09)\n",
      "Accuracy: 0.70 (+/- 0.10)\n",
      "Accuracy: 0.72 (+/- 0.11)\n",
      "Accuracy: 0.68 (+/- 0.05)\n",
      "Accuracy: 0.73 (+/- 0.16)\n",
      "Accuracy: 0.71 (+/- 0.10)\n",
      "Accuracy: 0.70 (+/- 0.10)\n",
      "Accuracy: 0.68 (+/- 0.12)\n",
      "Accuracy: 0.72 (+/- 0.12)\n",
      "Accuracy: 0.68 (+/- 0.03)\n",
      "Accuracy: 0.72 (+/- 0.16)\n",
      "Accuracy: 0.68 (+/- 0.12)\n",
      "Accuracy: 0.70 (+/- 0.08)\n",
      "Accuracy: 0.71 (+/- 0.15)\n"
     ]
    },
    {
     "data": {
      "text/plain": [
       "0.8526915113871636"
      ]
     },
     "execution_count": 52,
     "metadata": {},
     "output_type": "execute_result"
    }
   ],
   "source": [
    "warnings.filterwarnings(\"ignore\")\n",
    "\n",
    "C = [x**0.01 for x in range(25,200)]\n",
    "kernel = ['rbf','linear','poly','sigmoid']\n",
    "degree = [int(x) for x in range(1,8)]\n",
    "gamma = ['scale','auto']\n",
    "coef0 = [x*0.1 for x in range(0,40)]\n",
    "decision_function_shape = ['ovo','ovr']\n",
    "\n",
    "svm_grid = { 'C' : C,\n",
    "            'kernel' : kernel,\n",
    "            'degree' : degree,\n",
    "            'gamma' : gamma,\n",
    "            'coef0' : coef0,\n",
    "            'decision_function_shape' : decision_function_shape\n",
    "            }\n",
    "\n",
    "svc = SVC()\n",
    "svm_df=pd.DataFrame()\n",
    "svm_df['trial']=[]\n",
    "svm_df['accuracy'] = []\n",
    "svm_df['macro_accuracy'] = []\n",
    "svm_df['confusion_matrix']=[]\n",
    "svm_df['params']=[]\n",
    "svm_df['cv_acc']=[]\n",
    "svm_df['cv_std']=[]\n",
    "\n",
    "trial=[]\n",
    "accuracy=[]\n",
    "macro_accuracy=[]\n",
    "confusion=[]\n",
    "params=[]\n",
    "cv_acc=[]\n",
    "cv_std=[]\n",
    "for i in range(0,50):\n",
    "    trial.append(i)\n",
    "    svc_RandomGrid = RandomizedSearchCV(estimator = svc, param_distributions=svm_grid,cv=10,verbose=0,n_jobs=4) #verbose=2\n",
    "    svc_RandomGrid.fit(X_train,y_train)\n",
    "    #print(svc_RandomGrid.best_params_)\n",
    "    params.append(svc_RandomGrid.best_params_)\n",
    "    y_prediction = svc_RandomGrid.predict(X_test)\n",
    "    score=precision_score(y_test, y_prediction, average='macro')\n",
    "    acc = accuracy_score(y_test, y_prediction)\n",
    "    cm = confusion_matrix(y_test, y_prediction) # clean, highfry, layered, lowfry, midfry, no vocals\n",
    "\n",
    "    accuracy.append(acc)\n",
    "    macro_accuracy.append(score)\n",
    "    confusion.append(cm)\n",
    "    scores = cross_validate(svc_RandomGrid, X_train, y_train, cv=5)\n",
    "    cv_acc.append(scores['test_score'].mean())\n",
    "    cv_std.append(scores['test_score'].std())\n",
    "    print(\"Accuracy: %0.2f (+/- %0.2f)\" % (scores['test_score'].mean(), scores['test_score'].std() * 2))\n",
    "    #print(f\"Confusion Matrix:\\n {cm}\")\n",
    "    #print(f\"Accuracy score: {accuracy}\")\n",
    "    #print(f\"Macro accuracy score: {score}\")\n",
    "\n",
    "\n",
    "svm_df['trial']= trial\n",
    "svm_df['accuracy'] = accuracy\n",
    "svm_df['macro_accuracy'] = macro_accuracy\n",
    "svm_df['confusion_matrix']=confusion\n",
    "svm_df['params']=params\n",
    "svm_df['cv_acc']=cv_acc\n",
    "svm_df['cv_std']=cv_std\n",
    "\n",
    "svm_df['macro_accuracy'].max()"
   ]
  },
  {
   "cell_type": "code",
   "execution_count": 54,
   "metadata": {},
   "outputs": [
    {
     "data": {
      "text/html": [
       "<div>\n",
       "<style scoped>\n",
       "    .dataframe tbody tr th:only-of-type {\n",
       "        vertical-align: middle;\n",
       "    }\n",
       "\n",
       "    .dataframe tbody tr th {\n",
       "        vertical-align: top;\n",
       "    }\n",
       "\n",
       "    .dataframe thead th {\n",
       "        text-align: right;\n",
       "    }\n",
       "</style>\n",
       "<table border=\"1\" class=\"dataframe\">\n",
       "  <thead>\n",
       "    <tr style=\"text-align: right;\">\n",
       "      <th></th>\n",
       "      <th>trial</th>\n",
       "      <th>accuracy</th>\n",
       "      <th>macro_accuracy</th>\n",
       "      <th>confusion_matrix</th>\n",
       "      <th>params</th>\n",
       "      <th>cv_acc</th>\n",
       "      <th>cv_std</th>\n",
       "    </tr>\n",
       "  </thead>\n",
       "  <tbody>\n",
       "    <tr>\n",
       "      <th>0</th>\n",
       "      <td>0</td>\n",
       "      <td>0.743902</td>\n",
       "      <td>0.690947</td>\n",
       "      <td>[[5, 0, 0, 0], [0, 4, 0, 6], [1, 0, 6, 7], [3,...</td>\n",
       "      <td>{'kernel': 'poly', 'gamma': 'scale', 'degree':...</td>\n",
       "      <td>0.684848</td>\n",
       "      <td>0.024242</td>\n",
       "    </tr>\n",
       "    <tr>\n",
       "      <th>1</th>\n",
       "      <td>1</td>\n",
       "      <td>0.756098</td>\n",
       "      <td>0.805465</td>\n",
       "      <td>[[5, 0, 0, 0], [0, 1, 0, 9], [1, 0, 6, 7], [1,...</td>\n",
       "      <td>{'kernel': 'poly', 'gamma': 'auto', 'degree': ...</td>\n",
       "      <td>0.672727</td>\n",
       "      <td>0.040202</td>\n",
       "    </tr>\n",
       "    <tr>\n",
       "      <th>2</th>\n",
       "      <td>2</td>\n",
       "      <td>0.731707</td>\n",
       "      <td>0.805556</td>\n",
       "      <td>[[2, 0, 0, 3], [0, 1, 0, 9], [1, 0, 5, 8], [0,...</td>\n",
       "      <td>{'kernel': 'poly', 'gamma': 'auto', 'degree': ...</td>\n",
       "      <td>0.709091</td>\n",
       "      <td>0.049237</td>\n",
       "    </tr>\n",
       "    <tr>\n",
       "      <th>3</th>\n",
       "      <td>3</td>\n",
       "      <td>0.768293</td>\n",
       "      <td>0.752480</td>\n",
       "      <td>[[5, 0, 0, 0], [0, 3, 0, 7], [1, 0, 6, 7], [2,...</td>\n",
       "      <td>{'kernel': 'poly', 'gamma': 'auto', 'degree': ...</td>\n",
       "      <td>0.696970</td>\n",
       "      <td>0.066391</td>\n",
       "    </tr>\n",
       "    <tr>\n",
       "      <th>4</th>\n",
       "      <td>4</td>\n",
       "      <td>0.756098</td>\n",
       "      <td>0.716667</td>\n",
       "      <td>[[5, 0, 0, 0], [0, 5, 0, 5], [1, 0, 5, 8], [2,...</td>\n",
       "      <td>{'kernel': 'poly', 'gamma': 'auto', 'degree': ...</td>\n",
       "      <td>0.721212</td>\n",
       "      <td>0.052135</td>\n",
       "    </tr>\n",
       "    <tr>\n",
       "      <th>5</th>\n",
       "      <td>5</td>\n",
       "      <td>0.646341</td>\n",
       "      <td>0.161585</td>\n",
       "      <td>[[0, 0, 0, 5], [0, 0, 0, 10], [0, 0, 0, 14], [...</td>\n",
       "      <td>{'kernel': 'sigmoid', 'gamma': 'auto', 'degree...</td>\n",
       "      <td>0.703030</td>\n",
       "      <td>0.029691</td>\n",
       "    </tr>\n",
       "    <tr>\n",
       "      <th>6</th>\n",
       "      <td>6</td>\n",
       "      <td>0.743902</td>\n",
       "      <td>0.782212</td>\n",
       "      <td>[[5, 0, 0, 0], [0, 1, 0, 9], [1, 0, 6, 7], [2,...</td>\n",
       "      <td>{'kernel': 'poly', 'gamma': 'scale', 'degree':...</td>\n",
       "      <td>0.678788</td>\n",
       "      <td>0.024242</td>\n",
       "    </tr>\n",
       "    <tr>\n",
       "      <th>7</th>\n",
       "      <td>7</td>\n",
       "      <td>0.768293</td>\n",
       "      <td>0.733924</td>\n",
       "      <td>[[5, 0, 0, 0], [0, 4, 0, 6], [1, 0, 6, 7], [2,...</td>\n",
       "      <td>{'kernel': 'poly', 'gamma': 'scale', 'degree':...</td>\n",
       "      <td>0.703030</td>\n",
       "      <td>0.061806</td>\n",
       "    </tr>\n",
       "    <tr>\n",
       "      <th>8</th>\n",
       "      <td>8</td>\n",
       "      <td>0.743902</td>\n",
       "      <td>0.700063</td>\n",
       "      <td>[[5, 0, 0, 0], [0, 4, 0, 6], [1, 0, 5, 8], [2,...</td>\n",
       "      <td>{'kernel': 'poly', 'gamma': 'scale', 'degree':...</td>\n",
       "      <td>0.672727</td>\n",
       "      <td>0.035339</td>\n",
       "    </tr>\n",
       "    <tr>\n",
       "      <th>9</th>\n",
       "      <td>9</td>\n",
       "      <td>0.756098</td>\n",
       "      <td>0.728311</td>\n",
       "      <td>[[5, 0, 0, 0], [0, 3, 0, 7], [1, 0, 5, 8], [1,...</td>\n",
       "      <td>{'kernel': 'poly', 'gamma': 'scale', 'degree':...</td>\n",
       "      <td>0.690909</td>\n",
       "      <td>0.052135</td>\n",
       "    </tr>\n",
       "    <tr>\n",
       "      <th>10</th>\n",
       "      <td>10</td>\n",
       "      <td>0.719512</td>\n",
       "      <td>0.761416</td>\n",
       "      <td>[[1, 0, 0, 4], [0, 1, 0, 9], [1, 0, 5, 8], [0,...</td>\n",
       "      <td>{'kernel': 'poly', 'gamma': 'auto', 'degree': ...</td>\n",
       "      <td>0.696970</td>\n",
       "      <td>0.050707</td>\n",
       "    </tr>\n",
       "    <tr>\n",
       "      <th>11</th>\n",
       "      <td>11</td>\n",
       "      <td>0.780488</td>\n",
       "      <td>0.775670</td>\n",
       "      <td>[[5, 0, 0, 0], [0, 3, 0, 7], [1, 0, 6, 7], [1,...</td>\n",
       "      <td>{'kernel': 'poly', 'gamma': 'auto', 'degree': ...</td>\n",
       "      <td>0.709091</td>\n",
       "      <td>0.059382</td>\n",
       "    </tr>\n",
       "    <tr>\n",
       "      <th>12</th>\n",
       "      <td>12</td>\n",
       "      <td>0.743902</td>\n",
       "      <td>0.700063</td>\n",
       "      <td>[[5, 0, 0, 0], [0, 4, 0, 6], [1, 0, 5, 8], [2,...</td>\n",
       "      <td>{'kernel': 'poly', 'gamma': 'scale', 'degree':...</td>\n",
       "      <td>0.709091</td>\n",
       "      <td>0.059382</td>\n",
       "    </tr>\n",
       "    <tr>\n",
       "      <th>13</th>\n",
       "      <td>13</td>\n",
       "      <td>0.780488</td>\n",
       "      <td>0.775670</td>\n",
       "      <td>[[5, 0, 0, 0], [0, 3, 0, 7], [1, 0, 6, 7], [1,...</td>\n",
       "      <td>{'kernel': 'poly', 'gamma': 'scale', 'degree':...</td>\n",
       "      <td>0.727273</td>\n",
       "      <td>0.083540</td>\n",
       "    </tr>\n",
       "    <tr>\n",
       "      <th>14</th>\n",
       "      <td>14</td>\n",
       "      <td>0.768293</td>\n",
       "      <td>0.852692</td>\n",
       "      <td>[[4, 0, 0, 1], [0, 1, 0, 9], [1, 0, 6, 7], [0,...</td>\n",
       "      <td>{'kernel': 'poly', 'gamma': 'auto', 'degree': ...</td>\n",
       "      <td>0.709091</td>\n",
       "      <td>0.014845</td>\n",
       "    </tr>\n",
       "    <tr>\n",
       "      <th>15</th>\n",
       "      <td>15</td>\n",
       "      <td>0.646341</td>\n",
       "      <td>0.161585</td>\n",
       "      <td>[[0, 0, 0, 5], [0, 0, 0, 10], [0, 0, 0, 14], [...</td>\n",
       "      <td>{'kernel': 'rbf', 'gamma': 'scale', 'degree': ...</td>\n",
       "      <td>0.715152</td>\n",
       "      <td>0.059382</td>\n",
       "    </tr>\n",
       "    <tr>\n",
       "      <th>16</th>\n",
       "      <td>16</td>\n",
       "      <td>0.756098</td>\n",
       "      <td>0.583333</td>\n",
       "      <td>[[5, 0, 0, 0], [0, 0, 0, 10], [1, 0, 6, 7], [0...</td>\n",
       "      <td>{'kernel': 'poly', 'gamma': 'scale', 'degree':...</td>\n",
       "      <td>0.709091</td>\n",
       "      <td>0.056204</td>\n",
       "    </tr>\n",
       "    <tr>\n",
       "      <th>17</th>\n",
       "      <td>17</td>\n",
       "      <td>0.743902</td>\n",
       "      <td>0.571687</td>\n",
       "      <td>[[5, 0, 0, 0], [0, 0, 0, 10], [1, 0, 5, 8], [0...</td>\n",
       "      <td>{'kernel': 'poly', 'gamma': 'auto', 'degree': ...</td>\n",
       "      <td>0.709091</td>\n",
       "      <td>0.086986</td>\n",
       "    </tr>\n",
       "    <tr>\n",
       "      <th>18</th>\n",
       "      <td>18</td>\n",
       "      <td>0.743902</td>\n",
       "      <td>0.690947</td>\n",
       "      <td>[[5, 0, 0, 0], [0, 4, 0, 6], [1, 0, 6, 7], [3,...</td>\n",
       "      <td>{'kernel': 'poly', 'gamma': 'auto', 'degree': ...</td>\n",
       "      <td>0.684848</td>\n",
       "      <td>0.059382</td>\n",
       "    </tr>\n",
       "    <tr>\n",
       "      <th>19</th>\n",
       "      <td>19</td>\n",
       "      <td>0.768293</td>\n",
       "      <td>0.766712</td>\n",
       "      <td>[[5, 0, 0, 0], [0, 3, 0, 7], [1, 0, 5, 8], [1,...</td>\n",
       "      <td>{'kernel': 'poly', 'gamma': 'scale', 'degree':...</td>\n",
       "      <td>0.666667</td>\n",
       "      <td>0.054208</td>\n",
       "    </tr>\n",
       "    <tr>\n",
       "      <th>20</th>\n",
       "      <td>20</td>\n",
       "      <td>0.743902</td>\n",
       "      <td>0.700063</td>\n",
       "      <td>[[5, 0, 0, 0], [0, 4, 0, 6], [1, 0, 5, 8], [2,...</td>\n",
       "      <td>{'kernel': 'poly', 'gamma': 'auto', 'degree': ...</td>\n",
       "      <td>0.757576</td>\n",
       "      <td>0.063564</td>\n",
       "    </tr>\n",
       "    <tr>\n",
       "      <th>21</th>\n",
       "      <td>21</td>\n",
       "      <td>0.756098</td>\n",
       "      <td>0.762500</td>\n",
       "      <td>[[4, 0, 0, 1], [0, 2, 0, 8], [1, 0, 5, 8], [0,...</td>\n",
       "      <td>{'kernel': 'poly', 'gamma': 'auto', 'degree': ...</td>\n",
       "      <td>0.684848</td>\n",
       "      <td>0.049237</td>\n",
       "    </tr>\n",
       "    <tr>\n",
       "      <th>22</th>\n",
       "      <td>22</td>\n",
       "      <td>0.731707</td>\n",
       "      <td>0.560714</td>\n",
       "      <td>[[4, 0, 0, 1], [0, 0, 0, 10], [1, 0, 5, 8], [0...</td>\n",
       "      <td>{'kernel': 'poly', 'gamma': 'auto', 'degree': ...</td>\n",
       "      <td>0.703030</td>\n",
       "      <td>0.075210</td>\n",
       "    </tr>\n",
       "    <tr>\n",
       "      <th>23</th>\n",
       "      <td>23</td>\n",
       "      <td>0.743902</td>\n",
       "      <td>0.791636</td>\n",
       "      <td>[[5, 0, 0, 0], [0, 1, 0, 9], [1, 0, 6, 7], [3,...</td>\n",
       "      <td>{'kernel': 'poly', 'gamma': 'scale', 'degree':...</td>\n",
       "      <td>0.715152</td>\n",
       "      <td>0.059382</td>\n",
       "    </tr>\n",
       "    <tr>\n",
       "      <th>24</th>\n",
       "      <td>24</td>\n",
       "      <td>0.646341</td>\n",
       "      <td>0.161585</td>\n",
       "      <td>[[0, 0, 0, 5], [0, 0, 0, 10], [0, 0, 0, 14], [...</td>\n",
       "      <td>{'kernel': 'rbf', 'gamma': 'scale', 'degree': ...</td>\n",
       "      <td>0.696970</td>\n",
       "      <td>0.050707</td>\n",
       "    </tr>\n",
       "    <tr>\n",
       "      <th>25</th>\n",
       "      <td>25</td>\n",
       "      <td>0.743902</td>\n",
       "      <td>0.700063</td>\n",
       "      <td>[[5, 0, 0, 0], [0, 4, 0, 6], [1, 0, 5, 8], [2,...</td>\n",
       "      <td>{'kernel': 'poly', 'gamma': 'scale', 'degree':...</td>\n",
       "      <td>0.703030</td>\n",
       "      <td>0.022677</td>\n",
       "    </tr>\n",
       "    <tr>\n",
       "      <th>26</th>\n",
       "      <td>26</td>\n",
       "      <td>0.756098</td>\n",
       "      <td>0.716667</td>\n",
       "      <td>[[5, 0, 0, 0], [0, 5, 0, 5], [1, 0, 5, 8], [2,...</td>\n",
       "      <td>{'kernel': 'poly', 'gamma': 'auto', 'degree': ...</td>\n",
       "      <td>0.690909</td>\n",
       "      <td>0.058760</td>\n",
       "    </tr>\n",
       "    <tr>\n",
       "      <th>27</th>\n",
       "      <td>27</td>\n",
       "      <td>0.646341</td>\n",
       "      <td>0.161585</td>\n",
       "      <td>[[0, 0, 0, 5], [0, 0, 0, 10], [0, 0, 0, 14], [...</td>\n",
       "      <td>{'kernel': 'sigmoid', 'gamma': 'scale', 'degre...</td>\n",
       "      <td>0.696970</td>\n",
       "      <td>0.057496</td>\n",
       "    </tr>\n",
       "    <tr>\n",
       "      <th>28</th>\n",
       "      <td>28</td>\n",
       "      <td>0.731707</td>\n",
       "      <td>0.669345</td>\n",
       "      <td>[[5, 0, 0, 0], [0, 4, 0, 6], [1, 0, 5, 8], [2,...</td>\n",
       "      <td>{'kernel': 'poly', 'gamma': 'scale', 'degree':...</td>\n",
       "      <td>0.678788</td>\n",
       "      <td>0.041105</td>\n",
       "    </tr>\n",
       "    <tr>\n",
       "      <th>29</th>\n",
       "      <td>29</td>\n",
       "      <td>0.756098</td>\n",
       "      <td>0.716667</td>\n",
       "      <td>[[5, 0, 0, 0], [0, 5, 0, 5], [1, 0, 5, 8], [2,...</td>\n",
       "      <td>{'kernel': 'poly', 'gamma': 'scale', 'degree':...</td>\n",
       "      <td>0.703030</td>\n",
       "      <td>0.061806</td>\n",
       "    </tr>\n",
       "    <tr>\n",
       "      <th>30</th>\n",
       "      <td>30</td>\n",
       "      <td>0.731707</td>\n",
       "      <td>0.669345</td>\n",
       "      <td>[[5, 0, 0, 0], [0, 4, 0, 6], [1, 0, 5, 8], [2,...</td>\n",
       "      <td>{'kernel': 'poly', 'gamma': 'scale', 'degree':...</td>\n",
       "      <td>0.727273</td>\n",
       "      <td>0.033195</td>\n",
       "    </tr>\n",
       "    <tr>\n",
       "      <th>31</th>\n",
       "      <td>31</td>\n",
       "      <td>0.646341</td>\n",
       "      <td>0.161585</td>\n",
       "      <td>[[0, 0, 0, 5], [0, 0, 0, 10], [0, 0, 0, 14], [...</td>\n",
       "      <td>{'kernel': 'rbf', 'gamma': 'auto', 'degree': 3...</td>\n",
       "      <td>0.690909</td>\n",
       "      <td>0.029691</td>\n",
       "    </tr>\n",
       "    <tr>\n",
       "      <th>32</th>\n",
       "      <td>32</td>\n",
       "      <td>0.768293</td>\n",
       "      <td>0.836132</td>\n",
       "      <td>[[5, 0, 0, 0], [0, 1, 0, 9], [1, 0, 6, 7], [0,...</td>\n",
       "      <td>{'kernel': 'poly', 'gamma': 'scale', 'degree':...</td>\n",
       "      <td>0.715152</td>\n",
       "      <td>0.070678</td>\n",
       "    </tr>\n",
       "    <tr>\n",
       "      <th>33</th>\n",
       "      <td>33</td>\n",
       "      <td>0.743902</td>\n",
       "      <td>0.791636</td>\n",
       "      <td>[[5, 0, 0, 0], [0, 1, 0, 9], [1, 0, 6, 7], [3,...</td>\n",
       "      <td>{'kernel': 'poly', 'gamma': 'scale', 'degree':...</td>\n",
       "      <td>0.666667</td>\n",
       "      <td>0.027104</td>\n",
       "    </tr>\n",
       "    <tr>\n",
       "      <th>34</th>\n",
       "      <td>34</td>\n",
       "      <td>0.731707</td>\n",
       "      <td>0.681746</td>\n",
       "      <td>[[5, 0, 0, 0], [0, 4, 0, 6], [1, 0, 5, 8], [3,...</td>\n",
       "      <td>{'kernel': 'poly', 'gamma': 'auto', 'degree': ...</td>\n",
       "      <td>0.703030</td>\n",
       "      <td>0.040202</td>\n",
       "    </tr>\n",
       "    <tr>\n",
       "      <th>35</th>\n",
       "      <td>35</td>\n",
       "      <td>0.743902</td>\n",
       "      <td>0.700063</td>\n",
       "      <td>[[5, 0, 0, 0], [0, 4, 0, 6], [1, 0, 5, 8], [2,...</td>\n",
       "      <td>{'kernel': 'poly', 'gamma': 'auto', 'degree': ...</td>\n",
       "      <td>0.696970</td>\n",
       "      <td>0.060606</td>\n",
       "    </tr>\n",
       "    <tr>\n",
       "      <th>36</th>\n",
       "      <td>36</td>\n",
       "      <td>0.646341</td>\n",
       "      <td>0.161585</td>\n",
       "      <td>[[0, 0, 0, 5], [0, 0, 0, 10], [0, 0, 0, 14], [...</td>\n",
       "      <td>{'kernel': 'rbf', 'gamma': 'scale', 'degree': ...</td>\n",
       "      <td>0.684848</td>\n",
       "      <td>0.045353</td>\n",
       "    </tr>\n",
       "    <tr>\n",
       "      <th>37</th>\n",
       "      <td>37</td>\n",
       "      <td>0.731707</td>\n",
       "      <td>0.681250</td>\n",
       "      <td>[[5, 0, 0, 0], [0, 4, 0, 6], [1, 0, 5, 8], [2,...</td>\n",
       "      <td>{'kernel': 'poly', 'gamma': 'auto', 'degree': ...</td>\n",
       "      <td>0.703030</td>\n",
       "      <td>0.052135</td>\n",
       "    </tr>\n",
       "    <tr>\n",
       "      <th>38</th>\n",
       "      <td>38</td>\n",
       "      <td>0.756098</td>\n",
       "      <td>0.762500</td>\n",
       "      <td>[[4, 0, 0, 1], [0, 2, 0, 8], [1, 0, 5, 8], [0,...</td>\n",
       "      <td>{'kernel': 'poly', 'gamma': 'auto', 'degree': ...</td>\n",
       "      <td>0.715152</td>\n",
       "      <td>0.052835</td>\n",
       "    </tr>\n",
       "    <tr>\n",
       "      <th>39</th>\n",
       "      <td>39</td>\n",
       "      <td>0.768293</td>\n",
       "      <td>0.766712</td>\n",
       "      <td>[[5, 0, 0, 0], [0, 3, 0, 7], [1, 0, 5, 8], [1,...</td>\n",
       "      <td>{'kernel': 'poly', 'gamma': 'scale', 'degree':...</td>\n",
       "      <td>0.678788</td>\n",
       "      <td>0.024242</td>\n",
       "    </tr>\n",
       "    <tr>\n",
       "      <th>40</th>\n",
       "      <td>40</td>\n",
       "      <td>0.743902</td>\n",
       "      <td>0.791636</td>\n",
       "      <td>[[5, 0, 0, 0], [0, 1, 0, 9], [1, 0, 6, 7], [3,...</td>\n",
       "      <td>{'kernel': 'poly', 'gamma': 'auto', 'degree': ...</td>\n",
       "      <td>0.733333</td>\n",
       "      <td>0.079945</td>\n",
       "    </tr>\n",
       "    <tr>\n",
       "      <th>41</th>\n",
       "      <td>41</td>\n",
       "      <td>0.731707</td>\n",
       "      <td>0.672140</td>\n",
       "      <td>[[5, 0, 0, 0], [0, 4, 0, 6], [1, 0, 6, 7], [3,...</td>\n",
       "      <td>{'kernel': 'poly', 'gamma': 'scale', 'degree':...</td>\n",
       "      <td>0.709091</td>\n",
       "      <td>0.049237</td>\n",
       "    </tr>\n",
       "    <tr>\n",
       "      <th>42</th>\n",
       "      <td>42</td>\n",
       "      <td>0.731707</td>\n",
       "      <td>0.669345</td>\n",
       "      <td>[[5, 0, 0, 0], [0, 4, 0, 6], [1, 0, 5, 8], [2,...</td>\n",
       "      <td>{'kernel': 'poly', 'gamma': 'scale', 'degree':...</td>\n",
       "      <td>0.703030</td>\n",
       "      <td>0.048485</td>\n",
       "    </tr>\n",
       "    <tr>\n",
       "      <th>43</th>\n",
       "      <td>43</td>\n",
       "      <td>0.743902</td>\n",
       "      <td>0.571687</td>\n",
       "      <td>[[5, 0, 0, 0], [0, 0, 0, 10], [1, 0, 5, 8], [0...</td>\n",
       "      <td>{'kernel': 'poly', 'gamma': 'scale', 'degree':...</td>\n",
       "      <td>0.678788</td>\n",
       "      <td>0.062398</td>\n",
       "    </tr>\n",
       "    <tr>\n",
       "      <th>44</th>\n",
       "      <td>44</td>\n",
       "      <td>0.743902</td>\n",
       "      <td>0.681522</td>\n",
       "      <td>[[5, 0, 0, 0], [0, 4, 0, 6], [1, 0, 6, 7], [2,...</td>\n",
       "      <td>{'kernel': 'poly', 'gamma': 'scale', 'degree':...</td>\n",
       "      <td>0.721212</td>\n",
       "      <td>0.058760</td>\n",
       "    </tr>\n",
       "    <tr>\n",
       "      <th>45</th>\n",
       "      <td>45</td>\n",
       "      <td>0.756098</td>\n",
       "      <td>0.837500</td>\n",
       "      <td>[[3, 0, 0, 2], [0, 1, 0, 9], [1, 0, 6, 7], [0,...</td>\n",
       "      <td>{'kernel': 'poly', 'gamma': 'scale', 'degree':...</td>\n",
       "      <td>0.684848</td>\n",
       "      <td>0.014845</td>\n",
       "    </tr>\n",
       "    <tr>\n",
       "      <th>46</th>\n",
       "      <td>46</td>\n",
       "      <td>0.743902</td>\n",
       "      <td>0.571687</td>\n",
       "      <td>[[5, 0, 0, 0], [0, 0, 0, 10], [1, 0, 5, 8], [0...</td>\n",
       "      <td>{'kernel': 'poly', 'gamma': 'auto', 'degree': ...</td>\n",
       "      <td>0.721212</td>\n",
       "      <td>0.079945</td>\n",
       "    </tr>\n",
       "    <tr>\n",
       "      <th>47</th>\n",
       "      <td>47</td>\n",
       "      <td>0.756098</td>\n",
       "      <td>0.805465</td>\n",
       "      <td>[[5, 0, 0, 0], [0, 1, 0, 9], [1, 0, 6, 7], [1,...</td>\n",
       "      <td>{'kernel': 'poly', 'gamma': 'scale', 'degree':...</td>\n",
       "      <td>0.684848</td>\n",
       "      <td>0.059382</td>\n",
       "    </tr>\n",
       "    <tr>\n",
       "      <th>48</th>\n",
       "      <td>48</td>\n",
       "      <td>0.743902</td>\n",
       "      <td>0.782212</td>\n",
       "      <td>[[5, 0, 0, 0], [0, 1, 0, 9], [1, 0, 6, 7], [2,...</td>\n",
       "      <td>{'kernel': 'poly', 'gamma': 'scale', 'degree':...</td>\n",
       "      <td>0.696970</td>\n",
       "      <td>0.038331</td>\n",
       "    </tr>\n",
       "    <tr>\n",
       "      <th>49</th>\n",
       "      <td>49</td>\n",
       "      <td>0.768293</td>\n",
       "      <td>0.721721</td>\n",
       "      <td>[[5, 0, 0, 0], [0, 3, 0, 7], [1, 0, 7, 6], [2,...</td>\n",
       "      <td>{'kernel': 'poly', 'gamma': 'scale', 'degree':...</td>\n",
       "      <td>0.709091</td>\n",
       "      <td>0.073231</td>\n",
       "    </tr>\n",
       "  </tbody>\n",
       "</table>\n",
       "</div>"
      ],
      "text/plain": [
       "    trial  accuracy  macro_accuracy  \\\n",
       "0       0  0.743902        0.690947   \n",
       "1       1  0.756098        0.805465   \n",
       "2       2  0.731707        0.805556   \n",
       "3       3  0.768293        0.752480   \n",
       "4       4  0.756098        0.716667   \n",
       "5       5  0.646341        0.161585   \n",
       "6       6  0.743902        0.782212   \n",
       "7       7  0.768293        0.733924   \n",
       "8       8  0.743902        0.700063   \n",
       "9       9  0.756098        0.728311   \n",
       "10     10  0.719512        0.761416   \n",
       "11     11  0.780488        0.775670   \n",
       "12     12  0.743902        0.700063   \n",
       "13     13  0.780488        0.775670   \n",
       "14     14  0.768293        0.852692   \n",
       "15     15  0.646341        0.161585   \n",
       "16     16  0.756098        0.583333   \n",
       "17     17  0.743902        0.571687   \n",
       "18     18  0.743902        0.690947   \n",
       "19     19  0.768293        0.766712   \n",
       "20     20  0.743902        0.700063   \n",
       "21     21  0.756098        0.762500   \n",
       "22     22  0.731707        0.560714   \n",
       "23     23  0.743902        0.791636   \n",
       "24     24  0.646341        0.161585   \n",
       "25     25  0.743902        0.700063   \n",
       "26     26  0.756098        0.716667   \n",
       "27     27  0.646341        0.161585   \n",
       "28     28  0.731707        0.669345   \n",
       "29     29  0.756098        0.716667   \n",
       "30     30  0.731707        0.669345   \n",
       "31     31  0.646341        0.161585   \n",
       "32     32  0.768293        0.836132   \n",
       "33     33  0.743902        0.791636   \n",
       "34     34  0.731707        0.681746   \n",
       "35     35  0.743902        0.700063   \n",
       "36     36  0.646341        0.161585   \n",
       "37     37  0.731707        0.681250   \n",
       "38     38  0.756098        0.762500   \n",
       "39     39  0.768293        0.766712   \n",
       "40     40  0.743902        0.791636   \n",
       "41     41  0.731707        0.672140   \n",
       "42     42  0.731707        0.669345   \n",
       "43     43  0.743902        0.571687   \n",
       "44     44  0.743902        0.681522   \n",
       "45     45  0.756098        0.837500   \n",
       "46     46  0.743902        0.571687   \n",
       "47     47  0.756098        0.805465   \n",
       "48     48  0.743902        0.782212   \n",
       "49     49  0.768293        0.721721   \n",
       "\n",
       "                                     confusion_matrix  \\\n",
       "0   [[5, 0, 0, 0], [0, 4, 0, 6], [1, 0, 6, 7], [3,...   \n",
       "1   [[5, 0, 0, 0], [0, 1, 0, 9], [1, 0, 6, 7], [1,...   \n",
       "2   [[2, 0, 0, 3], [0, 1, 0, 9], [1, 0, 5, 8], [0,...   \n",
       "3   [[5, 0, 0, 0], [0, 3, 0, 7], [1, 0, 6, 7], [2,...   \n",
       "4   [[5, 0, 0, 0], [0, 5, 0, 5], [1, 0, 5, 8], [2,...   \n",
       "5   [[0, 0, 0, 5], [0, 0, 0, 10], [0, 0, 0, 14], [...   \n",
       "6   [[5, 0, 0, 0], [0, 1, 0, 9], [1, 0, 6, 7], [2,...   \n",
       "7   [[5, 0, 0, 0], [0, 4, 0, 6], [1, 0, 6, 7], [2,...   \n",
       "8   [[5, 0, 0, 0], [0, 4, 0, 6], [1, 0, 5, 8], [2,...   \n",
       "9   [[5, 0, 0, 0], [0, 3, 0, 7], [1, 0, 5, 8], [1,...   \n",
       "10  [[1, 0, 0, 4], [0, 1, 0, 9], [1, 0, 5, 8], [0,...   \n",
       "11  [[5, 0, 0, 0], [0, 3, 0, 7], [1, 0, 6, 7], [1,...   \n",
       "12  [[5, 0, 0, 0], [0, 4, 0, 6], [1, 0, 5, 8], [2,...   \n",
       "13  [[5, 0, 0, 0], [0, 3, 0, 7], [1, 0, 6, 7], [1,...   \n",
       "14  [[4, 0, 0, 1], [0, 1, 0, 9], [1, 0, 6, 7], [0,...   \n",
       "15  [[0, 0, 0, 5], [0, 0, 0, 10], [0, 0, 0, 14], [...   \n",
       "16  [[5, 0, 0, 0], [0, 0, 0, 10], [1, 0, 6, 7], [0...   \n",
       "17  [[5, 0, 0, 0], [0, 0, 0, 10], [1, 0, 5, 8], [0...   \n",
       "18  [[5, 0, 0, 0], [0, 4, 0, 6], [1, 0, 6, 7], [3,...   \n",
       "19  [[5, 0, 0, 0], [0, 3, 0, 7], [1, 0, 5, 8], [1,...   \n",
       "20  [[5, 0, 0, 0], [0, 4, 0, 6], [1, 0, 5, 8], [2,...   \n",
       "21  [[4, 0, 0, 1], [0, 2, 0, 8], [1, 0, 5, 8], [0,...   \n",
       "22  [[4, 0, 0, 1], [0, 0, 0, 10], [1, 0, 5, 8], [0...   \n",
       "23  [[5, 0, 0, 0], [0, 1, 0, 9], [1, 0, 6, 7], [3,...   \n",
       "24  [[0, 0, 0, 5], [0, 0, 0, 10], [0, 0, 0, 14], [...   \n",
       "25  [[5, 0, 0, 0], [0, 4, 0, 6], [1, 0, 5, 8], [2,...   \n",
       "26  [[5, 0, 0, 0], [0, 5, 0, 5], [1, 0, 5, 8], [2,...   \n",
       "27  [[0, 0, 0, 5], [0, 0, 0, 10], [0, 0, 0, 14], [...   \n",
       "28  [[5, 0, 0, 0], [0, 4, 0, 6], [1, 0, 5, 8], [2,...   \n",
       "29  [[5, 0, 0, 0], [0, 5, 0, 5], [1, 0, 5, 8], [2,...   \n",
       "30  [[5, 0, 0, 0], [0, 4, 0, 6], [1, 0, 5, 8], [2,...   \n",
       "31  [[0, 0, 0, 5], [0, 0, 0, 10], [0, 0, 0, 14], [...   \n",
       "32  [[5, 0, 0, 0], [0, 1, 0, 9], [1, 0, 6, 7], [0,...   \n",
       "33  [[5, 0, 0, 0], [0, 1, 0, 9], [1, 0, 6, 7], [3,...   \n",
       "34  [[5, 0, 0, 0], [0, 4, 0, 6], [1, 0, 5, 8], [3,...   \n",
       "35  [[5, 0, 0, 0], [0, 4, 0, 6], [1, 0, 5, 8], [2,...   \n",
       "36  [[0, 0, 0, 5], [0, 0, 0, 10], [0, 0, 0, 14], [...   \n",
       "37  [[5, 0, 0, 0], [0, 4, 0, 6], [1, 0, 5, 8], [2,...   \n",
       "38  [[4, 0, 0, 1], [0, 2, 0, 8], [1, 0, 5, 8], [0,...   \n",
       "39  [[5, 0, 0, 0], [0, 3, 0, 7], [1, 0, 5, 8], [1,...   \n",
       "40  [[5, 0, 0, 0], [0, 1, 0, 9], [1, 0, 6, 7], [3,...   \n",
       "41  [[5, 0, 0, 0], [0, 4, 0, 6], [1, 0, 6, 7], [3,...   \n",
       "42  [[5, 0, 0, 0], [0, 4, 0, 6], [1, 0, 5, 8], [2,...   \n",
       "43  [[5, 0, 0, 0], [0, 0, 0, 10], [1, 0, 5, 8], [0...   \n",
       "44  [[5, 0, 0, 0], [0, 4, 0, 6], [1, 0, 6, 7], [2,...   \n",
       "45  [[3, 0, 0, 2], [0, 1, 0, 9], [1, 0, 6, 7], [0,...   \n",
       "46  [[5, 0, 0, 0], [0, 0, 0, 10], [1, 0, 5, 8], [0...   \n",
       "47  [[5, 0, 0, 0], [0, 1, 0, 9], [1, 0, 6, 7], [1,...   \n",
       "48  [[5, 0, 0, 0], [0, 1, 0, 9], [1, 0, 6, 7], [2,...   \n",
       "49  [[5, 0, 0, 0], [0, 3, 0, 7], [1, 0, 7, 6], [2,...   \n",
       "\n",
       "                                               params    cv_acc    cv_std  \n",
       "0   {'kernel': 'poly', 'gamma': 'scale', 'degree':...  0.684848  0.024242  \n",
       "1   {'kernel': 'poly', 'gamma': 'auto', 'degree': ...  0.672727  0.040202  \n",
       "2   {'kernel': 'poly', 'gamma': 'auto', 'degree': ...  0.709091  0.049237  \n",
       "3   {'kernel': 'poly', 'gamma': 'auto', 'degree': ...  0.696970  0.066391  \n",
       "4   {'kernel': 'poly', 'gamma': 'auto', 'degree': ...  0.721212  0.052135  \n",
       "5   {'kernel': 'sigmoid', 'gamma': 'auto', 'degree...  0.703030  0.029691  \n",
       "6   {'kernel': 'poly', 'gamma': 'scale', 'degree':...  0.678788  0.024242  \n",
       "7   {'kernel': 'poly', 'gamma': 'scale', 'degree':...  0.703030  0.061806  \n",
       "8   {'kernel': 'poly', 'gamma': 'scale', 'degree':...  0.672727  0.035339  \n",
       "9   {'kernel': 'poly', 'gamma': 'scale', 'degree':...  0.690909  0.052135  \n",
       "10  {'kernel': 'poly', 'gamma': 'auto', 'degree': ...  0.696970  0.050707  \n",
       "11  {'kernel': 'poly', 'gamma': 'auto', 'degree': ...  0.709091  0.059382  \n",
       "12  {'kernel': 'poly', 'gamma': 'scale', 'degree':...  0.709091  0.059382  \n",
       "13  {'kernel': 'poly', 'gamma': 'scale', 'degree':...  0.727273  0.083540  \n",
       "14  {'kernel': 'poly', 'gamma': 'auto', 'degree': ...  0.709091  0.014845  \n",
       "15  {'kernel': 'rbf', 'gamma': 'scale', 'degree': ...  0.715152  0.059382  \n",
       "16  {'kernel': 'poly', 'gamma': 'scale', 'degree':...  0.709091  0.056204  \n",
       "17  {'kernel': 'poly', 'gamma': 'auto', 'degree': ...  0.709091  0.086986  \n",
       "18  {'kernel': 'poly', 'gamma': 'auto', 'degree': ...  0.684848  0.059382  \n",
       "19  {'kernel': 'poly', 'gamma': 'scale', 'degree':...  0.666667  0.054208  \n",
       "20  {'kernel': 'poly', 'gamma': 'auto', 'degree': ...  0.757576  0.063564  \n",
       "21  {'kernel': 'poly', 'gamma': 'auto', 'degree': ...  0.684848  0.049237  \n",
       "22  {'kernel': 'poly', 'gamma': 'auto', 'degree': ...  0.703030  0.075210  \n",
       "23  {'kernel': 'poly', 'gamma': 'scale', 'degree':...  0.715152  0.059382  \n",
       "24  {'kernel': 'rbf', 'gamma': 'scale', 'degree': ...  0.696970  0.050707  \n",
       "25  {'kernel': 'poly', 'gamma': 'scale', 'degree':...  0.703030  0.022677  \n",
       "26  {'kernel': 'poly', 'gamma': 'auto', 'degree': ...  0.690909  0.058760  \n",
       "27  {'kernel': 'sigmoid', 'gamma': 'scale', 'degre...  0.696970  0.057496  \n",
       "28  {'kernel': 'poly', 'gamma': 'scale', 'degree':...  0.678788  0.041105  \n",
       "29  {'kernel': 'poly', 'gamma': 'scale', 'degree':...  0.703030  0.061806  \n",
       "30  {'kernel': 'poly', 'gamma': 'scale', 'degree':...  0.727273  0.033195  \n",
       "31  {'kernel': 'rbf', 'gamma': 'auto', 'degree': 3...  0.690909  0.029691  \n",
       "32  {'kernel': 'poly', 'gamma': 'scale', 'degree':...  0.715152  0.070678  \n",
       "33  {'kernel': 'poly', 'gamma': 'scale', 'degree':...  0.666667  0.027104  \n",
       "34  {'kernel': 'poly', 'gamma': 'auto', 'degree': ...  0.703030  0.040202  \n",
       "35  {'kernel': 'poly', 'gamma': 'auto', 'degree': ...  0.696970  0.060606  \n",
       "36  {'kernel': 'rbf', 'gamma': 'scale', 'degree': ...  0.684848  0.045353  \n",
       "37  {'kernel': 'poly', 'gamma': 'auto', 'degree': ...  0.703030  0.052135  \n",
       "38  {'kernel': 'poly', 'gamma': 'auto', 'degree': ...  0.715152  0.052835  \n",
       "39  {'kernel': 'poly', 'gamma': 'scale', 'degree':...  0.678788  0.024242  \n",
       "40  {'kernel': 'poly', 'gamma': 'auto', 'degree': ...  0.733333  0.079945  \n",
       "41  {'kernel': 'poly', 'gamma': 'scale', 'degree':...  0.709091  0.049237  \n",
       "42  {'kernel': 'poly', 'gamma': 'scale', 'degree':...  0.703030  0.048485  \n",
       "43  {'kernel': 'poly', 'gamma': 'scale', 'degree':...  0.678788  0.062398  \n",
       "44  {'kernel': 'poly', 'gamma': 'scale', 'degree':...  0.721212  0.058760  \n",
       "45  {'kernel': 'poly', 'gamma': 'scale', 'degree':...  0.684848  0.014845  \n",
       "46  {'kernel': 'poly', 'gamma': 'auto', 'degree': ...  0.721212  0.079945  \n",
       "47  {'kernel': 'poly', 'gamma': 'scale', 'degree':...  0.684848  0.059382  \n",
       "48  {'kernel': 'poly', 'gamma': 'scale', 'degree':...  0.696970  0.038331  \n",
       "49  {'kernel': 'poly', 'gamma': 'scale', 'degree':...  0.709091  0.073231  "
      ]
     },
     "execution_count": 54,
     "metadata": {},
     "output_type": "execute_result"
    }
   ],
   "source": [
    "svm_df"
   ]
  },
  {
   "cell_type": "code",
   "execution_count": 55,
   "metadata": {},
   "outputs": [
    {
     "data": {
      "application/vnd.plotly.v1+json": {
       "config": {
        "plotlyServerURL": "https://plot.ly"
       },
       "data": [
        {
         "hovertemplate": "variable=accuracy<br>trial=%{x}<br>value=%{y}<extra></extra>",
         "legendgroup": "accuracy",
         "line": {
          "color": "#636efa",
          "dash": "solid"
         },
         "mode": "lines",
         "name": "accuracy",
         "orientation": "v",
         "showlegend": true,
         "type": "scatter",
         "x": [
          0,
          1,
          2,
          3,
          4,
          5,
          6,
          7,
          8,
          9,
          10,
          11,
          12,
          13,
          14,
          15,
          16,
          17,
          18,
          19,
          20,
          21,
          22,
          23,
          24,
          25,
          26,
          27,
          28,
          29,
          30,
          31,
          32,
          33,
          34,
          35,
          36,
          37,
          38,
          39,
          40,
          41,
          42,
          43,
          44,
          45,
          46,
          47,
          48,
          49
         ],
         "xaxis": "x",
         "y": [
          0.7439024390243902,
          0.7560975609756098,
          0.7317073170731707,
          0.7682926829268293,
          0.7560975609756098,
          0.6463414634146342,
          0.7439024390243902,
          0.7682926829268293,
          0.7439024390243902,
          0.7560975609756098,
          0.7195121951219512,
          0.7804878048780488,
          0.7439024390243902,
          0.7804878048780488,
          0.7682926829268293,
          0.6463414634146342,
          0.7560975609756098,
          0.7439024390243902,
          0.7439024390243902,
          0.7682926829268293,
          0.7439024390243902,
          0.7560975609756098,
          0.7317073170731707,
          0.7439024390243902,
          0.6463414634146342,
          0.7439024390243902,
          0.7560975609756098,
          0.6463414634146342,
          0.7317073170731707,
          0.7560975609756098,
          0.7317073170731707,
          0.6463414634146342,
          0.7682926829268293,
          0.7439024390243902,
          0.7317073170731707,
          0.7439024390243902,
          0.6463414634146342,
          0.7317073170731707,
          0.7560975609756098,
          0.7682926829268293,
          0.7439024390243902,
          0.7317073170731707,
          0.7317073170731707,
          0.7439024390243902,
          0.7439024390243902,
          0.7560975609756098,
          0.7439024390243902,
          0.7560975609756098,
          0.7439024390243902,
          0.7682926829268293
         ],
         "yaxis": "y"
        },
        {
         "hovertemplate": "variable=macro_accuracy<br>trial=%{x}<br>value=%{y}<extra></extra>",
         "legendgroup": "macro_accuracy",
         "line": {
          "color": "#EF553B",
          "dash": "solid"
         },
         "mode": "lines",
         "name": "macro_accuracy",
         "orientation": "v",
         "showlegend": true,
         "type": "scatter",
         "x": [
          0,
          1,
          2,
          3,
          4,
          5,
          6,
          7,
          8,
          9,
          10,
          11,
          12,
          13,
          14,
          15,
          16,
          17,
          18,
          19,
          20,
          21,
          22,
          23,
          24,
          25,
          26,
          27,
          28,
          29,
          30,
          31,
          32,
          33,
          34,
          35,
          36,
          37,
          38,
          39,
          40,
          41,
          42,
          43,
          44,
          45,
          46,
          47,
          48,
          49
         ],
         "xaxis": "x",
         "y": [
          0.6909470002690342,
          0.805465367965368,
          0.8055555555555556,
          0.7524801587301587,
          0.7166666666666667,
          0.16158536585365854,
          0.7822115384615385,
          0.7339236924277908,
          0.7000634270101482,
          0.7283110119047619,
          0.7614155251141552,
          0.7756696428571429,
          0.7000634270101482,
          0.7756696428571429,
          0.8526915113871636,
          0.16158536585365854,
          0.5833333333333334,
          0.5716873706004141,
          0.6909470002690342,
          0.7667124542124543,
          0.7000634270101482,
          0.7625000000000001,
          0.5607142857142857,
          0.7916361416361416,
          0.16158536585365854,
          0.7000634270101482,
          0.7166666666666667,
          0.16158536585365854,
          0.669345238095238,
          0.7166666666666667,
          0.669345238095238,
          0.16158536585365854,
          0.8361318407960199,
          0.7916361416361416,
          0.6817460317460318,
          0.7000634270101482,
          0.16158536585365854,
          0.68125,
          0.7625000000000001,
          0.7667124542124543,
          0.7916361416361416,
          0.6721401204159825,
          0.669345238095238,
          0.5716873706004141,
          0.681522397094431,
          0.8375,
          0.5716873706004141,
          0.805465367965368,
          0.7822115384615385,
          0.7217213114754099
         ],
         "yaxis": "y"
        },
        {
         "hovertemplate": "variable=cv_acc<br>trial=%{x}<br>value=%{y}<extra></extra>",
         "legendgroup": "cv_acc",
         "line": {
          "color": "#00cc96",
          "dash": "solid"
         },
         "mode": "lines",
         "name": "cv_acc",
         "orientation": "v",
         "showlegend": true,
         "type": "scatter",
         "x": [
          0,
          1,
          2,
          3,
          4,
          5,
          6,
          7,
          8,
          9,
          10,
          11,
          12,
          13,
          14,
          15,
          16,
          17,
          18,
          19,
          20,
          21,
          22,
          23,
          24,
          25,
          26,
          27,
          28,
          29,
          30,
          31,
          32,
          33,
          34,
          35,
          36,
          37,
          38,
          39,
          40,
          41,
          42,
          43,
          44,
          45,
          46,
          47,
          48,
          49
         ],
         "xaxis": "x",
         "y": [
          0.6848484848484848,
          0.6727272727272726,
          0.7090909090909091,
          0.696969696969697,
          0.7212121212121212,
          0.7030303030303029,
          0.6787878787878787,
          0.703030303030303,
          0.6727272727272726,
          0.6909090909090908,
          0.696969696969697,
          0.7090909090909091,
          0.7090909090909091,
          0.7272727272727273,
          0.7090909090909092,
          0.7151515151515151,
          0.7090909090909092,
          0.709090909090909,
          0.6848484848484848,
          0.6666666666666666,
          0.7575757575757576,
          0.6848484848484848,
          0.703030303030303,
          0.7151515151515151,
          0.6969696969696969,
          0.7030303030303031,
          0.6909090909090909,
          0.6969696969696969,
          0.6787878787878788,
          0.7030303030303031,
          0.7272727272727273,
          0.6909090909090909,
          0.7151515151515151,
          0.6666666666666666,
          0.7030303030303031,
          0.6969696969696969,
          0.6848484848484848,
          0.703030303030303,
          0.7151515151515152,
          0.6787878787878787,
          0.7333333333333333,
          0.7090909090909091,
          0.703030303030303,
          0.6787878787878787,
          0.7212121212121213,
          0.6848484848484848,
          0.7212121212121212,
          0.6848484848484848,
          0.696969696969697,
          0.7090909090909091
         ],
         "yaxis": "y"
        }
       ],
       "layout": {
        "legend": {
         "title": {
          "text": "variable"
         },
         "tracegroupgap": 0
        },
        "margin": {
         "t": 60
        },
        "template": {
         "data": {
          "bar": [
           {
            "error_x": {
             "color": "#2a3f5f"
            },
            "error_y": {
             "color": "#2a3f5f"
            },
            "marker": {
             "line": {
              "color": "#E5ECF6",
              "width": 0.5
             }
            },
            "type": "bar"
           }
          ],
          "barpolar": [
           {
            "marker": {
             "line": {
              "color": "#E5ECF6",
              "width": 0.5
             }
            },
            "type": "barpolar"
           }
          ],
          "carpet": [
           {
            "aaxis": {
             "endlinecolor": "#2a3f5f",
             "gridcolor": "white",
             "linecolor": "white",
             "minorgridcolor": "white",
             "startlinecolor": "#2a3f5f"
            },
            "baxis": {
             "endlinecolor": "#2a3f5f",
             "gridcolor": "white",
             "linecolor": "white",
             "minorgridcolor": "white",
             "startlinecolor": "#2a3f5f"
            },
            "type": "carpet"
           }
          ],
          "choropleth": [
           {
            "colorbar": {
             "outlinewidth": 0,
             "ticks": ""
            },
            "type": "choropleth"
           }
          ],
          "contour": [
           {
            "colorbar": {
             "outlinewidth": 0,
             "ticks": ""
            },
            "colorscale": [
             [
              0,
              "#0d0887"
             ],
             [
              0.1111111111111111,
              "#46039f"
             ],
             [
              0.2222222222222222,
              "#7201a8"
             ],
             [
              0.3333333333333333,
              "#9c179e"
             ],
             [
              0.4444444444444444,
              "#bd3786"
             ],
             [
              0.5555555555555556,
              "#d8576b"
             ],
             [
              0.6666666666666666,
              "#ed7953"
             ],
             [
              0.7777777777777778,
              "#fb9f3a"
             ],
             [
              0.8888888888888888,
              "#fdca26"
             ],
             [
              1,
              "#f0f921"
             ]
            ],
            "type": "contour"
           }
          ],
          "contourcarpet": [
           {
            "colorbar": {
             "outlinewidth": 0,
             "ticks": ""
            },
            "type": "contourcarpet"
           }
          ],
          "heatmap": [
           {
            "colorbar": {
             "outlinewidth": 0,
             "ticks": ""
            },
            "colorscale": [
             [
              0,
              "#0d0887"
             ],
             [
              0.1111111111111111,
              "#46039f"
             ],
             [
              0.2222222222222222,
              "#7201a8"
             ],
             [
              0.3333333333333333,
              "#9c179e"
             ],
             [
              0.4444444444444444,
              "#bd3786"
             ],
             [
              0.5555555555555556,
              "#d8576b"
             ],
             [
              0.6666666666666666,
              "#ed7953"
             ],
             [
              0.7777777777777778,
              "#fb9f3a"
             ],
             [
              0.8888888888888888,
              "#fdca26"
             ],
             [
              1,
              "#f0f921"
             ]
            ],
            "type": "heatmap"
           }
          ],
          "heatmapgl": [
           {
            "colorbar": {
             "outlinewidth": 0,
             "ticks": ""
            },
            "colorscale": [
             [
              0,
              "#0d0887"
             ],
             [
              0.1111111111111111,
              "#46039f"
             ],
             [
              0.2222222222222222,
              "#7201a8"
             ],
             [
              0.3333333333333333,
              "#9c179e"
             ],
             [
              0.4444444444444444,
              "#bd3786"
             ],
             [
              0.5555555555555556,
              "#d8576b"
             ],
             [
              0.6666666666666666,
              "#ed7953"
             ],
             [
              0.7777777777777778,
              "#fb9f3a"
             ],
             [
              0.8888888888888888,
              "#fdca26"
             ],
             [
              1,
              "#f0f921"
             ]
            ],
            "type": "heatmapgl"
           }
          ],
          "histogram": [
           {
            "marker": {
             "colorbar": {
              "outlinewidth": 0,
              "ticks": ""
             }
            },
            "type": "histogram"
           }
          ],
          "histogram2d": [
           {
            "colorbar": {
             "outlinewidth": 0,
             "ticks": ""
            },
            "colorscale": [
             [
              0,
              "#0d0887"
             ],
             [
              0.1111111111111111,
              "#46039f"
             ],
             [
              0.2222222222222222,
              "#7201a8"
             ],
             [
              0.3333333333333333,
              "#9c179e"
             ],
             [
              0.4444444444444444,
              "#bd3786"
             ],
             [
              0.5555555555555556,
              "#d8576b"
             ],
             [
              0.6666666666666666,
              "#ed7953"
             ],
             [
              0.7777777777777778,
              "#fb9f3a"
             ],
             [
              0.8888888888888888,
              "#fdca26"
             ],
             [
              1,
              "#f0f921"
             ]
            ],
            "type": "histogram2d"
           }
          ],
          "histogram2dcontour": [
           {
            "colorbar": {
             "outlinewidth": 0,
             "ticks": ""
            },
            "colorscale": [
             [
              0,
              "#0d0887"
             ],
             [
              0.1111111111111111,
              "#46039f"
             ],
             [
              0.2222222222222222,
              "#7201a8"
             ],
             [
              0.3333333333333333,
              "#9c179e"
             ],
             [
              0.4444444444444444,
              "#bd3786"
             ],
             [
              0.5555555555555556,
              "#d8576b"
             ],
             [
              0.6666666666666666,
              "#ed7953"
             ],
             [
              0.7777777777777778,
              "#fb9f3a"
             ],
             [
              0.8888888888888888,
              "#fdca26"
             ],
             [
              1,
              "#f0f921"
             ]
            ],
            "type": "histogram2dcontour"
           }
          ],
          "mesh3d": [
           {
            "colorbar": {
             "outlinewidth": 0,
             "ticks": ""
            },
            "type": "mesh3d"
           }
          ],
          "parcoords": [
           {
            "line": {
             "colorbar": {
              "outlinewidth": 0,
              "ticks": ""
             }
            },
            "type": "parcoords"
           }
          ],
          "pie": [
           {
            "automargin": true,
            "type": "pie"
           }
          ],
          "scatter": [
           {
            "marker": {
             "colorbar": {
              "outlinewidth": 0,
              "ticks": ""
             }
            },
            "type": "scatter"
           }
          ],
          "scatter3d": [
           {
            "line": {
             "colorbar": {
              "outlinewidth": 0,
              "ticks": ""
             }
            },
            "marker": {
             "colorbar": {
              "outlinewidth": 0,
              "ticks": ""
             }
            },
            "type": "scatter3d"
           }
          ],
          "scattercarpet": [
           {
            "marker": {
             "colorbar": {
              "outlinewidth": 0,
              "ticks": ""
             }
            },
            "type": "scattercarpet"
           }
          ],
          "scattergeo": [
           {
            "marker": {
             "colorbar": {
              "outlinewidth": 0,
              "ticks": ""
             }
            },
            "type": "scattergeo"
           }
          ],
          "scattergl": [
           {
            "marker": {
             "colorbar": {
              "outlinewidth": 0,
              "ticks": ""
             }
            },
            "type": "scattergl"
           }
          ],
          "scattermapbox": [
           {
            "marker": {
             "colorbar": {
              "outlinewidth": 0,
              "ticks": ""
             }
            },
            "type": "scattermapbox"
           }
          ],
          "scatterpolar": [
           {
            "marker": {
             "colorbar": {
              "outlinewidth": 0,
              "ticks": ""
             }
            },
            "type": "scatterpolar"
           }
          ],
          "scatterpolargl": [
           {
            "marker": {
             "colorbar": {
              "outlinewidth": 0,
              "ticks": ""
             }
            },
            "type": "scatterpolargl"
           }
          ],
          "scatterternary": [
           {
            "marker": {
             "colorbar": {
              "outlinewidth": 0,
              "ticks": ""
             }
            },
            "type": "scatterternary"
           }
          ],
          "surface": [
           {
            "colorbar": {
             "outlinewidth": 0,
             "ticks": ""
            },
            "colorscale": [
             [
              0,
              "#0d0887"
             ],
             [
              0.1111111111111111,
              "#46039f"
             ],
             [
              0.2222222222222222,
              "#7201a8"
             ],
             [
              0.3333333333333333,
              "#9c179e"
             ],
             [
              0.4444444444444444,
              "#bd3786"
             ],
             [
              0.5555555555555556,
              "#d8576b"
             ],
             [
              0.6666666666666666,
              "#ed7953"
             ],
             [
              0.7777777777777778,
              "#fb9f3a"
             ],
             [
              0.8888888888888888,
              "#fdca26"
             ],
             [
              1,
              "#f0f921"
             ]
            ],
            "type": "surface"
           }
          ],
          "table": [
           {
            "cells": {
             "fill": {
              "color": "#EBF0F8"
             },
             "line": {
              "color": "white"
             }
            },
            "header": {
             "fill": {
              "color": "#C8D4E3"
             },
             "line": {
              "color": "white"
             }
            },
            "type": "table"
           }
          ]
         },
         "layout": {
          "annotationdefaults": {
           "arrowcolor": "#2a3f5f",
           "arrowhead": 0,
           "arrowwidth": 1
          },
          "autotypenumbers": "strict",
          "coloraxis": {
           "colorbar": {
            "outlinewidth": 0,
            "ticks": ""
           }
          },
          "colorscale": {
           "diverging": [
            [
             0,
             "#8e0152"
            ],
            [
             0.1,
             "#c51b7d"
            ],
            [
             0.2,
             "#de77ae"
            ],
            [
             0.3,
             "#f1b6da"
            ],
            [
             0.4,
             "#fde0ef"
            ],
            [
             0.5,
             "#f7f7f7"
            ],
            [
             0.6,
             "#e6f5d0"
            ],
            [
             0.7,
             "#b8e186"
            ],
            [
             0.8,
             "#7fbc41"
            ],
            [
             0.9,
             "#4d9221"
            ],
            [
             1,
             "#276419"
            ]
           ],
           "sequential": [
            [
             0,
             "#0d0887"
            ],
            [
             0.1111111111111111,
             "#46039f"
            ],
            [
             0.2222222222222222,
             "#7201a8"
            ],
            [
             0.3333333333333333,
             "#9c179e"
            ],
            [
             0.4444444444444444,
             "#bd3786"
            ],
            [
             0.5555555555555556,
             "#d8576b"
            ],
            [
             0.6666666666666666,
             "#ed7953"
            ],
            [
             0.7777777777777778,
             "#fb9f3a"
            ],
            [
             0.8888888888888888,
             "#fdca26"
            ],
            [
             1,
             "#f0f921"
            ]
           ],
           "sequentialminus": [
            [
             0,
             "#0d0887"
            ],
            [
             0.1111111111111111,
             "#46039f"
            ],
            [
             0.2222222222222222,
             "#7201a8"
            ],
            [
             0.3333333333333333,
             "#9c179e"
            ],
            [
             0.4444444444444444,
             "#bd3786"
            ],
            [
             0.5555555555555556,
             "#d8576b"
            ],
            [
             0.6666666666666666,
             "#ed7953"
            ],
            [
             0.7777777777777778,
             "#fb9f3a"
            ],
            [
             0.8888888888888888,
             "#fdca26"
            ],
            [
             1,
             "#f0f921"
            ]
           ]
          },
          "colorway": [
           "#636efa",
           "#EF553B",
           "#00cc96",
           "#ab63fa",
           "#FFA15A",
           "#19d3f3",
           "#FF6692",
           "#B6E880",
           "#FF97FF",
           "#FECB52"
          ],
          "font": {
           "color": "#2a3f5f"
          },
          "geo": {
           "bgcolor": "white",
           "lakecolor": "white",
           "landcolor": "#E5ECF6",
           "showlakes": true,
           "showland": true,
           "subunitcolor": "white"
          },
          "hoverlabel": {
           "align": "left"
          },
          "hovermode": "closest",
          "mapbox": {
           "style": "light"
          },
          "paper_bgcolor": "white",
          "plot_bgcolor": "#E5ECF6",
          "polar": {
           "angularaxis": {
            "gridcolor": "white",
            "linecolor": "white",
            "ticks": ""
           },
           "bgcolor": "#E5ECF6",
           "radialaxis": {
            "gridcolor": "white",
            "linecolor": "white",
            "ticks": ""
           }
          },
          "scene": {
           "xaxis": {
            "backgroundcolor": "#E5ECF6",
            "gridcolor": "white",
            "gridwidth": 2,
            "linecolor": "white",
            "showbackground": true,
            "ticks": "",
            "zerolinecolor": "white"
           },
           "yaxis": {
            "backgroundcolor": "#E5ECF6",
            "gridcolor": "white",
            "gridwidth": 2,
            "linecolor": "white",
            "showbackground": true,
            "ticks": "",
            "zerolinecolor": "white"
           },
           "zaxis": {
            "backgroundcolor": "#E5ECF6",
            "gridcolor": "white",
            "gridwidth": 2,
            "linecolor": "white",
            "showbackground": true,
            "ticks": "",
            "zerolinecolor": "white"
           }
          },
          "shapedefaults": {
           "line": {
            "color": "#2a3f5f"
           }
          },
          "ternary": {
           "aaxis": {
            "gridcolor": "white",
            "linecolor": "white",
            "ticks": ""
           },
           "baxis": {
            "gridcolor": "white",
            "linecolor": "white",
            "ticks": ""
           },
           "bgcolor": "#E5ECF6",
           "caxis": {
            "gridcolor": "white",
            "linecolor": "white",
            "ticks": ""
           }
          },
          "title": {
           "x": 0.05
          },
          "xaxis": {
           "automargin": true,
           "gridcolor": "white",
           "linecolor": "white",
           "ticks": "",
           "title": {
            "standoff": 15
           },
           "zerolinecolor": "white",
           "zerolinewidth": 2
          },
          "yaxis": {
           "automargin": true,
           "gridcolor": "white",
           "linecolor": "white",
           "ticks": "",
           "title": {
            "standoff": 15
           },
           "zerolinecolor": "white",
           "zerolinewidth": 2
          }
         }
        },
        "xaxis": {
         "anchor": "y",
         "domain": [
          0,
          1
         ],
         "title": {
          "text": "trial"
         }
        },
        "yaxis": {
         "anchor": "x",
         "domain": [
          0,
          1
         ],
         "title": {
          "text": "value"
         }
        }
       }
      }
     },
     "metadata": {},
     "output_type": "display_data"
    }
   ],
   "source": [
    "import plotly.express as px\n",
    "px.line(svm_df,x='trial',y=['accuracy','macro_accuracy','cv_acc'])"
   ]
  },
  {
   "cell_type": "code",
   "execution_count": 47,
   "metadata": {},
   "outputs": [
    {
     "data": {
      "text/plain": [
       "{'fit_time': array([0.2358551 , 0.19817901, 0.18565202, 0.17781711, 0.17850208]),\n",
       " 'score_time': array([0.00116277, 0.00046206, 0.00048494, 0.00041485, 0.00072408]),\n",
       " 'test_score': array([0.6969697 , 0.81818182, 0.81818182, 0.72727273, 0.63636364])}"
      ]
     },
     "execution_count": 47,
     "metadata": {},
     "output_type": "execute_result"
    }
   ],
   "source": [
    "scores"
   ]
  },
  {
   "cell_type": "code",
   "execution_count": 53,
   "metadata": {},
   "outputs": [
    {
     "name": "stdout",
     "output_type": "stream",
     "text": [
      "Accuracy: 0.75 (+/- 0.09)\n"
     ]
    }
   ],
   "source": [
    "scores = cross_validate(SVC(kernel='poly',gamma='scale',degree=3,decision_function_shape='ovr',coef0=0.7000000000000001,C=1.053475672085955,random_state=0), X_train, y_train, cv=5)\n",
    "print(\"Accuracy: %0.2f (+/- %0.2f)\" % (scores['test_score'].mean(), scores['test_score'].std() * 2))"
   ]
  },
  {
   "cell_type": "code",
   "execution_count": 32,
   "metadata": {},
   "outputs": [
    {
     "data": {
      "text/html": [
       "<div>\n",
       "<style scoped>\n",
       "    .dataframe tbody tr th:only-of-type {\n",
       "        vertical-align: middle;\n",
       "    }\n",
       "\n",
       "    .dataframe tbody tr th {\n",
       "        vertical-align: top;\n",
       "    }\n",
       "\n",
       "    .dataframe thead th {\n",
       "        text-align: right;\n",
       "    }\n",
       "</style>\n",
       "<table border=\"1\" class=\"dataframe\">\n",
       "  <thead>\n",
       "    <tr style=\"text-align: right;\">\n",
       "      <th></th>\n",
       "      <th>trial</th>\n",
       "      <th>accuracy</th>\n",
       "      <th>macro_accuracy</th>\n",
       "      <th>confusion_matrix</th>\n",
       "      <th>params</th>\n",
       "    </tr>\n",
       "  </thead>\n",
       "  <tbody>\n",
       "    <tr>\n",
       "      <th>37</th>\n",
       "      <td>37</td>\n",
       "      <td>0.865854</td>\n",
       "      <td>0.856631</td>\n",
       "      <td>[[5, 1, 0, 3], [0, 8, 0, 3], [0, 0, 4, 2], [0,...</td>\n",
       "      <td>{'kernel': 'poly', 'gamma': 'auto', 'degree': ...</td>\n",
       "    </tr>\n",
       "  </tbody>\n",
       "</table>\n",
       "</div>"
      ],
      "text/plain": [
       "    trial  accuracy  macro_accuracy  \\\n",
       "37     37  0.865854        0.856631   \n",
       "\n",
       "                                     confusion_matrix  \\\n",
       "37  [[5, 1, 0, 3], [0, 8, 0, 3], [0, 0, 4, 2], [0,...   \n",
       "\n",
       "                                               params  \n",
       "37  {'kernel': 'poly', 'gamma': 'auto', 'degree': ...  "
      ]
     },
     "execution_count": 32,
     "metadata": {},
     "output_type": "execute_result"
    }
   ],
   "source": [
    "svm_df[svm_df['macro_accuracy'] == svm_df['macro_accuracy'].max() ]"
   ]
  },
  {
   "cell_type": "code",
   "execution_count": 34,
   "metadata": {},
   "outputs": [
    {
     "name": "stdout",
     "output_type": "stream",
     "text": [
      "37\n",
      "0.8658536585365854\n",
      "0.8566308243727598\n",
      "[[ 5  1  0  3]\n",
      " [ 0  8  0  3]\n",
      " [ 0  0  4  2]\n",
      " [ 0  0  2 54]]\n",
      "{'kernel': 'poly', 'gamma': 'auto', 'degree': 4, 'decision_function_shape': 'ovr', 'coef0': 0.9, 'C': 1.051659640188661}\n"
     ]
    }
   ],
   "source": [
    "for val in svm_df.loc[37]:\n",
    "    print(val)"
   ]
  },
  {
   "cell_type": "code",
   "execution_count": 19,
   "metadata": {},
   "outputs": [
    {
     "data": {
      "text/plain": [
       "trial                                                              44\n",
       "accuracy                                                     0.792683\n",
       "macro_accuracy                                               0.768056\n",
       "confusion_matrix    [[2, 0, 0, 5], [0, 2, 0, 5], [1, 0, 3, 4], [0,...\n",
       "params              {'kernel': 'poly', 'gamma': 'scale', 'degree':...\n",
       "Name: 44, dtype: object"
      ]
     },
     "execution_count": 19,
     "metadata": {},
     "output_type": "execute_result"
    }
   ],
   "source": [
    "df.loc[44]"
   ]
  },
  {
   "cell_type": "code",
   "execution_count": 9,
   "metadata": {},
   "outputs": [
    {
     "data": {
      "text/plain": [
       "trial                                                               5\n",
       "accuracy                                                     0.780488\n",
       "macro_accuracy                                               0.728571\n",
       "confusion_matrix    [[3, 0, 0, 4], [1, 1, 0, 5], [1, 0, 3, 4], [0,...\n",
       "params              {'kernel': 'poly', 'gamma': 'scale', 'degree':...\n",
       "Name: 5, dtype: object"
      ]
     },
     "execution_count": 9,
     "metadata": {},
     "output_type": "execute_result"
    }
   ],
   "source": [
    "df.loc[5]"
   ]
  },
  {
   "cell_type": "markdown",
   "metadata": {},
   "source": [
    "Current best results:\n",
    "\n",
    "SVM:  \n",
    "accuracy                                                     0.780488  \n",
    "macro_accuracy                                               0.728571  \n",
    "{'kernel': 'poly',\n",
    " 'gamma': 'scale',\n",
    " 'degree': 3,\n",
    " 'decision_function_shape': 'ovr',\n",
    " 'coef0': 0.7000000000000001,\n",
    " 'C': 1.053475672085955}\n",
    "\n",
    "accuracy              0.792683  \n",
    "macro_accuracy        0.768056  \n",
    " {'kernel': 'poly',\n",
    " 'gamma': 'scale',\n",
    " 'degree': 7,\n",
    " 'decision_function_shape': 'ovr',\n",
    " 'coef0': 0.6000000000000001,\n",
    " 'C': 1.053646986645436}"
   ]
  },
  {
   "cell_type": "markdown",
   "metadata": {},
   "source": [
    "### Random Forest Tuning"
   ]
  },
  {
   "cell_type": "code",
   "execution_count": 21,
   "metadata": {},
   "outputs": [
    {
     "name": "stdout",
     "output_type": "stream",
     "text": [
      "Fitting 10 folds for each of 10 candidates, totalling 100 fits\n"
     ]
    },
    {
     "name": "stderr",
     "output_type": "stream",
     "text": [
      "/usr/local/lib/python3.9/site-packages/sklearn/model_selection/_search.py:922: UserWarning: One or more of the test scores are non-finite: [0.41617647        nan 0.67316176        nan 0.62389706 0.62463235\n",
      " 0.75735294 0.65992647 0.58823529 0.73308824]\n",
      "  warnings.warn(\n"
     ]
    },
    {
     "name": "stdout",
     "output_type": "stream",
     "text": [
      "Fitting 10 folds for each of 10 candidates, totalling 100 fits\n"
     ]
    },
    {
     "name": "stderr",
     "output_type": "stream",
     "text": [
      "/usr/local/lib/python3.9/site-packages/sklearn/model_selection/_search.py:922: UserWarning: One or more of the test scores are non-finite: [       nan        nan 0.67904412        nan        nan 0.71507353\n",
      " 0.69117647 0.72095588 0.61139706 0.73308824]\n",
      "  warnings.warn(\n"
     ]
    },
    {
     "name": "stdout",
     "output_type": "stream",
     "text": [
      "Fitting 10 folds for each of 10 candidates, totalling 100 fits\n"
     ]
    },
    {
     "name": "stderr",
     "output_type": "stream",
     "text": [
      "/usr/local/lib/python3.9/site-packages/sklearn/model_selection/_search.py:922: UserWarning: One or more of the test scores are non-finite: [0.73308824 0.73308824 0.39154412 0.62977941        nan 0.71507353\n",
      " 0.68492647 0.70367647        nan 0.65367647]\n",
      "  warnings.warn(\n"
     ]
    },
    {
     "name": "stdout",
     "output_type": "stream",
     "text": [
      "Fitting 10 folds for each of 10 candidates, totalling 100 fits\n"
     ]
    },
    {
     "name": "stderr",
     "output_type": "stream",
     "text": [
      "/usr/local/lib/python3.9/site-packages/sklearn/model_selection/_search.py:922: UserWarning: One or more of the test scores are non-finite: [0.70294118 0.76323529 0.74558824        nan        nan 0.69742647\n",
      "        nan        nan 0.64191176 0.58676471]\n",
      "  warnings.warn(\n"
     ]
    },
    {
     "name": "stdout",
     "output_type": "stream",
     "text": [
      "Fitting 10 folds for each of 10 candidates, totalling 100 fits\n"
     ]
    },
    {
     "name": "stderr",
     "output_type": "stream",
     "text": [
      "/usr/local/lib/python3.9/site-packages/sklearn/model_selection/_search.py:922: UserWarning: One or more of the test scores are non-finite: [       nan 0.73897059 0.29448529 0.73933824 0.57573529        nan\n",
      " 0.73970588 0.73933824        nan 0.73308824]\n",
      "  warnings.warn(\n"
     ]
    },
    {
     "name": "stdout",
     "output_type": "stream",
     "text": [
      "Fitting 10 folds for each of 10 candidates, totalling 100 fits\n"
     ]
    },
    {
     "name": "stderr",
     "output_type": "stream",
     "text": [
      "/usr/local/lib/python3.9/site-packages/sklearn/model_selection/_search.py:922: UserWarning: One or more of the test scores are non-finite: [       nan 0.62352941        nan        nan 0.62389706        nan\n",
      " 0.76985294        nan        nan 0.74558824]\n",
      "  warnings.warn(\n"
     ]
    },
    {
     "name": "stdout",
     "output_type": "stream",
     "text": [
      "Fitting 10 folds for each of 10 candidates, totalling 100 fits\n"
     ]
    },
    {
     "name": "stderr",
     "output_type": "stream",
     "text": [
      "/usr/local/lib/python3.9/site-packages/sklearn/model_selection/_search.py:922: UserWarning: One or more of the test scores are non-finite: [0.61727941 0.71507353 0.59963235 0.62977941 0.75772059 0.61764706\n",
      "        nan 0.66029412 0.75110294 0.64779412]\n",
      "  warnings.warn(\n"
     ]
    },
    {
     "name": "stdout",
     "output_type": "stream",
     "text": [
      "Fitting 10 folds for each of 10 candidates, totalling 100 fits\n"
     ]
    },
    {
     "name": "stderr",
     "output_type": "stream",
     "text": [
      "/usr/local/lib/python3.9/site-packages/sklearn/model_selection/_search.py:922: UserWarning: One or more of the test scores are non-finite: [0.72095588        nan        nan 0.67904412        nan        nan\n",
      " 0.74595588 0.73382353 0.75147059 0.76948529]\n",
      "  warnings.warn(\n"
     ]
    },
    {
     "name": "stdout",
     "output_type": "stream",
     "text": [
      "Fitting 10 folds for each of 10 candidates, totalling 100 fits\n"
     ]
    },
    {
     "name": "stderr",
     "output_type": "stream",
     "text": [
      "/usr/local/lib/python3.9/site-packages/sklearn/model_selection/_search.py:922: UserWarning: One or more of the test scores are non-finite: [0.73897059 0.57536765 0.73308824 0.73933824 0.72095588 0.73308824\n",
      " 0.62941176        nan 0.74522059 0.73308824]\n",
      "  warnings.warn(\n"
     ]
    },
    {
     "name": "stdout",
     "output_type": "stream",
     "text": [
      "Fitting 10 folds for each of 10 candidates, totalling 100 fits\n"
     ]
    },
    {
     "name": "stderr",
     "output_type": "stream",
     "text": [
      "/usr/local/lib/python3.9/site-packages/sklearn/model_selection/_search.py:922: UserWarning: One or more of the test scores are non-finite: [       nan 0.25992647        nan        nan 0.58786765        nan\n",
      "        nan        nan 0.6125            nan]\n",
      "  warnings.warn(\n"
     ]
    },
    {
     "name": "stdout",
     "output_type": "stream",
     "text": [
      "Fitting 10 folds for each of 10 candidates, totalling 100 fits\n"
     ]
    },
    {
     "name": "stderr",
     "output_type": "stream",
     "text": [
      "/usr/local/lib/python3.9/site-packages/sklearn/model_selection/_search.py:922: UserWarning: One or more of the test scores are non-finite: [0.56911765        nan        nan 0.64779412        nan        nan\n",
      "        nan 0.65404412        nan 0.67279412]\n",
      "  warnings.warn(\n"
     ]
    },
    {
     "name": "stdout",
     "output_type": "stream",
     "text": [
      "Fitting 10 folds for each of 10 candidates, totalling 100 fits\n"
     ]
    },
    {
     "name": "stderr",
     "output_type": "stream",
     "text": [
      "/usr/local/lib/python3.9/site-packages/sklearn/model_selection/_search.py:922: UserWarning: One or more of the test scores are non-finite: [0.69705882        nan        nan        nan 0.70955882        nan\n",
      " 0.64080882        nan 0.73308824 0.72610294]\n",
      "  warnings.warn(\n"
     ]
    },
    {
     "name": "stdout",
     "output_type": "stream",
     "text": [
      "Fitting 10 folds for each of 10 candidates, totalling 100 fits\n"
     ]
    },
    {
     "name": "stderr",
     "output_type": "stream",
     "text": [
      "/usr/local/lib/python3.9/site-packages/sklearn/model_selection/_search.py:922: UserWarning: One or more of the test scores are non-finite: [0.72132353 0.78198529        nan        nan 0.72095588 0.74522059\n",
      " 0.66617647        nan 0.72720588        nan]\n",
      "  warnings.warn(\n"
     ]
    },
    {
     "name": "stdout",
     "output_type": "stream",
     "text": [
      "Fitting 10 folds for each of 10 candidates, totalling 100 fits\n"
     ]
    },
    {
     "name": "stderr",
     "output_type": "stream",
     "text": [
      "/usr/local/lib/python3.9/site-packages/sklearn/model_selection/_search.py:922: UserWarning: One or more of the test scores are non-finite: [0.73382353        nan 0.72058824        nan        nan 0.74522059\n",
      " 0.24816176 0.66029412        nan 0.64816176]\n",
      "  warnings.warn(\n"
     ]
    },
    {
     "name": "stdout",
     "output_type": "stream",
     "text": [
      "Fitting 10 folds for each of 10 candidates, totalling 100 fits\n"
     ]
    },
    {
     "name": "stderr",
     "output_type": "stream",
     "text": [
      "/usr/local/lib/python3.9/site-packages/sklearn/model_selection/_search.py:922: UserWarning: One or more of the test scores are non-finite: [       nan 0.71507353 0.69742647 0.72720588 0.61727941        nan\n",
      " 0.67242647 0.76323529 0.60036765 0.48345588]\n",
      "  warnings.warn(\n"
     ]
    },
    {
     "name": "stdout",
     "output_type": "stream",
     "text": [
      "Fitting 10 folds for each of 10 candidates, totalling 100 fits\n"
     ]
    },
    {
     "name": "stderr",
     "output_type": "stream",
     "text": [
      "/usr/local/lib/python3.9/site-packages/sklearn/model_selection/_search.py:922: UserWarning: One or more of the test scores are non-finite: [       nan        nan        nan 0.69080882 0.67904412 0.75698529\n",
      "        nan        nan 0.64191176 0.72132353]\n",
      "  warnings.warn(\n"
     ]
    },
    {
     "name": "stdout",
     "output_type": "stream",
     "text": [
      "Fitting 10 folds for each of 10 candidates, totalling 100 fits\n"
     ]
    },
    {
     "name": "stderr",
     "output_type": "stream",
     "text": [
      "/usr/local/lib/python3.9/site-packages/sklearn/model_selection/_search.py:922: UserWarning: One or more of the test scores are non-finite: [       nan 0.73933824        nan 0.52095588 0.73345588        nan\n",
      "        nan 0.64191176 0.61102941        nan]\n",
      "  warnings.warn(\n"
     ]
    },
    {
     "name": "stdout",
     "output_type": "stream",
     "text": [
      "Fitting 10 folds for each of 10 candidates, totalling 100 fits\n"
     ]
    },
    {
     "name": "stderr",
     "output_type": "stream",
     "text": [
      "/usr/local/lib/python3.9/site-packages/sklearn/model_selection/_search.py:922: UserWarning: One or more of the test scores are non-finite: [0.70919118 0.61727941        nan        nan        nan        nan\n",
      " 0.73897059 0.76360294 0.75110294 0.72757353]\n",
      "  warnings.warn(\n"
     ]
    },
    {
     "name": "stdout",
     "output_type": "stream",
     "text": [
      "Fitting 10 folds for each of 10 candidates, totalling 100 fits\n"
     ]
    },
    {
     "name": "stderr",
     "output_type": "stream",
     "text": [
      "/usr/local/lib/python3.9/site-packages/sklearn/model_selection/_search.py:922: UserWarning: One or more of the test scores are non-finite: [       nan        nan 0.69632353        nan        nan        nan\n",
      "        nan 0.69117647        nan 0.62977941]\n",
      "  warnings.warn(\n"
     ]
    },
    {
     "name": "stdout",
     "output_type": "stream",
     "text": [
      "Fitting 10 folds for each of 10 candidates, totalling 100 fits\n"
     ]
    },
    {
     "name": "stderr",
     "output_type": "stream",
     "text": [
      "/usr/local/lib/python3.9/site-packages/sklearn/model_selection/_search.py:922: UserWarning: One or more of the test scores are non-finite: [       nan 0.76948529 0.50882353 0.70257353 0.66066176 0.63014706\n",
      " 0.68455882 0.73897059 0.66727941        nan]\n",
      "  warnings.warn(\n"
     ]
    },
    {
     "name": "stdout",
     "output_type": "stream",
     "text": [
      "Fitting 10 folds for each of 10 candidates, totalling 100 fits\n"
     ]
    },
    {
     "name": "stderr",
     "output_type": "stream",
     "text": [
      "/usr/local/lib/python3.9/site-packages/sklearn/model_selection/_search.py:922: UserWarning: One or more of the test scores are non-finite: [0.74522059        nan 0.73272059        nan        nan 0.69705882\n",
      " 0.62977941        nan 0.73933824 0.76360294]\n",
      "  warnings.warn(\n"
     ]
    },
    {
     "name": "stdout",
     "output_type": "stream",
     "text": [
      "Fitting 10 folds for each of 10 candidates, totalling 100 fits\n"
     ]
    },
    {
     "name": "stderr",
     "output_type": "stream",
     "text": [
      "/usr/local/lib/python3.9/site-packages/sklearn/model_selection/_search.py:922: UserWarning: One or more of the test scores are non-finite: [       nan        nan        nan 0.72720588        nan        nan\n",
      "        nan 0.61838235 0.60036765        nan]\n",
      "  warnings.warn(\n"
     ]
    },
    {
     "name": "stdout",
     "output_type": "stream",
     "text": [
      "Fitting 10 folds for each of 10 candidates, totalling 100 fits\n"
     ]
    },
    {
     "name": "stderr",
     "output_type": "stream",
     "text": [
      "/usr/local/lib/python3.9/site-packages/sklearn/model_selection/_search.py:922: UserWarning: One or more of the test scores are non-finite: [0.71507353 0.62352941        nan        nan 0.65441176        nan\n",
      " 0.62977941        nan        nan 0.59411765]\n",
      "  warnings.warn(\n"
     ]
    },
    {
     "name": "stdout",
     "output_type": "stream",
     "text": [
      "Fitting 10 folds for each of 10 candidates, totalling 100 fits\n"
     ]
    },
    {
     "name": "stderr",
     "output_type": "stream",
     "text": [
      "/usr/local/lib/python3.9/site-packages/sklearn/model_selection/_search.py:922: UserWarning: One or more of the test scores are non-finite: [       nan 0.75147059        nan 0.75110294 0.73860294 0.77536765\n",
      "        nan        nan 0.75147059 0.66691176]\n",
      "  warnings.warn(\n"
     ]
    },
    {
     "name": "stdout",
     "output_type": "stream",
     "text": [
      "Fitting 10 folds for each of 10 candidates, totalling 100 fits\n"
     ]
    },
    {
     "name": "stderr",
     "output_type": "stream",
     "text": [
      "/usr/local/lib/python3.9/site-packages/sklearn/model_selection/_search.py:922: UserWarning: One or more of the test scores are non-finite: [0.67279412        nan        nan 0.62977941 0.76360294 0.46470588\n",
      " 0.71544118 0.62316176        nan 0.73933824]\n",
      "  warnings.warn(\n"
     ]
    },
    {
     "name": "stdout",
     "output_type": "stream",
     "text": [
      "Fitting 10 folds for each of 10 candidates, totalling 100 fits\n"
     ]
    },
    {
     "name": "stderr",
     "output_type": "stream",
     "text": [
      "/usr/local/lib/python3.9/site-packages/sklearn/model_selection/_search.py:922: UserWarning: One or more of the test scores are non-finite: [       nan        nan 0.62977941 0.71507353 0.60551471        nan\n",
      " 0.65992647 0.39816176 0.58713235        nan]\n",
      "  warnings.warn(\n"
     ]
    },
    {
     "name": "stdout",
     "output_type": "stream",
     "text": [
      "Fitting 10 folds for each of 10 candidates, totalling 100 fits\n"
     ]
    },
    {
     "name": "stderr",
     "output_type": "stream",
     "text": [
      "/usr/local/lib/python3.9/site-packages/sklearn/model_selection/_search.py:922: UserWarning: One or more of the test scores are non-finite: [0.24117647        nan        nan 0.60588235        nan        nan\n",
      " 0.62977941 0.68419118        nan 0.72720588]\n",
      "  warnings.warn(\n"
     ]
    },
    {
     "name": "stdout",
     "output_type": "stream",
     "text": [
      "Fitting 10 folds for each of 10 candidates, totalling 100 fits\n"
     ]
    },
    {
     "name": "stderr",
     "output_type": "stream",
     "text": [
      "/usr/local/lib/python3.9/site-packages/sklearn/model_selection/_search.py:922: UserWarning: One or more of the test scores are non-finite: [0.73345588        nan 0.5875     0.72794118 0.73933824 0.61727941\n",
      "        nan        nan 0.575      0.76397059]\n",
      "  warnings.warn(\n"
     ]
    },
    {
     "name": "stdout",
     "output_type": "stream",
     "text": [
      "Fitting 10 folds for each of 10 candidates, totalling 100 fits\n"
     ]
    },
    {
     "name": "stderr",
     "output_type": "stream",
     "text": [
      "/usr/local/lib/python3.9/site-packages/sklearn/model_selection/_search.py:922: UserWarning: One or more of the test scores are non-finite: [0.67205882 0.41691176 0.73308824        nan        nan 0.72647059\n",
      " 0.75698529        nan 0.75735294 0.73933824]\n",
      "  warnings.warn(\n"
     ]
    },
    {
     "name": "stdout",
     "output_type": "stream",
     "text": [
      "Fitting 10 folds for each of 10 candidates, totalling 100 fits\n"
     ]
    },
    {
     "name": "stderr",
     "output_type": "stream",
     "text": [
      "/usr/local/lib/python3.9/site-packages/sklearn/model_selection/_search.py:922: UserWarning: One or more of the test scores are non-finite: [0.75147059 0.70808824 0.74522059 0.65477941 0.72647059 0.76286765\n",
      " 0.70882353        nan 0.74522059        nan]\n",
      "  warnings.warn(\n"
     ]
    },
    {
     "name": "stdout",
     "output_type": "stream",
     "text": [
      "Fitting 10 folds for each of 10 candidates, totalling 100 fits\n"
     ]
    },
    {
     "name": "stderr",
     "output_type": "stream",
     "text": [
      "/usr/local/lib/python3.9/site-packages/sklearn/model_selection/_search.py:922: UserWarning: One or more of the test scores are non-finite: [       nan        nan 0.70294118        nan 0.73272059        nan\n",
      " 0.66691176        nan 0.57573529 0.71470588]\n",
      "  warnings.warn(\n"
     ]
    },
    {
     "name": "stdout",
     "output_type": "stream",
     "text": [
      "Fitting 10 folds for each of 10 candidates, totalling 100 fits\n"
     ]
    },
    {
     "name": "stderr",
     "output_type": "stream",
     "text": [
      "/usr/local/lib/python3.9/site-packages/sklearn/model_selection/_search.py:922: UserWarning: One or more of the test scores are non-finite: [       nan        nan        nan        nan 0.73897059        nan\n",
      " 0.64301471        nan 0.59301471        nan]\n",
      "  warnings.warn(\n"
     ]
    },
    {
     "name": "stdout",
     "output_type": "stream",
     "text": [
      "Fitting 10 folds for each of 10 candidates, totalling 100 fits\n"
     ]
    },
    {
     "name": "stderr",
     "output_type": "stream",
     "text": [
      "/usr/local/lib/python3.9/site-packages/sklearn/model_selection/_search.py:922: UserWarning: One or more of the test scores are non-finite: [       nan        nan        nan 0.575      0.75808824        nan\n",
      " 0.5875     0.70919118 0.64227941 0.64227941]\n",
      "  warnings.warn(\n"
     ]
    },
    {
     "name": "stdout",
     "output_type": "stream",
     "text": [
      "Fitting 10 folds for each of 10 candidates, totalling 100 fits\n"
     ]
    },
    {
     "name": "stderr",
     "output_type": "stream",
     "text": [
      "/usr/local/lib/python3.9/site-packages/sklearn/model_selection/_search.py:922: UserWarning: One or more of the test scores are non-finite: [0.73897059        nan 0.75735294        nan 0.65441176        nan\n",
      "        nan 0.73897059        nan 0.59963235]\n",
      "  warnings.warn(\n"
     ]
    },
    {
     "name": "stdout",
     "output_type": "stream",
     "text": [
      "Fitting 10 folds for each of 10 candidates, totalling 100 fits\n"
     ]
    },
    {
     "name": "stderr",
     "output_type": "stream",
     "text": [
      "/usr/local/lib/python3.9/site-packages/sklearn/model_selection/_search.py:922: UserWarning: One or more of the test scores are non-finite: [0.73970588        nan 0.64816176        nan 0.73308824 0.74558824\n",
      " 0.75147059        nan 0.73345588 0.74522059]\n",
      "  warnings.warn(\n"
     ]
    },
    {
     "name": "stdout",
     "output_type": "stream",
     "text": [
      "Fitting 10 folds for each of 10 candidates, totalling 100 fits\n"
     ]
    },
    {
     "name": "stderr",
     "output_type": "stream",
     "text": [
      "/usr/local/lib/python3.9/site-packages/sklearn/model_selection/_search.py:922: UserWarning: One or more of the test scores are non-finite: [0.72720588        nan 0.65514706        nan        nan        nan\n",
      " 0.64264706 0.72169118 0.61948529        nan]\n",
      "  warnings.warn(\n"
     ]
    },
    {
     "name": "stdout",
     "output_type": "stream",
     "text": [
      "Fitting 10 folds for each of 10 candidates, totalling 100 fits\n"
     ]
    },
    {
     "name": "stderr",
     "output_type": "stream",
     "text": [
      "/usr/local/lib/python3.9/site-packages/sklearn/model_selection/_search.py:922: UserWarning: One or more of the test scores are non-finite: [0.70955882 0.73897059 0.66617647 0.70330882 0.61691176 0.72720588\n",
      "        nan        nan 0.70257353 0.75183824]\n",
      "  warnings.warn(\n"
     ]
    },
    {
     "name": "stdout",
     "output_type": "stream",
     "text": [
      "Fitting 10 folds for each of 10 candidates, totalling 100 fits\n"
     ]
    },
    {
     "name": "stderr",
     "output_type": "stream",
     "text": [
      "/usr/local/lib/python3.9/site-packages/sklearn/model_selection/_search.py:922: UserWarning: One or more of the test scores are non-finite: [0.71066176 0.64338235        nan        nan 0.75073529        nan\n",
      "        nan 0.59411765 0.75735294        nan]\n",
      "  warnings.warn(\n"
     ]
    },
    {
     "name": "stdout",
     "output_type": "stream",
     "text": [
      "Fitting 10 folds for each of 10 candidates, totalling 100 fits\n"
     ]
    },
    {
     "name": "stderr",
     "output_type": "stream",
     "text": [
      "/usr/local/lib/python3.9/site-packages/sklearn/model_selection/_search.py:922: UserWarning: One or more of the test scores are non-finite: [0.74522059        nan        nan 0.72720588 0.69705882 0.75110294\n",
      " 0.73272059        nan        nan        nan]\n",
      "  warnings.warn(\n"
     ]
    },
    {
     "name": "stdout",
     "output_type": "stream",
     "text": [
      "Fitting 10 folds for each of 10 candidates, totalling 100 fits\n"
     ]
    },
    {
     "name": "stderr",
     "output_type": "stream",
     "text": [
      "/usr/local/lib/python3.9/site-packages/sklearn/model_selection/_search.py:922: UserWarning: One or more of the test scores are non-finite: [0.69669118 0.73897059 0.72095588 0.75147059        nan        nan\n",
      " 0.53308824 0.64816176        nan 0.70882353]\n",
      "  warnings.warn(\n"
     ]
    },
    {
     "name": "stdout",
     "output_type": "stream",
     "text": [
      "Fitting 10 folds for each of 10 candidates, totalling 100 fits\n"
     ]
    },
    {
     "name": "stderr",
     "output_type": "stream",
     "text": [
      "/usr/local/lib/python3.9/site-packages/sklearn/model_selection/_search.py:922: UserWarning: One or more of the test scores are non-finite: [0.74522059        nan 0.73308824        nan        nan 0.70845588\n",
      "        nan 0.75183824 0.75735294 0.59963235]\n",
      "  warnings.warn(\n"
     ]
    },
    {
     "name": "stdout",
     "output_type": "stream",
     "text": [
      "Fitting 10 folds for each of 10 candidates, totalling 100 fits\n"
     ]
    },
    {
     "name": "stderr",
     "output_type": "stream",
     "text": [
      "/usr/local/lib/python3.9/site-packages/sklearn/model_selection/_search.py:922: UserWarning: One or more of the test scores are non-finite: [       nan 0.73345588        nan 0.59301471        nan 0.69117647\n",
      "        nan 0.74558824        nan 0.58823529]\n",
      "  warnings.warn(\n"
     ]
    },
    {
     "name": "stdout",
     "output_type": "stream",
     "text": [
      "Fitting 10 folds for each of 10 candidates, totalling 100 fits\n"
     ]
    },
    {
     "name": "stderr",
     "output_type": "stream",
     "text": [
      "/usr/local/lib/python3.9/site-packages/sklearn/model_selection/_search.py:922: UserWarning: One or more of the test scores are non-finite: [0.59375           nan        nan        nan 0.39852941        nan\n",
      "        nan 0.72132353        nan        nan]\n",
      "  warnings.warn(\n"
     ]
    },
    {
     "name": "stdout",
     "output_type": "stream",
     "text": [
      "Fitting 10 folds for each of 10 candidates, totalling 100 fits\n"
     ]
    },
    {
     "name": "stderr",
     "output_type": "stream",
     "text": [
      "/usr/local/lib/python3.9/site-packages/sklearn/model_selection/_search.py:922: UserWarning: One or more of the test scores are non-finite: [       nan 0.58786765        nan 0.72095588 0.76985294 0.75110294\n",
      "        nan 0.67904412 0.575      0.25992647]\n",
      "  warnings.warn(\n"
     ]
    },
    {
     "name": "stdout",
     "output_type": "stream",
     "text": [
      "Fitting 10 folds for each of 10 candidates, totalling 100 fits\n"
     ]
    },
    {
     "name": "stderr",
     "output_type": "stream",
     "text": [
      "/usr/local/lib/python3.9/site-packages/sklearn/model_selection/_search.py:922: UserWarning: One or more of the test scores are non-finite: [       nan 0.75147059 0.63602941 0.64779412        nan 0.69080882\n",
      " 0.70955882 0.73933824 0.64191176        nan]\n",
      "  warnings.warn(\n"
     ]
    },
    {
     "name": "stdout",
     "output_type": "stream",
     "text": [
      "Fitting 10 folds for each of 10 candidates, totalling 100 fits\n"
     ]
    },
    {
     "name": "stderr",
     "output_type": "stream",
     "text": [
      "/usr/local/lib/python3.9/site-packages/sklearn/model_selection/_search.py:922: UserWarning: One or more of the test scores are non-finite: [0.75772059 0.60588235        nan 0.64779412 0.63529412 0.74558824\n",
      "        nan        nan 0.75147059        nan]\n",
      "  warnings.warn(\n"
     ]
    },
    {
     "name": "stdout",
     "output_type": "stream",
     "text": [
      "Fitting 10 folds for each of 10 candidates, totalling 100 fits\n"
     ]
    },
    {
     "name": "stderr",
     "output_type": "stream",
     "text": [
      "/usr/local/lib/python3.9/site-packages/sklearn/model_selection/_search.py:922: UserWarning: One or more of the test scores are non-finite: [       nan 0.60551471 0.61102941        nan 0.69742647        nan\n",
      " 0.61176471 0.75147059 0.74595588 0.69705882]\n",
      "  warnings.warn(\n"
     ]
    },
    {
     "name": "stdout",
     "output_type": "stream",
     "text": [
      "Fitting 10 folds for each of 10 candidates, totalling 100 fits\n"
     ]
    },
    {
     "name": "stderr",
     "output_type": "stream",
     "text": [
      "/usr/local/lib/python3.9/site-packages/sklearn/model_selection/_search.py:922: UserWarning: One or more of the test scores are non-finite: [0.61801471        nan 0.76397059 0.73933824        nan 0.74558824\n",
      " 0.62977941 0.64227941 0.63602941        nan]\n",
      "  warnings.warn(\n"
     ]
    },
    {
     "name": "stdout",
     "output_type": "stream",
     "text": [
      "Fitting 10 folds for each of 10 candidates, totalling 100 fits\n"
     ]
    },
    {
     "name": "stderr",
     "output_type": "stream",
     "text": [
      "/usr/local/lib/python3.9/site-packages/sklearn/model_selection/_search.py:922: UserWarning: One or more of the test scores are non-finite: [       nan 0.73970588 0.73897059        nan        nan 0.33786765\n",
      " 0.69080882 0.75110294        nan        nan]\n",
      "  warnings.warn(\n"
     ]
    },
    {
     "name": "stdout",
     "output_type": "stream",
     "text": [
      "Fitting 10 folds for each of 10 candidates, totalling 100 fits\n"
     ]
    },
    {
     "name": "stderr",
     "output_type": "stream",
     "text": [
      "/usr/local/lib/python3.9/site-packages/sklearn/model_selection/_search.py:922: UserWarning: One or more of the test scores are non-finite: [       nan        nan        nan 0.68455882 0.73933824 0.76948529\n",
      "        nan 0.6125     0.74558824 0.73235294]\n",
      "  warnings.warn(\n"
     ]
    },
    {
     "name": "stdout",
     "output_type": "stream",
     "text": [
      "Fitting 10 folds for each of 10 candidates, totalling 100 fits\n"
     ]
    },
    {
     "name": "stderr",
     "output_type": "stream",
     "text": [
      "/usr/local/lib/python3.9/site-packages/sklearn/model_selection/_search.py:922: UserWarning: One or more of the test scores are non-finite: [0.72720588 0.66029412 0.75735294 0.59338235 0.75147059 0.72757353\n",
      "        nan 0.72647059 0.73897059        nan]\n",
      "  warnings.warn(\n"
     ]
    },
    {
     "name": "stdout",
     "output_type": "stream",
     "text": [
      "Fitting 10 folds for each of 10 candidates, totalling 100 fits\n"
     ]
    },
    {
     "name": "stderr",
     "output_type": "stream",
     "text": [
      "/usr/local/lib/python3.9/site-packages/sklearn/model_selection/_search.py:922: UserWarning: One or more of the test scores are non-finite: [0.72720588        nan 0.59852941        nan 0.70882353        nan\n",
      " 0.65367647        nan        nan        nan]\n",
      "  warnings.warn(\n"
     ]
    },
    {
     "name": "stdout",
     "output_type": "stream",
     "text": [
      "Fitting 10 folds for each of 10 candidates, totalling 100 fits\n"
     ]
    },
    {
     "name": "stderr",
     "output_type": "stream",
     "text": [
      "/usr/local/lib/python3.9/site-packages/sklearn/model_selection/_search.py:922: UserWarning: One or more of the test scores are non-finite: [       nan 0.70257353 0.69044118 0.62463235        nan        nan\n",
      " 0.72720588 0.73308824 0.61801471 0.74595588]\n",
      "  warnings.warn(\n"
     ]
    },
    {
     "name": "stdout",
     "output_type": "stream",
     "text": [
      "Fitting 10 folds for each of 10 candidates, totalling 100 fits\n"
     ]
    },
    {
     "name": "stderr",
     "output_type": "stream",
     "text": [
      "/usr/local/lib/python3.9/site-packages/sklearn/model_selection/_search.py:922: UserWarning: One or more of the test scores are non-finite: [       nan 0.70294118 0.76323529        nan 0.68566176 0.59889706\n",
      " 0.53308824 0.75698529 0.75183824 0.65367647]\n",
      "  warnings.warn(\n"
     ]
    },
    {
     "name": "stdout",
     "output_type": "stream",
     "text": [
      "Fitting 10 folds for each of 10 candidates, totalling 100 fits\n"
     ]
    },
    {
     "name": "stderr",
     "output_type": "stream",
     "text": [
      "/usr/local/lib/python3.9/site-packages/sklearn/model_selection/_search.py:922: UserWarning: One or more of the test scores are non-finite: [0.61102941        nan        nan        nan        nan        nan\n",
      "        nan 0.69080882        nan 0.64816176]\n",
      "  warnings.warn(\n"
     ]
    },
    {
     "name": "stdout",
     "output_type": "stream",
     "text": [
      "Fitting 10 folds for each of 10 candidates, totalling 100 fits\n"
     ]
    },
    {
     "name": "stderr",
     "output_type": "stream",
     "text": [
      "/usr/local/lib/python3.9/site-packages/sklearn/model_selection/_search.py:922: UserWarning: One or more of the test scores are non-finite: [0.72683824 0.76360294 0.56911765 0.65992647        nan 0.73345588\n",
      " 0.70919118 0.67279412 0.64816176 0.69705882]\n",
      "  warnings.warn(\n"
     ]
    },
    {
     "name": "stdout",
     "output_type": "stream",
     "text": [
      "Fitting 10 folds for each of 10 candidates, totalling 100 fits\n"
     ]
    },
    {
     "name": "stderr",
     "output_type": "stream",
     "text": [
      "/usr/local/lib/python3.9/site-packages/sklearn/model_selection/_search.py:922: UserWarning: One or more of the test scores are non-finite: [       nan        nan        nan 0.75735294        nan        nan\n",
      "        nan 0.70882353        nan 0.27904412]\n",
      "  warnings.warn(\n"
     ]
    },
    {
     "name": "stdout",
     "output_type": "stream",
     "text": [
      "Fitting 10 folds for each of 10 candidates, totalling 100 fits\n"
     ]
    },
    {
     "name": "stderr",
     "output_type": "stream",
     "text": [
      "/usr/local/lib/python3.9/site-packages/sklearn/model_selection/_search.py:922: UserWarning: One or more of the test scores are non-finite: [0.58198529 0.70257353 0.66544118 0.65367647 0.66066176 0.75110294\n",
      " 0.72095588        nan        nan 0.71507353]\n",
      "  warnings.warn(\n"
     ]
    },
    {
     "name": "stdout",
     "output_type": "stream",
     "text": [
      "Fitting 10 folds for each of 10 candidates, totalling 100 fits\n"
     ]
    },
    {
     "name": "stderr",
     "output_type": "stream",
     "text": [
      "/usr/local/lib/python3.9/site-packages/sklearn/model_selection/_search.py:922: UserWarning: One or more of the test scores are non-finite: [0.67794118 0.73933824 0.64227941 0.76948529        nan 0.33786765\n",
      "        nan 0.72095588        nan 0.74558824]\n",
      "  warnings.warn(\n"
     ]
    },
    {
     "name": "stdout",
     "output_type": "stream",
     "text": [
      "Fitting 10 folds for each of 10 candidates, totalling 100 fits\n"
     ]
    },
    {
     "name": "stderr",
     "output_type": "stream",
     "text": [
      "/usr/local/lib/python3.9/site-packages/sklearn/model_selection/_search.py:922: UserWarning: One or more of the test scores are non-finite: [0.49632353        nan 0.70955882 0.75147059 0.59963235        nan\n",
      " 0.70294118 0.69669118 0.73308824 0.63602941]\n",
      "  warnings.warn(\n"
     ]
    },
    {
     "name": "stdout",
     "output_type": "stream",
     "text": [
      "Fitting 10 folds for each of 10 candidates, totalling 100 fits\n"
     ]
    },
    {
     "name": "stderr",
     "output_type": "stream",
     "text": [
      "/usr/local/lib/python3.9/site-packages/sklearn/model_selection/_search.py:922: UserWarning: One or more of the test scores are non-finite: [       nan 0.74558824 0.58272059 0.74522059        nan        nan\n",
      "        nan 0.75772059 0.58713235 0.5875    ]\n",
      "  warnings.warn(\n"
     ]
    },
    {
     "name": "stdout",
     "output_type": "stream",
     "text": [
      "Fitting 10 folds for each of 10 candidates, totalling 100 fits\n"
     ]
    },
    {
     "name": "stderr",
     "output_type": "stream",
     "text": [
      "/usr/local/lib/python3.9/site-packages/sklearn/model_selection/_search.py:922: UserWarning: One or more of the test scores are non-finite: [       nan        nan 0.60477941 0.26544118 0.73933824 0.75110294\n",
      "        nan 0.58088235        nan        nan]\n",
      "  warnings.warn(\n"
     ]
    },
    {
     "name": "stdout",
     "output_type": "stream",
     "text": [
      "Fitting 10 folds for each of 10 candidates, totalling 100 fits\n"
     ]
    },
    {
     "name": "stderr",
     "output_type": "stream",
     "text": [
      "/usr/local/lib/python3.9/site-packages/sklearn/model_selection/_search.py:922: UserWarning: One or more of the test scores are non-finite: [0.66580882 0.74595588 0.72720588 0.64227941 0.72058824        nan\n",
      " 0.72720588 0.76323529        nan        nan]\n",
      "  warnings.warn(\n"
     ]
    },
    {
     "name": "stdout",
     "output_type": "stream",
     "text": [
      "Fitting 10 folds for each of 10 candidates, totalling 100 fits\n"
     ]
    },
    {
     "name": "stderr",
     "output_type": "stream",
     "text": [
      "/usr/local/lib/python3.9/site-packages/sklearn/model_selection/_search.py:922: UserWarning: One or more of the test scores are non-finite: [0.74558824 0.75110294        nan        nan        nan 0.61727941\n",
      "        nan        nan 0.75147059 0.76360294]\n",
      "  warnings.warn(\n"
     ]
    },
    {
     "name": "stdout",
     "output_type": "stream",
     "text": [
      "Fitting 10 folds for each of 10 candidates, totalling 100 fits\n"
     ]
    },
    {
     "name": "stderr",
     "output_type": "stream",
     "text": [
      "/usr/local/lib/python3.9/site-packages/sklearn/model_selection/_search.py:922: UserWarning: One or more of the test scores are non-finite: [0.28345588        nan 0.73308824 0.72794118        nan 0.69044118\n",
      "        nan 0.60477941 0.75698529 0.73272059]\n",
      "  warnings.warn(\n"
     ]
    },
    {
     "name": "stdout",
     "output_type": "stream",
     "text": [
      "Fitting 10 folds for each of 10 candidates, totalling 100 fits\n"
     ]
    },
    {
     "name": "stderr",
     "output_type": "stream",
     "text": [
      "/usr/local/lib/python3.9/site-packages/sklearn/model_selection/_search.py:922: UserWarning: One or more of the test scores are non-finite: [       nan 0.75808824        nan 0.61102941        nan 0.58125\n",
      " 0.67242647 0.63602941 0.73897059 0.76911765]\n",
      "  warnings.warn(\n"
     ]
    },
    {
     "name": "stdout",
     "output_type": "stream",
     "text": [
      "Fitting 10 folds for each of 10 candidates, totalling 100 fits\n"
     ]
    },
    {
     "name": "stderr",
     "output_type": "stream",
     "text": [
      "/usr/local/lib/python3.9/site-packages/sklearn/model_selection/_search.py:922: UserWarning: One or more of the test scores are non-finite: [       nan 0.56875    0.69080882 0.73345588        nan        nan\n",
      " 0.72720588        nan        nan 0.74558824]\n",
      "  warnings.warn(\n"
     ]
    },
    {
     "name": "stdout",
     "output_type": "stream",
     "text": [
      "Fitting 10 folds for each of 10 candidates, totalling 100 fits\n"
     ]
    },
    {
     "name": "stderr",
     "output_type": "stream",
     "text": [
      "/usr/local/lib/python3.9/site-packages/sklearn/model_selection/_search.py:922: UserWarning: One or more of the test scores are non-finite: [       nan        nan 0.75808824 0.75698529 0.73970588 0.62389706\n",
      " 0.51433824        nan        nan 0.72720588]\n",
      "  warnings.warn(\n"
     ]
    },
    {
     "name": "stdout",
     "output_type": "stream",
     "text": [
      "Fitting 10 folds for each of 10 candidates, totalling 100 fits\n"
     ]
    },
    {
     "name": "stderr",
     "output_type": "stream",
     "text": [
      "/usr/local/lib/python3.9/site-packages/sklearn/model_selection/_search.py:922: UserWarning: One or more of the test scores are non-finite: [0.51507353 0.71470588 0.73308824 0.63566176 0.75110294 0.66029412\n",
      "        nan 0.76360294        nan        nan]\n",
      "  warnings.warn(\n"
     ]
    },
    {
     "name": "stdout",
     "output_type": "stream",
     "text": [
      "Fitting 10 folds for each of 10 candidates, totalling 100 fits\n"
     ]
    },
    {
     "name": "stderr",
     "output_type": "stream",
     "text": [
      "/usr/local/lib/python3.9/site-packages/sklearn/model_selection/_search.py:922: UserWarning: One or more of the test scores are non-finite: [0.64117647 0.71507353 0.63051471        nan        nan 0.73308824\n",
      " 0.72720588 0.61727941        nan 0.62941176]\n",
      "  warnings.warn(\n"
     ]
    },
    {
     "name": "stdout",
     "output_type": "stream",
     "text": [
      "Fitting 10 folds for each of 10 candidates, totalling 100 fits\n"
     ]
    },
    {
     "name": "stderr",
     "output_type": "stream",
     "text": [
      "/usr/local/lib/python3.9/site-packages/sklearn/model_selection/_search.py:922: UserWarning: One or more of the test scores are non-finite: [0.58161765 0.65404412        nan        nan        nan        nan\n",
      " 0.71544118 0.26029412        nan 0.57536765]\n",
      "  warnings.warn(\n"
     ]
    },
    {
     "name": "stdout",
     "output_type": "stream",
     "text": [
      "Fitting 10 folds for each of 10 candidates, totalling 100 fits\n"
     ]
    },
    {
     "name": "stderr",
     "output_type": "stream",
     "text": [
      "/usr/local/lib/python3.9/site-packages/sklearn/model_selection/_search.py:922: UserWarning: One or more of the test scores are non-finite: [       nan        nan        nan 0.72058824        nan 0.38639706\n",
      " 0.76948529 0.58235294 0.73235294 0.70845588]\n",
      "  warnings.warn(\n"
     ]
    },
    {
     "name": "stdout",
     "output_type": "stream",
     "text": [
      "Fitting 10 folds for each of 10 candidates, totalling 100 fits\n"
     ]
    },
    {
     "name": "stderr",
     "output_type": "stream",
     "text": [
      "/usr/local/lib/python3.9/site-packages/sklearn/model_selection/_search.py:922: UserWarning: One or more of the test scores are non-finite: [       nan 0.73860294 0.66617647        nan        nan 0.75808824\n",
      " 0.35036765        nan 0.62977941 0.75110294]\n",
      "  warnings.warn(\n"
     ]
    },
    {
     "name": "stdout",
     "output_type": "stream",
     "text": [
      "Fitting 10 folds for each of 10 candidates, totalling 100 fits\n"
     ]
    },
    {
     "name": "stderr",
     "output_type": "stream",
     "text": [
      "/usr/local/lib/python3.9/site-packages/sklearn/model_selection/_search.py:922: UserWarning: One or more of the test scores are non-finite: [       nan        nan 0.69705882 0.75110294        nan 0.67904412\n",
      "        nan 0.62977941        nan        nan]\n",
      "  warnings.warn(\n"
     ]
    },
    {
     "name": "stdout",
     "output_type": "stream",
     "text": [
      "Fitting 10 folds for each of 10 candidates, totalling 100 fits\n"
     ]
    },
    {
     "name": "stderr",
     "output_type": "stream",
     "text": [
      "/usr/local/lib/python3.9/site-packages/sklearn/model_selection/_search.py:922: UserWarning: One or more of the test scores are non-finite: [0.71470588 0.64191176 0.75183824 0.60477941 0.76397059 0.63639706\n",
      "        nan        nan 0.62316176 0.67205882]\n",
      "  warnings.warn(\n"
     ]
    },
    {
     "name": "stdout",
     "output_type": "stream",
     "text": [
      "Fitting 10 folds for each of 10 candidates, totalling 100 fits\n"
     ]
    },
    {
     "name": "stderr",
     "output_type": "stream",
     "text": [
      "/usr/local/lib/python3.9/site-packages/sklearn/model_selection/_search.py:922: UserWarning: One or more of the test scores are non-finite: [       nan 0.73897059 0.61764706        nan        nan 0.73382353\n",
      " 0.63676471        nan 0.72683824 0.41102941]\n",
      "  warnings.warn(\n"
     ]
    },
    {
     "name": "stdout",
     "output_type": "stream",
     "text": [
      "Fitting 10 folds for each of 10 candidates, totalling 100 fits\n"
     ]
    },
    {
     "name": "stderr",
     "output_type": "stream",
     "text": [
      "/usr/local/lib/python3.9/site-packages/sklearn/model_selection/_search.py:922: UserWarning: One or more of the test scores are non-finite: [0.64154412 0.75110294 0.75147059 0.72095588        nan 0.71470588\n",
      " 0.73933824 0.76360294 0.72683824 0.71470588]\n",
      "  warnings.warn(\n"
     ]
    },
    {
     "name": "stdout",
     "output_type": "stream",
     "text": [
      "Fitting 10 folds for each of 10 candidates, totalling 100 fits\n"
     ]
    },
    {
     "name": "stderr",
     "output_type": "stream",
     "text": [
      "/usr/local/lib/python3.9/site-packages/sklearn/model_selection/_search.py:922: UserWarning: One or more of the test scores are non-finite: [       nan 0.42279412        nan        nan 0.73382353        nan\n",
      "        nan 0.64191176        nan 0.72095588]\n",
      "  warnings.warn(\n"
     ]
    },
    {
     "name": "stdout",
     "output_type": "stream",
     "text": [
      "Fitting 10 folds for each of 10 candidates, totalling 100 fits\n"
     ]
    },
    {
     "name": "stderr",
     "output_type": "stream",
     "text": [
      "/usr/local/lib/python3.9/site-packages/sklearn/model_selection/_search.py:922: UserWarning: One or more of the test scores are non-finite: [       nan 0.58125           nan 0.73933824 0.63529412        nan\n",
      "        nan 0.67242647        nan 0.47132353]\n",
      "  warnings.warn(\n"
     ]
    },
    {
     "name": "stdout",
     "output_type": "stream",
     "text": [
      "Fitting 10 folds for each of 10 candidates, totalling 100 fits\n"
     ]
    },
    {
     "name": "stderr",
     "output_type": "stream",
     "text": [
      "/usr/local/lib/python3.9/site-packages/sklearn/model_selection/_search.py:922: UserWarning: One or more of the test scores are non-finite: [0.66139706        nan        nan        nan        nan 0.55183824\n",
      " 0.74485294        nan 0.75073529 0.67867647]\n",
      "  warnings.warn(\n"
     ]
    },
    {
     "name": "stdout",
     "output_type": "stream",
     "text": [
      "Fitting 10 folds for each of 10 candidates, totalling 100 fits\n"
     ]
    },
    {
     "name": "stderr",
     "output_type": "stream",
     "text": [
      "/usr/local/lib/python3.9/site-packages/sklearn/model_selection/_search.py:922: UserWarning: One or more of the test scores are non-finite: [0.57573529 0.59301471        nan 0.60625    0.71580882 0.66580882\n",
      "        nan        nan        nan 0.60514706]\n",
      "  warnings.warn(\n"
     ]
    },
    {
     "name": "stdout",
     "output_type": "stream",
     "text": [
      "Fitting 10 folds for each of 10 candidates, totalling 100 fits\n"
     ]
    },
    {
     "name": "stderr",
     "output_type": "stream",
     "text": [
      "/usr/local/lib/python3.9/site-packages/sklearn/model_selection/_search.py:922: UserWarning: One or more of the test scores are non-finite: [       nan 0.73345588        nan        nan        nan 0.67867647\n",
      " 0.73345588 0.74522059 0.58161765 0.63639706]\n",
      "  warnings.warn(\n"
     ]
    },
    {
     "name": "stdout",
     "output_type": "stream",
     "text": [
      "Fitting 10 folds for each of 10 candidates, totalling 100 fits\n"
     ]
    },
    {
     "name": "stderr",
     "output_type": "stream",
     "text": [
      "/usr/local/lib/python3.9/site-packages/sklearn/model_selection/_search.py:922: UserWarning: One or more of the test scores are non-finite: [0.73308824        nan        nan 0.76360294 0.29595588 0.68529412\n",
      " 0.75808824        nan 0.73970588        nan]\n",
      "  warnings.warn(\n"
     ]
    },
    {
     "name": "stdout",
     "output_type": "stream",
     "text": [
      "Fitting 10 folds for each of 10 candidates, totalling 100 fits\n"
     ]
    },
    {
     "name": "stderr",
     "output_type": "stream",
     "text": [
      "/usr/local/lib/python3.9/site-packages/sklearn/model_selection/_search.py:922: UserWarning: One or more of the test scores are non-finite: [0.73345588 0.73345588        nan 0.62977941 0.75073529 0.59338235\n",
      "        nan        nan 0.59301471        nan]\n",
      "  warnings.warn(\n"
     ]
    },
    {
     "name": "stdout",
     "output_type": "stream",
     "text": [
      "Fitting 10 folds for each of 10 candidates, totalling 100 fits\n"
     ]
    },
    {
     "name": "stderr",
     "output_type": "stream",
     "text": [
      "/usr/local/lib/python3.9/site-packages/sklearn/model_selection/_search.py:922: UserWarning: One or more of the test scores are non-finite: [0.73345588 0.69044118 0.59963235 0.75735294        nan 0.59264706\n",
      " 0.75110294        nan 0.76985294        nan]\n",
      "  warnings.warn(\n"
     ]
    },
    {
     "name": "stdout",
     "output_type": "stream",
     "text": [
      "Fitting 10 folds for each of 10 candidates, totalling 100 fits\n"
     ]
    },
    {
     "name": "stderr",
     "output_type": "stream",
     "text": [
      "/usr/local/lib/python3.9/site-packages/sklearn/model_selection/_search.py:922: UserWarning: One or more of the test scores are non-finite: [       nan 0.64154412 0.76985294 0.73970588 0.73382353 0.42794118\n",
      "        nan 0.60588235        nan 0.70294118]\n",
      "  warnings.warn(\n"
     ]
    },
    {
     "name": "stdout",
     "output_type": "stream",
     "text": [
      "Fitting 10 folds for each of 10 candidates, totalling 100 fits\n"
     ]
    },
    {
     "name": "stderr",
     "output_type": "stream",
     "text": [
      "/usr/local/lib/python3.9/site-packages/sklearn/model_selection/_search.py:922: UserWarning: One or more of the test scores are non-finite: [       nan        nan        nan        nan 0.72095588 0.75147059\n",
      " 0.70367647        nan 0.64154412 0.73933824]\n",
      "  warnings.warn(\n"
     ]
    },
    {
     "name": "stdout",
     "output_type": "stream",
     "text": [
      "Fitting 10 folds for each of 10 candidates, totalling 100 fits\n"
     ]
    },
    {
     "name": "stderr",
     "output_type": "stream",
     "text": [
      "/usr/local/lib/python3.9/site-packages/sklearn/model_selection/_search.py:922: UserWarning: One or more of the test scores are non-finite: [       nan 0.61727941 0.76323529 0.59301471 0.575      0.69705882\n",
      "        nan        nan        nan 0.33125   ]\n",
      "  warnings.warn(\n"
     ]
    },
    {
     "name": "stdout",
     "output_type": "stream",
     "text": [
      "Fitting 10 folds for each of 10 candidates, totalling 100 fits\n"
     ]
    },
    {
     "name": "stderr",
     "output_type": "stream",
     "text": [
      "/usr/local/lib/python3.9/site-packages/sklearn/model_selection/_search.py:922: UserWarning: One or more of the test scores are non-finite: [0.67867647 0.72794118 0.73933824        nan        nan        nan\n",
      "        nan 0.61727941        nan        nan]\n",
      "  warnings.warn(\n"
     ]
    },
    {
     "name": "stdout",
     "output_type": "stream",
     "text": [
      "Fitting 10 folds for each of 10 candidates, totalling 100 fits\n"
     ]
    },
    {
     "name": "stderr",
     "output_type": "stream",
     "text": [
      "/usr/local/lib/python3.9/site-packages/sklearn/model_selection/_search.py:922: UserWarning: One or more of the test scores are non-finite: [       nan        nan        nan 0.50882353        nan        nan\n",
      "        nan 0.62352941        nan 0.74595588]\n",
      "  warnings.warn(\n"
     ]
    },
    {
     "name": "stdout",
     "output_type": "stream",
     "text": [
      "Fitting 10 folds for each of 10 candidates, totalling 100 fits\n"
     ]
    },
    {
     "name": "stderr",
     "output_type": "stream",
     "text": [
      "/usr/local/lib/python3.9/site-packages/sklearn/model_selection/_search.py:922: UserWarning: One or more of the test scores are non-finite: [0.64191176 0.64852941 0.72058824 0.69080882        nan 0.62352941\n",
      "        nan 0.62463235        nan        nan]\n",
      "  warnings.warn(\n"
     ]
    },
    {
     "name": "stdout",
     "output_type": "stream",
     "text": [
      "Fitting 10 folds for each of 10 candidates, totalling 100 fits\n"
     ]
    },
    {
     "name": "stderr",
     "output_type": "stream",
     "text": [
      "/usr/local/lib/python3.9/site-packages/sklearn/model_selection/_search.py:922: UserWarning: One or more of the test scores are non-finite: [       nan 0.63566176        nan        nan 0.66617647 0.62389706\n",
      "        nan 0.38602941 0.63602941        nan]\n",
      "  warnings.warn(\n"
     ]
    },
    {
     "name": "stdout",
     "output_type": "stream",
     "text": [
      "Fitting 10 folds for each of 10 candidates, totalling 100 fits\n"
     ]
    },
    {
     "name": "stderr",
     "output_type": "stream",
     "text": [
      "/usr/local/lib/python3.9/site-packages/sklearn/model_selection/_search.py:922: UserWarning: One or more of the test scores are non-finite: [       nan 0.68419118 0.69705882 0.67904412 0.75735294        nan\n",
      " 0.75110294 0.58786765 0.76397059        nan]\n",
      "  warnings.warn(\n"
     ]
    },
    {
     "name": "stdout",
     "output_type": "stream",
     "text": [
      "Fitting 10 folds for each of 10 candidates, totalling 100 fits\n"
     ]
    },
    {
     "name": "stderr",
     "output_type": "stream",
     "text": [
      "/usr/local/lib/python3.9/site-packages/sklearn/model_selection/_search.py:922: UserWarning: One or more of the test scores are non-finite: [       nan 0.45367647        nan        nan        nan 0.65404412\n",
      " 0.72095588 0.64227941        nan 0.58676471]\n",
      "  warnings.warn(\n"
     ]
    },
    {
     "name": "stdout",
     "output_type": "stream",
     "text": [
      "Fitting 10 folds for each of 10 candidates, totalling 100 fits\n"
     ]
    },
    {
     "name": "stderr",
     "output_type": "stream",
     "text": [
      "/usr/local/lib/python3.9/site-packages/sklearn/model_selection/_search.py:922: UserWarning: One or more of the test scores are non-finite: [0.71617647        nan        nan 0.29080882 0.73933824        nan\n",
      " 0.74522059        nan 0.75772059 0.72095588]\n",
      "  warnings.warn(\n"
     ]
    },
    {
     "name": "stdout",
     "output_type": "stream",
     "text": [
      "Fitting 10 folds for each of 10 candidates, totalling 100 fits\n"
     ]
    },
    {
     "name": "stderr",
     "output_type": "stream",
     "text": [
      "/usr/local/lib/python3.9/site-packages/sklearn/model_selection/_search.py:922: UserWarning: One or more of the test scores are non-finite: [       nan        nan        nan        nan        nan        nan\n",
      "        nan 0.72720588 0.74558824        nan]\n",
      "  warnings.warn(\n"
     ]
    },
    {
     "name": "stdout",
     "output_type": "stream",
     "text": [
      "Fitting 10 folds for each of 10 candidates, totalling 100 fits\n"
     ]
    },
    {
     "name": "stderr",
     "output_type": "stream",
     "text": [
      "/usr/local/lib/python3.9/site-packages/sklearn/model_selection/_search.py:922: UserWarning: One or more of the test scores are non-finite: [0.72720588 0.72794118 0.73308824 0.61139706        nan 0.76286765\n",
      " 0.37426471 0.67242647        nan 0.72169118]\n",
      "  warnings.warn(\n"
     ]
    },
    {
     "name": "stdout",
     "output_type": "stream",
     "text": [
      "Fitting 10 folds for each of 10 candidates, totalling 100 fits\n"
     ]
    },
    {
     "name": "stderr",
     "output_type": "stream",
     "text": [
      "/usr/local/lib/python3.9/site-packages/sklearn/model_selection/_search.py:922: UserWarning: One or more of the test scores are non-finite: [       nan        nan        nan        nan 0.5875     0.65992647\n",
      " 0.71544118        nan 0.73897059        nan]\n",
      "  warnings.warn(\n"
     ]
    },
    {
     "name": "stdout",
     "output_type": "stream",
     "text": [
      "Fitting 10 folds for each of 10 candidates, totalling 100 fits\n"
     ]
    },
    {
     "name": "stderr",
     "output_type": "stream",
     "text": [
      "/usr/local/lib/python3.9/site-packages/sklearn/model_selection/_search.py:922: UserWarning: One or more of the test scores are non-finite: [       nan 0.73933824 0.68455882 0.72058824 0.62977941        nan\n",
      " 0.67904412        nan 0.75735294        nan]\n",
      "  warnings.warn(\n"
     ]
    },
    {
     "name": "stdout",
     "output_type": "stream",
     "text": [
      "Fitting 10 folds for each of 10 candidates, totalling 100 fits\n"
     ]
    },
    {
     "name": "stderr",
     "output_type": "stream",
     "text": [
      "/usr/local/lib/python3.9/site-packages/sklearn/model_selection/_search.py:922: UserWarning: One or more of the test scores are non-finite: [       nan        nan 0.58713235 0.76985294 0.69595588 0.34448529\n",
      "        nan        nan 0.63676471        nan]\n",
      "  warnings.warn(\n"
     ]
    },
    {
     "name": "stdout",
     "output_type": "stream",
     "text": [
      "Fitting 10 folds for each of 10 candidates, totalling 100 fits\n"
     ]
    },
    {
     "name": "stderr",
     "output_type": "stream",
     "text": [
      "/usr/local/lib/python3.9/site-packages/sklearn/model_selection/_search.py:922: UserWarning: One or more of the test scores are non-finite: [       nan        nan 0.72683824        nan 0.72683824        nan\n",
      "        nan 0.73345588 0.72095588 0.62977941]\n",
      "  warnings.warn(\n"
     ]
    },
    {
     "name": "stdout",
     "output_type": "stream",
     "text": [
      "Fitting 10 folds for each of 10 candidates, totalling 100 fits\n"
     ]
    },
    {
     "name": "stderr",
     "output_type": "stream",
     "text": [
      "/usr/local/lib/python3.9/site-packages/sklearn/model_selection/_search.py:922: UserWarning: One or more of the test scores are non-finite: [0.66029412 0.64852941 0.58161765        nan 0.75772059 0.74448529\n",
      "        nan 0.68419118 0.74558824        nan]\n",
      "  warnings.warn(\n"
     ]
    },
    {
     "name": "stdout",
     "output_type": "stream",
     "text": [
      "Fitting 10 folds for each of 10 candidates, totalling 100 fits\n"
     ]
    },
    {
     "name": "stderr",
     "output_type": "stream",
     "text": [
      "/usr/local/lib/python3.9/site-packages/sklearn/model_selection/_search.py:922: UserWarning: One or more of the test scores are non-finite: [       nan 0.69080882        nan        nan 0.59963235        nan\n",
      "        nan        nan        nan        nan]\n",
      "  warnings.warn(\n"
     ]
    },
    {
     "name": "stdout",
     "output_type": "stream",
     "text": [
      "Fitting 10 folds for each of 10 candidates, totalling 100 fits\n"
     ]
    },
    {
     "name": "stderr",
     "output_type": "stream",
     "text": [
      "/usr/local/lib/python3.9/site-packages/sklearn/model_selection/_search.py:922: UserWarning: One or more of the test scores are non-finite: [0.38014706 0.35735294 0.68419118 0.72720588 0.70257353        nan\n",
      " 0.61102941        nan        nan 0.74522059]\n",
      "  warnings.warn(\n"
     ]
    },
    {
     "name": "stdout",
     "output_type": "stream",
     "text": [
      "Fitting 10 folds for each of 10 candidates, totalling 100 fits\n"
     ]
    },
    {
     "name": "stderr",
     "output_type": "stream",
     "text": [
      "/usr/local/lib/python3.9/site-packages/sklearn/model_selection/_search.py:922: UserWarning: One or more of the test scores are non-finite: [       nan 0.74558824 0.76397059 0.64742647 0.61764706 0.64154412\n",
      " 0.62352941        nan 0.61727941 0.73308824]\n",
      "  warnings.warn(\n"
     ]
    },
    {
     "name": "stdout",
     "output_type": "stream",
     "text": [
      "Fitting 10 folds for each of 10 candidates, totalling 100 fits\n"
     ]
    },
    {
     "name": "stderr",
     "output_type": "stream",
     "text": [
      "/usr/local/lib/python3.9/site-packages/sklearn/model_selection/_search.py:922: UserWarning: One or more of the test scores are non-finite: [0.70955882        nan 0.67904412        nan 0.74522059 0.76948529\n",
      " 0.71470588        nan 0.62941176        nan]\n",
      "  warnings.warn(\n"
     ]
    },
    {
     "name": "stdout",
     "output_type": "stream",
     "text": [
      "Fitting 10 folds for each of 10 candidates, totalling 100 fits\n"
     ]
    },
    {
     "name": "stderr",
     "output_type": "stream",
     "text": [
      "/usr/local/lib/python3.9/site-packages/sklearn/model_selection/_search.py:922: UserWarning: One or more of the test scores are non-finite: [0.65992647        nan        nan        nan 0.76985294 0.48933824\n",
      "        nan 0.45955882 0.71470588 0.65477941]\n",
      "  warnings.warn(\n"
     ]
    },
    {
     "name": "stdout",
     "output_type": "stream",
     "text": [
      "Fitting 10 folds for each of 10 candidates, totalling 100 fits\n"
     ]
    },
    {
     "name": "stderr",
     "output_type": "stream",
     "text": [
      "/usr/local/lib/python3.9/site-packages/sklearn/model_selection/_search.py:922: UserWarning: One or more of the test scores are non-finite: [0.73897059 0.69705882        nan        nan 0.73345588        nan\n",
      " 0.61727941 0.71507353        nan 0.5875    ]\n",
      "  warnings.warn(\n"
     ]
    },
    {
     "name": "stdout",
     "output_type": "stream",
     "text": [
      "Fitting 10 folds for each of 10 candidates, totalling 100 fits\n"
     ]
    },
    {
     "name": "stderr",
     "output_type": "stream",
     "text": [
      "/usr/local/lib/python3.9/site-packages/sklearn/model_selection/_search.py:922: UserWarning: One or more of the test scores are non-finite: [       nan 0.73308824 0.74485294        nan        nan 0.64779412\n",
      "        nan        nan        nan 0.73897059]\n",
      "  warnings.warn(\n"
     ]
    },
    {
     "name": "stdout",
     "output_type": "stream",
     "text": [
      "Fitting 10 folds for each of 10 candidates, totalling 100 fits\n"
     ]
    },
    {
     "name": "stderr",
     "output_type": "stream",
     "text": [
      "/usr/local/lib/python3.9/site-packages/sklearn/model_selection/_search.py:922: UserWarning: One or more of the test scores are non-finite: [0.71580882        nan        nan 0.73345588 0.76360294        nan\n",
      " 0.71544118 0.58676471        nan        nan]\n",
      "  warnings.warn(\n"
     ]
    },
    {
     "name": "stdout",
     "output_type": "stream",
     "text": [
      "Fitting 10 folds for each of 10 candidates, totalling 100 fits\n"
     ]
    },
    {
     "name": "stderr",
     "output_type": "stream",
     "text": [
      "/usr/local/lib/python3.9/site-packages/sklearn/model_selection/_search.py:922: UserWarning: One or more of the test scores are non-finite: [       nan        nan        nan        nan        nan 0.64191176\n",
      " 0.69044118 0.73345588        nan 0.71544118]\n",
      "  warnings.warn(\n"
     ]
    },
    {
     "name": "stdout",
     "output_type": "stream",
     "text": [
      "Fitting 10 folds for each of 10 candidates, totalling 100 fits\n"
     ]
    },
    {
     "name": "stderr",
     "output_type": "stream",
     "text": [
      "/usr/local/lib/python3.9/site-packages/sklearn/model_selection/_search.py:922: UserWarning: One or more of the test scores are non-finite: [0.59264706 0.62316176 0.60110294 0.76397059 0.65367647        nan\n",
      "        nan        nan 0.71507353 0.76323529]\n",
      "  warnings.warn(\n"
     ]
    },
    {
     "name": "stdout",
     "output_type": "stream",
     "text": [
      "Fitting 10 folds for each of 10 candidates, totalling 100 fits\n"
     ]
    },
    {
     "name": "stderr",
     "output_type": "stream",
     "text": [
      "/usr/local/lib/python3.9/site-packages/sklearn/model_selection/_search.py:922: UserWarning: One or more of the test scores are non-finite: [       nan        nan        nan 0.76360294        nan 0.72720588\n",
      " 0.70294118 0.64742647        nan        nan]\n",
      "  warnings.warn(\n"
     ]
    },
    {
     "name": "stdout",
     "output_type": "stream",
     "text": [
      "Fitting 10 folds for each of 10 candidates, totalling 100 fits\n"
     ]
    },
    {
     "name": "stderr",
     "output_type": "stream",
     "text": [
      "/usr/local/lib/python3.9/site-packages/sklearn/model_selection/_search.py:922: UserWarning: One or more of the test scores are non-finite: [0.62316176 0.65367647        nan        nan 0.73382353        nan\n",
      " 0.59301471        nan 0.62352941 0.71470588]\n",
      "  warnings.warn(\n"
     ]
    },
    {
     "name": "stdout",
     "output_type": "stream",
     "text": [
      "Fitting 10 folds for each of 10 candidates, totalling 100 fits\n"
     ]
    },
    {
     "name": "stderr",
     "output_type": "stream",
     "text": [
      "/usr/local/lib/python3.9/site-packages/sklearn/model_selection/_search.py:922: UserWarning: One or more of the test scores are non-finite: [       nan 0.75698529        nan        nan 0.73308824 0.73860294\n",
      " 0.72757353 0.73897059 0.67794118        nan]\n",
      "  warnings.warn(\n"
     ]
    },
    {
     "name": "stdout",
     "output_type": "stream",
     "text": [
      "Fitting 10 folds for each of 10 candidates, totalling 100 fits\n"
     ]
    },
    {
     "name": "stderr",
     "output_type": "stream",
     "text": [
      "/usr/local/lib/python3.9/site-packages/sklearn/model_selection/_search.py:922: UserWarning: One or more of the test scores are non-finite: [       nan 0.74485294 0.73970588 0.31838235 0.70294118 0.63014706\n",
      " 0.61176471 0.74448529        nan        nan]\n",
      "  warnings.warn(\n"
     ]
    },
    {
     "name": "stdout",
     "output_type": "stream",
     "text": [
      "Fitting 10 folds for each of 10 candidates, totalling 100 fits\n"
     ]
    },
    {
     "name": "stderr",
     "output_type": "stream",
     "text": [
      "/usr/local/lib/python3.9/site-packages/sklearn/model_selection/_search.py:922: UserWarning: One or more of the test scores are non-finite: [0.73897059 0.61801471        nan        nan 0.72132353 0.73308824\n",
      " 0.66654412 0.75147059 0.72683824 0.75110294]\n",
      "  warnings.warn(\n"
     ]
    },
    {
     "name": "stdout",
     "output_type": "stream",
     "text": [
      "Fitting 10 folds for each of 10 candidates, totalling 100 fits\n"
     ]
    },
    {
     "name": "stderr",
     "output_type": "stream",
     "text": [
      "/usr/local/lib/python3.9/site-packages/sklearn/model_selection/_search.py:922: UserWarning: One or more of the test scores are non-finite: [       nan 0.72720588 0.73382353        nan 0.69080882 0.74595588\n",
      " 0.65367647 0.56323529 0.73933824        nan]\n",
      "  warnings.warn(\n"
     ]
    },
    {
     "name": "stdout",
     "output_type": "stream",
     "text": [
      "Fitting 10 folds for each of 10 candidates, totalling 100 fits\n"
     ]
    },
    {
     "name": "stderr",
     "output_type": "stream",
     "text": [
      "/usr/local/lib/python3.9/site-packages/sklearn/model_selection/_search.py:922: UserWarning: One or more of the test scores are non-finite: [0.73308824        nan 0.75183824        nan 0.60551471        nan\n",
      " 0.59301471        nan 0.76323529        nan]\n",
      "  warnings.warn(\n"
     ]
    },
    {
     "name": "stdout",
     "output_type": "stream",
     "text": [
      "Fitting 10 folds for each of 10 candidates, totalling 100 fits\n"
     ]
    },
    {
     "name": "stderr",
     "output_type": "stream",
     "text": [
      "/usr/local/lib/python3.9/site-packages/sklearn/model_selection/_search.py:922: UserWarning: One or more of the test scores are non-finite: [       nan 0.72205882        nan 0.75808824 0.72720588        nan\n",
      " 0.61801471 0.72242647        nan 0.76948529]\n",
      "  warnings.warn(\n"
     ]
    },
    {
     "name": "stdout",
     "output_type": "stream",
     "text": [
      "Fitting 10 folds for each of 10 candidates, totalling 100 fits\n"
     ]
    },
    {
     "name": "stderr",
     "output_type": "stream",
     "text": [
      "/usr/local/lib/python3.9/site-packages/sklearn/model_selection/_search.py:922: UserWarning: One or more of the test scores are non-finite: [       nan 0.58713235 0.64191176        nan        nan 0.68455882\n",
      " 0.67867647 0.61764706        nan 0.76948529]\n",
      "  warnings.warn(\n"
     ]
    },
    {
     "name": "stdout",
     "output_type": "stream",
     "text": [
      "Fitting 10 folds for each of 10 candidates, totalling 100 fits\n"
     ]
    },
    {
     "name": "stderr",
     "output_type": "stream",
     "text": [
      "/usr/local/lib/python3.9/site-packages/sklearn/model_selection/_search.py:922: UserWarning: One or more of the test scores are non-finite: [       nan        nan 0.64227941        nan 0.74485294        nan\n",
      " 0.74558824 0.59338235 0.73933824 0.70845588]\n",
      "  warnings.warn(\n"
     ]
    },
    {
     "name": "stdout",
     "output_type": "stream",
     "text": [
      "Fitting 10 folds for each of 10 candidates, totalling 100 fits\n"
     ]
    },
    {
     "name": "stderr",
     "output_type": "stream",
     "text": [
      "/usr/local/lib/python3.9/site-packages/sklearn/model_selection/_search.py:922: UserWarning: One or more of the test scores are non-finite: [0.67830882 0.65367647 0.62977941        nan 0.66029412 0.69080882\n",
      "        nan 0.61139706        nan 0.73897059]\n",
      "  warnings.warn(\n"
     ]
    },
    {
     "name": "stdout",
     "output_type": "stream",
     "text": [
      "Fitting 10 folds for each of 10 candidates, totalling 100 fits\n"
     ]
    },
    {
     "name": "stderr",
     "output_type": "stream",
     "text": [
      "/usr/local/lib/python3.9/site-packages/sklearn/model_selection/_search.py:922: UserWarning: One or more of the test scores are non-finite: [       nan 0.29632353 0.72757353 0.70330882        nan        nan\n",
      " 0.71544118 0.66066176 0.63566176 0.59448529]\n",
      "  warnings.warn(\n"
     ]
    },
    {
     "name": "stdout",
     "output_type": "stream",
     "text": [
      "Fitting 10 folds for each of 10 candidates, totalling 100 fits\n"
     ]
    },
    {
     "name": "stderr",
     "output_type": "stream",
     "text": [
      "/usr/local/lib/python3.9/site-packages/sklearn/model_selection/_search.py:922: UserWarning: One or more of the test scores are non-finite: [0.73308824        nan 0.66029412 0.58125           nan        nan\n",
      " 0.62352941 0.69632353        nan 0.58713235]\n",
      "  warnings.warn(\n"
     ]
    },
    {
     "name": "stdout",
     "output_type": "stream",
     "text": [
      "Fitting 10 folds for each of 10 candidates, totalling 100 fits\n"
     ]
    },
    {
     "name": "stderr",
     "output_type": "stream",
     "text": [
      "/usr/local/lib/python3.9/site-packages/sklearn/model_selection/_search.py:922: UserWarning: One or more of the test scores are non-finite: [0.62941176 0.75808824        nan 0.70294118 0.575      0.69742647\n",
      "        nan        nan        nan        nan]\n",
      "  warnings.warn(\n"
     ]
    },
    {
     "name": "stdout",
     "output_type": "stream",
     "text": [
      "Fitting 10 folds for each of 10 candidates, totalling 100 fits\n"
     ]
    },
    {
     "name": "stderr",
     "output_type": "stream",
     "text": [
      "/usr/local/lib/python3.9/site-packages/sklearn/model_selection/_search.py:922: UserWarning: One or more of the test scores are non-finite: [0.64191176 0.60625           nan        nan        nan 0.70919118\n",
      "        nan 0.73345588 0.64816176 0.75735294]\n",
      "  warnings.warn(\n"
     ]
    },
    {
     "name": "stdout",
     "output_type": "stream",
     "text": [
      "Fitting 10 folds for each of 10 candidates, totalling 100 fits\n"
     ]
    },
    {
     "name": "stderr",
     "output_type": "stream",
     "text": [
      "/usr/local/lib/python3.9/site-packages/sklearn/model_selection/_search.py:922: UserWarning: One or more of the test scores are non-finite: [0.72794118 0.72720588 0.76470588        nan        nan        nan\n",
      " 0.65367647 0.74522059        nan        nan]\n",
      "  warnings.warn(\n"
     ]
    },
    {
     "name": "stdout",
     "output_type": "stream",
     "text": [
      "Fitting 10 folds for each of 10 candidates, totalling 100 fits\n"
     ]
    },
    {
     "name": "stderr",
     "output_type": "stream",
     "text": [
      "/usr/local/lib/python3.9/site-packages/sklearn/model_selection/_search.py:922: UserWarning: One or more of the test scores are non-finite: [0.33860294 0.70257353 0.60477941 0.68492647 0.72647059        nan\n",
      " 0.64154412        nan        nan 0.65441176]\n",
      "  warnings.warn(\n"
     ]
    },
    {
     "name": "stdout",
     "output_type": "stream",
     "text": [
      "Fitting 10 folds for each of 10 candidates, totalling 100 fits\n"
     ]
    },
    {
     "name": "stderr",
     "output_type": "stream",
     "text": [
      "/usr/local/lib/python3.9/site-packages/sklearn/model_selection/_search.py:922: UserWarning: One or more of the test scores are non-finite: [0.76323529        nan 0.72720588 0.77610294        nan 0.64816176\n",
      "        nan 0.58198529 0.58125    0.61764706]\n",
      "  warnings.warn(\n"
     ]
    },
    {
     "name": "stdout",
     "output_type": "stream",
     "text": [
      "Fitting 10 folds for each of 10 candidates, totalling 100 fits\n"
     ]
    },
    {
     "name": "stderr",
     "output_type": "stream",
     "text": [
      "/usr/local/lib/python3.9/site-packages/sklearn/model_selection/_search.py:922: UserWarning: One or more of the test scores are non-finite: [0.76360294        nan 0.73860294        nan 0.60551471 0.72647059\n",
      " 0.59963235 0.66580882 0.72720588 0.75110294]\n",
      "  warnings.warn(\n"
     ]
    },
    {
     "name": "stdout",
     "output_type": "stream",
     "text": [
      "Fitting 10 folds for each of 10 candidates, totalling 100 fits\n"
     ]
    },
    {
     "name": "stderr",
     "output_type": "stream",
     "text": [
      "/usr/local/lib/python3.9/site-packages/sklearn/model_selection/_search.py:922: UserWarning: One or more of the test scores are non-finite: [0.63602941        nan        nan 0.75110294        nan 0.72095588\n",
      " 0.64227941 0.73308824 0.73897059 0.75147059]\n",
      "  warnings.warn(\n"
     ]
    },
    {
     "name": "stdout",
     "output_type": "stream",
     "text": [
      "Fitting 10 folds for each of 10 candidates, totalling 100 fits\n"
     ]
    },
    {
     "name": "stderr",
     "output_type": "stream",
     "text": [
      "/usr/local/lib/python3.9/site-packages/sklearn/model_selection/_search.py:922: UserWarning: One or more of the test scores are non-finite: [       nan        nan 0.75110294        nan 0.58933824 0.76323529\n",
      " 0.66029412 0.74522059 0.74558824 0.75147059]\n",
      "  warnings.warn(\n"
     ]
    },
    {
     "name": "stdout",
     "output_type": "stream",
     "text": [
      "Fitting 10 folds for each of 10 candidates, totalling 100 fits\n"
     ]
    },
    {
     "name": "stderr",
     "output_type": "stream",
     "text": [
      "/usr/local/lib/python3.9/site-packages/sklearn/model_selection/_search.py:922: UserWarning: One or more of the test scores are non-finite: [0.73345588 0.61213235 0.75772059 0.73933824 0.74558824 0.64227941\n",
      "        nan 0.64227941 0.75698529        nan]\n",
      "  warnings.warn(\n"
     ]
    },
    {
     "name": "stdout",
     "output_type": "stream",
     "text": [
      "Fitting 10 folds for each of 10 candidates, totalling 100 fits\n"
     ]
    },
    {
     "name": "stderr",
     "output_type": "stream",
     "text": [
      "/usr/local/lib/python3.9/site-packages/sklearn/model_selection/_search.py:922: UserWarning: One or more of the test scores are non-finite: [       nan 0.70845588 0.75110294        nan        nan        nan\n",
      "        nan 0.33382353 0.71470588 0.73345588]\n",
      "  warnings.warn(\n"
     ]
    },
    {
     "name": "stdout",
     "output_type": "stream",
     "text": [
      "Fitting 10 folds for each of 10 candidates, totalling 100 fits\n"
     ]
    },
    {
     "name": "stderr",
     "output_type": "stream",
     "text": [
      "/usr/local/lib/python3.9/site-packages/sklearn/model_selection/_search.py:922: UserWarning: One or more of the test scores are non-finite: [0.66654412 0.67904412 0.75147059 0.73308824        nan 0.75772059\n",
      "        nan 0.72169118        nan 0.64816176]\n",
      "  warnings.warn(\n"
     ]
    },
    {
     "name": "stdout",
     "output_type": "stream",
     "text": [
      "Fitting 10 folds for each of 10 candidates, totalling 100 fits\n"
     ]
    },
    {
     "name": "stderr",
     "output_type": "stream",
     "text": [
      "/usr/local/lib/python3.9/site-packages/sklearn/model_selection/_search.py:922: UserWarning: One or more of the test scores are non-finite: [0.69705882 0.75183824        nan 0.75147059        nan 0.74522059\n",
      " 0.74485294        nan        nan        nan]\n",
      "  warnings.warn(\n"
     ]
    },
    {
     "name": "stdout",
     "output_type": "stream",
     "text": [
      "Fitting 10 folds for each of 10 candidates, totalling 100 fits\n"
     ]
    },
    {
     "name": "stderr",
     "output_type": "stream",
     "text": [
      "/usr/local/lib/python3.9/site-packages/sklearn/model_selection/_search.py:922: UserWarning: One or more of the test scores are non-finite: [0.73897059 0.76360294 0.63566176 0.53897059        nan        nan\n",
      "        nan 0.60661765        nan 0.73860294]\n",
      "  warnings.warn(\n"
     ]
    },
    {
     "name": "stdout",
     "output_type": "stream",
     "text": [
      "Fitting 10 folds for each of 10 candidates, totalling 100 fits\n"
     ]
    },
    {
     "name": "stderr",
     "output_type": "stream",
     "text": [
      "/usr/local/lib/python3.9/site-packages/sklearn/model_selection/_search.py:922: UserWarning: One or more of the test scores are non-finite: [       nan 0.72683824 0.70955882        nan        nan 0.58088235\n",
      "        nan 0.61176471        nan        nan]\n",
      "  warnings.warn(\n"
     ]
    },
    {
     "name": "stdout",
     "output_type": "stream",
     "text": [
      "Fitting 10 folds for each of 10 candidates, totalling 100 fits\n"
     ]
    },
    {
     "name": "stderr",
     "output_type": "stream",
     "text": [
      "/usr/local/lib/python3.9/site-packages/sklearn/model_selection/_search.py:922: UserWarning: One or more of the test scores are non-finite: [0.60441176 0.64852941 0.74558824 0.72169118 0.72683824 0.61176471\n",
      " 0.69705882        nan 0.62389706        nan]\n",
      "  warnings.warn(\n"
     ]
    },
    {
     "name": "stdout",
     "output_type": "stream",
     "text": [
      "Fitting 10 folds for each of 10 candidates, totalling 100 fits\n"
     ]
    },
    {
     "name": "stderr",
     "output_type": "stream",
     "text": [
      "/usr/local/lib/python3.9/site-packages/sklearn/model_selection/_search.py:922: UserWarning: One or more of the test scores are non-finite: [0.73933824        nan        nan 0.66727941 0.74522059 0.61066176\n",
      "        nan        nan 0.73970588        nan]\n",
      "  warnings.warn(\n"
     ]
    },
    {
     "name": "stdout",
     "output_type": "stream",
     "text": [
      "Fitting 10 folds for each of 10 candidates, totalling 100 fits\n"
     ]
    },
    {
     "name": "stderr",
     "output_type": "stream",
     "text": [
      "/usr/local/lib/python3.9/site-packages/sklearn/model_selection/_search.py:922: UserWarning: One or more of the test scores are non-finite: [       nan 0.68308824        nan        nan        nan 0.75735294\n",
      " 0.76397059 0.72095588 0.73897059        nan]\n",
      "  warnings.warn(\n"
     ]
    },
    {
     "name": "stdout",
     "output_type": "stream",
     "text": [
      "Fitting 10 folds for each of 10 candidates, totalling 100 fits\n"
     ]
    },
    {
     "name": "stderr",
     "output_type": "stream",
     "text": [
      "/usr/local/lib/python3.9/site-packages/sklearn/model_selection/_search.py:922: UserWarning: One or more of the test scores are non-finite: [0.56323529 0.64779412 0.72720588 0.76948529        nan 0.77022059\n",
      "        nan        nan 0.67242647 0.67242647]\n",
      "  warnings.warn(\n"
     ]
    },
    {
     "name": "stdout",
     "output_type": "stream",
     "text": [
      "Fitting 10 folds for each of 10 candidates, totalling 100 fits\n"
     ]
    },
    {
     "name": "stderr",
     "output_type": "stream",
     "text": [
      "/usr/local/lib/python3.9/site-packages/sklearn/model_selection/_search.py:922: UserWarning: One or more of the test scores are non-finite: [0.59338235 0.72720588 0.76360294        nan        nan        nan\n",
      "        nan 0.67830882 0.73933824 0.73897059]\n",
      "  warnings.warn(\n"
     ]
    },
    {
     "name": "stdout",
     "output_type": "stream",
     "text": [
      "Fitting 10 folds for each of 10 candidates, totalling 100 fits\n"
     ]
    },
    {
     "name": "stderr",
     "output_type": "stream",
     "text": [
      "/usr/local/lib/python3.9/site-packages/sklearn/model_selection/_search.py:922: UserWarning: One or more of the test scores are non-finite: [0.61764706        nan 0.74595588 0.72720588 0.48455882 0.67830882\n",
      " 0.64264706 0.73860294        nan 0.72058824]\n",
      "  warnings.warn(\n"
     ]
    },
    {
     "name": "stdout",
     "output_type": "stream",
     "text": [
      "Fitting 10 folds for each of 10 candidates, totalling 100 fits\n"
     ]
    },
    {
     "name": "stderr",
     "output_type": "stream",
     "text": [
      "/usr/local/lib/python3.9/site-packages/sklearn/model_selection/_search.py:922: UserWarning: One or more of the test scores are non-finite: [       nan        nan        nan 0.72683824 0.73933824 0.73897059\n",
      " 0.67279412 0.61102941 0.63602941 0.60036765]\n",
      "  warnings.warn(\n"
     ]
    },
    {
     "name": "stdout",
     "output_type": "stream",
     "text": [
      "Fitting 10 folds for each of 10 candidates, totalling 100 fits\n"
     ]
    },
    {
     "name": "stderr",
     "output_type": "stream",
     "text": [
      "/usr/local/lib/python3.9/site-packages/sklearn/model_selection/_search.py:922: UserWarning: One or more of the test scores are non-finite: [       nan 0.61176471        nan 0.62389706 0.61176471        nan\n",
      "        nan 0.27904412        nan 0.69117647]\n",
      "  warnings.warn(\n"
     ]
    },
    {
     "name": "stdout",
     "output_type": "stream",
     "text": [
      "Fitting 10 folds for each of 10 candidates, totalling 100 fits\n"
     ]
    },
    {
     "name": "stderr",
     "output_type": "stream",
     "text": [
      "/usr/local/lib/python3.9/site-packages/sklearn/model_selection/_search.py:922: UserWarning: One or more of the test scores are non-finite: [0.62352941        nan 0.75698529        nan        nan 0.71470588\n",
      " 0.66580882 0.75772059        nan 0.72132353]\n",
      "  warnings.warn(\n"
     ]
    },
    {
     "name": "stdout",
     "output_type": "stream",
     "text": [
      "Fitting 10 folds for each of 10 candidates, totalling 100 fits\n"
     ]
    },
    {
     "name": "stderr",
     "output_type": "stream",
     "text": [
      "/usr/local/lib/python3.9/site-packages/sklearn/model_selection/_search.py:922: UserWarning: One or more of the test scores are non-finite: [0.70919118 0.57463235        nan 0.58676471        nan 0.59889706\n",
      " 0.73970588 0.73345588 0.65441176 0.75147059]\n",
      "  warnings.warn(\n"
     ]
    },
    {
     "name": "stdout",
     "output_type": "stream",
     "text": [
      "Fitting 10 folds for each of 10 candidates, totalling 100 fits\n"
     ]
    },
    {
     "name": "stderr",
     "output_type": "stream",
     "text": [
      "/usr/local/lib/python3.9/site-packages/sklearn/model_selection/_search.py:922: UserWarning: One or more of the test scores are non-finite: [       nan        nan        nan        nan 0.66029412        nan\n",
      " 0.73419118 0.62867647 0.74558824        nan]\n",
      "  warnings.warn(\n"
     ]
    },
    {
     "name": "stdout",
     "output_type": "stream",
     "text": [
      "Fitting 10 folds for each of 10 candidates, totalling 100 fits\n"
     ]
    },
    {
     "name": "stderr",
     "output_type": "stream",
     "text": [
      "/usr/local/lib/python3.9/site-packages/sklearn/model_selection/_search.py:922: UserWarning: One or more of the test scores are non-finite: [       nan 0.72132353 0.73308824        nan 0.71470588 0.73308824\n",
      " 0.64191176        nan 0.65625    0.69080882]\n",
      "  warnings.warn(\n"
     ]
    },
    {
     "name": "stdout",
     "output_type": "stream",
     "text": [
      "Fitting 10 folds for each of 10 candidates, totalling 100 fits\n"
     ]
    },
    {
     "name": "stderr",
     "output_type": "stream",
     "text": [
      "/usr/local/lib/python3.9/site-packages/sklearn/model_selection/_search.py:922: UserWarning: One or more of the test scores are non-finite: [       nan        nan 0.67830882        nan 0.26029412        nan\n",
      " 0.75698529        nan 0.76948529 0.64852941]\n",
      "  warnings.warn(\n"
     ]
    },
    {
     "name": "stdout",
     "output_type": "stream",
     "text": [
      "Fitting 10 folds for each of 10 candidates, totalling 100 fits\n"
     ]
    },
    {
     "name": "stderr",
     "output_type": "stream",
     "text": [
      "/usr/local/lib/python3.9/site-packages/sklearn/model_selection/_search.py:922: UserWarning: One or more of the test scores are non-finite: [       nan 0.76323529 0.70882353        nan 0.73345588        nan\n",
      " 0.52095588        nan 0.73933824 0.62389706]\n",
      "  warnings.warn(\n"
     ]
    },
    {
     "name": "stdout",
     "output_type": "stream",
     "text": [
      "Fitting 10 folds for each of 10 candidates, totalling 100 fits\n"
     ]
    },
    {
     "name": "stderr",
     "output_type": "stream",
     "text": [
      "/usr/local/lib/python3.9/site-packages/sklearn/model_selection/_search.py:922: UserWarning: One or more of the test scores are non-finite: [0.61727941 0.73308824 0.68455882 0.70330882 0.75147059        nan\n",
      "        nan 0.72683824        nan        nan]\n",
      "  warnings.warn(\n"
     ]
    },
    {
     "name": "stdout",
     "output_type": "stream",
     "text": [
      "Fitting 10 folds for each of 10 candidates, totalling 100 fits\n"
     ]
    },
    {
     "name": "stderr",
     "output_type": "stream",
     "text": [
      "/usr/local/lib/python3.9/site-packages/sklearn/model_selection/_search.py:922: UserWarning: One or more of the test scores are non-finite: [       nan        nan        nan 0.63566176 0.67904412        nan\n",
      " 0.62977941 0.73970588 0.69117647 0.52169118]\n",
      "  warnings.warn(\n"
     ]
    },
    {
     "name": "stdout",
     "output_type": "stream",
     "text": [
      "Fitting 10 folds for each of 10 candidates, totalling 100 fits\n",
      "Fitting 10 folds for each of 10 candidates, totalling 100 fits\n"
     ]
    },
    {
     "name": "stderr",
     "output_type": "stream",
     "text": [
      "/usr/local/lib/python3.9/site-packages/sklearn/model_selection/_search.py:922: UserWarning: One or more of the test scores are non-finite: [       nan 0.69705882        nan 0.69669118        nan 0.74558824\n",
      "        nan 0.75772059        nan        nan]\n",
      "  warnings.warn(\n"
     ]
    },
    {
     "name": "stdout",
     "output_type": "stream",
     "text": [
      "Fitting 10 folds for each of 10 candidates, totalling 100 fits\n"
     ]
    },
    {
     "name": "stderr",
     "output_type": "stream",
     "text": [
      "/usr/local/lib/python3.9/site-packages/sklearn/model_selection/_search.py:922: UserWarning: One or more of the test scores are non-finite: [0.57536765 0.62977941 0.49669118 0.66691176 0.62941176 0.63529412\n",
      "        nan 0.73933824 0.59375    0.68455882]\n",
      "  warnings.warn(\n"
     ]
    },
    {
     "name": "stdout",
     "output_type": "stream",
     "text": [
      "Fitting 10 folds for each of 10 candidates, totalling 100 fits\n"
     ]
    },
    {
     "name": "stderr",
     "output_type": "stream",
     "text": [
      "/usr/local/lib/python3.9/site-packages/sklearn/model_selection/_search.py:922: UserWarning: One or more of the test scores are non-finite: [       nan        nan        nan 0.75735294 0.74595588 0.73933824\n",
      " 0.71507353 0.58713235 0.6125     0.72095588]\n",
      "  warnings.warn(\n"
     ]
    },
    {
     "name": "stdout",
     "output_type": "stream",
     "text": [
      "Fitting 10 folds for each of 10 candidates, totalling 100 fits\n"
     ]
    },
    {
     "name": "stderr",
     "output_type": "stream",
     "text": [
      "/usr/local/lib/python3.9/site-packages/sklearn/model_selection/_search.py:922: UserWarning: One or more of the test scores are non-finite: [0.67279412        nan 0.73933824        nan 0.5875     0.73345588\n",
      " 0.62389706        nan        nan 0.72058824]\n",
      "  warnings.warn(\n"
     ]
    },
    {
     "name": "stdout",
     "output_type": "stream",
     "text": [
      "Fitting 10 folds for each of 10 candidates, totalling 100 fits\n"
     ]
    },
    {
     "name": "stderr",
     "output_type": "stream",
     "text": [
      "/usr/local/lib/python3.9/site-packages/sklearn/model_selection/_search.py:922: UserWarning: One or more of the test scores are non-finite: [       nan 0.58713235 0.61176471 0.56948529 0.69044118 0.5875\n",
      " 0.68492647 0.73933824        nan 0.61176471]\n",
      "  warnings.warn(\n"
     ]
    },
    {
     "name": "stdout",
     "output_type": "stream",
     "text": [
      "Fitting 10 folds for each of 10 candidates, totalling 100 fits\n"
     ]
    },
    {
     "name": "stderr",
     "output_type": "stream",
     "text": [
      "/usr/local/lib/python3.9/site-packages/sklearn/model_selection/_search.py:922: UserWarning: One or more of the test scores are non-finite: [0.58639706        nan 0.60514706 0.72794118 0.72757353        nan\n",
      " 0.67279412 0.72132353        nan 0.61801471]\n",
      "  warnings.warn(\n"
     ]
    },
    {
     "name": "stdout",
     "output_type": "stream",
     "text": [
      "Fitting 10 folds for each of 10 candidates, totalling 100 fits\n"
     ]
    },
    {
     "name": "stderr",
     "output_type": "stream",
     "text": [
      "/usr/local/lib/python3.9/site-packages/sklearn/model_selection/_search.py:922: UserWarning: One or more of the test scores are non-finite: [       nan 0.72022059 0.75845588 0.56838235        nan        nan\n",
      " 0.72095588        nan        nan        nan]\n",
      "  warnings.warn(\n"
     ]
    },
    {
     "name": "stdout",
     "output_type": "stream",
     "text": [
      "Fitting 10 folds for each of 10 candidates, totalling 100 fits\n"
     ]
    },
    {
     "name": "stderr",
     "output_type": "stream",
     "text": [
      "/usr/local/lib/python3.9/site-packages/sklearn/model_selection/_search.py:922: UserWarning: One or more of the test scores are non-finite: [0.73897059        nan 0.63014706        nan        nan        nan\n",
      " 0.72095588 0.72132353        nan 0.36102941]\n",
      "  warnings.warn(\n"
     ]
    },
    {
     "name": "stdout",
     "output_type": "stream",
     "text": [
      "Fitting 10 folds for each of 10 candidates, totalling 100 fits\n"
     ]
    },
    {
     "name": "stderr",
     "output_type": "stream",
     "text": [
      "/usr/local/lib/python3.9/site-packages/sklearn/model_selection/_search.py:922: UserWarning: One or more of the test scores are non-finite: [0.74522059 0.63639706 0.74522059        nan        nan 0.73933824\n",
      " 0.50257353 0.76323529 0.59889706 0.73970588]\n",
      "  warnings.warn(\n"
     ]
    },
    {
     "name": "stdout",
     "output_type": "stream",
     "text": [
      "Fitting 10 folds for each of 10 candidates, totalling 100 fits\n"
     ]
    },
    {
     "name": "stderr",
     "output_type": "stream",
     "text": [
      "/usr/local/lib/python3.9/site-packages/sklearn/model_selection/_search.py:922: UserWarning: One or more of the test scores are non-finite: [       nan        nan 0.66617647 0.71507353        nan        nan\n",
      " 0.64117647        nan        nan 0.75183824]\n",
      "  warnings.warn(\n"
     ]
    },
    {
     "name": "stdout",
     "output_type": "stream",
     "text": [
      "Fitting 10 folds for each of 10 candidates, totalling 100 fits\n"
     ]
    },
    {
     "name": "stderr",
     "output_type": "stream",
     "text": [
      "/usr/local/lib/python3.9/site-packages/sklearn/model_selection/_search.py:922: UserWarning: One or more of the test scores are non-finite: [       nan        nan 0.64154412 0.69669118 0.74522059 0.70919118\n",
      "        nan 0.64191176 0.64779412 0.73235294]\n",
      "  warnings.warn(\n"
     ]
    },
    {
     "name": "stdout",
     "output_type": "stream",
     "text": [
      "Fitting 10 folds for each of 10 candidates, totalling 100 fits\n"
     ]
    },
    {
     "name": "stderr",
     "output_type": "stream",
     "text": [
      "/usr/local/lib/python3.9/site-packages/sklearn/model_selection/_search.py:922: UserWarning: One or more of the test scores are non-finite: [       nan        nan 0.73897059 0.75772059 0.57463235 0.63014706\n",
      "        nan 0.73382353 0.58125    0.73308824]\n",
      "  warnings.warn(\n"
     ]
    },
    {
     "name": "stdout",
     "output_type": "stream",
     "text": [
      "Fitting 10 folds for each of 10 candidates, totalling 100 fits\n"
     ]
    },
    {
     "name": "stderr",
     "output_type": "stream",
     "text": [
      "/usr/local/lib/python3.9/site-packages/sklearn/model_selection/_search.py:922: UserWarning: One or more of the test scores are non-finite: [0.73897059        nan 0.58161765 0.73272059        nan        nan\n",
      " 0.76360294 0.71507353 0.73933824        nan]\n",
      "  warnings.warn(\n"
     ]
    },
    {
     "name": "stdout",
     "output_type": "stream",
     "text": [
      "Fitting 10 folds for each of 10 candidates, totalling 100 fits\n"
     ]
    },
    {
     "name": "stderr",
     "output_type": "stream",
     "text": [
      "/usr/local/lib/python3.9/site-packages/sklearn/model_selection/_search.py:922: UserWarning: One or more of the test scores are non-finite: [0.71433824 0.68492647 0.65477941 0.72683824 0.73970588        nan\n",
      " 0.61176471        nan 0.65404412        nan]\n",
      "  warnings.warn(\n"
     ]
    },
    {
     "name": "stdout",
     "output_type": "stream",
     "text": [
      "Fitting 10 folds for each of 10 candidates, totalling 100 fits\n"
     ]
    },
    {
     "name": "stderr",
     "output_type": "stream",
     "text": [
      "/usr/local/lib/python3.9/site-packages/sklearn/model_selection/_search.py:922: UserWarning: One or more of the test scores are non-finite: [0.46544118 0.69669118        nan        nan 0.58786765 0.75147059\n",
      " 0.69669118 0.44705882        nan 0.76397059]\n",
      "  warnings.warn(\n"
     ]
    },
    {
     "name": "stdout",
     "output_type": "stream",
     "text": [
      "Fitting 10 folds for each of 10 candidates, totalling 100 fits\n"
     ]
    },
    {
     "name": "stderr",
     "output_type": "stream",
     "text": [
      "/usr/local/lib/python3.9/site-packages/sklearn/model_selection/_search.py:922: UserWarning: One or more of the test scores are non-finite: [0.58088235        nan 0.75147059        nan 0.73308824 0.73970588\n",
      " 0.62352941        nan        nan 0.73272059]\n",
      "  warnings.warn(\n"
     ]
    },
    {
     "name": "stdout",
     "output_type": "stream",
     "text": [
      "Fitting 10 folds for each of 10 candidates, totalling 100 fits\n"
     ]
    },
    {
     "name": "stderr",
     "output_type": "stream",
     "text": [
      "/usr/local/lib/python3.9/site-packages/sklearn/model_selection/_search.py:922: UserWarning: One or more of the test scores are non-finite: [       nan        nan 0.59375    0.58125    0.58125           nan\n",
      "        nan        nan 0.69669118        nan]\n",
      "  warnings.warn(\n"
     ]
    },
    {
     "name": "stdout",
     "output_type": "stream",
     "text": [
      "Fitting 10 folds for each of 10 candidates, totalling 100 fits\n"
     ]
    },
    {
     "name": "stderr",
     "output_type": "stream",
     "text": [
      "/usr/local/lib/python3.9/site-packages/sklearn/model_selection/_search.py:922: UserWarning: One or more of the test scores are non-finite: [       nan 0.62389706 0.64779412 0.73272059 0.76323529        nan\n",
      " 0.75147059 0.72683824 0.76911765 0.60551471]\n",
      "  warnings.warn(\n"
     ]
    },
    {
     "name": "stdout",
     "output_type": "stream",
     "text": [
      "Fitting 10 folds for each of 10 candidates, totalling 100 fits\n"
     ]
    },
    {
     "name": "stderr",
     "output_type": "stream",
     "text": [
      "/usr/local/lib/python3.9/site-packages/sklearn/model_selection/_search.py:922: UserWarning: One or more of the test scores are non-finite: [0.73308824 0.72132353        nan 0.73272059 0.69705882 0.62426471\n",
      " 0.65404412 0.71470588        nan 0.70257353]\n",
      "  warnings.warn(\n"
     ]
    },
    {
     "name": "stdout",
     "output_type": "stream",
     "text": [
      "Fitting 10 folds for each of 10 candidates, totalling 100 fits\n"
     ]
    },
    {
     "name": "stderr",
     "output_type": "stream",
     "text": [
      "/usr/local/lib/python3.9/site-packages/sklearn/model_selection/_search.py:922: UserWarning: One or more of the test scores are non-finite: [0.75698529        nan 0.70919118        nan 0.65919118        nan\n",
      " 0.67867647 0.72720588 0.65404412 0.73382353]\n",
      "  warnings.warn(\n"
     ]
    },
    {
     "name": "stdout",
     "output_type": "stream",
     "text": [
      "Fitting 10 folds for each of 10 candidates, totalling 100 fits\n"
     ]
    },
    {
     "name": "stderr",
     "output_type": "stream",
     "text": [
      "/usr/local/lib/python3.9/site-packages/sklearn/model_selection/_search.py:922: UserWarning: One or more of the test scores are non-finite: [0.58161765        nan 0.74558824 0.65992647        nan 0.63014706\n",
      "        nan 0.70882353        nan 0.73308824]\n",
      "  warnings.warn(\n"
     ]
    },
    {
     "name": "stdout",
     "output_type": "stream",
     "text": [
      "Fitting 10 folds for each of 10 candidates, totalling 100 fits\n"
     ]
    },
    {
     "name": "stderr",
     "output_type": "stream",
     "text": [
      "/usr/local/lib/python3.9/site-packages/sklearn/model_selection/_search.py:922: UserWarning: One or more of the test scores are non-finite: [0.71507353        nan        nan        nan 0.72132353 0.69044118\n",
      "        nan 0.54595588 0.76948529        nan]\n",
      "  warnings.warn(\n"
     ]
    },
    {
     "name": "stdout",
     "output_type": "stream",
     "text": [
      "Fitting 10 folds for each of 10 candidates, totalling 100 fits\n"
     ]
    },
    {
     "name": "stderr",
     "output_type": "stream",
     "text": [
      "/usr/local/lib/python3.9/site-packages/sklearn/model_selection/_search.py:922: UserWarning: One or more of the test scores are non-finite: [0.75183824 0.70220588        nan 0.61727941 0.65992647        nan\n",
      " 0.75698529 0.75735294 0.71470588 0.60551471]\n",
      "  warnings.warn(\n"
     ]
    },
    {
     "name": "stdout",
     "output_type": "stream",
     "text": [
      "Fitting 10 folds for each of 10 candidates, totalling 100 fits\n"
     ]
    },
    {
     "name": "stderr",
     "output_type": "stream",
     "text": [
      "/usr/local/lib/python3.9/site-packages/sklearn/model_selection/_search.py:922: UserWarning: One or more of the test scores are non-finite: [       nan        nan 0.73235294        nan 0.70882353        nan\n",
      " 0.44117647        nan 0.72720588        nan]\n",
      "  warnings.warn(\n"
     ]
    },
    {
     "name": "stdout",
     "output_type": "stream",
     "text": [
      "Fitting 10 folds for each of 10 candidates, totalling 100 fits\n"
     ]
    },
    {
     "name": "stderr",
     "output_type": "stream",
     "text": [
      "/usr/local/lib/python3.9/site-packages/sklearn/model_selection/_search.py:922: UserWarning: One or more of the test scores are non-finite: [       nan 0.74485294 0.67830882 0.73897059 0.75110294 0.73308824\n",
      "        nan 0.63014706        nan 0.71507353]\n",
      "  warnings.warn(\n"
     ]
    },
    {
     "name": "stdout",
     "output_type": "stream",
     "text": [
      "Fitting 10 folds for each of 10 candidates, totalling 100 fits\n"
     ]
    },
    {
     "name": "stderr",
     "output_type": "stream",
     "text": [
      "/usr/local/lib/python3.9/site-packages/sklearn/model_selection/_search.py:922: UserWarning: One or more of the test scores are non-finite: [       nan 0.58823529 0.61213235 0.65955882        nan 0.72757353\n",
      " 0.69117647 0.71470588 0.72757353        nan]\n",
      "  warnings.warn(\n"
     ]
    },
    {
     "name": "stdout",
     "output_type": "stream",
     "text": [
      "Fitting 10 folds for each of 10 candidates, totalling 100 fits\n"
     ]
    },
    {
     "name": "stderr",
     "output_type": "stream",
     "text": [
      "/usr/local/lib/python3.9/site-packages/sklearn/model_selection/_search.py:922: UserWarning: One or more of the test scores are non-finite: [       nan 0.36176471 0.73345588 0.69080882        nan 0.72095588\n",
      "        nan        nan 0.58676471        nan]\n",
      "  warnings.warn(\n"
     ]
    },
    {
     "name": "stdout",
     "output_type": "stream",
     "text": [
      "Fitting 10 folds for each of 10 candidates, totalling 100 fits\n"
     ]
    },
    {
     "name": "stderr",
     "output_type": "stream",
     "text": [
      "/usr/local/lib/python3.9/site-packages/sklearn/model_selection/_search.py:922: UserWarning: One or more of the test scores are non-finite: [0.62977941 0.73933824 0.75735294 0.60625    0.73933824 0.68419118\n",
      "        nan 0.66654412        nan        nan]\n",
      "  warnings.warn(\n"
     ]
    },
    {
     "name": "stdout",
     "output_type": "stream",
     "text": [
      "Fitting 10 folds for each of 10 candidates, totalling 100 fits\n"
     ]
    },
    {
     "name": "stderr",
     "output_type": "stream",
     "text": [
      "/usr/local/lib/python3.9/site-packages/sklearn/model_selection/_search.py:922: UserWarning: One or more of the test scores are non-finite: [       nan 0.67205882        nan 0.74522059 0.25330882 0.62389706\n",
      " 0.68566176        nan 0.61102941        nan]\n",
      "  warnings.warn(\n"
     ]
    },
    {
     "name": "stdout",
     "output_type": "stream",
     "text": [
      "Fitting 10 folds for each of 10 candidates, totalling 100 fits\n"
     ]
    },
    {
     "name": "stderr",
     "output_type": "stream",
     "text": [
      "/usr/local/lib/python3.9/site-packages/sklearn/model_selection/_search.py:922: UserWarning: One or more of the test scores are non-finite: [       nan 0.61213235        nan 0.62977941 0.58088235        nan\n",
      " 0.45919118 0.73933824 0.68419118 0.64191176]\n",
      "  warnings.warn(\n"
     ]
    },
    {
     "name": "stdout",
     "output_type": "stream",
     "text": [
      "Fitting 10 folds for each of 10 candidates, totalling 100 fits\n"
     ]
    },
    {
     "name": "stderr",
     "output_type": "stream",
     "text": [
      "/usr/local/lib/python3.9/site-packages/sklearn/model_selection/_search.py:922: UserWarning: One or more of the test scores are non-finite: [0.63566176 0.74558824        nan 0.67830882        nan 0.75772059\n",
      " 0.61139706        nan        nan 0.72647059]\n",
      "  warnings.warn(\n"
     ]
    },
    {
     "name": "stdout",
     "output_type": "stream",
     "text": [
      "Fitting 10 folds for each of 10 candidates, totalling 100 fits\n"
     ]
    },
    {
     "name": "stderr",
     "output_type": "stream",
     "text": [
      "/usr/local/lib/python3.9/site-packages/sklearn/model_selection/_search.py:922: UserWarning: One or more of the test scores are non-finite: [       nan        nan 0.75073529 0.62977941 0.72169118 0.67279412\n",
      " 0.76360294        nan 0.73897059        nan]\n",
      "  warnings.warn(\n"
     ]
    },
    {
     "name": "stdout",
     "output_type": "stream",
     "text": [
      "Fitting 10 folds for each of 10 candidates, totalling 100 fits\n"
     ]
    },
    {
     "name": "stderr",
     "output_type": "stream",
     "text": [
      "/usr/local/lib/python3.9/site-packages/sklearn/model_selection/_search.py:922: UserWarning: One or more of the test scores are non-finite: [0.48345588 0.74522059 0.74522059 0.70882353 0.67904412 0.72095588\n",
      " 0.75073529        nan 0.75735294 0.62316176]\n",
      "  warnings.warn(\n"
     ]
    },
    {
     "name": "stdout",
     "output_type": "stream",
     "text": [
      "Fitting 10 folds for each of 10 candidates, totalling 100 fits\n"
     ]
    },
    {
     "name": "stderr",
     "output_type": "stream",
     "text": [
      "/usr/local/lib/python3.9/site-packages/sklearn/model_selection/_search.py:922: UserWarning: One or more of the test scores are non-finite: [       nan        nan 0.61764706 0.71507353 0.6125     0.64742647\n",
      " 0.61838235 0.75735294 0.73897059 0.70294118]\n",
      "  warnings.warn(\n"
     ]
    },
    {
     "name": "stdout",
     "output_type": "stream",
     "text": [
      "Fitting 10 folds for each of 10 candidates, totalling 100 fits\n"
     ]
    },
    {
     "name": "stderr",
     "output_type": "stream",
     "text": [
      "/usr/local/lib/python3.9/site-packages/sklearn/model_selection/_search.py:922: UserWarning: One or more of the test scores are non-finite: [       nan        nan        nan 0.65367647 0.63566176 0.42830882\n",
      " 0.61875    0.73235294 0.76397059        nan]\n",
      "  warnings.warn(\n"
     ]
    },
    {
     "name": "stdout",
     "output_type": "stream",
     "text": [
      "Fitting 10 folds for each of 10 candidates, totalling 100 fits\n"
     ]
    },
    {
     "name": "stderr",
     "output_type": "stream",
     "text": [
      "/usr/local/lib/python3.9/site-packages/sklearn/model_selection/_search.py:922: UserWarning: One or more of the test scores are non-finite: [0.75808824 0.65441176 0.64926471        nan 0.74522059        nan\n",
      " 0.61801471 0.73308824 0.65992647        nan]\n",
      "  warnings.warn(\n"
     ]
    },
    {
     "name": "stdout",
     "output_type": "stream",
     "text": [
      "Fitting 10 folds for each of 10 candidates, totalling 100 fits\n"
     ]
    },
    {
     "name": "stderr",
     "output_type": "stream",
     "text": [
      "/usr/local/lib/python3.9/site-packages/sklearn/model_selection/_search.py:922: UserWarning: One or more of the test scores are non-finite: [       nan 0.73345588        nan 0.73345588        nan 0.72683824\n",
      " 0.75735294        nan        nan 0.73272059]\n",
      "  warnings.warn(\n"
     ]
    },
    {
     "name": "stdout",
     "output_type": "stream",
     "text": [
      "Fitting 10 folds for each of 10 candidates, totalling 100 fits\n"
     ]
    },
    {
     "name": "stderr",
     "output_type": "stream",
     "text": [
      "/usr/local/lib/python3.9/site-packages/sklearn/model_selection/_search.py:922: UserWarning: One or more of the test scores are non-finite: [       nan 0.76360294 0.62389706 0.74485294 0.72095588 0.67794118\n",
      "        nan        nan 0.6125     0.73933824]\n",
      "  warnings.warn(\n"
     ]
    },
    {
     "name": "stdout",
     "output_type": "stream",
     "text": [
      "Fitting 10 folds for each of 10 candidates, totalling 100 fits\n"
     ]
    },
    {
     "name": "stderr",
     "output_type": "stream",
     "text": [
      "/usr/local/lib/python3.9/site-packages/sklearn/model_selection/_search.py:922: UserWarning: One or more of the test scores are non-finite: [0.62316176 0.73382353 0.59963235        nan        nan 0.75698529\n",
      " 0.72169118 0.61727941 0.76360294        nan]\n",
      "  warnings.warn(\n"
     ]
    },
    {
     "name": "stdout",
     "output_type": "stream",
     "text": [
      "Fitting 10 folds for each of 10 candidates, totalling 100 fits\n"
     ]
    },
    {
     "name": "stderr",
     "output_type": "stream",
     "text": [
      "/usr/local/lib/python3.9/site-packages/sklearn/model_selection/_search.py:922: UserWarning: One or more of the test scores are non-finite: [0.64779412 0.66029412 0.70330882 0.74595588        nan 0.75808824\n",
      " 0.74522059 0.65441176 0.72683824        nan]\n",
      "  warnings.warn(\n"
     ]
    },
    {
     "name": "stdout",
     "output_type": "stream",
     "text": [
      "Fitting 10 folds for each of 10 candidates, totalling 100 fits\n"
     ]
    },
    {
     "name": "stderr",
     "output_type": "stream",
     "text": [
      "/usr/local/lib/python3.9/site-packages/sklearn/model_selection/_search.py:922: UserWarning: One or more of the test scores are non-finite: [0.72757353        nan 0.76985294        nan 0.70294118 0.76985294\n",
      " 0.72095588 0.74522059 0.74485294        nan]\n",
      "  warnings.warn(\n"
     ]
    },
    {
     "name": "stdout",
     "output_type": "stream",
     "text": [
      "Fitting 10 folds for each of 10 candidates, totalling 100 fits\n"
     ]
    },
    {
     "name": "stderr",
     "output_type": "stream",
     "text": [
      "/usr/local/lib/python3.9/site-packages/sklearn/model_selection/_search.py:922: UserWarning: One or more of the test scores are non-finite: [0.73933824 0.73897059        nan 0.61764706 0.58786765        nan\n",
      " 0.75183824 0.75147059        nan        nan]\n",
      "  warnings.warn(\n"
     ]
    },
    {
     "name": "stdout",
     "output_type": "stream",
     "text": [
      "Fitting 10 folds for each of 10 candidates, totalling 100 fits\n"
     ]
    },
    {
     "name": "stderr",
     "output_type": "stream",
     "text": [
      "/usr/local/lib/python3.9/site-packages/sklearn/model_selection/_search.py:922: UserWarning: One or more of the test scores are non-finite: [       nan        nan 0.72169118        nan        nan        nan\n",
      "        nan 0.72242647 0.72720588 0.75183824]\n",
      "  warnings.warn(\n"
     ]
    },
    {
     "name": "stdout",
     "output_type": "stream",
     "text": [
      "Fitting 10 folds for each of 10 candidates, totalling 100 fits\n"
     ]
    },
    {
     "name": "stderr",
     "output_type": "stream",
     "text": [
      "/usr/local/lib/python3.9/site-packages/sklearn/model_selection/_search.py:922: UserWarning: One or more of the test scores are non-finite: [       nan        nan        nan 0.73272059        nan        nan\n",
      "        nan        nan        nan 0.70257353]\n",
      "  warnings.warn(\n"
     ]
    },
    {
     "data": {
      "text/plain": [
       "0.6785714285714286"
      ]
     },
     "execution_count": 21,
     "metadata": {},
     "output_type": "execute_result"
    }
   ],
   "source": [
    "n_estimators= [x for x in range(10,1000,10)]\n",
    "criterion=['gini','entropy']\n",
    "\n",
    "max_depth=[y for y in range(1,1000,5)]\n",
    "max_depth.append(None)\n",
    "\n",
    "min_samples_split=[x for x in range(2,10)]\n",
    "min_samples_leaf=[x for x in range(1,10)]\n",
    "max_features=[x for x in range(0,100)]\n",
    "max_features.append('auto')\n",
    "max_features.append('sqrt')\n",
    "max_features.append('log2')\n",
    "max_leaf_nodes=[x for x in range(0,100)]\n",
    "class_weight=['balanced','balanced_subsample']\n",
    "rf_grid = { 'n_estimators' : n_estimators,\n",
    "            'criterion' : criterion,\n",
    "            'max_depth': max_depth,\n",
    "            'min_samples_split': min_samples_split,\n",
    "            'min_samples_leaf': min_samples_leaf,\n",
    "            'max_features': max_features,\n",
    "            'max_leaf_nodes': max_leaf_nodes,\n",
    "            'class_weight': class_weight \n",
    "            }\n",
    "rf_df=pd.DataFrame()\n",
    "rf_df['trial']=[]\n",
    "rf_df['accuracy'] = []\n",
    "rf_df['macro_accuracy'] = []\n",
    "rf_df['confusion_matrix']=[]\n",
    "rf_df['params']=[]\n",
    "\n",
    "trial=[]\n",
    "accuracy=[]\n",
    "macro_accuracy=[]\n",
    "confusion=[]\n",
    "params=[]\n",
    "\n",
    "rf = RandomForestClassifier(random_state=0)\n",
    "RF_model = RandomizedSearchCV(estimator = rf, param_distributions=rf_grid,cv=10,verbose=2,n_jobs=4)\n",
    "for i in range(0,200):\n",
    "    trial.append(i)\n",
    "    RF_model.fit(X_train, y_train)\n",
    "    #print(RF_model.best_params_)\n",
    "    params.append(RF_model.best_params_)\n",
    "    RF_prediction = RF_model.predict(X_test)\n",
    "    score=precision_score(y_test, RF_prediction, average='macro')\n",
    "    acc = accuracy_score(y_test, RF_prediction)\n",
    "    cm = confusion_matrix(y_test, RF_prediction) # clean, highfry, layered, lowfry, midfry, no vocals\n",
    "\n",
    "    accuracy.append(acc)\n",
    "    macro_accuracy.append(score)\n",
    "    confusion.append(cm)\n",
    "    #print(f\"Confusion Matrix:\\n {cm}\")\n",
    "    #print(f\"Accuracy score: {accuracy}\")\n",
    "    #print(f\"Macro accuracy score: {score}\")\n",
    "\n",
    "rf_df['trial']= trial\n",
    "rf_df['accuracy'] = accuracy\n",
    "rf_df['macro_accuracy'] =  macro_accuracy\n",
    "rf_df['confusion_matrix']= confusion\n",
    "rf_df['params']= params\n",
    "rf_df['macro_accuracy'].max()"
   ]
  },
  {
   "cell_type": "code",
   "execution_count": 24,
   "metadata": {},
   "outputs": [
    {
     "data": {
      "text/html": [
       "<div>\n",
       "<style scoped>\n",
       "    .dataframe tbody tr th:only-of-type {\n",
       "        vertical-align: middle;\n",
       "    }\n",
       "\n",
       "    .dataframe tbody tr th {\n",
       "        vertical-align: top;\n",
       "    }\n",
       "\n",
       "    .dataframe thead th {\n",
       "        text-align: right;\n",
       "    }\n",
       "</style>\n",
       "<table border=\"1\" class=\"dataframe\">\n",
       "  <thead>\n",
       "    <tr style=\"text-align: right;\">\n",
       "      <th></th>\n",
       "      <th>trial</th>\n",
       "      <th>accuracy</th>\n",
       "      <th>macro_accuracy</th>\n",
       "      <th>confusion_matrix</th>\n",
       "      <th>params</th>\n",
       "    </tr>\n",
       "  </thead>\n",
       "  <tbody>\n",
       "    <tr>\n",
       "      <th>1</th>\n",
       "      <td>1</td>\n",
       "      <td>0.743902</td>\n",
       "      <td>0.678571</td>\n",
       "      <td>[[1, 1, 0, 5], [0, 3, 0, 4], [0, 0, 2, 6], [0,...</td>\n",
       "      <td>{'n_estimators': 800, 'min_samples_split': 8, ...</td>\n",
       "    </tr>\n",
       "  </tbody>\n",
       "</table>\n",
       "</div>"
      ],
      "text/plain": [
       "   trial  accuracy  macro_accuracy  \\\n",
       "1      1  0.743902        0.678571   \n",
       "\n",
       "                                    confusion_matrix  \\\n",
       "1  [[1, 1, 0, 5], [0, 3, 0, 4], [0, 0, 2, 6], [0,...   \n",
       "\n",
       "                                              params  \n",
       "1  {'n_estimators': 800, 'min_samples_split': 8, ...  "
      ]
     },
     "execution_count": 24,
     "metadata": {},
     "output_type": "execute_result"
    }
   ],
   "source": [
    "rf_df[rf_df['macro_accuracy'] == 0.6785714285714286]"
   ]
  },
  {
   "cell_type": "code",
   "execution_count": 25,
   "metadata": {},
   "outputs": [
    {
     "data": {
      "text/plain": [
       "trial                                                               1\n",
       "accuracy                                                     0.743902\n",
       "macro_accuracy                                               0.678571\n",
       "confusion_matrix    [[1, 1, 0, 5], [0, 3, 0, 4], [0, 0, 2, 6], [0,...\n",
       "params              {'n_estimators': 800, 'min_samples_split': 8, ...\n",
       "Name: 1, dtype: object"
      ]
     },
     "execution_count": 25,
     "metadata": {},
     "output_type": "execute_result"
    }
   ],
   "source": [
    "rf_df.loc[1]"
   ]
  },
  {
   "cell_type": "code",
   "execution_count": 26,
   "metadata": {},
   "outputs": [
    {
     "data": {
      "text/plain": [
       "{'n_estimators': 800,\n",
       " 'min_samples_split': 8,\n",
       " 'min_samples_leaf': 2,\n",
       " 'max_leaf_nodes': 29,\n",
       " 'max_features': 45,\n",
       " 'max_depth': 796,\n",
       " 'criterion': 'entropy',\n",
       " 'class_weight': 'balanced'}"
      ]
     },
     "execution_count": 26,
     "metadata": {},
     "output_type": "execute_result"
    }
   ],
   "source": [
    "rf_df.loc[1]['params']"
   ]
  },
  {
   "cell_type": "markdown",
   "metadata": {},
   "source": [
    "Current best results:\n",
    "\n",
    "RF:  \n",
    "accuracy                                                     0.743902  \n",
    "macro_accuracy                                               0.678571  \n",
    "{'n_estimators': 800,\n",
    " 'min_samples_split': 8,\n",
    " 'min_samples_leaf': 2,\n",
    " 'max_leaf_nodes': 29,\n",
    " 'max_features': 45,\n",
    " 'max_depth': 796,\n",
    " 'criterion': 'entropy',\n",
    " 'class_weight': 'balanced'}\n"
   ]
  },
  {
   "cell_type": "markdown",
   "metadata": {},
   "source": [
    "# Optimized hyperparameters"
   ]
  },
  {
   "cell_type": "markdown",
   "metadata": {},
   "source": [
    "## Results without bpm and onset features\n",
    "\n",
    "-------------------------------------------------------------------------------\n",
    "            KNN             \n",
    "-------------------------------------------------------------------------------\n",
    "Confusion Matrix:\n",
    " [[ 4  2  0  3]\n",
    " [ 1  2  0  3]\n",
    " [ 0  0  1  2]\n",
    " [ 2  4  2 49]]\n",
    "Accuracy score: 0.7466666666666667\n",
    "Macro accuracy score: 0.5036027568922306\n",
    "-------------------------------------------------------------------------------\n",
    "            SVM             \n",
    "-------------------------------------------------------------------------------\n",
    "[[ 1  1  0  7]\n",
    " [ 0  1  0  5]\n",
    " [ 0  0  2  1]\n",
    " [ 0  0  2 55]]\n",
    "Accuracy Score:  0.7866666666666666\n",
    "Macro accuracy Score: 0.7022058823529411\n",
    "-------------------------------------------------------------------------------\n",
    "            RF              \n",
    "-------------------------------------------------------------------------------\n",
    "[[ 3  3  0  3]\n",
    " [ 0  3  0  3]\n",
    " [ 0  0  2  1]\n",
    " [ 1  2  2 52]]\n",
    "Accuracy Score:  0.8\n",
    "Macro accuracy Score: 0.6265889830508474"
   ]
  },
  {
   "cell_type": "markdown",
   "metadata": {},
   "source": [
    "## Results with bpm and onset features\n",
    "\n",
    "-------------------------------------------------------------------------------\n",
    "            KNN             \n",
    "-------------------------------------------------------------------------------\n",
    "Confusion Matrix:\n",
    " [[ 3  0  0  6]\n",
    " [ 0  3  0  8]\n",
    " [ 0  0  1  7]\n",
    " [ 4  2  1 40]]\n",
    "Accuracy score: 0.6266666666666667\n",
    "Macro accuracy score: 0.5460772833723653\n",
    "-------------------------------------------------------------------------------\n",
    "            SVM             \n",
    "-------------------------------------------------------------------------------\n",
    "[[ 1  0  0  8]\n",
    " [ 0  1  0 10]\n",
    " [ 1  0  5  2]\n",
    " [ 0  0  0 47]]\n",
    "Accuracy Score:  0.72\n",
    "Macro accuracy Score: 0.8003731343283582\n",
    "-------------------------------------------------------------------------------\n",
    "            RF              \n",
    "-------------------------------------------------------------------------------\n",
    "[[ 4  1  0  4]\n",
    " [ 0  1  0 10]\n",
    " [ 0  0  4  4]\n",
    " [ 0  1  0 46]]\n",
    "Accuracy Score:  0.7333333333333333\n",
    "Macro accuracy Score: 0.7630208333333333"
   ]
  },
  {
   "cell_type": "code",
   "execution_count": 34,
   "metadata": {},
   "outputs": [],
   "source": [
    "from sklearn.metrics import balanced_accuracy_score"
   ]
  },
  {
   "cell_type": "code",
   "execution_count": 43,
   "metadata": {},
   "outputs": [],
   "source": [
    "X = df[['mfcc1_mean', 'mfcc2_mean', 'mfcc3_mean',\n",
    "       'mfcc4_mean', 'mfcc5_mean', 'mfcc6_mean', 'mfcc7_mean', 'mfcc8_mean',\n",
    "       'mfcc9_mean', 'mfcc10_mean', 'mfcc11_mean', 'mfcc12_mean',\n",
    "       'mfcc13_mean', 'mfcc1_std', 'mfcc2_std', 'mfcc3_std', 'mfcc4_std',\n",
    "       'mfcc5_std', 'mfcc6_std', 'mfcc7_std', 'mfcc8_std', 'mfcc9_std',\n",
    "       'mfcc10_std', 'mfcc11_std', 'mfcc12_std', 'mfcc13_std',\n",
    "       'delta_mfcc1_mean', 'delta_mfcc2_mean', 'delta_mfcc3_mean',\n",
    "       'delta_mfcc4_mean', 'delta_mfcc5_mean', 'delta_mfcc6_mean',\n",
    "       'delta_mfcc7_mean', 'delta_mfcc8_mean', 'delta_mfcc9_mean',\n",
    "       'delta_mfcc10_mean', 'delta_mfcc11_mean', 'delta_mfcc12_mean',\n",
    "       'delta_mfcc13_mean', 'delta_mfcc1_std', 'delta_mfcc2_std',\n",
    "       'delta_mfcc3_std', 'delta_mfcc4_std', 'delta_mfcc5_std',\n",
    "       'delta_mfcc6_std', 'delta_mfcc7_std', 'delta_mfcc8_std',\n",
    "       'delta_mfcc9_std', 'delta_mfcc10_std', 'delta_mfcc11_std',\n",
    "       'delta_mfcc12_std', 'delta_mfcc13_std',\\\n",
    "       'centroid_mean','centroid_std','rms_mean','rms_std','zcr_mean',\n",
    "       'zcr_std','crest_mean','crest_std','flux_mean','flux_std',\n",
    "       'onsets_mean', 'onsets_std','onsets_mid_mean', 'onsets_mid_std',\n",
    "       'onsets_high_mean', 'onsets_high_std']]"
   ]
  },
  {
   "cell_type": "code",
   "execution_count": 51,
   "metadata": {},
   "outputs": [
    {
     "name": "stdout",
     "output_type": "stream",
     "text": [
      "Index(['mfcc1_std', 'delta_mfcc1_std', 'mfcc2_mean', 'mfcc9_mean',\n",
      "       'mfcc13_mean', 'mfcc8_mean', 'delta_mfcc2_std', 'mfcc11_mean',\n",
      "       'centroid_std', 'mfcc10_mean', 'rms_std', 'centroid_mean', 'mfcc13_std',\n",
      "       'mfcc2_std', 'rms_mean'],\n",
      "      dtype='object')\n",
      "15\n"
     ]
    }
   ],
   "source": [
    "#FEATURE SELECTION\n",
    "from sklearn.feature_selection import VarianceThreshold\n",
    "selector = VarianceThreshold(threshold=0.5) # Variance threshold \n",
    "sel = selector.fit(X)\n",
    "sel_index = sel.get_support()\n",
    "X_vt = X.iloc[:, sel_index]\n",
    "print(X_vt.columns)\n",
    "print(len(X_vt.columns))"
   ]
  },
  {
   "cell_type": "code",
   "execution_count": 46,
   "metadata": {},
   "outputs": [
    {
     "name": "stdout",
     "output_type": "stream",
     "text": [
      "mfcc1_std 0.19571416472480374\n",
      "flux_mean 0.18946082626843608\n",
      "delta_mfcc1_std 0.17146268280202936\n",
      "flux_std 0.1691835113249054\n",
      "mfcc2_mean 0.16391999508760668\n",
      "mfcc9_mean 0.1564266169681845\n",
      "delta_mfcc10_std 0.15125969257156835\n",
      "zcr_std 0.1498671756544192\n",
      "mfcc13_mean 0.14709893638139127\n",
      "mfcc8_mean 0.14374131132867474\n",
      "delta_mfcc2_std 0.14059785386746948\n",
      "mfcc11_mean 0.13268130431894432\n",
      "centroid_std 0.1267104351178172\n",
      "mfcc10_mean 0.12365698771666\n",
      "rms_std 0.12150884656847638\n",
      "centroid_mean 0.1196435291237734\n",
      "onsets_mid_std 0.1165737382301828\n",
      "delta_mfcc13_mean 0.11574028517528401\n",
      "mfcc13_std 0.11167288387253627\n",
      "mfcc2_std 0.11028943724045215\n",
      "delta_mfcc2_mean 0.10480984695020523\n",
      "delta_mfcc3_std 0.10225179505608484\n",
      "delta_mfcc8_std 0.09714559465137595\n",
      "rms_mean 0.09557731555876336\n",
      "delta_mfcc9_std 0.09517276092111637\n",
      "Index(['mfcc1_std', 'flux_mean', 'delta_mfcc1_std', 'flux_std', 'mfcc2_mean',\n",
      "       'mfcc9_mean', 'delta_mfcc10_std', 'zcr_std', 'mfcc13_mean',\n",
      "       'mfcc8_mean', 'delta_mfcc2_std', 'mfcc11_mean', 'centroid_std',\n",
      "       'mfcc10_mean', 'rms_std', 'centroid_mean', 'onsets_mid_std',\n",
      "       'delta_mfcc13_mean', 'mfcc13_std', 'mfcc2_std', 'delta_mfcc2_mean',\n",
      "       'delta_mfcc3_std', 'delta_mfcc8_std', 'rms_mean', 'delta_mfcc9_std'],\n",
      "      dtype='object')\n"
     ]
    }
   ],
   "source": [
    "from sklearn.feature_selection import mutual_info_classif\n",
    "threshold = 25  # the number of most relevant features\n",
    "high_score_features = []\n",
    "feature_scores = mutual_info_classif(X, y, random_state=0)\n",
    "for score, f_name in sorted(zip(feature_scores, X.columns), reverse=True)[:threshold]:\n",
    "        print(f_name, score)\n",
    "        high_score_features.append(f_name)\n",
    "X_mic = X[high_score_features]\n",
    "print(X_mic.columns)"
   ]
  },
  {
   "cell_type": "code",
   "execution_count": 47,
   "metadata": {},
   "outputs": [],
   "source": [
    "# X = df[['mfcc1_mean', 'mfcc2_mean', 'mfcc3_mean',\n",
    "#        'mfcc4_mean', 'mfcc5_mean', 'mfcc6_mean', 'mfcc7_mean', 'mfcc8_mean',\n",
    "#        'mfcc9_mean', 'mfcc10_mean', 'mfcc11_mean', 'mfcc12_mean',\n",
    "#        'mfcc13_mean', 'mfcc1_std', 'mfcc2_std', 'mfcc3_std', 'mfcc4_std',\n",
    "#        'mfcc5_std', 'mfcc6_std', 'mfcc7_std', 'mfcc8_std', 'mfcc9_std',\n",
    "#        'mfcc10_std', 'mfcc11_std', 'mfcc12_std', 'mfcc13_std',\n",
    "#        'delta_mfcc1_mean', 'delta_mfcc2_mean', 'delta_mfcc3_mean',\n",
    "#        'delta_mfcc4_mean', 'delta_mfcc5_mean', 'delta_mfcc6_mean',\n",
    "#        'delta_mfcc7_mean', 'delta_mfcc8_mean', 'delta_mfcc9_mean',\n",
    "#        'delta_mfcc10_mean', 'delta_mfcc11_mean', 'delta_mfcc12_mean',\n",
    "#        'delta_mfcc13_mean', 'delta_mfcc1_std', 'delta_mfcc2_std',\n",
    "#        'delta_mfcc3_std', 'delta_mfcc4_std', 'delta_mfcc5_std',\n",
    "#        'delta_mfcc6_std', 'delta_mfcc7_std', 'delta_mfcc8_std',\n",
    "#        'delta_mfcc9_std', 'delta_mfcc10_std', 'delta_mfcc11_std',\n",
    "#        'delta_mfcc12_std', 'delta_mfcc13_std',\n",
    "#        'centroid_mean','centroid_std','rms_mean','rms_std','zcr_mean','zcr_std','crest_mean','crest_std','flux_mean',\n",
    "#        'flux_std','onsets_mean', 'onsets_std','onsets_mid_mean', 'onsets_mid_std',\n",
    "#        'onsets_high_mean', 'onsets_high_std',\n",
    "#        'bpm']]\n",
    "# features=['mfcc1_mean', 'mfcc2_mean', 'mfcc3_mean',\n",
    "#        'mfcc4_mean', 'mfcc5_mean', 'mfcc6_mean', 'mfcc7_mean', 'mfcc8_mean',\n",
    "#        'mfcc9_mean', 'mfcc10_mean', 'mfcc11_mean', 'mfcc12_mean',\n",
    "#        'mfcc13_mean', 'mfcc1_std', 'mfcc2_std', 'mfcc3_std', 'mfcc4_std',\n",
    "#        'mfcc5_std', 'mfcc6_std', 'mfcc7_std', 'mfcc8_std', 'mfcc9_std',\n",
    "#        'mfcc10_std', 'mfcc11_std', 'mfcc12_std', 'mfcc13_std',\n",
    "#        'centroid_mean','centroid_std','rms_mean','rms_std','zcr_mean','zcr_std','crest_mean','crest_std','flux_mean',\n",
    "#        'flux_std','onsets_mean', 'onsets_std','onsets_mid_mean', 'onsets_mid_std',\n",
    "#        'onsets_high_mean', 'onsets_high_std']\n",
    "features=['mfcc1_std', 'flux_mean', 'delta_mfcc1_std', 'flux_std', 'mfcc2_mean',\n",
    "       'mfcc9_mean', 'delta_mfcc10_std', 'zcr_std', 'mfcc13_mean',\n",
    "       'mfcc8_mean', 'delta_mfcc2_std', 'mfcc11_mean', 'centroid_std',\n",
    "       'mfcc10_mean', 'rms_std', 'centroid_mean', 'onsets_mid_std',\n",
    "       'delta_mfcc13_mean', 'mfcc13_std', 'mfcc2_std', 'delta_mfcc2_mean',\n",
    "       'delta_mfcc3_std', 'delta_mfcc8_std', 'rms_mean', 'delta_mfcc9_std']\n",
    "X = df[features]\n",
    "y=df[['style']]\n",
    "\n",
    "# for col in X.columns:\n",
    "#     #df[col] = df[col]/max(np.abs(df[col]))\n",
    "#     mean = np.mean(X[col])\n",
    "#     std = np.std(X[col])\n",
    "#     X[col] = (X[col] - mean)/std # z-score normalization\n",
    "\n",
    "X_train, X_test, y_train, y_test = train_test_split(X, y, test_size=0.3)\n",
    "\n",
    "X_train = X_train.to_numpy()\n",
    "X_test = X_test.to_numpy()\n",
    "y_train = y_train.to_numpy()\n",
    "y_test = y_test.to_numpy()\n",
    "\n",
    "from sklearn.preprocessing import StandardScaler\n",
    "scaler = StandardScaler()\n",
    "X_train = scaler.fit_transform(X_train)\n",
    "X_test = scaler.transform(X_test)"
   ]
  },
  {
   "cell_type": "code",
   "execution_count": 56,
   "metadata": {},
   "outputs": [
    {
     "data": {
      "text/plain": [
       "array([[ 0.59006262, -0.67716308,  0.15610656, ...,  0.0552074 ,\n",
       "        -0.3910991 ,  0.66999838],\n",
       "       [-0.86136966, -0.13374405, -0.363345  , ...,  1.58087559,\n",
       "         0.55174046, -0.20674765],\n",
       "       [-3.59033066, -0.30908789, -3.07615758, ..., -0.9110953 ,\n",
       "         1.65132043, -1.46612824],\n",
       "       ...,\n",
       "       [ 0.6186081 ,  1.42301302,  0.97869359, ..., -0.45441067,\n",
       "         0.4260064 ,  0.36751343],\n",
       "       [ 0.96960224,  1.27258796,  1.04522605, ..., -0.52954948,\n",
       "         0.06119765,  0.09121071],\n",
       "       [-0.66535607, -0.17998648, -0.785499  , ..., -0.77394338,\n",
       "         2.20491572,  0.26442319]])"
      ]
     },
     "execution_count": 56,
     "metadata": {},
     "output_type": "execute_result"
    }
   ],
   "source": [
    "X_train"
   ]
  },
  {
   "cell_type": "code",
   "execution_count": 57,
   "metadata": {},
   "outputs": [],
   "source": [
    "np.random.seed()"
   ]
  },
  {
   "cell_type": "code",
   "execution_count": 48,
   "metadata": {},
   "outputs": [
    {
     "name": "stdout",
     "output_type": "stream",
     "text": [
      "-------------------------------------------------------------------------------\n",
      "            KNN             \n",
      "-------------------------------------------------------------------------------\n",
      "Confusion Matrix:\n",
      " [[ 3  0  0  1]\n",
      " [ 1  5  0  3]\n",
      " [ 0  0  0  7]\n",
      " [ 1  2  0 52]]\n",
      "[[0.75       0.         0.         0.01818182]\n",
      " [0.25       0.55555556 0.         0.05454545]\n",
      " [0.         0.         0.         0.12727273]\n",
      " [0.25       0.22222222 0.         0.94545455]]\n",
      "Accuracy score: 0.8\n",
      "Macro accuracy score: 0.5627525252525253\n",
      "F1 score: 0.543255649717514\n",
      "-------------------------------------------------------------------------------\n",
      "            SVM             \n",
      "-------------------------------------------------------------------------------\n",
      "[[ 3  0  0  1]\n",
      " [ 0  2  0  7]\n",
      " [ 0  0  7  0]\n",
      " [ 2  1  2 50]]\n",
      "[[0.75       0.         0.         0.01818182]\n",
      " [0.         0.22222222 0.         0.12727273]\n",
      " [0.         0.         1.         0.        ]\n",
      " [0.5        0.11111111 0.28571429 0.90909091]]\n",
      "Accuracy Score:  0.8266666666666667\n",
      "Macro accuracy Score: 0.7203282828282829\n",
      "F1 score: 0.6899889380530974\n",
      "-------------------------------------------------------------------------------\n",
      "            RF              \n",
      "-------------------------------------------------------------------------------\n",
      "[[ 4  0  0  0]\n",
      " [ 0  4  1  4]\n",
      " [ 0  0  5  2]\n",
      " [ 0  3  2 50]]\n",
      "[[1.         0.         0.         0.        ]\n",
      " [0.         0.44444444 0.14285714 0.07272727]\n",
      " [0.         0.         0.71428571 0.03636364]\n",
      " [0.         0.33333333 0.28571429 0.90909091]]\n",
      "Accuracy Score:  0.84\n",
      "Macro accuracy Score: 0.766955266955267\n",
      "F1 score: 0.7668918918918919\n"
     ]
    }
   ],
   "source": [
    "svm_params = {'kernel': 'poly',\n",
    " 'gamma': 'scale',\n",
    " 'degree': 3,\n",
    " 'decision_function_shape': 'ovr',\n",
    " 'coef0': 0.7000000000000001,\n",
    " 'C': 1.053475672085955,\n",
    " 'random_state':0}\n",
    "\n",
    "\n",
    "rf_params = {'n_estimators': 800,\n",
    " 'min_samples_split': 8,\n",
    " 'min_samples_leaf': 2,\n",
    " 'max_leaf_nodes': 29,\n",
    " 'max_features': 45,\n",
    " 'max_depth': 796,\n",
    " 'criterion': 'entropy',\n",
    " 'class_weight': 'balanced'}\n",
    "\n",
    "print(\"-------------------------------------------------------------------------------\")\n",
    "print(\"            KNN             \")\n",
    "print(\"-------------------------------------------------------------------------------\")\n",
    "#k= [int(x) for x in range(4,10)]\n",
    "#knn_grid = {'n_neighbors':k}\n",
    "\n",
    "\n",
    "KNN_model = KNeighborsClassifier(n_neighbors=7)\n",
    "#KNN_model=RandomizedSearchCV(estimator = knn, param_distributions=knn_grid,cv=10,verbose=2,n_jobs=4)\n",
    "KNN_model.fit(X_train, y_train)\n",
    "#print(KNN_model.best_params_)\n",
    "KNN_prediction = KNN_model.predict(X_test)\n",
    "score=balanced_accuracy_score(y_test, KNN_prediction)\n",
    "accuracy = accuracy_score(y_test, KNN_prediction)\n",
    "f1=f1_score(y_test,KNN_prediction,average='macro')\n",
    "cm = confusion_matrix(y_test, KNN_prediction) # clean, highfry, layered, lowfry, midfry, no vocals\n",
    "print(f\"Confusion Matrix:\\n {cm}\")\n",
    "print(cm/cm.sum(axis=1))\n",
    "print(f\"Accuracy score: {accuracy}\")\n",
    "print(f\"Macro accuracy score: {score}\")\n",
    "print(f\"F1 score: {f1}\")\n",
    "\n",
    "print(\"-------------------------------------------------------------------------------\")\n",
    "print(\"            SVM             \")\n",
    "print(\"-------------------------------------------------------------------------------\")\n",
    "SVM_model = make_pipeline(StandardScaler(), SVC(kernel='poly',gamma='scale',degree=3,decision_function_shape='ovr',coef0=0.7000000000000001,C=1.053475672085955,random_state=0))\n",
    "SVM_model.fit(X_train, y_train)\n",
    "SVM_prediction = SVM_model.predict(X_test)\n",
    "score=balanced_accuracy_score(y_test, SVM_prediction)\n",
    "cm = confusion_matrix(y_test, SVM_prediction) # clean, highfry, layered, lowfry, midfry, no vocals\n",
    "f1=f1_score(y_test,SVM_prediction,average='macro')\n",
    "acc = accuracy_score(y_test, SVM_prediction)\n",
    "print(cm)\n",
    "print(cm/cm.sum(axis=1))\n",
    "print(\"Accuracy Score: \",acc)\n",
    "print(\"Macro accuracy Score:\",score)\n",
    "print(f\"F1 score: {f1}\")\n",
    "\n",
    "print(\"-------------------------------------------------------------------------------\")\n",
    "print(\"            RF              \")\n",
    "print(\"-------------------------------------------------------------------------------\")\n",
    "\n",
    "RF_model = RandomForestClassifier(n_estimators=800,min_samples_split = 8, min_samples_leaf = 2,max_leaf_nodes = 29, max_depth = 796, criterion = 'entropy',class_weight='balanced',random_state=0)\n",
    "RF_model.fit(X_train, y_train)\n",
    "RF_prediction = RF_model.predict(X_test)\n",
    "score=balanced_accuracy_score(y_test, RF_prediction)\n",
    "cm = confusion_matrix(y_test, RF_prediction) # clean, highfry, layered, lowfry, midfry, no vocals\n",
    "f1=f1_score(y_test,RF_prediction,average='macro')\n",
    "acc = accuracy_score(y_test, RF_prediction)\n",
    "print(cm)\n",
    "print(cm/cm.sum(axis=1))\n",
    "print(\"Accuracy Score: \",acc)\n",
    "print(\"Macro accuracy Score:\",score)\n",
    "print(f\"F1 score: {f1}\")"
   ]
  },
  {
   "cell_type": "code",
   "execution_count": 54,
   "metadata": {},
   "outputs": [
    {
     "name": "stdout",
     "output_type": "stream",
     "text": [
      "Accuracy: 0.72 (+/- 0.1691)\n"
     ]
    }
   ],
   "source": [
    "cv_acc=[]\n",
    "cv_std=[]\n",
    "\n",
    "scores = cross_validate(RF_model, X_train, y_train, cv=10)\n",
    "cv_acc.append(scores['test_score'].mean())\n",
    "cv_std.append(scores['test_score'].std())\n",
    "print(\"Accuracy: %0.2f (+/- %0.4f)\" % (scores['test_score'].mean(), scores['test_score'].std() * 2))"
   ]
  },
  {
   "cell_type": "code",
   "execution_count": 53,
   "metadata": {},
   "outputs": [
    {
     "data": {
      "text/plain": [
       "array(['funk', 'hiphop', 'jazz', 'rock'], dtype=object)"
      ]
     },
     "execution_count": 53,
     "metadata": {},
     "output_type": "execute_result"
    }
   ],
   "source": [
    "RF_model.classes_"
   ]
  },
  {
   "cell_type": "code",
   "execution_count": 36,
   "metadata": {},
   "outputs": [
    {
     "data": {
      "text/plain": [
       "array([ 9,  9,  4, 53])"
      ]
     },
     "execution_count": 36,
     "metadata": {},
     "output_type": "execute_result"
    }
   ],
   "source": [
    "cm.sum(axis=1)"
   ]
  },
  {
   "cell_type": "code",
   "execution_count": 17,
   "metadata": {},
   "outputs": [
    {
     "data": {
      "text/plain": [
       "array([[0.75      , 0.        , 0.        , 0.04255319],\n",
       "       [0.125     , 0.22222222, 0.        , 0.12765957],\n",
       "       [0.        , 0.        , 0.09090909, 0.21276596],\n",
       "       [0.        , 0.        , 0.        , 1.        ]])"
      ]
     },
     "execution_count": 17,
     "metadata": {},
     "output_type": "execute_result"
    }
   ],
   "source": [
    "cm/cm.sum(axis=1)"
   ]
  },
  {
   "cell_type": "markdown",
   "metadata": {},
   "source": [
    "# Old Unused code:"
   ]
  },
  {
   "cell_type": "code",
   "execution_count": 44,
   "metadata": {},
   "outputs": [],
   "source": [
    "# def freq_to_mel(freq):\n",
    "#     return 2595.0 * np.log10(1.0 + freq / 700.0)\n",
    "\n",
    "# def mel_to_freq(mels):\n",
    "#     return 700.0 * (10.0**(mels / 2595.0) - 1.0)\n",
    "\n",
    "# def get_filter_points(fmin, fmax, mel_filter_num, FFT_size, fs=44100):\n",
    "#     fmin_mel = freq_to_mel(fmin)\n",
    "#     fmax_mel = freq_to_mel(fmax)\n",
    "#     mels = np.linspace(fmin_mel, fmax_mel, num=mel_filter_num+2)\n",
    "#     freqs = mel_to_freq(mels)\n",
    "    \n",
    "#     return np.floor((FFT_size + 1) / fs * freqs).astype(int), freqs\n",
    "\n",
    "# def get_filters(filter_points, FFT_size):\n",
    "#     filters = np.zeros((len(filter_points)-2,int(FFT_size/2+1)))\n",
    "    \n",
    "#     for n in range(len(filter_points)-2):\n",
    "#         filters[n, filter_points[n] : filter_points[n + 1]] = np.linspace(0, 1, filter_points[n + 1] - filter_points[n])\n",
    "#         filters[n, filter_points[n + 1] : filter_points[n + 2]] = np.linspace(1, 0, filter_points[n + 2] - filter_points[n + 1])\n",
    "    \n",
    "#     return filters\n",
    "    \n",
    "# def dct(dct_filter_num, filter_len):\n",
    "#     basis = np.empty((dct_filter_num,filter_len))\n",
    "#     basis[0, :] = 1.0 / np.sqrt(filter_len)\n",
    "    \n",
    "#     samples = np.arange(1, 2 * filter_len, 2) * np.pi / (2.0 * filter_len)\n",
    "\n",
    "#     for i in range(1, dct_filter_num):\n",
    "#         basis[i, :] = np.cos(i * samples) * np.sqrt(2.0 / filter_len)\n",
    "        \n",
    "#     return basis"
   ]
  },
  {
   "cell_type": "code",
   "execution_count": 75,
   "metadata": {},
   "outputs": [
    {
     "name": "stderr",
     "output_type": "stream",
     "text": [
      "<ipython-input-75-42337085eaf8>:26: RuntimeWarning: divide by zero encountered in log10\n",
      "  audio_log = 10.0 * np.log10(audio_filtered)\n"
     ]
    }
   ],
   "source": [
    "# n_mfccs=13\n",
    "\n",
    "# freq_min = 0\n",
    "# freq_high = fs / 2\n",
    "# fft_size=xb[0].shape[0]\n",
    "# dct_filter_num = 40\n",
    "# dct_filters = dct(dct_filter_num, n_mfccs)\n",
    "# window = get_window(\"hann\",fft_size , fftbins=True)\n",
    "\n",
    "# audio_winT = np.transpose(xb*window)\n",
    "\n",
    "# audio_fft = np.empty((int(1 + fft_size // 2), audio_winT.shape[1]), dtype=np.complex64, order='F')\n",
    "\n",
    "# for n in range(audio_fft.shape[1]):\n",
    "#     audio_fft[:, n] = fft.fft(audio_winT[:, n], axis=0)[:audio_fft.shape[0]]\n",
    "\n",
    "# audio_fft = np.transpose(audio_fft)\n",
    "# audio_power = np.square(np.abs(audio_fft))\n",
    "# filter_points, mel_freqs = get_filter_points(freq_min, freq_high, n_mfccs, fft_size, fs)\n",
    "# filters = get_filters(filter_points, fft_size)\n",
    "\n",
    "# enorm = 2.0 / (mel_freqs[2:n_mfccs+2] - mel_freqs[:n_mfccs])\n",
    "# filters *= enorm[:, np.newaxis]\n",
    "\n",
    "# audio_filtered = np.dot(filters, np.transpose(audio_power))\n",
    "# audio_log = 10.0 * np.log10(audio_filtered)\n",
    "\n",
    "# dct_filters = dct(dct_filter_num, n_mfccs)\n",
    "\n",
    "# cepstral_coefficents = scipy.fftpack.dct(audio_log)#np.dot(dct_filters, audio_log)\n"
   ]
  },
  {
   "cell_type": "code",
   "execution_count": 66,
   "metadata": {},
   "outputs": [],
   "source": [
    "# def calc_mfccs(xb,fs=44100,n_mfccs=13):\n",
    "#     freq_min = 0\n",
    "#     freq_high = fs / 2\n",
    "#     fft_size=xb[0].shape[0]\n",
    "#     dct_filter_num = 40\n",
    "#     dct_filters = dct(dct_filter_num, n_mfccs)\n",
    "#     window = get_window(\"hann\",fft_size , fftbins=True)\n",
    "#     mfccs=[]\n",
    "#     for block in xb:\n",
    "#         # Apply Window to the block\n",
    "#         windowed_block = window * block\n",
    "#         stft_blk = np.fft.fft(windowed_block)[:windowed_block.shape[0]]\n",
    "#         #stft_blk = np.fft.rfft(windowed_block)\n",
    "#         stft_blk = np.square(np.abs(stft_blk)) #POWER SPECTRUM NOT MAGNITUDE\n",
    "#         #stft_block = stft_blk[int((stft_blk.shape[0])/2):]\n",
    "#         filter_points, mel_freqs = get_filter_points(freq_min, freq_high, n_mfccs, fft_size, fs)\n",
    "#         filters = get_filters(filter_points, fft_size)\n",
    "#         enorm = 2.0 / (mel_freqs[2:n_mfccs+2] - mel_freqs[:n_mfccs])\n",
    "#         filters *= enorm[:, np.newaxis]\n",
    "#         audio_filtered = np.dot(filters, np.transpose(stft_blk))\n",
    "#         audio_log = 10.0 * np.log10(audio_filtered)\n",
    "#         cepstral_coefficents = np.dot(dct_filters, audio_log)\n",
    "#         mfccs.append(cepstral_coefficents)\n",
    "#     return mfccs"
   ]
  },
  {
   "cell_type": "code",
   "execution_count": 69,
   "metadata": {},
   "outputs": [
    {
     "ename": "ValueError",
     "evalue": "shapes (13,1025) and (2048,5294) not aligned: 1025 (dim 1) != 2048 (dim 0)",
     "output_type": "error",
     "traceback": [
      "\u001b[0;31m---------------------------------------------------------------------------\u001b[0m",
      "\u001b[0;31mValueError\u001b[0m                                Traceback (most recent call last)",
      "\u001b[0;32m<ipython-input-69-1d6983c00e46>\u001b[0m in \u001b[0;36m<module>\u001b[0;34m\u001b[0m\n\u001b[1;32m      9\u001b[0m \u001b[0menorm\u001b[0m \u001b[0;34m=\u001b[0m \u001b[0;36m2.0\u001b[0m \u001b[0;34m/\u001b[0m \u001b[0;34m(\u001b[0m\u001b[0mmel_freqs\u001b[0m\u001b[0;34m[\u001b[0m\u001b[0;36m2\u001b[0m\u001b[0;34m:\u001b[0m\u001b[0mn_mfccs\u001b[0m\u001b[0;34m+\u001b[0m\u001b[0;36m2\u001b[0m\u001b[0;34m]\u001b[0m \u001b[0;34m-\u001b[0m \u001b[0mmel_freqs\u001b[0m\u001b[0;34m[\u001b[0m\u001b[0;34m:\u001b[0m\u001b[0mn_mfccs\u001b[0m\u001b[0;34m]\u001b[0m\u001b[0;34m)\u001b[0m\u001b[0;34m\u001b[0m\u001b[0;34m\u001b[0m\u001b[0m\n\u001b[1;32m     10\u001b[0m \u001b[0mfilters\u001b[0m \u001b[0;34m*=\u001b[0m \u001b[0menorm\u001b[0m\u001b[0;34m[\u001b[0m\u001b[0;34m:\u001b[0m\u001b[0;34m,\u001b[0m \u001b[0mnp\u001b[0m\u001b[0;34m.\u001b[0m\u001b[0mnewaxis\u001b[0m\u001b[0;34m]\u001b[0m\u001b[0;34m\u001b[0m\u001b[0;34m\u001b[0m\u001b[0m\n\u001b[0;32m---> 11\u001b[0;31m \u001b[0maudio_filtered\u001b[0m \u001b[0;34m=\u001b[0m \u001b[0mnp\u001b[0m\u001b[0;34m.\u001b[0m\u001b[0mdot\u001b[0m\u001b[0;34m(\u001b[0m\u001b[0mfilters\u001b[0m\u001b[0;34m,\u001b[0m \u001b[0mnp\u001b[0m\u001b[0;34m.\u001b[0m\u001b[0mtranspose\u001b[0m\u001b[0;34m(\u001b[0m\u001b[0mstft_blk\u001b[0m\u001b[0;34m)\u001b[0m\u001b[0;34m)\u001b[0m\u001b[0;34m\u001b[0m\u001b[0;34m\u001b[0m\u001b[0m\n\u001b[0m\u001b[1;32m     12\u001b[0m \u001b[0maudio_log\u001b[0m \u001b[0;34m=\u001b[0m \u001b[0;36m10.0\u001b[0m \u001b[0;34m*\u001b[0m \u001b[0mnp\u001b[0m\u001b[0;34m.\u001b[0m\u001b[0mlog10\u001b[0m\u001b[0;34m(\u001b[0m\u001b[0maudio_filtered\u001b[0m\u001b[0;34m)\u001b[0m\u001b[0;34m\u001b[0m\u001b[0;34m\u001b[0m\u001b[0m\n\u001b[1;32m     13\u001b[0m \u001b[0mcepstral_coefficents\u001b[0m \u001b[0;34m=\u001b[0m \u001b[0mnp\u001b[0m\u001b[0;34m.\u001b[0m\u001b[0mdot\u001b[0m\u001b[0;34m(\u001b[0m\u001b[0mdct_filters\u001b[0m\u001b[0;34m,\u001b[0m \u001b[0maudio_log\u001b[0m\u001b[0;34m)\u001b[0m\u001b[0;34m\u001b[0m\u001b[0;34m\u001b[0m\u001b[0m\n",
      "\u001b[0;32m<__array_function__ internals>\u001b[0m in \u001b[0;36mdot\u001b[0;34m(*args, **kwargs)\u001b[0m\n",
      "\u001b[0;31mValueError\u001b[0m: shapes (13,1025) and (2048,5294) not aligned: 1025 (dim 1) != 2048 (dim 0)"
     ]
    }
   ],
   "source": [
    "window = get_window(\"hann\",fft_size , fftbins=True)\n",
    "windowed_block = window * block\n",
    "stft_blk = np.fft.fft(windowed_block)\n",
    "#stft_blk = np.fft.rfft(windowed_block)\n",
    "stft_blk = np.square(np.abs(stft_blk)) #POWER SPECTRUM NOT MAGNITUDE\n",
    "#stft_block = stft_blk[int((stft_blk.shape[0])/2):]\n",
    "filter_points, mel_freqs = get_filter_points(freq_min, freq_high, n_mfccs, fft_size, fs)\n",
    "filters = get_filters(filter_points, fft_size)\n",
    "enorm = 2.0 / (mel_freqs[2:n_mfccs+2] - mel_freqs[:n_mfccs])\n",
    "filters *= enorm[:, np.newaxis]\n",
    "audio_filtered = np.dot(filters, np.transpose(stft_blk))\n",
    "audio_log = 10.0 * np.log10(audio_filtered)\n",
    "cepstral_coefficents = np.dot(dct_filters, audio_log)"
   ]
  },
  {
   "cell_type": "code",
   "execution_count": 47,
   "metadata": {},
   "outputs": [
    {
     "ename": "ValueError",
     "evalue": "shapes (13,1025) and (2048,) not aligned: 1025 (dim 1) != 2048 (dim 0)",
     "output_type": "error",
     "traceback": [
      "\u001b[0;31m---------------------------------------------------------------------------\u001b[0m",
      "\u001b[0;31mValueError\u001b[0m                                Traceback (most recent call last)",
      "\u001b[0;32m<ipython-input-47-35f7825e4552>\u001b[0m in \u001b[0;36m<module>\u001b[0;34m\u001b[0m\n\u001b[1;32m      1\u001b[0m \u001b[0mxb\u001b[0m\u001b[0;34m,\u001b[0m\u001b[0mt\u001b[0m \u001b[0;34m=\u001b[0m \u001b[0mblock_audio\u001b[0m\u001b[0;34m(\u001b[0m\u001b[0maudio\u001b[0m\u001b[0;34m,\u001b[0m\u001b[0;36m2048\u001b[0m\u001b[0;34m,\u001b[0m\u001b[0;36m1024\u001b[0m\u001b[0;34m,\u001b[0m\u001b[0mfs\u001b[0m\u001b[0;34m)\u001b[0m\u001b[0;34m\u001b[0m\u001b[0;34m\u001b[0m\u001b[0m\n\u001b[0;32m----> 2\u001b[0;31m \u001b[0mcalc_mfccs\u001b[0m\u001b[0;34m(\u001b[0m\u001b[0mxb\u001b[0m\u001b[0;34m,\u001b[0m\u001b[0;36m44100\u001b[0m\u001b[0;34m,\u001b[0m\u001b[0;36m13\u001b[0m\u001b[0;34m)\u001b[0m\u001b[0;34m\u001b[0m\u001b[0;34m\u001b[0m\u001b[0m\n\u001b[0m",
      "\u001b[0;32m<ipython-input-46-2d79a9c3a52c>\u001b[0m in \u001b[0;36mcalc_mfccs\u001b[0;34m(xb, fs, n_mfccs)\u001b[0m\n\u001b[1;32m     18\u001b[0m         \u001b[0menorm\u001b[0m \u001b[0;34m=\u001b[0m \u001b[0;36m2.0\u001b[0m \u001b[0;34m/\u001b[0m \u001b[0;34m(\u001b[0m\u001b[0mmel_freqs\u001b[0m\u001b[0;34m[\u001b[0m\u001b[0;36m2\u001b[0m\u001b[0;34m:\u001b[0m\u001b[0mn_mfccs\u001b[0m\u001b[0;34m+\u001b[0m\u001b[0;36m2\u001b[0m\u001b[0;34m]\u001b[0m \u001b[0;34m-\u001b[0m \u001b[0mmel_freqs\u001b[0m\u001b[0;34m[\u001b[0m\u001b[0;34m:\u001b[0m\u001b[0mn_mfccs\u001b[0m\u001b[0;34m]\u001b[0m\u001b[0;34m)\u001b[0m\u001b[0;34m\u001b[0m\u001b[0;34m\u001b[0m\u001b[0m\n\u001b[1;32m     19\u001b[0m         \u001b[0mfilters\u001b[0m \u001b[0;34m*=\u001b[0m \u001b[0menorm\u001b[0m\u001b[0;34m[\u001b[0m\u001b[0;34m:\u001b[0m\u001b[0;34m,\u001b[0m \u001b[0mnp\u001b[0m\u001b[0;34m.\u001b[0m\u001b[0mnewaxis\u001b[0m\u001b[0;34m]\u001b[0m\u001b[0;34m\u001b[0m\u001b[0;34m\u001b[0m\u001b[0m\n\u001b[0;32m---> 20\u001b[0;31m         \u001b[0maudio_filtered\u001b[0m \u001b[0;34m=\u001b[0m \u001b[0mnp\u001b[0m\u001b[0;34m.\u001b[0m\u001b[0mdot\u001b[0m\u001b[0;34m(\u001b[0m\u001b[0mfilters\u001b[0m\u001b[0;34m,\u001b[0m \u001b[0mnp\u001b[0m\u001b[0;34m.\u001b[0m\u001b[0mtranspose\u001b[0m\u001b[0;34m(\u001b[0m\u001b[0mstft_blk\u001b[0m\u001b[0;34m)\u001b[0m\u001b[0;34m)\u001b[0m\u001b[0;34m\u001b[0m\u001b[0;34m\u001b[0m\u001b[0m\n\u001b[0m\u001b[1;32m     21\u001b[0m         \u001b[0maudio_log\u001b[0m \u001b[0;34m=\u001b[0m \u001b[0;36m10.0\u001b[0m \u001b[0;34m*\u001b[0m \u001b[0mnp\u001b[0m\u001b[0;34m.\u001b[0m\u001b[0mlog10\u001b[0m\u001b[0;34m(\u001b[0m\u001b[0maudio_filtered\u001b[0m\u001b[0;34m)\u001b[0m\u001b[0;34m\u001b[0m\u001b[0;34m\u001b[0m\u001b[0m\n\u001b[1;32m     22\u001b[0m         \u001b[0mcepstral_coefficents\u001b[0m \u001b[0;34m=\u001b[0m \u001b[0mnp\u001b[0m\u001b[0;34m.\u001b[0m\u001b[0mdot\u001b[0m\u001b[0;34m(\u001b[0m\u001b[0mdct_filters\u001b[0m\u001b[0;34m,\u001b[0m \u001b[0maudio_log\u001b[0m\u001b[0;34m)\u001b[0m\u001b[0;34m\u001b[0m\u001b[0;34m\u001b[0m\u001b[0m\n",
      "\u001b[0;32m<__array_function__ internals>\u001b[0m in \u001b[0;36mdot\u001b[0;34m(*args, **kwargs)\u001b[0m\n",
      "\u001b[0;31mValueError\u001b[0m: shapes (13,1025) and (2048,) not aligned: 1025 (dim 1) != 2048 (dim 0)"
     ]
    }
   ],
   "source": [
    "\n",
    "calc_mfccs(xb,44100,13)\n"
   ]
  },
  {
   "cell_type": "code",
   "execution_count": null,
   "metadata": {},
   "outputs": [],
   "source": [
    "def agg_mfccs(x):\n",
    "    mfccs = librosa.feature.mfcc(x,n_mfcc = 13)\n",
    "    mean = [np.mean(feature) for feature in mfccs]\n",
    "    std = [np.std(feature) for feature in mfccs]\n",
    "    mfcc_delta = librosa.feature.delta(mfccs)\n",
    "    delta_mean=[np.mean(feature) for feature in mfcc_delta]\n",
    "    delta_std=[np.std(feature) for feature in mfcc_delta]\n",
    "    return mean,std,delta_mean,delta_std"
   ]
  },
  {
   "cell_type": "markdown",
   "metadata": {},
   "source": [
    "# Feature Selection"
   ]
  },
  {
   "cell_type": "markdown",
   "metadata": {},
   "source": [
    "## Variance Threshold Feature selection"
   ]
  },
  {
   "cell_type": "code",
   "execution_count": 68,
   "metadata": {},
   "outputs": [
    {
     "name": "stdout",
     "output_type": "stream",
     "text": [
      "Index(['mfcc1_mean', 'mfcc2_mean', 'mfcc3_mean', 'mfcc4_mean', 'mfcc5_mean',\n",
      "       'mfcc6_mean', 'mfcc7_mean', 'mfcc8_mean', 'mfcc9_mean', 'mfcc10_mean',\n",
      "       'mfcc11_mean', 'mfcc12_mean', 'mfcc13_mean', 'mfcc1_std', 'mfcc2_std',\n",
      "       'mfcc3_std', 'mfcc4_std', 'mfcc5_std', 'mfcc6_std', 'mfcc7_std',\n",
      "       'mfcc8_std', 'mfcc9_std', 'mfcc10_std', 'mfcc11_std', 'mfcc12_std',\n",
      "       'mfcc13_std', 'delta_mfcc1_std', 'delta_mfcc2_std', 'centroid_mean',\n",
      "       'centroid_std', 'rms_mean', 'rms_std'],\n",
      "      dtype='object')\n",
      "32\n"
     ]
    }
   ],
   "source": [
    "names=['drummer', 'session', 'id', 'style', 'bpm', 'beat_type',\n",
    "       'time_signature', 'midi_filename', 'audio_filename', 'duration',\n",
    "       'split', 'audio', 'mfcc_mean', 'mfcc_std', 'delta_mfcc_mean',\n",
    "       'delta_mfcc_std', 'centroid_mean', 'centroid_std', 'rms_mean',\n",
    "       'rms_std', 'zcr_mean', 'zcr_std', 'crest_mean', 'crest_std',\n",
    "       'flux_mean', 'flux_std', 'mfcc1_mean', 'mfcc2_mean', 'mfcc3_mean',\n",
    "       'mfcc4_mean', 'mfcc5_mean', 'mfcc6_mean', 'mfcc7_mean', 'mfcc8_mean',\n",
    "       'mfcc9_mean', 'mfcc10_mean', 'mfcc11_mean', 'mfcc12_mean',\n",
    "       'mfcc13_mean', 'mfcc1_std', 'mfcc2_std', 'mfcc3_std', 'mfcc4_std',\n",
    "       'mfcc5_std', 'mfcc6_std', 'mfcc7_std', 'mfcc8_std', 'mfcc9_std',\n",
    "       'mfcc10_std', 'mfcc11_std', 'mfcc12_std', 'mfcc13_std',\n",
    "       'delta_mfcc1_mean', 'delta_mfcc2_mean', 'delta_mfcc3_mean',\n",
    "       'delta_mfcc4_mean', 'delta_mfcc5_mean', 'delta_mfcc6_mean',\n",
    "       'delta_mfcc7_mean', 'delta_mfcc8_mean', 'delta_mfcc9_mean',\n",
    "       'delta_mfcc10_mean', 'delta_mfcc11_mean', 'delta_mfcc12_mean',\n",
    "       'delta_mfcc13_mean', 'delta_mfcc1_std', 'delta_mfcc2_std',\n",
    "       'delta_mfcc3_std', 'delta_mfcc4_std', 'delta_mfcc5_std',\n",
    "       'delta_mfcc6_std', 'delta_mfcc7_std', 'delta_mfcc8_std',\n",
    "       'delta_mfcc9_std', 'delta_mfcc10_std', 'delta_mfcc11_std',\n",
    "       'delta_mfcc12_std', 'delta_mfcc13_std']\n",
    "df=pd.DataFrame(np.load('./resources/working_data/data.npy',allow_pickle=True),columns=names)\n",
    "X = df[['mfcc1_mean', 'mfcc2_mean', 'mfcc3_mean',\n",
    "       'mfcc4_mean', 'mfcc5_mean', 'mfcc6_mean', 'mfcc7_mean', 'mfcc8_mean',\n",
    "       'mfcc9_mean', 'mfcc10_mean', 'mfcc11_mean', 'mfcc12_mean',\n",
    "       'mfcc13_mean', 'mfcc1_std', 'mfcc2_std', 'mfcc3_std', 'mfcc4_std',\n",
    "       'mfcc5_std', 'mfcc6_std', 'mfcc7_std', 'mfcc8_std', 'mfcc9_std',\n",
    "       'mfcc10_std', 'mfcc11_std', 'mfcc12_std', 'mfcc13_std',\n",
    "       'delta_mfcc1_mean', 'delta_mfcc2_mean', 'delta_mfcc3_mean',\n",
    "       'delta_mfcc4_mean', 'delta_mfcc5_mean', 'delta_mfcc6_mean',\n",
    "       'delta_mfcc7_mean', 'delta_mfcc8_mean', 'delta_mfcc9_mean',\n",
    "       'delta_mfcc10_mean', 'delta_mfcc11_mean', 'delta_mfcc12_mean',\n",
    "       'delta_mfcc13_mean', 'delta_mfcc1_std', 'delta_mfcc2_std',\n",
    "       'delta_mfcc3_std', 'delta_mfcc4_std', 'delta_mfcc5_std',\n",
    "       'delta_mfcc6_std', 'delta_mfcc7_std', 'delta_mfcc8_std',\n",
    "       'delta_mfcc9_std', 'delta_mfcc10_std', 'delta_mfcc11_std',\n",
    "       'delta_mfcc12_std', 'delta_mfcc13_std',\\\n",
    "       'centroid_mean','centroid_std','rms_mean','rms_std','zcr_mean','zcr_std','crest_mean','crest_std','flux_mean','flux_std']]\n",
    "\n",
    "# To be done before normalizing\n",
    "from sklearn.feature_selection import VarianceThreshold\n",
    "selector = VarianceThreshold(threshold=0.5) # Variance threshold \n",
    "sel = selector.fit(X)\n",
    "sel_index = sel.get_support()\n",
    "X_vt = X.iloc[:, sel_index]\n",
    "print(X_vt.columns)\n",
    "print(len(X_vt.columns))"
   ]
  },
  {
   "cell_type": "markdown",
   "metadata": {},
   "source": [
    "## Mutual Information Feature Selection"
   ]
  },
  {
   "cell_type": "code",
   "execution_count": 64,
   "metadata": {},
   "outputs": [
    {
     "name": "stdout",
     "output_type": "stream",
     "text": [
      "mfcc1_std 0.19571416472480374\n",
      "flux_mean 0.18946082626843608\n",
      "delta_mfcc1_std 0.17146268280202936\n",
      "flux_std 0.1691835113249054\n",
      "mfcc2_mean 0.16391999508760668\n",
      "mfcc9_mean 0.1564266169681845\n",
      "delta_mfcc10_std 0.15125969257156835\n",
      "zcr_std 0.1498671756544192\n",
      "mfcc13_mean 0.14709893638139127\n",
      "mfcc8_mean 0.14374131132867474\n",
      "delta_mfcc2_std 0.14059785386746948\n",
      "mfcc11_mean 0.13268130431894432\n",
      "centroid_std 0.1267104351178172\n",
      "mfcc10_mean 0.12365698771666\n",
      "rms_std 0.12150884656847638\n",
      "Index(['mfcc1_std', 'flux_mean', 'delta_mfcc1_std', 'flux_std', 'mfcc2_mean',\n",
      "       'mfcc9_mean', 'delta_mfcc10_std', 'zcr_std', 'mfcc13_mean',\n",
      "       'mfcc8_mean', 'delta_mfcc2_std', 'mfcc11_mean', 'centroid_std',\n",
      "       'mfcc10_mean', 'rms_std'],\n",
      "      dtype='object')\n"
     ]
    }
   ],
   "source": [
    "from sklearn.feature_selection import mutual_info_classif\n",
    "threshold = 15  # the number of most relevant features\n",
    "high_score_features = []\n",
    "feature_scores = mutual_info_classif(X, y, random_state=0)\n",
    "for score, f_name in sorted(zip(feature_scores, X.columns), reverse=True)[:threshold]:\n",
    "        print(f_name, score)\n",
    "        high_score_features.append(f_name)\n",
    "X_mic = X[high_score_features]\n",
    "print(X_mic.columns)"
   ]
  },
  {
   "cell_type": "code",
   "execution_count": 116,
   "metadata": {},
   "outputs": [
    {
     "name": "stdout",
     "output_type": "stream",
     "text": [
      "Fitting 10 folds for each of 6 candidates, totalling 60 fits\n",
      "[CV] END ......................................n_neighbors=4; total time=   0.0s\n",
      "[CV] END ......................................n_neighbors=4; total time=   0.0s\n",
      "[CV] END ......................................n_neighbors=4; total time=   0.0s\n",
      "[CV] END ......................................n_neighbors=4; total time=   0.0s\n",
      "[CV] END ......................................n_neighbors=4; total time=   0.0s\n",
      "[CV] END ......................................n_neighbors=4; total time=   0.0s\n",
      "[CV] END ......................................n_neighbors=4; total time=   0.0s\n",
      "[CV] END ......................................n_neighbors=4; total time=   0.0s\n",
      "[CV] END ......................................n_neighbors=4; total time=   0.0s\n",
      "[CV] END ......................................n_neighbors=4; total time=   0.0s\n",
      "[CV] END ......................................n_neighbors=5; total time=   0.0s\n",
      "[CV] END ......................................n_neighbors=5; total time=   0.0s\n",
      "[CV] END ......................................n_neighbors=5; total time=   0.0s\n",
      "[CV] END ......................................n_neighbors=5; total time=   0.0s\n",
      "[CV] END ......................................n_neighbors=5; total time=   0.0s\n",
      "[CV] END ......................................n_neighbors=5; total time=   0.0s\n",
      "[CV] END ......................................n_neighbors=5; total time=   0.0s\n",
      "[CV] END ......................................n_neighbors=5; total time=   0.0s\n",
      "[CV] END ......................................n_neighbors=5; total time=   0.0s\n",
      "[CV] END ......................................n_neighbors=5; total time=   0.0s\n",
      "[CV] END ......................................n_neighbors=6; total time=   0.0s\n",
      "[CV] END ......................................n_neighbors=6; total time=   0.0s\n",
      "[CV] END ......................................n_neighbors=6; total time=   0.0s\n",
      "[CV] END ......................................n_neighbors=6; total time=   0.0s\n",
      "[CV] END ......................................n_neighbors=6; total time=   0.0s\n",
      "[CV] END ......................................n_neighbors=6; total time=   0.0s\n",
      "[CV] END ......................................n_neighbors=6; total time=   0.0s\n",
      "[CV] END ......................................n_neighbors=6; total time=   0.0s\n",
      "[CV] END ......................................n_neighbors=6; total time=   0.0s\n",
      "[CV] END ......................................n_neighbors=6; total time=   0.0s\n",
      "[CV] END ......................................n_neighbors=7; total time=   0.0s\n",
      "[CV] END ......................................n_neighbors=7; total time=   0.0s\n",
      "[CV] END ......................................n_neighbors=7; total time=   0.0s\n",
      "[CV] END ......................................n_neighbors=7; total time=   0.0s\n",
      "[CV] END ......................................n_neighbors=7; total time=   0.0s\n",
      "[CV] END ......................................n_neighbors=7; total time=   0.0s\n",
      "[CV] END ......................................n_neighbors=7; total time=   0.0s\n",
      "[CV] END ......................................n_neighbors=7; total time=   0.0s\n",
      "[CV] END ......................................n_neighbors=7; total time=   0.0s\n",
      "[CV] END ......................................n_neighbors=7; total time=   0.0s\n",
      "[CV] END ......................................n_neighbors=8; total time=   0.0s\n",
      "[CV] END ......................................n_neighbors=8; total time=   0.0s\n",
      "[CV] END ......................................n_neighbors=8; total time=   0.0s\n",
      "[CV] END ......................................n_neighbors=8; total time=   0.0s\n",
      "[CV] END ......................................n_neighbors=8; total time=   0.0s\n",
      "[CV] END ......................................n_neighbors=8; total time=   0.0s\n",
      "[CV] END ......................................n_neighbors=8; total time=   0.0s\n",
      "[CV] END ......................................n_neighbors=8; total time=   0.0s\n",
      "[CV] END ......................................n_neighbors=8; total time=   0.0s\n",
      "[CV] END ......................................n_neighbors=8; total time=   0.0s\n",
      "[CV] END ......................................n_neighbors=9; total time=   0.0s\n",
      "[CV] END ......................................n_neighbors=9; total time=   0.0s\n",
      "[CV] END ......................................n_neighbors=9; total time=   0.0s\n",
      "[CV] END ......................................n_neighbors=9; total time=   0.0s\n",
      "[CV] END ......................................n_neighbors=9; total time=   0.0s\n",
      "[CV] END ......................................n_neighbors=9; total time=   0.0s\n",
      "[CV] END ......................................n_neighbors=9; total time=   0.0s\n",
      "[CV] END ......................................n_neighbors=9; total time=   0.0s\n",
      "[CV] END ......................................n_neighbors=9; total time=   0.0s\n",
      "[CV] END ......................................n_neighbors=9; total time=   0.0s\n",
      "Fitting 10 folds for each of 6 candidates, totalling 60 fits\n",
      "[CV] END ......................................n_neighbors=4; total time=   0.0s\n",
      "[CV] END ......................................n_neighbors=4; total time=   0.0s\n",
      "[CV] END ......................................n_neighbors=4; total time=   0.0s\n",
      "[CV] END ......................................n_neighbors=4; total time=   0.0s\n",
      "[CV] END ......................................n_neighbors=4; total time=   0.0s\n",
      "[CV] END ......................................n_neighbors=4; total time=   0.0s\n",
      "[CV] END ......................................n_neighbors=4; total time=   0.0s\n",
      "[CV] END ......................................n_neighbors=4; total time=   0.0s\n",
      "[CV] END ......................................n_neighbors=4; total time=   0.0s\n",
      "[CV] END ......................................n_neighbors=4; total time=   0.0s\n",
      "[CV] END ......................................n_neighbors=5; total time=   0.0s\n",
      "[CV] END ......................................n_neighbors=5; total time=   0.0s\n",
      "[CV] END ......................................n_neighbors=5; total time=   0.0s\n",
      "[CV] END ......................................n_neighbors=5; total time=   0.0s\n",
      "[CV] END ......................................n_neighbors=5; total time=   0.0s\n",
      "[CV] END ......................................n_neighbors=5; total time=   0.0s\n",
      "[CV] END ......................................n_neighbors=5; total time=   0.0s\n",
      "[CV] END ......................................n_neighbors=5; total time=   0.0s\n",
      "[CV] END ......................................n_neighbors=5; total time=   0.0s\n",
      "[CV] END ......................................n_neighbors=5; total time=   0.0s\n",
      "[CV] END ......................................n_neighbors=6; total time=   0.0s\n",
      "[CV] END ......................................n_neighbors=6; total time=   0.0s\n",
      "[CV] END ......................................n_neighbors=6; total time=   0.0s\n",
      "[CV] END ......................................n_neighbors=6; total time=   0.0s\n",
      "[CV] END ......................................n_neighbors=6; total time=   0.0s\n",
      "[CV] END ......................................n_neighbors=6; total time=   0.0s\n",
      "[CV] END ......................................n_neighbors=6; total time=   0.0s\n",
      "[CV] END ......................................n_neighbors=6; total time=   0.0s\n",
      "[CV] END ......................................n_neighbors=6; total time=   0.0s\n",
      "[CV] END ......................................n_neighbors=6; total time=   0.0s\n",
      "[CV] END ......................................n_neighbors=7; total time=   0.0s\n",
      "[CV] END ......................................n_neighbors=7; total time=   0.0s\n",
      "[CV] END ......................................n_neighbors=7; total time=   0.0s\n",
      "[CV] END ......................................n_neighbors=7; total time=   0.0s\n",
      "[CV] END ......................................n_neighbors=7; total time=   0.0s\n",
      "[CV] END ......................................n_neighbors=7; total time=   0.0s\n",
      "[CV] END ......................................n_neighbors=7; total time=   0.0s\n",
      "[CV] END ......................................n_neighbors=7; total time=   0.0s\n",
      "[CV] END ......................................n_neighbors=7; total time=   0.0s\n",
      "[CV] END ......................................n_neighbors=7; total time=   0.0s\n",
      "[CV] END ......................................n_neighbors=8; total time=   0.0s\n",
      "[CV] END ......................................n_neighbors=8; total time=   0.0s\n",
      "[CV] END ......................................n_neighbors=8; total time=   0.0s\n",
      "[CV] END ......................................n_neighbors=8; total time=   0.0s\n",
      "[CV] END ......................................n_neighbors=8; total time=   0.0s\n",
      "[CV] END ......................................n_neighbors=8; total time=   0.0s\n",
      "[CV] END ......................................n_neighbors=8; total time=   0.0s\n",
      "[CV] END ......................................n_neighbors=8; total time=   0.0s\n",
      "[CV] END ......................................n_neighbors=8; total time=   0.0s\n",
      "[CV] END ......................................n_neighbors=8; total time=   0.0s\n",
      "[CV] END ......................................n_neighbors=9; total time=   0.0s\n",
      "[CV] END ......................................n_neighbors=9; total time=   0.0s\n",
      "[CV] END ......................................n_neighbors=9; total time=   0.0s\n",
      "[CV] END ......................................n_neighbors=9; total time=   0.0s\n",
      "[CV] END ......................................n_neighbors=9; total time=   0.0s\n",
      "[CV] END ......................................n_neighbors=9; total time=   0.0s\n",
      "[CV] END ......................................n_neighbors=9; total time=   0.0s\n",
      "[CV] END ......................................n_neighbors=9; total time=   0.0s\n",
      "[CV] END ......................................n_neighbors=9; total time=   0.0s\n",
      "[CV] END ......................................n_neighbors=9; total time=   0.0s\n",
      "Fitting 10 folds for each of 6 candidates, totalling 60 fits\n",
      "[CV] END ......................................n_neighbors=4; total time=   0.0s\n",
      "[CV] END ......................................n_neighbors=4; total time=   0.0s\n",
      "[CV] END ......................................n_neighbors=4; total time=   0.0s\n",
      "[CV] END ......................................n_neighbors=4; total time=   0.0s\n",
      "[CV] END ......................................n_neighbors=4; total time=   0.0s\n",
      "[CV] END ......................................n_neighbors=4; total time=   0.0s\n",
      "[CV] END ......................................n_neighbors=4; total time=   0.0s\n",
      "[CV] END ......................................n_neighbors=4; total time=   0.0s\n",
      "[CV] END ......................................n_neighbors=4; total time=   0.0s\n",
      "[CV] END ......................................n_neighbors=4; total time=   0.0s\n",
      "[CV] END ......................................n_neighbors=5; total time=   0.0s\n",
      "[CV] END ......................................n_neighbors=5; total time=   0.0s\n",
      "[CV] END ......................................n_neighbors=5; total time=   0.0s\n",
      "[CV] END ......................................n_neighbors=5; total time=   0.0s\n",
      "[CV] END ......................................n_neighbors=5; total time=   0.0s\n",
      "[CV] END ......................................n_neighbors=5; total time=   0.0s\n",
      "[CV] END ......................................n_neighbors=5; total time=   0.0s\n",
      "[CV] END ......................................n_neighbors=5; total time=   0.0s\n",
      "[CV] END ......................................n_neighbors=5; total time=   0.0s\n",
      "[CV] END ......................................n_neighbors=5; total time=   0.0s\n",
      "[CV] END ......................................n_neighbors=6; total time=   0.0s\n",
      "[CV] END ......................................n_neighbors=6; total time=   0.0s\n",
      "[CV] END ......................................n_neighbors=6; total time=   0.0s\n",
      "[CV] END ......................................n_neighbors=6; total time=   0.0s\n",
      "[CV] END ......................................n_neighbors=6; total time=   0.0s\n",
      "[CV] END ......................................n_neighbors=6; total time=   0.0s\n",
      "[CV] END ......................................n_neighbors=6; total time=   0.0s\n",
      "[CV] END ......................................n_neighbors=6; total time=   0.0s\n",
      "[CV] END ......................................n_neighbors=6; total time=   0.0s\n",
      "[CV] END ......................................n_neighbors=6; total time=   0.0s\n",
      "[CV] END ......................................n_neighbors=7; total time=   0.0s\n",
      "[CV] END ......................................n_neighbors=7; total time=   0.0s\n",
      "[CV] END ......................................n_neighbors=7; total time=   0.0s\n",
      "[CV] END ......................................n_neighbors=7; total time=   0.0s\n",
      "[CV] END ......................................n_neighbors=7; total time=   0.0s\n",
      "[CV] END ......................................n_neighbors=7; total time=   0.0s\n",
      "[CV] END ......................................n_neighbors=7; total time=   0.0s\n",
      "[CV] END ......................................n_neighbors=7; total time=   0.0s\n",
      "[CV] END ......................................n_neighbors=7; total time=   0.0s\n",
      "[CV] END ......................................n_neighbors=7; total time=   0.0s\n",
      "[CV] END ......................................n_neighbors=8; total time=   0.0s\n",
      "[CV] END ......................................n_neighbors=8; total time=   0.0s\n",
      "[CV] END ......................................n_neighbors=8; total time=   0.0s\n",
      "[CV] END ......................................n_neighbors=8; total time=   0.0s\n",
      "[CV] END ......................................n_neighbors=8; total time=   0.0s\n",
      "[CV] END ......................................n_neighbors=8; total time=   0.0s\n",
      "[CV] END ......................................n_neighbors=8; total time=   0.0s\n",
      "[CV] END ......................................n_neighbors=8; total time=   0.0s\n",
      "[CV] END ......................................n_neighbors=8; total time=   0.0s\n",
      "[CV] END ......................................n_neighbors=8; total time=   0.0s\n",
      "[CV] END ......................................n_neighbors=9; total time=   0.0s\n",
      "[CV] END ......................................n_neighbors=9; total time=   0.0s\n",
      "[CV] END ......................................n_neighbors=9; total time=   0.0s\n",
      "[CV] END ......................................n_neighbors=9; total time=   0.0s\n",
      "[CV] END ......................................n_neighbors=9; total time=   0.0s\n",
      "[CV] END ......................................n_neighbors=9; total time=   0.0s\n",
      "[CV] END ......................................n_neighbors=9; total time=   0.0s\n",
      "[CV] END ......................................n_neighbors=9; total time=   0.0s\n",
      "[CV] END ......................................n_neighbors=9; total time=   0.0s\n",
      "[CV] END ......................................n_neighbors=9; total time=   0.0s\n",
      "Fitting 10 folds for each of 6 candidates, totalling 60 fits\n",
      "[CV] END ......................................n_neighbors=4; total time=   0.0s\n",
      "[CV] END ......................................n_neighbors=4; total time=   0.0s\n",
      "[CV] END ......................................n_neighbors=4; total time=   0.0s\n",
      "[CV] END ......................................n_neighbors=4; total time=   0.0s\n",
      "[CV] END ......................................n_neighbors=4; total time=   0.0s\n",
      "[CV] END ......................................n_neighbors=4; total time=   0.0s\n",
      "[CV] END ......................................n_neighbors=4; total time=   0.0s\n",
      "[CV] END ......................................n_neighbors=4; total time=   0.0s\n",
      "[CV] END ......................................n_neighbors=4; total time=   0.0s\n",
      "[CV] END ......................................n_neighbors=4; total time=   0.0s\n",
      "[CV] END ......................................n_neighbors=5; total time=   0.0s\n",
      "[CV] END ......................................n_neighbors=5; total time=   0.0s\n",
      "[CV] END ......................................n_neighbors=5; total time=   0.0s\n",
      "[CV] END ......................................n_neighbors=5; total time=   0.0s\n",
      "[CV] END ......................................n_neighbors=5; total time=   0.0s\n",
      "[CV] END ......................................n_neighbors=5; total time=   0.0s\n",
      "[CV] END ......................................n_neighbors=5; total time=   0.0s\n",
      "[CV] END ......................................n_neighbors=5; total time=   0.0s\n",
      "[CV] END ......................................n_neighbors=5; total time=   0.0s\n",
      "[CV] END ......................................n_neighbors=5; total time=   0.0s\n",
      "[CV] END ......................................n_neighbors=6; total time=   0.0s\n",
      "[CV] END ......................................n_neighbors=6; total time=   0.0s\n",
      "[CV] END ......................................n_neighbors=6; total time=   0.0s\n",
      "[CV] END ......................................n_neighbors=6; total time=   0.0s\n",
      "[CV] END ......................................n_neighbors=6; total time=   0.0s\n",
      "[CV] END ......................................n_neighbors=6; total time=   0.0s\n",
      "[CV] END ......................................n_neighbors=6; total time=   0.0s\n",
      "[CV] END ......................................n_neighbors=6; total time=   0.0s\n",
      "[CV] END ......................................n_neighbors=6; total time=   0.0s\n",
      "[CV] END ......................................n_neighbors=6; total time=   0.0s\n",
      "[CV] END ......................................n_neighbors=7; total time=   0.0s\n",
      "[CV] END ......................................n_neighbors=7; total time=   0.0s\n",
      "[CV] END ......................................n_neighbors=7; total time=   0.0s\n",
      "[CV] END ......................................n_neighbors=7; total time=   0.0s\n",
      "[CV] END ......................................n_neighbors=7; total time=   0.0s\n",
      "[CV] END ......................................n_neighbors=7; total time=   0.0s\n",
      "[CV] END ......................................n_neighbors=7; total time=   0.0s\n",
      "[CV] END ......................................n_neighbors=7; total time=   0.0s\n",
      "[CV] END ......................................n_neighbors=7; total time=   0.0s\n",
      "[CV] END ......................................n_neighbors=7; total time=   0.0s\n",
      "[CV] END ......................................n_neighbors=8; total time=   0.0s\n",
      "[CV] END ......................................n_neighbors=8; total time=   0.0s\n",
      "[CV] END ......................................n_neighbors=8; total time=   0.0s\n",
      "[CV] END ......................................n_neighbors=8; total time=   0.0s\n",
      "[CV] END ......................................n_neighbors=8; total time=   0.0s\n",
      "[CV] END ......................................n_neighbors=8; total time=   0.0s\n",
      "[CV] END ......................................n_neighbors=8; total time=   0.0s\n",
      "[CV] END ......................................n_neighbors=8; total time=   0.0s\n",
      "[CV] END ......................................n_neighbors=8; total time=   0.0s\n",
      "[CV] END ......................................n_neighbors=8; total time=   0.0s\n",
      "[CV] END ......................................n_neighbors=9; total time=   0.0s\n",
      "[CV] END ......................................n_neighbors=9; total time=   0.0s\n",
      "[CV] END ......................................n_neighbors=9; total time=   0.0s\n",
      "[CV] END ......................................n_neighbors=9; total time=   0.0s\n",
      "[CV] END ......................................n_neighbors=9; total time=   0.0s\n",
      "[CV] END ......................................n_neighbors=9; total time=   0.0s\n",
      "[CV] END ......................................n_neighbors=9; total time=   0.0s\n",
      "[CV] END ......................................n_neighbors=9; total time=   0.0s\n",
      "[CV] END ......................................n_neighbors=9; total time=   0.0s\n",
      "[CV] END ......................................n_neighbors=9; total time=   0.0s\n",
      "Fitting 10 folds for each of 6 candidates, totalling 60 fits\n",
      "[CV] END ......................................n_neighbors=4; total time=   0.0s\n",
      "[CV] END ......................................n_neighbors=4; total time=   0.0s\n",
      "[CV] END ......................................n_neighbors=4; total time=   0.0s\n",
      "[CV] END ......................................n_neighbors=4; total time=   0.0s\n",
      "[CV] END ......................................n_neighbors=4; total time=   0.0s\n",
      "[CV] END ......................................n_neighbors=4; total time=   0.0s\n",
      "[CV] END ......................................n_neighbors=4; total time=   0.0s\n",
      "[CV] END ......................................n_neighbors=4; total time=   0.0s\n",
      "[CV] END ......................................n_neighbors=4; total time=   0.0s\n",
      "[CV] END ......................................n_neighbors=4; total time=   0.0s\n",
      "[CV] END ......................................n_neighbors=5; total time=   0.0s\n",
      "[CV] END ......................................n_neighbors=5; total time=   0.0s\n",
      "[CV] END ......................................n_neighbors=5; total time=   0.0s\n",
      "[CV] END ......................................n_neighbors=5; total time=   0.0s\n",
      "[CV] END ......................................n_neighbors=5; total time=   0.0s\n",
      "[CV] END ......................................n_neighbors=5; total time=   0.0s\n",
      "[CV] END ......................................n_neighbors=5; total time=   0.0s\n",
      "[CV] END ......................................n_neighbors=5; total time=   0.0s\n",
      "[CV] END ......................................n_neighbors=5; total time=   0.0s\n",
      "[CV] END ......................................n_neighbors=5; total time=   0.0s\n",
      "[CV] END ......................................n_neighbors=6; total time=   0.0s\n",
      "[CV] END ......................................n_neighbors=6; total time=   0.0s\n",
      "[CV] END ......................................n_neighbors=6; total time=   0.0s\n",
      "[CV] END ......................................n_neighbors=6; total time=   0.0s\n",
      "[CV] END ......................................n_neighbors=6; total time=   0.0s\n",
      "[CV] END ......................................n_neighbors=6; total time=   0.0s\n",
      "[CV] END ......................................n_neighbors=6; total time=   0.0s\n",
      "[CV] END ......................................n_neighbors=6; total time=   0.0s\n",
      "[CV] END ......................................n_neighbors=6; total time=   0.0s\n",
      "[CV] END ......................................n_neighbors=6; total time=   0.0s\n",
      "[CV] END ......................................n_neighbors=7; total time=   0.0s\n",
      "[CV] END ......................................n_neighbors=7; total time=   0.0s\n",
      "[CV] END ......................................n_neighbors=7; total time=   0.0s\n",
      "[CV] END ......................................n_neighbors=7; total time=   0.0s\n",
      "[CV] END ......................................n_neighbors=7; total time=   0.0s\n",
      "[CV] END ......................................n_neighbors=7; total time=   0.0s\n",
      "[CV] END ......................................n_neighbors=7; total time=   0.0s\n",
      "[CV] END ......................................n_neighbors=7; total time=   0.0s\n",
      "[CV] END ......................................n_neighbors=7; total time=   0.0s\n",
      "[CV] END ......................................n_neighbors=7; total time=   0.0s\n",
      "[CV] END ......................................n_neighbors=8; total time=   0.0s\n",
      "[CV] END ......................................n_neighbors=8; total time=   0.0s\n",
      "[CV] END ......................................n_neighbors=8; total time=   0.0s\n",
      "[CV] END ......................................n_neighbors=8; total time=   0.0s\n",
      "[CV] END ......................................n_neighbors=8; total time=   0.0s\n",
      "[CV] END ......................................n_neighbors=8; total time=   0.0s\n",
      "[CV] END ......................................n_neighbors=8; total time=   0.0s\n",
      "[CV] END ......................................n_neighbors=8; total time=   0.0s\n",
      "[CV] END ......................................n_neighbors=8; total time=   0.0s\n",
      "[CV] END ......................................n_neighbors=8; total time=   0.0s\n",
      "[CV] END ......................................n_neighbors=9; total time=   0.0s\n",
      "[CV] END ......................................n_neighbors=9; total time=   0.0s\n",
      "[CV] END ......................................n_neighbors=9; total time=   0.0s\n",
      "[CV] END ......................................n_neighbors=9; total time=   0.0s\n",
      "[CV] END ......................................n_neighbors=9; total time=   0.0s\n",
      "[CV] END ......................................n_neighbors=9; total time=   0.0s\n",
      "[CV] END ......................................n_neighbors=9; total time=   0.0s\n",
      "[CV] END ......................................n_neighbors=9; total time=   0.0s\n",
      "[CV] END ......................................n_neighbors=9; total time=   0.0s\n",
      "[CV] END ......................................n_neighbors=9; total time=   0.0s\n",
      "Fitting 10 folds for each of 6 candidates, totalling 60 fits\n",
      "[CV] END ......................................n_neighbors=4; total time=   0.0s\n",
      "[CV] END ......................................n_neighbors=4; total time=   0.0s\n",
      "[CV] END ......................................n_neighbors=4; total time=   0.0s\n",
      "[CV] END ......................................n_neighbors=4; total time=   0.0s\n",
      "[CV] END ......................................n_neighbors=4; total time=   0.0s\n",
      "[CV] END ......................................n_neighbors=4; total time=   0.0s\n",
      "[CV] END ......................................n_neighbors=4; total time=   0.0s\n",
      "[CV] END ......................................n_neighbors=4; total time=   0.0s\n",
      "[CV] END ......................................n_neighbors=4; total time=   0.0s\n",
      "[CV] END ......................................n_neighbors=4; total time=   0.0s\n",
      "[CV] END ......................................n_neighbors=5; total time=   0.0s\n",
      "[CV] END ......................................n_neighbors=5; total time=   0.0s\n",
      "[CV] END ......................................n_neighbors=5; total time=   0.0s\n",
      "[CV] END ......................................n_neighbors=5; total time=   0.0s\n",
      "[CV] END ......................................n_neighbors=5; total time=   0.0s\n",
      "[CV] END ......................................n_neighbors=5; total time=   0.0s\n",
      "[CV] END ......................................n_neighbors=5; total time=   0.0s\n",
      "[CV] END ......................................n_neighbors=5; total time=   0.0s\n",
      "[CV] END ......................................n_neighbors=5; total time=   0.0s\n",
      "[CV] END ......................................n_neighbors=5; total time=   0.0s\n",
      "[CV] END ......................................n_neighbors=6; total time=   0.0s\n",
      "[CV] END ......................................n_neighbors=6; total time=   0.0s\n",
      "[CV] END ......................................n_neighbors=6; total time=   0.0s\n",
      "[CV] END ......................................n_neighbors=6; total time=   0.0s\n",
      "[CV] END ......................................n_neighbors=6; total time=   0.0s\n",
      "[CV] END ......................................n_neighbors=6; total time=   0.0s\n",
      "[CV] END ......................................n_neighbors=6; total time=   0.0s\n",
      "[CV] END ......................................n_neighbors=6; total time=   0.0s\n",
      "[CV] END ......................................n_neighbors=6; total time=   0.0s\n",
      "[CV] END ......................................n_neighbors=6; total time=   0.0s\n",
      "[CV] END ......................................n_neighbors=7; total time=   0.0s\n",
      "[CV] END ......................................n_neighbors=7; total time=   0.0s\n",
      "[CV] END ......................................n_neighbors=7; total time=   0.0s\n",
      "[CV] END ......................................n_neighbors=7; total time=   0.0s\n",
      "[CV] END ......................................n_neighbors=7; total time=   0.0s\n",
      "[CV] END ......................................n_neighbors=7; total time=   0.0s\n",
      "[CV] END ......................................n_neighbors=7; total time=   0.0s\n",
      "[CV] END ......................................n_neighbors=7; total time=   0.0s\n",
      "[CV] END ......................................n_neighbors=7; total time=   0.0s\n",
      "[CV] END ......................................n_neighbors=7; total time=   0.0s\n",
      "[CV] END ......................................n_neighbors=8; total time=   0.0s\n",
      "[CV] END ......................................n_neighbors=8; total time=   0.0s\n",
      "[CV] END ......................................n_neighbors=8; total time=   0.0s\n",
      "[CV] END ......................................n_neighbors=8; total time=   0.0s\n",
      "[CV] END ......................................n_neighbors=8; total time=   0.0s\n",
      "[CV] END ......................................n_neighbors=8; total time=   0.0s\n",
      "[CV] END ......................................n_neighbors=8; total time=   0.0s\n",
      "[CV] END ......................................n_neighbors=8; total time=   0.0s\n",
      "[CV] END ......................................n_neighbors=8; total time=   0.0s\n",
      "[CV] END ......................................n_neighbors=8; total time=   0.0s\n",
      "[CV] END ......................................n_neighbors=9; total time=   0.0s\n",
      "[CV] END ......................................n_neighbors=9; total time=   0.0s\n",
      "[CV] END ......................................n_neighbors=9; total time=   0.0s\n",
      "[CV] END ......................................n_neighbors=9; total time=   0.0s\n",
      "[CV] END ......................................n_neighbors=9; total time=   0.0s\n",
      "[CV] END ......................................n_neighbors=9; total time=   0.0s\n",
      "[CV] END ......................................n_neighbors=9; total time=   0.0s\n",
      "[CV] END ......................................n_neighbors=9; total time=   0.0s\n",
      "[CV] END ......................................n_neighbors=9; total time=   0.0s\n",
      "[CV] END ......................................n_neighbors=9; total time=   0.0s\n",
      "Fitting 10 folds for each of 6 candidates, totalling 60 fits\n",
      "[CV] END ......................................n_neighbors=4; total time=   0.0s\n",
      "[CV] END ......................................n_neighbors=4; total time=   0.0s\n",
      "[CV] END ......................................n_neighbors=4; total time=   0.0s\n",
      "[CV] END ......................................n_neighbors=4; total time=   0.0s\n",
      "[CV] END ......................................n_neighbors=4; total time=   0.0s\n",
      "[CV] END ......................................n_neighbors=4; total time=   0.0s\n",
      "[CV] END ......................................n_neighbors=4; total time=   0.0s\n",
      "[CV] END ......................................n_neighbors=4; total time=   0.0s\n",
      "[CV] END ......................................n_neighbors=4; total time=   0.0s\n",
      "[CV] END ......................................n_neighbors=4; total time=   0.0s\n",
      "[CV] END ......................................n_neighbors=5; total time=   0.0s\n",
      "[CV] END ......................................n_neighbors=5; total time=   0.0s\n",
      "[CV] END ......................................n_neighbors=5; total time=   0.0s\n",
      "[CV] END ......................................n_neighbors=5; total time=   0.0s\n",
      "[CV] END ......................................n_neighbors=5; total time=   0.0s\n",
      "[CV] END ......................................n_neighbors=5; total time=   0.0s\n",
      "[CV] END ......................................n_neighbors=5; total time=   0.0s\n",
      "[CV] END ......................................n_neighbors=5; total time=   0.0s\n",
      "[CV] END ......................................n_neighbors=5; total time=   0.0s\n",
      "[CV] END ......................................n_neighbors=5; total time=   0.0s\n",
      "[CV] END ......................................n_neighbors=6; total time=   0.0s\n",
      "[CV] END ......................................n_neighbors=6; total time=   0.0s\n",
      "[CV] END ......................................n_neighbors=6; total time=   0.0s\n",
      "[CV] END ......................................n_neighbors=6; total time=   0.0s\n",
      "[CV] END ......................................n_neighbors=6; total time=   0.0s\n",
      "[CV] END ......................................n_neighbors=6; total time=   0.0s\n",
      "[CV] END ......................................n_neighbors=6; total time=   0.0s\n",
      "[CV] END ......................................n_neighbors=6; total time=   0.0s\n",
      "[CV] END ......................................n_neighbors=6; total time=   0.0s\n",
      "[CV] END ......................................n_neighbors=6; total time=   0.0s\n",
      "[CV] END ......................................n_neighbors=7; total time=   0.0s\n",
      "[CV] END ......................................n_neighbors=7; total time=   0.0s\n",
      "[CV] END ......................................n_neighbors=7; total time=   0.0s\n",
      "[CV] END ......................................n_neighbors=7; total time=   0.0s\n",
      "[CV] END ......................................n_neighbors=7; total time=   0.0s\n",
      "[CV] END ......................................n_neighbors=7; total time=   0.0s\n",
      "[CV] END ......................................n_neighbors=7; total time=   0.0s\n",
      "[CV] END ......................................n_neighbors=7; total time=   0.0s\n",
      "[CV] END ......................................n_neighbors=7; total time=   0.0s\n",
      "[CV] END ......................................n_neighbors=7; total time=   0.0s\n",
      "[CV] END ......................................n_neighbors=8; total time=   0.0s\n",
      "[CV] END ......................................n_neighbors=8; total time=   0.0s\n",
      "[CV] END ......................................n_neighbors=8; total time=   0.0s\n",
      "[CV] END ......................................n_neighbors=8; total time=   0.0s\n",
      "[CV] END ......................................n_neighbors=8; total time=   0.0s\n",
      "[CV] END ......................................n_neighbors=8; total time=   0.0s\n",
      "[CV] END ......................................n_neighbors=8; total time=   0.0s\n",
      "[CV] END ......................................n_neighbors=8; total time=   0.0s\n",
      "[CV] END ......................................n_neighbors=8; total time=   0.0s\n",
      "[CV] END ......................................n_neighbors=8; total time=   0.0s\n",
      "[CV] END ......................................n_neighbors=9; total time=   0.0s\n",
      "[CV] END ......................................n_neighbors=9; total time=   0.0s\n",
      "[CV] END ......................................n_neighbors=9; total time=   0.0s\n",
      "[CV] END ......................................n_neighbors=9; total time=   0.0s\n",
      "[CV] END ......................................n_neighbors=9; total time=   0.0s\n",
      "[CV] END ......................................n_neighbors=9; total time=   0.0s\n",
      "[CV] END ......................................n_neighbors=9; total time=   0.0s\n",
      "[CV] END ......................................n_neighbors=9; total time=   0.0s\n",
      "[CV] END ......................................n_neighbors=9; total time=   0.0s\n",
      "[CV] END ......................................n_neighbors=9; total time=   0.0s\n",
      "Fitting 10 folds for each of 6 candidates, totalling 60 fits\n",
      "[CV] END ......................................n_neighbors=4; total time=   0.0s\n",
      "[CV] END ......................................n_neighbors=4; total time=   0.0s\n",
      "[CV] END ......................................n_neighbors=4; total time=   0.0s\n",
      "[CV] END ......................................n_neighbors=4; total time=   0.0s\n",
      "[CV] END ......................................n_neighbors=4; total time=   0.0s\n",
      "[CV] END ......................................n_neighbors=4; total time=   0.0s\n",
      "[CV] END ......................................n_neighbors=4; total time=   0.0s\n",
      "[CV] END ......................................n_neighbors=4; total time=   0.0s\n",
      "[CV] END ......................................n_neighbors=4; total time=   0.0s\n",
      "[CV] END ......................................n_neighbors=4; total time=   0.0s\n",
      "[CV] END ......................................n_neighbors=5; total time=   0.0s\n",
      "[CV] END ......................................n_neighbors=5; total time=   0.0s\n",
      "[CV] END ......................................n_neighbors=5; total time=   0.0s\n",
      "[CV] END ......................................n_neighbors=5; total time=   0.0s\n",
      "[CV] END ......................................n_neighbors=5; total time=   0.0s\n",
      "[CV] END ......................................n_neighbors=5; total time=   0.0s\n",
      "[CV] END ......................................n_neighbors=5; total time=   0.0s\n",
      "[CV] END ......................................n_neighbors=5; total time=   0.0s\n",
      "[CV] END ......................................n_neighbors=5; total time=   0.0s\n",
      "[CV] END ......................................n_neighbors=5; total time=   0.0s\n",
      "[CV] END ......................................n_neighbors=6; total time=   0.0s\n",
      "[CV] END ......................................n_neighbors=6; total time=   0.0s\n",
      "[CV] END ......................................n_neighbors=6; total time=   0.0s\n",
      "[CV] END ......................................n_neighbors=6; total time=   0.0s\n",
      "[CV] END ......................................n_neighbors=6; total time=   0.0s\n",
      "[CV] END ......................................n_neighbors=6; total time=   0.0s\n",
      "[CV] END ......................................n_neighbors=6; total time=   0.0s\n",
      "[CV] END ......................................n_neighbors=6; total time=   0.0s\n",
      "[CV] END ......................................n_neighbors=6; total time=   0.0s\n",
      "[CV] END ......................................n_neighbors=6; total time=   0.0s\n",
      "[CV] END ......................................n_neighbors=7; total time=   0.0s\n",
      "[CV] END ......................................n_neighbors=7; total time=   0.0s\n",
      "[CV] END ......................................n_neighbors=7; total time=   0.0s\n",
      "[CV] END ......................................n_neighbors=7; total time=   0.0s\n",
      "[CV] END ......................................n_neighbors=7; total time=   0.0s\n",
      "[CV] END ......................................n_neighbors=7; total time=   0.0s\n",
      "[CV] END ......................................n_neighbors=7; total time=   0.0s\n",
      "[CV] END ......................................n_neighbors=7; total time=   0.0s\n",
      "[CV] END ......................................n_neighbors=7; total time=   0.0s\n",
      "[CV] END ......................................n_neighbors=7; total time=   0.0s\n",
      "[CV] END ......................................n_neighbors=8; total time=   0.0s\n",
      "[CV] END ......................................n_neighbors=8; total time=   0.0s\n",
      "[CV] END ......................................n_neighbors=8; total time=   0.0s\n",
      "[CV] END ......................................n_neighbors=8; total time=   0.0s\n",
      "[CV] END ......................................n_neighbors=8; total time=   0.0s\n",
      "[CV] END ......................................n_neighbors=8; total time=   0.0s\n",
      "[CV] END ......................................n_neighbors=8; total time=   0.0s\n",
      "[CV] END ......................................n_neighbors=8; total time=   0.0s\n",
      "[CV] END ......................................n_neighbors=8; total time=   0.0s\n",
      "[CV] END ......................................n_neighbors=8; total time=   0.0s\n",
      "[CV] END ......................................n_neighbors=9; total time=   0.0s\n",
      "[CV] END ......................................n_neighbors=9; total time=   0.0s\n",
      "[CV] END ......................................n_neighbors=9; total time=   0.0s\n",
      "[CV] END ......................................n_neighbors=9; total time=   0.0s\n",
      "[CV] END ......................................n_neighbors=9; total time=   0.0s\n",
      "[CV] END ......................................n_neighbors=9; total time=   0.0s\n",
      "[CV] END ......................................n_neighbors=9; total time=   0.0s\n",
      "[CV] END ......................................n_neighbors=9; total time=   0.0s\n",
      "[CV] END ......................................n_neighbors=9; total time=   0.0s\n",
      "[CV] END ......................................n_neighbors=9; total time=   0.0s\n",
      "Fitting 10 folds for each of 6 candidates, totalling 60 fits\n",
      "[CV] END ......................................n_neighbors=4; total time=   0.0s\n",
      "[CV] END ......................................n_neighbors=4; total time=   0.0s\n",
      "[CV] END ......................................n_neighbors=4; total time=   0.0s\n",
      "[CV] END ......................................n_neighbors=4; total time=   0.0s\n",
      "[CV] END ......................................n_neighbors=4; total time=   0.0s\n",
      "[CV] END ......................................n_neighbors=4; total time=   0.0s\n",
      "[CV] END ......................................n_neighbors=4; total time=   0.0s\n",
      "[CV] END ......................................n_neighbors=4; total time=   0.0s\n",
      "[CV] END ......................................n_neighbors=4; total time=   0.0s\n",
      "[CV] END ......................................n_neighbors=4; total time=   0.0s\n",
      "[CV] END ......................................n_neighbors=5; total time=   0.0s\n",
      "[CV] END ......................................n_neighbors=5; total time=   0.0s\n",
      "[CV] END ......................................n_neighbors=5; total time=   0.0s\n",
      "[CV] END ......................................n_neighbors=5; total time=   0.0s\n",
      "[CV] END ......................................n_neighbors=5; total time=   0.0s\n",
      "[CV] END ......................................n_neighbors=5; total time=   0.0s\n",
      "[CV] END ......................................n_neighbors=5; total time=   0.0s\n",
      "[CV] END ......................................n_neighbors=5; total time=   0.0s\n",
      "[CV] END ......................................n_neighbors=5; total time=   0.0s\n",
      "[CV] END ......................................n_neighbors=5; total time=   0.0s\n",
      "[CV] END ......................................n_neighbors=6; total time=   0.0s\n",
      "[CV] END ......................................n_neighbors=6; total time=   0.0s\n",
      "[CV] END ......................................n_neighbors=6; total time=   0.0s\n",
      "[CV] END ......................................n_neighbors=6; total time=   0.0s\n",
      "[CV] END ......................................n_neighbors=6; total time=   0.0s\n",
      "[CV] END ......................................n_neighbors=6; total time=   0.0s\n",
      "[CV] END ......................................n_neighbors=6; total time=   0.0s\n",
      "[CV] END ......................................n_neighbors=6; total time=   0.0s\n",
      "[CV] END ......................................n_neighbors=6; total time=   0.0s\n",
      "[CV] END ......................................n_neighbors=6; total time=   0.0s\n",
      "[CV] END ......................................n_neighbors=7; total time=   0.0s\n",
      "[CV] END ......................................n_neighbors=7; total time=   0.0s\n",
      "[CV] END ......................................n_neighbors=7; total time=   0.0s\n",
      "[CV] END ......................................n_neighbors=7; total time=   0.0s\n",
      "[CV] END ......................................n_neighbors=7; total time=   0.0s\n",
      "[CV] END ......................................n_neighbors=7; total time=   0.0s\n",
      "[CV] END ......................................n_neighbors=7; total time=   0.0s\n",
      "[CV] END ......................................n_neighbors=7; total time=   0.0s\n",
      "[CV] END ......................................n_neighbors=7; total time=   0.0s\n",
      "[CV] END ......................................n_neighbors=7; total time=   0.0s\n",
      "[CV] END ......................................n_neighbors=8; total time=   0.0s\n",
      "[CV] END ......................................n_neighbors=8; total time=   0.0s\n",
      "[CV] END ......................................n_neighbors=8; total time=   0.0s\n",
      "[CV] END ......................................n_neighbors=8; total time=   0.0s\n",
      "[CV] END ......................................n_neighbors=8; total time=   0.0s\n",
      "[CV] END ......................................n_neighbors=8; total time=   0.0s\n",
      "[CV] END ......................................n_neighbors=8; total time=   0.0s\n",
      "[CV] END ......................................n_neighbors=8; total time=   0.0s\n",
      "[CV] END ......................................n_neighbors=8; total time=   0.0s\n",
      "[CV] END ......................................n_neighbors=8; total time=   0.0s\n",
      "[CV] END ......................................n_neighbors=9; total time=   0.0s\n",
      "[CV] END ......................................n_neighbors=9; total time=   0.0s\n",
      "[CV] END ......................................n_neighbors=9; total time=   0.0s\n",
      "[CV] END ......................................n_neighbors=9; total time=   0.0s\n",
      "[CV] END ......................................n_neighbors=9; total time=   0.0s\n",
      "[CV] END ......................................n_neighbors=9; total time=   0.0s\n",
      "[CV] END ......................................n_neighbors=9; total time=   0.0s\n",
      "[CV] END ......................................n_neighbors=9; total time=   0.0s\n",
      "[CV] END ......................................n_neighbors=9; total time=   0.0s\n",
      "[CV] END ......................................n_neighbors=9; total time=   0.0s\n",
      "Fitting 10 folds for each of 6 candidates, totalling 60 fits\n",
      "[CV] END ......................................n_neighbors=4; total time=   0.0s\n",
      "[CV] END ......................................n_neighbors=4; total time=   0.0s\n",
      "[CV] END ......................................n_neighbors=4; total time=   0.0s\n",
      "[CV] END ......................................n_neighbors=4; total time=   0.0s\n",
      "[CV] END ......................................n_neighbors=4; total time=   0.0s\n",
      "[CV] END ......................................n_neighbors=4; total time=   0.0s\n",
      "[CV] END ......................................n_neighbors=4; total time=   0.0s\n",
      "[CV] END ......................................n_neighbors=4; total time=   0.0s\n",
      "[CV] END ......................................n_neighbors=4; total time=   0.0s\n",
      "[CV] END ......................................n_neighbors=4; total time=   0.0s\n",
      "[CV] END ......................................n_neighbors=5; total time=   0.0s\n",
      "[CV] END ......................................n_neighbors=5; total time=   0.0s\n",
      "[CV] END ......................................n_neighbors=5; total time=   0.0s\n",
      "[CV] END ......................................n_neighbors=5; total time=   0.0s\n",
      "[CV] END ......................................n_neighbors=5; total time=   0.0s\n",
      "[CV] END ......................................n_neighbors=5; total time=   0.0s\n",
      "[CV] END ......................................n_neighbors=5; total time=   0.0s\n",
      "[CV] END ......................................n_neighbors=5; total time=   0.0s\n",
      "[CV] END ......................................n_neighbors=5; total time=   0.0s\n",
      "[CV] END ......................................n_neighbors=5; total time=   0.0s\n",
      "[CV] END ......................................n_neighbors=6; total time=   0.0s\n",
      "[CV] END ......................................n_neighbors=6; total time=   0.0s\n",
      "[CV] END ......................................n_neighbors=6; total time=   0.0s\n",
      "[CV] END ......................................n_neighbors=6; total time=   0.0s\n",
      "[CV] END ......................................n_neighbors=6; total time=   0.0s\n",
      "[CV] END ......................................n_neighbors=6; total time=   0.0s\n",
      "[CV] END ......................................n_neighbors=6; total time=   0.0s\n",
      "[CV] END ......................................n_neighbors=6; total time=   0.0s\n",
      "[CV] END ......................................n_neighbors=6; total time=   0.0s\n",
      "[CV] END ......................................n_neighbors=6; total time=   0.0s\n",
      "[CV] END ......................................n_neighbors=7; total time=   0.0s\n",
      "[CV] END ......................................n_neighbors=7; total time=   0.0s\n",
      "[CV] END ......................................n_neighbors=7; total time=   0.0s\n",
      "[CV] END ......................................n_neighbors=7; total time=   0.0s\n",
      "[CV] END ......................................n_neighbors=7; total time=   0.0s\n",
      "[CV] END ......................................n_neighbors=7; total time=   0.0s\n",
      "[CV] END ......................................n_neighbors=7; total time=   0.0s\n",
      "[CV] END ......................................n_neighbors=7; total time=   0.0s\n",
      "[CV] END ......................................n_neighbors=7; total time=   0.0s\n",
      "[CV] END ......................................n_neighbors=7; total time=   0.0s\n",
      "[CV] END ......................................n_neighbors=8; total time=   0.0s\n",
      "[CV] END ......................................n_neighbors=8; total time=   0.0s\n",
      "[CV] END ......................................n_neighbors=8; total time=   0.0s\n",
      "[CV] END ......................................n_neighbors=8; total time=   0.0s\n",
      "[CV] END ......................................n_neighbors=8; total time=   0.0s\n",
      "[CV] END ......................................n_neighbors=8; total time=   0.0s\n",
      "[CV] END ......................................n_neighbors=8; total time=   0.0s\n",
      "[CV] END ......................................n_neighbors=8; total time=   0.0s\n",
      "[CV] END ......................................n_neighbors=8; total time=   0.0s\n",
      "[CV] END ......................................n_neighbors=8; total time=   0.0s\n",
      "[CV] END ......................................n_neighbors=9; total time=   0.0s\n",
      "[CV] END ......................................n_neighbors=9; total time=   0.0s\n",
      "[CV] END ......................................n_neighbors=9; total time=   0.0s\n",
      "[CV] END ......................................n_neighbors=9; total time=   0.0s\n",
      "[CV] END ......................................n_neighbors=9; total time=   0.0s\n",
      "[CV] END ......................................n_neighbors=9; total time=   0.0s\n",
      "[CV] END ......................................n_neighbors=9; total time=   0.0s\n",
      "[CV] END ......................................n_neighbors=9; total time=   0.0s\n",
      "[CV] END ......................................n_neighbors=9; total time=   0.0s\n",
      "[CV] END ......................................n_neighbors=9; total time=   0.0s\n",
      "Accuracy: 0.74 (+/- 0.2320)\n"
     ]
    }
   ],
   "source": [
    "cv_acc=[]\n",
    "cv_std=[]\n",
    "\n",
    "scores = cross_validate(KNN_model, X_train, y_train, cv=10)\n",
    "cv_acc.append(scores['test_score'].mean())\n",
    "cv_std.append(scores['test_score'].std())\n",
    "print(\"Accuracy: %0.2f (+/- %0.4f)\" % (scores['test_score'].mean(), scores['test_score'].std() * 2))"
   ]
  },
  {
   "cell_type": "code",
   "execution_count": 94,
   "metadata": {},
   "outputs": [
    {
     "name": "stdout",
     "output_type": "stream",
     "text": [
      "Accuracy: 0.68 (+/- 0.24)\n",
      "Accuracy: 0.66 (+/- 0.19)\n",
      "Accuracy: 0.66 (+/- 0.15)\n",
      "Accuracy: 0.65 (+/- 0.16)\n",
      "Accuracy: 0.72 (+/- 0.27)\n",
      "Accuracy: 0.71 (+/- 0.24)\n",
      "Accuracy: 0.66 (+/- 0.16)\n",
      "Accuracy: 0.73 (+/- 0.18)\n",
      "Accuracy: 0.70 (+/- 0.14)\n",
      "Accuracy: 0.72 (+/- 0.27)\n",
      "Accuracy: 0.68 (+/- 0.23)\n",
      "Accuracy: 0.66 (+/- 0.22)\n",
      "Accuracy: 0.67 (+/- 0.20)\n",
      "Accuracy: 0.70 (+/- 0.24)\n",
      "Accuracy: 0.70 (+/- 0.20)\n",
      "Accuracy: 0.69 (+/- 0.18)\n",
      "Accuracy: 0.68 (+/- 0.14)\n",
      "Accuracy: 0.69 (+/- 0.13)\n",
      "Accuracy: 0.70 (+/- 0.24)\n",
      "Accuracy: 0.74 (+/- 0.18)\n",
      "Accuracy: 0.68 (+/- 0.15)\n",
      "Accuracy: 0.67 (+/- 0.16)\n",
      "Accuracy: 0.68 (+/- 0.09)\n",
      "Accuracy: 0.71 (+/- 0.22)\n",
      "Accuracy: 0.66 (+/- 0.16)\n",
      "Accuracy: 0.68 (+/- 0.17)\n",
      "Accuracy: 0.67 (+/- 0.23)\n",
      "Accuracy: 0.71 (+/- 0.18)\n",
      "Accuracy: 0.66 (+/- 0.24)\n",
      "Accuracy: 0.66 (+/- 0.17)\n",
      "Accuracy: 0.71 (+/- 0.27)\n",
      "Accuracy: 0.68 (+/- 0.15)\n",
      "Accuracy: 0.66 (+/- 0.24)\n",
      "Accuracy: 0.65 (+/- 0.24)\n",
      "Accuracy: 0.67 (+/- 0.22)\n",
      "Accuracy: 0.65 (+/- 0.16)\n",
      "Accuracy: 0.69 (+/- 0.23)\n",
      "Accuracy: 0.70 (+/- 0.20)\n",
      "Accuracy: 0.69 (+/- 0.21)\n",
      "Accuracy: 0.67 (+/- 0.13)\n",
      "Accuracy: 0.69 (+/- 0.23)\n",
      "Accuracy: 0.69 (+/- 0.19)\n",
      "Accuracy: 0.69 (+/- 0.18)\n",
      "Accuracy: 0.65 (+/- 0.22)\n",
      "Accuracy: 0.68 (+/- 0.17)\n",
      "Accuracy: 0.67 (+/- 0.17)\n",
      "Accuracy: 0.65 (+/- 0.18)\n",
      "Accuracy: 0.69 (+/- 0.26)\n",
      "Accuracy: 0.71 (+/- 0.20)\n",
      "Accuracy: 0.68 (+/- 0.20)\n"
     ]
    },
    {
     "data": {
      "text/plain": [
       "0.7214552238805969"
      ]
     },
     "execution_count": 94,
     "metadata": {},
     "output_type": "execute_result"
    }
   ],
   "source": [
    "for col in X.columns:\n",
    "    #df[col] = df[col]/max(np.abs(df[col]))\n",
    "    mean = np.mean(X[col])\n",
    "    std = np.std(X[col])\n",
    "    X[col] = (X[col] - mean)/std # z-score normalization\n",
    "    \n",
    "X_train, X_test, y_train, y_test = train_test_split(X_mic, y, test_size=0.33)\n",
    "\n",
    "X_train = X_train.to_numpy()\n",
    "X_test = X_test.to_numpy()\n",
    "y_train = y_train.to_numpy()\n",
    "y_test = y_test.to_numpy()\n",
    "\n",
    "warnings.filterwarnings(\"ignore\")\n",
    "\n",
    "C = [x**0.01 for x in range(25,200)]\n",
    "kernel = ['rbf','linear','poly','sigmoid']\n",
    "degree = [int(x) for x in range(1,8)]\n",
    "gamma = ['scale','auto']\n",
    "coef0 = [x*0.1 for x in range(0,40)]\n",
    "decision_function_shape = ['ovo','ovr']\n",
    "\n",
    "svm_grid = { 'C' : C,\n",
    "            'kernel' : kernel,\n",
    "            'degree' : degree,\n",
    "            'gamma' : gamma,\n",
    "            'coef0' : coef0,\n",
    "            'decision_function_shape' : decision_function_shape\n",
    "            }\n",
    "\n",
    "svc = SVC()\n",
    "svm_df=pd.DataFrame()\n",
    "svm_df['trial']=[]\n",
    "svm_df['training_acc']=[]\n",
    "svm_df['accuracy'] = []\n",
    "svm_df['macro_accuracy'] = []\n",
    "svm_df['confusion_matrix']=[]\n",
    "svm_df['params']=[]\n",
    "svm_df['cv_acc']=[]\n",
    "svm_df['cv_std']=[]\n",
    "\n",
    "trial=[]\n",
    "training_acc = []\n",
    "accuracy=[]\n",
    "macro_accuracy=[]\n",
    "confusion=[]\n",
    "params=[]\n",
    "cv_acc=[]\n",
    "cv_std=[]\n",
    "for i in range(0,50):\n",
    "    trial.append(i)\n",
    "    #Optimize Hyperparameters\n",
    "    svc_RandomGrid = RandomizedSearchCV(estimator = svc, param_distributions=svm_grid,cv=10,verbose=0,n_jobs=4) #verbose=2\n",
    "    svc_RandomGrid.fit(X_train,y_train)\n",
    "    #print(f'Training CV Accuracy: {svc_RandomGrid.best_score_}')\n",
    "    training_acc.append(svc_RandomGrid.best_score_)\n",
    "    #print(svc_RandomGrid.best_params_)\n",
    "    params.append(svc_RandomGrid.best_params_)\n",
    "    #Predict based on hyperparameters that are optimized\n",
    "    y_prediction = svc_RandomGrid.predict(X_test)\n",
    "    #Calculate accuracy scores for testing\n",
    "    score=precision_score(y_test, y_prediction, average='macro')\n",
    "    acc = accuracy_score(y_test, y_prediction)\n",
    "    cm = confusion_matrix(y_test, y_prediction) # clean, highfry, layered, lowfry, midfry, no vocals\n",
    "\n",
    "    accuracy.append(acc)\n",
    "    macro_accuracy.append(score)\n",
    "    confusion.append(cm)\n",
    "    # scores = cross_validate(svc_RandomGrid, X_train, y_train, cv=10)\n",
    "    # cv_acc.append(scores['test_score'].mean())\n",
    "    # cv_std.append(scores['test_score'].std())\n",
    "    # print(\"Accuracy: %0.2f (+/- %0.2f)\" % (scores['test_score'].mean(), scores['test_score'].std() * 2))\n",
    "    #print(f\"Confusion Matrix:\\n {cm}\")\n",
    "    #print(f\"Accuracy score: {accuracy}\")\n",
    "    #print(f\"Macro accuracy score: {score}\")\n",
    "\n",
    "\n",
    "svm_df['trial']= trial\n",
    "svm_df['cv_acc']=training_acc\n",
    "svm_df['accuracy'] = accuracy\n",
    "svm_df['macro_accuracy'] = macro_accuracy\n",
    "svm_df['confusion_matrix']=confusion\n",
    "svm_df['params']=params\n",
    "# svm_df['cv_acc']=cv_acc\n",
    "# svm_df['cv_std']=cv_std\n",
    "\n",
    "svm_df['macro_accuracy'].max()"
   ]
  },
  {
   "cell_type": "code",
   "execution_count": 96,
   "metadata": {},
   "outputs": [
    {
     "data": {
      "text/html": [
       "<div>\n",
       "<style scoped>\n",
       "    .dataframe tbody tr th:only-of-type {\n",
       "        vertical-align: middle;\n",
       "    }\n",
       "\n",
       "    .dataframe tbody tr th {\n",
       "        vertical-align: top;\n",
       "    }\n",
       "\n",
       "    .dataframe thead th {\n",
       "        text-align: right;\n",
       "    }\n",
       "</style>\n",
       "<table border=\"1\" class=\"dataframe\">\n",
       "  <thead>\n",
       "    <tr style=\"text-align: right;\">\n",
       "      <th></th>\n",
       "      <th>trial</th>\n",
       "      <th>training_acc</th>\n",
       "      <th>accuracy</th>\n",
       "      <th>macro_accuracy</th>\n",
       "      <th>confusion_matrix</th>\n",
       "      <th>params</th>\n",
       "      <th>cv_acc</th>\n",
       "      <th>cv_std</th>\n",
       "    </tr>\n",
       "  </thead>\n",
       "  <tbody>\n",
       "    <tr>\n",
       "      <th>48</th>\n",
       "      <td>48</td>\n",
       "      <td>0.716176</td>\n",
       "      <td>0.817073</td>\n",
       "      <td>0.721455</td>\n",
       "      <td>[[4, 1, 0, 4], [0, 1, 0, 5], [0, 0, 6, 2], [1,...</td>\n",
       "      <td>{'kernel': 'poly', 'gamma': 'auto', 'degree': ...</td>\n",
       "      <td>0.709926</td>\n",
       "      <td>0.098615</td>\n",
       "    </tr>\n",
       "  </tbody>\n",
       "</table>\n",
       "</div>"
      ],
      "text/plain": [
       "    trial  training_acc  accuracy  macro_accuracy  \\\n",
       "48     48      0.716176  0.817073        0.721455   \n",
       "\n",
       "                                     confusion_matrix  \\\n",
       "48  [[4, 1, 0, 4], [0, 1, 0, 5], [0, 0, 6, 2], [1,...   \n",
       "\n",
       "                                               params    cv_acc    cv_std  \n",
       "48  {'kernel': 'poly', 'gamma': 'auto', 'degree': ...  0.709926  0.098615  "
      ]
     },
     "execution_count": 96,
     "metadata": {},
     "output_type": "execute_result"
    }
   ],
   "source": [
    "svm_df[svm_df['macro_accuracy'] == svm_df['macro_accuracy'].max()]"
   ]
  },
  {
   "cell_type": "code",
   "execution_count": 101,
   "metadata": {},
   "outputs": [
    {
     "data": {
      "text/plain": [
       "array([{'kernel': 'poly', 'gamma': 'auto', 'degree': 4, 'decision_function_shape': 'ovr', 'coef0': 1.7000000000000002, 'C': 1.0514527700019614}],\n",
       "      dtype=object)"
      ]
     },
     "execution_count": 101,
     "metadata": {},
     "output_type": "execute_result"
    }
   ],
   "source": [
    "svm_df[svm_df['trial'] == 30]['params'].values"
   ]
  },
  {
   "cell_type": "code",
   "execution_count": 97,
   "metadata": {},
   "outputs": [
    {
     "data": {
      "application/vnd.plotly.v1+json": {
       "config": {
        "plotlyServerURL": "https://plot.ly"
       },
       "data": [
        {
         "hovertemplate": "variable=accuracy<br>trial=%{x}<br>value=%{y}<extra></extra>",
         "legendgroup": "accuracy",
         "line": {
          "color": "#636efa",
          "dash": "solid"
         },
         "mode": "lines",
         "name": "accuracy",
         "orientation": "v",
         "showlegend": true,
         "type": "scatter",
         "x": [
          0,
          1,
          2,
          3,
          4,
          5,
          6,
          7,
          8,
          9,
          10,
          11,
          12,
          13,
          14,
          15,
          16,
          17,
          18,
          19,
          20,
          21,
          22,
          23,
          24,
          25,
          26,
          27,
          28,
          29,
          30,
          31,
          32,
          33,
          34,
          35,
          36,
          37,
          38,
          39,
          40,
          41,
          42,
          43,
          44,
          45,
          46,
          47,
          48,
          49
         ],
         "xaxis": "x",
         "y": [
          0.7682926829268293,
          0.7682926829268293,
          0.7682926829268293,
          0.7804878048780488,
          0.6463414634146342,
          0.6341463414634146,
          0.7804878048780488,
          0.7073170731707317,
          0.7804878048780488,
          0.7804878048780488,
          0.7804878048780488,
          0.7682926829268293,
          0.6951219512195121,
          0.6829268292682927,
          0.7804878048780488,
          0.6951219512195121,
          0.7439024390243902,
          0.6951219512195121,
          0.6585365853658537,
          0.7682926829268293,
          0.6463414634146342,
          0.7073170731707317,
          0.7195121951219512,
          0.6829268292682927,
          0.6463414634146342,
          0.7195121951219512,
          0.7317073170731707,
          0.6707317073170732,
          0.7804878048780488,
          0.7073170731707317,
          0.7439024390243902,
          0.7195121951219512,
          0.6463414634146342,
          0.6463414634146342,
          0.6341463414634146,
          0.6341463414634146,
          0.6951219512195121,
          0.6951219512195121,
          0.7804878048780488,
          0.7195121951219512,
          0.7804878048780488,
          0.7804878048780488,
          0.7926829268292683,
          0.7804878048780488,
          0.7560975609756098,
          0.7195121951219512,
          0.7682926829268293,
          0.6463414634146342,
          0.8170731707317073,
          0.7560975609756098
         ],
         "yaxis": "y"
        },
        {
         "hovertemplate": "variable=macro_accuracy<br>trial=%{x}<br>value=%{y}<extra></extra>",
         "legendgroup": "macro_accuracy",
         "line": {
          "color": "#EF553B",
          "dash": "solid"
         },
         "mode": "lines",
         "name": "macro_accuracy",
         "orientation": "v",
         "showlegend": true,
         "type": "scatter",
         "x": [
          0,
          1,
          2,
          3,
          4,
          5,
          6,
          7,
          8,
          9,
          10,
          11,
          12,
          13,
          14,
          15,
          16,
          17,
          18,
          19,
          20,
          21,
          22,
          23,
          24,
          25,
          26,
          27,
          28,
          29,
          30,
          31,
          32,
          33,
          34,
          35,
          36,
          37,
          38,
          39,
          40,
          41,
          42,
          43,
          44,
          45,
          46,
          47,
          48,
          49
         ],
         "xaxis": "x",
         "y": [
          0.6038461538461539,
          0.6038461538461539,
          0.5200997652582159,
          0.6784598214285714,
          0.5243464052287582,
          0.4993464052287582,
          0.6784598214285714,
          0.6031746031746031,
          0.6784598214285714,
          0.6784598214285714,
          0.64375,
          0.6038461538461539,
          0.5311194653299915,
          0.5408249158249159,
          0.6784598214285714,
          0.5311194653299915,
          0.6021929824561403,
          0.5311194653299915,
          0.5416666666666666,
          0.6534598214285714,
          0.5243464052287582,
          0.5525793650793651,
          0.5756120527306968,
          0.5408249158249159,
          0.5643939393939393,
          0.6179411764705882,
          0.6025757575757575,
          0.5732660455486542,
          0.64375,
          0.5388957307060755,
          0.6145276292335116,
          0.5756120527306968,
          0.49267547598749645,
          0.5340277777777778,
          0.4993464052287582,
          0.4993464052287582,
          0.5311194653299915,
          0.5756608639587363,
          0.6266741071428571,
          0.5575564971751412,
          0.6784598214285714,
          0.64375,
          0.6576923076923077,
          0.64375,
          0.6072916666666667,
          0.5756120527306968,
          0.6038461538461539,
          0.49267547598749645,
          0.7214552238805969,
          0.5163461538461538
         ],
         "yaxis": "y"
        },
        {
         "hovertemplate": "variable=training_acc<br>trial=%{x}<br>value=%{y}<extra></extra>",
         "legendgroup": "training_acc",
         "line": {
          "color": "#00cc96",
          "dash": "solid"
         },
         "mode": "lines",
         "name": "training_acc",
         "orientation": "v",
         "showlegend": true,
         "type": "scatter",
         "x": [
          0,
          1,
          2,
          3,
          4,
          5,
          6,
          7,
          8,
          9,
          10,
          11,
          12,
          13,
          14,
          15,
          16,
          17,
          18,
          19,
          20,
          21,
          22,
          23,
          24,
          25,
          26,
          27,
          28,
          29,
          30,
          31,
          32,
          33,
          34,
          35,
          36,
          37,
          38,
          39,
          40,
          41,
          42,
          43,
          44,
          45,
          46,
          47,
          48,
          49
         ],
         "xaxis": "x",
         "y": [
          0.7158088235294118,
          0.6970588235294117,
          0.6981617647058824,
          0.6922794117647059,
          0.7338235294117647,
          0.7150735294117647,
          0.6922794117647059,
          0.7216911764705882,
          0.6922794117647059,
          0.6922794117647059,
          0.7238970588235294,
          0.6970588235294117,
          0.7455882352941177,
          0.7393382352941177,
          0.6922794117647059,
          0.7397058823529411,
          0.7338235294117647,
          0.7455882352941177,
          0.7213235294117647,
          0.6922794117647059,
          0.7275735294117647,
          0.7330882352941177,
          0.7272058823529411,
          0.7393382352941177,
          0.7279411764705882,
          0.7227941176470589,
          0.7577205882352941,
          0.7286764705882354,
          0.7297794117647058,
          0.7455882352941177,
          0.7580882352941176,
          0.7213235294117647,
          0.7033088235294118,
          0.7033088235294118,
          0.7150735294117647,
          0.7150735294117647,
          0.7393382352941177,
          0.7158088235294118,
          0.7158088235294118,
          0.7393382352941177,
          0.6922794117647059,
          0.7360294117647059,
          0.7334558823529412,
          0.7360294117647059,
          0.7158088235294118,
          0.7150735294117647,
          0.7220588235294118,
          0.7091911764705883,
          0.7161764705882353,
          0.6970588235294117
         ],
         "yaxis": "y"
        }
       ],
       "layout": {
        "legend": {
         "title": {
          "text": "variable"
         },
         "tracegroupgap": 0
        },
        "margin": {
         "t": 60
        },
        "template": {
         "data": {
          "bar": [
           {
            "error_x": {
             "color": "#2a3f5f"
            },
            "error_y": {
             "color": "#2a3f5f"
            },
            "marker": {
             "line": {
              "color": "#E5ECF6",
              "width": 0.5
             }
            },
            "type": "bar"
           }
          ],
          "barpolar": [
           {
            "marker": {
             "line": {
              "color": "#E5ECF6",
              "width": 0.5
             }
            },
            "type": "barpolar"
           }
          ],
          "carpet": [
           {
            "aaxis": {
             "endlinecolor": "#2a3f5f",
             "gridcolor": "white",
             "linecolor": "white",
             "minorgridcolor": "white",
             "startlinecolor": "#2a3f5f"
            },
            "baxis": {
             "endlinecolor": "#2a3f5f",
             "gridcolor": "white",
             "linecolor": "white",
             "minorgridcolor": "white",
             "startlinecolor": "#2a3f5f"
            },
            "type": "carpet"
           }
          ],
          "choropleth": [
           {
            "colorbar": {
             "outlinewidth": 0,
             "ticks": ""
            },
            "type": "choropleth"
           }
          ],
          "contour": [
           {
            "colorbar": {
             "outlinewidth": 0,
             "ticks": ""
            },
            "colorscale": [
             [
              0,
              "#0d0887"
             ],
             [
              0.1111111111111111,
              "#46039f"
             ],
             [
              0.2222222222222222,
              "#7201a8"
             ],
             [
              0.3333333333333333,
              "#9c179e"
             ],
             [
              0.4444444444444444,
              "#bd3786"
             ],
             [
              0.5555555555555556,
              "#d8576b"
             ],
             [
              0.6666666666666666,
              "#ed7953"
             ],
             [
              0.7777777777777778,
              "#fb9f3a"
             ],
             [
              0.8888888888888888,
              "#fdca26"
             ],
             [
              1,
              "#f0f921"
             ]
            ],
            "type": "contour"
           }
          ],
          "contourcarpet": [
           {
            "colorbar": {
             "outlinewidth": 0,
             "ticks": ""
            },
            "type": "contourcarpet"
           }
          ],
          "heatmap": [
           {
            "colorbar": {
             "outlinewidth": 0,
             "ticks": ""
            },
            "colorscale": [
             [
              0,
              "#0d0887"
             ],
             [
              0.1111111111111111,
              "#46039f"
             ],
             [
              0.2222222222222222,
              "#7201a8"
             ],
             [
              0.3333333333333333,
              "#9c179e"
             ],
             [
              0.4444444444444444,
              "#bd3786"
             ],
             [
              0.5555555555555556,
              "#d8576b"
             ],
             [
              0.6666666666666666,
              "#ed7953"
             ],
             [
              0.7777777777777778,
              "#fb9f3a"
             ],
             [
              0.8888888888888888,
              "#fdca26"
             ],
             [
              1,
              "#f0f921"
             ]
            ],
            "type": "heatmap"
           }
          ],
          "heatmapgl": [
           {
            "colorbar": {
             "outlinewidth": 0,
             "ticks": ""
            },
            "colorscale": [
             [
              0,
              "#0d0887"
             ],
             [
              0.1111111111111111,
              "#46039f"
             ],
             [
              0.2222222222222222,
              "#7201a8"
             ],
             [
              0.3333333333333333,
              "#9c179e"
             ],
             [
              0.4444444444444444,
              "#bd3786"
             ],
             [
              0.5555555555555556,
              "#d8576b"
             ],
             [
              0.6666666666666666,
              "#ed7953"
             ],
             [
              0.7777777777777778,
              "#fb9f3a"
             ],
             [
              0.8888888888888888,
              "#fdca26"
             ],
             [
              1,
              "#f0f921"
             ]
            ],
            "type": "heatmapgl"
           }
          ],
          "histogram": [
           {
            "marker": {
             "colorbar": {
              "outlinewidth": 0,
              "ticks": ""
             }
            },
            "type": "histogram"
           }
          ],
          "histogram2d": [
           {
            "colorbar": {
             "outlinewidth": 0,
             "ticks": ""
            },
            "colorscale": [
             [
              0,
              "#0d0887"
             ],
             [
              0.1111111111111111,
              "#46039f"
             ],
             [
              0.2222222222222222,
              "#7201a8"
             ],
             [
              0.3333333333333333,
              "#9c179e"
             ],
             [
              0.4444444444444444,
              "#bd3786"
             ],
             [
              0.5555555555555556,
              "#d8576b"
             ],
             [
              0.6666666666666666,
              "#ed7953"
             ],
             [
              0.7777777777777778,
              "#fb9f3a"
             ],
             [
              0.8888888888888888,
              "#fdca26"
             ],
             [
              1,
              "#f0f921"
             ]
            ],
            "type": "histogram2d"
           }
          ],
          "histogram2dcontour": [
           {
            "colorbar": {
             "outlinewidth": 0,
             "ticks": ""
            },
            "colorscale": [
             [
              0,
              "#0d0887"
             ],
             [
              0.1111111111111111,
              "#46039f"
             ],
             [
              0.2222222222222222,
              "#7201a8"
             ],
             [
              0.3333333333333333,
              "#9c179e"
             ],
             [
              0.4444444444444444,
              "#bd3786"
             ],
             [
              0.5555555555555556,
              "#d8576b"
             ],
             [
              0.6666666666666666,
              "#ed7953"
             ],
             [
              0.7777777777777778,
              "#fb9f3a"
             ],
             [
              0.8888888888888888,
              "#fdca26"
             ],
             [
              1,
              "#f0f921"
             ]
            ],
            "type": "histogram2dcontour"
           }
          ],
          "mesh3d": [
           {
            "colorbar": {
             "outlinewidth": 0,
             "ticks": ""
            },
            "type": "mesh3d"
           }
          ],
          "parcoords": [
           {
            "line": {
             "colorbar": {
              "outlinewidth": 0,
              "ticks": ""
             }
            },
            "type": "parcoords"
           }
          ],
          "pie": [
           {
            "automargin": true,
            "type": "pie"
           }
          ],
          "scatter": [
           {
            "marker": {
             "colorbar": {
              "outlinewidth": 0,
              "ticks": ""
             }
            },
            "type": "scatter"
           }
          ],
          "scatter3d": [
           {
            "line": {
             "colorbar": {
              "outlinewidth": 0,
              "ticks": ""
             }
            },
            "marker": {
             "colorbar": {
              "outlinewidth": 0,
              "ticks": ""
             }
            },
            "type": "scatter3d"
           }
          ],
          "scattercarpet": [
           {
            "marker": {
             "colorbar": {
              "outlinewidth": 0,
              "ticks": ""
             }
            },
            "type": "scattercarpet"
           }
          ],
          "scattergeo": [
           {
            "marker": {
             "colorbar": {
              "outlinewidth": 0,
              "ticks": ""
             }
            },
            "type": "scattergeo"
           }
          ],
          "scattergl": [
           {
            "marker": {
             "colorbar": {
              "outlinewidth": 0,
              "ticks": ""
             }
            },
            "type": "scattergl"
           }
          ],
          "scattermapbox": [
           {
            "marker": {
             "colorbar": {
              "outlinewidth": 0,
              "ticks": ""
             }
            },
            "type": "scattermapbox"
           }
          ],
          "scatterpolar": [
           {
            "marker": {
             "colorbar": {
              "outlinewidth": 0,
              "ticks": ""
             }
            },
            "type": "scatterpolar"
           }
          ],
          "scatterpolargl": [
           {
            "marker": {
             "colorbar": {
              "outlinewidth": 0,
              "ticks": ""
             }
            },
            "type": "scatterpolargl"
           }
          ],
          "scatterternary": [
           {
            "marker": {
             "colorbar": {
              "outlinewidth": 0,
              "ticks": ""
             }
            },
            "type": "scatterternary"
           }
          ],
          "surface": [
           {
            "colorbar": {
             "outlinewidth": 0,
             "ticks": ""
            },
            "colorscale": [
             [
              0,
              "#0d0887"
             ],
             [
              0.1111111111111111,
              "#46039f"
             ],
             [
              0.2222222222222222,
              "#7201a8"
             ],
             [
              0.3333333333333333,
              "#9c179e"
             ],
             [
              0.4444444444444444,
              "#bd3786"
             ],
             [
              0.5555555555555556,
              "#d8576b"
             ],
             [
              0.6666666666666666,
              "#ed7953"
             ],
             [
              0.7777777777777778,
              "#fb9f3a"
             ],
             [
              0.8888888888888888,
              "#fdca26"
             ],
             [
              1,
              "#f0f921"
             ]
            ],
            "type": "surface"
           }
          ],
          "table": [
           {
            "cells": {
             "fill": {
              "color": "#EBF0F8"
             },
             "line": {
              "color": "white"
             }
            },
            "header": {
             "fill": {
              "color": "#C8D4E3"
             },
             "line": {
              "color": "white"
             }
            },
            "type": "table"
           }
          ]
         },
         "layout": {
          "annotationdefaults": {
           "arrowcolor": "#2a3f5f",
           "arrowhead": 0,
           "arrowwidth": 1
          },
          "autotypenumbers": "strict",
          "coloraxis": {
           "colorbar": {
            "outlinewidth": 0,
            "ticks": ""
           }
          },
          "colorscale": {
           "diverging": [
            [
             0,
             "#8e0152"
            ],
            [
             0.1,
             "#c51b7d"
            ],
            [
             0.2,
             "#de77ae"
            ],
            [
             0.3,
             "#f1b6da"
            ],
            [
             0.4,
             "#fde0ef"
            ],
            [
             0.5,
             "#f7f7f7"
            ],
            [
             0.6,
             "#e6f5d0"
            ],
            [
             0.7,
             "#b8e186"
            ],
            [
             0.8,
             "#7fbc41"
            ],
            [
             0.9,
             "#4d9221"
            ],
            [
             1,
             "#276419"
            ]
           ],
           "sequential": [
            [
             0,
             "#0d0887"
            ],
            [
             0.1111111111111111,
             "#46039f"
            ],
            [
             0.2222222222222222,
             "#7201a8"
            ],
            [
             0.3333333333333333,
             "#9c179e"
            ],
            [
             0.4444444444444444,
             "#bd3786"
            ],
            [
             0.5555555555555556,
             "#d8576b"
            ],
            [
             0.6666666666666666,
             "#ed7953"
            ],
            [
             0.7777777777777778,
             "#fb9f3a"
            ],
            [
             0.8888888888888888,
             "#fdca26"
            ],
            [
             1,
             "#f0f921"
            ]
           ],
           "sequentialminus": [
            [
             0,
             "#0d0887"
            ],
            [
             0.1111111111111111,
             "#46039f"
            ],
            [
             0.2222222222222222,
             "#7201a8"
            ],
            [
             0.3333333333333333,
             "#9c179e"
            ],
            [
             0.4444444444444444,
             "#bd3786"
            ],
            [
             0.5555555555555556,
             "#d8576b"
            ],
            [
             0.6666666666666666,
             "#ed7953"
            ],
            [
             0.7777777777777778,
             "#fb9f3a"
            ],
            [
             0.8888888888888888,
             "#fdca26"
            ],
            [
             1,
             "#f0f921"
            ]
           ]
          },
          "colorway": [
           "#636efa",
           "#EF553B",
           "#00cc96",
           "#ab63fa",
           "#FFA15A",
           "#19d3f3",
           "#FF6692",
           "#B6E880",
           "#FF97FF",
           "#FECB52"
          ],
          "font": {
           "color": "#2a3f5f"
          },
          "geo": {
           "bgcolor": "white",
           "lakecolor": "white",
           "landcolor": "#E5ECF6",
           "showlakes": true,
           "showland": true,
           "subunitcolor": "white"
          },
          "hoverlabel": {
           "align": "left"
          },
          "hovermode": "closest",
          "mapbox": {
           "style": "light"
          },
          "paper_bgcolor": "white",
          "plot_bgcolor": "#E5ECF6",
          "polar": {
           "angularaxis": {
            "gridcolor": "white",
            "linecolor": "white",
            "ticks": ""
           },
           "bgcolor": "#E5ECF6",
           "radialaxis": {
            "gridcolor": "white",
            "linecolor": "white",
            "ticks": ""
           }
          },
          "scene": {
           "xaxis": {
            "backgroundcolor": "#E5ECF6",
            "gridcolor": "white",
            "gridwidth": 2,
            "linecolor": "white",
            "showbackground": true,
            "ticks": "",
            "zerolinecolor": "white"
           },
           "yaxis": {
            "backgroundcolor": "#E5ECF6",
            "gridcolor": "white",
            "gridwidth": 2,
            "linecolor": "white",
            "showbackground": true,
            "ticks": "",
            "zerolinecolor": "white"
           },
           "zaxis": {
            "backgroundcolor": "#E5ECF6",
            "gridcolor": "white",
            "gridwidth": 2,
            "linecolor": "white",
            "showbackground": true,
            "ticks": "",
            "zerolinecolor": "white"
           }
          },
          "shapedefaults": {
           "line": {
            "color": "#2a3f5f"
           }
          },
          "ternary": {
           "aaxis": {
            "gridcolor": "white",
            "linecolor": "white",
            "ticks": ""
           },
           "baxis": {
            "gridcolor": "white",
            "linecolor": "white",
            "ticks": ""
           },
           "bgcolor": "#E5ECF6",
           "caxis": {
            "gridcolor": "white",
            "linecolor": "white",
            "ticks": ""
           }
          },
          "title": {
           "x": 0.05
          },
          "xaxis": {
           "automargin": true,
           "gridcolor": "white",
           "linecolor": "white",
           "ticks": "",
           "title": {
            "standoff": 15
           },
           "zerolinecolor": "white",
           "zerolinewidth": 2
          },
          "yaxis": {
           "automargin": true,
           "gridcolor": "white",
           "linecolor": "white",
           "ticks": "",
           "title": {
            "standoff": 15
           },
           "zerolinecolor": "white",
           "zerolinewidth": 2
          }
         }
        },
        "xaxis": {
         "anchor": "y",
         "domain": [
          0,
          1
         ],
         "title": {
          "text": "trial"
         }
        },
        "yaxis": {
         "anchor": "x",
         "domain": [
          0,
          1
         ],
         "title": {
          "text": "value"
         }
        }
       }
      }
     },
     "metadata": {},
     "output_type": "display_data"
    }
   ],
   "source": [
    "import plotly.express as px\n",
    "px.line(svm_df,x='trial',y=['accuracy','macro_accuracy','training_acc'])"
   ]
  },
  {
   "cell_type": "code",
   "execution_count": 79,
   "metadata": {},
   "outputs": [
    {
     "data": {
      "text/plain": [
       "Index(['trial', 'accuracy', 'macro_accuracy', 'confusion_matrix', 'params',\n",
       "       'cv_acc', 'cv_std'],\n",
       "      dtype='object')"
      ]
     },
     "execution_count": 79,
     "metadata": {},
     "output_type": "execute_result"
    }
   ],
   "source": [
    "svm_df.columns"
   ]
  },
  {
   "cell_type": "code",
   "execution_count": 89,
   "metadata": {},
   "outputs": [
    {
     "name": "stdout",
     "output_type": "stream",
     "text": [
      "trial  -  19\n",
      "accuracy  -  0.7073170731707317\n",
      "macro_accuracy  -  0.6382575757575757\n",
      "confusion_matrix  -  [[ 6  0  0  4]\n",
      " [ 1  4  0  5]\n",
      " [ 1  0  7  2]\n",
      " [ 5  2  4 41]]\n",
      "params  -  {'kernel': 'poly', 'gamma': 'scale', 'degree': 4, 'decision_function_shape': 'ovr', 'coef0': 1.7000000000000002, 'C': 1.0443952964253729}\n",
      "cv_acc  -  0.7454545454545455\n",
      "cv_std  -  0.03636363636363633\n"
     ]
    }
   ],
   "source": [
    "\n",
    "for col in svm_df.columns:\n",
    "    #print(col)\n",
    "    #print(svm_df[svm_df['macro_accuracy'] == 0.6382575757575757][col].values[0])\n",
    "    print(col ,' - ', svm_df[svm_df['macro_accuracy'] == 0.6382575757575757][col].values[0])"
   ]
  },
  {
   "cell_type": "code",
   "execution_count": 123,
   "metadata": {},
   "outputs": [
    {
     "name": "stdout",
     "output_type": "stream",
     "text": [
      "[6 0 0 4]\n",
      "[1 4 0 5]\n",
      "[1 0 7 2]\n",
      "[ 5  2  4 41]\n"
     ]
    }
   ],
   "source": [
    "for ele in np.array([[ 6, 0, 0, 4],[ 1, 4, 0, 5],[ 1, 0, 7, 2],[ 5, 2, 4,41]]):\n",
    "    print(ele)"
   ]
  },
  {
   "cell_type": "code",
   "execution_count": 122,
   "metadata": {},
   "outputs": [
    {
     "data": {
      "text/plain": [
       "array([[ 0,  1,  0,  7],\n",
       "       [ 0,  0,  1,  8],\n",
       "       [ 0,  0,  2,  9],\n",
       "       [ 4,  3,  4, 43]])"
      ]
     },
     "execution_count": 122,
     "metadata": {},
     "output_type": "execute_result"
    }
   ],
   "source": [
    "cm"
   ]
  },
  {
   "cell_type": "code",
   "execution_count": 124,
   "metadata": {},
   "outputs": [
    {
     "data": {
      "text/plain": [
       "array([[ 6,  0,  0,  4],\n",
       "       [ 1,  4,  0,  5],\n",
       "       [ 1,  0,  7,  2],\n",
       "       [ 5,  2,  4, 41]])"
      ]
     },
     "execution_count": 124,
     "metadata": {},
     "output_type": "execute_result"
    }
   ],
   "source": [
    "np.array([[ 6, 0, 0, 4],[ 1, 4, 0, 5],[ 1, 0, 7, 2],[ 5, 2, 4,41]])"
   ]
  },
  {
   "cell_type": "code",
   "execution_count": 132,
   "metadata": {},
   "outputs": [
    {
     "data": {
      "text/html": [
       "<div>\n",
       "<style scoped>\n",
       "    .dataframe tbody tr th:only-of-type {\n",
       "        vertical-align: middle;\n",
       "    }\n",
       "\n",
       "    .dataframe tbody tr th {\n",
       "        vertical-align: top;\n",
       "    }\n",
       "\n",
       "    .dataframe thead th {\n",
       "        text-align: right;\n",
       "    }\n",
       "</style>\n",
       "<table border=\"1\" class=\"dataframe\">\n",
       "  <thead>\n",
       "    <tr style=\"text-align: right;\">\n",
       "      <th></th>\n",
       "      <th>a</th>\n",
       "    </tr>\n",
       "    <tr>\n",
       "      <th>0</th>\n",
       "      <th></th>\n",
       "    </tr>\n",
       "  </thead>\n",
       "  <tbody>\n",
       "    <tr>\n",
       "      <th>funk</th>\n",
       "      <td>8</td>\n",
       "    </tr>\n",
       "    <tr>\n",
       "      <th>hiphop</th>\n",
       "      <td>9</td>\n",
       "    </tr>\n",
       "    <tr>\n",
       "      <th>jazz</th>\n",
       "      <td>11</td>\n",
       "    </tr>\n",
       "    <tr>\n",
       "      <th>rock</th>\n",
       "      <td>54</td>\n",
       "    </tr>\n",
       "  </tbody>\n",
       "</table>\n",
       "</div>"
      ],
      "text/plain": [
       "         a\n",
       "0         \n",
       "funk     8\n",
       "hiphop   9\n",
       "jazz    11\n",
       "rock    54"
      ]
     },
     "execution_count": 132,
     "metadata": {},
     "output_type": "execute_result"
    }
   ],
   "source": [
    "t=pd.DataFrame(y_test)\n",
    "t['a']=''\n",
    "t.groupby(0).count()\n"
   ]
  },
  {
   "cell_type": "code",
   "execution_count": 133,
   "metadata": {},
   "outputs": [
    {
     "data": {
      "text/html": [
       "<div>\n",
       "<style scoped>\n",
       "    .dataframe tbody tr th:only-of-type {\n",
       "        vertical-align: middle;\n",
       "    }\n",
       "\n",
       "    .dataframe tbody tr th {\n",
       "        vertical-align: top;\n",
       "    }\n",
       "\n",
       "    .dataframe thead th {\n",
       "        text-align: right;\n",
       "    }\n",
       "</style>\n",
       "<table border=\"1\" class=\"dataframe\">\n",
       "  <thead>\n",
       "    <tr style=\"text-align: right;\">\n",
       "      <th></th>\n",
       "      <th>a</th>\n",
       "    </tr>\n",
       "    <tr>\n",
       "      <th>0</th>\n",
       "      <th></th>\n",
       "    </tr>\n",
       "  </thead>\n",
       "  <tbody>\n",
       "    <tr>\n",
       "      <th>funk</th>\n",
       "      <td>6</td>\n",
       "    </tr>\n",
       "    <tr>\n",
       "      <th>hiphop</th>\n",
       "      <td>3</td>\n",
       "    </tr>\n",
       "    <tr>\n",
       "      <th>jazz</th>\n",
       "      <td>8</td>\n",
       "    </tr>\n",
       "    <tr>\n",
       "      <th>rock</th>\n",
       "      <td>65</td>\n",
       "    </tr>\n",
       "  </tbody>\n",
       "</table>\n",
       "</div>"
      ],
      "text/plain": [
       "         a\n",
       "0         \n",
       "funk     6\n",
       "hiphop   3\n",
       "jazz     8\n",
       "rock    65"
      ]
     },
     "execution_count": 133,
     "metadata": {},
     "output_type": "execute_result"
    }
   ],
   "source": [
    "t=pd.DataFrame(y_prediction)\n",
    "t['a']=''\n",
    "t.groupby(0).count()"
   ]
  },
  {
   "cell_type": "code",
   "execution_count": null,
   "metadata": {},
   "outputs": [],
   "source": []
  }
 ],
 "metadata": {
  "interpreter": {
   "hash": "aee8b7b246df8f9039afb4144a1f6fd8d2ca17a180786b69acc140d282b71a49"
  },
  "kernelspec": {
   "display_name": "Python 3.9.7 64-bit",
   "name": "python3"
  },
  "language_info": {
   "codemirror_mode": {
    "name": "ipython",
    "version": 3
   },
   "file_extension": ".py",
   "mimetype": "text/x-python",
   "name": "python",
   "nbconvert_exporter": "python",
   "pygments_lexer": "ipython3",
   "version": "3.9.7"
  },
  "orig_nbformat": 4
 },
 "nbformat": 4,
 "nbformat_minor": 2
}
