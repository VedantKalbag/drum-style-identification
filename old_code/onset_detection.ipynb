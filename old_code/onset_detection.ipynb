{
 "cells": [
  {
   "cell_type": "code",
   "execution_count": 47,
   "metadata": {},
   "outputs": [],
   "source": [
    "import plotly.express as px\n",
    "\n",
    "import math\n",
    "import numpy as np\n",
    "import matplotlib.pyplot as plt\n",
    "import scipy.signal\n",
    "from scipy.io.wavfile import read as wavread\n",
    "def ToolReadAudio(cAudioFilePath):    \n",
    "    [samplerate, x] = wavread(cAudioFilePath)    \n",
    "    if x.dtype == 'float32':        \n",
    "        audio = x    \n",
    "    else:        \n",
    "        # change range to [-1,1)        \n",
    "        if x.dtype == 'uint8':            \n",
    "            nbits = 8        \n",
    "        elif x.dtype == 'int16':            \n",
    "            nbits = 16        \n",
    "        elif x.dtype == 'int32':            \n",
    "            nbits = 32        \n",
    "        audio = x / float(2**(nbits - 1))    \n",
    "        # special case of unsigned format    \n",
    "    if x.dtype == 'uint8':        \n",
    "        audio = audio - 1.    \n",
    "    return (samplerate, audio)"
   ]
  },
  {
   "cell_type": "code",
   "execution_count": 3,
   "metadata": {},
   "outputs": [],
   "source": [
    "relevant_genres = ['funk', 'hiphop', 'jazz', 'rock']\n",
    "\n",
    "import pandas as pd\n",
    "info = pd.read_csv('./groove/info.csv')\n",
    "#df=info[info['style'].isin(relevant_genres)]\n",
    "\n",
    "#df.pivot(index='style', columns='beat_type', values='audio_filename')\n",
    "df = pd.pivot_table(info, values='audio_filename', index=['style'],\n",
    "                    columns=['beat_type'], aggfunc='count')\n",
    "#df[df['beat'] >= 20]\n",
    "\n",
    "info = info[info['style'].isin(relevant_genres)]\n",
    "info = info[info['beat_type'] == \"beat\"]\n",
    "info = info[info['audio_filename'].notna()].reset_index()\n",
    "#locs = info['audio_filename'].to_numpy()\n"
   ]
  },
  {
   "cell_type": "code",
   "execution_count": 4,
   "metadata": {},
   "outputs": [
    {
     "name": "stderr",
     "output_type": "stream",
     "text": [
      "<ipython-input-2-a414e5f47eb1>:6: WavFileWarning: Chunk (non-data) not understood, skipping it.\n",
      "  [samplerate, x] = wavread(cAudioFilePath)\n"
     ]
    },
    {
     "data": {
      "text/plain": [
       "2"
      ]
     },
     "execution_count": 4,
     "metadata": {},
     "output_type": "execute_result"
    }
   ],
   "source": [
    "sr,audio = ToolReadAudio('./groove/'+'drummer1/session1/1_funk_80_beat_4-4.wav')\n",
    "audio.shape[-1]"
   ]
  },
  {
   "cell_type": "code",
   "execution_count": 48,
   "metadata": {},
   "outputs": [],
   "source": [
    "def block_audio(x,blockSize,hopSize,fs):    \n",
    "    # allocate memory    \n",
    "    numBlocks = math.ceil(x.size / hopSize)    \n",
    "    xb = np.zeros([numBlocks, blockSize])    \n",
    "    # compute time stamps    \n",
    "    t = (np.arange(0, numBlocks) * hopSize) / fs   \n",
    "    x = np.concatenate((x, np.zeros(blockSize)),axis=0)    \n",
    "    for n in range(0, numBlocks):        \n",
    "        i_start = n * hopSize        \n",
    "        i_stop = np.min([x.size - 1, i_start + blockSize - 1])        \n",
    "        xb[n][np.arange(0,blockSize)] = x[np.arange(i_start, i_stop + 1)]    \n",
    "    return (xb,t)"
   ]
  },
  {
   "cell_type": "code",
   "execution_count": 81,
   "metadata": {},
   "outputs": [],
   "source": [
    "nsecs = 1\n",
    "xb,t = block_audio(x,int(nsecs*sr),int(nsecs*sr/2),sr)"
   ]
  },
  {
   "cell_type": "code",
   "execution_count": 110,
   "metadata": {},
   "outputs": [],
   "source": [
    "def get_novelty(xb):\n",
    "    N = 2048#xb.shape[1]\n",
    "    w = scipy.signal.hann(N)\n",
    "    novelty=np.zeros([xb.shape[0],xb.shape[1]])\n",
    "    for i in range(xb.shape[0]):\n",
    "        xb_square = xb[i]**2\n",
    "        energy_local = np.convolve(xb_square, w**2, 'same')\n",
    "        energy_local_diff = np.diff(energy_local)\n",
    "        energy_local_diff = np.concatenate((energy_local_diff, np.array([0])))\n",
    "        novelty_energy = np.copy(energy_local_diff)\n",
    "        novelty_energy[energy_local_diff < 0] = 0\n",
    "        novelty[i] = novelty_energy\n",
    "    return novelty\n",
    "def get_num_onsets(novelty,thresh):\n",
    "    onsets=np.zeros(novelty.shape[0])\n",
    "    for i in range(novelty.shape[0]):\n",
    "        p = scipy.signal.find_peaks(novelty[i])[0]\n",
    "        onsets[i]=(novelty[i][p] >= thresh).sum()\n",
    "    return onsets\n",
    "def get_onset_data(xb,threshold):\n",
    "    novelty=get_novelty(xb)\n",
    "    onsets = get_num_onsets(novelty,threshold)\n",
    "    return onsets#, (onsets/durationInSecs)\n"
   ]
  },
  {
   "cell_type": "code",
   "execution_count": 125,
   "metadata": {},
   "outputs": [],
   "source": [
    "n=get_novelty(xb)\n",
    "o=get_num_onsets(n,0.001)"
   ]
  },
  {
   "cell_type": "code",
   "execution_count": 126,
   "metadata": {},
   "outputs": [
    {
     "data": {
      "text/plain": [
       "array([0., 0., 0., 1., 2., 2., 2., 1., 1., 3., 3., 2., 3., 2., 1., 2., 1.,\n",
       "       1., 3., 2., 1., 3., 2., 1., 3., 3., 1., 2., 3., 2., 3., 4., 2., 3.,\n",
       "       3., 2., 3., 3., 2., 3., 4., 3., 3., 2., 1., 3., 3., 2., 1., 1., 2.,\n",
       "       3., 3., 2., 2., 1., 1., 2., 3., 3., 2., 2., 2., 3., 3., 2., 3., 2.,\n",
       "       1., 3., 3., 2., 3., 3., 2., 2., 2., 2., 2., 1., 1., 3., 3., 2., 3.,\n",
       "       3., 2., 2., 2., 2., 2., 1., 0., 2., 4., 2., 2., 2., 1., 3., 4., 2.,\n",
       "       2., 2., 0., 3., 5., 3., 3., 3., 1., 2., 4., 3., 3., 4., 2., 2., 4.,\n",
       "       3., 3., 4., 3., 3., 4., 3., 3., 3., 2., 3., 3., 2., 3., 3., 2., 3.,\n",
       "       3., 2., 3., 3., 2., 3., 3., 2., 3., 3., 2., 2., 3., 4., 4., 3., 2.,\n",
       "       3., 3., 2., 3., 3., 2., 3., 3., 2., 2., 1., 1., 3., 3., 2., 3., 2.,\n",
       "       1., 3., 5., 3.])"
      ]
     },
     "execution_count": 126,
     "metadata": {},
     "output_type": "execute_result"
    }
   ],
   "source": [
    "get_onset_data(xb,0.001)"
   ]
  },
  {
   "cell_type": "code",
   "execution_count": 127,
   "metadata": {},
   "outputs": [
    {
     "data": {
      "text/plain": [
       "2.3850574712643677"
      ]
     },
     "execution_count": 127,
     "metadata": {},
     "output_type": "execute_result"
    }
   ],
   "source": [
    "np.mean(o)"
   ]
  },
  {
   "cell_type": "code",
   "execution_count": 128,
   "metadata": {},
   "outputs": [
    {
     "data": {
      "text/plain": [
       "0.9321867426293056"
      ]
     },
     "execution_count": 128,
     "metadata": {},
     "output_type": "execute_result"
    }
   ],
   "source": [
    "np.std(o)"
   ]
  },
  {
   "cell_type": "code",
   "execution_count": 44,
   "metadata": {},
   "outputs": [
    {
     "name": "stderr",
     "output_type": "stream",
     "text": [
      "<ipython-input-42-c4b24d39d73e>:8: WavFileWarning:\n",
      "\n",
      "Chunk (non-data) not understood, skipping it.\n",
      "\n",
      "<ipython-input-44-771846dd385f>:8: SettingWithCopyWarning:\n",
      "\n",
      "\n",
      "A value is trying to be set on a copy of a slice from a DataFrame\n",
      "\n",
      "See the caveats in the documentation: https://pandas.pydata.org/pandas-docs/stable/user_guide/indexing.html#returning-a-view-versus-a-copy\n",
      "\n",
      "<ipython-input-44-771846dd385f>:10: SettingWithCopyWarning:\n",
      "\n",
      "\n",
      "A value is trying to be set on a copy of a slice from a DataFrame\n",
      "\n",
      "See the caveats in the documentation: https://pandas.pydata.org/pandas-docs/stable/user_guide/indexing.html#returning-a-view-versus-a-copy\n",
      "\n"
     ]
    },
    {
     "name": "stdout",
     "output_type": "stream",
     "text": [
      "Error, dropping row\n",
      "size of info is now: 250\n",
      "Error, dropping row\n",
      "size of info is now: 249\n",
      "Error, dropping row\n",
      "size of info is now: 248\n",
      "Error, dropping row\n",
      "size of info is now: 247\n"
     ]
    }
   ],
   "source": [
    "info['audio'] = ''\n",
    "for index, row in info.iterrows():\n",
    "    #if index % 10 == 0:\n",
    "        #print(index)\n",
    "    try:\n",
    "        sr,audio = ToolReadAudio('./groove/'+row['audio_filename'])\n",
    "        if audio.shape[-1] == 2:\n",
    "            info['audio'][index] = np.mean(audio,axis=1)\n",
    "        else:\n",
    "            info['audio'][index] = audio\n",
    "        #info['audio'][index] = audio\n",
    "    except Exception as e: # Some files are unable to be read by scipy's wavfile read, so skipping them and removing the corresponding rows\n",
    "        info.drop(index,inplace=True)\n",
    "        #print(e)\n",
    "        \n",
    "        print(\"Error, dropping row\")\n",
    "        print(f\"size of info is now: {len(info)}\")\n",
    "info.reset_index(drop=True, inplace=True)\n",
    "info.drop('index',axis=1,inplace=True)"
   ]
  },
  {
   "cell_type": "code",
   "execution_count": null,
   "metadata": {},
   "outputs": [],
   "source": []
  }
 ],
 "metadata": {
  "interpreter": {
   "hash": "aee8b7b246df8f9039afb4144a1f6fd8d2ca17a180786b69acc140d282b71a49"
  },
  "kernelspec": {
   "display_name": "Python 3.9.7 64-bit",
   "language": "python",
   "name": "python3"
  },
  "language_info": {
   "codemirror_mode": {
    "name": "ipython",
    "version": 3
   },
   "file_extension": ".py",
   "mimetype": "text/x-python",
   "name": "python",
   "nbconvert_exporter": "python",
   "pygments_lexer": "ipython3",
   "version": "3.9.7"
  },
  "orig_nbformat": 4
 },
 "nbformat": 4,
 "nbformat_minor": 2
}
