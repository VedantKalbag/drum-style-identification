{
 "cells": [
  {
   "cell_type": "code",
   "execution_count": 2,
   "source": [
    "from mido import MidiFile\n",
    "import os\n",
    "import pandas as pd"
   ],
   "outputs": [],
   "metadata": {}
  },
  {
   "cell_type": "code",
   "execution_count": 1,
   "source": [
    "path = './lmd_matched/A/A/A/TRAAAZF12903CCCF6B/'\n",
    "l = []\n",
    "for file_name in os.listdir(path):\n",
    "    if file_name.endswith(\".mid\"):\n",
    "        mid = MidiFile(path+file_name, clip=True)\n",
    "\n",
    "        for ele in mid.tracks:\n",
    "            #print(ele.name) \n",
    "            if ele.name in ['DRUMS','Drums','drums']:\n",
    "                print(\"DRUMS FOUND\")\n",
    "                l.append([path,file_name,ele.name])\n",
    "        #print(mid)"
   ],
   "outputs": [
    {
     "output_type": "error",
     "ename": "NameError",
     "evalue": "name 'MidiFile' is not defined",
     "traceback": [
      "\u001b[0;31m---------------------------------------------------------------------------\u001b[0m",
      "\u001b[0;31mNameError\u001b[0m                                 Traceback (most recent call last)",
      "\u001b[0;32m<ipython-input-1-8357ee432468>\u001b[0m in \u001b[0;36m<module>\u001b[0;34m\u001b[0m\n\u001b[1;32m      3\u001b[0m \u001b[0;32mfor\u001b[0m \u001b[0mfile_name\u001b[0m \u001b[0;32min\u001b[0m \u001b[0mos\u001b[0m\u001b[0;34m.\u001b[0m\u001b[0mlistdir\u001b[0m\u001b[0;34m(\u001b[0m\u001b[0mpath\u001b[0m\u001b[0;34m)\u001b[0m\u001b[0;34m:\u001b[0m\u001b[0;34m\u001b[0m\u001b[0;34m\u001b[0m\u001b[0m\n\u001b[1;32m      4\u001b[0m     \u001b[0;32mif\u001b[0m \u001b[0mfile_name\u001b[0m\u001b[0;34m.\u001b[0m\u001b[0mendswith\u001b[0m\u001b[0;34m(\u001b[0m\u001b[0;34m\".mid\"\u001b[0m\u001b[0;34m)\u001b[0m\u001b[0;34m:\u001b[0m\u001b[0;34m\u001b[0m\u001b[0;34m\u001b[0m\u001b[0m\n\u001b[0;32m----> 5\u001b[0;31m         \u001b[0mmid\u001b[0m \u001b[0;34m=\u001b[0m \u001b[0mMidiFile\u001b[0m\u001b[0;34m(\u001b[0m\u001b[0mpath\u001b[0m\u001b[0;34m+\u001b[0m\u001b[0mfile_name\u001b[0m\u001b[0;34m,\u001b[0m \u001b[0mclip\u001b[0m\u001b[0;34m=\u001b[0m\u001b[0;32mTrue\u001b[0m\u001b[0;34m)\u001b[0m\u001b[0;34m\u001b[0m\u001b[0;34m\u001b[0m\u001b[0m\n\u001b[0m\u001b[1;32m      6\u001b[0m \u001b[0;34m\u001b[0m\u001b[0m\n\u001b[1;32m      7\u001b[0m         \u001b[0;32mfor\u001b[0m \u001b[0mele\u001b[0m \u001b[0;32min\u001b[0m \u001b[0mmid\u001b[0m\u001b[0;34m.\u001b[0m\u001b[0mtracks\u001b[0m\u001b[0;34m:\u001b[0m\u001b[0;34m\u001b[0m\u001b[0;34m\u001b[0m\u001b[0m\n",
      "\u001b[0;31mNameError\u001b[0m: name 'MidiFile' is not defined"
     ]
    }
   ],
   "metadata": {}
  },
  {
   "cell_type": "code",
   "execution_count": 29,
   "source": [
    "l"
   ],
   "outputs": [
    {
     "output_type": "execute_result",
     "data": {
      "text/plain": [
       "[['./lmd_matched/A/A/A/TRAAAZF12903CCCF6B/',\n",
       "  '05f21994c71a5f881e64f45c8d706165.mid',\n",
       "  'DRUMS'],\n",
       " ['./lmd_matched/A/A/A/TRAAAZF12903CCCF6B/',\n",
       "  '6304d2bba4282f8bd74322828c30f0c7.mid',\n",
       "  'Drums']]"
      ]
     },
     "metadata": {},
     "execution_count": 29
    }
   ],
   "metadata": {}
  },
  {
   "cell_type": "code",
   "execution_count": 20,
   "source": [
    "'Drums'.lower()"
   ],
   "outputs": [
    {
     "output_type": "execute_result",
     "data": {
      "text/plain": [
       "'drums'"
      ]
     },
     "metadata": {},
     "execution_count": 20
    }
   ],
   "metadata": {}
  },
  {
   "cell_type": "code",
   "execution_count": 1,
   "source": [
    "from mido import MidiFile\n",
    "import os\n",
    "path = './lmd_matched'\n",
    "threshold = 3\n",
    "l = []\n",
    "for lv_1 in os.listdir(path):\n",
    "    if lv_1!= '.DS_Store':\n",
    "        for lv_2 in os.listdir(path+'/'+lv_1):\n",
    "            if lv_2!= '.DS_Store':\n",
    "                for lv_3 in os.listdir(path+'/'+lv_1+'/'+lv_2):\n",
    "                    if lv_3!= '.DS_Store':\n",
    "                        for lv_4 in os.listdir(path+'/'+lv_1+'/'+lv_2+'/'+lv_3):\n",
    "                            if lv_4!= '.DS_Store':\n",
    "                                for file_name in os.listdir(path+'/'+lv_1+'/'+lv_2+'/'+lv_3+'/'+lv_4):\n",
    "                                    if file_name.endswith(\".mid\"):\n",
    "                                        p=path+'/'+lv_1+'/'+lv_2+'/'+lv_3+'/'+lv_4+'/'\n",
    "                                        try:\n",
    "                                            mid = MidiFile(p+file_name, clip=True)\n",
    "\n",
    "                                            for ele in mid.tracks:\n",
    "                                                #print(ele.name) \n",
    "                                                if ele.name.lower() in ['drums','percussion']:\n",
    "                                                    print(\"DRUMS FOUND\")\n",
    "                                                    df=pd.DataFrame()\n",
    "\n",
    "                                                    events = ele.tracks[1]\n",
    "                                                    #events\n",
    "                                                    channel=[]\n",
    "                                                    note=[]\n",
    "                                                    velocity=[]\n",
    "                                                    time=[]\n",
    "                                                    for event in events:\n",
    "                                                        if event.type == 'note_on':\n",
    "                                                            channel.append(event.channel)\n",
    "                                                            note.append(event.note)\n",
    "                                                            velocity.append(event.velocity)\n",
    "                                                            time.append(event.time)\n",
    "\n",
    "                                                    df['channel'] = channel\n",
    "                                                    df['note'] = note\n",
    "                                                    df['velocity']  = velocity\n",
    "                                                    df['time'] = time\n",
    "\n",
    "                                                    for note in df['note'].unique():\n",
    "                                                        if len(df[df['note'] == note]['velocity'].unique()) >= threshold:\n",
    "                                                            print('unique values')\n",
    "                                                            l.append([p,file_name,ele.name])\n",
    "                                                    \n",
    "                                            #print(mid)\n",
    "                                        except:\n",
    "                                            continue"
   ],
   "outputs": [
    {
     "output_type": "stream",
     "name": "stdout",
     "text": [
      "DRUMS FOUND\n",
      "DRUMS FOUND\n",
      "DRUMS FOUND\n",
      "DRUMS FOUND\n",
      "DRUMS FOUND\n",
      "DRUMS FOUND\n",
      "DRUMS FOUND\n",
      "DRUMS FOUND\n",
      "DRUMS FOUND\n",
      "DRUMS FOUND\n",
      "DRUMS FOUND\n",
      "DRUMS FOUND\n",
      "DRUMS FOUND\n",
      "DRUMS FOUND\n",
      "DRUMS FOUND\n",
      "DRUMS FOUND\n",
      "DRUMS FOUND\n",
      "DRUMS FOUND\n",
      "DRUMS FOUND\n",
      "DRUMS FOUND\n",
      "DRUMS FOUND\n",
      "DRUMS FOUND\n",
      "DRUMS FOUND\n",
      "DRUMS FOUND\n",
      "DRUMS FOUND\n",
      "DRUMS FOUND\n",
      "DRUMS FOUND\n",
      "DRUMS FOUND\n",
      "DRUMS FOUND\n",
      "DRUMS FOUND\n",
      "DRUMS FOUND\n",
      "DRUMS FOUND\n",
      "DRUMS FOUND\n"
     ]
    }
   ],
   "metadata": {}
  },
  {
   "cell_type": "code",
   "execution_count": 3,
   "source": [
    "loc='./lmd_matched/R/R/I/TRRRILD128F92CB682/'\n",
    "file_name= 'c74a105b542df0780a95d7b525cbc782.mid'\n",
    "f = MidiFile(loc+file_name, clip=True)"
   ],
   "outputs": [],
   "metadata": {}
  },
  {
   "cell_type": "code",
   "execution_count": 8,
   "source": [
    "\n"
   ],
   "outputs": [],
   "metadata": {}
  },
  {
   "cell_type": "code",
   "execution_count": 25,
   "source": [],
   "outputs": [],
   "metadata": {}
  },
  {
   "cell_type": "code",
   "execution_count": 16,
   "source": [
    "df['note'].unique()"
   ],
   "outputs": [
    {
     "output_type": "execute_result",
     "data": {
      "text/plain": [
       "array([42, 36, 37, 49, 46, 38, 50, 47, 43])"
      ]
     },
     "metadata": {},
     "execution_count": 16
    }
   ],
   "metadata": {}
  },
  {
   "cell_type": "code",
   "execution_count": 26,
   "source": [
    "len(df[df['note'] == 36]['velocity'].unique())"
   ],
   "outputs": [
    {
     "output_type": "execute_result",
     "data": {
      "text/plain": [
       "3"
      ]
     },
     "metadata": {},
     "execution_count": 26
    }
   ],
   "metadata": {}
  },
  {
   "cell_type": "code",
   "execution_count": 34,
   "source": [
    "df[df['note'] == 43]['velocity'].unique()"
   ],
   "outputs": [
    {
     "output_type": "execute_result",
     "data": {
      "text/plain": [
       "array([95,  0])"
      ]
     },
     "metadata": {},
     "execution_count": 34
    }
   ],
   "metadata": {}
  },
  {
   "cell_type": "code",
   "execution_count": null,
   "source": [],
   "outputs": [],
   "metadata": {}
  }
 ],
 "metadata": {
  "orig_nbformat": 4,
  "language_info": {
   "name": "python",
   "version": "3.9.7",
   "mimetype": "text/x-python",
   "codemirror_mode": {
    "name": "ipython",
    "version": 3
   },
   "pygments_lexer": "ipython3",
   "nbconvert_exporter": "python",
   "file_extension": ".py"
  },
  "kernelspec": {
   "name": "python3",
   "display_name": "Python 3.9.7 64-bit"
  },
  "interpreter": {
   "hash": "aee8b7b246df8f9039afb4144a1f6fd8d2ca17a180786b69acc140d282b71a49"
  }
 },
 "nbformat": 4,
 "nbformat_minor": 2
}