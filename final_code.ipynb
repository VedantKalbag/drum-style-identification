{
 "cells": [
  {
   "cell_type": "markdown",
   "metadata": {},
   "source": [
    "Imports"
   ]
  },
  {
   "cell_type": "code",
   "execution_count": 23,
   "metadata": {},
   "outputs": [],
   "source": [
    "import os\n",
    "import numpy as np\n",
    "import scipy\n",
    "from scipy.io import wavfile\n",
    "import scipy.fftpack as fft\n",
    "from scipy.signal import get_window\n",
    "import matplotlib.pyplot as plt\n",
    "import math\n",
    "import librosa\n",
    "import pandas as pd\n",
    "\n",
    "from sklearn.model_selection import train_test_split\n",
    "from sklearn.neighbors import KNeighborsClassifier\n",
    "from sklearn.svm import SVC\n",
    "from sklearn.ensemble import RandomForestClassifier\n",
    "from sklearn.metrics import confusion_matrix\n",
    "from sklearn.metrics import balanced_accuracy_score,f1_score\n",
    "from sklearn.model_selection import cross_validate\n",
    "from sklearn.preprocessing import StandardScaler\n",
    "from sklearn.pipeline import make_pipeline\n",
    "from sklearn.metrics import accuracy_score\n",
    "import warnings\n",
    "from sklearn.exceptions import DataConversionWarning\n",
    "from sklearn.model_selection import RandomizedSearchCV"
   ]
  },
  {
   "cell_type": "markdown",
   "metadata": {},
   "source": [
    "# Audio Load, Feature Extraction"
   ]
  },
  {
   "cell_type": "code",
   "execution_count": 72,
   "metadata": {},
   "outputs": [],
   "source": [
    "relevant_genres = ['funk', 'hiphop', 'jazz', 'rock']"
   ]
  },
  {
   "cell_type": "code",
   "execution_count": 73,
   "metadata": {},
   "outputs": [],
   "source": [
    "from scipy.io.wavfile import read as wavread\n",
    "def ToolReadAudio(cAudioFilePath):    \n",
    "    [samplerate, x] = wavread(cAudioFilePath)    \n",
    "    if x.dtype == 'float32':        \n",
    "        audio = x    \n",
    "    else:        \n",
    "        # change range to [-1,1)        \n",
    "        if x.dtype == 'uint8':            \n",
    "            nbits = 8        \n",
    "        elif x.dtype == 'int16':            \n",
    "            nbits = 16        \n",
    "        elif x.dtype == 'int32':            \n",
    "            nbits = 32        \n",
    "        audio = x / float(2**(nbits - 1))    \n",
    "        # special case of unsigned format    \n",
    "    if x.dtype == 'uint8':        \n",
    "        audio = audio - 1.    \n",
    "    return (samplerate, audio)"
   ]
  },
  {
   "cell_type": "markdown",
   "metadata": {},
   "source": [
    "Load ground truth file"
   ]
  },
  {
   "cell_type": "code",
   "execution_count": 74,
   "metadata": {},
   "outputs": [],
   "source": [
    "import pandas as pd\n",
    "info = pd.read_csv('./groove/info.csv')\n",
    "#df=info[info['style'].isin(relevant_genres)]\n",
    "\n",
    "#df.pivot(index='style', columns='beat_type', values='audio_filename')\n",
    "df = pd.pivot_table(info, values='audio_filename', index=['style'],\n",
    "                    columns=['beat_type'], aggfunc='count')\n",
    "#df[df['beat'] >= 20]\n",
    "\n",
    "info = info[info['style'].isin(relevant_genres)]\n",
    "info = info[info['beat_type'] == \"beat\"]\n",
    "info = info[info['audio_filename'].notna()].reset_index()\n",
    "#locs = info['audio_filename'].to_numpy()\n"
   ]
  },
  {
   "cell_type": "code",
   "execution_count": 127,
   "metadata": {},
   "outputs": [
    {
     "data": {
      "text/plain": [
       "style\n",
       "funk       28\n",
       "hiphop     28\n",
       "jazz       24\n",
       "rock      167\n",
       "Name: audio, dtype: int64"
      ]
     },
     "execution_count": 127,
     "metadata": {},
     "output_type": "execute_result"
    }
   ],
   "source": [
    "info.groupby('style')['audio'].count()"
   ]
  },
  {
   "cell_type": "markdown",
   "metadata": {},
   "source": [
    "Load audio from the ground truth file and store in dataframe"
   ]
  },
  {
   "cell_type": "code",
   "execution_count": 75,
   "metadata": {},
   "outputs": [
    {
     "name": "stderr",
     "output_type": "stream",
     "text": [
      "<ipython-input-73-70eaf167f057>:3: WavFileWarning:\n",
      "\n",
      "Chunk (non-data) not understood, skipping it.\n",
      "\n",
      "<ipython-input-75-771846dd385f>:8: SettingWithCopyWarning:\n",
      "\n",
      "\n",
      "A value is trying to be set on a copy of a slice from a DataFrame\n",
      "\n",
      "See the caveats in the documentation: https://pandas.pydata.org/pandas-docs/stable/user_guide/indexing.html#returning-a-view-versus-a-copy\n",
      "\n",
      "<ipython-input-75-771846dd385f>:10: SettingWithCopyWarning:\n",
      "\n",
      "\n",
      "A value is trying to be set on a copy of a slice from a DataFrame\n",
      "\n",
      "See the caveats in the documentation: https://pandas.pydata.org/pandas-docs/stable/user_guide/indexing.html#returning-a-view-versus-a-copy\n",
      "\n"
     ]
    },
    {
     "name": "stdout",
     "output_type": "stream",
     "text": [
      "Error, dropping row\n",
      "size of info is now: 250\n",
      "Error, dropping row\n",
      "size of info is now: 249\n",
      "Error, dropping row\n",
      "size of info is now: 248\n",
      "Error, dropping row\n",
      "size of info is now: 247\n"
     ]
    }
   ],
   "source": [
    "info['audio'] = ''\n",
    "for index, row in info.iterrows():\n",
    "    #if index % 10 == 0:\n",
    "        #print(index)\n",
    "    try:\n",
    "        sr,audio = ToolReadAudio('./groove/'+row['audio_filename'])\n",
    "        if audio.shape[-1] == 2:\n",
    "            info['audio'][index] = np.mean(audio,axis=1)\n",
    "        else:\n",
    "            info['audio'][index] = audio\n",
    "        #info['audio'][index] = audio\n",
    "    except Exception as e: # Some files are unable to be read by scipy's wavfile read, so skipping them and removing the corresponding rows\n",
    "        info.drop(index,inplace=True)\n",
    "        #print(e)\n",
    "        \n",
    "        print(\"Error, dropping row\")\n",
    "        print(f\"size of info is now: {len(info)}\")\n",
    "info.reset_index(drop=True, inplace=True)\n",
    "info.drop('index',axis=1,inplace=True)"
   ]
  },
  {
   "cell_type": "markdown",
   "metadata": {},
   "source": [
    "Feature Extraction code"
   ]
  },
  {
   "cell_type": "code",
   "execution_count": null,
   "metadata": {},
   "outputs": [],
   "source": [
    "def block_audio(x,blockSize,hopSize,fs):    \n",
    "    # allocate memory    \n",
    "    numBlocks = math.ceil(x.size / hopSize)    \n",
    "    xb = np.zeros([numBlocks, blockSize])    \n",
    "    # compute time stamps    \n",
    "    t = (np.arange(0, numBlocks) * hopSize) / fs   \n",
    "    x = np.concatenate((x, np.zeros(blockSize)),axis=0)    \n",
    "    for n in range(0, numBlocks):        \n",
    "        i_start = n * hopSize        \n",
    "        i_stop = np.min([x.size - 1, i_start + blockSize - 1])        \n",
    "        xb[n][np.arange(0,blockSize)] = x[np.arange(i_start, i_stop + 1)]    \n",
    "    return (xb,t)\n",
    "def agg_mfccs(x):\n",
    "    mfccs = librosa.feature.mfcc(x,n_mfcc = 13)\n",
    "    mean = [np.mean(feature) for feature in mfccs]\n",
    "    std = [np.std(feature) for feature in mfccs]\n",
    "    mfcc_delta = librosa.feature.delta(mfccs)\n",
    "    delta_mean=[np.mean(feature) for feature in mfcc_delta]\n",
    "    delta_std=[np.std(feature) for feature in mfcc_delta]\n",
    "    return mean,std,delta_mean,delta_std\n",
    "\n",
    "def extract_spectral_centroid(xb, fs):\n",
    "    centroids = np.zeros(xb.shape[0])\n",
    "    stft,freqs = calc_stft(xb,fs)\n",
    "    #np.sum(magnitudes*freqs) / np.sum(magnitudes)\n",
    "    for i in range(freqs.shape[0]):\n",
    "        if np.all(stft[i] == 0):\n",
    "            pass\n",
    "        else:\n",
    "            centroid = np.sum(stft[i]*freqs[i]) / np.sum(stft[i])\n",
    "            centroids[i]=centroid\n",
    "        #centroids.append(centroid)\n",
    "    #centroids=np.array(centroids)\n",
    "    return centroids\n",
    "\n",
    "def extract_spectral_centroid(xb, fs):\n",
    "    centroids = np.zeros(xb.shape[0])\n",
    "    stft,freqs = calc_stft(xb,fs)\n",
    "    #np.sum(magnitudes*freqs) / np.sum(magnitudes)\n",
    "    for i in range(freqs.shape[0]):\n",
    "        if np.all(stft[i] == 0):\n",
    "            pass\n",
    "        else:\n",
    "            centroid = np.sum(stft[i]*freqs[i]) / np.sum(stft[i])\n",
    "            centroids[i]=centroid\n",
    "        #centroids.append(centroid)\n",
    "    #centroids=np.array(centroids)\n",
    "    return centroids\n",
    "def calc_stft(xb,fs=44100):\n",
    "    stft = np.zeros((xb.shape[0],(int(xb[0].shape[0]/2)+1)))\n",
    "    freqs = np.zeros((xb.shape[0],(int(xb[0].shape[0]/2)+1)))\n",
    "    window = np.hanning(xb[0].shape[0])\n",
    "    for i in range(xb.shape[0]):\n",
    "        block= xb[i]\n",
    "        # Apply Window to the block\n",
    "        windowed_block = window * block \n",
    "        stft_blk = np.fft.fft(windowed_block)\n",
    "        #stft_blk = np.fft.rfft(windowed_block)\n",
    "        freq=np.fft.fftfreq(block.size,1/fs)\n",
    "        freqs[i]=freq[:int(block.size/2)+1]\n",
    "        stft_blk = np.abs(stft_blk)\n",
    "        #stft_block = stft_blk[int((stft_blk.shape[0])/2):]\n",
    "        stft_block = stft_blk[:int(((stft_blk.shape[0])/2)+1)]\n",
    "        #stft_db = 10*np.log10(stft_block) # IS THIS CORRECT??\n",
    "        stft[i]=stft_block#stft_db\n",
    "    stft = np.array(stft)\n",
    "    freqs=np.array(freqs)\n",
    "    return stft,freqs\n",
    "\n",
    "def extract_spectral_centroid(xb, fs):\n",
    "    centroids = np.zeros(xb.shape[0])\n",
    "    stft,freqs = calc_stft(xb,fs)\n",
    "    #np.sum(magnitudes*freqs) / np.sum(magnitudes)\n",
    "    for i in range(freqs.shape[0]):\n",
    "        if np.all(stft[i] == 0):\n",
    "            pass\n",
    "        else:\n",
    "            centroid = np.sum(stft[i]*freqs[i]) / np.sum(stft[i])\n",
    "            centroids[i]=centroid\n",
    "        #centroids.append(centroid)\n",
    "    #centroids=np.array(centroids)\n",
    "    return centroids\n",
    "\n",
    "def extract_rms(xb):\n",
    "    rms = np.zeros(xb.shape[0])\n",
    "    for i in range(xb.shape[0]):\n",
    "        if np.all(xb[i] == 0):\n",
    "            r = 0.00001\n",
    "        else:\n",
    "            block = xb[i]\n",
    "            r = np.sqrt(np.sum(block**2)/xb.shape[0])\n",
    "            if r <= 0.00001: # Done to handle case when rms is 0 (for a block of all zeros\n",
    "                r = 0.00001\n",
    "            #rms.append(r)\n",
    "        rms[i] = r\n",
    "    #rms=np.array(rms)\n",
    "    return 20*np.log10(rms)#rms,20*np.log10(rms) # What is reference value to convert to dB? Is it 1?\n",
    "\n",
    "def extract_zerocrossingrate(xb):\n",
    "    zcr= np.zeros(xb.shape[0])\n",
    "    for i in range(xb.shape[0]):\n",
    "        if np.all(xb[i] == 0):\n",
    "            pass\n",
    "        else:\n",
    "            block = xb[i]\n",
    "            zero_crossings = np.sum(np.abs(np.diff(np.sign(block)))) / block.shape[0] #np.nonzero(np.diff(block > 0))[0].size\n",
    "            #zcr.append(zero_crossings)\n",
    "            zcr[i] = zero_crossings \n",
    "    #zcr = np.array(zcr)\n",
    "    return zcr\n",
    "\n",
    "def extract_spectral_crest(xb):\n",
    "    crest = np.zeros(xb.shape[0])\n",
    "    stft,freqs = calc_stft(xb,44100)\n",
    "    for i in range(stft.shape[0]):\n",
    "        if np.all(stft[i] == 0):\n",
    "            pass\n",
    "        else:\n",
    "            #crest.append((np.max(stft[i])/np.sum(stft[i])))\n",
    "            crest[i] = np.max(stft[i])/np.sum(stft[i])\n",
    "    #crest = np.array(crest)\n",
    "    return crest\n",
    "\n",
    "def extract_spectral_flux(xb):\n",
    "    num_blocks=xb.shape[0] \n",
    "    blockSize = xb.shape[1]\n",
    "    spectral_flux = np.zeros(num_blocks)\n",
    "    stft,freqs = calc_stft(xb,44100)\n",
    "    fft_len= stft.shape[1]\n",
    "    n = 0\n",
    "    k = 0\n",
    "    for n in range(1,num_blocks):\n",
    "        if np.all(stft[n] == 0):\n",
    "            pass\n",
    "        else:\n",
    "            sum_flux = 0\n",
    "            for k in range(fft_len):\n",
    "                f = (abs(stft[n, k]) - abs(stft[n-1, k]))**2\n",
    "                sum_flux += f\n",
    "            flux = np.sqrt(sum_flux)/((blockSize/2)+1)\n",
    "            spectral_flux[n] = flux #first flux value will be 0\n",
    "    return spectral_flux\n",
    "def get_novelty(xb):\n",
    "    N = 2048#xb.shape[1]\n",
    "    w = scipy.signal.hann(N)\n",
    "    novelty=np.zeros([xb.shape[0],xb.shape[1]])\n",
    "    for i in range(xb.shape[0]):\n",
    "        xb_square = xb[i]**2\n",
    "        energy_local = np.convolve(xb_square, w**2, 'same')\n",
    "        energy_local_diff = np.diff(energy_local)\n",
    "        energy_local_diff = np.concatenate((energy_local_diff, np.array([0])))\n",
    "        novelty_energy = np.copy(energy_local_diff)\n",
    "        novelty_energy[energy_local_diff < 0] = 0\n",
    "        novelty[i] = novelty_energy\n",
    "    return novelty\n",
    "def get_num_onsets(novelty,thresh):\n",
    "    onsets=np.zeros(novelty.shape[0])\n",
    "    for i in range(novelty.shape[0]):\n",
    "        p = scipy.signal.find_peaks(novelty[i])[0]\n",
    "        onsets[i]=(novelty[i][p] >= thresh).sum()\n",
    "    return onsets\n",
    "def get_onset_data(xb,threshold):\n",
    "    novelty=get_novelty(xb)\n",
    "    onsets = get_num_onsets(novelty,threshold)\n",
    "    return onsets#, (onsets/durationInSecs)\n",
    "\n",
    "from scipy.signal import butter, lfilter\n",
    "\n",
    "def butter_bandpass(lowcut, highcut, fs, order=5):\n",
    "    nyq = 0.5 * fs\n",
    "    low = lowcut / nyq\n",
    "    high = highcut / nyq\n",
    "    b, a = butter(order, [low, high], btype='band')\n",
    "    return b, a\n",
    "\n",
    "def butter_bandpass_filter(data, lowcut, highcut, fs, order=5):\n",
    "    b, a = butter_bandpass(lowcut, highcut, fs, order=order)\n",
    "    y = lfilter(b, a, data)\n",
    "    return y\n",
    "\n",
    "def get_onsets_in_freq_bands(x,blockSize,hopSize,fs,threshold=0.001,fl1=20,fh1=400,fl2=400,fh2=3000,fl3=8000,fh3=15000):\n",
    "    x1 = butter_bandpass_filter(x,fl1,fh1,fs)\n",
    "    x2 = butter_bandpass_filter(x,fl2,fh2,fs)\n",
    "    x3 = butter_bandpass_filter(x,fl3,fh3,fs)\n",
    "\n",
    "    xb1,_ = block_audio(x1,blockSize,hopSize,fs)\n",
    "    xb2,_ = block_audio(x2,blockSize,hopSize,fs)\n",
    "    xb3,_ = block_audio(x3,blockSize,hopSize,fs)\n",
    "\n",
    "    onsets1 = get_onset_data(xb1,0.0000001)\n",
    "    onsets2 = get_onset_data(xb2,0.0001)\n",
    "    onsets3 = get_onset_data(xb3,0.00001)\n",
    "    return onsets1, onsets2, onsets3\n",
    "\n",
    "def extract_manual_features(x,fs):\n",
    "\n",
    "    xb,ts = block_audio(x,2048,1024,fs)\n",
    "    centroid = extract_spectral_centroid(xb,fs)\n",
    "    rms = extract_rms(xb)\n",
    "    zcr = extract_zerocrossingrate(xb)\n",
    "    crest = extract_spectral_crest(xb)\n",
    "    flux = extract_spectral_flux(xb)\n",
    "\n",
    "    centroid_mean = np.mean(centroid)\n",
    "    centroid_std = np.std(centroid)\n",
    "\n",
    "    rms_mean = np.mean(rms)\n",
    "    rms_std = np.std(rms)\n",
    "\n",
    "    zcr_mean = np.mean(zcr)\n",
    "    zcr_std = np.std(zcr)\n",
    "\n",
    "    crest_mean = np.mean(crest)\n",
    "    crest_std = np.std(crest)\n",
    "\n",
    "    flux_mean = np.mean(flux)\n",
    "    flux_std = np.std(flux)\n",
    "\n",
    "    xb2,ts2 = block_audio(x,int(fs*1),int(fs*0.5),fs)\n",
    "    onsets = get_onset_data(xb2,0.001)\n",
    "\n",
    "    onsets_mean = np.mean(onsets)\n",
    "    onsets_std = np.std(onsets)\n",
    "\n",
    "    onsets1,onsets2,onsets3 = get_onsets_in_freq_bands(x,2048,1024,fs)\n",
    "    # onsets1_mean = np.mean(onsets1)\n",
    "    onsets2_mean = np.mean(onsets2)\n",
    "    onsets3_mean = np.mean(onsets3)\n",
    "    \n",
    "    # onsets1_std = np.std(onsets1)\n",
    "    onsets2_std = np.std(onsets2)\n",
    "    onsets3_std = np.std(onsets3)\n",
    "\n",
    "    return centroid_mean, centroid_std, rms_mean, rms_std, zcr_mean, zcr_std, crest_mean, crest_std, \\\n",
    "        flux_mean,flux_std,onsets_mean,onsets_std,onsets2_mean,onsets3_mean,onsets2_std,onsets3_std"
   ]
  },
  {
   "cell_type": "markdown",
   "metadata": {},
   "source": [
    "Extract features and store in dataframe"
   ]
  },
  {
   "cell_type": "code",
   "execution_count": null,
   "metadata": {},
   "outputs": [],
   "source": [
    "df=info\n",
    "df['mfcc_mean'] = ''\n",
    "df['mfcc_std'] = ''\n",
    "\n",
    "df['delta_mfcc_mean'] = ''\n",
    "df['delta_mfcc_std'] = ''\n",
    "\n",
    "df['centroid_mean'] = ''\n",
    "df['centroid_std'] = ''\n",
    "\n",
    "df['rms_mean'] = ''\n",
    "df['rms_std'] = ''\n",
    "\n",
    "df['zcr_mean'] = ''\n",
    "df['zcr_std'] = ''\n",
    "\n",
    "df['crest_mean'] = ''\n",
    "df['crest_std'] = ''\n",
    "\n",
    "df['flux_mean'] = ''\n",
    "df['flux_std'] = ''\n",
    "\n",
    "df['onsets_mean'] = ''\n",
    "df['onsets_std'] = ''\n",
    "\n",
    "df['onsets_mid_mean'] = ''\n",
    "df['onsets_mid_std'] = ''\n",
    "\n",
    "df['onsets_high_mean'] = ''\n",
    "df['onsets_high_std'] = ''\n",
    "for i in range(len(df)):\n",
    "    #print(df['audio'][i].shape)\n",
    "    mean,std,delta_mean,delta_std = agg_mfccs(df['audio'][i])\n",
    "    # Extract 13 MFCCs - get mean and std deviation for each (26 features) + Delta MFCCs (26 features) = total 52 Features\n",
    "    df['mfcc_mean'][i] = mean\n",
    "    df['mfcc_std'][i] = std\n",
    "    df['delta_mfcc_mean'][i] = delta_mean\n",
    "    df['delta_mfcc_std'][i] = delta_std\n",
    "\n",
    "    centroid_mean, centroid_std, rms_mean, rms_std, zcr_mean, zcr_std, crest_mean, crest_std, flux_mean,flux_std,onsets_mean,onsets_std,onsets2_mean,onsets3_mean,onsets2_std,onsets3_std \\\n",
    "         = extract_manual_features(df['audio'][i],44100)\n",
    "    df['centroid_mean'][i] = centroid_mean\n",
    "    df['centroid_std'][i] = centroid_std\n",
    "    df['rms_mean'][i] = rms_mean\n",
    "    df['rms_std'][i] = rms_std\n",
    "    df['zcr_mean'][i] = zcr_mean\n",
    "    df['zcr_std'][i] = zcr_std\n",
    "    df['crest_mean'][i] = crest_mean\n",
    "    df['crest_std'][i] = crest_std\n",
    "    df['flux_mean'][i] = flux_mean\n",
    "    df['flux_std'][i] = flux_std\n",
    "    df['onsets_mean'][i] = onsets_mean\n",
    "    df['onsets_std'][i] = onsets_std\n",
    "\n",
    "    # df['onsets_low_mean'][i] = onsets1_mean\n",
    "    # df['onsets_low_std'][i] = onsets1_std\n",
    "\n",
    "    df['onsets_mid_mean'][i] = onsets2_mean\n",
    "    df['onsets_mid_std'][i] = onsets2_std\n",
    "\n",
    "    df['onsets_high_mean'][i] = onsets3_mean\n",
    "    df['onsets_high_std'][i] = onsets3_std\n",
    "\n",
    "\n",
    "df[['mfcc1_mean','mfcc2_mean','mfcc3_mean','mfcc4_mean','mfcc5_mean','mfcc6_mean','mfcc7_mean','mfcc8_mean','mfcc9_mean','mfcc10_mean','mfcc11_mean','mfcc12_mean','mfcc13_mean']]=pd.DataFrame(df.mfcc_mean.tolist(), index= df.index)\n",
    "df[['mfcc1_std','mfcc2_std','mfcc3_std','mfcc4_std','mfcc5_std','mfcc6_std','mfcc7_std','mfcc8_std','mfcc9_std','mfcc10_std','mfcc11_std','mfcc12_std','mfcc13_std']]=pd.DataFrame(df.mfcc_std.tolist(), index= df.index)\n",
    "\n",
    "df[['delta_mfcc1_mean','delta_mfcc2_mean','delta_mfcc3_mean','delta_mfcc4_mean','delta_mfcc5_mean','delta_mfcc6_mean','delta_mfcc7_mean','delta_mfcc8_mean','delta_mfcc9_mean','delta_mfcc10_mean','delta_mfcc11_mean','delta_mfcc12_mean','delta_mfcc13_mean']]=pd.DataFrame(df.delta_mfcc_mean.tolist(), index= df.index)\n",
    "df[['delta_mfcc1_std','delta_mfcc2_std','delta_mfcc3_std','delta_mfcc4_std','delta_mfcc5_std','delta_mfcc6_std','delta_mfcc7_std','delta_mfcc8_std','delta_mfcc9_std','delta_mfcc10_std','delta_mfcc11_std','delta_mfcc12_std','delta_mfcc13_std']]=pd.DataFrame(df.delta_mfcc_std.tolist(), index= df.index)\n"
   ]
  },
  {
   "cell_type": "code",
   "execution_count": null,
   "metadata": {},
   "outputs": [],
   "source": [
    "out = df.to_numpy()\n",
    "np.save('./resources/working_data/data.npy', out)"
   ]
  },
  {
   "cell_type": "markdown",
   "metadata": {},
   "source": [
    "# Load Feature File and classify"
   ]
  },
  {
   "cell_type": "code",
   "execution_count": 134,
   "metadata": {},
   "outputs": [],
   "source": [
    "names=['drummer', 'session', 'id', 'style', 'bpm', 'beat_type',\n",
    "       'time_signature', 'midi_filename', 'audio_filename', 'duration',\n",
    "       'split', 'audio', 'mfcc_mean', 'mfcc_std', 'delta_mfcc_mean',\n",
    "       'delta_mfcc_std', 'centroid_mean', 'centroid_std', 'rms_mean',\n",
    "       'rms_std', 'zcr_mean', 'zcr_std', 'crest_mean', 'crest_std',\n",
    "       'flux_mean', 'flux_std', 'onsets_mean', 'onsets_std', 'mfcc1_mean',\n",
    "       'mfcc2_mean', 'mfcc3_mean', 'mfcc4_mean', 'mfcc5_mean', 'mfcc6_mean',\n",
    "       'mfcc7_mean', 'mfcc8_mean', 'mfcc9_mean', 'mfcc10_mean', 'mfcc11_mean',\n",
    "       'mfcc12_mean', 'mfcc13_mean', 'mfcc1_std', 'mfcc2_std', 'mfcc3_std',\n",
    "       'mfcc4_std', 'mfcc5_std', 'mfcc6_std', 'mfcc7_std', 'mfcc8_std',\n",
    "       'mfcc9_std', 'mfcc10_std', 'mfcc11_std', 'mfcc12_std', 'mfcc13_std',\n",
    "       'delta_mfcc1_mean', 'delta_mfcc2_mean', 'delta_mfcc3_mean',\n",
    "       'delta_mfcc4_mean', 'delta_mfcc5_mean', 'delta_mfcc6_mean',\n",
    "       'delta_mfcc7_mean', 'delta_mfcc8_mean', 'delta_mfcc9_mean',\n",
    "       'delta_mfcc10_mean', 'delta_mfcc11_mean', 'delta_mfcc12_mean',\n",
    "       'delta_mfcc13_mean', 'delta_mfcc1_std', 'delta_mfcc2_std',\n",
    "       'delta_mfcc3_std', 'delta_mfcc4_std', 'delta_mfcc5_std',\n",
    "       'delta_mfcc6_std', 'delta_mfcc7_std', 'delta_mfcc8_std',\n",
    "       'delta_mfcc9_std', 'delta_mfcc10_std', 'delta_mfcc11_std',\n",
    "       'delta_mfcc12_std', 'delta_mfcc13_std', 'onsets_low_mean',\n",
    "       'onsets_low_std','onsets_mid_mean', 'onsets_mid_std',\n",
    "       'onsets_high_mean', 'onsets_high_std']\n",
    "df=pd.DataFrame(np.load('./resources/working_data/data.npy',allow_pickle=True),columns=names)"
   ]
  },
  {
   "cell_type": "markdown",
   "metadata": {},
   "source": [
    "Correlation plot of features"
   ]
  },
  {
   "cell_type": "code",
   "execution_count": 146,
   "metadata": {},
   "outputs": [
    {
     "name": "stdout",
     "output_type": "stream",
     "text": [
      "<class 'pandas.core.frame.DataFrame'>\n",
      "(247, 68)\n",
      "(68, 68)\n"
     ]
    },
    {
     "data": {
      "image/png": "[encoded data removed]",
      "text/plain": [
       "<Figure size 1080x792 with 2 Axes>"
      ]
     },
     "metadata": {
      "needs_background": "light"
     },
     "output_type": "display_data"
    }
   ],
   "source": [
    "# All features Correlation map\n",
    "df_cols = df[['mfcc1_mean', 'mfcc2_mean', 'mfcc3_mean',\n",
    "       'mfcc4_mean', 'mfcc5_mean', 'mfcc6_mean', 'mfcc7_mean', 'mfcc8_mean',\n",
    "       'mfcc9_mean', 'mfcc10_mean', 'mfcc11_mean', 'mfcc12_mean',\n",
    "       'mfcc13_mean', 'mfcc1_std', 'mfcc2_std', 'mfcc3_std', 'mfcc4_std',\n",
    "       'mfcc5_std', 'mfcc6_std', 'mfcc7_std', 'mfcc8_std', 'mfcc9_std',\n",
    "       'mfcc10_std', 'mfcc11_std', 'mfcc12_std', 'mfcc13_std',\n",
    "       'delta_mfcc1_mean', 'delta_mfcc2_mean', 'delta_mfcc3_mean',\n",
    "       'delta_mfcc4_mean', 'delta_mfcc5_mean', 'delta_mfcc6_mean',\n",
    "       'delta_mfcc7_mean', 'delta_mfcc8_mean', 'delta_mfcc9_mean',\n",
    "       'delta_mfcc10_mean', 'delta_mfcc11_mean', 'delta_mfcc12_mean',\n",
    "       'delta_mfcc13_mean', 'delta_mfcc1_std', 'delta_mfcc2_std',\n",
    "       'delta_mfcc3_std', 'delta_mfcc4_std', 'delta_mfcc5_std',\n",
    "       'delta_mfcc6_std', 'delta_mfcc7_std', 'delta_mfcc8_std',\n",
    "       'delta_mfcc9_std', 'delta_mfcc10_std', 'delta_mfcc11_std',\n",
    "       'delta_mfcc12_std', 'delta_mfcc13_std',\\\n",
    "       'centroid_mean','centroid_std','rms_mean','rms_std','zcr_mean',\n",
    "       'zcr_std','crest_mean','crest_std','flux_mean','flux_std',\n",
    "       'onsets_mean', 'onsets_std','onsets_mid_mean', 'onsets_mid_std',\n",
    "       'onsets_high_mean', 'onsets_high_std']]\n",
    "print(type(df_cols))\n",
    "print(df_cols.shape)\n",
    "corrMatrix = df_cols.astype('float64').corr(method = \"pearson\")\n",
    "print(corrMatrix.shape)\n",
    "'''\n",
    "HEATMAP\n",
    "'''\n",
    "import seaborn as sn\n",
    "import matplotlib.pyplot as plt\n",
    "fig, ax = plt.subplots(figsize=(15,11))\n",
    "sn.heatmap(corrMatrix, annot=False, cmap='YlGnBu_r')\n",
    "sn.set(font_scale = 1, style = 'white')\n",
    "plt.title('HeatMap Correlation')\n",
    "plt.show()"
   ]
  },
  {
   "cell_type": "markdown",
   "metadata": {},
   "source": [
    "Scatter plot of features"
   ]
  },
  {
   "cell_type": "code",
   "execution_count": 144,
   "metadata": {},
   "outputs": [
    {
     "data": {
      "application/vnd.plotly.v1+json": {
       "config": {
        "plotlyServerURL": "https://plot.ly"
       },
       "data": [
        {
         "dimensions": [
          {
           "axis": {
            "matches": true
           },
           "label": "delta_mfcc13_mean",
           "values": [
            0.0005065299753636185,
            0.0006451716662795367,
            -0.00014181755951982544,
            0.0010172091639980253,
            0.0005504382312522611,
            0.0013202582810165966,
            -0.00026194402362466257,
            -0.00023978055242488176,
            -0.0004995191121987154,
            -0.0017141141990662185,
            -0.020743416791439057,
            -0.021932455574244236,
            -0.01504564910855153,
            -0.00353897854925784,
            0.000989397304196109,
            -0.023693311021340258,
            -0.0031593211704140727,
            -0.0044890602065073395,
            -0.0022904527052172675,
            -0.0004650007044469537,
            0.0003840871201553218,
            -0.0009843412155277026,
            -0.0003159850997930036,
            -0.000548568685470601,
            -0.0007271509972091593,
            -0.0009220197397262256,
            -0.0012290935693683373,
            0.0005821960430393349
           ]
          },
          {
           "axis": {
            "matches": true
           },
           "label": "mfcc13_std",
           "values": [
            6.734795812559488,
            7.913790395976902,
            6.540273127999084,
            7.220118503220591,
            5.7514394644194,
            7.521183381135369,
            8.94349052564764,
            6.740589275128908,
            7.318822714570384,
            7.712990232895353,
            7.519603679166442,
            8.412020965520762,
            7.628451489920372,
            8.57510214152874,
            7.520176428882243,
            7.574970550268079,
            6.528682726278324,
            6.614146205649775,
            6.462912668333426,
            8.839304856032848,
            7.503827310971661,
            7.41935446381953,
            8.685221844272718,
            7.658486145545896,
            8.6793143457866,
            8.434395478370522,
            9.041057565092558,
            8.616985928725008
           ]
          },
          {
           "axis": {
            "matches": true
           },
           "label": "mfcc2_std",
           "values": [
            45.27268757902408,
            53.301447409125586,
            45.27376976757957,
            49.27809279615074,
            31.60565609320662,
            46.444628914072034,
            40.59068203256712,
            43.31077298369024,
            46.397277413366616,
            40.54821930761296,
            46.37821513733834,
            46.50166714971666,
            50.35410345541453,
            38.86988091668311,
            48.70967222081293,
            44.53619095568137,
            45.368894284489436,
            50.96575301517079,
            48.34880416780866,
            43.48889501658436,
            48.00204077639507,
            51.6297653513348,
            49.70231062018762,
            43.38485172500497,
            44.13920780528204,
            53.86762810301273,
            52.42524159542201,
            51.82268583997833
           ]
          },
          {
           "axis": {
            "matches": true
           },
           "label": "delta_mfcc2_mean",
           "values": [
            0.014591610062187352,
            0.005318945980958389,
            0.009725588110931185,
            0.010809005107325562,
            0.002113547837246357,
            0.009530773556374217,
            0.00038082120988185635,
            -0.019019513752016017,
            0.00588782201414271,
            -0.010603033523472274,
            0.16482727766116942,
            0.09889733863101512,
            0.1769451591697462,
            -0.004758857987564176,
            0.017790526795990417,
            0.12373966532569967,
            0.009758073918620254,
            0.03628474930611462,
            0.016420089186339477,
            -0.003163834539116613,
            0.005306355462463482,
            -0.0025707465099763503,
            0.002451194178303118,
            -0.0008744048896473247,
            -0.004121118373283868,
            0.004853917018794795,
            -0.01034959021988602,
            0.005458743807619018
           ]
          },
          {
           "axis": {
            "matches": true
           },
           "label": "delta_mfcc3_std",
           "values": [
            4.853147175004903,
            4.132035792341225,
            4.557395663985448,
            3.9281443741886988,
            2.2001593247312385,
            2.7846582034148106,
            3.121916999500076,
            4.077029233793768,
            3.704503781881561,
            4.111899502723639,
            3.8274394512726353,
            3.84850539254395,
            3.1583715472536777,
            3.9731135139855662,
            4.595510575193233,
            4.758793869344932,
            4.9757490974227565,
            4.34087299348016,
            4.6228001686637805,
            2.826747876457771,
            3.7584212612075576,
            3.7209192416339683,
            3.017233997138477,
            3.680543923446013,
            3.4403707428839976,
            3.5066526324436667,
            3.0696403633726383,
            3.144534287995819
           ]
          },
          {
           "axis": {
            "matches": true
           },
           "label": "delta_mfcc8_std",
           "values": [
            1.3348891589718717,
            1.379079652981736,
            1.1983650579041334,
            1.1984741132299277,
            1.0896573993443495,
            1.484738537926655,
            1.7504004560702529,
            1.1839045903570633,
            1.2222818400809454,
            1.2891504774971236,
            1.2130425533835232,
            1.197268562236535,
            1.146987197350511,
            1.3322365398346745,
            1.322911378202698,
            1.2350382647026583,
            1.3161811639945915,
            1.26640283888319,
            1.2757900928021402,
            1.0762228185476936,
            1.2952476964672524,
            1.1794643974387837,
            0.9979789789021366,
            1.2242916975201343,
            1.204851797386495,
            1.1084580241827915,
            1.228589904180774,
            1.1014252893275727
           ]
          },
          {
           "axis": {
            "matches": true
           },
           "label": "rms_mean",
           "values": [
            -49.51822036896139,
            -43.64314502680628,
            -49.427175017429306,
            -46.755659995265944,
            -52.3348560213027,
            -39.29540346469266,
            -44.88891964370377,
            -38.73509388715519,
            -41.557789522497295,
            -44.35831734599,
            -26.477641525706265,
            -32.101067441077944,
            -29.050200929746527,
            -37.40511124619486,
            -48.7481131999262,
            -38.690742745241856,
            -43.959917155308446,
            -42.66745743364395,
            -45.26364276747807,
            -47.009288147975546,
            -41.612796603380254,
            -42.30802423842403,
            -46.66927345931964,
            -44.09461141428306,
            -41.29471309159415,
            -42.53532783307667,
            -41.76983304787906,
            -42.217720763875036
           ]
          },
          {
           "axis": {
            "matches": true
           },
           "label": "delta_mfcc9_std",
           "values": [
            1.3587603961008574,
            1.371702943097469,
            1.1932343677824602,
            1.2876132289631983,
            0.930511306700806,
            1.3147350785949967,
            1.2671107974999076,
            1.239197207126004,
            1.227310222197185,
            1.2498381780458705,
            1.2866163698258912,
            1.3181587076480719,
            1.3336007773511087,
            1.3559142633114905,
            1.348623978998527,
            1.3102342102038977,
            1.0457761958916172,
            1.0128498223926916,
            1.059293484593479,
            1.1659596292481538,
            1.3159926984430426,
            1.278194451471685,
            1.1284191073470158,
            1.252829299330122,
            1.3616503266350073,
            1.2541285316829827,
            1.404746984913709,
            1.3162851274476017
           ]
          }
         ],
         "hovertemplate": "style=funk<br>%{xaxis.title.text}=%{x}<br>%{yaxis.title.text}=%{y}<extra></extra>",
         "legendgroup": "funk",
         "marker": {
          "color": "#636efa",
          "symbol": "circle"
         },
         "name": "funk",
         "showlegend": true,
         "type": "splom"
        },
        {
         "dimensions": [
          {
           "axis": {
            "matches": true
           },
           "label": "delta_mfcc13_mean",
           "values": [
            0.0004592664767852773,
            0.000701352932185464,
            -0.00014365621326506743,
            0.000732274243600092,
            -0.0016971680548889703,
            -0.0004905730659917373,
            -0.00010461624169740215,
            0.001065737546557838,
            -0.002249175694648627,
            0.003926241626732241,
            -0.0035683103799836985,
            0.0008234643881620043,
            0.010468025066419952,
            -0.0029316465785486022,
            0.013777111141341142,
            -0.04641160056697215,
            -0.004542005602043364,
            0.01507582456765495,
            -0.011860814975343381,
            0.0006971794537139355,
            -0.025939544547308985,
            -0.0011498676768163184,
            -0.0005983603902891368,
            0.0009974334583112544
           ]
          },
          {
           "axis": {
            "matches": true
           },
           "label": "mfcc13_std",
           "values": [
            7.945062766957551,
            8.077608719831657,
            8.067922994287288,
            6.4713740270588875,
            7.438963631522092,
            6.381995844766026,
            8.153618503841566,
            8.061797978227508,
            7.761848296290687,
            3.280493872810143,
            5.148066419860092,
            5.2420882629157655,
            3.6601227137207304,
            10.781153834225702,
            4.980172071748131,
            6.314410432646465,
            7.446769131138138,
            5.031709471083934,
            5.987466030791114,
            9.653470876632248,
            5.273637324935711,
            6.331161345358488,
            6.090030862618421,
            7.969036265841607
           ]
          },
          {
           "axis": {
            "matches": true
           },
           "label": "mfcc2_std",
           "values": [
            42.751709372848346,
            41.2485802996028,
            42.17734262542586,
            49.416815036473366,
            43.63953435766078,
            42.38716955164767,
            35.28930904786938,
            37.765251911246885,
            35.502892879953535,
            29.457039590048925,
            38.514065917403954,
            30.011338044401924,
            24.21082826794867,
            39.42422942217867,
            14.665043266201218,
            11.246835202391832,
            29.612703839395856,
            16.86065051190152,
            19.99798198704581,
            37.24613904528515,
            31.728933491552137,
            47.572323308082595,
            29.001219805495364,
            32.96655415671318
           ]
          },
          {
           "axis": {
            "matches": true
           },
           "label": "delta_mfcc2_mean",
           "values": [
            0.008112608671096536,
            0.005051804974387018,
            0.006533707445386212,
            0.009304722015906236,
            0.009470983909666853,
            0.00825380419205401,
            0.0017851288960221694,
            -0.010167941493556739,
            0.012389455766340799,
            0.007926046787778123,
            0.09362842319109138,
            -0.07473579706902993,
            0.1529559110272539,
            0.0005976232341590929,
            -0.005718470429080562,
            -0.06727132613570799,
            -0.061781980604209884,
            0.15446474077004563,
            -0.15894340445093874,
            0.003414378634653523,
            -0.08104963990278723,
            -0.029994460821524373,
            0.003797120510396599,
            0.006112663793423319
           ]
          },
          {
           "axis": {
            "matches": true
           },
           "label": "delta_mfcc3_std",
           "values": [
            2.6976123758182986,
            2.6941246163070662,
            2.95621285529784,
            2.6948984779298732,
            3.3254528524406775,
            3.715637225591779,
            2.9142335877782917,
            3.1023003148667456,
            2.024015463441602,
            2.2164216869110938,
            2.446492392838005,
            3.2229546575217607,
            3.3469458339390457,
            3.0875888937974723,
            3.8065092690032873,
            3.863499429970404,
            3.3894625779426,
            4.072345535258682,
            3.7999580483545023,
            2.111025306323582,
            2.108547413485258,
            4.86539122694577,
            2.2790900437282593,
            2.7343995451762066
           ]
          },
          {
           "axis": {
            "matches": true
           },
           "label": "delta_mfcc8_std",
           "values": [
            1.8753165030980614,
            2.077287235681329,
            1.8488384837795055,
            1.3021194194229238,
            2.1894945400655104,
            1.132418129308609,
            1.1209290539679853,
            1.1158035844792413,
            2.0411333620289014,
            1.076822858467839,
            0.9019450328133757,
            1.008555377875711,
            1.2464499465833063,
            1.7351194120061666,
            0.9412187664177907,
            1.1053288726760457,
            1.0068856673341293,
            0.9481815961274884,
            1.1251915882539116,
            2.0552005098254194,
            0.9256559504963401,
            1.2018010071309673,
            0.8818110686832413,
            1.207070225081169
           ]
          },
          {
           "axis": {
            "matches": true
           },
           "label": "rms_mean",
           "values": [
            -47.78640586930105,
            -47.952027671467405,
            -46.807230250484025,
            -56.04878553113381,
            -46.33293959128298,
            -32.68504930428436,
            -55.846377588050345,
            -50.65985551984909,
            -56.388246796117585,
            -64.32706312816232,
            -51.52309200412843,
            -35.59660048409105,
            -25.028075582738424,
            -38.639247784528315,
            -22.170032193061115,
            -26.71166570521428,
            -31.701735415418398,
            -23.031079055253016,
            -28.012380690846644,
            -47.63818152514282,
            -46.56361399796525,
            -36.53131527987932,
            -62.37102726218279,
            -57.395821618643204
           ]
          },
          {
           "axis": {
            "matches": true
           },
           "label": "delta_mfcc9_std",
           "values": [
            1.1500547867880309,
            1.2011838474683558,
            1.2232318410859209,
            0.980843580027118,
            1.1799427965093467,
            0.9662768636243128,
            0.9879629738658515,
            1.0656278065338087,
            1.0977417756725931,
            0.8601217850341986,
            0.8150789580211966,
            0.757909842840763,
            1.0678225812090525,
            1.0678128155235032,
            0.9659963855578081,
            0.8681363022297665,
            0.8763388396715315,
            0.9000673148578006,
            0.994509844923086,
            1.2584134417167943,
            0.8505704583408301,
            1.1642561186120206,
            0.7661383281266009,
            0.9381531350025271
           ]
          }
         ],
         "hovertemplate": "style=jazz<br>%{xaxis.title.text}=%{x}<br>%{yaxis.title.text}=%{y}<extra></extra>",
         "legendgroup": "jazz",
         "marker": {
          "color": "#EF553B",
          "symbol": "circle"
         },
         "name": "jazz",
         "showlegend": true,
         "type": "splom"
        },
        {
         "dimensions": [
          {
           "axis": {
            "matches": true
           },
           "label": "delta_mfcc13_mean",
           "values": [
            -1.6299386240220027e-17,
            -0.0003020406830525467,
            -0.00030271247899806426,
            -0.0007691208974201904,
            0.0004910693514426585,
            -1.7873559529569084e-17,
            -0.001688805595376929,
            -0.00003306218361203353,
            0.0001804676290116221,
            -0.004900334292212497,
            -0.007485607139018549,
            -0.0008403968147201866,
            -0.004032529003032429,
            -0.004280313241898438,
            -0.001119946814008023,
            -0.017224757043019442,
            0.0009651241401522247,
            0.004713810517766657,
            -0.013632331294161984,
            0.010924554921932289,
            -0.02037836538716357,
            0.005612002977128549,
            -0.015267432510464068,
            0.0009500027351641606,
            0.00014848952959796235,
            -0.01845503841105918,
            -0.004152579542807755,
            -0.0573261328515745,
            -0.06527121124132429,
            0.038241832891641445,
            -0.0006654838446074192,
            0.0534533551627215,
            0.007290918502957365,
            0.07125896732410338,
            0.027500827847547107,
            0.010840346662249244,
            -0.004022138854864867,
            -0.033901803523896,
            -0.024466687352479508,
            -0.01401359760351292,
            -0.00541466811766711,
            -0.005832637417875125,
            -0.01577991900828298,
            -0.0005429821979200728,
            -0.006947111816427041,
            -0.0020686325484044594,
            -0.0005640709980585352,
            -0.001802831095542362,
            -0.022288616815342374,
            -0.018439459302356857,
            0.005152987325911096,
            -0.01649255051633644,
            -0.012638097395819236,
            -0.003964820407530442,
            0.009342064637611051,
            0.012281776486730192,
            -0.04386958233589197,
            0.0006176753941082077,
            0.0009614554038959623,
            0.014027949473102732,
            -0.0037759077605069922,
            -0.0200777046042954,
            0.00041114729927204427,
            0.0031637607114832463,
            -0.0033823426548270454,
            0.005080627216621744,
            -0.010660131995654274,
            -0.011643034878861494,
            -0.016430575348450698,
            0.003947042229235468,
            -0.005601313654719125,
            -0.011037861065808181,
            -0.012595174398054052,
            0.004857739308022781,
            0.0005282915339493658,
            -0.007697082725271603,
            -0.02220429274950258,
            0.002025266661000205,
            -0.00031005327519357737,
            -0.014067795088734424,
            -0.00937357603909776,
            -0.013090287721386838,
            -0.0012309517211951295,
            -0.00004902043877494874,
            -0.0008444753319866684,
            -0.004118974329227722,
            -0.00185072719412764,
            -0.004772625482751376,
            -0.0014409023011742776,
            0.0018992071809623811,
            -0.0021512961422784967,
            0.00009958078159352199,
            -1.4366711770163168e-17,
            0.00008320340381762823,
            -0.0001448232488737617,
            0.000424274051525223,
            -1.2955300974996618e-17,
            -0.0009183969351182378,
            -0.0005818548565666257,
            -0.0023533036122874245,
            -0.0020652353782839796,
            -0.002718555876263192,
            -0.001492786110203429,
            -9.630726894891196e-18,
            -0.0027788033261616466,
            0.013237448110550458,
            -0.00408365899406494,
            -0.0012062249533548596,
            0.015030150940944837,
            -0.035124387406825164,
            -0.007188536208035176,
            -0.00009120910283864923,
            -0.001386929692779137,
            -0.0006742203242780068,
            0.0607860257287646,
            -0.002084432855250709,
            -0.002114359278820379,
            -0.0009520521116284147,
            0.0015568139625083133,
            -0.003832895477686105,
            0.0003969238682270605,
            -0.014282773115509045,
            -0.04316820461697022,
            -0.005685580677226407,
            -0.003781034924428988,
            -0.0023325301595082644,
            0.0017291902687483448,
            -0.0020167190946621173,
            -0.0021912549170699748,
            -0.0015032354604441534,
            -0.0006740734663604404,
            0.003468954265147597,
            0.003524852803808667,
            -0.001240825255148542,
            0.00019940457472984475,
            0.002195527330103539,
            -0.0008557476814760833,
            -0.0014271157987981087,
            -0.04443163085171452,
            0.048717239276829055,
            -0.008286470929736969,
            0.0016548573797056795,
            -0.0006785253529543562,
            -0.008825756493153583,
            0.02241425698631237,
            0.018655756359969782,
            0.0047383270467755345,
            0.001074344472007381,
            -0.0030113716967190974,
            -0.000460680679992108,
            -0.006328959023777081,
            0.0030010173278216304,
            -0.0026252680155947447,
            0.002803330013759966,
            -0.0008871074775664543,
            -0.002506129981940272,
            -0.013840298132203875,
            -0.0046311925052279655,
            -0.004113146924881682,
            -0.00010834796127812542,
            -0.010295455959579064,
            -0.01027398266861494,
            -0.00032075865286924015,
            -0.019091262818897253,
            -0.01166113793311315,
            -0.009315296757971171,
            0.0075042526072659765
           ]
          },
          {
           "axis": {
            "matches": true
           },
           "label": "mfcc13_std",
           "values": [
            9.825042142197423,
            7.78755161838051,
            8.168544418883775,
            4.8775908878442165,
            8.674617750165682,
            6.983601015735111,
            6.805665318220841,
            6.981101652698445,
            7.473634959079529,
            5.240569976869959,
            7.1518476767158505,
            7.439738165741499,
            6.608043000565333,
            4.852754264602115,
            7.263835425915223,
            6.517380509910992,
            5.653995102695007,
            4.649958845074132,
            6.267702861834536,
            7.669434169366341,
            6.881592114125242,
            5.661389926463038,
            6.506484119220735,
            5.9326720887757265,
            8.770262656860375,
            5.544029051233508,
            5.823645187061774,
            6.740007644605357,
            7.368309260948751,
            7.227099558893287,
            7.263630612021717,
            8.344340965113359,
            6.915910698367044,
            8.669704611792618,
            4.171176445863452,
            5.240897128290704,
            3.746106455622807,
            3.1567203060053743,
            4.00517816857609,
            7.492532423909165,
            5.736286668336162,
            5.610796547307543,
            6.238518109697396,
            5.973791813467722,
            6.849290258413118,
            7.266412865674241,
            3.5730784346708737,
            7.615587315589855,
            6.840886176206226,
            6.881358424045962,
            6.746572560756403,
            6.689836102542541,
            7.125506667547878,
            7.425802241067574,
            6.393570904975818,
            5.5623725570859754,
            5.7685954164588935,
            4.5752901602271,
            7.530578906736441,
            6.464993603515168,
            7.427218790862187,
            7.077725437695284,
            7.71090155102385,
            6.2977884308736805,
            9.120192061609625,
            5.546873452225978,
            6.530513898791042,
            6.517045927226593,
            6.000985594577982,
            6.422458238977998,
            7.79489421928008,
            8.18790130870939,
            6.831029834501915,
            5.647898316330963,
            6.972394130384372,
            6.854321317467896,
            6.980721186011895,
            4.862683813699328,
            6.573728676477194,
            7.295178237282446,
            7.302347707077684,
            7.650896692463815,
            8.254340647666607,
            8.028654536507455,
            8.818457597735119,
            8.249334430915916,
            8.031048238391548,
            7.945051195350059,
            8.276599330711107,
            7.65696059384268,
            8.788236088301218,
            7.2445452815129245,
            8.208871674552253,
            7.615679710584336,
            8.175610138554001,
            7.359726078675017,
            7.144254361750355,
            8.182506348690737,
            9.091756270496475,
            4.9412312010175485,
            7.130245202552681,
            6.859504808995106,
            6.876830856130242,
            6.86534685027308,
            7.9596459076175545,
            5.28132741979424,
            7.570506446952061,
            7.3373533524862005,
            6.501488422882126,
            5.183030302342952,
            8.138171196575627,
            7.348455789011764,
            7.8845838571787,
            7.972441191556609,
            6.672028900204063,
            7.131827144903277,
            6.721761033455712,
            7.9987865821330955,
            6.4954984092911,
            6.157960882263261,
            7.441798494573625,
            7.543658170412536,
            6.706386598304002,
            7.314421187084593,
            7.142425788578405,
            7.44531163838099,
            7.315187240889171,
            8.4695345357315,
            7.366776791705935,
            7.721176670056621,
            7.441944220105142,
            8.465633634573722,
            8.24171374129477,
            8.803937174305627,
            8.233693400174694,
            8.236462381450028,
            6.176513619443447,
            7.579056932084079,
            8.875635990539337,
            7.3288236240014735,
            6.8583707827562215,
            6.069581733970605,
            7.239312732885256,
            6.932768355467128,
            7.13420428130051,
            4.515941990013362,
            6.21316129572928,
            4.942544637694713,
            6.865553765781454,
            6.410868806678518,
            7.383883216368553,
            6.842610482882826,
            6.89811148680162,
            7.51063802493742,
            7.037082041073902,
            7.367575474966834,
            7.879268899503678,
            7.0505092819519675,
            6.734747264260998,
            7.168935688005405,
            5.712991764690664,
            7.593272480524515,
            7.6115598073265955,
            7.475036409036648,
            7.6809395105451115,
            7.024818149482296,
            8.42180642746426
           ]
          },
          {
           "axis": {
            "matches": true
           },
           "label": "mfcc2_std",
           "values": [
            38.85176213409963,
            43.803850649361436,
            43.268783376131424,
            38.84765853184974,
            44.77526461483546,
            45.247680993098434,
            53.30280109369162,
            54.15979834961996,
            50.56642659041486,
            14.50438436656133,
            26.65116995540297,
            29.526778045136403,
            43.48653794052994,
            36.791938202189954,
            45.24007919254969,
            48.13027808987256,
            21.89388594270642,
            31.32136026232741,
            35.02661242204676,
            17.922525012447778,
            16.972993339474826,
            21.494473828200746,
            43.27256151413708,
            47.791771126183086,
            16.482954061402626,
            32.52588303707269,
            54.88301343065449,
            42.56139294027466,
            37.859399755698654,
            41.49388971505965,
            30.05642288969218,
            18.77863045783394,
            16.651624581090296,
            16.155152544580126,
            25.73972183914954,
            23.288958713514607,
            23.816807942489337,
            23.878126116258766,
            39.5428577183853,
            45.00658363662131,
            42.69416422376716,
            23.797859163364695,
            43.6311335927821,
            33.72070114684987,
            55.957252465489994,
            42.30439739290185,
            24.336574565690665,
            34.19743462510486,
            27.60200492576124,
            28.12940130682812,
            34.05616756177278,
            29.319205838656554,
            29.78142100614243,
            24.511312470034863,
            30.592615649598695,
            47.211287220343245,
            35.011399114937284,
            25.379900021718274,
            28.446729419520665,
            30.052013228534964,
            33.727350648547535,
            21.28988471854968,
            29.98948912158856,
            33.30558450631871,
            38.248935395628145,
            37.85973008808828,
            26.898245561435786,
            19.436891324677248,
            22.461051997924507,
            25.069565424258162,
            30.58179323355953,
            26.18939234142044,
            35.541155251604295,
            42.625380642450196,
            39.949455301003944,
            27.15662931786207,
            30.195787798812216,
            27.797342241429373,
            36.78676054003448,
            40.57817412098208,
            39.80605632666833,
            32.40211132765167,
            52.925581147030826,
            30.783911437661555,
            43.6985648917375,
            58.295480175638346,
            59.30819466860658,
            45.37961747613504,
            44.09854692100194,
            51.53893494825657,
            33.535484942919666,
            36.86341460469031,
            46.64664403388221,
            39.341129225069956,
            46.566688718949266,
            48.978328560653054,
            51.64840316679885,
            48.81523151760153,
            29.687209790550074,
            32.51086531129768,
            40.73105984910825,
            40.69137912173943,
            47.239160639636886,
            52.92638540931572,
            42.112484206287974,
            38.80791702511405,
            50.75360072542167,
            29.16652369075729,
            47.61044609999415,
            46.68199526761572,
            34.23764957711186,
            33.35733052957069,
            33.16258174487505,
            40.55271233743328,
            40.68554822718125,
            39.296651057030054,
            35.30943062578332,
            47.01991141010542,
            33.92633171248195,
            49.09100348457916,
            34.38987759765096,
            32.43696583880521,
            41.00624250283886,
            35.14185650252923,
            45.72306714862216,
            40.86296799161992,
            42.83818434260614,
            45.73617159667303,
            39.53210783188214,
            49.0737975885739,
            57.14290644024329,
            57.706839922493636,
            62.75595347393782,
            59.107842970063466,
            47.46402896950669,
            44.741998466743034,
            53.97709175070523,
            42.81917200713477,
            46.22297431622821,
            35.6272676704076,
            39.208669186583776,
            37.29233922434934,
            40.12865267894753,
            30.327632946171715,
            47.737885012746425,
            15.822744554167983,
            36.25489357131939,
            27.12668001289962,
            50.60786402473951,
            44.70511019742409,
            38.01547131662022,
            40.656081913994534,
            48.37230007653792,
            43.325399390018575,
            46.18788774898558,
            38.95897953189402,
            39.91802418305411,
            31.980749813195388,
            31.051763111209695,
            47.05653453142392,
            41.55731320768728,
            32.46157931997521,
            40.43320802181319,
            27.290453384503255,
            46.34520783167501,
            46.530678068868504,
            42.571366905480346
           ]
          },
          {
           "axis": {
            "matches": true
           },
           "label": "delta_mfcc2_mean",
           "values": [
            -7.661632402182522e-17,
            -0.0010350317740141905,
            0.00025294673608452367,
            -0.004109963166074901,
            0.000608485782393345,
            -1.0593883057202081e-16,
            0.022871942052055273,
            0.00009669088389164968,
            -0.007791473359574856,
            -0.012049443738361776,
            0.041858455720658425,
            -0.009753797942826634,
            0.016067153842896885,
            -0.0020275926242841235,
            0.010736611038158626,
            0.04456680627632428,
            -0.02383325941169482,
            0.015559358337788067,
            -0.03367890271458549,
            -0.2349712327530296,
            -0.6370633719466676,
            0.3564121394345188,
            -0.2519418599094046,
            0.030971753557149984,
            0.12453601807597428,
            0.08549370927729996,
            0.01888514374865556,
            -0.6986263875606549,
            -0.5546217899362541,
            -0.5474921649513041,
            0.04488583767840874,
            0.07434282750701796,
            0.026434947516528043,
            0.20910171406916828,
            -0.5559992684574435,
            -0.11549260473685388,
            -0.02099114456096938,
            -0.5010784720262891,
            -0.1706518473256008,
            0.13469300655257355,
            0.011506437257492959,
            -0.05823839198800785,
            -0.027838688924812713,
            -0.13463646856524,
            -0.007031750879881263,
            0.010637605891801022,
            -0.009794588611863102,
            0.0022683352613808894,
            -0.02119699647137933,
            0.05665938587432953,
            0.02965204303024969,
            0.20175484871454644,
            -0.04568856795198753,
            0.005617500689899297,
            -0.046142691034677795,
            -0.10993961531471685,
            0.10908247763660432,
            0.02959266139877896,
            0.026788303135275113,
            0.042791277362785866,
            -0.028307583539996524,
            0.28297482071819996,
            -0.01608516410590821,
            -0.017369685129534285,
            -0.012751685985123653,
            0.08490158033964597,
            -0.019719568672948763,
            0.015860433869915876,
            0.013323017484986634,
            0.08001507806112997,
            -0.004089001006424486,
            -0.17921672793186078,
            -0.0911556744855699,
            0.04210237856608224,
            0.027901072066881676,
            -0.06680936909450784,
            -0.08930260667216548,
            0.007245863863616912,
            0.00039005702026858024,
            -0.020727915618089763,
            0.012456733242779603,
            0.014618618571241623,
            0.01456531291593035,
            -0.0024839938630131734,
            0.0019374559054378187,
            0.025563962662041043,
            0.0028141460194906457,
            -0.020496170063693083,
            -0.013933850659581401,
            0.010630102674423011,
            0.0009246653989051744,
            0.004124627849671758,
            -1.3408930985485623e-16,
            0.0003849347447751338,
            0.0026858308221606305,
            0.0016576164708619538,
            -1.2437088935996752e-16,
            -0.009801476497948344,
            0.0010918182946540922,
            -0.015632911212632064,
            0.01018824792377522,
            -0.01635748823987255,
            -0.005664306610547706,
            -4.9178179888806105e-17,
            -0.0015911424600939272,
            0.21311665261844961,
            0.005949364553693987,
            -0.0022216249945936797,
            0.11650009973633184,
            0.4801443737232109,
            -0.020521608975412484,
            0.000031462358818093285,
            0.0035497055601264368,
            -0.011734233229844486,
            0.26189739397371953,
            0.008693628680112517,
            0.015839994328845863,
            0.0032236223657797266,
            -0.008336658381515058,
            0.020281007051384137,
            0.017807836279568827,
            -0.07274647228125072,
            0.20713357171753222,
            0.016338786889585823,
            0.010737841631081057,
            0.005804578575625472,
            -0.001509911228627646,
            0.005683226096201416,
            0.008145446283650125,
            0.019583438898219813,
            -0.00505934582844928,
            0.016031628550510768,
            0.020433597081840463,
            -0.025351207025788004,
            -0.0005436534740755732,
            0.013473999704744603,
            -0.008483216872050003,
            -0.02860069468464382,
            -0.14374881716678958,
            0.21051094885950164,
            -0.10983530920729626,
            0.018863640709759183,
            -0.0006823502158766882,
            -0.012075737787539469,
            0.10744302127018511,
            -0.030197221340623377,
            0.038198018248451655,
            -0.033253938767596455,
            0.011362934601956465,
            -0.0018421851775362688,
            0.26707915093479523,
            -0.006488615437256804,
            0.010592066878530225,
            0.0070906137124446605,
            0.007103383892493626,
            0.03523172977810261,
            -0.04326366599943307,
            -0.017500294925692016,
            0.09343568243508928,
            -0.00012200861050213107,
            -0.039424175696551274,
            0.12625537189175345,
            -0.0070437770770295435,
            0.10391270752248986,
            -0.004393712917987715,
            -0.02367499778566984,
            0.027301005923013984
           ]
          },
          {
           "axis": {
            "matches": true
           },
           "label": "delta_mfcc3_std",
           "values": [
            2.3386540424175273,
            3.1636812408576573,
            3.811245089796493,
            4.3383549655351,
            3.5091258390044264,
            3.4544240822004477,
            3.979843393059399,
            3.9653260384488482,
            3.7910331857712722,
            3.492604223301911,
            2.9165626456832556,
            2.9251416214680863,
            3.888820686801685,
            2.8948649985315633,
            3.6268354898035122,
            3.7715149577364113,
            2.0612871677635365,
            3.4834902805156465,
            2.6490063455416033,
            3.770668613601586,
            3.6513740707534716,
            3.7023257077419642,
            2.7997088863719037,
            3.7565812761586477,
            3.0894061593235445,
            1.6724686362446963,
            2.817784135106644,
            3.6759976857629204,
            3.6570692001668603,
            3.6316276927725863,
            2.691777294601804,
            3.9080374482337943,
            4.763647747427146,
            3.040295891033628,
            2.6093483186118807,
            2.5604358062625203,
            2.506012125801518,
            2.742504117480523,
            2.229004219785054,
            3.7088868596471687,
            2.66041746574037,
            3.4571710982663966,
            2.5744317201271536,
            3.2584019952470884,
            3.6035153209653754,
            3.2879792577913602,
            4.76699974869664,
            2.6555424259543843,
            3.8687131342235404,
            3.556113384255341,
            3.932484071076805,
            3.496120977728384,
            3.3108684096794687,
            3.039507063597223,
            2.6777303672285084,
            2.975042675989317,
            1.9650716167660836,
            4.969036637454223,
            3.2983349207218873,
            3.0953927597803195,
            3.4248768103854386,
            2.855694328724925,
            3.2349326037002575,
            3.5767355086904153,
            3.1134445588072777,
            4.521424677439575,
            2.011763172707869,
            3.478157908855246,
            3.906103466134787,
            3.4462373657075434,
            3.1263641895759613,
            2.8091387301317168,
            4.250769548497093,
            2.7325101944472214,
            2.959978386714798,
            3.4327305213028683,
            2.6258376839906186,
            4.8933801620268,
            5.142000835386562,
            3.0147114256311967,
            3.05738844202774,
            2.7635295036356173,
            3.1223855683307655,
            3.2865516516579807,
            4.0165942346585,
            3.2617092685481723,
            3.4410288848490422,
            3.4958426796664384,
            3.798275554411208,
            4.470723790492488,
            3.5297162362227534,
            2.5250508265836213,
            3.621193420299404,
            3.192632171476762,
            3.2198673094616503,
            2.9535323743068376,
            3.2084492219664558,
            3.3423177113343727,
            2.8911155558724686,
            3.074870873998152,
            2.4876966152157802,
            2.5089184676057887,
            3.021181278448658,
            3.153585911528501,
            3.0134553811727347,
            4.573644355335835,
            3.336867752512926,
            3.407108488326959,
            4.845661690349987,
            2.926367116010292,
            3.553143916535012,
            2.9230325384948985,
            2.3795843079201626,
            2.8157077912754978,
            3.4431750998506803,
            2.3483302542518927,
            2.1487496121563567,
            3.407262780263722,
            4.500175012771502,
            4.333593421536363,
            3.6015968246001777,
            5.301322758776909,
            2.573875548074717,
            3.8621457014713116,
            3.3536502556177044,
            3.2537813494212235,
            2.8941703517080195,
            3.066372708269324,
            3.1697037648474597,
            2.812633977669032,
            3.7212950725411833,
            3.6710226576430403,
            3.4253427255333104,
            3.6711807796750207,
            3.719277503151632,
            3.2075395601193546,
            3.3647832185771747,
            3.158733640945818,
            3.529933090194326,
            3.494249234990907,
            3.0233282987589973,
            3.238042065218597,
            3.5611433069693756,
            1.8964814510208372,
            2.6034909302475526,
            4.1039991286739514,
            3.9704287677794174,
            4.186932718076589,
            3.678765747528869,
            3.330693296967368,
            2.2987177151224767,
            3.375792812961467,
            3.169969177086108,
            3.14937207818846,
            3.5422091490774035,
            2.665691276097191,
            3.530613924256749,
            3.424715529860959,
            2.931332638272846,
            3.050548594096114,
            3.5097317337865617,
            2.269283708821809,
            3.2523272971005768,
            3.414347445117207,
            3.513413374296669,
            3.9343771121791806,
            3.8594953777423795
           ]
          },
          {
           "axis": {
            "matches": true
           },
           "label": "delta_mfcc8_std",
           "values": [
            0.9457313119462883,
            1.2277853577088824,
            1.319823956184864,
            0.9055050106659556,
            1.0448545684753838,
            1.3563272841147311,
            1.3175761383443776,
            1.3460864501327836,
            1.6129302278297688,
            1.2445976056325303,
            2.48733136863832,
            2.4017889296508588,
            1.401190650190409,
            0.614777234655685,
            2.1287080933236484,
            1.4475539598135623,
            0.9698067402953454,
            0.9476433199804608,
            0.9455470279761946,
            1.2441325484807209,
            1.2568425550986992,
            1.2565471624833415,
            0.9012564231405408,
            1.4079685513727578,
            1.041452173920869,
            1.7893315183433538,
            1.7705578069207473,
            1.1039859674567873,
            1.0527719316125934,
            0.9546090780592664,
            2.0185571622698264,
            1.0063388757755394,
            0.9493193876166447,
            1.1028632856975893,
            1.047264896549458,
            1.1825209660746834,
            0.9685666446520131,
            1.0157634902516708,
            0.8028142121901152,
            1.1947807265244819,
            1.0874348958359916,
            1.0244943117026502,
            1.0926765711967392,
            1.0977551848293285,
            1.4085316039336933,
            1.9081682036897947,
            0.9329418812500981,
            1.1386672701259302,
            1.654866194646788,
            1.6387184783836202,
            1.686120708809802,
            1.6421886354990358,
            1.5526312963302589,
            1.5644769966888818,
            1.0969482783081046,
            1.220867606708962,
            1.0094425300114096,
            1.0183218829997072,
            1.2275176288314833,
            1.2490221708773057,
            1.2739509017887019,
            1.9604439357368062,
            1.6911727842477184,
            1.1410260064955589,
            1.1446319631036304,
            0.7020768000016653,
            1.2575508822323065,
            1.5897609823697962,
            1.620216363895723,
            1.5041411797372455,
            1.5601710374799918,
            1.1735192661279805,
            0.7989601770765948,
            1.0814190338160639,
            1.0836114551378622,
            1.6466833504373142,
            1.5438170259146295,
            0.8006618718425788,
            0.7413415698059339,
            1.198323482913275,
            1.154787860115082,
            1.1822116823418398,
            1.0491291705462051,
            1.5687732921833895,
            1.4720231256467275,
            1.200711936139211,
            1.196126895391273,
            1.2824000728550684,
            1.3922104893838294,
            1.3787840762359613,
            1.342152009239704,
            0.7892778241222829,
            1.216075952903022,
            1.0309100824540272,
            1.141862085858294,
            1.2161872661942623,
            1.4335068717437103,
            1.2497310756420226,
            1.231096720886429,
            0.696084543211191,
            1.0817147605045936,
            0.9481322844235726,
            1.1612845643954692,
            1.0703295364858618,
            1.0736460123087819,
            1.1175523010391437,
            1.085718118256087,
            1.2047818567187638,
            0.9165442288598863,
            0.7965059007546127,
            1.1337946773286012,
            1.0273895904575088,
            0.8937285745789598,
            0.9790084693717582,
            0.9889199477505733,
            0.7811996368010604,
            0.8873555641321131,
            1.0595414234794334,
            0.8756490175503759,
            1.0871472890798448,
            1.4150673129907765,
            0.8472144024621447,
            1.2283817510654715,
            1.3941448937314853,
            1.0943395655885169,
            1.1732528139690388,
            0.8051981628155175,
            1.0798357191786214,
            1.3256918103001727,
            1.555114159316114,
            1.3849823503399266,
            1.3451215859056582,
            1.3235567840767009,
            1.3290506208596158,
            1.7564796118795079,
            1.644382144784082,
            1.3305816933906098,
            1.1711770457579336,
            1.4074557891982387,
            1.6202222841534324,
            1.2346905847368645,
            1.5302599497504892,
            1.2311266245063581,
            1.1696869860568824,
            1.2605840663800103,
            0.9218906354347152,
            0.8846770938560554,
            0.916602718555442,
            1.2843653481833048,
            1.2753602415798517,
            1.2937943686229025,
            1.3992312098833075,
            1.1486386945976375,
            1.5073017584202868,
            1.2404306183590068,
            1.4089285230793944,
            1.0141899788236033,
            1.5827809691182086,
            1.5442113073493557,
            1.1878352658898204,
            1.63655756221199,
            1.261645606775259,
            1.5750774094617461,
            1.8426909164291287,
            1.1745077711718392,
            1.3900009592367966,
            1.321179877497876
           ]
          },
          {
           "axis": {
            "matches": true
           },
           "label": "rms_mean",
           "values": [
            -60.25390726028672,
            -45.14042185593923,
            -47.7463158521377,
            -34.31304343943274,
            -46.51956919078778,
            -34.99990618748147,
            -28.92190822586265,
            -36.750679822664175,
            -45.59659587652146,
            -34.990099965375066,
            -42.36977255067432,
            -41.12914714454959,
            -41.75635703269908,
            -64.3668361957995,
            -46.84238857472792,
            -41.47557428643529,
            -35.51875831129954,
            -41.338236741178996,
            -31.262527423011868,
            -17.22489197475491,
            -20.500030554191436,
            -30.199362552794298,
            -28.7810896659265,
            -40.84918667505533,
            -16.069453477439765,
            -34.519287404334186,
            -41.70974984927827,
            -27.114238709143404,
            -19.057704212570304,
            -18.00799123598158,
            -39.70555373949524,
            -16.54224418846366,
            -17.375224261570278,
            -16.5562040952898,
            -17.454439229031696,
            -24.127889625964997,
            -22.076388242285553,
            -19.400182891558014,
            -52.85890403255463,
            -22.26474166152011,
            -21.74265122490714,
            -46.85154803978888,
            -21.173799005035217,
            -37.44727633210283,
            -41.85404734977051,
            -46.751865109438995,
            -31.000253785196836,
            -49.69559950207234,
            -33.068594895630675,
            -30.577823885164523,
            -35.96503103293629,
            -31.281401169102168,
            -36.595783458878834,
            -44.29488140539374,
            -47.621852806067466,
            -31.157656819194663,
            -52.61895706810682,
            -29.5143638662738,
            -44.2252757736283,
            -36.616945844881336,
            -38.507192857405755,
            -30.490116937321165,
            -38.6783091846379,
            -30.012203443435,
            -34.36611874642715,
            -36.48582477297069,
            -43.46999939912037,
            -38.4193687288216,
            -30.091404413757996,
            -25.946004273752724,
            -37.8019195422254,
            -40.182765952624514,
            -31.035449348850733,
            -48.841777243334164,
            -49.892704000624924,
            -33.11336050741556,
            -33.62961380391867,
            -33.60676829186398,
            -37.03512573199756,
            -41.3360789555069,
            -36.88598033496445,
            -39.79382186546597,
            -44.37831647304522,
            -38.534099966807105,
            -43.29556523130979,
            -39.13460250305038,
            -38.93794060857011,
            -32.999237197771876,
            -37.090321207648394,
            -28.105298444578466,
            -36.15606388083476,
            -49.70544896372793,
            -48.707807212816874,
            -52.0966370748742,
            -49.727056378462024,
            -37.41546326786491,
            -36.636193832770516,
            -38.685859699000524,
            -54.468339962127644,
            -37.228510734040455,
            -47.238016620786915,
            -51.10520286397626,
            -49.22820148131021,
            -46.95595300883173,
            -37.972420037641896,
            -21.33304674171446,
            -39.26987698056584,
            -35.00817017341584,
            -31.20558260162605,
            -61.15336978270506,
            -23.870084002110136,
            -28.096006158523338,
            -54.83650142919444,
            -45.03316835934802,
            -21.02081282742367,
            -48.52285773274006,
            -53.47220699088999,
            -40.968342431463384,
            -18.09477167472851,
            -35.407796081342696,
            -31.186669991775172,
            -20.64545078967701,
            -25.74672998799987,
            -28.772775256963268,
            -34.32552459432447,
            -35.619133720517425,
            -25.913325625675093,
            -45.99934352796297,
            -54.72482262406024,
            -50.06955259218025,
            -39.637885456500165,
            -34.83792938827852,
            -30.264182058016605,
            -31.17984773181531,
            -38.648152855747306,
            -34.863171067938005,
            -43.34948588392681,
            -46.898713883589146,
            -34.984974469219445,
            -30.537840536388973,
            -42.4939096349759,
            -35.838761832249574,
            -43.91115805348044,
            -32.801453144186965,
            -25.467355417787115,
            -20.681046847759077,
            -34.13691740315631,
            -31.06212400695755,
            -38.54006237167198,
            -46.794498166259956,
            -25.71125389794818,
            -41.68316345169176,
            -37.467312933123694,
            -41.02873513456896,
            -37.42185771613684,
            -34.66156990239007,
            -28.474944508063565,
            -38.00085585301043,
            -28.094124053156822,
            -43.57963955536276,
            -43.31789425832413,
            -35.52662347337502,
            -42.11155968347807,
            -36.52393483117655,
            -37.44162727326797,
            -30.995433540886896,
            -34.13237468292977
           ]
          },
          {
           "axis": {
            "matches": true
           },
           "label": "delta_mfcc9_std",
           "values": [
            0.9542774843253603,
            1.2531928436657565,
            1.4022149543673672,
            1.1088967723802583,
            1.1135983174474302,
            1.3656406894623294,
            1.2712032393368136,
            1.409901125528153,
            1.2835770884770363,
            0.8746257155811504,
            1.3822111746556036,
            1.1797339477825903,
            1.1407918018352443,
            0.6241742005033623,
            1.220192427835497,
            1.3392225728527762,
            0.7977765606585634,
            0.6891668946273215,
            0.908075226858152,
            1.1417282683522976,
            1.1231903708562978,
            1.139616067821367,
            1.0069899907273616,
            1.3020087688747584,
            1.2364574840627873,
            1.351063455458342,
            1.275175510275378,
            0.8911012917797572,
            1.2295058133195502,
            1.1429549669556431,
            1.4867065869837022,
            1.203947021633846,
            1.1106616502138165,
            1.2922847180879087,
            1.0694626853784797,
            1.0790479340677885,
            0.8601718643717237,
            0.6343383434199131,
            0.5851496671462312,
            0.9390843656515969,
            0.8545758931945413,
            0.7721772998183184,
            0.9698663177165039,
            0.9221556425228582,
            1.2029732956092405,
            1.2764326530435974,
            1.067106286393928,
            1.0698744186185476,
            1.110348631035621,
            1.1122856773370282,
            1.2121305757544645,
            1.2193756636768627,
            1.1510364042925285,
            1.074479028465264,
            0.9115801455349238,
            1.070172949392235,
            0.9197039316083049,
            1.0899047824506953,
            1.1447208479033533,
            1.2320071814047147,
            1.2204188662699726,
            1.3961740268627068,
            1.1239146823713395,
            1.0437009223919742,
            0.893712795484835,
            0.7643967407899629,
            1.096976863328776,
            1.2757595680923821,
            1.3137436009200396,
            1.4266322398400948,
            1.3322638251670305,
            1.1219432798565234,
            0.7983222286009004,
            1.1130337331603668,
            1.0414446703309748,
            0.9774714624942101,
            0.964050561679517,
            0.790465196146906,
            0.9221006704479969,
            1.298213777797164,
            1.2189455368881608,
            1.1351250339406511,
            1.1645147976587875,
            1.184172257564763,
            1.2900704421573825,
            1.1462389272750169,
            1.18735820044581,
            1.3355098891261707,
            1.495418654186921,
            1.7347119926722874,
            1.5852872497621968,
            0.8641087514150599,
            1.3519628782573991,
            1.0668652019688627,
            1.177080341854714,
            1.2064973264269538,
            1.38136114432615,
            1.334141853792705,
            1.0567323912409208,
            0.9025941045995324,
            1.0764865501444731,
            0.9849887430279691,
            1.0752390139107018,
            1.0974295229953006,
            1.1695382503791047,
            1.274202247572351,
            1.1582090642702403,
            1.194849785990345,
            0.9643428605027761,
            0.6151478342951443,
            1.139449783266275,
            1.1244037700032374,
            0.8652921705510913,
            0.8674235696925765,
            1.359800975240177,
            0.8597081661808558,
            0.8201849199101106,
            1.0306244170163583,
            1.0316038131192145,
            1.2087316293409363,
            1.1187603532637884,
            1.0236456098316356,
            1.225924726614301,
            1.177350732225837,
            1.2244259631287933,
            1.1918415650750684,
            0.9329098124137689,
            1.1449021639367785,
            1.2991586628679501,
            1.199917335264183,
            1.3527603229553569,
            1.3685775657590278,
            1.3582188362172802,
            1.4238650277513156,
            1.3446297910795393,
            1.3332868692407422,
            1.143103764601202,
            1.2983281272728644,
            1.4407246228788146,
            1.4414084351024097,
            1.284514793904301,
            1.3726449419836384,
            1.3350767165509492,
            1.3077544700758177,
            1.5783551428785014,
            1.2710889365133358,
            1.0768615088051872,
            1.0519233507180776,
            1.26773771873318,
            1.1619207890819891,
            1.7822401755174913,
            1.1287126422761518,
            1.2260570335579934,
            1.2316703436875618,
            1.580275161220786,
            1.26039190414586,
            1.232915521500604,
            1.1875015367313047,
            1.3223118588501104,
            1.1164272627734777,
            0.9833444740463894,
            1.2396947859525465,
            1.2716875937942034,
            1.1517118407036144,
            1.4377259066028416,
            1.5568019871547998,
            1.4345078453576807
           ]
          }
         ],
         "hovertemplate": "style=rock<br>%{xaxis.title.text}=%{x}<br>%{yaxis.title.text}=%{y}<extra></extra>",
         "legendgroup": "rock",
         "marker": {
          "color": "#00cc96",
          "symbol": "circle"
         },
         "name": "rock",
         "showlegend": true,
         "type": "splom"
        },
        {
         "dimensions": [
          {
           "axis": {
            "matches": true
           },
           "label": "delta_mfcc13_mean",
           "values": [
            -0.0020655211571137823,
            0.0013213314017344855,
            -0.009699977862349817,
            -0.018097861813274108,
            -0.015963150767660837,
            -0.005449367854093312,
            0.013884203607948915,
            -0.0027615966065940834,
            0.0010872817378655788,
            -0.007187992108296772,
            -0.0036415936184941936,
            -0.0007687715568168965,
            0.0012876724978946321,
            -0.0012197434304241244,
            -0.001220099117180483,
            -0.000841925639917878,
            -0.007189506950739308,
            -0.0060014555253494846,
            0.0015291538936345191,
            0.00004426942259382253,
            0.001808803193573878,
            0.0013233324519282086,
            -0.001011758561047443,
            -0.0009302701851394724,
            -0.0006111524924736765,
            -0.002092421745174631,
            -0.0007932019930652043,
            -0.0018184829799366864
           ]
          },
          {
           "axis": {
            "matches": true
           },
           "label": "mfcc13_std",
           "values": [
            6.7970351978354575,
            7.37081321856601,
            6.693864119069908,
            6.731104667788501,
            5.353952904388859,
            6.278979802930699,
            4.955160162044244,
            7.014478684883048,
            6.895518770167044,
            6.771317355455611,
            7.4465478979740265,
            7.396128627468117,
            7.6250047233065175,
            5.837107927973959,
            7.588485775780908,
            8.240386060579917,
            7.558857092330272,
            7.916279408144092,
            6.586688044233834,
            8.056986435039857,
            7.696799319381468,
            6.995469554497356,
            7.7879449733505055,
            8.23320844134169,
            6.863951551541046,
            7.952469882455305,
            7.7496131974759335,
            8.368007691155322
           ]
          },
          {
           "axis": {
            "matches": true
           },
           "label": "mfcc2_std",
           "values": [
            45.416578450870446,
            38.47367453928529,
            42.46109964176315,
            40.48124040637139,
            39.14729239484168,
            48.55888160050593,
            32.5321609947735,
            50.95677171061462,
            56.73489195659268,
            55.28460600569683,
            53.11093718910316,
            50.39158188576725,
            48.571546824775204,
            55.09140503543274,
            40.673640026046805,
            39.475483919360066,
            47.935792806973204,
            48.426917415298604,
            56.30742256876166,
            51.6876397995896,
            52.54238214558257,
            53.35499256643279,
            32.82479539769859,
            40.3102818025338,
            42.11999868093178,
            38.8094817544255,
            36.34171207763959,
            47.13739034007086
           ]
          },
          {
           "axis": {
            "matches": true
           },
           "label": "delta_mfcc2_mean",
           "values": [
            0.006786948114063387,
            -0.005119739881298195,
            0.049278129474282874,
            -0.014585958869649033,
            0.009052144020381382,
            -0.0005068141756609842,
            0.058253686730692054,
            -0.022335677737030244,
            0.012705725548681294,
            -0.01249483726875187,
            -0.043935131259040354,
            0.0008910267214994339,
            0.06266045637284723,
            -0.07709664365412774,
            -0.0011618378750688375,
            0.0038149001423684677,
            0.11898716869237515,
            0.012838261944143853,
            0.04218008104712582,
            0.007514659217784565,
            0.021404134059188132,
            0.012055543917015632,
            -0.00457104829365595,
            -0.003906361661086944,
            -0.005612143040806213,
            -0.02118242061508916,
            0.000886012572037987,
            0.005338615901300373
           ]
          },
          {
           "axis": {
            "matches": true
           },
           "label": "delta_mfcc3_std",
           "values": [
            3.4850659438240847,
            3.333030806813447,
            3.090639783111903,
            3.0205510706785446,
            3.167344590947017,
            4.122943436193243,
            2.9049858052843796,
            2.9879364971093136,
            3.105569351101354,
            3.101237391945358,
            2.9141754284316166,
            3.314201199657714,
            3.1732844761158274,
            2.978015954487969,
            2.4088472330447477,
            2.9075405067706224,
            2.4809171851093557,
            2.741472685988243,
            2.503020959638285,
            3.22254347778346,
            3.0880757856670553,
            2.5545770553913107,
            3.072815308248945,
            3.2708011454130403,
            2.8476553216069522,
            2.3373463980902542,
            2.389364009851066,
            2.9676176200465285
           ]
          },
          {
           "axis": {
            "matches": true
           },
           "label": "delta_mfcc8_std",
           "values": [
            1.0983015721931533,
            1.1058976734339547,
            1.1418038048306132,
            1.058203163169663,
            0.9825862493237125,
            1.2449572755690526,
            1.0230117366503773,
            1.2269919400742513,
            1.0804902358830122,
            1.1601620486201072,
            1.1498675828832274,
            1.073029297791972,
            1.0604738853782347,
            0.9152962726845048,
            1.1357898165323608,
            1.358774981536638,
            1.329947096927292,
            1.1715187057074663,
            1.141133468523585,
            1.310905293892426,
            1.2824232109661042,
            1.1702270002775939,
            1.1942875687726011,
            1.047760196372133,
            0.8926228423861381,
            1.2281344494382398,
            1.1924018825055949,
            1.2077033436117801
           ]
          },
          {
           "axis": {
            "matches": true
           },
           "label": "rms_mean",
           "values": [
            -44.93428357077411,
            -48.58179690907093,
            -41.49888491995817,
            -42.85354531792905,
            -40.96467116754036,
            -33.695198691332045,
            -54.342037556552434,
            -37.279888860799595,
            -39.213442569749304,
            -34.825066760889705,
            -37.29301568149375,
            -44.327489105776685,
            -44.15322987439611,
            -48.91598448821551,
            -43.69085613689715,
            -42.35976789127336,
            -27.779944088788774,
            -35.25433429631543,
            -29.623949244848415,
            -43.1556208128775,
            -41.58150604944344,
            -35.556716075791776,
            -51.38348750537989,
            -50.71292269196957,
            -59.58624260180543,
            -36.03762586075037,
            -36.87585436305868,
            -40.66479156270014
           ]
          },
          {
           "axis": {
            "matches": true
           },
           "label": "delta_mfcc9_std",
           "values": [
            1.1393542855089902,
            1.0382708457770295,
            1.048135084173642,
            1.0318480958262954,
            1.021495323397951,
            1.3546984867035767,
            1.0085819764606947,
            1.228658172190335,
            1.186841778937544,
            1.286040730963121,
            1.2915365330263953,
            1.1550444959626007,
            1.1545937766257293,
            1.0673768236377177,
            1.2157841419229851,
            1.3055891711480263,
            1.488377372451078,
            1.269579928312192,
            1.0733481048051645,
            1.413474725179282,
            1.2655105609571633,
            1.1431801976276732,
            1.1419466461213317,
            1.1625436968724445,
            0.8834429920069863,
            1.32895578647819,
            1.206395504862034,
            1.192877230614071
           ]
          }
         ],
         "hovertemplate": "style=hiphop<br>%{xaxis.title.text}=%{x}<br>%{yaxis.title.text}=%{y}<extra></extra>",
         "legendgroup": "hiphop",
         "marker": {
          "color": "#ab63fa",
          "symbol": "circle"
         },
         "name": "hiphop",
         "showlegend": true,
         "type": "splom"
        }
       ],
       "layout": {
        "autosize": true,
        "dragmode": "select",
        "height": 1500,
        "legend": {
         "title": {
          "text": "style"
         },
         "tracegroupgap": 0
        },
        "margin": {
         "t": 60
        },
        "template": {
         "data": {
          "bar": [
           {
            "error_x": {
             "color": "#2a3f5f"
            },
            "error_y": {
             "color": "#2a3f5f"
            },
            "marker": {
             "line": {
              "color": "#E5ECF6",
              "width": 0.5
             }
            },
            "type": "bar"
           }
          ],
          "barpolar": [
           {
            "marker": {
             "line": {
              "color": "#E5ECF6",
              "width": 0.5
             }
            },
            "type": "barpolar"
           }
          ],
          "carpet": [
           {
            "aaxis": {
             "endlinecolor": "#2a3f5f",
             "gridcolor": "white",
             "linecolor": "white",
             "minorgridcolor": "white",
             "startlinecolor": "#2a3f5f"
            },
            "baxis": {
             "endlinecolor": "#2a3f5f",
             "gridcolor": "white",
             "linecolor": "white",
             "minorgridcolor": "white",
             "startlinecolor": "#2a3f5f"
            },
            "type": "carpet"
           }
          ],
          "choropleth": [
           {
            "colorbar": {
             "outlinewidth": 0,
             "ticks": ""
            },
            "type": "choropleth"
           }
          ],
          "contour": [
           {
            "colorbar": {
             "outlinewidth": 0,
             "ticks": ""
            },
            "colorscale": [
             [
              0,
              "#0d0887"
             ],
             [
              0.1111111111111111,
              "#46039f"
             ],
             [
              0.2222222222222222,
              "#7201a8"
             ],
             [
              0.3333333333333333,
              "#9c179e"
             ],
             [
              0.4444444444444444,
              "#bd3786"
             ],
             [
              0.5555555555555556,
              "#d8576b"
             ],
             [
              0.6666666666666666,
              "#ed7953"
             ],
             [
              0.7777777777777778,
              "#fb9f3a"
             ],
             [
              0.8888888888888888,
              "#fdca26"
             ],
             [
              1,
              "#f0f921"
             ]
            ],
            "type": "contour"
           }
          ],
          "contourcarpet": [
           {
            "colorbar": {
             "outlinewidth": 0,
             "ticks": ""
            },
            "type": "contourcarpet"
           }
          ],
          "heatmap": [
           {
            "colorbar": {
             "outlinewidth": 0,
             "ticks": ""
            },
            "colorscale": [
             [
              0,
              "#0d0887"
             ],
             [
              0.1111111111111111,
              "#46039f"
             ],
             [
              0.2222222222222222,
              "#7201a8"
             ],
             [
              0.3333333333333333,
              "#9c179e"
             ],
             [
              0.4444444444444444,
              "#bd3786"
             ],
             [
              0.5555555555555556,
              "#d8576b"
             ],
             [
              0.6666666666666666,
              "#ed7953"
             ],
             [
              0.7777777777777778,
              "#fb9f3a"
             ],
             [
              0.8888888888888888,
              "#fdca26"
             ],
             [
              1,
              "#f0f921"
             ]
            ],
            "type": "heatmap"
           }
          ],
          "heatmapgl": [
           {
            "colorbar": {
             "outlinewidth": 0,
             "ticks": ""
            },
            "colorscale": [
             [
              0,
              "#0d0887"
             ],
             [
              0.1111111111111111,
              "#46039f"
             ],
             [
              0.2222222222222222,
              "#7201a8"
             ],
             [
              0.3333333333333333,
              "#9c179e"
             ],
             [
              0.4444444444444444,
              "#bd3786"
             ],
             [
              0.5555555555555556,
              "#d8576b"
             ],
             [
              0.6666666666666666,
              "#ed7953"
             ],
             [
              0.7777777777777778,
              "#fb9f3a"
             ],
             [
              0.8888888888888888,
              "#fdca26"
             ],
             [
              1,
              "#f0f921"
             ]
            ],
            "type": "heatmapgl"
           }
          ],
          "histogram": [
           {
            "marker": {
             "colorbar": {
              "outlinewidth": 0,
              "ticks": ""
             }
            },
            "type": "histogram"
           }
          ],
          "histogram2d": [
           {
            "colorbar": {
             "outlinewidth": 0,
             "ticks": ""
            },
            "colorscale": [
             [
              0,
              "#0d0887"
             ],
             [
              0.1111111111111111,
              "#46039f"
             ],
             [
              0.2222222222222222,
              "#7201a8"
             ],
             [
              0.3333333333333333,
              "#9c179e"
             ],
             [
              0.4444444444444444,
              "#bd3786"
             ],
             [
              0.5555555555555556,
              "#d8576b"
             ],
             [
              0.6666666666666666,
              "#ed7953"
             ],
             [
              0.7777777777777778,
              "#fb9f3a"
             ],
             [
              0.8888888888888888,
              "#fdca26"
             ],
             [
              1,
              "#f0f921"
             ]
            ],
            "type": "histogram2d"
           }
          ],
          "histogram2dcontour": [
           {
            "colorbar": {
             "outlinewidth": 0,
             "ticks": ""
            },
            "colorscale": [
             [
              0,
              "#0d0887"
             ],
             [
              0.1111111111111111,
              "#46039f"
             ],
             [
              0.2222222222222222,
              "#7201a8"
             ],
             [
              0.3333333333333333,
              "#9c179e"
             ],
             [
              0.4444444444444444,
              "#bd3786"
             ],
             [
              0.5555555555555556,
              "#d8576b"
             ],
             [
              0.6666666666666666,
              "#ed7953"
             ],
             [
              0.7777777777777778,
              "#fb9f3a"
             ],
             [
              0.8888888888888888,
              "#fdca26"
             ],
             [
              1,
              "#f0f921"
             ]
            ],
            "type": "histogram2dcontour"
           }
          ],
          "mesh3d": [
           {
            "colorbar": {
             "outlinewidth": 0,
             "ticks": ""
            },
            "type": "mesh3d"
           }
          ],
          "parcoords": [
           {
            "line": {
             "colorbar": {
              "outlinewidth": 0,
              "ticks": ""
             }
            },
            "type": "parcoords"
           }
          ],
          "pie": [
           {
            "automargin": true,
            "type": "pie"
           }
          ],
          "scatter": [
           {
            "marker": {
             "colorbar": {
              "outlinewidth": 0,
              "ticks": ""
             }
            },
            "type": "scatter"
           }
          ],
          "scatter3d": [
           {
            "line": {
             "colorbar": {
              "outlinewidth": 0,
              "ticks": ""
             }
            },
            "marker": {
             "colorbar": {
              "outlinewidth": 0,
              "ticks": ""
             }
            },
            "type": "scatter3d"
           }
          ],
          "scattercarpet": [
           {
            "marker": {
             "colorbar": {
              "outlinewidth": 0,
              "ticks": ""
             }
            },
            "type": "scattercarpet"
           }
          ],
          "scattergeo": [
           {
            "marker": {
             "colorbar": {
              "outlinewidth": 0,
              "ticks": ""
             }
            },
            "type": "scattergeo"
           }
          ],
          "scattergl": [
           {
            "marker": {
             "colorbar": {
              "outlinewidth": 0,
              "ticks": ""
             }
            },
            "type": "scattergl"
           }
          ],
          "scattermapbox": [
           {
            "marker": {
             "colorbar": {
              "outlinewidth": 0,
              "ticks": ""
             }
            },
            "type": "scattermapbox"
           }
          ],
          "scatterpolar": [
           {
            "marker": {
             "colorbar": {
              "outlinewidth": 0,
              "ticks": ""
             }
            },
            "type": "scatterpolar"
           }
          ],
          "scatterpolargl": [
           {
            "marker": {
             "colorbar": {
              "outlinewidth": 0,
              "ticks": ""
             }
            },
            "type": "scatterpolargl"
           }
          ],
          "scatterternary": [
           {
            "marker": {
             "colorbar": {
              "outlinewidth": 0,
              "ticks": ""
             }
            },
            "type": "scatterternary"
           }
          ],
          "surface": [
           {
            "colorbar": {
             "outlinewidth": 0,
             "ticks": ""
            },
            "colorscale": [
             [
              0,
              "#0d0887"
             ],
             [
              0.1111111111111111,
              "#46039f"
             ],
             [
              0.2222222222222222,
              "#7201a8"
             ],
             [
              0.3333333333333333,
              "#9c179e"
             ],
             [
              0.4444444444444444,
              "#bd3786"
             ],
             [
              0.5555555555555556,
              "#d8576b"
             ],
             [
              0.6666666666666666,
              "#ed7953"
             ],
             [
              0.7777777777777778,
              "#fb9f3a"
             ],
             [
              0.8888888888888888,
              "#fdca26"
             ],
             [
              1,
              "#f0f921"
             ]
            ],
            "type": "surface"
           }
          ],
          "table": [
           {
            "cells": {
             "fill": {
              "color": "#EBF0F8"
             },
             "line": {
              "color": "white"
             }
            },
            "header": {
             "fill": {
              "color": "#C8D4E3"
             },
             "line": {
              "color": "white"
             }
            },
            "type": "table"
           }
          ]
         },
         "layout": {
          "annotationdefaults": {
           "arrowcolor": "#2a3f5f",
           "arrowhead": 0,
           "arrowwidth": 1
          },
          "autotypenumbers": "strict",
          "coloraxis": {
           "colorbar": {
            "outlinewidth": 0,
            "ticks": ""
           }
          },
          "colorscale": {
           "diverging": [
            [
             0,
             "#8e0152"
            ],
            [
             0.1,
             "#c51b7d"
            ],
            [
             0.2,
             "#de77ae"
            ],
            [
             0.3,
             "#f1b6da"
            ],
            [
             0.4,
             "#fde0ef"
            ],
            [
             0.5,
             "#f7f7f7"
            ],
            [
             0.6,
             "#e6f5d0"
            ],
            [
             0.7,
             "#b8e186"
            ],
            [
             0.8,
             "#7fbc41"
            ],
            [
             0.9,
             "#4d9221"
            ],
            [
             1,
             "#276419"
            ]
           ],
           "sequential": [
            [
             0,
             "#0d0887"
            ],
            [
             0.1111111111111111,
             "#46039f"
            ],
            [
             0.2222222222222222,
             "#7201a8"
            ],
            [
             0.3333333333333333,
             "#9c179e"
            ],
            [
             0.4444444444444444,
             "#bd3786"
            ],
            [
             0.5555555555555556,
             "#d8576b"
            ],
            [
             0.6666666666666666,
             "#ed7953"
            ],
            [
             0.7777777777777778,
             "#fb9f3a"
            ],
            [
             0.8888888888888888,
             "#fdca26"
            ],
            [
             1,
             "#f0f921"
            ]
           ],
           "sequentialminus": [
            [
             0,
             "#0d0887"
            ],
            [
             0.1111111111111111,
             "#46039f"
            ],
            [
             0.2222222222222222,
             "#7201a8"
            ],
            [
             0.3333333333333333,
             "#9c179e"
            ],
            [
             0.4444444444444444,
             "#bd3786"
            ],
            [
             0.5555555555555556,
             "#d8576b"
            ],
            [
             0.6666666666666666,
             "#ed7953"
            ],
            [
             0.7777777777777778,
             "#fb9f3a"
            ],
            [
             0.8888888888888888,
             "#fdca26"
            ],
            [
             1,
             "#f0f921"
            ]
           ]
          },
          "colorway": [
           "#636efa",
           "#EF553B",
           "#00cc96",
           "#ab63fa",
           "#FFA15A",
           "#19d3f3",
           "#FF6692",
           "#B6E880",
           "#FF97FF",
           "#FECB52"
          ],
          "font": {
           "color": "#2a3f5f"
          },
          "geo": {
           "bgcolor": "white",
           "lakecolor": "white",
           "landcolor": "#E5ECF6",
           "showlakes": true,
           "showland": true,
           "subunitcolor": "white"
          },
          "hoverlabel": {
           "align": "left"
          },
          "hovermode": "closest",
          "mapbox": {
           "style": "light"
          },
          "paper_bgcolor": "white",
          "plot_bgcolor": "#E5ECF6",
          "polar": {
           "angularaxis": {
            "gridcolor": "white",
            "linecolor": "white",
            "ticks": ""
           },
           "bgcolor": "#E5ECF6",
           "radialaxis": {
            "gridcolor": "white",
            "linecolor": "white",
            "ticks": ""
           }
          },
          "scene": {
           "xaxis": {
            "backgroundcolor": "#E5ECF6",
            "gridcolor": "white",
            "gridwidth": 2,
            "linecolor": "white",
            "showbackground": true,
            "ticks": "",
            "zerolinecolor": "white"
           },
           "yaxis": {
            "backgroundcolor": "#E5ECF6",
            "gridcolor": "white",
            "gridwidth": 2,
            "linecolor": "white",
            "showbackground": true,
            "ticks": "",
            "zerolinecolor": "white"
           },
           "zaxis": {
            "backgroundcolor": "#E5ECF6",
            "gridcolor": "white",
            "gridwidth": 2,
            "linecolor": "white",
            "showbackground": true,
            "ticks": "",
            "zerolinecolor": "white"
           }
          },
          "shapedefaults": {
           "line": {
            "color": "#2a3f5f"
           }
          },
          "ternary": {
           "aaxis": {
            "gridcolor": "white",
            "linecolor": "white",
            "ticks": ""
           },
           "baxis": {
            "gridcolor": "white",
            "linecolor": "white",
            "ticks": ""
           },
           "bgcolor": "#E5ECF6",
           "caxis": {
            "gridcolor": "white",
            "linecolor": "white",
            "ticks": ""
           }
          },
          "title": {
           "x": 0.05
          },
          "xaxis": {
           "automargin": true,
           "gridcolor": "white",
           "linecolor": "white",
           "ticks": "",
           "title": {
            "standoff": 15
           },
           "zerolinecolor": "white",
           "zerolinewidth": 2
          },
          "yaxis": {
           "automargin": true,
           "gridcolor": "white",
           "linecolor": "white",
           "ticks": "",
           "title": {
            "standoff": 15
           },
           "zerolinecolor": "white",
           "zerolinewidth": 2
          }
         }
        },
        "width": 1500
       }
      }
     },
     "metadata": {},
     "output_type": "display_data"
    }
   ],
   "source": [
    "import plotly.express as px\n",
    "lst=df.columns\n",
    "lst=['style','mfcc1_std', 'flux_mean', 'delta_mfcc1_std', 'flux_std', 'mfcc2_mean',\n",
    "       'mfcc9_mean', 'delta_mfcc10_std', 'zcr_std', 'mfcc13_mean',\n",
    "       'mfcc8_mean', 'delta_mfcc2_std', 'mfcc11_mean', 'centroid_std',\n",
    "       'mfcc10_mean', 'rms_std', 'centroid_mean', 'onsets_mid_std',\n",
    "       'delta_mfcc13_mean', 'mfcc13_std', 'mfcc2_std', 'delta_mfcc2_mean',\n",
    "       'delta_mfcc3_std', 'delta_mfcc8_std', 'rms_mean', 'delta_mfcc9_std']\n",
    "fig = px.scatter_matrix(df[lst],dimensions=['delta_mfcc13_mean', 'mfcc13_std', 'mfcc2_std', 'delta_mfcc2_mean',\n",
    "       'delta_mfcc3_std', 'delta_mfcc8_std', 'rms_mean', 'delta_mfcc9_std'],color='style')\n",
    "fig.update_layout(\n",
    "    autosize=True,\n",
    "    width=1500,\n",
    "    height=1500\n",
    ")\n",
    "fig.show()"
   ]
  },
  {
   "cell_type": "code",
   "execution_count": 26,
   "metadata": {},
   "outputs": [],
   "source": [
    "X_allfeatures = df[['mfcc1_mean', 'mfcc2_mean', 'mfcc3_mean',\n",
    "       'mfcc4_mean', 'mfcc5_mean', 'mfcc6_mean', 'mfcc7_mean', 'mfcc8_mean',\n",
    "       'mfcc9_mean', 'mfcc10_mean', 'mfcc11_mean', 'mfcc12_mean',\n",
    "       'mfcc13_mean', 'mfcc1_std', 'mfcc2_std', 'mfcc3_std', 'mfcc4_std',\n",
    "       'mfcc5_std', 'mfcc6_std', 'mfcc7_std', 'mfcc8_std', 'mfcc9_std',\n",
    "       'mfcc10_std', 'mfcc11_std', 'mfcc12_std', 'mfcc13_std',\n",
    "       'delta_mfcc1_mean', 'delta_mfcc2_mean', 'delta_mfcc3_mean',\n",
    "       'delta_mfcc4_mean', 'delta_mfcc5_mean', 'delta_mfcc6_mean',\n",
    "       'delta_mfcc7_mean', 'delta_mfcc8_mean', 'delta_mfcc9_mean',\n",
    "       'delta_mfcc10_mean', 'delta_mfcc11_mean', 'delta_mfcc12_mean',\n",
    "       'delta_mfcc13_mean', 'delta_mfcc1_std', 'delta_mfcc2_std',\n",
    "       'delta_mfcc3_std', 'delta_mfcc4_std', 'delta_mfcc5_std',\n",
    "       'delta_mfcc6_std', 'delta_mfcc7_std', 'delta_mfcc8_std',\n",
    "       'delta_mfcc9_std', 'delta_mfcc10_std', 'delta_mfcc11_std',\n",
    "       'delta_mfcc12_std', 'delta_mfcc13_std',\\\n",
    "       'centroid_mean','centroid_std','rms_mean','rms_std','zcr_mean',\n",
    "       'zcr_std','crest_mean','crest_std','flux_mean','flux_std',\n",
    "       'onsets_mean', 'onsets_std','onsets_mid_mean', 'onsets_mid_std',\n",
    "       'onsets_high_mean', 'onsets_high_std']]\n",
    "\n",
    "y=df[['style']]"
   ]
  },
  {
   "cell_type": "code",
   "execution_count": 27,
   "metadata": {},
   "outputs": [
    {
     "name": "stdout",
     "output_type": "stream",
     "text": [
      "Index(['mfcc1_mean', 'mfcc2_mean', 'mfcc3_mean', 'mfcc4_mean', 'mfcc5_mean',\n",
      "       'mfcc6_mean', 'mfcc7_mean', 'mfcc8_mean', 'mfcc9_mean', 'mfcc10_mean',\n",
      "       'mfcc11_mean', 'mfcc12_mean', 'mfcc13_mean', 'mfcc1_std', 'mfcc2_std',\n",
      "       'mfcc3_std', 'mfcc4_std', 'mfcc5_std', 'mfcc6_std', 'mfcc7_std',\n",
      "       'mfcc8_std', 'mfcc9_std', 'mfcc10_std', 'mfcc11_std', 'mfcc12_std',\n",
      "       'mfcc13_std', 'delta_mfcc1_std', 'delta_mfcc2_std', 'centroid_mean',\n",
      "       'centroid_std', 'rms_mean', 'rms_std', 'onsets_mean', 'onsets_std'],\n",
      "      dtype='object')\n",
      "34\n"
     ]
    }
   ],
   "source": [
    "#FEATURE SELECTION\n",
    "from sklearn.feature_selection import VarianceThreshold\n",
    "selector = VarianceThreshold(threshold=0.5) # Variance threshold \n",
    "sel = selector.fit(X_allfeatures)\n",
    "sel_index = sel.get_support()\n",
    "X_vt = X_allfeatures.iloc[:, sel_index]\n",
    "print(X_vt.columns)\n",
    "print(len(X_vt.columns))"
   ]
  },
  {
   "cell_type": "code",
   "execution_count": 28,
   "metadata": {},
   "outputs": [
    {
     "name": "stderr",
     "output_type": "stream",
     "text": [
      "/usr/local/lib/python3.9/site-packages/sklearn/utils/validation.py:63: DataConversionWarning:\n",
      "\n",
      "A column-vector y was passed when a 1d array was expected. Please change the shape of y to (n_samples, ), for example using ravel().\n",
      "\n"
     ]
    },
    {
     "name": "stdout",
     "output_type": "stream",
     "text": [
      "mfcc1_std 0.19571416472480374\n",
      "flux_mean 0.18946082626843608\n",
      "delta_mfcc1_std 0.17146268280202936\n",
      "flux_std 0.1691835113249054\n",
      "mfcc2_mean 0.16391999508760668\n",
      "mfcc9_mean 0.1564266169681845\n",
      "delta_mfcc10_std 0.15125969257156835\n",
      "zcr_std 0.1498671756544192\n",
      "mfcc13_mean 0.14709893638139127\n",
      "mfcc8_mean 0.14374131132867474\n",
      "delta_mfcc2_std 0.14059785386746948\n",
      "mfcc11_mean 0.13268130431894432\n",
      "centroid_std 0.1267104351178172\n",
      "mfcc10_mean 0.12365698771666\n",
      "rms_std 0.12150884656847638\n",
      "centroid_mean 0.1196435291237734\n",
      "onsets_mid_std 0.1165737382301828\n",
      "delta_mfcc13_mean 0.11574028517528401\n",
      "mfcc13_std 0.11167288387253627\n",
      "mfcc2_std 0.11028943724045215\n",
      "delta_mfcc2_mean 0.10480984695020523\n",
      "delta_mfcc3_std 0.10225179505608484\n",
      "delta_mfcc8_std 0.09714559465137595\n",
      "rms_mean 0.09557731555876336\n",
      "delta_mfcc9_std 0.09517276092111637\n",
      "Index(['mfcc1_std', 'flux_mean', 'delta_mfcc1_std', 'flux_std', 'mfcc2_mean',\n",
      "       'mfcc9_mean', 'delta_mfcc10_std', 'zcr_std', 'mfcc13_mean',\n",
      "       'mfcc8_mean', 'delta_mfcc2_std', 'mfcc11_mean', 'centroid_std',\n",
      "       'mfcc10_mean', 'rms_std', 'centroid_mean', 'onsets_mid_std',\n",
      "       'delta_mfcc13_mean', 'mfcc13_std', 'mfcc2_std', 'delta_mfcc2_mean',\n",
      "       'delta_mfcc3_std', 'delta_mfcc8_std', 'rms_mean', 'delta_mfcc9_std'],\n",
      "      dtype='object')\n"
     ]
    }
   ],
   "source": [
    "from sklearn.feature_selection import mutual_info_classif\n",
    "threshold = 25  # the number of most relevant features\n",
    "high_score_features = []\n",
    "feature_scores = mutual_info_classif(X_allfeatures, y, random_state=0)\n",
    "for score, f_name in sorted(zip(feature_scores, X_allfeatures.columns), reverse=True)[:threshold]:\n",
    "        print(f_name, score)\n",
    "        high_score_features.append(f_name)\n",
    "X_mic = X_allfeatures[high_score_features]\n",
    "print(X_mic.columns)"
   ]
  },
  {
   "cell_type": "code",
   "execution_count": 70,
   "metadata": {},
   "outputs": [],
   "source": [
    "features=['mfcc1_std', 'flux_mean', 'delta_mfcc1_std', 'flux_std', 'mfcc2_mean',\n",
    "       'mfcc9_mean', 'delta_mfcc10_std', 'zcr_std', 'mfcc13_mean',\n",
    "       'mfcc8_mean', 'delta_mfcc2_std', 'mfcc11_mean', 'centroid_std',\n",
    "       'mfcc10_mean', 'rms_std', 'centroid_mean', 'onsets_mid_std',\n",
    "       'delta_mfcc13_mean', 'mfcc13_std', 'mfcc2_std', 'delta_mfcc2_mean',\n",
    "       'delta_mfcc3_std', 'delta_mfcc8_std', 'rms_mean', 'delta_mfcc9_std']\n",
    "X = df[features]\n",
    "y=df[['style']]\n",
    "\n",
    "X_train, X_test, y_train, y_test = train_test_split(X, y, test_size=0.3,random_state=29)\n",
    "\n",
    "X_train = X_train.to_numpy()\n",
    "X_test = X_test.to_numpy()\n",
    "y_train = y_train.to_numpy()\n",
    "y_test = y_test.to_numpy()\n",
    "\n",
    "from sklearn.preprocessing import StandardScaler\n",
    "scaler = StandardScaler()\n",
    "X_train = scaler.fit_transform(X_train)\n",
    "X_test = scaler.transform(X_test)"
   ]
  },
  {
   "cell_type": "markdown",
   "metadata": {},
   "source": [
    "## Hyperparameter Optimisation"
   ]
  },
  {
   "cell_type": "code",
   "execution_count": null,
   "metadata": {},
   "outputs": [],
   "source": [
    "for col in X.columns:\n",
    "    #df[col] = df[col]/max(np.abs(df[col]))\n",
    "    mean = np.mean(X[col])\n",
    "    std = np.std(X[col])\n",
    "    X[col] = (X[col] - mean)/std # z-score normalization\n",
    "X_train, X_test, y_train, y_test = train_test_split(X_mic, y, test_size=0.33)\n",
    "X_train = X_train.to_numpy()\n",
    "X_test = X_test.to_numpy()\n",
    "y_train = y_train.to_numpy()\n",
    "y_test = y_test.to_numpy()\n",
    "warnings.filterwarnings(\"ignore\")\n",
    "C = [x**0.01 for x in range(25,200)]\n",
    "kernel = ['rbf','linear','poly','sigmoid']\n",
    "degree = [int(x) for x in range(1,8)]\n",
    "gamma = ['scale','auto']\n",
    "coef0 = [x*0.1 for x in range(0,40)]\n",
    "decision_function_shape = ['ovo','ovr']\n",
    "svm_grid = { 'C' : C,\n",
    "            'kernel' : kernel,\n",
    "            'degree' : degree,\n",
    "            'gamma' : gamma,\n",
    "            'coef0' : coef0,\n",
    "            'decision_function_shape' : decision_function_shape\n",
    "            }\n",
    "svc = SVC()\n",
    "svm_df=pd.DataFrame()\n",
    "svm_df['trial']=[]\n",
    "svm_df['training_acc']=[]\n",
    "svm_df['accuracy'] = []\n",
    "svm_df['macro_accuracy'] = []\n",
    "svm_df['confusion_matrix']=[]\n",
    "svm_df['params']=[]\n",
    "svm_df['cv_acc']=[]\n",
    "svm_df['cv_std']=[]\n",
    "trial=[]\n",
    "training_acc = []\n",
    "accuracy=[]\n",
    "macro_accuracy=[]\n",
    "confusion=[]\n",
    "params=[]\n",
    "cv_acc=[]\n",
    "cv_std=[]\n",
    "for i in range(0,50):\n",
    "    trial.append(i)\n",
    "    #Optimize Hyperparameters\n",
    "    svc_RandomGrid = RandomizedSearchCV(estimator = svc, param_distributions=svm_grid,cv=10,verbose=0,n_jobs=4) #verbose=2\n",
    "    svc_RandomGrid.fit(X_train,y_train)\n",
    "    #print(f'Training CV Accuracy: {svc_RandomGrid.best_score_}')\n",
    "    training_acc.append(svc_RandomGrid.best_score_)\n",
    "    #print(svc_RandomGrid.best_params_)\n",
    "    params.append(svc_RandomGrid.best_params_)\n",
    "    #Predict based on hyperparameters that are optimized\n",
    "    y_prediction = svc_RandomGrid.predict(X_test)\n",
    "    #Calculate accuracy scores for testing\n",
    "    score=balanced_accuracy_score(y_test, y_prediction)\n",
    "    acc = accuracy_score(y_test, y_prediction)\n",
    "    cm = confusion_matrix(y_test, y_prediction) # clean, highfry, layered, lowfry, midfry, no vocals\n",
    "\n",
    "    accuracy.append(acc)\n",
    "    macro_accuracy.append(score)\n",
    "    confusion.append(cm)\n",
    "    # scores = cross_validate(svc_RandomGrid, X_train, y_train, cv=10)\n",
    "    # cv_acc.append(scores['test_score'].mean())\n",
    "    # cv_std.append(scores['test_score'].std())\n",
    "    # print(\"Accuracy: %0.2f (+/- %0.2f)\" % (scores['test_score'].mean(), scores['test_score'].std() * 2))\n",
    "    #print(f\"Confusion Matrix:\\n {cm}\")\n",
    "    #print(f\"Accuracy score: {accuracy}\")\n",
    "    #print(f\"Macro accuracy score: {score}\")\n",
    "\n",
    "\n",
    "svm_df['trial']= trial\n",
    "svm_df['cv_acc']=training_acc\n",
    "svm_df['accuracy'] = accuracy\n",
    "svm_df['macro_accuracy'] = macro_accuracy\n",
    "svm_df['confusion_matrix']=confusion\n",
    "svm_df['params']=params\n",
    "# svm_df['cv_acc']=cv_acc\n",
    "# svm_df['cv_std']=cv_std\n",
    "\n",
    "svm_df['macro_accuracy'].max()"
   ]
  },
  {
   "cell_type": "code",
   "execution_count": null,
   "metadata": {},
   "outputs": [],
   "source": []
  },
  {
   "cell_type": "markdown",
   "metadata": {},
   "source": [
    "## Classification"
   ]
  },
  {
   "cell_type": "code",
   "execution_count": 79,
   "metadata": {},
   "outputs": [
    {
     "name": "stdout",
     "output_type": "stream",
     "text": [
      "-------------------------------------------------------------------------------\n",
      "            KNN             \n",
      "-------------------------------------------------------------------------------\n",
      "Confusion Matrix:\n",
      " [[ 6  1  0  2]\n",
      " [ 0  4  0  4]\n",
      " [ 0  1  1  6]\n",
      " [ 2  0  1 47]]\n",
      "[[0.66666667 0.125      0.         0.04      ]\n",
      " [0.         0.5        0.         0.08      ]\n",
      " [0.         0.125      0.125      0.12      ]\n",
      " [0.22222222 0.         0.125      0.94      ]]\n",
      "Accuracy score: 0.7733333333333333\n",
      "Macro accuracy score: 0.5579166666666666\n",
      "F1 score: 0.5849240613676663\n",
      "-------------------------------------------------------------------------------\n",
      "            SVM             \n",
      "-------------------------------------------------------------------------------\n",
      "[[ 6  0  0  3]\n",
      " [ 0  0  0  8]\n",
      " [ 0  0  6  2]\n",
      " [ 0  0  2 48]]\n",
      "[[0.66666667 0.         0.         0.06      ]\n",
      " [0.         0.         0.         0.16      ]\n",
      " [0.         0.         0.75       0.04      ]\n",
      " [0.         0.         0.25       0.96      ]]\n",
      "Accuracy Score:  0.8\n",
      "Macro accuracy Score: 0.5941666666666666\n",
      "F1 score: 0.6037162162162162\n",
      "-------------------------------------------------------------------------------\n",
      "            RF              \n",
      "-------------------------------------------------------------------------------\n"
     ]
    },
    {
     "name": "stderr",
     "output_type": "stream",
     "text": [
      "/usr/local/lib/python3.9/site-packages/sklearn/neighbors/_classification.py:179: DataConversionWarning:\n",
      "\n",
      "A column-vector y was passed when a 1d array was expected. Please change the shape of y to (n_samples,), for example using ravel().\n",
      "\n",
      "/usr/local/lib/python3.9/site-packages/sklearn/utils/validation.py:63: DataConversionWarning:\n",
      "\n",
      "A column-vector y was passed when a 1d array was expected. Please change the shape of y to (n_samples, ), for example using ravel().\n",
      "\n",
      "<ipython-input-79-4e567a6bbaa9>:38: DataConversionWarning:\n",
      "\n",
      "A column-vector y was passed when a 1d array was expected. Please change the shape of y to (n_samples,), for example using ravel().\n",
      "\n"
     ]
    },
    {
     "name": "stdout",
     "output_type": "stream",
     "text": [
      "[[ 6  0  0  3]\n",
      " [ 0  3  0  5]\n",
      " [ 0  0  5  3]\n",
      " [ 0  1  2 47]]\n",
      "[[0.66666667 0.         0.         0.06      ]\n",
      " [0.         0.375      0.         0.1       ]\n",
      " [0.         0.         0.625      0.06      ]\n",
      " [0.         0.125      0.25       0.94      ]]\n",
      "Accuracy Score:  0.8133333333333334\n",
      "Macro accuracy Score: 0.6516666666666666\n",
      "F1 score: 0.7092592592592593\n"
     ]
    }
   ],
   "source": [
    "print(\"-------------------------------------------------------------------------------\")\n",
    "print(\"            KNN             \")\n",
    "print(\"-------------------------------------------------------------------------------\")\n",
    "KNN_model = KNeighborsClassifier(n_neighbors=7)\n",
    "KNN_model.fit(X_train, y_train)\n",
    "KNN_prediction = KNN_model.predict(X_test)\n",
    "score=balanced_accuracy_score(y_test, KNN_prediction)\n",
    "accuracy = accuracy_score(y_test, KNN_prediction)\n",
    "f1=f1_score(y_test,KNN_prediction,average='macro')\n",
    "cm_knn = confusion_matrix(y_test, KNN_prediction) \n",
    "print(f\"Confusion Matrix:\\n {cm_knn}\")\n",
    "print(cm_knn/cm_knn.sum(axis=1))\n",
    "print(f\"Accuracy score: {accuracy}\")\n",
    "print(f\"Macro accuracy score: {score}\")\n",
    "print(f\"F1 score: {f1}\")\n",
    "\n",
    "print(\"-------------------------------------------------------------------------------\")\n",
    "print(\"            SVM             \")\n",
    "print(\"-------------------------------------------------------------------------------\")\n",
    "SVM_model = make_pipeline(StandardScaler(), SVC(kernel='poly',gamma='scale',degree=3,decision_function_shape='ovr',coef0=0.7000000000000001,C=1.053475672085955,random_state=0))\n",
    "SVM_model.fit(X_train, y_train)\n",
    "SVM_prediction = SVM_model.predict(X_test)\n",
    "score=balanced_accuracy_score(y_test, SVM_prediction)\n",
    "cm_svm = confusion_matrix(y_test, SVM_prediction) \n",
    "f1=f1_score(y_test,SVM_prediction,average='macro')\n",
    "acc = accuracy_score(y_test, SVM_prediction)\n",
    "print(cm_svm)\n",
    "print(cm_svm/cm_svm.sum(axis=1))\n",
    "print(\"Accuracy Score: \",acc)\n",
    "print(\"Macro accuracy Score:\",score)\n",
    "print(f\"F1 score: {f1}\")\n",
    "\n",
    "print(\"-------------------------------------------------------------------------------\")\n",
    "print(\"            RF              \")\n",
    "print(\"-------------------------------------------------------------------------------\")\n",
    "\n",
    "RF_model = RandomForestClassifier(n_estimators=800,min_samples_split = 8, min_samples_leaf = 2,max_leaf_nodes = 29, max_depth = 796, criterion = 'entropy',class_weight='balanced',random_state=0)\n",
    "RF_model.fit(X_train, y_train)\n",
    "# scores = cross_validate(RF_model, X_train, y_train, cv=10)\n",
    "RF_prediction = RF_model.predict(X_test)\n",
    "score=balanced_accuracy_score(y_test, RF_prediction)\n",
    "cm_rf = confusion_matrix(y_test, RF_prediction) \n",
    "f1=f1_score(y_test,RF_prediction,average='macro')\n",
    "acc = accuracy_score(y_test, RF_prediction)\n",
    "print(cm_rf)\n",
    "print(cm_rf/cm_rf.sum(axis=1))\n",
    "print(\"Accuracy Score: \",acc)\n",
    "print(\"Macro accuracy Score:\",score)\n",
    "print(f\"F1 score: {f1}\")"
   ]
  },
  {
   "cell_type": "code",
   "execution_count": 147,
   "metadata": {},
   "outputs": [
    {
     "name": "stderr",
     "output_type": "stream",
     "text": [
      "/usr/local/lib/python3.9/site-packages/sklearn/model_selection/_validation.py:598: DataConversionWarning:\n",
      "\n",
      "A column-vector y was passed when a 1d array was expected. Please change the shape of y to (n_samples,), for example using ravel().\n",
      "\n",
      "/usr/local/lib/python3.9/site-packages/sklearn/model_selection/_validation.py:598: DataConversionWarning:\n",
      "\n",
      "A column-vector y was passed when a 1d array was expected. Please change the shape of y to (n_samples,), for example using ravel().\n",
      "\n",
      "/usr/local/lib/python3.9/site-packages/sklearn/model_selection/_validation.py:598: DataConversionWarning:\n",
      "\n",
      "A column-vector y was passed when a 1d array was expected. Please change the shape of y to (n_samples,), for example using ravel().\n",
      "\n",
      "/usr/local/lib/python3.9/site-packages/sklearn/model_selection/_validation.py:598: DataConversionWarning:\n",
      "\n",
      "A column-vector y was passed when a 1d array was expected. Please change the shape of y to (n_samples,), for example using ravel().\n",
      "\n",
      "/usr/local/lib/python3.9/site-packages/sklearn/model_selection/_validation.py:598: DataConversionWarning:\n",
      "\n",
      "A column-vector y was passed when a 1d array was expected. Please change the shape of y to (n_samples,), for example using ravel().\n",
      "\n",
      "/usr/local/lib/python3.9/site-packages/sklearn/model_selection/_validation.py:598: DataConversionWarning:\n",
      "\n",
      "A column-vector y was passed when a 1d array was expected. Please change the shape of y to (n_samples,), for example using ravel().\n",
      "\n",
      "/usr/local/lib/python3.9/site-packages/sklearn/model_selection/_validation.py:598: DataConversionWarning:\n",
      "\n",
      "A column-vector y was passed when a 1d array was expected. Please change the shape of y to (n_samples,), for example using ravel().\n",
      "\n",
      "/usr/local/lib/python3.9/site-packages/sklearn/model_selection/_validation.py:598: DataConversionWarning:\n",
      "\n",
      "A column-vector y was passed when a 1d array was expected. Please change the shape of y to (n_samples,), for example using ravel().\n",
      "\n",
      "/usr/local/lib/python3.9/site-packages/sklearn/model_selection/_validation.py:598: DataConversionWarning:\n",
      "\n",
      "A column-vector y was passed when a 1d array was expected. Please change the shape of y to (n_samples,), for example using ravel().\n",
      "\n",
      "/usr/local/lib/python3.9/site-packages/sklearn/model_selection/_validation.py:598: DataConversionWarning:\n",
      "\n",
      "A column-vector y was passed when a 1d array was expected. Please change the shape of y to (n_samples,), for example using ravel().\n",
      "\n"
     ]
    },
    {
     "name": "stdout",
     "output_type": "stream",
     "text": [
      "Accuracy: 0.70 (+/- 0.1573)\n"
     ]
    },
    {
     "data": {
      "text/plain": [
       "{'fit_time': array([1.11058998, 1.21796393, 1.12736702, 1.11448216, 1.05590916,\n",
       "        1.40191913, 1.18972683, 1.21288204, 1.11625123, 1.12712789]),\n",
       " 'score_time': array([0.08088493, 0.08326197, 0.06420708, 0.08509707, 0.06427503,\n",
       "        0.10059977, 0.07270813, 0.06846189, 0.06622791, 0.08391595]),\n",
       " 'test_score': array([0.66666667, 0.61111111, 0.58823529, 0.64705882, 0.82352941,\n",
       "        0.76470588, 0.82352941, 0.70588235, 0.70588235, 0.64705882])}"
      ]
     },
     "execution_count": 147,
     "metadata": {},
     "output_type": "execute_result"
    }
   ],
   "source": [
    "scores = cross_validate(RF_model, X_train, y_train, cv=10)\n",
    "# print(scores['test_score'].mean())\n",
    "# print(scores['test_score'].std())\n",
    "print(\"Accuracy: %0.2f (+/- %0.4f)\" % (scores['test_score'].mean(), scores['test_score'].std() * 2))\n",
    "# print(scores)"
   ]
  },
  {
   "cell_type": "markdown",
   "metadata": {},
   "source": [
    "# Plots"
   ]
  },
  {
   "cell_type": "code",
   "execution_count": 81,
   "metadata": {},
   "outputs": [],
   "source": [
    "from sklearn.metrics import ConfusionMatrixDisplay"
   ]
  },
  {
   "cell_type": "code",
   "execution_count": 83,
   "metadata": {},
   "outputs": [
    {
     "data": {
      "text/plain": [
       "array(['funk', 'hiphop', 'jazz', 'rock'], dtype=object)"
      ]
     },
     "execution_count": 83,
     "metadata": {},
     "output_type": "execute_result"
    }
   ],
   "source": [
    "RF_model.classes_"
   ]
  },
  {
   "cell_type": "code",
   "execution_count": 99,
   "metadata": {},
   "outputs": [
    {
     "data": {
      "text/plain": [
       "array([[0.66666667, 0.        , 0.        , 0.06      ],\n",
       "       [0.        , 0.375     , 0.        , 0.1       ],\n",
       "       [0.        , 0.        , 0.625     , 0.06      ],\n",
       "       [0.        , 0.125     , 0.25      , 0.94      ]])"
      ]
     },
     "execution_count": 99,
     "metadata": {},
     "output_type": "execute_result"
    }
   ],
   "source": [
    "cm_rf/cm_rf.sum(axis=1)"
   ]
  },
  {
   "cell_type": "code",
   "execution_count": 100,
   "metadata": {},
   "outputs": [
    {
     "data": {
      "text/plain": [
       "array([[0.66666667, 0.        , 0.        , 0.06      ],\n",
       "       [0.        , 0.        , 0.        , 0.16      ],\n",
       "       [0.        , 0.        , 0.75      , 0.04      ],\n",
       "       [0.        , 0.        , 0.25      , 0.96      ]])"
      ]
     },
     "execution_count": 100,
     "metadata": {},
     "output_type": "execute_result"
    }
   ],
   "source": [
    "cm_svm/cm_svm.sum(axis=1)"
   ]
  },
  {
   "cell_type": "code",
   "execution_count": 101,
   "metadata": {},
   "outputs": [
    {
     "data": {
      "text/plain": [
       "array([[0.66666667, 0.125     , 0.        , 0.04      ],\n",
       "       [0.        , 0.5       , 0.        , 0.08      ],\n",
       "       [0.        , 0.125     , 0.125     , 0.12      ],\n",
       "       [0.22222222, 0.        , 0.125     , 0.94      ]])"
      ]
     },
     "execution_count": 101,
     "metadata": {},
     "output_type": "execute_result"
    }
   ],
   "source": [
    "cm_knn/cm_knn.sum(axis=1)"
   ]
  },
  {
   "cell_type": "code",
   "execution_count": 105,
   "metadata": {},
   "outputs": [
    {
     "data": {
      "application/vnd.plotly.v1+json": {
       "config": {
        "plotlyServerURL": "https://plot.ly"
       },
       "data": [
        {
         "alignmentgroup": "True",
         "hovertemplate": "variable=kNN<br>index=%{x}<br>value=%{y}<extra></extra>",
         "legendgroup": "kNN",
         "marker": {
          "color": "#636efa"
         },
         "name": "kNN",
         "offsetgroup": "kNN",
         "orientation": "v",
         "showlegend": true,
         "textposition": "auto",
         "type": "bar",
         "x": [
          "funk",
          "hiphop",
          "jazz",
          "rock"
         ],
         "xaxis": "x",
         "y": [
          0.6666,
          0.5,
          0.125,
          0.94
         ],
         "yaxis": "y"
        },
        {
         "alignmentgroup": "True",
         "hovertemplate": "variable=Random Forest<br>index=%{x}<br>value=%{y}<extra></extra>",
         "legendgroup": "Random Forest",
         "marker": {
          "color": "#EF553B"
         },
         "name": "Random Forest",
         "offsetgroup": "Random Forest",
         "orientation": "v",
         "showlegend": true,
         "textposition": "auto",
         "type": "bar",
         "x": [
          "funk",
          "hiphop",
          "jazz",
          "rock"
         ],
         "xaxis": "x",
         "y": [
          0.6666,
          0.375,
          0.625,
          0.94
         ],
         "yaxis": "y"
        },
        {
         "alignmentgroup": "True",
         "hovertemplate": "variable=SVM<br>index=%{x}<br>value=%{y}<extra></extra>",
         "legendgroup": "SVM",
         "marker": {
          "color": "#00cc96"
         },
         "name": "SVM",
         "offsetgroup": "SVM",
         "orientation": "v",
         "showlegend": true,
         "textposition": "auto",
         "type": "bar",
         "x": [
          "funk",
          "hiphop",
          "jazz",
          "rock"
         ],
         "xaxis": "x",
         "y": [
          0.6666,
          0,
          0.75,
          0.96
         ],
         "yaxis": "y"
        }
       ],
       "layout": {
        "autosize": true,
        "barmode": "group",
        "font": {
         "size": 28
        },
        "height": 800,
        "legend": {
         "orientation": "h",
         "title": {
          "text": ""
         },
         "tracegroupgap": 0,
         "x": 0.5,
         "xanchor": "center",
         "y": -0.2,
         "yanchor": "top"
        },
        "margin": {
         "b": 100,
         "l": 50,
         "pad": 0,
         "r": 50,
         "t": 100
        },
        "template": {
         "data": {
          "bar": [
           {
            "error_x": {
             "color": "#2a3f5f"
            },
            "error_y": {
             "color": "#2a3f5f"
            },
            "marker": {
             "line": {
              "color": "#E5ECF6",
              "width": 0.5
             }
            },
            "type": "bar"
           }
          ],
          "barpolar": [
           {
            "marker": {
             "line": {
              "color": "#E5ECF6",
              "width": 0.5
             }
            },
            "type": "barpolar"
           }
          ],
          "carpet": [
           {
            "aaxis": {
             "endlinecolor": "#2a3f5f",
             "gridcolor": "white",
             "linecolor": "white",
             "minorgridcolor": "white",
             "startlinecolor": "#2a3f5f"
            },
            "baxis": {
             "endlinecolor": "#2a3f5f",
             "gridcolor": "white",
             "linecolor": "white",
             "minorgridcolor": "white",
             "startlinecolor": "#2a3f5f"
            },
            "type": "carpet"
           }
          ],
          "choropleth": [
           {
            "colorbar": {
             "outlinewidth": 0,
             "ticks": ""
            },
            "type": "choropleth"
           }
          ],
          "contour": [
           {
            "colorbar": {
             "outlinewidth": 0,
             "ticks": ""
            },
            "colorscale": [
             [
              0,
              "#0d0887"
             ],
             [
              0.1111111111111111,
              "#46039f"
             ],
             [
              0.2222222222222222,
              "#7201a8"
             ],
             [
              0.3333333333333333,
              "#9c179e"
             ],
             [
              0.4444444444444444,
              "#bd3786"
             ],
             [
              0.5555555555555556,
              "#d8576b"
             ],
             [
              0.6666666666666666,
              "#ed7953"
             ],
             [
              0.7777777777777778,
              "#fb9f3a"
             ],
             [
              0.8888888888888888,
              "#fdca26"
             ],
             [
              1,
              "#f0f921"
             ]
            ],
            "type": "contour"
           }
          ],
          "contourcarpet": [
           {
            "colorbar": {
             "outlinewidth": 0,
             "ticks": ""
            },
            "type": "contourcarpet"
           }
          ],
          "heatmap": [
           {
            "colorbar": {
             "outlinewidth": 0,
             "ticks": ""
            },
            "colorscale": [
             [
              0,
              "#0d0887"
             ],
             [
              0.1111111111111111,
              "#46039f"
             ],
             [
              0.2222222222222222,
              "#7201a8"
             ],
             [
              0.3333333333333333,
              "#9c179e"
             ],
             [
              0.4444444444444444,
              "#bd3786"
             ],
             [
              0.5555555555555556,
              "#d8576b"
             ],
             [
              0.6666666666666666,
              "#ed7953"
             ],
             [
              0.7777777777777778,
              "#fb9f3a"
             ],
             [
              0.8888888888888888,
              "#fdca26"
             ],
             [
              1,
              "#f0f921"
             ]
            ],
            "type": "heatmap"
           }
          ],
          "heatmapgl": [
           {
            "colorbar": {
             "outlinewidth": 0,
             "ticks": ""
            },
            "colorscale": [
             [
              0,
              "#0d0887"
             ],
             [
              0.1111111111111111,
              "#46039f"
             ],
             [
              0.2222222222222222,
              "#7201a8"
             ],
             [
              0.3333333333333333,
              "#9c179e"
             ],
             [
              0.4444444444444444,
              "#bd3786"
             ],
             [
              0.5555555555555556,
              "#d8576b"
             ],
             [
              0.6666666666666666,
              "#ed7953"
             ],
             [
              0.7777777777777778,
              "#fb9f3a"
             ],
             [
              0.8888888888888888,
              "#fdca26"
             ],
             [
              1,
              "#f0f921"
             ]
            ],
            "type": "heatmapgl"
           }
          ],
          "histogram": [
           {
            "marker": {
             "colorbar": {
              "outlinewidth": 0,
              "ticks": ""
             }
            },
            "type": "histogram"
           }
          ],
          "histogram2d": [
           {
            "colorbar": {
             "outlinewidth": 0,
             "ticks": ""
            },
            "colorscale": [
             [
              0,
              "#0d0887"
             ],
             [
              0.1111111111111111,
              "#46039f"
             ],
             [
              0.2222222222222222,
              "#7201a8"
             ],
             [
              0.3333333333333333,
              "#9c179e"
             ],
             [
              0.4444444444444444,
              "#bd3786"
             ],
             [
              0.5555555555555556,
              "#d8576b"
             ],
             [
              0.6666666666666666,
              "#ed7953"
             ],
             [
              0.7777777777777778,
              "#fb9f3a"
             ],
             [
              0.8888888888888888,
              "#fdca26"
             ],
             [
              1,
              "#f0f921"
             ]
            ],
            "type": "histogram2d"
           }
          ],
          "histogram2dcontour": [
           {
            "colorbar": {
             "outlinewidth": 0,
             "ticks": ""
            },
            "colorscale": [
             [
              0,
              "#0d0887"
             ],
             [
              0.1111111111111111,
              "#46039f"
             ],
             [
              0.2222222222222222,
              "#7201a8"
             ],
             [
              0.3333333333333333,
              "#9c179e"
             ],
             [
              0.4444444444444444,
              "#bd3786"
             ],
             [
              0.5555555555555556,
              "#d8576b"
             ],
             [
              0.6666666666666666,
              "#ed7953"
             ],
             [
              0.7777777777777778,
              "#fb9f3a"
             ],
             [
              0.8888888888888888,
              "#fdca26"
             ],
             [
              1,
              "#f0f921"
             ]
            ],
            "type": "histogram2dcontour"
           }
          ],
          "mesh3d": [
           {
            "colorbar": {
             "outlinewidth": 0,
             "ticks": ""
            },
            "type": "mesh3d"
           }
          ],
          "parcoords": [
           {
            "line": {
             "colorbar": {
              "outlinewidth": 0,
              "ticks": ""
             }
            },
            "type": "parcoords"
           }
          ],
          "pie": [
           {
            "automargin": true,
            "type": "pie"
           }
          ],
          "scatter": [
           {
            "marker": {
             "colorbar": {
              "outlinewidth": 0,
              "ticks": ""
             }
            },
            "type": "scatter"
           }
          ],
          "scatter3d": [
           {
            "line": {
             "colorbar": {
              "outlinewidth": 0,
              "ticks": ""
             }
            },
            "marker": {
             "colorbar": {
              "outlinewidth": 0,
              "ticks": ""
             }
            },
            "type": "scatter3d"
           }
          ],
          "scattercarpet": [
           {
            "marker": {
             "colorbar": {
              "outlinewidth": 0,
              "ticks": ""
             }
            },
            "type": "scattercarpet"
           }
          ],
          "scattergeo": [
           {
            "marker": {
             "colorbar": {
              "outlinewidth": 0,
              "ticks": ""
             }
            },
            "type": "scattergeo"
           }
          ],
          "scattergl": [
           {
            "marker": {
             "colorbar": {
              "outlinewidth": 0,
              "ticks": ""
             }
            },
            "type": "scattergl"
           }
          ],
          "scattermapbox": [
           {
            "marker": {
             "colorbar": {
              "outlinewidth": 0,
              "ticks": ""
             }
            },
            "type": "scattermapbox"
           }
          ],
          "scatterpolar": [
           {
            "marker": {
             "colorbar": {
              "outlinewidth": 0,
              "ticks": ""
             }
            },
            "type": "scatterpolar"
           }
          ],
          "scatterpolargl": [
           {
            "marker": {
             "colorbar": {
              "outlinewidth": 0,
              "ticks": ""
             }
            },
            "type": "scatterpolargl"
           }
          ],
          "scatterternary": [
           {
            "marker": {
             "colorbar": {
              "outlinewidth": 0,
              "ticks": ""
             }
            },
            "type": "scatterternary"
           }
          ],
          "surface": [
           {
            "colorbar": {
             "outlinewidth": 0,
             "ticks": ""
            },
            "colorscale": [
             [
              0,
              "#0d0887"
             ],
             [
              0.1111111111111111,
              "#46039f"
             ],
             [
              0.2222222222222222,
              "#7201a8"
             ],
             [
              0.3333333333333333,
              "#9c179e"
             ],
             [
              0.4444444444444444,
              "#bd3786"
             ],
             [
              0.5555555555555556,
              "#d8576b"
             ],
             [
              0.6666666666666666,
              "#ed7953"
             ],
             [
              0.7777777777777778,
              "#fb9f3a"
             ],
             [
              0.8888888888888888,
              "#fdca26"
             ],
             [
              1,
              "#f0f921"
             ]
            ],
            "type": "surface"
           }
          ],
          "table": [
           {
            "cells": {
             "fill": {
              "color": "#EBF0F8"
             },
             "line": {
              "color": "white"
             }
            },
            "header": {
             "fill": {
              "color": "#C8D4E3"
             },
             "line": {
              "color": "white"
             }
            },
            "type": "table"
           }
          ]
         },
         "layout": {
          "annotationdefaults": {
           "arrowcolor": "#2a3f5f",
           "arrowhead": 0,
           "arrowwidth": 1
          },
          "autotypenumbers": "strict",
          "coloraxis": {
           "colorbar": {
            "outlinewidth": 0,
            "ticks": ""
           }
          },
          "colorscale": {
           "diverging": [
            [
             0,
             "#8e0152"
            ],
            [
             0.1,
             "#c51b7d"
            ],
            [
             0.2,
             "#de77ae"
            ],
            [
             0.3,
             "#f1b6da"
            ],
            [
             0.4,
             "#fde0ef"
            ],
            [
             0.5,
             "#f7f7f7"
            ],
            [
             0.6,
             "#e6f5d0"
            ],
            [
             0.7,
             "#b8e186"
            ],
            [
             0.8,
             "#7fbc41"
            ],
            [
             0.9,
             "#4d9221"
            ],
            [
             1,
             "#276419"
            ]
           ],
           "sequential": [
            [
             0,
             "#0d0887"
            ],
            [
             0.1111111111111111,
             "#46039f"
            ],
            [
             0.2222222222222222,
             "#7201a8"
            ],
            [
             0.3333333333333333,
             "#9c179e"
            ],
            [
             0.4444444444444444,
             "#bd3786"
            ],
            [
             0.5555555555555556,
             "#d8576b"
            ],
            [
             0.6666666666666666,
             "#ed7953"
            ],
            [
             0.7777777777777778,
             "#fb9f3a"
            ],
            [
             0.8888888888888888,
             "#fdca26"
            ],
            [
             1,
             "#f0f921"
            ]
           ],
           "sequentialminus": [
            [
             0,
             "#0d0887"
            ],
            [
             0.1111111111111111,
             "#46039f"
            ],
            [
             0.2222222222222222,
             "#7201a8"
            ],
            [
             0.3333333333333333,
             "#9c179e"
            ],
            [
             0.4444444444444444,
             "#bd3786"
            ],
            [
             0.5555555555555556,
             "#d8576b"
            ],
            [
             0.6666666666666666,
             "#ed7953"
            ],
            [
             0.7777777777777778,
             "#fb9f3a"
            ],
            [
             0.8888888888888888,
             "#fdca26"
            ],
            [
             1,
             "#f0f921"
            ]
           ]
          },
          "colorway": [
           "#636efa",
           "#EF553B",
           "#00cc96",
           "#ab63fa",
           "#FFA15A",
           "#19d3f3",
           "#FF6692",
           "#B6E880",
           "#FF97FF",
           "#FECB52"
          ],
          "font": {
           "color": "#2a3f5f"
          },
          "geo": {
           "bgcolor": "white",
           "lakecolor": "white",
           "landcolor": "#E5ECF6",
           "showlakes": true,
           "showland": true,
           "subunitcolor": "white"
          },
          "hoverlabel": {
           "align": "left"
          },
          "hovermode": "closest",
          "mapbox": {
           "style": "light"
          },
          "paper_bgcolor": "white",
          "plot_bgcolor": "#E5ECF6",
          "polar": {
           "angularaxis": {
            "gridcolor": "white",
            "linecolor": "white",
            "ticks": ""
           },
           "bgcolor": "#E5ECF6",
           "radialaxis": {
            "gridcolor": "white",
            "linecolor": "white",
            "ticks": ""
           }
          },
          "scene": {
           "xaxis": {
            "backgroundcolor": "#E5ECF6",
            "gridcolor": "white",
            "gridwidth": 2,
            "linecolor": "white",
            "showbackground": true,
            "ticks": "",
            "zerolinecolor": "white"
           },
           "yaxis": {
            "backgroundcolor": "#E5ECF6",
            "gridcolor": "white",
            "gridwidth": 2,
            "linecolor": "white",
            "showbackground": true,
            "ticks": "",
            "zerolinecolor": "white"
           },
           "zaxis": {
            "backgroundcolor": "#E5ECF6",
            "gridcolor": "white",
            "gridwidth": 2,
            "linecolor": "white",
            "showbackground": true,
            "ticks": "",
            "zerolinecolor": "white"
           }
          },
          "shapedefaults": {
           "line": {
            "color": "#2a3f5f"
           }
          },
          "ternary": {
           "aaxis": {
            "gridcolor": "white",
            "linecolor": "white",
            "ticks": ""
           },
           "baxis": {
            "gridcolor": "white",
            "linecolor": "white",
            "ticks": ""
           },
           "bgcolor": "#E5ECF6",
           "caxis": {
            "gridcolor": "white",
            "linecolor": "white",
            "ticks": ""
           }
          },
          "title": {
           "x": 0.05
          },
          "xaxis": {
           "automargin": true,
           "gridcolor": "white",
           "linecolor": "white",
           "ticks": "",
           "title": {
            "standoff": 15
           },
           "zerolinecolor": "white",
           "zerolinewidth": 2
          },
          "yaxis": {
           "automargin": true,
           "gridcolor": "white",
           "linecolor": "white",
           "ticks": "",
           "title": {
            "standoff": 15
           },
           "zerolinecolor": "white",
           "zerolinewidth": 2
          }
         }
        },
        "title": {
         "text": "Classwise accuracies",
         "x": 0.5,
         "xanchor": "center",
         "y": 0.95,
         "yanchor": "top"
        },
        "width": 1200,
        "xaxis": {
         "anchor": "y",
         "automargin": true,
         "domain": [
          0,
          1
         ],
         "tickangle": -19,
         "title": {
          "font": {
           "size": 1
          },
          "standoff": 0,
          "text": ""
         }
        },
        "yaxis": {
         "anchor": "x",
         "domain": [
          0,
          1
         ],
         "tickangle": 0,
         "tickformat": ",.0%",
         "title": {
          "font": {
           "size": 36
          },
          "standoff": 50,
          "text": "Accuracy"
         }
        }
       }
      }
     },
     "metadata": {},
     "output_type": "display_data"
    }
   ],
   "source": [
    "import numpy as np\n",
    "import pandas as pd\n",
    "classes=KNN_model.classes_\n",
    "knn_classwise=np.array([0.6666,0.5,0.125,0.94])\n",
    "rf_classwise = np.array([0.6666,0.375,0.625,0.94])\n",
    "svm_classwise = np.array([0.6666,0,0.75,0.96])\n",
    "# fcnn_classwise = np.array([.6271,.5357,.1935,.0298,.3333,.8108])\n",
    "# cnn_classwise = np.array([0.8953,0.8127,0.9180])\n",
    "\n",
    "df=pd.DataFrame()\n",
    "\n",
    "df['kNN']=knn_classwise\n",
    "df['Random Forest'] = rf_classwise\n",
    "df['SVM'] = svm_classwise\n",
    "# df['Fully Connected Network'] = fcnn_classwise\n",
    "# df['CNN'] = cnn_classwise\n",
    "\n",
    "df=df.T\n",
    "df.columns=classes\n",
    "df=df.T\n",
    "\n",
    "import plotly.express as px\n",
    "fig=px.bar(df,x=df.index,y=['kNN','Random Forest','SVM'],barmode='group')\n",
    "fig.update_layout(\n",
    "    autosize=True,\n",
    "    width=1200,\n",
    "    height=800,\n",
    "    title={\n",
    "        'text': \"Classwise accuracies\",\n",
    "        'x':0.5,\n",
    "        'y':0.95,\n",
    "        'xanchor': 'center',\n",
    "        'yanchor': 'top',\n",
    "        },\n",
    "    font=dict(\n",
    "        size=28\n",
    "    ),\n",
    "    margin=dict(\n",
    "        l=50,\n",
    "        r=50,\n",
    "        b=100,\n",
    "        t=100,\n",
    "        pad=0\n",
    "    ),\n",
    "    legend=dict(\n",
    "    orientation=\"h\",\n",
    "    yanchor=\"top\",\n",
    "    y=-0.2,\n",
    "    xanchor=\"center\",\n",
    "    x=0.5\n",
    "\n",
    ")\n",
    "    )\n",
    "fig.update_xaxes(\n",
    "        tickangle = -19,\n",
    "        title_text = \"\",\n",
    "        title_font = {\"size\": 1},\n",
    "        title_standoff = 0)\n",
    "fig.update_yaxes(\n",
    "        tickangle = 0,\n",
    "        title_text = \"Accuracy\",\n",
    "        title_font = {\"size\": 36},\n",
    "        title_standoff = 50)\n",
    "fig.update_layout(legend_title_text='')\n",
    "fig.update_layout(yaxis= { 'tickformat': ',.0%'})\n",
    "fig.update_xaxes(automargin=True)\n",
    "fig.write_image(\"/Users/vedant/Desktop/Programming/ACA-project/classwise-accuracies.jpg\", format=\"jpg\", width=1200, height=800, scale=2)\n",
    "fig"
   ]
  },
  {
   "cell_type": "code",
   "execution_count": 106,
   "metadata": {},
   "outputs": [
    {
     "data": {
      "image/png": "[encoded data removed]",
      "text/plain": [
       "<Figure size 720x648 with 2 Axes>"
      ]
     },
     "metadata": {
      "needs_background": "light"
     },
     "output_type": "display_data"
    }
   ],
   "source": [
    "l=KNN_model.classes_\n",
    "disp = ConfusionMatrixDisplay(confusion_matrix=cm_knn/cm_knn.sum(axis=1),display_labels=l)\n",
    "disp.plot(xticks_rotation=45)\n",
    "fig = plt.gcf()\n",
    "fig.set_size_inches(10, 9)\n",
    "plt.tight_layout()\n",
    "plt.title(\"Confusion Matrix for kNN classifier\",fontsize=20)\n",
    "plt.savefig('/Users/vedant/Desktop/Programming/ACA-project/knn_cm.jpg')"
   ]
  },
  {
   "cell_type": "code",
   "execution_count": 109,
   "metadata": {},
   "outputs": [
    {
     "data": {
      "text/plain": [
       "array([ 9,  8,  8, 50])"
      ]
     },
     "execution_count": 109,
     "metadata": {},
     "output_type": "execute_result"
    }
   ],
   "source": [
    "cm_svm.sum(axis=1)"
   ]
  },
  {
   "cell_type": "code",
   "execution_count": 116,
   "metadata": {},
   "outputs": [
    {
     "data": {
      "text/plain": [
       "array([6, 0, 0, 3])"
      ]
     },
     "execution_count": 116,
     "metadata": {},
     "output_type": "execute_result"
    }
   ],
   "source": [
    "cm_svm[0]"
   ]
  },
  {
   "cell_type": "code",
   "execution_count": 117,
   "metadata": {},
   "outputs": [
    {
     "data": {
      "text/plain": [
       "9"
      ]
     },
     "execution_count": 117,
     "metadata": {},
     "output_type": "execute_result"
    }
   ],
   "source": [
    "cm_svm[0].sum()"
   ]
  },
  {
   "cell_type": "code",
   "execution_count": 124,
   "metadata": {},
   "outputs": [
    {
     "data": {
      "text/plain": [
       "array([[0.66666667, 0.11111111, 0.        , 0.22222222],\n",
       "       [0.        , 0.5       , 0.        , 0.5       ],\n",
       "       [0.        , 0.125     , 0.125     , 0.75      ],\n",
       "       [0.04      , 0.        , 0.02      , 0.94      ]])"
      ]
     },
     "execution_count": 124,
     "metadata": {},
     "output_type": "execute_result"
    }
   ],
   "source": [
    "c = np.zeros([4,4])\n",
    "for i in range(cm_knn.shape[0]):\n",
    "    c[i] = cm_knn[i]/cm_knn[i].sum()\n",
    "\n",
    "c"
   ]
  },
  {
   "cell_type": "code",
   "execution_count": 125,
   "metadata": {},
   "outputs": [
    {
     "data": {
      "image/png": "[encoded data removed]",
      "text/plain": [
       "<Figure size 720x648 with 2 Axes>"
      ]
     },
     "metadata": {
      "needs_background": "light"
     },
     "output_type": "display_data"
    }
   ],
   "source": [
    "l=SVM_model.classes_\n",
    "disp = ConfusionMatrixDisplay(c,display_labels=l)\n",
    "disp.plot(xticks_rotation=45)\n",
    "fig = plt.gcf()\n",
    "fig.set_size_inches(10, 9)\n",
    "plt.tight_layout()\n",
    "plt.title(\"Confusion Matrix for KNN classifier\",fontsize=20)\n",
    "plt.savefig('/Users/vedant/Desktop/Programming/ACA-project/knn_cm.jpg')"
   ]
  }
 ],
 "metadata": {
  "interpreter": {
   "hash": "aee8b7b246df8f9039afb4144a1f6fd8d2ca17a180786b69acc140d282b71a49"
  },
  "kernelspec": {
   "display_name": "Python 3.9.7 64-bit",
   "language": "python",
   "name": "python3"
  },
  "language_info": {
   "codemirror_mode": {
    "name": "ipython",
    "version": 3
   },
   "file_extension": ".py",
   "mimetype": "text/x-python",
   "name": "python",
   "nbconvert_exporter": "python",
   "pygments_lexer": "ipython3",
   "version": "3.9.7"
  },
  "orig_nbformat": 4
 },
 "nbformat": 4,
 "nbformat_minor": 2
}
