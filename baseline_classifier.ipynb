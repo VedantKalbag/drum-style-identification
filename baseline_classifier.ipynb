{
 "cells": [
  {
   "cell_type": "code",
   "execution_count": 13,
   "metadata": {},
   "outputs": [],
   "source": [
    "import os\n",
    "import numpy as np\n",
    "import scipy\n",
    "from scipy.io import wavfile\n",
    "import scipy.fftpack as fft\n",
    "from scipy.signal import get_window\n",
    "import matplotlib.pyplot as plt\n",
    "import math\n",
    "import librosa\n",
    "\n",
    "from sklearn.model_selection import train_test_split\n",
    "from sklearn.neighbors import KNeighborsClassifier\n",
    "from sklearn.svm import SVC\n",
    "from sklearn.ensemble import RandomForestClassifier\n",
    "from sklearn.metrics import confusion_matrix\n",
    "from sklearn.metrics import precision_score\n",
    "from sklearn.preprocessing import StandardScaler\n",
    "from sklearn.pipeline import make_pipeline\n",
    "from sklearn.metrics import accuracy_score\n",
    "import warnings\n",
    "from sklearn.exceptions import DataConversionWarning\n",
    "from sklearn.model_selection import RandomizedSearchCV"
   ]
  },
  {
   "cell_type": "markdown",
   "metadata": {},
   "source": [
    "# kNN classifier code"
   ]
  },
  {
   "cell_type": "code",
   "execution_count": null,
   "metadata": {},
   "outputs": [],
   "source": [
    "#Importing the required modules\n",
    "import numpy as np\n",
    "from scipy.stats import mode\n",
    " \n",
    "#Euclidean Distance\n",
    "def eucledian(p1,p2):\n",
    "    dist = np.sqrt(np.sum((p1-p2)**2))\n",
    "    return dist\n",
    " \n",
    "#Function to calculate KNN\n",
    "def predict(x_train, y , x_input, k):\n",
    "    op_labels = []\n",
    "    #Loop through the Datapoints to be classified\n",
    "    for item in x_input: \n",
    "        #Array to store distances\n",
    "        #point_dist = []\n",
    "        point_dist=np.zeros(x_input.shape[0])\n",
    "        #Loop through each training Data\n",
    "        for j in range(len(x_train)): \n",
    "            distances = eucledian(np.array(x_train[j,:]) , item)#distance.euclidean()# \n",
    "            #Calculating the distance\n",
    "            point_dist.append(distances) \n",
    "        point_dist = np.array(point_dist) \n",
    "        #Sorting the array while preserving the index, and keeping the first K datapoints\n",
    "        dist = np.argsort(point_dist)[:k] \n",
    "        #Labels of the K datapoints from above\n",
    "        labels = y[dist]\n",
    "        #Majority voting using mode()\n",
    "        lab = mode(labels) \n",
    "        lab = lab.mode[0]\n",
    "        op_labels.append(lab)\n",
    " \n",
    "    return op_labels"
   ]
  },
  {
   "cell_type": "markdown",
   "metadata": {},
   "source": [
    "# Feature Extraction"
   ]
  },
  {
   "cell_type": "markdown",
   "metadata": {},
   "source": [
    "## Vggish"
   ]
  },
  {
   "cell_type": "code",
   "execution_count": 2,
   "metadata": {},
   "outputs": [],
   "source": [
    "import tensorflow as tf\n",
    "import tensorflow_hub as hub\n",
    "import numpy as np\n",
    "import librosa\n",
    "vggmodel = hub.load('https://tfhub.dev/google/vggish/1')\n",
    "\n",
    "def embedding_from_fn(fn):\n",
    "    x, sr = librosa.load(fn,sr=None)\n",
    "    x_16k = librosa.resample(x,sr,16000) #resample to 16KHz\n",
    "    embedding = np.array(vggmodel(x_16k))\n",
    "    return embedding"
   ]
  },
  {
   "cell_type": "markdown",
   "metadata": {},
   "source": [
    "## Info csv load"
   ]
  },
  {
   "cell_type": "code",
   "execution_count": 16,
   "metadata": {},
   "outputs": [],
   "source": [
    "relevant_genres = ['funk', 'hiphop', 'jazz', 'rock']"
   ]
  },
  {
   "cell_type": "code",
   "execution_count": 14,
   "metadata": {},
   "outputs": [],
   "source": [
    "from scipy.io.wavfile import read as wavread\n",
    "def ToolReadAudio(cAudioFilePath):    \n",
    "    [samplerate, x] = wavread(cAudioFilePath)    \n",
    "    if x.dtype == 'float32':        \n",
    "        audio = x    \n",
    "    else:        \n",
    "        # change range to [-1,1)        \n",
    "        if x.dtype == 'uint8':            \n",
    "            nbits = 8        \n",
    "        elif x.dtype == 'int16':            \n",
    "            nbits = 16        \n",
    "        elif x.dtype == 'int32':            \n",
    "            nbits = 32        \n",
    "        audio = x / float(2**(nbits - 1))    \n",
    "        # special case of unsigned format    \n",
    "    if x.dtype == 'uint8':        \n",
    "        audio = audio - 1.    \n",
    "    return (samplerate, audio)"
   ]
  },
  {
   "cell_type": "code",
   "execution_count": 17,
   "metadata": {},
   "outputs": [],
   "source": [
    "import pandas as pd\n",
    "info = pd.read_csv('./groove/info.csv')\n",
    "#df=info[info['style'].isin(relevant_genres)]\n",
    "\n",
    "#df.pivot(index='style', columns='beat_type', values='audio_filename')\n",
    "df = pd.pivot_table(info, values='audio_filename', index=['style'],\n",
    "                    columns=['beat_type'], aggfunc='count')\n",
    "#df[df['beat'] >= 20]\n",
    "\n",
    "info = info[info['style'].isin(relevant_genres)]\n",
    "info = info[info['beat_type'] == \"beat\"]\n",
    "info = info[info['audio_filename'].notna()].reset_index()\n",
    "#locs = info['audio_filename'].to_numpy()\n"
   ]
  },
  {
   "cell_type": "markdown",
   "metadata": {},
   "source": [
    "## Loading and Normalizing (and converting to Mono) Audio"
   ]
  },
  {
   "cell_type": "code",
   "execution_count": 49,
   "metadata": {},
   "outputs": [
    {
     "data": {
      "text/plain": [
       "'drummer1/session1/1_funk_80_beat_4-4.wav'"
      ]
     },
     "execution_count": 49,
     "metadata": {},
     "output_type": "execute_result"
    }
   ],
   "source": [
    "info['audio_filename'][0]"
   ]
  },
  {
   "cell_type": "code",
   "execution_count": 51,
   "metadata": {},
   "outputs": [
    {
     "name": "stderr",
     "output_type": "stream",
     "text": [
      "<ipython-input-3-70eaf167f057>:3: WavFileWarning: Chunk (non-data) not understood, skipping it.\n",
      "  [samplerate, x] = wavread(cAudioFilePath)\n"
     ]
    },
    {
     "data": {
      "text/plain": [
       "2"
      ]
     },
     "execution_count": 51,
     "metadata": {},
     "output_type": "execute_result"
    }
   ],
   "source": [
    "sr,audio = ToolReadAudio('./groove/'+'drummer1/session1/1_funk_80_beat_4-4.wav')\n",
    "audio.shape[-1]"
   ]
  },
  {
   "cell_type": "markdown",
   "metadata": {},
   "source": [
    "# Feature Extraction and Pre-Processing"
   ]
  },
  {
   "cell_type": "code",
   "execution_count": 18,
   "metadata": {},
   "outputs": [
    {
     "name": "stderr",
     "output_type": "stream",
     "text": [
      "<ipython-input-14-70eaf167f057>:3: WavFileWarning: Chunk (non-data) not understood, skipping it.\n",
      "  [samplerate, x] = wavread(cAudioFilePath)\n",
      "<ipython-input-18-771846dd385f>:8: SettingWithCopyWarning: \n",
      "A value is trying to be set on a copy of a slice from a DataFrame\n",
      "\n",
      "See the caveats in the documentation: https://pandas.pydata.org/pandas-docs/stable/user_guide/indexing.html#returning-a-view-versus-a-copy\n",
      "  info['audio'][index] = np.mean(audio,axis=1)\n",
      "<ipython-input-18-771846dd385f>:10: SettingWithCopyWarning: \n",
      "A value is trying to be set on a copy of a slice from a DataFrame\n",
      "\n",
      "See the caveats in the documentation: https://pandas.pydata.org/pandas-docs/stable/user_guide/indexing.html#returning-a-view-versus-a-copy\n",
      "  info['audio'][index] = audio\n"
     ]
    },
    {
     "name": "stdout",
     "output_type": "stream",
     "text": [
      "Error, dropping row\n",
      "size of info is now: 250\n",
      "Error, dropping row\n",
      "size of info is now: 249\n",
      "Error, dropping row\n",
      "size of info is now: 248\n",
      "Error, dropping row\n",
      "size of info is now: 247\n"
     ]
    }
   ],
   "source": [
    "info['audio'] = ''\n",
    "for index, row in info.iterrows():\n",
    "    #if index % 10 == 0:\n",
    "        #print(index)\n",
    "    try:\n",
    "        sr,audio = ToolReadAudio('./groove/'+row['audio_filename'])\n",
    "        if audio.shape[-1] == 2:\n",
    "            info['audio'][index] = np.mean(audio,axis=1)\n",
    "        else:\n",
    "            info['audio'][index] = audio\n",
    "        #info['audio'][index] = audio\n",
    "    except Exception as e: # Some files are unable to be read by scipy's wavfile read, so skipping them and removing the corresponding rows\n",
    "        info.drop(index,inplace=True)\n",
    "        #print(e)\n",
    "        \n",
    "        print(\"Error, dropping row\")\n",
    "        print(f\"size of info is now: {len(info)}\")\n",
    "info.reset_index(drop=True, inplace=True)\n",
    "info.drop('index',axis=1,inplace=True)"
   ]
  },
  {
   "cell_type": "code",
   "execution_count": 19,
   "metadata": {},
   "outputs": [],
   "source": [
    "def block_audio(x,blockSize,hopSize,fs):    \n",
    "    # allocate memory    \n",
    "    numBlocks = math.ceil(x.size / hopSize)    \n",
    "    xb = np.zeros([numBlocks, blockSize])    \n",
    "    # compute time stamps    \n",
    "    t = (np.arange(0, numBlocks) * hopSize) / fs   \n",
    "    x = np.concatenate((x, np.zeros(blockSize)),axis=0)    \n",
    "    for n in range(0, numBlocks):        \n",
    "        i_start = n * hopSize        \n",
    "        i_stop = np.min([x.size - 1, i_start + blockSize - 1])        \n",
    "        xb[n][np.arange(0,blockSize)] = x[np.arange(i_start, i_stop + 1)]    \n",
    "    return (xb,t)"
   ]
  },
  {
   "cell_type": "code",
   "execution_count": 70,
   "metadata": {},
   "outputs": [],
   "source": [
    "xb,t = block_audio(audio,2048,1024,44100)"
   ]
  },
  {
   "cell_type": "code",
   "execution_count": 20,
   "metadata": {},
   "outputs": [],
   "source": [
    "def agg_mfccs(x):\n",
    "    mfccs = librosa.feature.mfcc(x,n_mfcc = 13)\n",
    "    mean = [np.mean(feature) for feature in mfccs]\n",
    "    std = [np.std(feature) for feature in mfccs]\n",
    "    mfcc_delta = librosa.feature.delta(mfccs)\n",
    "    delta_mean=[np.mean(feature) for feature in mfcc_delta]\n",
    "    delta_std=[np.std(feature) for feature in mfcc_delta]\n",
    "    return mean,std,delta_mean,delta_std"
   ]
  },
  {
   "cell_type": "code",
   "execution_count": 22,
   "metadata": {},
   "outputs": [],
   "source": [
    "def calc_stft(xb,fs=44100):\n",
    "    stft = np.zeros((xb.shape[0],(int(xb[0].shape[0]/2)+1)))\n",
    "    freqs = np.zeros((xb.shape[0],(int(xb[0].shape[0]/2)+1)))\n",
    "    window = np.hanning(xb[0].shape[0])\n",
    "    for i in range(xb.shape[0]):\n",
    "        block= xb[i]\n",
    "        # Apply Window to the block\n",
    "        windowed_block = window * block \n",
    "        stft_blk = np.fft.fft(windowed_block)\n",
    "        #stft_blk = np.fft.rfft(windowed_block)\n",
    "        freq=np.fft.fftfreq(block.size,1/fs)\n",
    "        freqs[i]=freq[:int(block.size/2)+1]\n",
    "        stft_blk = np.abs(stft_blk)\n",
    "        #stft_block = stft_blk[int((stft_blk.shape[0])/2):]\n",
    "        stft_block = stft_blk[:int(((stft_blk.shape[0])/2)+1)]\n",
    "        #stft_db = 10*np.log10(stft_block) # IS THIS CORRECT??\n",
    "        stft[i]=stft_block#stft_db\n",
    "    stft = np.array(stft)\n",
    "    freqs=np.array(freqs)\n",
    "    return stft,freqs\n",
    "\n",
    "def extract_spectral_centroid(xb, fs):\n",
    "    centroids = np.zeros(xb.shape[0])\n",
    "    stft,freqs = calc_stft(xb,fs)\n",
    "    #np.sum(magnitudes*freqs) / np.sum(magnitudes)\n",
    "    for i in range(freqs.shape[0]):\n",
    "        if np.all(stft[i] == 0):\n",
    "            pass\n",
    "        else:\n",
    "            centroid = np.sum(stft[i]*freqs[i]) / np.sum(stft[i])\n",
    "            centroids[i]=centroid\n",
    "        #centroids.append(centroid)\n",
    "    #centroids=np.array(centroids)\n",
    "    return centroids\n",
    "def calc_stft(xb,fs=44100):\n",
    "    stft = np.zeros((xb.shape[0],(int(xb[0].shape[0]/2)+1)))\n",
    "    freqs = np.zeros((xb.shape[0],(int(xb[0].shape[0]/2)+1)))\n",
    "    window = np.hanning(xb[0].shape[0])\n",
    "    for i in range(xb.shape[0]):\n",
    "        block= xb[i]\n",
    "        # Apply Window to the block\n",
    "        windowed_block = window * block \n",
    "        stft_blk = np.fft.fft(windowed_block)\n",
    "        #stft_blk = np.fft.rfft(windowed_block)\n",
    "        freq=np.fft.fftfreq(block.size,1/fs)\n",
    "        freqs[i]=freq[:int(block.size/2)+1]\n",
    "        stft_blk = np.abs(stft_blk)\n",
    "        #stft_block = stft_blk[int((stft_blk.shape[0])/2):]\n",
    "        stft_block = stft_blk[:int(((stft_blk.shape[0])/2)+1)]\n",
    "        #stft_db = 10*np.log10(stft_block) # IS THIS CORRECT??\n",
    "        stft[i]=stft_block#stft_db\n",
    "    stft = np.array(stft)\n",
    "    freqs=np.array(freqs)\n",
    "    return stft,freqs\n",
    "\n",
    "def extract_spectral_centroid(xb, fs):\n",
    "    centroids = np.zeros(xb.shape[0])\n",
    "    stft,freqs = calc_stft(xb,fs)\n",
    "    #np.sum(magnitudes*freqs) / np.sum(magnitudes)\n",
    "    for i in range(freqs.shape[0]):\n",
    "        if np.all(stft[i] == 0):\n",
    "            pass\n",
    "        else:\n",
    "            centroid = np.sum(stft[i]*freqs[i]) / np.sum(stft[i])\n",
    "            centroids[i]=centroid\n",
    "        #centroids.append(centroid)\n",
    "    #centroids=np.array(centroids)\n",
    "    return centroids\n",
    "def calc_stft(xb,fs=44100):\n",
    "    stft = np.zeros((xb.shape[0],(int(xb[0].shape[0]/2)+1)))\n",
    "    freqs = np.zeros((xb.shape[0],(int(xb[0].shape[0]/2)+1)))\n",
    "    window = np.hanning(xb[0].shape[0])\n",
    "    for i in range(xb.shape[0]):\n",
    "        block= xb[i]\n",
    "        # Apply Window to the block\n",
    "        windowed_block = window * block \n",
    "        stft_blk = np.fft.fft(windowed_block)\n",
    "        #stft_blk = np.fft.rfft(windowed_block)\n",
    "        freq=np.fft.fftfreq(block.size,1/fs)\n",
    "        freqs[i]=freq[:int(block.size/2)+1]\n",
    "        stft_blk = np.abs(stft_blk)\n",
    "        #stft_block = stft_blk[int((stft_blk.shape[0])/2):]\n",
    "        stft_block = stft_blk[:int(((stft_blk.shape[0])/2)+1)]\n",
    "        #stft_db = 10*np.log10(stft_block) # IS THIS CORRECT??\n",
    "        stft[i]=stft_block#stft_db\n",
    "    stft = np.array(stft)\n",
    "    freqs=np.array(freqs)\n",
    "    return stft,freqs\n",
    "\n",
    "def extract_spectral_centroid(xb, fs):\n",
    "    centroids = np.zeros(xb.shape[0])\n",
    "    stft,freqs = calc_stft(xb,fs)\n",
    "    #np.sum(magnitudes*freqs) / np.sum(magnitudes)\n",
    "    for i in range(freqs.shape[0]):\n",
    "        if np.all(stft[i] == 0):\n",
    "            pass\n",
    "        else:\n",
    "            centroid = np.sum(stft[i]*freqs[i]) / np.sum(stft[i])\n",
    "            centroids[i]=centroid\n",
    "        #centroids.append(centroid)\n",
    "    #centroids=np.array(centroids)\n",
    "    return centroids\n",
    "\n",
    "def extract_rms(xb):\n",
    "    rms = np.zeros(xb.shape[0])\n",
    "    for i in range(xb.shape[0]):\n",
    "        if np.all(xb[i] == 0):\n",
    "            r = 0.00001\n",
    "        else:\n",
    "            block = xb[i]\n",
    "            r = np.sqrt(np.sum(block**2)/xb.shape[0])\n",
    "            if r <= 0.00001: # Done to handle case when rms is 0 (for a block of all zeros\n",
    "                r = 0.00001\n",
    "            #rms.append(r)\n",
    "        rms[i] = r\n",
    "    #rms=np.array(rms)\n",
    "    return 20*np.log10(rms)#rms,20*np.log10(rms) # What is reference value to convert to dB? Is it 1?\n",
    "\n",
    "def extract_zerocrossingrate(xb):\n",
    "    zcr= np.zeros(xb.shape[0])\n",
    "    for i in range(xb.shape[0]):\n",
    "        if np.all(xb[i] == 0):\n",
    "            pass\n",
    "        else:\n",
    "            block = xb[i]\n",
    "            zero_crossings = np.sum(np.abs(np.diff(np.sign(block)))) / block.shape[0] #np.nonzero(np.diff(block > 0))[0].size\n",
    "            #zcr.append(zero_crossings)\n",
    "            zcr[i] = zero_crossings \n",
    "    #zcr = np.array(zcr)\n",
    "    return zcr\n",
    "\n",
    "def extract_spectral_crest(xb):\n",
    "    crest = np.zeros(xb.shape[0])\n",
    "    stft,freqs = calc_stft(xb,44100)\n",
    "    for i in range(stft.shape[0]):\n",
    "        if np.all(stft[i] == 0):\n",
    "            pass\n",
    "        else:\n",
    "            #crest.append((np.max(stft[i])/np.sum(stft[i])))\n",
    "            crest[i] = np.max(stft[i])/np.sum(stft[i])\n",
    "    #crest = np.array(crest)\n",
    "    return crest\n",
    "\n",
    "def extract_spectral_flux(xb):\n",
    "    num_blocks=xb.shape[0] \n",
    "    blockSize = xb.shape[1]\n",
    "    spectral_flux = np.zeros(num_blocks)\n",
    "    stft,freqs = calc_stft(xb,44100)\n",
    "    fft_len= stft.shape[1]\n",
    "    n = 0\n",
    "    k = 0\n",
    "    for n in range(1,num_blocks):\n",
    "        if np.all(stft[n] == 0):\n",
    "            pass\n",
    "        else:\n",
    "            sum_flux = 0\n",
    "            for k in range(fft_len):\n",
    "                f = (abs(stft[n, k]) - abs(stft[n-1, k]))**2\n",
    "                sum_flux += f\n",
    "            flux = np.sqrt(sum_flux)/((blockSize/2)+1)\n",
    "            spectral_flux[n] = flux #first flux value will be 0\n",
    "    return spectral_flux\n",
    "\n",
    "\n",
    "def extract_manual_features(x,fs):\n",
    "\n",
    "    xb,ts = block_audio(x,2048,1024,fs)\n",
    "    centroid = extract_spectral_centroid(xb,fs)\n",
    "    rms = extract_rms(xb)\n",
    "    zcr = extract_zerocrossingrate(xb)\n",
    "    crest = extract_spectral_crest(xb)\n",
    "    flux = extract_spectral_flux(xb)\n",
    "\n",
    "    centroid_mean = np.mean(centroid)\n",
    "    centroid_std = np.std(centroid)\n",
    "\n",
    "    rms_mean = np.mean(rms)\n",
    "    rms_std = np.std(rms)\n",
    "\n",
    "    zcr_mean = np.mean(zcr)\n",
    "    zcr_std = np.std(zcr)\n",
    "\n",
    "    crest_mean = np.mean(crest)\n",
    "    crest_std = np.std(crest)\n",
    "\n",
    "    flux_mean = np.mean(flux)\n",
    "    flux_std = np.std(flux)\n",
    "\n",
    "    return centroid_mean, centroid_std, rms_mean, rms_std, zcr_mean, zcr_std, crest_mean, crest_std, flux_mean,flux_std"
   ]
  },
  {
   "cell_type": "code",
   "execution_count": 23,
   "metadata": {},
   "outputs": [
    {
     "name": "stderr",
     "output_type": "stream",
     "text": [
      "<ipython-input-23-6309a878bdf4>:27: SettingWithCopyWarning: \n",
      "A value is trying to be set on a copy of a slice from a DataFrame\n",
      "\n",
      "See the caveats in the documentation: https://pandas.pydata.org/pandas-docs/stable/user_guide/indexing.html#returning-a-view-versus-a-copy\n",
      "  df['mfcc_mean'][i] = mean\n",
      "<ipython-input-23-6309a878bdf4>:28: SettingWithCopyWarning: \n",
      "A value is trying to be set on a copy of a slice from a DataFrame\n",
      "\n",
      "See the caveats in the documentation: https://pandas.pydata.org/pandas-docs/stable/user_guide/indexing.html#returning-a-view-versus-a-copy\n",
      "  df['mfcc_std'][i] = std\n",
      "<ipython-input-23-6309a878bdf4>:29: SettingWithCopyWarning: \n",
      "A value is trying to be set on a copy of a slice from a DataFrame\n",
      "\n",
      "See the caveats in the documentation: https://pandas.pydata.org/pandas-docs/stable/user_guide/indexing.html#returning-a-view-versus-a-copy\n",
      "  df['delta_mfcc_mean'][i] = delta_mean\n",
      "<ipython-input-23-6309a878bdf4>:30: SettingWithCopyWarning: \n",
      "A value is trying to be set on a copy of a slice from a DataFrame\n",
      "\n",
      "See the caveats in the documentation: https://pandas.pydata.org/pandas-docs/stable/user_guide/indexing.html#returning-a-view-versus-a-copy\n",
      "  df['delta_mfcc_std'][i] = delta_std\n",
      "<ipython-input-23-6309a878bdf4>:33: SettingWithCopyWarning: \n",
      "A value is trying to be set on a copy of a slice from a DataFrame\n",
      "\n",
      "See the caveats in the documentation: https://pandas.pydata.org/pandas-docs/stable/user_guide/indexing.html#returning-a-view-versus-a-copy\n",
      "  df['centroid_mean'][i] = centroid_mean\n",
      "<ipython-input-23-6309a878bdf4>:34: SettingWithCopyWarning: \n",
      "A value is trying to be set on a copy of a slice from a DataFrame\n",
      "\n",
      "See the caveats in the documentation: https://pandas.pydata.org/pandas-docs/stable/user_guide/indexing.html#returning-a-view-versus-a-copy\n",
      "  df['centroid_std'][i] = centroid_std\n",
      "<ipython-input-23-6309a878bdf4>:35: SettingWithCopyWarning: \n",
      "A value is trying to be set on a copy of a slice from a DataFrame\n",
      "\n",
      "See the caveats in the documentation: https://pandas.pydata.org/pandas-docs/stable/user_guide/indexing.html#returning-a-view-versus-a-copy\n",
      "  df['rms_mean'][i] = rms_mean\n",
      "<ipython-input-23-6309a878bdf4>:36: SettingWithCopyWarning: \n",
      "A value is trying to be set on a copy of a slice from a DataFrame\n",
      "\n",
      "See the caveats in the documentation: https://pandas.pydata.org/pandas-docs/stable/user_guide/indexing.html#returning-a-view-versus-a-copy\n",
      "  df['rms_std'][i] = rms_std\n",
      "<ipython-input-23-6309a878bdf4>:37: SettingWithCopyWarning: \n",
      "A value is trying to be set on a copy of a slice from a DataFrame\n",
      "\n",
      "See the caveats in the documentation: https://pandas.pydata.org/pandas-docs/stable/user_guide/indexing.html#returning-a-view-versus-a-copy\n",
      "  df['zcr_mean'][i] = zcr_mean\n",
      "<ipython-input-23-6309a878bdf4>:38: SettingWithCopyWarning: \n",
      "A value is trying to be set on a copy of a slice from a DataFrame\n",
      "\n",
      "See the caveats in the documentation: https://pandas.pydata.org/pandas-docs/stable/user_guide/indexing.html#returning-a-view-versus-a-copy\n",
      "  df['zcr_std'][i] = zcr_std\n",
      "<ipython-input-23-6309a878bdf4>:39: SettingWithCopyWarning: \n",
      "A value is trying to be set on a copy of a slice from a DataFrame\n",
      "\n",
      "See the caveats in the documentation: https://pandas.pydata.org/pandas-docs/stable/user_guide/indexing.html#returning-a-view-versus-a-copy\n",
      "  df['crest_mean'][i] = crest_mean\n",
      "<ipython-input-23-6309a878bdf4>:40: SettingWithCopyWarning: \n",
      "A value is trying to be set on a copy of a slice from a DataFrame\n",
      "\n",
      "See the caveats in the documentation: https://pandas.pydata.org/pandas-docs/stable/user_guide/indexing.html#returning-a-view-versus-a-copy\n",
      "  df['crest_std'][i] = crest_std\n",
      "<ipython-input-23-6309a878bdf4>:41: SettingWithCopyWarning: \n",
      "A value is trying to be set on a copy of a slice from a DataFrame\n",
      "\n",
      "See the caveats in the documentation: https://pandas.pydata.org/pandas-docs/stable/user_guide/indexing.html#returning-a-view-versus-a-copy\n",
      "  df['flux_mean'][i] = flux_mean\n",
      "<ipython-input-23-6309a878bdf4>:42: SettingWithCopyWarning: \n",
      "A value is trying to be set on a copy of a slice from a DataFrame\n",
      "\n",
      "See the caveats in the documentation: https://pandas.pydata.org/pandas-docs/stable/user_guide/indexing.html#returning-a-view-versus-a-copy\n",
      "  df['flux_std'][i] = flux_std\n"
     ]
    }
   ],
   "source": [
    "df=info\n",
    "df['mfcc_mean'] = ''\n",
    "df['mfcc_std'] = ''\n",
    "\n",
    "df['delta_mfcc_mean'] = ''\n",
    "df['delta_mfcc_std'] = ''\n",
    "\n",
    "df['centroid_mean'] = ''\n",
    "df['centroid_std'] = ''\n",
    "\n",
    "df['rms_mean'] = ''\n",
    "df['rms_std'] = ''\n",
    "\n",
    "df['zcr_mean'] = ''\n",
    "df['zcr_std'] = ''\n",
    "\n",
    "df['crest_mean'] = ''\n",
    "df['crest_std'] = ''\n",
    "\n",
    "df['flux_mean'] = ''\n",
    "df['flux_std'] = ''\n",
    "\n",
    "for i in range(len(df)):\n",
    "    #print(df['audio'][i].shape)\n",
    "    mean,std,delta_mean,delta_std = agg_mfccs(df['audio'][i])\n",
    "    # Extract 13 MFCCs - get mean and std deviation for each (26 features) + Delta MFCCs (26 features) = total 52 Features\n",
    "    df['mfcc_mean'][i] = mean\n",
    "    df['mfcc_std'][i] = std\n",
    "    df['delta_mfcc_mean'][i] = delta_mean\n",
    "    df['delta_mfcc_std'][i] = delta_std\n",
    "\n",
    "    centroid_mean, centroid_std, rms_mean, rms_std, zcr_mean, zcr_std, crest_mean, crest_std, flux_mean,flux_std = extract_manual_features(df['audio'][i],44100)\n",
    "    df['centroid_mean'][i] = centroid_mean\n",
    "    df['centroid_std'][i] = centroid_std\n",
    "    df['rms_mean'][i] = rms_mean\n",
    "    df['rms_std'][i] = rms_std\n",
    "    df['zcr_mean'][i] = zcr_mean\n",
    "    df['zcr_std'][i] = zcr_std\n",
    "    df['crest_mean'][i] = crest_mean\n",
    "    df['crest_std'][i] = crest_std\n",
    "    df['flux_mean'][i] = flux_mean\n",
    "    df['flux_std'][i] = flux_std\n",
    "\n",
    "\n",
    "df[['mfcc1_mean','mfcc2_mean','mfcc3_mean','mfcc4_mean','mfcc5_mean','mfcc6_mean','mfcc7_mean','mfcc8_mean','mfcc9_mean','mfcc10_mean','mfcc11_mean','mfcc12_mean','mfcc13_mean']]=pd.DataFrame(df.mfcc_mean.tolist(), index= df.index)\n",
    "df[['mfcc1_std','mfcc2_std','mfcc3_std','mfcc4_std','mfcc5_std','mfcc6_std','mfcc7_std','mfcc8_std','mfcc9_std','mfcc10_std','mfcc11_std','mfcc12_std','mfcc13_std']]=pd.DataFrame(df.mfcc_std.tolist(), index= df.index)\n",
    "\n",
    "df[['delta_mfcc1_mean','delta_mfcc2_mean','delta_mfcc3_mean','delta_mfcc4_mean','delta_mfcc5_mean','delta_mfcc6_mean','delta_mfcc7_mean','delta_mfcc8_mean','delta_mfcc9_mean','delta_mfcc10_mean','delta_mfcc11_mean','delta_mfcc12_mean','delta_mfcc13_mean']]=pd.DataFrame(df.delta_mfcc_mean.tolist(), index= df.index)\n",
    "df[['delta_mfcc1_std','delta_mfcc2_std','delta_mfcc3_std','delta_mfcc4_std','delta_mfcc5_std','delta_mfcc6_std','delta_mfcc7_std','delta_mfcc8_std','delta_mfcc9_std','delta_mfcc10_std','delta_mfcc11_std','delta_mfcc12_std','delta_mfcc13_std']]=pd.DataFrame(df.delta_mfcc_std.tolist(), index= df.index)\n"
   ]
  },
  {
   "cell_type": "code",
   "execution_count": 24,
   "metadata": {},
   "outputs": [],
   "source": [
    "out = df.to_numpy()\n",
    "np.save('./resources/working_data/data.npy', out)"
   ]
  },
  {
   "cell_type": "code",
   "execution_count": 25,
   "metadata": {},
   "outputs": [
    {
     "data": {
      "text/plain": [
       "Index(['drummer', 'session', 'id', 'style', 'bpm', 'beat_type',\n",
       "       'time_signature', 'midi_filename', 'audio_filename', 'duration',\n",
       "       'split', 'audio', 'mfcc_mean', 'mfcc_std', 'delta_mfcc_mean',\n",
       "       'delta_mfcc_std', 'centroid_mean', 'centroid_std', 'rms_mean',\n",
       "       'rms_std', 'zcr_mean', 'zcr_std', 'crest_mean', 'crest_std',\n",
       "       'flux_mean', 'flux_std', 'mfcc1_mean', 'mfcc2_mean', 'mfcc3_mean',\n",
       "       'mfcc4_mean', 'mfcc5_mean', 'mfcc6_mean', 'mfcc7_mean', 'mfcc8_mean',\n",
       "       'mfcc9_mean', 'mfcc10_mean', 'mfcc11_mean', 'mfcc12_mean',\n",
       "       'mfcc13_mean', 'mfcc1_std', 'mfcc2_std', 'mfcc3_std', 'mfcc4_std',\n",
       "       'mfcc5_std', 'mfcc6_std', 'mfcc7_std', 'mfcc8_std', 'mfcc9_std',\n",
       "       'mfcc10_std', 'mfcc11_std', 'mfcc12_std', 'mfcc13_std',\n",
       "       'delta_mfcc1_mean', 'delta_mfcc2_mean', 'delta_mfcc3_mean',\n",
       "       'delta_mfcc4_mean', 'delta_mfcc5_mean', 'delta_mfcc6_mean',\n",
       "       'delta_mfcc7_mean', 'delta_mfcc8_mean', 'delta_mfcc9_mean',\n",
       "       'delta_mfcc10_mean', 'delta_mfcc11_mean', 'delta_mfcc12_mean',\n",
       "       'delta_mfcc13_mean', 'delta_mfcc1_std', 'delta_mfcc2_std',\n",
       "       'delta_mfcc3_std', 'delta_mfcc4_std', 'delta_mfcc5_std',\n",
       "       'delta_mfcc6_std', 'delta_mfcc7_std', 'delta_mfcc8_std',\n",
       "       'delta_mfcc9_std', 'delta_mfcc10_std', 'delta_mfcc11_std',\n",
       "       'delta_mfcc12_std', 'delta_mfcc13_std'],\n",
       "      dtype='object')"
      ]
     },
     "execution_count": 25,
     "metadata": {},
     "output_type": "execute_result"
    }
   ],
   "source": [
    "df.columns"
   ]
  },
  {
   "cell_type": "markdown",
   "metadata": {},
   "source": [
    "# Load Feature file and classify"
   ]
  },
  {
   "cell_type": "markdown",
   "metadata": {},
   "source": [
    "## Load Feature File"
   ]
  },
  {
   "cell_type": "code",
   "execution_count": 42,
   "metadata": {},
   "outputs": [],
   "source": [
    "import os\n",
    "import numpy as np\n",
    "import scipy\n",
    "from scipy.io import wavfile\n",
    "import scipy.fftpack as fft\n",
    "from scipy.signal import get_window\n",
    "import matplotlib.pyplot as plt\n",
    "import math\n",
    "import librosa\n",
    "import pandas as pd\n",
    "\n",
    "from sklearn.model_selection import train_test_split\n",
    "from sklearn.neighbors import KNeighborsClassifier\n",
    "from sklearn.svm import SVC\n",
    "from sklearn.ensemble import RandomForestClassifier\n",
    "from sklearn.metrics import confusion_matrix\n",
    "from sklearn.metrics import precision_score\n",
    "from sklearn.preprocessing import StandardScaler\n",
    "from sklearn.pipeline import make_pipeline\n",
    "from sklearn.metrics import accuracy_score\n",
    "from sklearn.model_selection import cross_validate\n",
    "import warnings\n",
    "from sklearn.exceptions import DataConversionWarning\n",
    "from sklearn.model_selection import RandomizedSearchCV, GridSearchCV\n",
    "names=['drummer', 'session', 'id', 'style', 'bpm', 'beat_type',\n",
    "       'time_signature', 'midi_filename', 'audio_filename', 'duration',\n",
    "       'split', 'audio', 'mfcc_mean', 'mfcc_std', 'delta_mfcc_mean',\n",
    "       'delta_mfcc_std', 'centroid_mean', 'centroid_std', 'rms_mean',\n",
    "       'rms_std', 'zcr_mean', 'zcr_std', 'crest_mean', 'crest_std',\n",
    "       'flux_mean', 'flux_std', 'mfcc1_mean', 'mfcc2_mean', 'mfcc3_mean',\n",
    "       'mfcc4_mean', 'mfcc5_mean', 'mfcc6_mean', 'mfcc7_mean', 'mfcc8_mean',\n",
    "       'mfcc9_mean', 'mfcc10_mean', 'mfcc11_mean', 'mfcc12_mean',\n",
    "       'mfcc13_mean', 'mfcc1_std', 'mfcc2_std', 'mfcc3_std', 'mfcc4_std',\n",
    "       'mfcc5_std', 'mfcc6_std', 'mfcc7_std', 'mfcc8_std', 'mfcc9_std',\n",
    "       'mfcc10_std', 'mfcc11_std', 'mfcc12_std', 'mfcc13_std',\n",
    "       'delta_mfcc1_mean', 'delta_mfcc2_mean', 'delta_mfcc3_mean',\n",
    "       'delta_mfcc4_mean', 'delta_mfcc5_mean', 'delta_mfcc6_mean',\n",
    "       'delta_mfcc7_mean', 'delta_mfcc8_mean', 'delta_mfcc9_mean',\n",
    "       'delta_mfcc10_mean', 'delta_mfcc11_mean', 'delta_mfcc12_mean',\n",
    "       'delta_mfcc13_mean', 'delta_mfcc1_std', 'delta_mfcc2_std',\n",
    "       'delta_mfcc3_std', 'delta_mfcc4_std', 'delta_mfcc5_std',\n",
    "       'delta_mfcc6_std', 'delta_mfcc7_std', 'delta_mfcc8_std',\n",
    "       'delta_mfcc9_std', 'delta_mfcc10_std', 'delta_mfcc11_std',\n",
    "       'delta_mfcc12_std', 'delta_mfcc13_std']\n",
    "df=pd.DataFrame(np.load('./resources/working_data/data.npy',allow_pickle=True),columns=names)"
   ]
  },
  {
   "cell_type": "markdown",
   "metadata": {},
   "source": [
    "### Feature Normalization and train-test split"
   ]
  },
  {
   "cell_type": "code",
   "execution_count": 37,
   "metadata": {},
   "outputs": [
    {
     "name": "stderr",
     "output_type": "stream",
     "text": [
      "<ipython-input-37-feaf435abdcc>:23: SettingWithCopyWarning: \n",
      "A value is trying to be set on a copy of a slice from a DataFrame.\n",
      "Try using .loc[row_indexer,col_indexer] = value instead\n",
      "\n",
      "See the caveats in the documentation: https://pandas.pydata.org/pandas-docs/stable/user_guide/indexing.html#returning-a-view-versus-a-copy\n",
      "  X[col] = (X[col] - mean)/std # z-score normalization\n"
     ]
    }
   ],
   "source": [
    "X = df[['mfcc1_mean', 'mfcc2_mean', 'mfcc3_mean',\n",
    "       'mfcc4_mean', 'mfcc5_mean', 'mfcc6_mean', 'mfcc7_mean', 'mfcc8_mean',\n",
    "       'mfcc9_mean', 'mfcc10_mean', 'mfcc11_mean', 'mfcc12_mean',\n",
    "       'mfcc13_mean', 'mfcc1_std', 'mfcc2_std', 'mfcc3_std', 'mfcc4_std',\n",
    "       'mfcc5_std', 'mfcc6_std', 'mfcc7_std', 'mfcc8_std', 'mfcc9_std',\n",
    "       'mfcc10_std', 'mfcc11_std', 'mfcc12_std', 'mfcc13_std',\n",
    "       'delta_mfcc1_mean', 'delta_mfcc2_mean', 'delta_mfcc3_mean',\n",
    "       'delta_mfcc4_mean', 'delta_mfcc5_mean', 'delta_mfcc6_mean',\n",
    "       'delta_mfcc7_mean', 'delta_mfcc8_mean', 'delta_mfcc9_mean',\n",
    "       'delta_mfcc10_mean', 'delta_mfcc11_mean', 'delta_mfcc12_mean',\n",
    "       'delta_mfcc13_mean', 'delta_mfcc1_std', 'delta_mfcc2_std',\n",
    "       'delta_mfcc3_std', 'delta_mfcc4_std', 'delta_mfcc5_std',\n",
    "       'delta_mfcc6_std', 'delta_mfcc7_std', 'delta_mfcc8_std',\n",
    "       'delta_mfcc9_std', 'delta_mfcc10_std', 'delta_mfcc11_std',\n",
    "       'delta_mfcc12_std', 'delta_mfcc13_std',\\\n",
    "       'centroid_mean','centroid_std','rms_mean','rms_std','zcr_mean','zcr_std','crest_mean','crest_std','flux_mean','flux_std']]\n",
    "y=df[['style']]\n",
    "\n",
    "for col in X.columns:\n",
    "    #df[col] = df[col]/max(np.abs(df[col]))\n",
    "    mean = np.mean(X[col])\n",
    "    std = np.std(X[col])\n",
    "    X[col] = (X[col] - mean)/std # z-score normalization\n",
    "\n",
    "X_train, X_test, y_train, y_test = train_test_split(X, y, test_size=0.33)\n",
    "\n",
    "X_train = X_train.to_numpy()\n",
    "X_test = X_test.to_numpy()\n",
    "y_train = y_train.to_numpy()\n",
    "y_test = y_test.to_numpy()"
   ]
  },
  {
   "cell_type": "code",
   "execution_count": 38,
   "metadata": {},
   "outputs": [],
   "source": [
    "from sklearn.exceptions import UndefinedMetricWarning\n",
    "warnings.filterwarnings('ignore', category=UndefinedMetricWarning) \n",
    "warnings.filterwarnings(action='ignore', category=DataConversionWarning)"
   ]
  },
  {
   "cell_type": "markdown",
   "metadata": {},
   "source": [
    "## Results with MFCCs + Delta MFCCs"
   ]
  },
  {
   "cell_type": "code",
   "execution_count": 126,
   "metadata": {},
   "outputs": [
    {
     "name": "stdout",
     "output_type": "stream",
     "text": [
      "-------------------------------------------------------------------------------\n",
      "            KNN with k=4              \n",
      "-------------------------------------------------------------------------------\n",
      "Confusion Matrix:\n",
      " [[ 9  0  0  2]\n",
      " [ 0  7  0  2]\n",
      " [ 0  0  2  8]\n",
      " [ 4  8  0 40]]\n",
      "Accuracy score: 0.7073170731707317\n",
      "Macro accuracy score: 0.732051282051282\n",
      "-------------------------------------------------------------------------------\n",
      "            SVM with C=1, kernel = rbf, degree = 3              \n",
      "-------------------------------------------------------------------------------\n",
      "Confusion Matrix:\n",
      " [[ 0  0  0 11]\n",
      " [ 0  0  0  9]\n",
      " [ 0  0  1  9]\n",
      " [ 0  0  0 52]]\n",
      "Accuracy score: 0.6463414634146342\n",
      "Macro accuracy score: 0.4104938271604938\n",
      "-------------------------------------------------------------------------------\n",
      "            RF with n_estimators = 100, criterion=gini, max_depth=None, min_samples_split=2,min_samples_leaf=1,max_features='auto', max_leaf_nodes=None,class_weight='balanced'              \n",
      "-------------------------------------------------------------------------------\n",
      "Confusion Matrix:\n",
      " [[ 1  0  0 10]\n",
      " [ 0  1  0  8]\n",
      " [ 0  0  0 10]\n",
      " [ 0  5  0 47]]\n",
      "Accuracy score: 0.5975609756097561\n",
      "Macro accuracy score: 0.44833333333333336\n"
     ]
    }
   ],
   "source": [
    "print(\"-------------------------------------------------------------------------------\")\n",
    "print(\"            KNN with k=4              \")\n",
    "print(\"-------------------------------------------------------------------------------\")\n",
    "k=4\n",
    "KNN_model = KNeighborsClassifier(n_neighbors=k)\n",
    "KNN_model.fit(X_train, y_train)\n",
    "KNN_prediction = KNN_model.predict(X_test)\n",
    "score=precision_score(y_test, KNN_prediction, average='macro')\n",
    "accuracy = accuracy_score(y_test, KNN_prediction)\n",
    "cm = confusion_matrix(y_test, KNN_prediction) # clean, highfry, layered, lowfry, midfry, no vocals\n",
    "print(f\"Confusion Matrix:\\n {cm}\")\n",
    "print(f\"Accuracy score: {accuracy}\")\n",
    "print(f\"Macro accuracy score: {score}\")\n",
    "\n",
    "print(\"-------------------------------------------------------------------------------\")\n",
    "print(\"            SVM with C=1, kernel = rbf, degree = 3              \")\n",
    "print(\"-------------------------------------------------------------------------------\")\n",
    "\n",
    "SVM_model = make_pipeline(StandardScaler(), SVC(gamma='auto',C=1.0, kernel='rbf', degree=3,random_state=None))\n",
    "SVM_model.fit(X_train, y_train)\n",
    "SVM_prediction = SVM_model.predict(X_test)\n",
    "score=precision_score(y_test, SVM_prediction, average='macro')\n",
    "accuracy = accuracy_score(y_test, SVM_prediction)\n",
    "cm = confusion_matrix(y_test, SVM_prediction) # clean, highfry, layered, lowfry, midfry, no vocals\n",
    "print(f\"Confusion Matrix:\\n {cm}\")\n",
    "print(f\"Accuracy score: {accuracy}\")\n",
    "print(f\"Macro accuracy score: {score}\")\n",
    "\n",
    "print(\"-------------------------------------------------------------------------------\")\n",
    "print(\"            RF with n_estimators = 100, criterion=gini, max_depth=None, min_samples_split=2,min_samples_leaf=1,max_features='auto', max_leaf_nodes=None,class_weight='balanced'              \")\n",
    "print(\"-------------------------------------------------------------------------------\")\n",
    "\n",
    "RF_model = RandomForestClassifier(n_estimators=100,criterion='gini',max_depth=None,\\\n",
    "    min_samples_split=2,min_samples_leaf=1,max_features='auto',max_leaf_nodes=None,class_weight='balanced')\n",
    "RF_model.fit(X_train, y_train)\n",
    "RF_prediction = RF_model.predict(X_test)\n",
    "score=precision_score(y_test, RF_prediction, average='macro')\n",
    "accuracy = accuracy_score(y_test, RF_prediction)\n",
    "cm = confusion_matrix(y_test, RF_prediction) # clean, highfry, layered, lowfry, midfry, no vocals\n",
    "print(f\"Confusion Matrix:\\n {cm}\")\n",
    "print(f\"Accuracy score: {accuracy}\")\n",
    "print(f\"Macro accuracy score: {score}\")"
   ]
  },
  {
   "cell_type": "markdown",
   "metadata": {},
   "source": [
    "## Overall Hyperparameter Optimization"
   ]
  },
  {
   "cell_type": "code",
   "execution_count": 217,
   "metadata": {},
   "outputs": [
    {
     "name": "stdout",
     "output_type": "stream",
     "text": [
      "-------------------------------------------------------------------------------\n",
      "            KNN             \n",
      "{'n_neighbors': 9}\n",
      "-------------------------------------------------------------------------------\n",
      "Fitting 10 folds for each of 6 candidates, totalling 60 fits\n"
     ]
    },
    {
     "name": "stderr",
     "output_type": "stream",
     "text": [
      "/usr/local/lib/python3.9/site-packages/sklearn/model_selection/_search.py:285: UserWarning: The total space of parameters 6 is smaller than n_iter=10. Running 6 iterations. For exhaustive searches, use GridSearchCV.\n",
      "  warnings.warn(\n"
     ]
    },
    {
     "name": "stdout",
     "output_type": "stream",
     "text": [
      "{'n_neighbors': 9}\n",
      "Confusion Matrix:\n",
      " [[ 4  0  0  8]\n",
      " [ 1  1  0  3]\n",
      " [ 0  0  0 10]\n",
      " [ 3  4  0 48]]\n",
      "Accuracy score: 0.6463414634146342\n",
      "Macro accuracy score: 0.34891304347826085\n",
      "-------------------------------------------------------------------------------\n",
      "            SVM             \n",
      "{'kernel': 'poly', 'gamma': 'scale', 'degree': 5, 'decision_function_shape': 'ovr', 'coef0': 3.2, 'C': 1.053646986645436}\n",
      "-------------------------------------------------------------------------------\n",
      "Fitting 10 folds for each of 10 candidates, totalling 100 fits\n",
      "{'kernel': 'rbf', 'gamma': 'scale', 'degree': 7, 'decision_function_shape': 'ovo', 'coef0': 0.9, 'C': 1.052637571345141}\n",
      "Confusion Matrix:\n",
      " [[ 0  0  0 12]\n",
      " [ 0  1  0  4]\n",
      " [ 0  0  0 10]\n",
      " [ 0  0  0 55]]\n",
      "Accuracy score: 0.6829268292682927\n",
      "Macro accuracy score: 0.41975308641975306\n",
      "-------------------------------------------------------------------------------\n",
      "            Random Forest             \n",
      "{'n_estimators': 650, 'min_samples_split': 5, 'min_samples_leaf': 2, 'max_leaf_nodes': 14, 'max_features': 30, 'max_depth': 46, 'criterion': 'entropy', 'class_weight': 'balanced_subsample'}\n",
      "-------------------------------------------------------------------------------\n",
      "Fitting 10 folds for each of 10 candidates, totalling 100 fits\n"
     ]
    },
    {
     "name": "stderr",
     "output_type": "stream",
     "text": [
      "/usr/local/lib/python3.9/site-packages/sklearn/model_selection/_search.py:922: UserWarning: One or more of the test scores are non-finite: [0.69558824 0.73235294 0.74448529        nan 0.69669118 0.64227941\n",
      "        nan 0.66617647        nan 0.59926471]\n",
      "  warnings.warn(\n"
     ]
    },
    {
     "name": "stdout",
     "output_type": "stream",
     "text": [
      "{'n_estimators': 960, 'min_samples_split': 4, 'min_samples_leaf': 4, 'max_leaf_nodes': 86, 'max_features': 27, 'max_depth': 426, 'criterion': 'entropy', 'class_weight': 'balanced'}\n",
      "Confusion Matrix:\n",
      " [[ 2  2  0  8]\n",
      " [ 0  2  0  3]\n",
      " [ 0  0  5  5]\n",
      " [ 2  1  1 51]]\n",
      "Accuracy score: 0.7317073170731707\n",
      "Macro accuracy score: 0.62363184079602\n"
     ]
    }
   ],
   "source": [
    "print(\"-------------------------------------------------------------------------------\")\n",
    "print(\"            KNN             \")\n",
    "print(\"{'n_neighbors': 9}\")\n",
    "print(\"-------------------------------------------------------------------------------\")\n",
    "k= [int(x) for x in range(4,10)]\n",
    "knn_grid = {'n_neighbors':k}\n",
    "\n",
    "\n",
    "knn = KNeighborsClassifier()\n",
    "KNN_model=RandomizedSearchCV(estimator = knn, param_distributions=knn_grid,cv=10,verbose=2,n_jobs=4)\n",
    "KNN_model.fit(X_train, y_train)\n",
    "print(KNN_model.best_params_)\n",
    "KNN_prediction = KNN_model.predict(X_test)\n",
    "score=precision_score(y_test, KNN_prediction, average='macro')\n",
    "accuracy = accuracy_score(y_test, KNN_prediction)\n",
    "cm = confusion_matrix(y_test, KNN_prediction) # clean, highfry, layered, lowfry, midfry, no vocals\n",
    "print(f\"Confusion Matrix:\\n {cm}\")\n",
    "print(f\"Accuracy score: {accuracy}\")\n",
    "print(f\"Macro accuracy score: {score}\")\n",
    "\n",
    "print(\"-------------------------------------------------------------------------------\")\n",
    "print(\"            SVM             \")\n",
    "print(\"{'kernel': 'poly', 'gamma': 'scale', 'degree': 5, 'decision_function_shape': 'ovr', 'coef0': 3.2, 'C': 1.053646986645436}\")\n",
    "print(\"-------------------------------------------------------------------------------\")\n",
    "\n",
    "C = [x**0.01 for x in range(25,200)]\n",
    "kernel = ['rbf','linear','poly','sigmoid']\n",
    "degree = [int(x) for x in range(1,8)]\n",
    "gamma = ['scale','auto']\n",
    "coef0 = [x*0.1 for x in range(0,40)]\n",
    "decision_function_shape = ['ovo','ovr']\n",
    "\n",
    "svm_grid = { 'C' : C,\n",
    "            'kernel' : kernel,\n",
    "            'degree' : degree,\n",
    "            'gamma' : gamma,\n",
    "            'coef0' : coef0,\n",
    "            'decision_function_shape' : decision_function_shape\n",
    "            }\n",
    "\n",
    "svc = SVC(random_state=0)\n",
    "\n",
    "\n",
    "svc_RandomGrid = RandomizedSearchCV(estimator = svc, param_distributions=svm_grid,cv=10,verbose=2,n_jobs=4)\n",
    "svc_RandomGrid.fit(X_train,y_train)\n",
    "print(svc_RandomGrid.best_params_)\n",
    "y_prediction = svc_RandomGrid.predict(X_test)\n",
    "score=precision_score(y_test, y_prediction, average='macro')\n",
    "accuracy = accuracy_score(y_test, y_prediction)\n",
    "cm = confusion_matrix(y_test, y_prediction) # clean, highfry, layered, lowfry, midfry, no vocals\n",
    "print(f\"Confusion Matrix:\\n {cm}\")\n",
    "print(f\"Accuracy score: {accuracy}\")\n",
    "print(f\"Macro accuracy score: {score}\")\n",
    "\n",
    "print(\"-------------------------------------------------------------------------------\")\n",
    "print(\"            Random Forest             \")\n",
    "print(\"{'n_estimators': 650, 'min_samples_split': 5, 'min_samples_leaf': 2, 'max_leaf_nodes': 14, 'max_features': 30, 'max_depth': 46, 'criterion': 'entropy', 'class_weight': 'balanced_subsample'}\")\n",
    "print(\"-------------------------------------------------------------------------------\")\n",
    "\n",
    "n_estimators= [x for x in range(10,1000,10)]\n",
    "criterion=['gini','entropy']\n",
    "\n",
    "max_depth=[y for y in range(1,1000,5)]\n",
    "max_depth.append(None)\n",
    "\n",
    "min_samples_split=[x for x in range(2,10)]\n",
    "min_samples_leaf=[x for x in range(1,10)]\n",
    "max_features=[x for x in range(0,100)]\n",
    "max_features.append('auto')\n",
    "max_features.append('sqrt')\n",
    "max_features.append('log2')\n",
    "max_leaf_nodes=[x for x in range(0,100)]\n",
    "class_weight=['balanced','balanced_subsample']\n",
    "\n",
    "\n",
    "rf_grid = { 'n_estimators' : n_estimators,\n",
    "            'criterion' : criterion,\n",
    "            'max_depth': max_depth,\n",
    "            'min_samples_split': min_samples_split,\n",
    "            'min_samples_leaf': min_samples_leaf,\n",
    "            'max_features': max_features,\n",
    "            'max_leaf_nodes': max_leaf_nodes,\n",
    "            'class_weight': class_weight \n",
    "            }\n",
    "\n",
    "rf = RandomForestClassifier(random_state=0)\n",
    "RF_model = RandomizedSearchCV(estimator = rf, param_distributions=rf_grid,cv=10,verbose=2,n_jobs=4)\n",
    "RF_model.fit(X_train, y_train)\n",
    "print(RF_model.best_params_)\n",
    "RF_prediction = RF_model.predict(X_test)\n",
    "score=precision_score(y_test, RF_prediction, average='macro')\n",
    "accuracy = accuracy_score(y_test, RF_prediction)\n",
    "cm = confusion_matrix(y_test, RF_prediction) # clean, highfry, layered, lowfry, midfry, no vocals\n",
    "print(f\"Confusion Matrix:\\n {cm}\")\n",
    "print(f\"Accuracy score: {accuracy}\")\n",
    "print(f\"Macro accuracy score: {score}\")"
   ]
  },
  {
   "cell_type": "markdown",
   "metadata": {},
   "source": [
    "# Hyperparameter tuning\n",
    "\n",
    "## Best Results:\n",
    "\n",
    "\n",
    "\n",
    "RF:  \n",
    "accuracy                                                     0.743902  \n",
    "macro_accuracy                                               0.678571  \n",
    "{'n_estimators': 800,\n",
    " 'min_samples_split': 8,\n",
    " 'min_samples_leaf': 2,\n",
    " 'max_leaf_nodes': 29,\n",
    " 'max_features': 45,\n",
    " 'max_depth': 796,\n",
    " 'criterion': 'entropy',\n",
    " 'class_weight': 'balanced'}\n",
    "\n",
    "\n",
    "SVM: \n",
    "\n",
    "accuracy 0.8658536585365854  \n",
    "macro-accuracy 0.8566308243727598  \n",
    "[[ 5  1  0  3]  \n",
    " [ 0  8  0  3]  \n",
    " [ 0  0  4  2]  \n",
    " [ 0  0  2 54]]  \n",
    "{'kernel': 'poly', 'gamma': 'auto', 'degree': 4, 'decision_function_shape': 'ovr', 'coef0': 0.9, 'C': 1.051659640188661}\n",
    "\n",
    "accuracy                                                     0.8414634146341463  \n",
    "macro_accuracy                                               0.8418898809523809  \n",
    "{'kernel': 'poly', 'gamma': 'scale', 'degree': 3, 'decision_function_shape': 'ovr', 'coef0': 1.1, 'C': 1.053359910724275}\n",
    "\n",
    "accuracy                                                     0.780488  \n",
    "macro_accuracy                                               0.728571  \n",
    "{'kernel': 'poly',\n",
    " 'gamma': 'scale',\n",
    " 'degree': 3,\n",
    " 'decision_function_shape': 'ovr',\n",
    " 'coef0': 0.7000000000000001,\n",
    " 'C': 1.053475672085955}\n",
    "\n",
    "accuracy              0.792683  \n",
    "macro_accuracy        0.768056  \n",
    " {'kernel': 'poly',\n",
    " 'gamma': 'scale',\n",
    " 'degree': 7,\n",
    " 'decision_function_shape': 'ovr',\n",
    " 'coef0': 0.6000000000000001,\n",
    " 'C': 1.053646986645436}\n"
   ]
  },
  {
   "cell_type": "markdown",
   "metadata": {},
   "source": [
    "### SVM Params"
   ]
  },
  {
   "cell_type": "code",
   "execution_count": 52,
   "metadata": {},
   "outputs": [
    {
     "name": "stdout",
     "output_type": "stream",
     "text": [
      "Accuracy: 0.68 (+/- 0.05)\n",
      "Accuracy: 0.67 (+/- 0.08)\n",
      "Accuracy: 0.71 (+/- 0.10)\n",
      "Accuracy: 0.70 (+/- 0.13)\n",
      "Accuracy: 0.72 (+/- 0.10)\n",
      "Accuracy: 0.70 (+/- 0.06)\n",
      "Accuracy: 0.68 (+/- 0.05)\n",
      "Accuracy: 0.70 (+/- 0.12)\n",
      "Accuracy: 0.67 (+/- 0.07)\n",
      "Accuracy: 0.69 (+/- 0.10)\n",
      "Accuracy: 0.70 (+/- 0.10)\n",
      "Accuracy: 0.71 (+/- 0.12)\n",
      "Accuracy: 0.71 (+/- 0.12)\n",
      "Accuracy: 0.73 (+/- 0.17)\n",
      "Accuracy: 0.71 (+/- 0.03)\n",
      "Accuracy: 0.72 (+/- 0.12)\n",
      "Accuracy: 0.71 (+/- 0.11)\n",
      "Accuracy: 0.71 (+/- 0.17)\n",
      "Accuracy: 0.68 (+/- 0.12)\n",
      "Accuracy: 0.67 (+/- 0.11)\n",
      "Accuracy: 0.76 (+/- 0.13)\n",
      "Accuracy: 0.68 (+/- 0.10)\n",
      "Accuracy: 0.70 (+/- 0.15)\n",
      "Accuracy: 0.72 (+/- 0.12)\n",
      "Accuracy: 0.70 (+/- 0.10)\n",
      "Accuracy: 0.70 (+/- 0.05)\n",
      "Accuracy: 0.69 (+/- 0.12)\n",
      "Accuracy: 0.70 (+/- 0.11)\n",
      "Accuracy: 0.68 (+/- 0.08)\n",
      "Accuracy: 0.70 (+/- 0.12)\n",
      "Accuracy: 0.73 (+/- 0.07)\n",
      "Accuracy: 0.69 (+/- 0.06)\n",
      "Accuracy: 0.72 (+/- 0.14)\n",
      "Accuracy: 0.67 (+/- 0.05)\n",
      "Accuracy: 0.70 (+/- 0.08)\n",
      "Accuracy: 0.70 (+/- 0.12)\n",
      "Accuracy: 0.68 (+/- 0.09)\n",
      "Accuracy: 0.70 (+/- 0.10)\n",
      "Accuracy: 0.72 (+/- 0.11)\n",
      "Accuracy: 0.68 (+/- 0.05)\n",
      "Accuracy: 0.73 (+/- 0.16)\n",
      "Accuracy: 0.71 (+/- 0.10)\n",
      "Accuracy: 0.70 (+/- 0.10)\n",
      "Accuracy: 0.68 (+/- 0.12)\n",
      "Accuracy: 0.72 (+/- 0.12)\n",
      "Accuracy: 0.68 (+/- 0.03)\n",
      "Accuracy: 0.72 (+/- 0.16)\n",
      "Accuracy: 0.68 (+/- 0.12)\n",
      "Accuracy: 0.70 (+/- 0.08)\n",
      "Accuracy: 0.71 (+/- 0.15)\n"
     ]
    },
    {
     "data": {
      "text/plain": [
       "0.8526915113871636"
      ]
     },
     "execution_count": 52,
     "metadata": {},
     "output_type": "execute_result"
    }
   ],
   "source": [
    "warnings.filterwarnings(\"ignore\")\n",
    "\n",
    "C = [x**0.01 for x in range(25,200)]\n",
    "kernel = ['rbf','linear','poly','sigmoid']\n",
    "degree = [int(x) for x in range(1,8)]\n",
    "gamma = ['scale','auto']\n",
    "coef0 = [x*0.1 for x in range(0,40)]\n",
    "decision_function_shape = ['ovo','ovr']\n",
    "\n",
    "svm_grid = { 'C' : C,\n",
    "            'kernel' : kernel,\n",
    "            'degree' : degree,\n",
    "            'gamma' : gamma,\n",
    "            'coef0' : coef0,\n",
    "            'decision_function_shape' : decision_function_shape\n",
    "            }\n",
    "\n",
    "svc = SVC()\n",
    "svm_df=pd.DataFrame()\n",
    "svm_df['trial']=[]\n",
    "svm_df['accuracy'] = []\n",
    "svm_df['macro_accuracy'] = []\n",
    "svm_df['confusion_matrix']=[]\n",
    "svm_df['params']=[]\n",
    "svm_df['cv_acc']=[]\n",
    "svm_df['cv_std']=[]\n",
    "\n",
    "trial=[]\n",
    "accuracy=[]\n",
    "macro_accuracy=[]\n",
    "confusion=[]\n",
    "params=[]\n",
    "cv_acc=[]\n",
    "cv_std=[]\n",
    "for i in range(0,50):\n",
    "    trial.append(i)\n",
    "    svc_RandomGrid = RandomizedSearchCV(estimator = svc, param_distributions=svm_grid,cv=10,verbose=0,n_jobs=4) #verbose=2\n",
    "    svc_RandomGrid.fit(X_train,y_train)\n",
    "    #print(svc_RandomGrid.best_params_)\n",
    "    params.append(svc_RandomGrid.best_params_)\n",
    "    y_prediction = svc_RandomGrid.predict(X_test)\n",
    "    score=precision_score(y_test, y_prediction, average='macro')\n",
    "    acc = accuracy_score(y_test, y_prediction)\n",
    "    cm = confusion_matrix(y_test, y_prediction) # clean, highfry, layered, lowfry, midfry, no vocals\n",
    "\n",
    "    accuracy.append(acc)\n",
    "    macro_accuracy.append(score)\n",
    "    confusion.append(cm)\n",
    "    scores = cross_validate(svc_RandomGrid, X_train, y_train, cv=5)\n",
    "    cv_acc.append(scores['test_score'].mean())\n",
    "    cv_std.append(scores['test_score'].std())\n",
    "    print(\"Accuracy: %0.2f (+/- %0.2f)\" % (scores['test_score'].mean(), scores['test_score'].std() * 2))\n",
    "    #print(f\"Confusion Matrix:\\n {cm}\")\n",
    "    #print(f\"Accuracy score: {accuracy}\")\n",
    "    #print(f\"Macro accuracy score: {score}\")\n",
    "\n",
    "\n",
    "svm_df['trial']= trial\n",
    "svm_df['accuracy'] = accuracy\n",
    "svm_df['macro_accuracy'] = macro_accuracy\n",
    "svm_df['confusion_matrix']=confusion\n",
    "svm_df['params']=params\n",
    "svm_df['cv_acc']=cv_acc\n",
    "svm_df['cv_std']=cv_std\n",
    "\n",
    "svm_df['macro_accuracy'].max()"
   ]
  },
  {
   "cell_type": "code",
   "execution_count": 54,
   "metadata": {},
   "outputs": [
    {
     "data": {
      "text/html": [
       "<div>\n",
       "<style scoped>\n",
       "    .dataframe tbody tr th:only-of-type {\n",
       "        vertical-align: middle;\n",
       "    }\n",
       "\n",
       "    .dataframe tbody tr th {\n",
       "        vertical-align: top;\n",
       "    }\n",
       "\n",
       "    .dataframe thead th {\n",
       "        text-align: right;\n",
       "    }\n",
       "</style>\n",
       "<table border=\"1\" class=\"dataframe\">\n",
       "  <thead>\n",
       "    <tr style=\"text-align: right;\">\n",
       "      <th></th>\n",
       "      <th>trial</th>\n",
       "      <th>accuracy</th>\n",
       "      <th>macro_accuracy</th>\n",
       "      <th>confusion_matrix</th>\n",
       "      <th>params</th>\n",
       "      <th>cv_acc</th>\n",
       "      <th>cv_std</th>\n",
       "    </tr>\n",
       "  </thead>\n",
       "  <tbody>\n",
       "    <tr>\n",
       "      <th>0</th>\n",
       "      <td>0</td>\n",
       "      <td>0.743902</td>\n",
       "      <td>0.690947</td>\n",
       "      <td>[[5, 0, 0, 0], [0, 4, 0, 6], [1, 0, 6, 7], [3,...</td>\n",
       "      <td>{'kernel': 'poly', 'gamma': 'scale', 'degree':...</td>\n",
       "      <td>0.684848</td>\n",
       "      <td>0.024242</td>\n",
       "    </tr>\n",
       "    <tr>\n",
       "      <th>1</th>\n",
       "      <td>1</td>\n",
       "      <td>0.756098</td>\n",
       "      <td>0.805465</td>\n",
       "      <td>[[5, 0, 0, 0], [0, 1, 0, 9], [1, 0, 6, 7], [1,...</td>\n",
       "      <td>{'kernel': 'poly', 'gamma': 'auto', 'degree': ...</td>\n",
       "      <td>0.672727</td>\n",
       "      <td>0.040202</td>\n",
       "    </tr>\n",
       "    <tr>\n",
       "      <th>2</th>\n",
       "      <td>2</td>\n",
       "      <td>0.731707</td>\n",
       "      <td>0.805556</td>\n",
       "      <td>[[2, 0, 0, 3], [0, 1, 0, 9], [1, 0, 5, 8], [0,...</td>\n",
       "      <td>{'kernel': 'poly', 'gamma': 'auto', 'degree': ...</td>\n",
       "      <td>0.709091</td>\n",
       "      <td>0.049237</td>\n",
       "    </tr>\n",
       "    <tr>\n",
       "      <th>3</th>\n",
       "      <td>3</td>\n",
       "      <td>0.768293</td>\n",
       "      <td>0.752480</td>\n",
       "      <td>[[5, 0, 0, 0], [0, 3, 0, 7], [1, 0, 6, 7], [2,...</td>\n",
       "      <td>{'kernel': 'poly', 'gamma': 'auto', 'degree': ...</td>\n",
       "      <td>0.696970</td>\n",
       "      <td>0.066391</td>\n",
       "    </tr>\n",
       "    <tr>\n",
       "      <th>4</th>\n",
       "      <td>4</td>\n",
       "      <td>0.756098</td>\n",
       "      <td>0.716667</td>\n",
       "      <td>[[5, 0, 0, 0], [0, 5, 0, 5], [1, 0, 5, 8], [2,...</td>\n",
       "      <td>{'kernel': 'poly', 'gamma': 'auto', 'degree': ...</td>\n",
       "      <td>0.721212</td>\n",
       "      <td>0.052135</td>\n",
       "    </tr>\n",
       "    <tr>\n",
       "      <th>5</th>\n",
       "      <td>5</td>\n",
       "      <td>0.646341</td>\n",
       "      <td>0.161585</td>\n",
       "      <td>[[0, 0, 0, 5], [0, 0, 0, 10], [0, 0, 0, 14], [...</td>\n",
       "      <td>{'kernel': 'sigmoid', 'gamma': 'auto', 'degree...</td>\n",
       "      <td>0.703030</td>\n",
       "      <td>0.029691</td>\n",
       "    </tr>\n",
       "    <tr>\n",
       "      <th>6</th>\n",
       "      <td>6</td>\n",
       "      <td>0.743902</td>\n",
       "      <td>0.782212</td>\n",
       "      <td>[[5, 0, 0, 0], [0, 1, 0, 9], [1, 0, 6, 7], [2,...</td>\n",
       "      <td>{'kernel': 'poly', 'gamma': 'scale', 'degree':...</td>\n",
       "      <td>0.678788</td>\n",
       "      <td>0.024242</td>\n",
       "    </tr>\n",
       "    <tr>\n",
       "      <th>7</th>\n",
       "      <td>7</td>\n",
       "      <td>0.768293</td>\n",
       "      <td>0.733924</td>\n",
       "      <td>[[5, 0, 0, 0], [0, 4, 0, 6], [1, 0, 6, 7], [2,...</td>\n",
       "      <td>{'kernel': 'poly', 'gamma': 'scale', 'degree':...</td>\n",
       "      <td>0.703030</td>\n",
       "      <td>0.061806</td>\n",
       "    </tr>\n",
       "    <tr>\n",
       "      <th>8</th>\n",
       "      <td>8</td>\n",
       "      <td>0.743902</td>\n",
       "      <td>0.700063</td>\n",
       "      <td>[[5, 0, 0, 0], [0, 4, 0, 6], [1, 0, 5, 8], [2,...</td>\n",
       "      <td>{'kernel': 'poly', 'gamma': 'scale', 'degree':...</td>\n",
       "      <td>0.672727</td>\n",
       "      <td>0.035339</td>\n",
       "    </tr>\n",
       "    <tr>\n",
       "      <th>9</th>\n",
       "      <td>9</td>\n",
       "      <td>0.756098</td>\n",
       "      <td>0.728311</td>\n",
       "      <td>[[5, 0, 0, 0], [0, 3, 0, 7], [1, 0, 5, 8], [1,...</td>\n",
       "      <td>{'kernel': 'poly', 'gamma': 'scale', 'degree':...</td>\n",
       "      <td>0.690909</td>\n",
       "      <td>0.052135</td>\n",
       "    </tr>\n",
       "    <tr>\n",
       "      <th>10</th>\n",
       "      <td>10</td>\n",
       "      <td>0.719512</td>\n",
       "      <td>0.761416</td>\n",
       "      <td>[[1, 0, 0, 4], [0, 1, 0, 9], [1, 0, 5, 8], [0,...</td>\n",
       "      <td>{'kernel': 'poly', 'gamma': 'auto', 'degree': ...</td>\n",
       "      <td>0.696970</td>\n",
       "      <td>0.050707</td>\n",
       "    </tr>\n",
       "    <tr>\n",
       "      <th>11</th>\n",
       "      <td>11</td>\n",
       "      <td>0.780488</td>\n",
       "      <td>0.775670</td>\n",
       "      <td>[[5, 0, 0, 0], [0, 3, 0, 7], [1, 0, 6, 7], [1,...</td>\n",
       "      <td>{'kernel': 'poly', 'gamma': 'auto', 'degree': ...</td>\n",
       "      <td>0.709091</td>\n",
       "      <td>0.059382</td>\n",
       "    </tr>\n",
       "    <tr>\n",
       "      <th>12</th>\n",
       "      <td>12</td>\n",
       "      <td>0.743902</td>\n",
       "      <td>0.700063</td>\n",
       "      <td>[[5, 0, 0, 0], [0, 4, 0, 6], [1, 0, 5, 8], [2,...</td>\n",
       "      <td>{'kernel': 'poly', 'gamma': 'scale', 'degree':...</td>\n",
       "      <td>0.709091</td>\n",
       "      <td>0.059382</td>\n",
       "    </tr>\n",
       "    <tr>\n",
       "      <th>13</th>\n",
       "      <td>13</td>\n",
       "      <td>0.780488</td>\n",
       "      <td>0.775670</td>\n",
       "      <td>[[5, 0, 0, 0], [0, 3, 0, 7], [1, 0, 6, 7], [1,...</td>\n",
       "      <td>{'kernel': 'poly', 'gamma': 'scale', 'degree':...</td>\n",
       "      <td>0.727273</td>\n",
       "      <td>0.083540</td>\n",
       "    </tr>\n",
       "    <tr>\n",
       "      <th>14</th>\n",
       "      <td>14</td>\n",
       "      <td>0.768293</td>\n",
       "      <td>0.852692</td>\n",
       "      <td>[[4, 0, 0, 1], [0, 1, 0, 9], [1, 0, 6, 7], [0,...</td>\n",
       "      <td>{'kernel': 'poly', 'gamma': 'auto', 'degree': ...</td>\n",
       "      <td>0.709091</td>\n",
       "      <td>0.014845</td>\n",
       "    </tr>\n",
       "    <tr>\n",
       "      <th>15</th>\n",
       "      <td>15</td>\n",
       "      <td>0.646341</td>\n",
       "      <td>0.161585</td>\n",
       "      <td>[[0, 0, 0, 5], [0, 0, 0, 10], [0, 0, 0, 14], [...</td>\n",
       "      <td>{'kernel': 'rbf', 'gamma': 'scale', 'degree': ...</td>\n",
       "      <td>0.715152</td>\n",
       "      <td>0.059382</td>\n",
       "    </tr>\n",
       "    <tr>\n",
       "      <th>16</th>\n",
       "      <td>16</td>\n",
       "      <td>0.756098</td>\n",
       "      <td>0.583333</td>\n",
       "      <td>[[5, 0, 0, 0], [0, 0, 0, 10], [1, 0, 6, 7], [0...</td>\n",
       "      <td>{'kernel': 'poly', 'gamma': 'scale', 'degree':...</td>\n",
       "      <td>0.709091</td>\n",
       "      <td>0.056204</td>\n",
       "    </tr>\n",
       "    <tr>\n",
       "      <th>17</th>\n",
       "      <td>17</td>\n",
       "      <td>0.743902</td>\n",
       "      <td>0.571687</td>\n",
       "      <td>[[5, 0, 0, 0], [0, 0, 0, 10], [1, 0, 5, 8], [0...</td>\n",
       "      <td>{'kernel': 'poly', 'gamma': 'auto', 'degree': ...</td>\n",
       "      <td>0.709091</td>\n",
       "      <td>0.086986</td>\n",
       "    </tr>\n",
       "    <tr>\n",
       "      <th>18</th>\n",
       "      <td>18</td>\n",
       "      <td>0.743902</td>\n",
       "      <td>0.690947</td>\n",
       "      <td>[[5, 0, 0, 0], [0, 4, 0, 6], [1, 0, 6, 7], [3,...</td>\n",
       "      <td>{'kernel': 'poly', 'gamma': 'auto', 'degree': ...</td>\n",
       "      <td>0.684848</td>\n",
       "      <td>0.059382</td>\n",
       "    </tr>\n",
       "    <tr>\n",
       "      <th>19</th>\n",
       "      <td>19</td>\n",
       "      <td>0.768293</td>\n",
       "      <td>0.766712</td>\n",
       "      <td>[[5, 0, 0, 0], [0, 3, 0, 7], [1, 0, 5, 8], [1,...</td>\n",
       "      <td>{'kernel': 'poly', 'gamma': 'scale', 'degree':...</td>\n",
       "      <td>0.666667</td>\n",
       "      <td>0.054208</td>\n",
       "    </tr>\n",
       "    <tr>\n",
       "      <th>20</th>\n",
       "      <td>20</td>\n",
       "      <td>0.743902</td>\n",
       "      <td>0.700063</td>\n",
       "      <td>[[5, 0, 0, 0], [0, 4, 0, 6], [1, 0, 5, 8], [2,...</td>\n",
       "      <td>{'kernel': 'poly', 'gamma': 'auto', 'degree': ...</td>\n",
       "      <td>0.757576</td>\n",
       "      <td>0.063564</td>\n",
       "    </tr>\n",
       "    <tr>\n",
       "      <th>21</th>\n",
       "      <td>21</td>\n",
       "      <td>0.756098</td>\n",
       "      <td>0.762500</td>\n",
       "      <td>[[4, 0, 0, 1], [0, 2, 0, 8], [1, 0, 5, 8], [0,...</td>\n",
       "      <td>{'kernel': 'poly', 'gamma': 'auto', 'degree': ...</td>\n",
       "      <td>0.684848</td>\n",
       "      <td>0.049237</td>\n",
       "    </tr>\n",
       "    <tr>\n",
       "      <th>22</th>\n",
       "      <td>22</td>\n",
       "      <td>0.731707</td>\n",
       "      <td>0.560714</td>\n",
       "      <td>[[4, 0, 0, 1], [0, 0, 0, 10], [1, 0, 5, 8], [0...</td>\n",
       "      <td>{'kernel': 'poly', 'gamma': 'auto', 'degree': ...</td>\n",
       "      <td>0.703030</td>\n",
       "      <td>0.075210</td>\n",
       "    </tr>\n",
       "    <tr>\n",
       "      <th>23</th>\n",
       "      <td>23</td>\n",
       "      <td>0.743902</td>\n",
       "      <td>0.791636</td>\n",
       "      <td>[[5, 0, 0, 0], [0, 1, 0, 9], [1, 0, 6, 7], [3,...</td>\n",
       "      <td>{'kernel': 'poly', 'gamma': 'scale', 'degree':...</td>\n",
       "      <td>0.715152</td>\n",
       "      <td>0.059382</td>\n",
       "    </tr>\n",
       "    <tr>\n",
       "      <th>24</th>\n",
       "      <td>24</td>\n",
       "      <td>0.646341</td>\n",
       "      <td>0.161585</td>\n",
       "      <td>[[0, 0, 0, 5], [0, 0, 0, 10], [0, 0, 0, 14], [...</td>\n",
       "      <td>{'kernel': 'rbf', 'gamma': 'scale', 'degree': ...</td>\n",
       "      <td>0.696970</td>\n",
       "      <td>0.050707</td>\n",
       "    </tr>\n",
       "    <tr>\n",
       "      <th>25</th>\n",
       "      <td>25</td>\n",
       "      <td>0.743902</td>\n",
       "      <td>0.700063</td>\n",
       "      <td>[[5, 0, 0, 0], [0, 4, 0, 6], [1, 0, 5, 8], [2,...</td>\n",
       "      <td>{'kernel': 'poly', 'gamma': 'scale', 'degree':...</td>\n",
       "      <td>0.703030</td>\n",
       "      <td>0.022677</td>\n",
       "    </tr>\n",
       "    <tr>\n",
       "      <th>26</th>\n",
       "      <td>26</td>\n",
       "      <td>0.756098</td>\n",
       "      <td>0.716667</td>\n",
       "      <td>[[5, 0, 0, 0], [0, 5, 0, 5], [1, 0, 5, 8], [2,...</td>\n",
       "      <td>{'kernel': 'poly', 'gamma': 'auto', 'degree': ...</td>\n",
       "      <td>0.690909</td>\n",
       "      <td>0.058760</td>\n",
       "    </tr>\n",
       "    <tr>\n",
       "      <th>27</th>\n",
       "      <td>27</td>\n",
       "      <td>0.646341</td>\n",
       "      <td>0.161585</td>\n",
       "      <td>[[0, 0, 0, 5], [0, 0, 0, 10], [0, 0, 0, 14], [...</td>\n",
       "      <td>{'kernel': 'sigmoid', 'gamma': 'scale', 'degre...</td>\n",
       "      <td>0.696970</td>\n",
       "      <td>0.057496</td>\n",
       "    </tr>\n",
       "    <tr>\n",
       "      <th>28</th>\n",
       "      <td>28</td>\n",
       "      <td>0.731707</td>\n",
       "      <td>0.669345</td>\n",
       "      <td>[[5, 0, 0, 0], [0, 4, 0, 6], [1, 0, 5, 8], [2,...</td>\n",
       "      <td>{'kernel': 'poly', 'gamma': 'scale', 'degree':...</td>\n",
       "      <td>0.678788</td>\n",
       "      <td>0.041105</td>\n",
       "    </tr>\n",
       "    <tr>\n",
       "      <th>29</th>\n",
       "      <td>29</td>\n",
       "      <td>0.756098</td>\n",
       "      <td>0.716667</td>\n",
       "      <td>[[5, 0, 0, 0], [0, 5, 0, 5], [1, 0, 5, 8], [2,...</td>\n",
       "      <td>{'kernel': 'poly', 'gamma': 'scale', 'degree':...</td>\n",
       "      <td>0.703030</td>\n",
       "      <td>0.061806</td>\n",
       "    </tr>\n",
       "    <tr>\n",
       "      <th>30</th>\n",
       "      <td>30</td>\n",
       "      <td>0.731707</td>\n",
       "      <td>0.669345</td>\n",
       "      <td>[[5, 0, 0, 0], [0, 4, 0, 6], [1, 0, 5, 8], [2,...</td>\n",
       "      <td>{'kernel': 'poly', 'gamma': 'scale', 'degree':...</td>\n",
       "      <td>0.727273</td>\n",
       "      <td>0.033195</td>\n",
       "    </tr>\n",
       "    <tr>\n",
       "      <th>31</th>\n",
       "      <td>31</td>\n",
       "      <td>0.646341</td>\n",
       "      <td>0.161585</td>\n",
       "      <td>[[0, 0, 0, 5], [0, 0, 0, 10], [0, 0, 0, 14], [...</td>\n",
       "      <td>{'kernel': 'rbf', 'gamma': 'auto', 'degree': 3...</td>\n",
       "      <td>0.690909</td>\n",
       "      <td>0.029691</td>\n",
       "    </tr>\n",
       "    <tr>\n",
       "      <th>32</th>\n",
       "      <td>32</td>\n",
       "      <td>0.768293</td>\n",
       "      <td>0.836132</td>\n",
       "      <td>[[5, 0, 0, 0], [0, 1, 0, 9], [1, 0, 6, 7], [0,...</td>\n",
       "      <td>{'kernel': 'poly', 'gamma': 'scale', 'degree':...</td>\n",
       "      <td>0.715152</td>\n",
       "      <td>0.070678</td>\n",
       "    </tr>\n",
       "    <tr>\n",
       "      <th>33</th>\n",
       "      <td>33</td>\n",
       "      <td>0.743902</td>\n",
       "      <td>0.791636</td>\n",
       "      <td>[[5, 0, 0, 0], [0, 1, 0, 9], [1, 0, 6, 7], [3,...</td>\n",
       "      <td>{'kernel': 'poly', 'gamma': 'scale', 'degree':...</td>\n",
       "      <td>0.666667</td>\n",
       "      <td>0.027104</td>\n",
       "    </tr>\n",
       "    <tr>\n",
       "      <th>34</th>\n",
       "      <td>34</td>\n",
       "      <td>0.731707</td>\n",
       "      <td>0.681746</td>\n",
       "      <td>[[5, 0, 0, 0], [0, 4, 0, 6], [1, 0, 5, 8], [3,...</td>\n",
       "      <td>{'kernel': 'poly', 'gamma': 'auto', 'degree': ...</td>\n",
       "      <td>0.703030</td>\n",
       "      <td>0.040202</td>\n",
       "    </tr>\n",
       "    <tr>\n",
       "      <th>35</th>\n",
       "      <td>35</td>\n",
       "      <td>0.743902</td>\n",
       "      <td>0.700063</td>\n",
       "      <td>[[5, 0, 0, 0], [0, 4, 0, 6], [1, 0, 5, 8], [2,...</td>\n",
       "      <td>{'kernel': 'poly', 'gamma': 'auto', 'degree': ...</td>\n",
       "      <td>0.696970</td>\n",
       "      <td>0.060606</td>\n",
       "    </tr>\n",
       "    <tr>\n",
       "      <th>36</th>\n",
       "      <td>36</td>\n",
       "      <td>0.646341</td>\n",
       "      <td>0.161585</td>\n",
       "      <td>[[0, 0, 0, 5], [0, 0, 0, 10], [0, 0, 0, 14], [...</td>\n",
       "      <td>{'kernel': 'rbf', 'gamma': 'scale', 'degree': ...</td>\n",
       "      <td>0.684848</td>\n",
       "      <td>0.045353</td>\n",
       "    </tr>\n",
       "    <tr>\n",
       "      <th>37</th>\n",
       "      <td>37</td>\n",
       "      <td>0.731707</td>\n",
       "      <td>0.681250</td>\n",
       "      <td>[[5, 0, 0, 0], [0, 4, 0, 6], [1, 0, 5, 8], [2,...</td>\n",
       "      <td>{'kernel': 'poly', 'gamma': 'auto', 'degree': ...</td>\n",
       "      <td>0.703030</td>\n",
       "      <td>0.052135</td>\n",
       "    </tr>\n",
       "    <tr>\n",
       "      <th>38</th>\n",
       "      <td>38</td>\n",
       "      <td>0.756098</td>\n",
       "      <td>0.762500</td>\n",
       "      <td>[[4, 0, 0, 1], [0, 2, 0, 8], [1, 0, 5, 8], [0,...</td>\n",
       "      <td>{'kernel': 'poly', 'gamma': 'auto', 'degree': ...</td>\n",
       "      <td>0.715152</td>\n",
       "      <td>0.052835</td>\n",
       "    </tr>\n",
       "    <tr>\n",
       "      <th>39</th>\n",
       "      <td>39</td>\n",
       "      <td>0.768293</td>\n",
       "      <td>0.766712</td>\n",
       "      <td>[[5, 0, 0, 0], [0, 3, 0, 7], [1, 0, 5, 8], [1,...</td>\n",
       "      <td>{'kernel': 'poly', 'gamma': 'scale', 'degree':...</td>\n",
       "      <td>0.678788</td>\n",
       "      <td>0.024242</td>\n",
       "    </tr>\n",
       "    <tr>\n",
       "      <th>40</th>\n",
       "      <td>40</td>\n",
       "      <td>0.743902</td>\n",
       "      <td>0.791636</td>\n",
       "      <td>[[5, 0, 0, 0], [0, 1, 0, 9], [1, 0, 6, 7], [3,...</td>\n",
       "      <td>{'kernel': 'poly', 'gamma': 'auto', 'degree': ...</td>\n",
       "      <td>0.733333</td>\n",
       "      <td>0.079945</td>\n",
       "    </tr>\n",
       "    <tr>\n",
       "      <th>41</th>\n",
       "      <td>41</td>\n",
       "      <td>0.731707</td>\n",
       "      <td>0.672140</td>\n",
       "      <td>[[5, 0, 0, 0], [0, 4, 0, 6], [1, 0, 6, 7], [3,...</td>\n",
       "      <td>{'kernel': 'poly', 'gamma': 'scale', 'degree':...</td>\n",
       "      <td>0.709091</td>\n",
       "      <td>0.049237</td>\n",
       "    </tr>\n",
       "    <tr>\n",
       "      <th>42</th>\n",
       "      <td>42</td>\n",
       "      <td>0.731707</td>\n",
       "      <td>0.669345</td>\n",
       "      <td>[[5, 0, 0, 0], [0, 4, 0, 6], [1, 0, 5, 8], [2,...</td>\n",
       "      <td>{'kernel': 'poly', 'gamma': 'scale', 'degree':...</td>\n",
       "      <td>0.703030</td>\n",
       "      <td>0.048485</td>\n",
       "    </tr>\n",
       "    <tr>\n",
       "      <th>43</th>\n",
       "      <td>43</td>\n",
       "      <td>0.743902</td>\n",
       "      <td>0.571687</td>\n",
       "      <td>[[5, 0, 0, 0], [0, 0, 0, 10], [1, 0, 5, 8], [0...</td>\n",
       "      <td>{'kernel': 'poly', 'gamma': 'scale', 'degree':...</td>\n",
       "      <td>0.678788</td>\n",
       "      <td>0.062398</td>\n",
       "    </tr>\n",
       "    <tr>\n",
       "      <th>44</th>\n",
       "      <td>44</td>\n",
       "      <td>0.743902</td>\n",
       "      <td>0.681522</td>\n",
       "      <td>[[5, 0, 0, 0], [0, 4, 0, 6], [1, 0, 6, 7], [2,...</td>\n",
       "      <td>{'kernel': 'poly', 'gamma': 'scale', 'degree':...</td>\n",
       "      <td>0.721212</td>\n",
       "      <td>0.058760</td>\n",
       "    </tr>\n",
       "    <tr>\n",
       "      <th>45</th>\n",
       "      <td>45</td>\n",
       "      <td>0.756098</td>\n",
       "      <td>0.837500</td>\n",
       "      <td>[[3, 0, 0, 2], [0, 1, 0, 9], [1, 0, 6, 7], [0,...</td>\n",
       "      <td>{'kernel': 'poly', 'gamma': 'scale', 'degree':...</td>\n",
       "      <td>0.684848</td>\n",
       "      <td>0.014845</td>\n",
       "    </tr>\n",
       "    <tr>\n",
       "      <th>46</th>\n",
       "      <td>46</td>\n",
       "      <td>0.743902</td>\n",
       "      <td>0.571687</td>\n",
       "      <td>[[5, 0, 0, 0], [0, 0, 0, 10], [1, 0, 5, 8], [0...</td>\n",
       "      <td>{'kernel': 'poly', 'gamma': 'auto', 'degree': ...</td>\n",
       "      <td>0.721212</td>\n",
       "      <td>0.079945</td>\n",
       "    </tr>\n",
       "    <tr>\n",
       "      <th>47</th>\n",
       "      <td>47</td>\n",
       "      <td>0.756098</td>\n",
       "      <td>0.805465</td>\n",
       "      <td>[[5, 0, 0, 0], [0, 1, 0, 9], [1, 0, 6, 7], [1,...</td>\n",
       "      <td>{'kernel': 'poly', 'gamma': 'scale', 'degree':...</td>\n",
       "      <td>0.684848</td>\n",
       "      <td>0.059382</td>\n",
       "    </tr>\n",
       "    <tr>\n",
       "      <th>48</th>\n",
       "      <td>48</td>\n",
       "      <td>0.743902</td>\n",
       "      <td>0.782212</td>\n",
       "      <td>[[5, 0, 0, 0], [0, 1, 0, 9], [1, 0, 6, 7], [2,...</td>\n",
       "      <td>{'kernel': 'poly', 'gamma': 'scale', 'degree':...</td>\n",
       "      <td>0.696970</td>\n",
       "      <td>0.038331</td>\n",
       "    </tr>\n",
       "    <tr>\n",
       "      <th>49</th>\n",
       "      <td>49</td>\n",
       "      <td>0.768293</td>\n",
       "      <td>0.721721</td>\n",
       "      <td>[[5, 0, 0, 0], [0, 3, 0, 7], [1, 0, 7, 6], [2,...</td>\n",
       "      <td>{'kernel': 'poly', 'gamma': 'scale', 'degree':...</td>\n",
       "      <td>0.709091</td>\n",
       "      <td>0.073231</td>\n",
       "    </tr>\n",
       "  </tbody>\n",
       "</table>\n",
       "</div>"
      ],
      "text/plain": [
       "    trial  accuracy  macro_accuracy  \\\n",
       "0       0  0.743902        0.690947   \n",
       "1       1  0.756098        0.805465   \n",
       "2       2  0.731707        0.805556   \n",
       "3       3  0.768293        0.752480   \n",
       "4       4  0.756098        0.716667   \n",
       "5       5  0.646341        0.161585   \n",
       "6       6  0.743902        0.782212   \n",
       "7       7  0.768293        0.733924   \n",
       "8       8  0.743902        0.700063   \n",
       "9       9  0.756098        0.728311   \n",
       "10     10  0.719512        0.761416   \n",
       "11     11  0.780488        0.775670   \n",
       "12     12  0.743902        0.700063   \n",
       "13     13  0.780488        0.775670   \n",
       "14     14  0.768293        0.852692   \n",
       "15     15  0.646341        0.161585   \n",
       "16     16  0.756098        0.583333   \n",
       "17     17  0.743902        0.571687   \n",
       "18     18  0.743902        0.690947   \n",
       "19     19  0.768293        0.766712   \n",
       "20     20  0.743902        0.700063   \n",
       "21     21  0.756098        0.762500   \n",
       "22     22  0.731707        0.560714   \n",
       "23     23  0.743902        0.791636   \n",
       "24     24  0.646341        0.161585   \n",
       "25     25  0.743902        0.700063   \n",
       "26     26  0.756098        0.716667   \n",
       "27     27  0.646341        0.161585   \n",
       "28     28  0.731707        0.669345   \n",
       "29     29  0.756098        0.716667   \n",
       "30     30  0.731707        0.669345   \n",
       "31     31  0.646341        0.161585   \n",
       "32     32  0.768293        0.836132   \n",
       "33     33  0.743902        0.791636   \n",
       "34     34  0.731707        0.681746   \n",
       "35     35  0.743902        0.700063   \n",
       "36     36  0.646341        0.161585   \n",
       "37     37  0.731707        0.681250   \n",
       "38     38  0.756098        0.762500   \n",
       "39     39  0.768293        0.766712   \n",
       "40     40  0.743902        0.791636   \n",
       "41     41  0.731707        0.672140   \n",
       "42     42  0.731707        0.669345   \n",
       "43     43  0.743902        0.571687   \n",
       "44     44  0.743902        0.681522   \n",
       "45     45  0.756098        0.837500   \n",
       "46     46  0.743902        0.571687   \n",
       "47     47  0.756098        0.805465   \n",
       "48     48  0.743902        0.782212   \n",
       "49     49  0.768293        0.721721   \n",
       "\n",
       "                                     confusion_matrix  \\\n",
       "0   [[5, 0, 0, 0], [0, 4, 0, 6], [1, 0, 6, 7], [3,...   \n",
       "1   [[5, 0, 0, 0], [0, 1, 0, 9], [1, 0, 6, 7], [1,...   \n",
       "2   [[2, 0, 0, 3], [0, 1, 0, 9], [1, 0, 5, 8], [0,...   \n",
       "3   [[5, 0, 0, 0], [0, 3, 0, 7], [1, 0, 6, 7], [2,...   \n",
       "4   [[5, 0, 0, 0], [0, 5, 0, 5], [1, 0, 5, 8], [2,...   \n",
       "5   [[0, 0, 0, 5], [0, 0, 0, 10], [0, 0, 0, 14], [...   \n",
       "6   [[5, 0, 0, 0], [0, 1, 0, 9], [1, 0, 6, 7], [2,...   \n",
       "7   [[5, 0, 0, 0], [0, 4, 0, 6], [1, 0, 6, 7], [2,...   \n",
       "8   [[5, 0, 0, 0], [0, 4, 0, 6], [1, 0, 5, 8], [2,...   \n",
       "9   [[5, 0, 0, 0], [0, 3, 0, 7], [1, 0, 5, 8], [1,...   \n",
       "10  [[1, 0, 0, 4], [0, 1, 0, 9], [1, 0, 5, 8], [0,...   \n",
       "11  [[5, 0, 0, 0], [0, 3, 0, 7], [1, 0, 6, 7], [1,...   \n",
       "12  [[5, 0, 0, 0], [0, 4, 0, 6], [1, 0, 5, 8], [2,...   \n",
       "13  [[5, 0, 0, 0], [0, 3, 0, 7], [1, 0, 6, 7], [1,...   \n",
       "14  [[4, 0, 0, 1], [0, 1, 0, 9], [1, 0, 6, 7], [0,...   \n",
       "15  [[0, 0, 0, 5], [0, 0, 0, 10], [0, 0, 0, 14], [...   \n",
       "16  [[5, 0, 0, 0], [0, 0, 0, 10], [1, 0, 6, 7], [0...   \n",
       "17  [[5, 0, 0, 0], [0, 0, 0, 10], [1, 0, 5, 8], [0...   \n",
       "18  [[5, 0, 0, 0], [0, 4, 0, 6], [1, 0, 6, 7], [3,...   \n",
       "19  [[5, 0, 0, 0], [0, 3, 0, 7], [1, 0, 5, 8], [1,...   \n",
       "20  [[5, 0, 0, 0], [0, 4, 0, 6], [1, 0, 5, 8], [2,...   \n",
       "21  [[4, 0, 0, 1], [0, 2, 0, 8], [1, 0, 5, 8], [0,...   \n",
       "22  [[4, 0, 0, 1], [0, 0, 0, 10], [1, 0, 5, 8], [0...   \n",
       "23  [[5, 0, 0, 0], [0, 1, 0, 9], [1, 0, 6, 7], [3,...   \n",
       "24  [[0, 0, 0, 5], [0, 0, 0, 10], [0, 0, 0, 14], [...   \n",
       "25  [[5, 0, 0, 0], [0, 4, 0, 6], [1, 0, 5, 8], [2,...   \n",
       "26  [[5, 0, 0, 0], [0, 5, 0, 5], [1, 0, 5, 8], [2,...   \n",
       "27  [[0, 0, 0, 5], [0, 0, 0, 10], [0, 0, 0, 14], [...   \n",
       "28  [[5, 0, 0, 0], [0, 4, 0, 6], [1, 0, 5, 8], [2,...   \n",
       "29  [[5, 0, 0, 0], [0, 5, 0, 5], [1, 0, 5, 8], [2,...   \n",
       "30  [[5, 0, 0, 0], [0, 4, 0, 6], [1, 0, 5, 8], [2,...   \n",
       "31  [[0, 0, 0, 5], [0, 0, 0, 10], [0, 0, 0, 14], [...   \n",
       "32  [[5, 0, 0, 0], [0, 1, 0, 9], [1, 0, 6, 7], [0,...   \n",
       "33  [[5, 0, 0, 0], [0, 1, 0, 9], [1, 0, 6, 7], [3,...   \n",
       "34  [[5, 0, 0, 0], [0, 4, 0, 6], [1, 0, 5, 8], [3,...   \n",
       "35  [[5, 0, 0, 0], [0, 4, 0, 6], [1, 0, 5, 8], [2,...   \n",
       "36  [[0, 0, 0, 5], [0, 0, 0, 10], [0, 0, 0, 14], [...   \n",
       "37  [[5, 0, 0, 0], [0, 4, 0, 6], [1, 0, 5, 8], [2,...   \n",
       "38  [[4, 0, 0, 1], [0, 2, 0, 8], [1, 0, 5, 8], [0,...   \n",
       "39  [[5, 0, 0, 0], [0, 3, 0, 7], [1, 0, 5, 8], [1,...   \n",
       "40  [[5, 0, 0, 0], [0, 1, 0, 9], [1, 0, 6, 7], [3,...   \n",
       "41  [[5, 0, 0, 0], [0, 4, 0, 6], [1, 0, 6, 7], [3,...   \n",
       "42  [[5, 0, 0, 0], [0, 4, 0, 6], [1, 0, 5, 8], [2,...   \n",
       "43  [[5, 0, 0, 0], [0, 0, 0, 10], [1, 0, 5, 8], [0...   \n",
       "44  [[5, 0, 0, 0], [0, 4, 0, 6], [1, 0, 6, 7], [2,...   \n",
       "45  [[3, 0, 0, 2], [0, 1, 0, 9], [1, 0, 6, 7], [0,...   \n",
       "46  [[5, 0, 0, 0], [0, 0, 0, 10], [1, 0, 5, 8], [0...   \n",
       "47  [[5, 0, 0, 0], [0, 1, 0, 9], [1, 0, 6, 7], [1,...   \n",
       "48  [[5, 0, 0, 0], [0, 1, 0, 9], [1, 0, 6, 7], [2,...   \n",
       "49  [[5, 0, 0, 0], [0, 3, 0, 7], [1, 0, 7, 6], [2,...   \n",
       "\n",
       "                                               params    cv_acc    cv_std  \n",
       "0   {'kernel': 'poly', 'gamma': 'scale', 'degree':...  0.684848  0.024242  \n",
       "1   {'kernel': 'poly', 'gamma': 'auto', 'degree': ...  0.672727  0.040202  \n",
       "2   {'kernel': 'poly', 'gamma': 'auto', 'degree': ...  0.709091  0.049237  \n",
       "3   {'kernel': 'poly', 'gamma': 'auto', 'degree': ...  0.696970  0.066391  \n",
       "4   {'kernel': 'poly', 'gamma': 'auto', 'degree': ...  0.721212  0.052135  \n",
       "5   {'kernel': 'sigmoid', 'gamma': 'auto', 'degree...  0.703030  0.029691  \n",
       "6   {'kernel': 'poly', 'gamma': 'scale', 'degree':...  0.678788  0.024242  \n",
       "7   {'kernel': 'poly', 'gamma': 'scale', 'degree':...  0.703030  0.061806  \n",
       "8   {'kernel': 'poly', 'gamma': 'scale', 'degree':...  0.672727  0.035339  \n",
       "9   {'kernel': 'poly', 'gamma': 'scale', 'degree':...  0.690909  0.052135  \n",
       "10  {'kernel': 'poly', 'gamma': 'auto', 'degree': ...  0.696970  0.050707  \n",
       "11  {'kernel': 'poly', 'gamma': 'auto', 'degree': ...  0.709091  0.059382  \n",
       "12  {'kernel': 'poly', 'gamma': 'scale', 'degree':...  0.709091  0.059382  \n",
       "13  {'kernel': 'poly', 'gamma': 'scale', 'degree':...  0.727273  0.083540  \n",
       "14  {'kernel': 'poly', 'gamma': 'auto', 'degree': ...  0.709091  0.014845  \n",
       "15  {'kernel': 'rbf', 'gamma': 'scale', 'degree': ...  0.715152  0.059382  \n",
       "16  {'kernel': 'poly', 'gamma': 'scale', 'degree':...  0.709091  0.056204  \n",
       "17  {'kernel': 'poly', 'gamma': 'auto', 'degree': ...  0.709091  0.086986  \n",
       "18  {'kernel': 'poly', 'gamma': 'auto', 'degree': ...  0.684848  0.059382  \n",
       "19  {'kernel': 'poly', 'gamma': 'scale', 'degree':...  0.666667  0.054208  \n",
       "20  {'kernel': 'poly', 'gamma': 'auto', 'degree': ...  0.757576  0.063564  \n",
       "21  {'kernel': 'poly', 'gamma': 'auto', 'degree': ...  0.684848  0.049237  \n",
       "22  {'kernel': 'poly', 'gamma': 'auto', 'degree': ...  0.703030  0.075210  \n",
       "23  {'kernel': 'poly', 'gamma': 'scale', 'degree':...  0.715152  0.059382  \n",
       "24  {'kernel': 'rbf', 'gamma': 'scale', 'degree': ...  0.696970  0.050707  \n",
       "25  {'kernel': 'poly', 'gamma': 'scale', 'degree':...  0.703030  0.022677  \n",
       "26  {'kernel': 'poly', 'gamma': 'auto', 'degree': ...  0.690909  0.058760  \n",
       "27  {'kernel': 'sigmoid', 'gamma': 'scale', 'degre...  0.696970  0.057496  \n",
       "28  {'kernel': 'poly', 'gamma': 'scale', 'degree':...  0.678788  0.041105  \n",
       "29  {'kernel': 'poly', 'gamma': 'scale', 'degree':...  0.703030  0.061806  \n",
       "30  {'kernel': 'poly', 'gamma': 'scale', 'degree':...  0.727273  0.033195  \n",
       "31  {'kernel': 'rbf', 'gamma': 'auto', 'degree': 3...  0.690909  0.029691  \n",
       "32  {'kernel': 'poly', 'gamma': 'scale', 'degree':...  0.715152  0.070678  \n",
       "33  {'kernel': 'poly', 'gamma': 'scale', 'degree':...  0.666667  0.027104  \n",
       "34  {'kernel': 'poly', 'gamma': 'auto', 'degree': ...  0.703030  0.040202  \n",
       "35  {'kernel': 'poly', 'gamma': 'auto', 'degree': ...  0.696970  0.060606  \n",
       "36  {'kernel': 'rbf', 'gamma': 'scale', 'degree': ...  0.684848  0.045353  \n",
       "37  {'kernel': 'poly', 'gamma': 'auto', 'degree': ...  0.703030  0.052135  \n",
       "38  {'kernel': 'poly', 'gamma': 'auto', 'degree': ...  0.715152  0.052835  \n",
       "39  {'kernel': 'poly', 'gamma': 'scale', 'degree':...  0.678788  0.024242  \n",
       "40  {'kernel': 'poly', 'gamma': 'auto', 'degree': ...  0.733333  0.079945  \n",
       "41  {'kernel': 'poly', 'gamma': 'scale', 'degree':...  0.709091  0.049237  \n",
       "42  {'kernel': 'poly', 'gamma': 'scale', 'degree':...  0.703030  0.048485  \n",
       "43  {'kernel': 'poly', 'gamma': 'scale', 'degree':...  0.678788  0.062398  \n",
       "44  {'kernel': 'poly', 'gamma': 'scale', 'degree':...  0.721212  0.058760  \n",
       "45  {'kernel': 'poly', 'gamma': 'scale', 'degree':...  0.684848  0.014845  \n",
       "46  {'kernel': 'poly', 'gamma': 'auto', 'degree': ...  0.721212  0.079945  \n",
       "47  {'kernel': 'poly', 'gamma': 'scale', 'degree':...  0.684848  0.059382  \n",
       "48  {'kernel': 'poly', 'gamma': 'scale', 'degree':...  0.696970  0.038331  \n",
       "49  {'kernel': 'poly', 'gamma': 'scale', 'degree':...  0.709091  0.073231  "
      ]
     },
     "execution_count": 54,
     "metadata": {},
     "output_type": "execute_result"
    }
   ],
   "source": [
    "svm_df"
   ]
  },
  {
   "cell_type": "code",
   "execution_count": 55,
   "metadata": {},
   "outputs": [
    {
     "data": {
      "application/vnd.plotly.v1+json": {
       "config": {
        "plotlyServerURL": "https://plot.ly"
       },
       "data": [
        {
         "hovertemplate": "variable=accuracy<br>trial=%{x}<br>value=%{y}<extra></extra>",
         "legendgroup": "accuracy",
         "line": {
          "color": "#636efa",
          "dash": "solid"
         },
         "mode": "lines",
         "name": "accuracy",
         "orientation": "v",
         "showlegend": true,
         "type": "scatter",
         "x": [
          0,
          1,
          2,
          3,
          4,
          5,
          6,
          7,
          8,
          9,
          10,
          11,
          12,
          13,
          14,
          15,
          16,
          17,
          18,
          19,
          20,
          21,
          22,
          23,
          24,
          25,
          26,
          27,
          28,
          29,
          30,
          31,
          32,
          33,
          34,
          35,
          36,
          37,
          38,
          39,
          40,
          41,
          42,
          43,
          44,
          45,
          46,
          47,
          48,
          49
         ],
         "xaxis": "x",
         "y": [
          0.7439024390243902,
          0.7560975609756098,
          0.7317073170731707,
          0.7682926829268293,
          0.7560975609756098,
          0.6463414634146342,
          0.7439024390243902,
          0.7682926829268293,
          0.7439024390243902,
          0.7560975609756098,
          0.7195121951219512,
          0.7804878048780488,
          0.7439024390243902,
          0.7804878048780488,
          0.7682926829268293,
          0.6463414634146342,
          0.7560975609756098,
          0.7439024390243902,
          0.7439024390243902,
          0.7682926829268293,
          0.7439024390243902,
          0.7560975609756098,
          0.7317073170731707,
          0.7439024390243902,
          0.6463414634146342,
          0.7439024390243902,
          0.7560975609756098,
          0.6463414634146342,
          0.7317073170731707,
          0.7560975609756098,
          0.7317073170731707,
          0.6463414634146342,
          0.7682926829268293,
          0.7439024390243902,
          0.7317073170731707,
          0.7439024390243902,
          0.6463414634146342,
          0.7317073170731707,
          0.7560975609756098,
          0.7682926829268293,
          0.7439024390243902,
          0.7317073170731707,
          0.7317073170731707,
          0.7439024390243902,
          0.7439024390243902,
          0.7560975609756098,
          0.7439024390243902,
          0.7560975609756098,
          0.7439024390243902,
          0.7682926829268293
         ],
         "yaxis": "y"
        },
        {
         "hovertemplate": "variable=macro_accuracy<br>trial=%{x}<br>value=%{y}<extra></extra>",
         "legendgroup": "macro_accuracy",
         "line": {
          "color": "#EF553B",
          "dash": "solid"
         },
         "mode": "lines",
         "name": "macro_accuracy",
         "orientation": "v",
         "showlegend": true,
         "type": "scatter",
         "x": [
          0,
          1,
          2,
          3,
          4,
          5,
          6,
          7,
          8,
          9,
          10,
          11,
          12,
          13,
          14,
          15,
          16,
          17,
          18,
          19,
          20,
          21,
          22,
          23,
          24,
          25,
          26,
          27,
          28,
          29,
          30,
          31,
          32,
          33,
          34,
          35,
          36,
          37,
          38,
          39,
          40,
          41,
          42,
          43,
          44,
          45,
          46,
          47,
          48,
          49
         ],
         "xaxis": "x",
         "y": [
          0.6909470002690342,
          0.805465367965368,
          0.8055555555555556,
          0.7524801587301587,
          0.7166666666666667,
          0.16158536585365854,
          0.7822115384615385,
          0.7339236924277908,
          0.7000634270101482,
          0.7283110119047619,
          0.7614155251141552,
          0.7756696428571429,
          0.7000634270101482,
          0.7756696428571429,
          0.8526915113871636,
          0.16158536585365854,
          0.5833333333333334,
          0.5716873706004141,
          0.6909470002690342,
          0.7667124542124543,
          0.7000634270101482,
          0.7625000000000001,
          0.5607142857142857,
          0.7916361416361416,
          0.16158536585365854,
          0.7000634270101482,
          0.7166666666666667,
          0.16158536585365854,
          0.669345238095238,
          0.7166666666666667,
          0.669345238095238,
          0.16158536585365854,
          0.8361318407960199,
          0.7916361416361416,
          0.6817460317460318,
          0.7000634270101482,
          0.16158536585365854,
          0.68125,
          0.7625000000000001,
          0.7667124542124543,
          0.7916361416361416,
          0.6721401204159825,
          0.669345238095238,
          0.5716873706004141,
          0.681522397094431,
          0.8375,
          0.5716873706004141,
          0.805465367965368,
          0.7822115384615385,
          0.7217213114754099
         ],
         "yaxis": "y"
        },
        {
         "hovertemplate": "variable=cv_acc<br>trial=%{x}<br>value=%{y}<extra></extra>",
         "legendgroup": "cv_acc",
         "line": {
          "color": "#00cc96",
          "dash": "solid"
         },
         "mode": "lines",
         "name": "cv_acc",
         "orientation": "v",
         "showlegend": true,
         "type": "scatter",
         "x": [
          0,
          1,
          2,
          3,
          4,
          5,
          6,
          7,
          8,
          9,
          10,
          11,
          12,
          13,
          14,
          15,
          16,
          17,
          18,
          19,
          20,
          21,
          22,
          23,
          24,
          25,
          26,
          27,
          28,
          29,
          30,
          31,
          32,
          33,
          34,
          35,
          36,
          37,
          38,
          39,
          40,
          41,
          42,
          43,
          44,
          45,
          46,
          47,
          48,
          49
         ],
         "xaxis": "x",
         "y": [
          0.6848484848484848,
          0.6727272727272726,
          0.7090909090909091,
          0.696969696969697,
          0.7212121212121212,
          0.7030303030303029,
          0.6787878787878787,
          0.703030303030303,
          0.6727272727272726,
          0.6909090909090908,
          0.696969696969697,
          0.7090909090909091,
          0.7090909090909091,
          0.7272727272727273,
          0.7090909090909092,
          0.7151515151515151,
          0.7090909090909092,
          0.709090909090909,
          0.6848484848484848,
          0.6666666666666666,
          0.7575757575757576,
          0.6848484848484848,
          0.703030303030303,
          0.7151515151515151,
          0.6969696969696969,
          0.7030303030303031,
          0.6909090909090909,
          0.6969696969696969,
          0.6787878787878788,
          0.7030303030303031,
          0.7272727272727273,
          0.6909090909090909,
          0.7151515151515151,
          0.6666666666666666,
          0.7030303030303031,
          0.6969696969696969,
          0.6848484848484848,
          0.703030303030303,
          0.7151515151515152,
          0.6787878787878787,
          0.7333333333333333,
          0.7090909090909091,
          0.703030303030303,
          0.6787878787878787,
          0.7212121212121213,
          0.6848484848484848,
          0.7212121212121212,
          0.6848484848484848,
          0.696969696969697,
          0.7090909090909091
         ],
         "yaxis": "y"
        }
       ],
       "layout": {
        "legend": {
         "title": {
          "text": "variable"
         },
         "tracegroupgap": 0
        },
        "margin": {
         "t": 60
        },
        "template": {
         "data": {
          "bar": [
           {
            "error_x": {
             "color": "#2a3f5f"
            },
            "error_y": {
             "color": "#2a3f5f"
            },
            "marker": {
             "line": {
              "color": "#E5ECF6",
              "width": 0.5
             }
            },
            "type": "bar"
           }
          ],
          "barpolar": [
           {
            "marker": {
             "line": {
              "color": "#E5ECF6",
              "width": 0.5
             }
            },
            "type": "barpolar"
           }
          ],
          "carpet": [
           {
            "aaxis": {
             "endlinecolor": "#2a3f5f",
             "gridcolor": "white",
             "linecolor": "white",
             "minorgridcolor": "white",
             "startlinecolor": "#2a3f5f"
            },
            "baxis": {
             "endlinecolor": "#2a3f5f",
             "gridcolor": "white",
             "linecolor": "white",
             "minorgridcolor": "white",
             "startlinecolor": "#2a3f5f"
            },
            "type": "carpet"
           }
          ],
          "choropleth": [
           {
            "colorbar": {
             "outlinewidth": 0,
             "ticks": ""
            },
            "type": "choropleth"
           }
          ],
          "contour": [
           {
            "colorbar": {
             "outlinewidth": 0,
             "ticks": ""
            },
            "colorscale": [
             [
              0,
              "#0d0887"
             ],
             [
              0.1111111111111111,
              "#46039f"
             ],
             [
              0.2222222222222222,
              "#7201a8"
             ],
             [
              0.3333333333333333,
              "#9c179e"
             ],
             [
              0.4444444444444444,
              "#bd3786"
             ],
             [
              0.5555555555555556,
              "#d8576b"
             ],
             [
              0.6666666666666666,
              "#ed7953"
             ],
             [
              0.7777777777777778,
              "#fb9f3a"
             ],
             [
              0.8888888888888888,
              "#fdca26"
             ],
             [
              1,
              "#f0f921"
             ]
            ],
            "type": "contour"
           }
          ],
          "contourcarpet": [
           {
            "colorbar": {
             "outlinewidth": 0,
             "ticks": ""
            },
            "type": "contourcarpet"
           }
          ],
          "heatmap": [
           {
            "colorbar": {
             "outlinewidth": 0,
             "ticks": ""
            },
            "colorscale": [
             [
              0,
              "#0d0887"
             ],
             [
              0.1111111111111111,
              "#46039f"
             ],
             [
              0.2222222222222222,
              "#7201a8"
             ],
             [
              0.3333333333333333,
              "#9c179e"
             ],
             [
              0.4444444444444444,
              "#bd3786"
             ],
             [
              0.5555555555555556,
              "#d8576b"
             ],
             [
              0.6666666666666666,
              "#ed7953"
             ],
             [
              0.7777777777777778,
              "#fb9f3a"
             ],
             [
              0.8888888888888888,
              "#fdca26"
             ],
             [
              1,
              "#f0f921"
             ]
            ],
            "type": "heatmap"
           }
          ],
          "heatmapgl": [
           {
            "colorbar": {
             "outlinewidth": 0,
             "ticks": ""
            },
            "colorscale": [
             [
              0,
              "#0d0887"
             ],
             [
              0.1111111111111111,
              "#46039f"
             ],
             [
              0.2222222222222222,
              "#7201a8"
             ],
             [
              0.3333333333333333,
              "#9c179e"
             ],
             [
              0.4444444444444444,
              "#bd3786"
             ],
             [
              0.5555555555555556,
              "#d8576b"
             ],
             [
              0.6666666666666666,
              "#ed7953"
             ],
             [
              0.7777777777777778,
              "#fb9f3a"
             ],
             [
              0.8888888888888888,
              "#fdca26"
             ],
             [
              1,
              "#f0f921"
             ]
            ],
            "type": "heatmapgl"
           }
          ],
          "histogram": [
           {
            "marker": {
             "colorbar": {
              "outlinewidth": 0,
              "ticks": ""
             }
            },
            "type": "histogram"
           }
          ],
          "histogram2d": [
           {
            "colorbar": {
             "outlinewidth": 0,
             "ticks": ""
            },
            "colorscale": [
             [
              0,
              "#0d0887"
             ],
             [
              0.1111111111111111,
              "#46039f"
             ],
             [
              0.2222222222222222,
              "#7201a8"
             ],
             [
              0.3333333333333333,
              "#9c179e"
             ],
             [
              0.4444444444444444,
              "#bd3786"
             ],
             [
              0.5555555555555556,
              "#d8576b"
             ],
             [
              0.6666666666666666,
              "#ed7953"
             ],
             [
              0.7777777777777778,
              "#fb9f3a"
             ],
             [
              0.8888888888888888,
              "#fdca26"
             ],
             [
              1,
              "#f0f921"
             ]
            ],
            "type": "histogram2d"
           }
          ],
          "histogram2dcontour": [
           {
            "colorbar": {
             "outlinewidth": 0,
             "ticks": ""
            },
            "colorscale": [
             [
              0,
              "#0d0887"
             ],
             [
              0.1111111111111111,
              "#46039f"
             ],
             [
              0.2222222222222222,
              "#7201a8"
             ],
             [
              0.3333333333333333,
              "#9c179e"
             ],
             [
              0.4444444444444444,
              "#bd3786"
             ],
             [
              0.5555555555555556,
              "#d8576b"
             ],
             [
              0.6666666666666666,
              "#ed7953"
             ],
             [
              0.7777777777777778,
              "#fb9f3a"
             ],
             [
              0.8888888888888888,
              "#fdca26"
             ],
             [
              1,
              "#f0f921"
             ]
            ],
            "type": "histogram2dcontour"
           }
          ],
          "mesh3d": [
           {
            "colorbar": {
             "outlinewidth": 0,
             "ticks": ""
            },
            "type": "mesh3d"
           }
          ],
          "parcoords": [
           {
            "line": {
             "colorbar": {
              "outlinewidth": 0,
              "ticks": ""
             }
            },
            "type": "parcoords"
           }
          ],
          "pie": [
           {
            "automargin": true,
            "type": "pie"
           }
          ],
          "scatter": [
           {
            "marker": {
             "colorbar": {
              "outlinewidth": 0,
              "ticks": ""
             }
            },
            "type": "scatter"
           }
          ],
          "scatter3d": [
           {
            "line": {
             "colorbar": {
              "outlinewidth": 0,
              "ticks": ""
             }
            },
            "marker": {
             "colorbar": {
              "outlinewidth": 0,
              "ticks": ""
             }
            },
            "type": "scatter3d"
           }
          ],
          "scattercarpet": [
           {
            "marker": {
             "colorbar": {
              "outlinewidth": 0,
              "ticks": ""
             }
            },
            "type": "scattercarpet"
           }
          ],
          "scattergeo": [
           {
            "marker": {
             "colorbar": {
              "outlinewidth": 0,
              "ticks": ""
             }
            },
            "type": "scattergeo"
           }
          ],
          "scattergl": [
           {
            "marker": {
             "colorbar": {
              "outlinewidth": 0,
              "ticks": ""
             }
            },
            "type": "scattergl"
           }
          ],
          "scattermapbox": [
           {
            "marker": {
             "colorbar": {
              "outlinewidth": 0,
              "ticks": ""
             }
            },
            "type": "scattermapbox"
           }
          ],
          "scatterpolar": [
           {
            "marker": {
             "colorbar": {
              "outlinewidth": 0,
              "ticks": ""
             }
            },
            "type": "scatterpolar"
           }
          ],
          "scatterpolargl": [
           {
            "marker": {
             "colorbar": {
              "outlinewidth": 0,
              "ticks": ""
             }
            },
            "type": "scatterpolargl"
           }
          ],
          "scatterternary": [
           {
            "marker": {
             "colorbar": {
              "outlinewidth": 0,
              "ticks": ""
             }
            },
            "type": "scatterternary"
           }
          ],
          "surface": [
           {
            "colorbar": {
             "outlinewidth": 0,
             "ticks": ""
            },
            "colorscale": [
             [
              0,
              "#0d0887"
             ],
             [
              0.1111111111111111,
              "#46039f"
             ],
             [
              0.2222222222222222,
              "#7201a8"
             ],
             [
              0.3333333333333333,
              "#9c179e"
             ],
             [
              0.4444444444444444,
              "#bd3786"
             ],
             [
              0.5555555555555556,
              "#d8576b"
             ],
             [
              0.6666666666666666,
              "#ed7953"
             ],
             [
              0.7777777777777778,
              "#fb9f3a"
             ],
             [
              0.8888888888888888,
              "#fdca26"
             ],
             [
              1,
              "#f0f921"
             ]
            ],
            "type": "surface"
           }
          ],
          "table": [
           {
            "cells": {
             "fill": {
              "color": "#EBF0F8"
             },
             "line": {
              "color": "white"
             }
            },
            "header": {
             "fill": {
              "color": "#C8D4E3"
             },
             "line": {
              "color": "white"
             }
            },
            "type": "table"
           }
          ]
         },
         "layout": {
          "annotationdefaults": {
           "arrowcolor": "#2a3f5f",
           "arrowhead": 0,
           "arrowwidth": 1
          },
          "autotypenumbers": "strict",
          "coloraxis": {
           "colorbar": {
            "outlinewidth": 0,
            "ticks": ""
           }
          },
          "colorscale": {
           "diverging": [
            [
             0,
             "#8e0152"
            ],
            [
             0.1,
             "#c51b7d"
            ],
            [
             0.2,
             "#de77ae"
            ],
            [
             0.3,
             "#f1b6da"
            ],
            [
             0.4,
             "#fde0ef"
            ],
            [
             0.5,
             "#f7f7f7"
            ],
            [
             0.6,
             "#e6f5d0"
            ],
            [
             0.7,
             "#b8e186"
            ],
            [
             0.8,
             "#7fbc41"
            ],
            [
             0.9,
             "#4d9221"
            ],
            [
             1,
             "#276419"
            ]
           ],
           "sequential": [
            [
             0,
             "#0d0887"
            ],
            [
             0.1111111111111111,
             "#46039f"
            ],
            [
             0.2222222222222222,
             "#7201a8"
            ],
            [
             0.3333333333333333,
             "#9c179e"
            ],
            [
             0.4444444444444444,
             "#bd3786"
            ],
            [
             0.5555555555555556,
             "#d8576b"
            ],
            [
             0.6666666666666666,
             "#ed7953"
            ],
            [
             0.7777777777777778,
             "#fb9f3a"
            ],
            [
             0.8888888888888888,
             "#fdca26"
            ],
            [
             1,
             "#f0f921"
            ]
           ],
           "sequentialminus": [
            [
             0,
             "#0d0887"
            ],
            [
             0.1111111111111111,
             "#46039f"
            ],
            [
             0.2222222222222222,
             "#7201a8"
            ],
            [
             0.3333333333333333,
             "#9c179e"
            ],
            [
             0.4444444444444444,
             "#bd3786"
            ],
            [
             0.5555555555555556,
             "#d8576b"
            ],
            [
             0.6666666666666666,
             "#ed7953"
            ],
            [
             0.7777777777777778,
             "#fb9f3a"
            ],
            [
             0.8888888888888888,
             "#fdca26"
            ],
            [
             1,
             "#f0f921"
            ]
           ]
          },
          "colorway": [
           "#636efa",
           "#EF553B",
           "#00cc96",
           "#ab63fa",
           "#FFA15A",
           "#19d3f3",
           "#FF6692",
           "#B6E880",
           "#FF97FF",
           "#FECB52"
          ],
          "font": {
           "color": "#2a3f5f"
          },
          "geo": {
           "bgcolor": "white",
           "lakecolor": "white",
           "landcolor": "#E5ECF6",
           "showlakes": true,
           "showland": true,
           "subunitcolor": "white"
          },
          "hoverlabel": {
           "align": "left"
          },
          "hovermode": "closest",
          "mapbox": {
           "style": "light"
          },
          "paper_bgcolor": "white",
          "plot_bgcolor": "#E5ECF6",
          "polar": {
           "angularaxis": {
            "gridcolor": "white",
            "linecolor": "white",
            "ticks": ""
           },
           "bgcolor": "#E5ECF6",
           "radialaxis": {
            "gridcolor": "white",
            "linecolor": "white",
            "ticks": ""
           }
          },
          "scene": {
           "xaxis": {
            "backgroundcolor": "#E5ECF6",
            "gridcolor": "white",
            "gridwidth": 2,
            "linecolor": "white",
            "showbackground": true,
            "ticks": "",
            "zerolinecolor": "white"
           },
           "yaxis": {
            "backgroundcolor": "#E5ECF6",
            "gridcolor": "white",
            "gridwidth": 2,
            "linecolor": "white",
            "showbackground": true,
            "ticks": "",
            "zerolinecolor": "white"
           },
           "zaxis": {
            "backgroundcolor": "#E5ECF6",
            "gridcolor": "white",
            "gridwidth": 2,
            "linecolor": "white",
            "showbackground": true,
            "ticks": "",
            "zerolinecolor": "white"
           }
          },
          "shapedefaults": {
           "line": {
            "color": "#2a3f5f"
           }
          },
          "ternary": {
           "aaxis": {
            "gridcolor": "white",
            "linecolor": "white",
            "ticks": ""
           },
           "baxis": {
            "gridcolor": "white",
            "linecolor": "white",
            "ticks": ""
           },
           "bgcolor": "#E5ECF6",
           "caxis": {
            "gridcolor": "white",
            "linecolor": "white",
            "ticks": ""
           }
          },
          "title": {
           "x": 0.05
          },
          "xaxis": {
           "automargin": true,
           "gridcolor": "white",
           "linecolor": "white",
           "ticks": "",
           "title": {
            "standoff": 15
           },
           "zerolinecolor": "white",
           "zerolinewidth": 2
          },
          "yaxis": {
           "automargin": true,
           "gridcolor": "white",
           "linecolor": "white",
           "ticks": "",
           "title": {
            "standoff": 15
           },
           "zerolinecolor": "white",
           "zerolinewidth": 2
          }
         }
        },
        "xaxis": {
         "anchor": "y",
         "domain": [
          0,
          1
         ],
         "title": {
          "text": "trial"
         }
        },
        "yaxis": {
         "anchor": "x",
         "domain": [
          0,
          1
         ],
         "title": {
          "text": "value"
         }
        }
       }
      }
     },
     "metadata": {},
     "output_type": "display_data"
    }
   ],
   "source": [
    "import plotly.express as px\n",
    "px.line(svm_df,x='trial',y=['accuracy','macro_accuracy','cv_acc'])"
   ]
  },
  {
   "cell_type": "code",
   "execution_count": 47,
   "metadata": {},
   "outputs": [
    {
     "data": {
      "text/plain": [
       "{'fit_time': array([0.2358551 , 0.19817901, 0.18565202, 0.17781711, 0.17850208]),\n",
       " 'score_time': array([0.00116277, 0.00046206, 0.00048494, 0.00041485, 0.00072408]),\n",
       " 'test_score': array([0.6969697 , 0.81818182, 0.81818182, 0.72727273, 0.63636364])}"
      ]
     },
     "execution_count": 47,
     "metadata": {},
     "output_type": "execute_result"
    }
   ],
   "source": [
    "scores"
   ]
  },
  {
   "cell_type": "code",
   "execution_count": 53,
   "metadata": {},
   "outputs": [
    {
     "name": "stdout",
     "output_type": "stream",
     "text": [
      "Accuracy: 0.75 (+/- 0.09)\n"
     ]
    }
   ],
   "source": [
    "scores = cross_validate(SVC(kernel='poly',gamma='scale',degree=3,decision_function_shape='ovr',coef0=0.7000000000000001,C=1.053475672085955,random_state=0), X_train, y_train, cv=5)\n",
    "print(\"Accuracy: %0.2f (+/- %0.2f)\" % (scores['test_score'].mean(), scores['test_score'].std() * 2))"
   ]
  },
  {
   "cell_type": "code",
   "execution_count": 32,
   "metadata": {},
   "outputs": [
    {
     "data": {
      "text/html": [
       "<div>\n",
       "<style scoped>\n",
       "    .dataframe tbody tr th:only-of-type {\n",
       "        vertical-align: middle;\n",
       "    }\n",
       "\n",
       "    .dataframe tbody tr th {\n",
       "        vertical-align: top;\n",
       "    }\n",
       "\n",
       "    .dataframe thead th {\n",
       "        text-align: right;\n",
       "    }\n",
       "</style>\n",
       "<table border=\"1\" class=\"dataframe\">\n",
       "  <thead>\n",
       "    <tr style=\"text-align: right;\">\n",
       "      <th></th>\n",
       "      <th>trial</th>\n",
       "      <th>accuracy</th>\n",
       "      <th>macro_accuracy</th>\n",
       "      <th>confusion_matrix</th>\n",
       "      <th>params</th>\n",
       "    </tr>\n",
       "  </thead>\n",
       "  <tbody>\n",
       "    <tr>\n",
       "      <th>37</th>\n",
       "      <td>37</td>\n",
       "      <td>0.865854</td>\n",
       "      <td>0.856631</td>\n",
       "      <td>[[5, 1, 0, 3], [0, 8, 0, 3], [0, 0, 4, 2], [0,...</td>\n",
       "      <td>{'kernel': 'poly', 'gamma': 'auto', 'degree': ...</td>\n",
       "    </tr>\n",
       "  </tbody>\n",
       "</table>\n",
       "</div>"
      ],
      "text/plain": [
       "    trial  accuracy  macro_accuracy  \\\n",
       "37     37  0.865854        0.856631   \n",
       "\n",
       "                                     confusion_matrix  \\\n",
       "37  [[5, 1, 0, 3], [0, 8, 0, 3], [0, 0, 4, 2], [0,...   \n",
       "\n",
       "                                               params  \n",
       "37  {'kernel': 'poly', 'gamma': 'auto', 'degree': ...  "
      ]
     },
     "execution_count": 32,
     "metadata": {},
     "output_type": "execute_result"
    }
   ],
   "source": [
    "svm_df[svm_df['macro_accuracy'] == svm_df['macro_accuracy'].max() ]"
   ]
  },
  {
   "cell_type": "code",
   "execution_count": 34,
   "metadata": {},
   "outputs": [
    {
     "name": "stdout",
     "output_type": "stream",
     "text": [
      "37\n",
      "0.8658536585365854\n",
      "0.8566308243727598\n",
      "[[ 5  1  0  3]\n",
      " [ 0  8  0  3]\n",
      " [ 0  0  4  2]\n",
      " [ 0  0  2 54]]\n",
      "{'kernel': 'poly', 'gamma': 'auto', 'degree': 4, 'decision_function_shape': 'ovr', 'coef0': 0.9, 'C': 1.051659640188661}\n"
     ]
    }
   ],
   "source": [
    "for val in svm_df.loc[37]:\n",
    "    print(val)"
   ]
  },
  {
   "cell_type": "code",
   "execution_count": 19,
   "metadata": {},
   "outputs": [
    {
     "data": {
      "text/plain": [
       "trial                                                              44\n",
       "accuracy                                                     0.792683\n",
       "macro_accuracy                                               0.768056\n",
       "confusion_matrix    [[2, 0, 0, 5], [0, 2, 0, 5], [1, 0, 3, 4], [0,...\n",
       "params              {'kernel': 'poly', 'gamma': 'scale', 'degree':...\n",
       "Name: 44, dtype: object"
      ]
     },
     "execution_count": 19,
     "metadata": {},
     "output_type": "execute_result"
    }
   ],
   "source": [
    "df.loc[44]"
   ]
  },
  {
   "cell_type": "code",
   "execution_count": 9,
   "metadata": {},
   "outputs": [
    {
     "data": {
      "text/plain": [
       "trial                                                               5\n",
       "accuracy                                                     0.780488\n",
       "macro_accuracy                                               0.728571\n",
       "confusion_matrix    [[3, 0, 0, 4], [1, 1, 0, 5], [1, 0, 3, 4], [0,...\n",
       "params              {'kernel': 'poly', 'gamma': 'scale', 'degree':...\n",
       "Name: 5, dtype: object"
      ]
     },
     "execution_count": 9,
     "metadata": {},
     "output_type": "execute_result"
    }
   ],
   "source": [
    "df.loc[5]"
   ]
  },
  {
   "cell_type": "markdown",
   "metadata": {},
   "source": [
    "Current best results:\n",
    "\n",
    "SVM:  \n",
    "accuracy                                                     0.780488  \n",
    "macro_accuracy                                               0.728571  \n",
    "{'kernel': 'poly',\n",
    " 'gamma': 'scale',\n",
    " 'degree': 3,\n",
    " 'decision_function_shape': 'ovr',\n",
    " 'coef0': 0.7000000000000001,\n",
    " 'C': 1.053475672085955}\n",
    "\n",
    "accuracy              0.792683  \n",
    "macro_accuracy        0.768056  \n",
    " {'kernel': 'poly',\n",
    " 'gamma': 'scale',\n",
    " 'degree': 7,\n",
    " 'decision_function_shape': 'ovr',\n",
    " 'coef0': 0.6000000000000001,\n",
    " 'C': 1.053646986645436}"
   ]
  },
  {
   "cell_type": "markdown",
   "metadata": {},
   "source": [
    "### Random Forest Tuning"
   ]
  },
  {
   "cell_type": "code",
   "execution_count": 21,
   "metadata": {},
   "outputs": [
    {
     "name": "stdout",
     "output_type": "stream",
     "text": [
      "Fitting 10 folds for each of 10 candidates, totalling 100 fits\n"
     ]
    },
    {
     "name": "stderr",
     "output_type": "stream",
     "text": [
      "/usr/local/lib/python3.9/site-packages/sklearn/model_selection/_search.py:922: UserWarning: One or more of the test scores are non-finite: [0.41617647        nan 0.67316176        nan 0.62389706 0.62463235\n",
      " 0.75735294 0.65992647 0.58823529 0.73308824]\n",
      "  warnings.warn(\n"
     ]
    },
    {
     "name": "stdout",
     "output_type": "stream",
     "text": [
      "Fitting 10 folds for each of 10 candidates, totalling 100 fits\n"
     ]
    },
    {
     "name": "stderr",
     "output_type": "stream",
     "text": [
      "/usr/local/lib/python3.9/site-packages/sklearn/model_selection/_search.py:922: UserWarning: One or more of the test scores are non-finite: [       nan        nan 0.67904412        nan        nan 0.71507353\n",
      " 0.69117647 0.72095588 0.61139706 0.73308824]\n",
      "  warnings.warn(\n"
     ]
    },
    {
     "name": "stdout",
     "output_type": "stream",
     "text": [
      "Fitting 10 folds for each of 10 candidates, totalling 100 fits\n"
     ]
    },
    {
     "name": "stderr",
     "output_type": "stream",
     "text": [
      "/usr/local/lib/python3.9/site-packages/sklearn/model_selection/_search.py:922: UserWarning: One or more of the test scores are non-finite: [0.73308824 0.73308824 0.39154412 0.62977941        nan 0.71507353\n",
      " 0.68492647 0.70367647        nan 0.65367647]\n",
      "  warnings.warn(\n"
     ]
    },
    {
     "name": "stdout",
     "output_type": "stream",
     "text": [
      "Fitting 10 folds for each of 10 candidates, totalling 100 fits\n"
     ]
    },
    {
     "name": "stderr",
     "output_type": "stream",
     "text": [
      "/usr/local/lib/python3.9/site-packages/sklearn/model_selection/_search.py:922: UserWarning: One or more of the test scores are non-finite: [0.70294118 0.76323529 0.74558824        nan        nan 0.69742647\n",
      "        nan        nan 0.64191176 0.58676471]\n",
      "  warnings.warn(\n"
     ]
    },
    {
     "name": "stdout",
     "output_type": "stream",
     "text": [
      "Fitting 10 folds for each of 10 candidates, totalling 100 fits\n"
     ]
    },
    {
     "name": "stderr",
     "output_type": "stream",
     "text": [
      "/usr/local/lib/python3.9/site-packages/sklearn/model_selection/_search.py:922: UserWarning: One or more of the test scores are non-finite: [       nan 0.73897059 0.29448529 0.73933824 0.57573529        nan\n",
      " 0.73970588 0.73933824        nan 0.73308824]\n",
      "  warnings.warn(\n"
     ]
    },
    {
     "name": "stdout",
     "output_type": "stream",
     "text": [
      "Fitting 10 folds for each of 10 candidates, totalling 100 fits\n"
     ]
    },
    {
     "name": "stderr",
     "output_type": "stream",
     "text": [
      "/usr/local/lib/python3.9/site-packages/sklearn/model_selection/_search.py:922: UserWarning: One or more of the test scores are non-finite: [       nan 0.62352941        nan        nan 0.62389706        nan\n",
      " 0.76985294        nan        nan 0.74558824]\n",
      "  warnings.warn(\n"
     ]
    },
    {
     "name": "stdout",
     "output_type": "stream",
     "text": [
      "Fitting 10 folds for each of 10 candidates, totalling 100 fits\n"
     ]
    },
    {
     "name": "stderr",
     "output_type": "stream",
     "text": [
      "/usr/local/lib/python3.9/site-packages/sklearn/model_selection/_search.py:922: UserWarning: One or more of the test scores are non-finite: [0.61727941 0.71507353 0.59963235 0.62977941 0.75772059 0.61764706\n",
      "        nan 0.66029412 0.75110294 0.64779412]\n",
      "  warnings.warn(\n"
     ]
    },
    {
     "name": "stdout",
     "output_type": "stream",
     "text": [
      "Fitting 10 folds for each of 10 candidates, totalling 100 fits\n"
     ]
    },
    {
     "name": "stderr",
     "output_type": "stream",
     "text": [
      "/usr/local/lib/python3.9/site-packages/sklearn/model_selection/_search.py:922: UserWarning: One or more of the test scores are non-finite: [0.72095588        nan        nan 0.67904412        nan        nan\n",
      " 0.74595588 0.73382353 0.75147059 0.76948529]\n",
      "  warnings.warn(\n"
     ]
    },
    {
     "name": "stdout",
     "output_type": "stream",
     "text": [
      "Fitting 10 folds for each of 10 candidates, totalling 100 fits\n"
     ]
    },
    {
     "name": "stderr",
     "output_type": "stream",
     "text": [
      "/usr/local/lib/python3.9/site-packages/sklearn/model_selection/_search.py:922: UserWarning: One or more of the test scores are non-finite: [0.73897059 0.57536765 0.73308824 0.73933824 0.72095588 0.73308824\n",
      " 0.62941176        nan 0.74522059 0.73308824]\n",
      "  warnings.warn(\n"
     ]
    },
    {
     "name": "stdout",
     "output_type": "stream",
     "text": [
      "Fitting 10 folds for each of 10 candidates, totalling 100 fits\n"
     ]
    },
    {
     "name": "stderr",
     "output_type": "stream",
     "text": [
      "/usr/local/lib/python3.9/site-packages/sklearn/model_selection/_search.py:922: UserWarning: One or more of the test scores are non-finite: [       nan 0.25992647        nan        nan 0.58786765        nan\n",
      "        nan        nan 0.6125            nan]\n",
      "  warnings.warn(\n"
     ]
    },
    {
     "name": "stdout",
     "output_type": "stream",
     "text": [
      "Fitting 10 folds for each of 10 candidates, totalling 100 fits\n"
     ]
    },
    {
     "name": "stderr",
     "output_type": "stream",
     "text": [
      "/usr/local/lib/python3.9/site-packages/sklearn/model_selection/_search.py:922: UserWarning: One or more of the test scores are non-finite: [0.56911765        nan        nan 0.64779412        nan        nan\n",
      "        nan 0.65404412        nan 0.67279412]\n",
      "  warnings.warn(\n"
     ]
    },
    {
     "name": "stdout",
     "output_type": "stream",
     "text": [
      "Fitting 10 folds for each of 10 candidates, totalling 100 fits\n"
     ]
    },
    {
     "name": "stderr",
     "output_type": "stream",
     "text": [
      "/usr/local/lib/python3.9/site-packages/sklearn/model_selection/_search.py:922: UserWarning: One or more of the test scores are non-finite: [0.69705882        nan        nan        nan 0.70955882        nan\n",
      " 0.64080882        nan 0.73308824 0.72610294]\n",
      "  warnings.warn(\n"
     ]
    },
    {
     "name": "stdout",
     "output_type": "stream",
     "text": [
      "Fitting 10 folds for each of 10 candidates, totalling 100 fits\n"
     ]
    },
    {
     "name": "stderr",
     "output_type": "stream",
     "text": [
      "/usr/local/lib/python3.9/site-packages/sklearn/model_selection/_search.py:922: UserWarning: One or more of the test scores are non-finite: [0.72132353 0.78198529        nan        nan 0.72095588 0.74522059\n",
      " 0.66617647        nan 0.72720588        nan]\n",
      "  warnings.warn(\n"
     ]
    },
    {
     "name": "stdout",
     "output_type": "stream",
     "text": [
      "Fitting 10 folds for each of 10 candidates, totalling 100 fits\n"
     ]
    },
    {
     "name": "stderr",
     "output_type": "stream",
     "text": [
      "/usr/local/lib/python3.9/site-packages/sklearn/model_selection/_search.py:922: UserWarning: One or more of the test scores are non-finite: [0.73382353        nan 0.72058824        nan        nan 0.74522059\n",
      " 0.24816176 0.66029412        nan 0.64816176]\n",
      "  warnings.warn(\n"
     ]
    },
    {
     "name": "stdout",
     "output_type": "stream",
     "text": [
      "Fitting 10 folds for each of 10 candidates, totalling 100 fits\n"
     ]
    },
    {
     "name": "stderr",
     "output_type": "stream",
     "text": [
      "/usr/local/lib/python3.9/site-packages/sklearn/model_selection/_search.py:922: UserWarning: One or more of the test scores are non-finite: [       nan 0.71507353 0.69742647 0.72720588 0.61727941        nan\n",
      " 0.67242647 0.76323529 0.60036765 0.48345588]\n",
      "  warnings.warn(\n"
     ]
    },
    {
     "name": "stdout",
     "output_type": "stream",
     "text": [
      "Fitting 10 folds for each of 10 candidates, totalling 100 fits\n"
     ]
    },
    {
     "name": "stderr",
     "output_type": "stream",
     "text": [
      "/usr/local/lib/python3.9/site-packages/sklearn/model_selection/_search.py:922: UserWarning: One or more of the test scores are non-finite: [       nan        nan        nan 0.69080882 0.67904412 0.75698529\n",
      "        nan        nan 0.64191176 0.72132353]\n",
      "  warnings.warn(\n"
     ]
    },
    {
     "name": "stdout",
     "output_type": "stream",
     "text": [
      "Fitting 10 folds for each of 10 candidates, totalling 100 fits\n"
     ]
    },
    {
     "name": "stderr",
     "output_type": "stream",
     "text": [
      "/usr/local/lib/python3.9/site-packages/sklearn/model_selection/_search.py:922: UserWarning: One or more of the test scores are non-finite: [       nan 0.73933824        nan 0.52095588 0.73345588        nan\n",
      "        nan 0.64191176 0.61102941        nan]\n",
      "  warnings.warn(\n"
     ]
    },
    {
     "name": "stdout",
     "output_type": "stream",
     "text": [
      "Fitting 10 folds for each of 10 candidates, totalling 100 fits\n"
     ]
    },
    {
     "name": "stderr",
     "output_type": "stream",
     "text": [
      "/usr/local/lib/python3.9/site-packages/sklearn/model_selection/_search.py:922: UserWarning: One or more of the test scores are non-finite: [0.70919118 0.61727941        nan        nan        nan        nan\n",
      " 0.73897059 0.76360294 0.75110294 0.72757353]\n",
      "  warnings.warn(\n"
     ]
    },
    {
     "name": "stdout",
     "output_type": "stream",
     "text": [
      "Fitting 10 folds for each of 10 candidates, totalling 100 fits\n"
     ]
    },
    {
     "name": "stderr",
     "output_type": "stream",
     "text": [
      "/usr/local/lib/python3.9/site-packages/sklearn/model_selection/_search.py:922: UserWarning: One or more of the test scores are non-finite: [       nan        nan 0.69632353        nan        nan        nan\n",
      "        nan 0.69117647        nan 0.62977941]\n",
      "  warnings.warn(\n"
     ]
    },
    {
     "name": "stdout",
     "output_type": "stream",
     "text": [
      "Fitting 10 folds for each of 10 candidates, totalling 100 fits\n"
     ]
    },
    {
     "name": "stderr",
     "output_type": "stream",
     "text": [
      "/usr/local/lib/python3.9/site-packages/sklearn/model_selection/_search.py:922: UserWarning: One or more of the test scores are non-finite: [       nan 0.76948529 0.50882353 0.70257353 0.66066176 0.63014706\n",
      " 0.68455882 0.73897059 0.66727941        nan]\n",
      "  warnings.warn(\n"
     ]
    },
    {
     "name": "stdout",
     "output_type": "stream",
     "text": [
      "Fitting 10 folds for each of 10 candidates, totalling 100 fits\n"
     ]
    },
    {
     "name": "stderr",
     "output_type": "stream",
     "text": [
      "/usr/local/lib/python3.9/site-packages/sklearn/model_selection/_search.py:922: UserWarning: One or more of the test scores are non-finite: [0.74522059        nan 0.73272059        nan        nan 0.69705882\n",
      " 0.62977941        nan 0.73933824 0.76360294]\n",
      "  warnings.warn(\n"
     ]
    },
    {
     "name": "stdout",
     "output_type": "stream",
     "text": [
      "Fitting 10 folds for each of 10 candidates, totalling 100 fits\n"
     ]
    },
    {
     "name": "stderr",
     "output_type": "stream",
     "text": [
      "/usr/local/lib/python3.9/site-packages/sklearn/model_selection/_search.py:922: UserWarning: One or more of the test scores are non-finite: [       nan        nan        nan 0.72720588        nan        nan\n",
      "        nan 0.61838235 0.60036765        nan]\n",
      "  warnings.warn(\n"
     ]
    },
    {
     "name": "stdout",
     "output_type": "stream",
     "text": [
      "Fitting 10 folds for each of 10 candidates, totalling 100 fits\n"
     ]
    },
    {
     "name": "stderr",
     "output_type": "stream",
     "text": [
      "/usr/local/lib/python3.9/site-packages/sklearn/model_selection/_search.py:922: UserWarning: One or more of the test scores are non-finite: [0.71507353 0.62352941        nan        nan 0.65441176        nan\n",
      " 0.62977941        nan        nan 0.59411765]\n",
      "  warnings.warn(\n"
     ]
    },
    {
     "name": "stdout",
     "output_type": "stream",
     "text": [
      "Fitting 10 folds for each of 10 candidates, totalling 100 fits\n"
     ]
    },
    {
     "name": "stderr",
     "output_type": "stream",
     "text": [
      "/usr/local/lib/python3.9/site-packages/sklearn/model_selection/_search.py:922: UserWarning: One or more of the test scores are non-finite: [       nan 0.75147059        nan 0.75110294 0.73860294 0.77536765\n",
      "        nan        nan 0.75147059 0.66691176]\n",
      "  warnings.warn(\n"
     ]
    },
    {
     "name": "stdout",
     "output_type": "stream",
     "text": [
      "Fitting 10 folds for each of 10 candidates, totalling 100 fits\n"
     ]
    },
    {
     "name": "stderr",
     "output_type": "stream",
     "text": [
      "/usr/local/lib/python3.9/site-packages/sklearn/model_selection/_search.py:922: UserWarning: One or more of the test scores are non-finite: [0.67279412        nan        nan 0.62977941 0.76360294 0.46470588\n",
      " 0.71544118 0.62316176        nan 0.73933824]\n",
      "  warnings.warn(\n"
     ]
    },
    {
     "name": "stdout",
     "output_type": "stream",
     "text": [
      "Fitting 10 folds for each of 10 candidates, totalling 100 fits\n"
     ]
    },
    {
     "name": "stderr",
     "output_type": "stream",
     "text": [
      "/usr/local/lib/python3.9/site-packages/sklearn/model_selection/_search.py:922: UserWarning: One or more of the test scores are non-finite: [       nan        nan 0.62977941 0.71507353 0.60551471        nan\n",
      " 0.65992647 0.39816176 0.58713235        nan]\n",
      "  warnings.warn(\n"
     ]
    },
    {
     "name": "stdout",
     "output_type": "stream",
     "text": [
      "Fitting 10 folds for each of 10 candidates, totalling 100 fits\n"
     ]
    },
    {
     "name": "stderr",
     "output_type": "stream",
     "text": [
      "/usr/local/lib/python3.9/site-packages/sklearn/model_selection/_search.py:922: UserWarning: One or more of the test scores are non-finite: [0.24117647        nan        nan 0.60588235        nan        nan\n",
      " 0.62977941 0.68419118        nan 0.72720588]\n",
      "  warnings.warn(\n"
     ]
    },
    {
     "name": "stdout",
     "output_type": "stream",
     "text": [
      "Fitting 10 folds for each of 10 candidates, totalling 100 fits\n"
     ]
    },
    {
     "name": "stderr",
     "output_type": "stream",
     "text": [
      "/usr/local/lib/python3.9/site-packages/sklearn/model_selection/_search.py:922: UserWarning: One or more of the test scores are non-finite: [0.73345588        nan 0.5875     0.72794118 0.73933824 0.61727941\n",
      "        nan        nan 0.575      0.76397059]\n",
      "  warnings.warn(\n"
     ]
    },
    {
     "name": "stdout",
     "output_type": "stream",
     "text": [
      "Fitting 10 folds for each of 10 candidates, totalling 100 fits\n"
     ]
    },
    {
     "name": "stderr",
     "output_type": "stream",
     "text": [
      "/usr/local/lib/python3.9/site-packages/sklearn/model_selection/_search.py:922: UserWarning: One or more of the test scores are non-finite: [0.67205882 0.41691176 0.73308824        nan        nan 0.72647059\n",
      " 0.75698529        nan 0.75735294 0.73933824]\n",
      "  warnings.warn(\n"
     ]
    },
    {
     "name": "stdout",
     "output_type": "stream",
     "text": [
      "Fitting 10 folds for each of 10 candidates, totalling 100 fits\n"
     ]
    },
    {
     "name": "stderr",
     "output_type": "stream",
     "text": [
      "/usr/local/lib/python3.9/site-packages/sklearn/model_selection/_search.py:922: UserWarning: One or more of the test scores are non-finite: [0.75147059 0.70808824 0.74522059 0.65477941 0.72647059 0.76286765\n",
      " 0.70882353        nan 0.74522059        nan]\n",
      "  warnings.warn(\n"
     ]
    },
    {
     "name": "stdout",
     "output_type": "stream",
     "text": [
      "Fitting 10 folds for each of 10 candidates, totalling 100 fits\n"
     ]
    },
    {
     "name": "stderr",
     "output_type": "stream",
     "text": [
      "/usr/local/lib/python3.9/site-packages/sklearn/model_selection/_search.py:922: UserWarning: One or more of the test scores are non-finite: [       nan        nan 0.70294118        nan 0.73272059        nan\n",
      " 0.66691176        nan 0.57573529 0.71470588]\n",
      "  warnings.warn(\n"
     ]
    },
    {
     "name": "stdout",
     "output_type": "stream",
     "text": [
      "Fitting 10 folds for each of 10 candidates, totalling 100 fits\n"
     ]
    },
    {
     "name": "stderr",
     "output_type": "stream",
     "text": [
      "/usr/local/lib/python3.9/site-packages/sklearn/model_selection/_search.py:922: UserWarning: One or more of the test scores are non-finite: [       nan        nan        nan        nan 0.73897059        nan\n",
      " 0.64301471        nan 0.59301471        nan]\n",
      "  warnings.warn(\n"
     ]
    },
    {
     "name": "stdout",
     "output_type": "stream",
     "text": [
      "Fitting 10 folds for each of 10 candidates, totalling 100 fits\n"
     ]
    },
    {
     "name": "stderr",
     "output_type": "stream",
     "text": [
      "/usr/local/lib/python3.9/site-packages/sklearn/model_selection/_search.py:922: UserWarning: One or more of the test scores are non-finite: [       nan        nan        nan 0.575      0.75808824        nan\n",
      " 0.5875     0.70919118 0.64227941 0.64227941]\n",
      "  warnings.warn(\n"
     ]
    },
    {
     "name": "stdout",
     "output_type": "stream",
     "text": [
      "Fitting 10 folds for each of 10 candidates, totalling 100 fits\n"
     ]
    },
    {
     "name": "stderr",
     "output_type": "stream",
     "text": [
      "/usr/local/lib/python3.9/site-packages/sklearn/model_selection/_search.py:922: UserWarning: One or more of the test scores are non-finite: [0.73897059        nan 0.75735294        nan 0.65441176        nan\n",
      "        nan 0.73897059        nan 0.59963235]\n",
      "  warnings.warn(\n"
     ]
    },
    {
     "name": "stdout",
     "output_type": "stream",
     "text": [
      "Fitting 10 folds for each of 10 candidates, totalling 100 fits\n"
     ]
    },
    {
     "name": "stderr",
     "output_type": "stream",
     "text": [
      "/usr/local/lib/python3.9/site-packages/sklearn/model_selection/_search.py:922: UserWarning: One or more of the test scores are non-finite: [0.73970588        nan 0.64816176        nan 0.73308824 0.74558824\n",
      " 0.75147059        nan 0.73345588 0.74522059]\n",
      "  warnings.warn(\n"
     ]
    },
    {
     "name": "stdout",
     "output_type": "stream",
     "text": [
      "Fitting 10 folds for each of 10 candidates, totalling 100 fits\n"
     ]
    },
    {
     "name": "stderr",
     "output_type": "stream",
     "text": [
      "/usr/local/lib/python3.9/site-packages/sklearn/model_selection/_search.py:922: UserWarning: One or more of the test scores are non-finite: [0.72720588        nan 0.65514706        nan        nan        nan\n",
      " 0.64264706 0.72169118 0.61948529        nan]\n",
      "  warnings.warn(\n"
     ]
    },
    {
     "name": "stdout",
     "output_type": "stream",
     "text": [
      "Fitting 10 folds for each of 10 candidates, totalling 100 fits\n"
     ]
    },
    {
     "name": "stderr",
     "output_type": "stream",
     "text": [
      "/usr/local/lib/python3.9/site-packages/sklearn/model_selection/_search.py:922: UserWarning: One or more of the test scores are non-finite: [0.70955882 0.73897059 0.66617647 0.70330882 0.61691176 0.72720588\n",
      "        nan        nan 0.70257353 0.75183824]\n",
      "  warnings.warn(\n"
     ]
    },
    {
     "name": "stdout",
     "output_type": "stream",
     "text": [
      "Fitting 10 folds for each of 10 candidates, totalling 100 fits\n"
     ]
    },
    {
     "name": "stderr",
     "output_type": "stream",
     "text": [
      "/usr/local/lib/python3.9/site-packages/sklearn/model_selection/_search.py:922: UserWarning: One or more of the test scores are non-finite: [0.71066176 0.64338235        nan        nan 0.75073529        nan\n",
      "        nan 0.59411765 0.75735294        nan]\n",
      "  warnings.warn(\n"
     ]
    },
    {
     "name": "stdout",
     "output_type": "stream",
     "text": [
      "Fitting 10 folds for each of 10 candidates, totalling 100 fits\n"
     ]
    },
    {
     "name": "stderr",
     "output_type": "stream",
     "text": [
      "/usr/local/lib/python3.9/site-packages/sklearn/model_selection/_search.py:922: UserWarning: One or more of the test scores are non-finite: [0.74522059        nan        nan 0.72720588 0.69705882 0.75110294\n",
      " 0.73272059        nan        nan        nan]\n",
      "  warnings.warn(\n"
     ]
    },
    {
     "name": "stdout",
     "output_type": "stream",
     "text": [
      "Fitting 10 folds for each of 10 candidates, totalling 100 fits\n"
     ]
    },
    {
     "name": "stderr",
     "output_type": "stream",
     "text": [
      "/usr/local/lib/python3.9/site-packages/sklearn/model_selection/_search.py:922: UserWarning: One or more of the test scores are non-finite: [0.69669118 0.73897059 0.72095588 0.75147059        nan        nan\n",
      " 0.53308824 0.64816176        nan 0.70882353]\n",
      "  warnings.warn(\n"
     ]
    },
    {
     "name": "stdout",
     "output_type": "stream",
     "text": [
      "Fitting 10 folds for each of 10 candidates, totalling 100 fits\n"
     ]
    },
    {
     "name": "stderr",
     "output_type": "stream",
     "text": [
      "/usr/local/lib/python3.9/site-packages/sklearn/model_selection/_search.py:922: UserWarning: One or more of the test scores are non-finite: [0.74522059        nan 0.73308824        nan        nan 0.70845588\n",
      "        nan 0.75183824 0.75735294 0.59963235]\n",
      "  warnings.warn(\n"
     ]
    },
    {
     "name": "stdout",
     "output_type": "stream",
     "text": [
      "Fitting 10 folds for each of 10 candidates, totalling 100 fits\n"
     ]
    },
    {
     "name": "stderr",
     "output_type": "stream",
     "text": [
      "/usr/local/lib/python3.9/site-packages/sklearn/model_selection/_search.py:922: UserWarning: One or more of the test scores are non-finite: [       nan 0.73345588        nan 0.59301471        nan 0.69117647\n",
      "        nan 0.74558824        nan 0.58823529]\n",
      "  warnings.warn(\n"
     ]
    },
    {
     "name": "stdout",
     "output_type": "stream",
     "text": [
      "Fitting 10 folds for each of 10 candidates, totalling 100 fits\n"
     ]
    },
    {
     "name": "stderr",
     "output_type": "stream",
     "text": [
      "/usr/local/lib/python3.9/site-packages/sklearn/model_selection/_search.py:922: UserWarning: One or more of the test scores are non-finite: [0.59375           nan        nan        nan 0.39852941        nan\n",
      "        nan 0.72132353        nan        nan]\n",
      "  warnings.warn(\n"
     ]
    },
    {
     "name": "stdout",
     "output_type": "stream",
     "text": [
      "Fitting 10 folds for each of 10 candidates, totalling 100 fits\n"
     ]
    },
    {
     "name": "stderr",
     "output_type": "stream",
     "text": [
      "/usr/local/lib/python3.9/site-packages/sklearn/model_selection/_search.py:922: UserWarning: One or more of the test scores are non-finite: [       nan 0.58786765        nan 0.72095588 0.76985294 0.75110294\n",
      "        nan 0.67904412 0.575      0.25992647]\n",
      "  warnings.warn(\n"
     ]
    },
    {
     "name": "stdout",
     "output_type": "stream",
     "text": [
      "Fitting 10 folds for each of 10 candidates, totalling 100 fits\n"
     ]
    },
    {
     "name": "stderr",
     "output_type": "stream",
     "text": [
      "/usr/local/lib/python3.9/site-packages/sklearn/model_selection/_search.py:922: UserWarning: One or more of the test scores are non-finite: [       nan 0.75147059 0.63602941 0.64779412        nan 0.69080882\n",
      " 0.70955882 0.73933824 0.64191176        nan]\n",
      "  warnings.warn(\n"
     ]
    },
    {
     "name": "stdout",
     "output_type": "stream",
     "text": [
      "Fitting 10 folds for each of 10 candidates, totalling 100 fits\n"
     ]
    },
    {
     "name": "stderr",
     "output_type": "stream",
     "text": [
      "/usr/local/lib/python3.9/site-packages/sklearn/model_selection/_search.py:922: UserWarning: One or more of the test scores are non-finite: [0.75772059 0.60588235        nan 0.64779412 0.63529412 0.74558824\n",
      "        nan        nan 0.75147059        nan]\n",
      "  warnings.warn(\n"
     ]
    },
    {
     "name": "stdout",
     "output_type": "stream",
     "text": [
      "Fitting 10 folds for each of 10 candidates, totalling 100 fits\n"
     ]
    },
    {
     "name": "stderr",
     "output_type": "stream",
     "text": [
      "/usr/local/lib/python3.9/site-packages/sklearn/model_selection/_search.py:922: UserWarning: One or more of the test scores are non-finite: [       nan 0.60551471 0.61102941        nan 0.69742647        nan\n",
      " 0.61176471 0.75147059 0.74595588 0.69705882]\n",
      "  warnings.warn(\n"
     ]
    },
    {
     "name": "stdout",
     "output_type": "stream",
     "text": [
      "Fitting 10 folds for each of 10 candidates, totalling 100 fits\n"
     ]
    },
    {
     "name": "stderr",
     "output_type": "stream",
     "text": [
      "/usr/local/lib/python3.9/site-packages/sklearn/model_selection/_search.py:922: UserWarning: One or more of the test scores are non-finite: [0.61801471        nan 0.76397059 0.73933824        nan 0.74558824\n",
      " 0.62977941 0.64227941 0.63602941        nan]\n",
      "  warnings.warn(\n"
     ]
    },
    {
     "name": "stdout",
     "output_type": "stream",
     "text": [
      "Fitting 10 folds for each of 10 candidates, totalling 100 fits\n"
     ]
    },
    {
     "name": "stderr",
     "output_type": "stream",
     "text": [
      "/usr/local/lib/python3.9/site-packages/sklearn/model_selection/_search.py:922: UserWarning: One or more of the test scores are non-finite: [       nan 0.73970588 0.73897059        nan        nan 0.33786765\n",
      " 0.69080882 0.75110294        nan        nan]\n",
      "  warnings.warn(\n"
     ]
    },
    {
     "name": "stdout",
     "output_type": "stream",
     "text": [
      "Fitting 10 folds for each of 10 candidates, totalling 100 fits\n"
     ]
    },
    {
     "name": "stderr",
     "output_type": "stream",
     "text": [
      "/usr/local/lib/python3.9/site-packages/sklearn/model_selection/_search.py:922: UserWarning: One or more of the test scores are non-finite: [       nan        nan        nan 0.68455882 0.73933824 0.76948529\n",
      "        nan 0.6125     0.74558824 0.73235294]\n",
      "  warnings.warn(\n"
     ]
    },
    {
     "name": "stdout",
     "output_type": "stream",
     "text": [
      "Fitting 10 folds for each of 10 candidates, totalling 100 fits\n"
     ]
    },
    {
     "name": "stderr",
     "output_type": "stream",
     "text": [
      "/usr/local/lib/python3.9/site-packages/sklearn/model_selection/_search.py:922: UserWarning: One or more of the test scores are non-finite: [0.72720588 0.66029412 0.75735294 0.59338235 0.75147059 0.72757353\n",
      "        nan 0.72647059 0.73897059        nan]\n",
      "  warnings.warn(\n"
     ]
    },
    {
     "name": "stdout",
     "output_type": "stream",
     "text": [
      "Fitting 10 folds for each of 10 candidates, totalling 100 fits\n"
     ]
    },
    {
     "name": "stderr",
     "output_type": "stream",
     "text": [
      "/usr/local/lib/python3.9/site-packages/sklearn/model_selection/_search.py:922: UserWarning: One or more of the test scores are non-finite: [0.72720588        nan 0.59852941        nan 0.70882353        nan\n",
      " 0.65367647        nan        nan        nan]\n",
      "  warnings.warn(\n"
     ]
    },
    {
     "name": "stdout",
     "output_type": "stream",
     "text": [
      "Fitting 10 folds for each of 10 candidates, totalling 100 fits\n"
     ]
    },
    {
     "name": "stderr",
     "output_type": "stream",
     "text": [
      "/usr/local/lib/python3.9/site-packages/sklearn/model_selection/_search.py:922: UserWarning: One or more of the test scores are non-finite: [       nan 0.70257353 0.69044118 0.62463235        nan        nan\n",
      " 0.72720588 0.73308824 0.61801471 0.74595588]\n",
      "  warnings.warn(\n"
     ]
    },
    {
     "name": "stdout",
     "output_type": "stream",
     "text": [
      "Fitting 10 folds for each of 10 candidates, totalling 100 fits\n"
     ]
    },
    {
     "name": "stderr",
     "output_type": "stream",
     "text": [
      "/usr/local/lib/python3.9/site-packages/sklearn/model_selection/_search.py:922: UserWarning: One or more of the test scores are non-finite: [       nan 0.70294118 0.76323529        nan 0.68566176 0.59889706\n",
      " 0.53308824 0.75698529 0.75183824 0.65367647]\n",
      "  warnings.warn(\n"
     ]
    },
    {
     "name": "stdout",
     "output_type": "stream",
     "text": [
      "Fitting 10 folds for each of 10 candidates, totalling 100 fits\n"
     ]
    },
    {
     "name": "stderr",
     "output_type": "stream",
     "text": [
      "/usr/local/lib/python3.9/site-packages/sklearn/model_selection/_search.py:922: UserWarning: One or more of the test scores are non-finite: [0.61102941        nan        nan        nan        nan        nan\n",
      "        nan 0.69080882        nan 0.64816176]\n",
      "  warnings.warn(\n"
     ]
    },
    {
     "name": "stdout",
     "output_type": "stream",
     "text": [
      "Fitting 10 folds for each of 10 candidates, totalling 100 fits\n"
     ]
    },
    {
     "name": "stderr",
     "output_type": "stream",
     "text": [
      "/usr/local/lib/python3.9/site-packages/sklearn/model_selection/_search.py:922: UserWarning: One or more of the test scores are non-finite: [0.72683824 0.76360294 0.56911765 0.65992647        nan 0.73345588\n",
      " 0.70919118 0.67279412 0.64816176 0.69705882]\n",
      "  warnings.warn(\n"
     ]
    },
    {
     "name": "stdout",
     "output_type": "stream",
     "text": [
      "Fitting 10 folds for each of 10 candidates, totalling 100 fits\n"
     ]
    },
    {
     "name": "stderr",
     "output_type": "stream",
     "text": [
      "/usr/local/lib/python3.9/site-packages/sklearn/model_selection/_search.py:922: UserWarning: One or more of the test scores are non-finite: [       nan        nan        nan 0.75735294        nan        nan\n",
      "        nan 0.70882353        nan 0.27904412]\n",
      "  warnings.warn(\n"
     ]
    },
    {
     "name": "stdout",
     "output_type": "stream",
     "text": [
      "Fitting 10 folds for each of 10 candidates, totalling 100 fits\n"
     ]
    },
    {
     "name": "stderr",
     "output_type": "stream",
     "text": [
      "/usr/local/lib/python3.9/site-packages/sklearn/model_selection/_search.py:922: UserWarning: One or more of the test scores are non-finite: [0.58198529 0.70257353 0.66544118 0.65367647 0.66066176 0.75110294\n",
      " 0.72095588        nan        nan 0.71507353]\n",
      "  warnings.warn(\n"
     ]
    },
    {
     "name": "stdout",
     "output_type": "stream",
     "text": [
      "Fitting 10 folds for each of 10 candidates, totalling 100 fits\n"
     ]
    },
    {
     "name": "stderr",
     "output_type": "stream",
     "text": [
      "/usr/local/lib/python3.9/site-packages/sklearn/model_selection/_search.py:922: UserWarning: One or more of the test scores are non-finite: [0.67794118 0.73933824 0.64227941 0.76948529        nan 0.33786765\n",
      "        nan 0.72095588        nan 0.74558824]\n",
      "  warnings.warn(\n"
     ]
    },
    {
     "name": "stdout",
     "output_type": "stream",
     "text": [
      "Fitting 10 folds for each of 10 candidates, totalling 100 fits\n"
     ]
    },
    {
     "name": "stderr",
     "output_type": "stream",
     "text": [
      "/usr/local/lib/python3.9/site-packages/sklearn/model_selection/_search.py:922: UserWarning: One or more of the test scores are non-finite: [0.49632353        nan 0.70955882 0.75147059 0.59963235        nan\n",
      " 0.70294118 0.69669118 0.73308824 0.63602941]\n",
      "  warnings.warn(\n"
     ]
    },
    {
     "name": "stdout",
     "output_type": "stream",
     "text": [
      "Fitting 10 folds for each of 10 candidates, totalling 100 fits\n"
     ]
    },
    {
     "name": "stderr",
     "output_type": "stream",
     "text": [
      "/usr/local/lib/python3.9/site-packages/sklearn/model_selection/_search.py:922: UserWarning: One or more of the test scores are non-finite: [       nan 0.74558824 0.58272059 0.74522059        nan        nan\n",
      "        nan 0.75772059 0.58713235 0.5875    ]\n",
      "  warnings.warn(\n"
     ]
    },
    {
     "name": "stdout",
     "output_type": "stream",
     "text": [
      "Fitting 10 folds for each of 10 candidates, totalling 100 fits\n"
     ]
    },
    {
     "name": "stderr",
     "output_type": "stream",
     "text": [
      "/usr/local/lib/python3.9/site-packages/sklearn/model_selection/_search.py:922: UserWarning: One or more of the test scores are non-finite: [       nan        nan 0.60477941 0.26544118 0.73933824 0.75110294\n",
      "        nan 0.58088235        nan        nan]\n",
      "  warnings.warn(\n"
     ]
    },
    {
     "name": "stdout",
     "output_type": "stream",
     "text": [
      "Fitting 10 folds for each of 10 candidates, totalling 100 fits\n"
     ]
    },
    {
     "name": "stderr",
     "output_type": "stream",
     "text": [
      "/usr/local/lib/python3.9/site-packages/sklearn/model_selection/_search.py:922: UserWarning: One or more of the test scores are non-finite: [0.66580882 0.74595588 0.72720588 0.64227941 0.72058824        nan\n",
      " 0.72720588 0.76323529        nan        nan]\n",
      "  warnings.warn(\n"
     ]
    },
    {
     "name": "stdout",
     "output_type": "stream",
     "text": [
      "Fitting 10 folds for each of 10 candidates, totalling 100 fits\n"
     ]
    },
    {
     "name": "stderr",
     "output_type": "stream",
     "text": [
      "/usr/local/lib/python3.9/site-packages/sklearn/model_selection/_search.py:922: UserWarning: One or more of the test scores are non-finite: [0.74558824 0.75110294        nan        nan        nan 0.61727941\n",
      "        nan        nan 0.75147059 0.76360294]\n",
      "  warnings.warn(\n"
     ]
    },
    {
     "name": "stdout",
     "output_type": "stream",
     "text": [
      "Fitting 10 folds for each of 10 candidates, totalling 100 fits\n"
     ]
    },
    {
     "name": "stderr",
     "output_type": "stream",
     "text": [
      "/usr/local/lib/python3.9/site-packages/sklearn/model_selection/_search.py:922: UserWarning: One or more of the test scores are non-finite: [0.28345588        nan 0.73308824 0.72794118        nan 0.69044118\n",
      "        nan 0.60477941 0.75698529 0.73272059]\n",
      "  warnings.warn(\n"
     ]
    },
    {
     "name": "stdout",
     "output_type": "stream",
     "text": [
      "Fitting 10 folds for each of 10 candidates, totalling 100 fits\n"
     ]
    },
    {
     "name": "stderr",
     "output_type": "stream",
     "text": [
      "/usr/local/lib/python3.9/site-packages/sklearn/model_selection/_search.py:922: UserWarning: One or more of the test scores are non-finite: [       nan 0.75808824        nan 0.61102941        nan 0.58125\n",
      " 0.67242647 0.63602941 0.73897059 0.76911765]\n",
      "  warnings.warn(\n"
     ]
    },
    {
     "name": "stdout",
     "output_type": "stream",
     "text": [
      "Fitting 10 folds for each of 10 candidates, totalling 100 fits\n"
     ]
    },
    {
     "name": "stderr",
     "output_type": "stream",
     "text": [
      "/usr/local/lib/python3.9/site-packages/sklearn/model_selection/_search.py:922: UserWarning: One or more of the test scores are non-finite: [       nan 0.56875    0.69080882 0.73345588        nan        nan\n",
      " 0.72720588        nan        nan 0.74558824]\n",
      "  warnings.warn(\n"
     ]
    },
    {
     "name": "stdout",
     "output_type": "stream",
     "text": [
      "Fitting 10 folds for each of 10 candidates, totalling 100 fits\n"
     ]
    },
    {
     "name": "stderr",
     "output_type": "stream",
     "text": [
      "/usr/local/lib/python3.9/site-packages/sklearn/model_selection/_search.py:922: UserWarning: One or more of the test scores are non-finite: [       nan        nan 0.75808824 0.75698529 0.73970588 0.62389706\n",
      " 0.51433824        nan        nan 0.72720588]\n",
      "  warnings.warn(\n"
     ]
    },
    {
     "name": "stdout",
     "output_type": "stream",
     "text": [
      "Fitting 10 folds for each of 10 candidates, totalling 100 fits\n"
     ]
    },
    {
     "name": "stderr",
     "output_type": "stream",
     "text": [
      "/usr/local/lib/python3.9/site-packages/sklearn/model_selection/_search.py:922: UserWarning: One or more of the test scores are non-finite: [0.51507353 0.71470588 0.73308824 0.63566176 0.75110294 0.66029412\n",
      "        nan 0.76360294        nan        nan]\n",
      "  warnings.warn(\n"
     ]
    },
    {
     "name": "stdout",
     "output_type": "stream",
     "text": [
      "Fitting 10 folds for each of 10 candidates, totalling 100 fits\n"
     ]
    },
    {
     "name": "stderr",
     "output_type": "stream",
     "text": [
      "/usr/local/lib/python3.9/site-packages/sklearn/model_selection/_search.py:922: UserWarning: One or more of the test scores are non-finite: [0.64117647 0.71507353 0.63051471        nan        nan 0.73308824\n",
      " 0.72720588 0.61727941        nan 0.62941176]\n",
      "  warnings.warn(\n"
     ]
    },
    {
     "name": "stdout",
     "output_type": "stream",
     "text": [
      "Fitting 10 folds for each of 10 candidates, totalling 100 fits\n"
     ]
    },
    {
     "name": "stderr",
     "output_type": "stream",
     "text": [
      "/usr/local/lib/python3.9/site-packages/sklearn/model_selection/_search.py:922: UserWarning: One or more of the test scores are non-finite: [0.58161765 0.65404412        nan        nan        nan        nan\n",
      " 0.71544118 0.26029412        nan 0.57536765]\n",
      "  warnings.warn(\n"
     ]
    },
    {
     "name": "stdout",
     "output_type": "stream",
     "text": [
      "Fitting 10 folds for each of 10 candidates, totalling 100 fits\n"
     ]
    },
    {
     "name": "stderr",
     "output_type": "stream",
     "text": [
      "/usr/local/lib/python3.9/site-packages/sklearn/model_selection/_search.py:922: UserWarning: One or more of the test scores are non-finite: [       nan        nan        nan 0.72058824        nan 0.38639706\n",
      " 0.76948529 0.58235294 0.73235294 0.70845588]\n",
      "  warnings.warn(\n"
     ]
    },
    {
     "name": "stdout",
     "output_type": "stream",
     "text": [
      "Fitting 10 folds for each of 10 candidates, totalling 100 fits\n"
     ]
    },
    {
     "name": "stderr",
     "output_type": "stream",
     "text": [
      "/usr/local/lib/python3.9/site-packages/sklearn/model_selection/_search.py:922: UserWarning: One or more of the test scores are non-finite: [       nan 0.73860294 0.66617647        nan        nan 0.75808824\n",
      " 0.35036765        nan 0.62977941 0.75110294]\n",
      "  warnings.warn(\n"
     ]
    },
    {
     "name": "stdout",
     "output_type": "stream",
     "text": [
      "Fitting 10 folds for each of 10 candidates, totalling 100 fits\n"
     ]
    },
    {
     "name": "stderr",
     "output_type": "stream",
     "text": [
      "/usr/local/lib/python3.9/site-packages/sklearn/model_selection/_search.py:922: UserWarning: One or more of the test scores are non-finite: [       nan        nan 0.69705882 0.75110294        nan 0.67904412\n",
      "        nan 0.62977941        nan        nan]\n",
      "  warnings.warn(\n"
     ]
    },
    {
     "name": "stdout",
     "output_type": "stream",
     "text": [
      "Fitting 10 folds for each of 10 candidates, totalling 100 fits\n"
     ]
    },
    {
     "name": "stderr",
     "output_type": "stream",
     "text": [
      "/usr/local/lib/python3.9/site-packages/sklearn/model_selection/_search.py:922: UserWarning: One or more of the test scores are non-finite: [0.71470588 0.64191176 0.75183824 0.60477941 0.76397059 0.63639706\n",
      "        nan        nan 0.62316176 0.67205882]\n",
      "  warnings.warn(\n"
     ]
    },
    {
     "name": "stdout",
     "output_type": "stream",
     "text": [
      "Fitting 10 folds for each of 10 candidates, totalling 100 fits\n"
     ]
    },
    {
     "name": "stderr",
     "output_type": "stream",
     "text": [
      "/usr/local/lib/python3.9/site-packages/sklearn/model_selection/_search.py:922: UserWarning: One or more of the test scores are non-finite: [       nan 0.73897059 0.61764706        nan        nan 0.73382353\n",
      " 0.63676471        nan 0.72683824 0.41102941]\n",
      "  warnings.warn(\n"
     ]
    },
    {
     "name": "stdout",
     "output_type": "stream",
     "text": [
      "Fitting 10 folds for each of 10 candidates, totalling 100 fits\n"
     ]
    },
    {
     "name": "stderr",
     "output_type": "stream",
     "text": [
      "/usr/local/lib/python3.9/site-packages/sklearn/model_selection/_search.py:922: UserWarning: One or more of the test scores are non-finite: [0.64154412 0.75110294 0.75147059 0.72095588        nan 0.71470588\n",
      " 0.73933824 0.76360294 0.72683824 0.71470588]\n",
      "  warnings.warn(\n"
     ]
    },
    {
     "name": "stdout",
     "output_type": "stream",
     "text": [
      "Fitting 10 folds for each of 10 candidates, totalling 100 fits\n"
     ]
    },
    {
     "name": "stderr",
     "output_type": "stream",
     "text": [
      "/usr/local/lib/python3.9/site-packages/sklearn/model_selection/_search.py:922: UserWarning: One or more of the test scores are non-finite: [       nan 0.42279412        nan        nan 0.73382353        nan\n",
      "        nan 0.64191176        nan 0.72095588]\n",
      "  warnings.warn(\n"
     ]
    },
    {
     "name": "stdout",
     "output_type": "stream",
     "text": [
      "Fitting 10 folds for each of 10 candidates, totalling 100 fits\n"
     ]
    },
    {
     "name": "stderr",
     "output_type": "stream",
     "text": [
      "/usr/local/lib/python3.9/site-packages/sklearn/model_selection/_search.py:922: UserWarning: One or more of the test scores are non-finite: [       nan 0.58125           nan 0.73933824 0.63529412        nan\n",
      "        nan 0.67242647        nan 0.47132353]\n",
      "  warnings.warn(\n"
     ]
    },
    {
     "name": "stdout",
     "output_type": "stream",
     "text": [
      "Fitting 10 folds for each of 10 candidates, totalling 100 fits\n"
     ]
    },
    {
     "name": "stderr",
     "output_type": "stream",
     "text": [
      "/usr/local/lib/python3.9/site-packages/sklearn/model_selection/_search.py:922: UserWarning: One or more of the test scores are non-finite: [0.66139706        nan        nan        nan        nan 0.55183824\n",
      " 0.74485294        nan 0.75073529 0.67867647]\n",
      "  warnings.warn(\n"
     ]
    },
    {
     "name": "stdout",
     "output_type": "stream",
     "text": [
      "Fitting 10 folds for each of 10 candidates, totalling 100 fits\n"
     ]
    },
    {
     "name": "stderr",
     "output_type": "stream",
     "text": [
      "/usr/local/lib/python3.9/site-packages/sklearn/model_selection/_search.py:922: UserWarning: One or more of the test scores are non-finite: [0.57573529 0.59301471        nan 0.60625    0.71580882 0.66580882\n",
      "        nan        nan        nan 0.60514706]\n",
      "  warnings.warn(\n"
     ]
    },
    {
     "name": "stdout",
     "output_type": "stream",
     "text": [
      "Fitting 10 folds for each of 10 candidates, totalling 100 fits\n"
     ]
    },
    {
     "name": "stderr",
     "output_type": "stream",
     "text": [
      "/usr/local/lib/python3.9/site-packages/sklearn/model_selection/_search.py:922: UserWarning: One or more of the test scores are non-finite: [       nan 0.73345588        nan        nan        nan 0.67867647\n",
      " 0.73345588 0.74522059 0.58161765 0.63639706]\n",
      "  warnings.warn(\n"
     ]
    },
    {
     "name": "stdout",
     "output_type": "stream",
     "text": [
      "Fitting 10 folds for each of 10 candidates, totalling 100 fits\n"
     ]
    },
    {
     "name": "stderr",
     "output_type": "stream",
     "text": [
      "/usr/local/lib/python3.9/site-packages/sklearn/model_selection/_search.py:922: UserWarning: One or more of the test scores are non-finite: [0.73308824        nan        nan 0.76360294 0.29595588 0.68529412\n",
      " 0.75808824        nan 0.73970588        nan]\n",
      "  warnings.warn(\n"
     ]
    },
    {
     "name": "stdout",
     "output_type": "stream",
     "text": [
      "Fitting 10 folds for each of 10 candidates, totalling 100 fits\n"
     ]
    },
    {
     "name": "stderr",
     "output_type": "stream",
     "text": [
      "/usr/local/lib/python3.9/site-packages/sklearn/model_selection/_search.py:922: UserWarning: One or more of the test scores are non-finite: [0.73345588 0.73345588        nan 0.62977941 0.75073529 0.59338235\n",
      "        nan        nan 0.59301471        nan]\n",
      "  warnings.warn(\n"
     ]
    },
    {
     "name": "stdout",
     "output_type": "stream",
     "text": [
      "Fitting 10 folds for each of 10 candidates, totalling 100 fits\n"
     ]
    },
    {
     "name": "stderr",
     "output_type": "stream",
     "text": [
      "/usr/local/lib/python3.9/site-packages/sklearn/model_selection/_search.py:922: UserWarning: One or more of the test scores are non-finite: [0.73345588 0.69044118 0.59963235 0.75735294        nan 0.59264706\n",
      " 0.75110294        nan 0.76985294        nan]\n",
      "  warnings.warn(\n"
     ]
    },
    {
     "name": "stdout",
     "output_type": "stream",
     "text": [
      "Fitting 10 folds for each of 10 candidates, totalling 100 fits\n"
     ]
    },
    {
     "name": "stderr",
     "output_type": "stream",
     "text": [
      "/usr/local/lib/python3.9/site-packages/sklearn/model_selection/_search.py:922: UserWarning: One or more of the test scores are non-finite: [       nan 0.64154412 0.76985294 0.73970588 0.73382353 0.42794118\n",
      "        nan 0.60588235        nan 0.70294118]\n",
      "  warnings.warn(\n"
     ]
    },
    {
     "name": "stdout",
     "output_type": "stream",
     "text": [
      "Fitting 10 folds for each of 10 candidates, totalling 100 fits\n"
     ]
    },
    {
     "name": "stderr",
     "output_type": "stream",
     "text": [
      "/usr/local/lib/python3.9/site-packages/sklearn/model_selection/_search.py:922: UserWarning: One or more of the test scores are non-finite: [       nan        nan        nan        nan 0.72095588 0.75147059\n",
      " 0.70367647        nan 0.64154412 0.73933824]\n",
      "  warnings.warn(\n"
     ]
    },
    {
     "name": "stdout",
     "output_type": "stream",
     "text": [
      "Fitting 10 folds for each of 10 candidates, totalling 100 fits\n"
     ]
    },
    {
     "name": "stderr",
     "output_type": "stream",
     "text": [
      "/usr/local/lib/python3.9/site-packages/sklearn/model_selection/_search.py:922: UserWarning: One or more of the test scores are non-finite: [       nan 0.61727941 0.76323529 0.59301471 0.575      0.69705882\n",
      "        nan        nan        nan 0.33125   ]\n",
      "  warnings.warn(\n"
     ]
    },
    {
     "name": "stdout",
     "output_type": "stream",
     "text": [
      "Fitting 10 folds for each of 10 candidates, totalling 100 fits\n"
     ]
    },
    {
     "name": "stderr",
     "output_type": "stream",
     "text": [
      "/usr/local/lib/python3.9/site-packages/sklearn/model_selection/_search.py:922: UserWarning: One or more of the test scores are non-finite: [0.67867647 0.72794118 0.73933824        nan        nan        nan\n",
      "        nan 0.61727941        nan        nan]\n",
      "  warnings.warn(\n"
     ]
    },
    {
     "name": "stdout",
     "output_type": "stream",
     "text": [
      "Fitting 10 folds for each of 10 candidates, totalling 100 fits\n"
     ]
    },
    {
     "name": "stderr",
     "output_type": "stream",
     "text": [
      "/usr/local/lib/python3.9/site-packages/sklearn/model_selection/_search.py:922: UserWarning: One or more of the test scores are non-finite: [       nan        nan        nan 0.50882353        nan        nan\n",
      "        nan 0.62352941        nan 0.74595588]\n",
      "  warnings.warn(\n"
     ]
    },
    {
     "name": "stdout",
     "output_type": "stream",
     "text": [
      "Fitting 10 folds for each of 10 candidates, totalling 100 fits\n"
     ]
    },
    {
     "name": "stderr",
     "output_type": "stream",
     "text": [
      "/usr/local/lib/python3.9/site-packages/sklearn/model_selection/_search.py:922: UserWarning: One or more of the test scores are non-finite: [0.64191176 0.64852941 0.72058824 0.69080882        nan 0.62352941\n",
      "        nan 0.62463235        nan        nan]\n",
      "  warnings.warn(\n"
     ]
    },
    {
     "name": "stdout",
     "output_type": "stream",
     "text": [
      "Fitting 10 folds for each of 10 candidates, totalling 100 fits\n"
     ]
    },
    {
     "name": "stderr",
     "output_type": "stream",
     "text": [
      "/usr/local/lib/python3.9/site-packages/sklearn/model_selection/_search.py:922: UserWarning: One or more of the test scores are non-finite: [       nan 0.63566176        nan        nan 0.66617647 0.62389706\n",
      "        nan 0.38602941 0.63602941        nan]\n",
      "  warnings.warn(\n"
     ]
    },
    {
     "name": "stdout",
     "output_type": "stream",
     "text": [
      "Fitting 10 folds for each of 10 candidates, totalling 100 fits\n"
     ]
    },
    {
     "name": "stderr",
     "output_type": "stream",
     "text": [
      "/usr/local/lib/python3.9/site-packages/sklearn/model_selection/_search.py:922: UserWarning: One or more of the test scores are non-finite: [       nan 0.68419118 0.69705882 0.67904412 0.75735294        nan\n",
      " 0.75110294 0.58786765 0.76397059        nan]\n",
      "  warnings.warn(\n"
     ]
    },
    {
     "name": "stdout",
     "output_type": "stream",
     "text": [
      "Fitting 10 folds for each of 10 candidates, totalling 100 fits\n"
     ]
    },
    {
     "name": "stderr",
     "output_type": "stream",
     "text": [
      "/usr/local/lib/python3.9/site-packages/sklearn/model_selection/_search.py:922: UserWarning: One or more of the test scores are non-finite: [       nan 0.45367647        nan        nan        nan 0.65404412\n",
      " 0.72095588 0.64227941        nan 0.58676471]\n",
      "  warnings.warn(\n"
     ]
    },
    {
     "name": "stdout",
     "output_type": "stream",
     "text": [
      "Fitting 10 folds for each of 10 candidates, totalling 100 fits\n"
     ]
    },
    {
     "name": "stderr",
     "output_type": "stream",
     "text": [
      "/usr/local/lib/python3.9/site-packages/sklearn/model_selection/_search.py:922: UserWarning: One or more of the test scores are non-finite: [0.71617647        nan        nan 0.29080882 0.73933824        nan\n",
      " 0.74522059        nan 0.75772059 0.72095588]\n",
      "  warnings.warn(\n"
     ]
    },
    {
     "name": "stdout",
     "output_type": "stream",
     "text": [
      "Fitting 10 folds for each of 10 candidates, totalling 100 fits\n"
     ]
    },
    {
     "name": "stderr",
     "output_type": "stream",
     "text": [
      "/usr/local/lib/python3.9/site-packages/sklearn/model_selection/_search.py:922: UserWarning: One or more of the test scores are non-finite: [       nan        nan        nan        nan        nan        nan\n",
      "        nan 0.72720588 0.74558824        nan]\n",
      "  warnings.warn(\n"
     ]
    },
    {
     "name": "stdout",
     "output_type": "stream",
     "text": [
      "Fitting 10 folds for each of 10 candidates, totalling 100 fits\n"
     ]
    },
    {
     "name": "stderr",
     "output_type": "stream",
     "text": [
      "/usr/local/lib/python3.9/site-packages/sklearn/model_selection/_search.py:922: UserWarning: One or more of the test scores are non-finite: [0.72720588 0.72794118 0.73308824 0.61139706        nan 0.76286765\n",
      " 0.37426471 0.67242647        nan 0.72169118]\n",
      "  warnings.warn(\n"
     ]
    },
    {
     "name": "stdout",
     "output_type": "stream",
     "text": [
      "Fitting 10 folds for each of 10 candidates, totalling 100 fits\n"
     ]
    },
    {
     "name": "stderr",
     "output_type": "stream",
     "text": [
      "/usr/local/lib/python3.9/site-packages/sklearn/model_selection/_search.py:922: UserWarning: One or more of the test scores are non-finite: [       nan        nan        nan        nan 0.5875     0.65992647\n",
      " 0.71544118        nan 0.73897059        nan]\n",
      "  warnings.warn(\n"
     ]
    },
    {
     "name": "stdout",
     "output_type": "stream",
     "text": [
      "Fitting 10 folds for each of 10 candidates, totalling 100 fits\n"
     ]
    },
    {
     "name": "stderr",
     "output_type": "stream",
     "text": [
      "/usr/local/lib/python3.9/site-packages/sklearn/model_selection/_search.py:922: UserWarning: One or more of the test scores are non-finite: [       nan 0.73933824 0.68455882 0.72058824 0.62977941        nan\n",
      " 0.67904412        nan 0.75735294        nan]\n",
      "  warnings.warn(\n"
     ]
    },
    {
     "name": "stdout",
     "output_type": "stream",
     "text": [
      "Fitting 10 folds for each of 10 candidates, totalling 100 fits\n"
     ]
    },
    {
     "name": "stderr",
     "output_type": "stream",
     "text": [
      "/usr/local/lib/python3.9/site-packages/sklearn/model_selection/_search.py:922: UserWarning: One or more of the test scores are non-finite: [       nan        nan 0.58713235 0.76985294 0.69595588 0.34448529\n",
      "        nan        nan 0.63676471        nan]\n",
      "  warnings.warn(\n"
     ]
    },
    {
     "name": "stdout",
     "output_type": "stream",
     "text": [
      "Fitting 10 folds for each of 10 candidates, totalling 100 fits\n"
     ]
    },
    {
     "name": "stderr",
     "output_type": "stream",
     "text": [
      "/usr/local/lib/python3.9/site-packages/sklearn/model_selection/_search.py:922: UserWarning: One or more of the test scores are non-finite: [       nan        nan 0.72683824        nan 0.72683824        nan\n",
      "        nan 0.73345588 0.72095588 0.62977941]\n",
      "  warnings.warn(\n"
     ]
    },
    {
     "name": "stdout",
     "output_type": "stream",
     "text": [
      "Fitting 10 folds for each of 10 candidates, totalling 100 fits\n"
     ]
    },
    {
     "name": "stderr",
     "output_type": "stream",
     "text": [
      "/usr/local/lib/python3.9/site-packages/sklearn/model_selection/_search.py:922: UserWarning: One or more of the test scores are non-finite: [0.66029412 0.64852941 0.58161765        nan 0.75772059 0.74448529\n",
      "        nan 0.68419118 0.74558824        nan]\n",
      "  warnings.warn(\n"
     ]
    },
    {
     "name": "stdout",
     "output_type": "stream",
     "text": [
      "Fitting 10 folds for each of 10 candidates, totalling 100 fits\n"
     ]
    },
    {
     "name": "stderr",
     "output_type": "stream",
     "text": [
      "/usr/local/lib/python3.9/site-packages/sklearn/model_selection/_search.py:922: UserWarning: One or more of the test scores are non-finite: [       nan 0.69080882        nan        nan 0.59963235        nan\n",
      "        nan        nan        nan        nan]\n",
      "  warnings.warn(\n"
     ]
    },
    {
     "name": "stdout",
     "output_type": "stream",
     "text": [
      "Fitting 10 folds for each of 10 candidates, totalling 100 fits\n"
     ]
    },
    {
     "name": "stderr",
     "output_type": "stream",
     "text": [
      "/usr/local/lib/python3.9/site-packages/sklearn/model_selection/_search.py:922: UserWarning: One or more of the test scores are non-finite: [0.38014706 0.35735294 0.68419118 0.72720588 0.70257353        nan\n",
      " 0.61102941        nan        nan 0.74522059]\n",
      "  warnings.warn(\n"
     ]
    },
    {
     "name": "stdout",
     "output_type": "stream",
     "text": [
      "Fitting 10 folds for each of 10 candidates, totalling 100 fits\n"
     ]
    },
    {
     "name": "stderr",
     "output_type": "stream",
     "text": [
      "/usr/local/lib/python3.9/site-packages/sklearn/model_selection/_search.py:922: UserWarning: One or more of the test scores are non-finite: [       nan 0.74558824 0.76397059 0.64742647 0.61764706 0.64154412\n",
      " 0.62352941        nan 0.61727941 0.73308824]\n",
      "  warnings.warn(\n"
     ]
    },
    {
     "name": "stdout",
     "output_type": "stream",
     "text": [
      "Fitting 10 folds for each of 10 candidates, totalling 100 fits\n"
     ]
    },
    {
     "name": "stderr",
     "output_type": "stream",
     "text": [
      "/usr/local/lib/python3.9/site-packages/sklearn/model_selection/_search.py:922: UserWarning: One or more of the test scores are non-finite: [0.70955882        nan 0.67904412        nan 0.74522059 0.76948529\n",
      " 0.71470588        nan 0.62941176        nan]\n",
      "  warnings.warn(\n"
     ]
    },
    {
     "name": "stdout",
     "output_type": "stream",
     "text": [
      "Fitting 10 folds for each of 10 candidates, totalling 100 fits\n"
     ]
    },
    {
     "name": "stderr",
     "output_type": "stream",
     "text": [
      "/usr/local/lib/python3.9/site-packages/sklearn/model_selection/_search.py:922: UserWarning: One or more of the test scores are non-finite: [0.65992647        nan        nan        nan 0.76985294 0.48933824\n",
      "        nan 0.45955882 0.71470588 0.65477941]\n",
      "  warnings.warn(\n"
     ]
    },
    {
     "name": "stdout",
     "output_type": "stream",
     "text": [
      "Fitting 10 folds for each of 10 candidates, totalling 100 fits\n"
     ]
    },
    {
     "name": "stderr",
     "output_type": "stream",
     "text": [
      "/usr/local/lib/python3.9/site-packages/sklearn/model_selection/_search.py:922: UserWarning: One or more of the test scores are non-finite: [0.73897059 0.69705882        nan        nan 0.73345588        nan\n",
      " 0.61727941 0.71507353        nan 0.5875    ]\n",
      "  warnings.warn(\n"
     ]
    },
    {
     "name": "stdout",
     "output_type": "stream",
     "text": [
      "Fitting 10 folds for each of 10 candidates, totalling 100 fits\n"
     ]
    },
    {
     "name": "stderr",
     "output_type": "stream",
     "text": [
      "/usr/local/lib/python3.9/site-packages/sklearn/model_selection/_search.py:922: UserWarning: One or more of the test scores are non-finite: [       nan 0.73308824 0.74485294        nan        nan 0.64779412\n",
      "        nan        nan        nan 0.73897059]\n",
      "  warnings.warn(\n"
     ]
    },
    {
     "name": "stdout",
     "output_type": "stream",
     "text": [
      "Fitting 10 folds for each of 10 candidates, totalling 100 fits\n"
     ]
    },
    {
     "name": "stderr",
     "output_type": "stream",
     "text": [
      "/usr/local/lib/python3.9/site-packages/sklearn/model_selection/_search.py:922: UserWarning: One or more of the test scores are non-finite: [0.71580882        nan        nan 0.73345588 0.76360294        nan\n",
      " 0.71544118 0.58676471        nan        nan]\n",
      "  warnings.warn(\n"
     ]
    },
    {
     "name": "stdout",
     "output_type": "stream",
     "text": [
      "Fitting 10 folds for each of 10 candidates, totalling 100 fits\n"
     ]
    },
    {
     "name": "stderr",
     "output_type": "stream",
     "text": [
      "/usr/local/lib/python3.9/site-packages/sklearn/model_selection/_search.py:922: UserWarning: One or more of the test scores are non-finite: [       nan        nan        nan        nan        nan 0.64191176\n",
      " 0.69044118 0.73345588        nan 0.71544118]\n",
      "  warnings.warn(\n"
     ]
    },
    {
     "name": "stdout",
     "output_type": "stream",
     "text": [
      "Fitting 10 folds for each of 10 candidates, totalling 100 fits\n"
     ]
    },
    {
     "name": "stderr",
     "output_type": "stream",
     "text": [
      "/usr/local/lib/python3.9/site-packages/sklearn/model_selection/_search.py:922: UserWarning: One or more of the test scores are non-finite: [0.59264706 0.62316176 0.60110294 0.76397059 0.65367647        nan\n",
      "        nan        nan 0.71507353 0.76323529]\n",
      "  warnings.warn(\n"
     ]
    },
    {
     "name": "stdout",
     "output_type": "stream",
     "text": [
      "Fitting 10 folds for each of 10 candidates, totalling 100 fits\n"
     ]
    },
    {
     "name": "stderr",
     "output_type": "stream",
     "text": [
      "/usr/local/lib/python3.9/site-packages/sklearn/model_selection/_search.py:922: UserWarning: One or more of the test scores are non-finite: [       nan        nan        nan 0.76360294        nan 0.72720588\n",
      " 0.70294118 0.64742647        nan        nan]\n",
      "  warnings.warn(\n"
     ]
    },
    {
     "name": "stdout",
     "output_type": "stream",
     "text": [
      "Fitting 10 folds for each of 10 candidates, totalling 100 fits\n"
     ]
    },
    {
     "name": "stderr",
     "output_type": "stream",
     "text": [
      "/usr/local/lib/python3.9/site-packages/sklearn/model_selection/_search.py:922: UserWarning: One or more of the test scores are non-finite: [0.62316176 0.65367647        nan        nan 0.73382353        nan\n",
      " 0.59301471        nan 0.62352941 0.71470588]\n",
      "  warnings.warn(\n"
     ]
    },
    {
     "name": "stdout",
     "output_type": "stream",
     "text": [
      "Fitting 10 folds for each of 10 candidates, totalling 100 fits\n"
     ]
    },
    {
     "name": "stderr",
     "output_type": "stream",
     "text": [
      "/usr/local/lib/python3.9/site-packages/sklearn/model_selection/_search.py:922: UserWarning: One or more of the test scores are non-finite: [       nan 0.75698529        nan        nan 0.73308824 0.73860294\n",
      " 0.72757353 0.73897059 0.67794118        nan]\n",
      "  warnings.warn(\n"
     ]
    },
    {
     "name": "stdout",
     "output_type": "stream",
     "text": [
      "Fitting 10 folds for each of 10 candidates, totalling 100 fits\n"
     ]
    },
    {
     "name": "stderr",
     "output_type": "stream",
     "text": [
      "/usr/local/lib/python3.9/site-packages/sklearn/model_selection/_search.py:922: UserWarning: One or more of the test scores are non-finite: [       nan 0.74485294 0.73970588 0.31838235 0.70294118 0.63014706\n",
      " 0.61176471 0.74448529        nan        nan]\n",
      "  warnings.warn(\n"
     ]
    },
    {
     "name": "stdout",
     "output_type": "stream",
     "text": [
      "Fitting 10 folds for each of 10 candidates, totalling 100 fits\n"
     ]
    },
    {
     "name": "stderr",
     "output_type": "stream",
     "text": [
      "/usr/local/lib/python3.9/site-packages/sklearn/model_selection/_search.py:922: UserWarning: One or more of the test scores are non-finite: [0.73897059 0.61801471        nan        nan 0.72132353 0.73308824\n",
      " 0.66654412 0.75147059 0.72683824 0.75110294]\n",
      "  warnings.warn(\n"
     ]
    },
    {
     "name": "stdout",
     "output_type": "stream",
     "text": [
      "Fitting 10 folds for each of 10 candidates, totalling 100 fits\n"
     ]
    },
    {
     "name": "stderr",
     "output_type": "stream",
     "text": [
      "/usr/local/lib/python3.9/site-packages/sklearn/model_selection/_search.py:922: UserWarning: One or more of the test scores are non-finite: [       nan 0.72720588 0.73382353        nan 0.69080882 0.74595588\n",
      " 0.65367647 0.56323529 0.73933824        nan]\n",
      "  warnings.warn(\n"
     ]
    },
    {
     "name": "stdout",
     "output_type": "stream",
     "text": [
      "Fitting 10 folds for each of 10 candidates, totalling 100 fits\n"
     ]
    },
    {
     "name": "stderr",
     "output_type": "stream",
     "text": [
      "/usr/local/lib/python3.9/site-packages/sklearn/model_selection/_search.py:922: UserWarning: One or more of the test scores are non-finite: [0.73308824        nan 0.75183824        nan 0.60551471        nan\n",
      " 0.59301471        nan 0.76323529        nan]\n",
      "  warnings.warn(\n"
     ]
    },
    {
     "name": "stdout",
     "output_type": "stream",
     "text": [
      "Fitting 10 folds for each of 10 candidates, totalling 100 fits\n"
     ]
    },
    {
     "name": "stderr",
     "output_type": "stream",
     "text": [
      "/usr/local/lib/python3.9/site-packages/sklearn/model_selection/_search.py:922: UserWarning: One or more of the test scores are non-finite: [       nan 0.72205882        nan 0.75808824 0.72720588        nan\n",
      " 0.61801471 0.72242647        nan 0.76948529]\n",
      "  warnings.warn(\n"
     ]
    },
    {
     "name": "stdout",
     "output_type": "stream",
     "text": [
      "Fitting 10 folds for each of 10 candidates, totalling 100 fits\n"
     ]
    },
    {
     "name": "stderr",
     "output_type": "stream",
     "text": [
      "/usr/local/lib/python3.9/site-packages/sklearn/model_selection/_search.py:922: UserWarning: One or more of the test scores are non-finite: [       nan 0.58713235 0.64191176        nan        nan 0.68455882\n",
      " 0.67867647 0.61764706        nan 0.76948529]\n",
      "  warnings.warn(\n"
     ]
    },
    {
     "name": "stdout",
     "output_type": "stream",
     "text": [
      "Fitting 10 folds for each of 10 candidates, totalling 100 fits\n"
     ]
    },
    {
     "name": "stderr",
     "output_type": "stream",
     "text": [
      "/usr/local/lib/python3.9/site-packages/sklearn/model_selection/_search.py:922: UserWarning: One or more of the test scores are non-finite: [       nan        nan 0.64227941        nan 0.74485294        nan\n",
      " 0.74558824 0.59338235 0.73933824 0.70845588]\n",
      "  warnings.warn(\n"
     ]
    },
    {
     "name": "stdout",
     "output_type": "stream",
     "text": [
      "Fitting 10 folds for each of 10 candidates, totalling 100 fits\n"
     ]
    },
    {
     "name": "stderr",
     "output_type": "stream",
     "text": [
      "/usr/local/lib/python3.9/site-packages/sklearn/model_selection/_search.py:922: UserWarning: One or more of the test scores are non-finite: [0.67830882 0.65367647 0.62977941        nan 0.66029412 0.69080882\n",
      "        nan 0.61139706        nan 0.73897059]\n",
      "  warnings.warn(\n"
     ]
    },
    {
     "name": "stdout",
     "output_type": "stream",
     "text": [
      "Fitting 10 folds for each of 10 candidates, totalling 100 fits\n"
     ]
    },
    {
     "name": "stderr",
     "output_type": "stream",
     "text": [
      "/usr/local/lib/python3.9/site-packages/sklearn/model_selection/_search.py:922: UserWarning: One or more of the test scores are non-finite: [       nan 0.29632353 0.72757353 0.70330882        nan        nan\n",
      " 0.71544118 0.66066176 0.63566176 0.59448529]\n",
      "  warnings.warn(\n"
     ]
    },
    {
     "name": "stdout",
     "output_type": "stream",
     "text": [
      "Fitting 10 folds for each of 10 candidates, totalling 100 fits\n"
     ]
    },
    {
     "name": "stderr",
     "output_type": "stream",
     "text": [
      "/usr/local/lib/python3.9/site-packages/sklearn/model_selection/_search.py:922: UserWarning: One or more of the test scores are non-finite: [0.73308824        nan 0.66029412 0.58125           nan        nan\n",
      " 0.62352941 0.69632353        nan 0.58713235]\n",
      "  warnings.warn(\n"
     ]
    },
    {
     "name": "stdout",
     "output_type": "stream",
     "text": [
      "Fitting 10 folds for each of 10 candidates, totalling 100 fits\n"
     ]
    },
    {
     "name": "stderr",
     "output_type": "stream",
     "text": [
      "/usr/local/lib/python3.9/site-packages/sklearn/model_selection/_search.py:922: UserWarning: One or more of the test scores are non-finite: [0.62941176 0.75808824        nan 0.70294118 0.575      0.69742647\n",
      "        nan        nan        nan        nan]\n",
      "  warnings.warn(\n"
     ]
    },
    {
     "name": "stdout",
     "output_type": "stream",
     "text": [
      "Fitting 10 folds for each of 10 candidates, totalling 100 fits\n"
     ]
    },
    {
     "name": "stderr",
     "output_type": "stream",
     "text": [
      "/usr/local/lib/python3.9/site-packages/sklearn/model_selection/_search.py:922: UserWarning: One or more of the test scores are non-finite: [0.64191176 0.60625           nan        nan        nan 0.70919118\n",
      "        nan 0.73345588 0.64816176 0.75735294]\n",
      "  warnings.warn(\n"
     ]
    },
    {
     "name": "stdout",
     "output_type": "stream",
     "text": [
      "Fitting 10 folds for each of 10 candidates, totalling 100 fits\n"
     ]
    },
    {
     "name": "stderr",
     "output_type": "stream",
     "text": [
      "/usr/local/lib/python3.9/site-packages/sklearn/model_selection/_search.py:922: UserWarning: One or more of the test scores are non-finite: [0.72794118 0.72720588 0.76470588        nan        nan        nan\n",
      " 0.65367647 0.74522059        nan        nan]\n",
      "  warnings.warn(\n"
     ]
    },
    {
     "name": "stdout",
     "output_type": "stream",
     "text": [
      "Fitting 10 folds for each of 10 candidates, totalling 100 fits\n"
     ]
    },
    {
     "name": "stderr",
     "output_type": "stream",
     "text": [
      "/usr/local/lib/python3.9/site-packages/sklearn/model_selection/_search.py:922: UserWarning: One or more of the test scores are non-finite: [0.33860294 0.70257353 0.60477941 0.68492647 0.72647059        nan\n",
      " 0.64154412        nan        nan 0.65441176]\n",
      "  warnings.warn(\n"
     ]
    },
    {
     "name": "stdout",
     "output_type": "stream",
     "text": [
      "Fitting 10 folds for each of 10 candidates, totalling 100 fits\n"
     ]
    },
    {
     "name": "stderr",
     "output_type": "stream",
     "text": [
      "/usr/local/lib/python3.9/site-packages/sklearn/model_selection/_search.py:922: UserWarning: One or more of the test scores are non-finite: [0.76323529        nan 0.72720588 0.77610294        nan 0.64816176\n",
      "        nan 0.58198529 0.58125    0.61764706]\n",
      "  warnings.warn(\n"
     ]
    },
    {
     "name": "stdout",
     "output_type": "stream",
     "text": [
      "Fitting 10 folds for each of 10 candidates, totalling 100 fits\n"
     ]
    },
    {
     "name": "stderr",
     "output_type": "stream",
     "text": [
      "/usr/local/lib/python3.9/site-packages/sklearn/model_selection/_search.py:922: UserWarning: One or more of the test scores are non-finite: [0.76360294        nan 0.73860294        nan 0.60551471 0.72647059\n",
      " 0.59963235 0.66580882 0.72720588 0.75110294]\n",
      "  warnings.warn(\n"
     ]
    },
    {
     "name": "stdout",
     "output_type": "stream",
     "text": [
      "Fitting 10 folds for each of 10 candidates, totalling 100 fits\n"
     ]
    },
    {
     "name": "stderr",
     "output_type": "stream",
     "text": [
      "/usr/local/lib/python3.9/site-packages/sklearn/model_selection/_search.py:922: UserWarning: One or more of the test scores are non-finite: [0.63602941        nan        nan 0.75110294        nan 0.72095588\n",
      " 0.64227941 0.73308824 0.73897059 0.75147059]\n",
      "  warnings.warn(\n"
     ]
    },
    {
     "name": "stdout",
     "output_type": "stream",
     "text": [
      "Fitting 10 folds for each of 10 candidates, totalling 100 fits\n"
     ]
    },
    {
     "name": "stderr",
     "output_type": "stream",
     "text": [
      "/usr/local/lib/python3.9/site-packages/sklearn/model_selection/_search.py:922: UserWarning: One or more of the test scores are non-finite: [       nan        nan 0.75110294        nan 0.58933824 0.76323529\n",
      " 0.66029412 0.74522059 0.74558824 0.75147059]\n",
      "  warnings.warn(\n"
     ]
    },
    {
     "name": "stdout",
     "output_type": "stream",
     "text": [
      "Fitting 10 folds for each of 10 candidates, totalling 100 fits\n"
     ]
    },
    {
     "name": "stderr",
     "output_type": "stream",
     "text": [
      "/usr/local/lib/python3.9/site-packages/sklearn/model_selection/_search.py:922: UserWarning: One or more of the test scores are non-finite: [0.73345588 0.61213235 0.75772059 0.73933824 0.74558824 0.64227941\n",
      "        nan 0.64227941 0.75698529        nan]\n",
      "  warnings.warn(\n"
     ]
    },
    {
     "name": "stdout",
     "output_type": "stream",
     "text": [
      "Fitting 10 folds for each of 10 candidates, totalling 100 fits\n"
     ]
    },
    {
     "name": "stderr",
     "output_type": "stream",
     "text": [
      "/usr/local/lib/python3.9/site-packages/sklearn/model_selection/_search.py:922: UserWarning: One or more of the test scores are non-finite: [       nan 0.70845588 0.75110294        nan        nan        nan\n",
      "        nan 0.33382353 0.71470588 0.73345588]\n",
      "  warnings.warn(\n"
     ]
    },
    {
     "name": "stdout",
     "output_type": "stream",
     "text": [
      "Fitting 10 folds for each of 10 candidates, totalling 100 fits\n"
     ]
    },
    {
     "name": "stderr",
     "output_type": "stream",
     "text": [
      "/usr/local/lib/python3.9/site-packages/sklearn/model_selection/_search.py:922: UserWarning: One or more of the test scores are non-finite: [0.66654412 0.67904412 0.75147059 0.73308824        nan 0.75772059\n",
      "        nan 0.72169118        nan 0.64816176]\n",
      "  warnings.warn(\n"
     ]
    },
    {
     "name": "stdout",
     "output_type": "stream",
     "text": [
      "Fitting 10 folds for each of 10 candidates, totalling 100 fits\n"
     ]
    },
    {
     "name": "stderr",
     "output_type": "stream",
     "text": [
      "/usr/local/lib/python3.9/site-packages/sklearn/model_selection/_search.py:922: UserWarning: One or more of the test scores are non-finite: [0.69705882 0.75183824        nan 0.75147059        nan 0.74522059\n",
      " 0.74485294        nan        nan        nan]\n",
      "  warnings.warn(\n"
     ]
    },
    {
     "name": "stdout",
     "output_type": "stream",
     "text": [
      "Fitting 10 folds for each of 10 candidates, totalling 100 fits\n"
     ]
    },
    {
     "name": "stderr",
     "output_type": "stream",
     "text": [
      "/usr/local/lib/python3.9/site-packages/sklearn/model_selection/_search.py:922: UserWarning: One or more of the test scores are non-finite: [0.73897059 0.76360294 0.63566176 0.53897059        nan        nan\n",
      "        nan 0.60661765        nan 0.73860294]\n",
      "  warnings.warn(\n"
     ]
    },
    {
     "name": "stdout",
     "output_type": "stream",
     "text": [
      "Fitting 10 folds for each of 10 candidates, totalling 100 fits\n"
     ]
    },
    {
     "name": "stderr",
     "output_type": "stream",
     "text": [
      "/usr/local/lib/python3.9/site-packages/sklearn/model_selection/_search.py:922: UserWarning: One or more of the test scores are non-finite: [       nan 0.72683824 0.70955882        nan        nan 0.58088235\n",
      "        nan 0.61176471        nan        nan]\n",
      "  warnings.warn(\n"
     ]
    },
    {
     "name": "stdout",
     "output_type": "stream",
     "text": [
      "Fitting 10 folds for each of 10 candidates, totalling 100 fits\n"
     ]
    },
    {
     "name": "stderr",
     "output_type": "stream",
     "text": [
      "/usr/local/lib/python3.9/site-packages/sklearn/model_selection/_search.py:922: UserWarning: One or more of the test scores are non-finite: [0.60441176 0.64852941 0.74558824 0.72169118 0.72683824 0.61176471\n",
      " 0.69705882        nan 0.62389706        nan]\n",
      "  warnings.warn(\n"
     ]
    },
    {
     "name": "stdout",
     "output_type": "stream",
     "text": [
      "Fitting 10 folds for each of 10 candidates, totalling 100 fits\n"
     ]
    },
    {
     "name": "stderr",
     "output_type": "stream",
     "text": [
      "/usr/local/lib/python3.9/site-packages/sklearn/model_selection/_search.py:922: UserWarning: One or more of the test scores are non-finite: [0.73933824        nan        nan 0.66727941 0.74522059 0.61066176\n",
      "        nan        nan 0.73970588        nan]\n",
      "  warnings.warn(\n"
     ]
    },
    {
     "name": "stdout",
     "output_type": "stream",
     "text": [
      "Fitting 10 folds for each of 10 candidates, totalling 100 fits\n"
     ]
    },
    {
     "name": "stderr",
     "output_type": "stream",
     "text": [
      "/usr/local/lib/python3.9/site-packages/sklearn/model_selection/_search.py:922: UserWarning: One or more of the test scores are non-finite: [       nan 0.68308824        nan        nan        nan 0.75735294\n",
      " 0.76397059 0.72095588 0.73897059        nan]\n",
      "  warnings.warn(\n"
     ]
    },
    {
     "name": "stdout",
     "output_type": "stream",
     "text": [
      "Fitting 10 folds for each of 10 candidates, totalling 100 fits\n"
     ]
    },
    {
     "name": "stderr",
     "output_type": "stream",
     "text": [
      "/usr/local/lib/python3.9/site-packages/sklearn/model_selection/_search.py:922: UserWarning: One or more of the test scores are non-finite: [0.56323529 0.64779412 0.72720588 0.76948529        nan 0.77022059\n",
      "        nan        nan 0.67242647 0.67242647]\n",
      "  warnings.warn(\n"
     ]
    },
    {
     "name": "stdout",
     "output_type": "stream",
     "text": [
      "Fitting 10 folds for each of 10 candidates, totalling 100 fits\n"
     ]
    },
    {
     "name": "stderr",
     "output_type": "stream",
     "text": [
      "/usr/local/lib/python3.9/site-packages/sklearn/model_selection/_search.py:922: UserWarning: One or more of the test scores are non-finite: [0.59338235 0.72720588 0.76360294        nan        nan        nan\n",
      "        nan 0.67830882 0.73933824 0.73897059]\n",
      "  warnings.warn(\n"
     ]
    },
    {
     "name": "stdout",
     "output_type": "stream",
     "text": [
      "Fitting 10 folds for each of 10 candidates, totalling 100 fits\n"
     ]
    },
    {
     "name": "stderr",
     "output_type": "stream",
     "text": [
      "/usr/local/lib/python3.9/site-packages/sklearn/model_selection/_search.py:922: UserWarning: One or more of the test scores are non-finite: [0.61764706        nan 0.74595588 0.72720588 0.48455882 0.67830882\n",
      " 0.64264706 0.73860294        nan 0.72058824]\n",
      "  warnings.warn(\n"
     ]
    },
    {
     "name": "stdout",
     "output_type": "stream",
     "text": [
      "Fitting 10 folds for each of 10 candidates, totalling 100 fits\n"
     ]
    },
    {
     "name": "stderr",
     "output_type": "stream",
     "text": [
      "/usr/local/lib/python3.9/site-packages/sklearn/model_selection/_search.py:922: UserWarning: One or more of the test scores are non-finite: [       nan        nan        nan 0.72683824 0.73933824 0.73897059\n",
      " 0.67279412 0.61102941 0.63602941 0.60036765]\n",
      "  warnings.warn(\n"
     ]
    },
    {
     "name": "stdout",
     "output_type": "stream",
     "text": [
      "Fitting 10 folds for each of 10 candidates, totalling 100 fits\n"
     ]
    },
    {
     "name": "stderr",
     "output_type": "stream",
     "text": [
      "/usr/local/lib/python3.9/site-packages/sklearn/model_selection/_search.py:922: UserWarning: One or more of the test scores are non-finite: [       nan 0.61176471        nan 0.62389706 0.61176471        nan\n",
      "        nan 0.27904412        nan 0.69117647]\n",
      "  warnings.warn(\n"
     ]
    },
    {
     "name": "stdout",
     "output_type": "stream",
     "text": [
      "Fitting 10 folds for each of 10 candidates, totalling 100 fits\n"
     ]
    },
    {
     "name": "stderr",
     "output_type": "stream",
     "text": [
      "/usr/local/lib/python3.9/site-packages/sklearn/model_selection/_search.py:922: UserWarning: One or more of the test scores are non-finite: [0.62352941        nan 0.75698529        nan        nan 0.71470588\n",
      " 0.66580882 0.75772059        nan 0.72132353]\n",
      "  warnings.warn(\n"
     ]
    },
    {
     "name": "stdout",
     "output_type": "stream",
     "text": [
      "Fitting 10 folds for each of 10 candidates, totalling 100 fits\n"
     ]
    },
    {
     "name": "stderr",
     "output_type": "stream",
     "text": [
      "/usr/local/lib/python3.9/site-packages/sklearn/model_selection/_search.py:922: UserWarning: One or more of the test scores are non-finite: [0.70919118 0.57463235        nan 0.58676471        nan 0.59889706\n",
      " 0.73970588 0.73345588 0.65441176 0.75147059]\n",
      "  warnings.warn(\n"
     ]
    },
    {
     "name": "stdout",
     "output_type": "stream",
     "text": [
      "Fitting 10 folds for each of 10 candidates, totalling 100 fits\n"
     ]
    },
    {
     "name": "stderr",
     "output_type": "stream",
     "text": [
      "/usr/local/lib/python3.9/site-packages/sklearn/model_selection/_search.py:922: UserWarning: One or more of the test scores are non-finite: [       nan        nan        nan        nan 0.66029412        nan\n",
      " 0.73419118 0.62867647 0.74558824        nan]\n",
      "  warnings.warn(\n"
     ]
    },
    {
     "name": "stdout",
     "output_type": "stream",
     "text": [
      "Fitting 10 folds for each of 10 candidates, totalling 100 fits\n"
     ]
    },
    {
     "name": "stderr",
     "output_type": "stream",
     "text": [
      "/usr/local/lib/python3.9/site-packages/sklearn/model_selection/_search.py:922: UserWarning: One or more of the test scores are non-finite: [       nan 0.72132353 0.73308824        nan 0.71470588 0.73308824\n",
      " 0.64191176        nan 0.65625    0.69080882]\n",
      "  warnings.warn(\n"
     ]
    },
    {
     "name": "stdout",
     "output_type": "stream",
     "text": [
      "Fitting 10 folds for each of 10 candidates, totalling 100 fits\n"
     ]
    },
    {
     "name": "stderr",
     "output_type": "stream",
     "text": [
      "/usr/local/lib/python3.9/site-packages/sklearn/model_selection/_search.py:922: UserWarning: One or more of the test scores are non-finite: [       nan        nan 0.67830882        nan 0.26029412        nan\n",
      " 0.75698529        nan 0.76948529 0.64852941]\n",
      "  warnings.warn(\n"
     ]
    },
    {
     "name": "stdout",
     "output_type": "stream",
     "text": [
      "Fitting 10 folds for each of 10 candidates, totalling 100 fits\n"
     ]
    },
    {
     "name": "stderr",
     "output_type": "stream",
     "text": [
      "/usr/local/lib/python3.9/site-packages/sklearn/model_selection/_search.py:922: UserWarning: One or more of the test scores are non-finite: [       nan 0.76323529 0.70882353        nan 0.73345588        nan\n",
      " 0.52095588        nan 0.73933824 0.62389706]\n",
      "  warnings.warn(\n"
     ]
    },
    {
     "name": "stdout",
     "output_type": "stream",
     "text": [
      "Fitting 10 folds for each of 10 candidates, totalling 100 fits\n"
     ]
    },
    {
     "name": "stderr",
     "output_type": "stream",
     "text": [
      "/usr/local/lib/python3.9/site-packages/sklearn/model_selection/_search.py:922: UserWarning: One or more of the test scores are non-finite: [0.61727941 0.73308824 0.68455882 0.70330882 0.75147059        nan\n",
      "        nan 0.72683824        nan        nan]\n",
      "  warnings.warn(\n"
     ]
    },
    {
     "name": "stdout",
     "output_type": "stream",
     "text": [
      "Fitting 10 folds for each of 10 candidates, totalling 100 fits\n"
     ]
    },
    {
     "name": "stderr",
     "output_type": "stream",
     "text": [
      "/usr/local/lib/python3.9/site-packages/sklearn/model_selection/_search.py:922: UserWarning: One or more of the test scores are non-finite: [       nan        nan        nan 0.63566176 0.67904412        nan\n",
      " 0.62977941 0.73970588 0.69117647 0.52169118]\n",
      "  warnings.warn(\n"
     ]
    },
    {
     "name": "stdout",
     "output_type": "stream",
     "text": [
      "Fitting 10 folds for each of 10 candidates, totalling 100 fits\n",
      "Fitting 10 folds for each of 10 candidates, totalling 100 fits\n"
     ]
    },
    {
     "name": "stderr",
     "output_type": "stream",
     "text": [
      "/usr/local/lib/python3.9/site-packages/sklearn/model_selection/_search.py:922: UserWarning: One or more of the test scores are non-finite: [       nan 0.69705882        nan 0.69669118        nan 0.74558824\n",
      "        nan 0.75772059        nan        nan]\n",
      "  warnings.warn(\n"
     ]
    },
    {
     "name": "stdout",
     "output_type": "stream",
     "text": [
      "Fitting 10 folds for each of 10 candidates, totalling 100 fits\n"
     ]
    },
    {
     "name": "stderr",
     "output_type": "stream",
     "text": [
      "/usr/local/lib/python3.9/site-packages/sklearn/model_selection/_search.py:922: UserWarning: One or more of the test scores are non-finite: [0.57536765 0.62977941 0.49669118 0.66691176 0.62941176 0.63529412\n",
      "        nan 0.73933824 0.59375    0.68455882]\n",
      "  warnings.warn(\n"
     ]
    },
    {
     "name": "stdout",
     "output_type": "stream",
     "text": [
      "Fitting 10 folds for each of 10 candidates, totalling 100 fits\n"
     ]
    },
    {
     "name": "stderr",
     "output_type": "stream",
     "text": [
      "/usr/local/lib/python3.9/site-packages/sklearn/model_selection/_search.py:922: UserWarning: One or more of the test scores are non-finite: [       nan        nan        nan 0.75735294 0.74595588 0.73933824\n",
      " 0.71507353 0.58713235 0.6125     0.72095588]\n",
      "  warnings.warn(\n"
     ]
    },
    {
     "name": "stdout",
     "output_type": "stream",
     "text": [
      "Fitting 10 folds for each of 10 candidates, totalling 100 fits\n"
     ]
    },
    {
     "name": "stderr",
     "output_type": "stream",
     "text": [
      "/usr/local/lib/python3.9/site-packages/sklearn/model_selection/_search.py:922: UserWarning: One or more of the test scores are non-finite: [0.67279412        nan 0.73933824        nan 0.5875     0.73345588\n",
      " 0.62389706        nan        nan 0.72058824]\n",
      "  warnings.warn(\n"
     ]
    },
    {
     "name": "stdout",
     "output_type": "stream",
     "text": [
      "Fitting 10 folds for each of 10 candidates, totalling 100 fits\n"
     ]
    },
    {
     "name": "stderr",
     "output_type": "stream",
     "text": [
      "/usr/local/lib/python3.9/site-packages/sklearn/model_selection/_search.py:922: UserWarning: One or more of the test scores are non-finite: [       nan 0.58713235 0.61176471 0.56948529 0.69044118 0.5875\n",
      " 0.68492647 0.73933824        nan 0.61176471]\n",
      "  warnings.warn(\n"
     ]
    },
    {
     "name": "stdout",
     "output_type": "stream",
     "text": [
      "Fitting 10 folds for each of 10 candidates, totalling 100 fits\n"
     ]
    },
    {
     "name": "stderr",
     "output_type": "stream",
     "text": [
      "/usr/local/lib/python3.9/site-packages/sklearn/model_selection/_search.py:922: UserWarning: One or more of the test scores are non-finite: [0.58639706        nan 0.60514706 0.72794118 0.72757353        nan\n",
      " 0.67279412 0.72132353        nan 0.61801471]\n",
      "  warnings.warn(\n"
     ]
    },
    {
     "name": "stdout",
     "output_type": "stream",
     "text": [
      "Fitting 10 folds for each of 10 candidates, totalling 100 fits\n"
     ]
    },
    {
     "name": "stderr",
     "output_type": "stream",
     "text": [
      "/usr/local/lib/python3.9/site-packages/sklearn/model_selection/_search.py:922: UserWarning: One or more of the test scores are non-finite: [       nan 0.72022059 0.75845588 0.56838235        nan        nan\n",
      " 0.72095588        nan        nan        nan]\n",
      "  warnings.warn(\n"
     ]
    },
    {
     "name": "stdout",
     "output_type": "stream",
     "text": [
      "Fitting 10 folds for each of 10 candidates, totalling 100 fits\n"
     ]
    },
    {
     "name": "stderr",
     "output_type": "stream",
     "text": [
      "/usr/local/lib/python3.9/site-packages/sklearn/model_selection/_search.py:922: UserWarning: One or more of the test scores are non-finite: [0.73897059        nan 0.63014706        nan        nan        nan\n",
      " 0.72095588 0.72132353        nan 0.36102941]\n",
      "  warnings.warn(\n"
     ]
    },
    {
     "name": "stdout",
     "output_type": "stream",
     "text": [
      "Fitting 10 folds for each of 10 candidates, totalling 100 fits\n"
     ]
    },
    {
     "name": "stderr",
     "output_type": "stream",
     "text": [
      "/usr/local/lib/python3.9/site-packages/sklearn/model_selection/_search.py:922: UserWarning: One or more of the test scores are non-finite: [0.74522059 0.63639706 0.74522059        nan        nan 0.73933824\n",
      " 0.50257353 0.76323529 0.59889706 0.73970588]\n",
      "  warnings.warn(\n"
     ]
    },
    {
     "name": "stdout",
     "output_type": "stream",
     "text": [
      "Fitting 10 folds for each of 10 candidates, totalling 100 fits\n"
     ]
    },
    {
     "name": "stderr",
     "output_type": "stream",
     "text": [
      "/usr/local/lib/python3.9/site-packages/sklearn/model_selection/_search.py:922: UserWarning: One or more of the test scores are non-finite: [       nan        nan 0.66617647 0.71507353        nan        nan\n",
      " 0.64117647        nan        nan 0.75183824]\n",
      "  warnings.warn(\n"
     ]
    },
    {
     "name": "stdout",
     "output_type": "stream",
     "text": [
      "Fitting 10 folds for each of 10 candidates, totalling 100 fits\n"
     ]
    },
    {
     "name": "stderr",
     "output_type": "stream",
     "text": [
      "/usr/local/lib/python3.9/site-packages/sklearn/model_selection/_search.py:922: UserWarning: One or more of the test scores are non-finite: [       nan        nan 0.64154412 0.69669118 0.74522059 0.70919118\n",
      "        nan 0.64191176 0.64779412 0.73235294]\n",
      "  warnings.warn(\n"
     ]
    },
    {
     "name": "stdout",
     "output_type": "stream",
     "text": [
      "Fitting 10 folds for each of 10 candidates, totalling 100 fits\n"
     ]
    },
    {
     "name": "stderr",
     "output_type": "stream",
     "text": [
      "/usr/local/lib/python3.9/site-packages/sklearn/model_selection/_search.py:922: UserWarning: One or more of the test scores are non-finite: [       nan        nan 0.73897059 0.75772059 0.57463235 0.63014706\n",
      "        nan 0.73382353 0.58125    0.73308824]\n",
      "  warnings.warn(\n"
     ]
    },
    {
     "name": "stdout",
     "output_type": "stream",
     "text": [
      "Fitting 10 folds for each of 10 candidates, totalling 100 fits\n"
     ]
    },
    {
     "name": "stderr",
     "output_type": "stream",
     "text": [
      "/usr/local/lib/python3.9/site-packages/sklearn/model_selection/_search.py:922: UserWarning: One or more of the test scores are non-finite: [0.73897059        nan 0.58161765 0.73272059        nan        nan\n",
      " 0.76360294 0.71507353 0.73933824        nan]\n",
      "  warnings.warn(\n"
     ]
    },
    {
     "name": "stdout",
     "output_type": "stream",
     "text": [
      "Fitting 10 folds for each of 10 candidates, totalling 100 fits\n"
     ]
    },
    {
     "name": "stderr",
     "output_type": "stream",
     "text": [
      "/usr/local/lib/python3.9/site-packages/sklearn/model_selection/_search.py:922: UserWarning: One or more of the test scores are non-finite: [0.71433824 0.68492647 0.65477941 0.72683824 0.73970588        nan\n",
      " 0.61176471        nan 0.65404412        nan]\n",
      "  warnings.warn(\n"
     ]
    },
    {
     "name": "stdout",
     "output_type": "stream",
     "text": [
      "Fitting 10 folds for each of 10 candidates, totalling 100 fits\n"
     ]
    },
    {
     "name": "stderr",
     "output_type": "stream",
     "text": [
      "/usr/local/lib/python3.9/site-packages/sklearn/model_selection/_search.py:922: UserWarning: One or more of the test scores are non-finite: [0.46544118 0.69669118        nan        nan 0.58786765 0.75147059\n",
      " 0.69669118 0.44705882        nan 0.76397059]\n",
      "  warnings.warn(\n"
     ]
    },
    {
     "name": "stdout",
     "output_type": "stream",
     "text": [
      "Fitting 10 folds for each of 10 candidates, totalling 100 fits\n"
     ]
    },
    {
     "name": "stderr",
     "output_type": "stream",
     "text": [
      "/usr/local/lib/python3.9/site-packages/sklearn/model_selection/_search.py:922: UserWarning: One or more of the test scores are non-finite: [0.58088235        nan 0.75147059        nan 0.73308824 0.73970588\n",
      " 0.62352941        nan        nan 0.73272059]\n",
      "  warnings.warn(\n"
     ]
    },
    {
     "name": "stdout",
     "output_type": "stream",
     "text": [
      "Fitting 10 folds for each of 10 candidates, totalling 100 fits\n"
     ]
    },
    {
     "name": "stderr",
     "output_type": "stream",
     "text": [
      "/usr/local/lib/python3.9/site-packages/sklearn/model_selection/_search.py:922: UserWarning: One or more of the test scores are non-finite: [       nan        nan 0.59375    0.58125    0.58125           nan\n",
      "        nan        nan 0.69669118        nan]\n",
      "  warnings.warn(\n"
     ]
    },
    {
     "name": "stdout",
     "output_type": "stream",
     "text": [
      "Fitting 10 folds for each of 10 candidates, totalling 100 fits\n"
     ]
    },
    {
     "name": "stderr",
     "output_type": "stream",
     "text": [
      "/usr/local/lib/python3.9/site-packages/sklearn/model_selection/_search.py:922: UserWarning: One or more of the test scores are non-finite: [       nan 0.62389706 0.64779412 0.73272059 0.76323529        nan\n",
      " 0.75147059 0.72683824 0.76911765 0.60551471]\n",
      "  warnings.warn(\n"
     ]
    },
    {
     "name": "stdout",
     "output_type": "stream",
     "text": [
      "Fitting 10 folds for each of 10 candidates, totalling 100 fits\n"
     ]
    },
    {
     "name": "stderr",
     "output_type": "stream",
     "text": [
      "/usr/local/lib/python3.9/site-packages/sklearn/model_selection/_search.py:922: UserWarning: One or more of the test scores are non-finite: [0.73308824 0.72132353        nan 0.73272059 0.69705882 0.62426471\n",
      " 0.65404412 0.71470588        nan 0.70257353]\n",
      "  warnings.warn(\n"
     ]
    },
    {
     "name": "stdout",
     "output_type": "stream",
     "text": [
      "Fitting 10 folds for each of 10 candidates, totalling 100 fits\n"
     ]
    },
    {
     "name": "stderr",
     "output_type": "stream",
     "text": [
      "/usr/local/lib/python3.9/site-packages/sklearn/model_selection/_search.py:922: UserWarning: One or more of the test scores are non-finite: [0.75698529        nan 0.70919118        nan 0.65919118        nan\n",
      " 0.67867647 0.72720588 0.65404412 0.73382353]\n",
      "  warnings.warn(\n"
     ]
    },
    {
     "name": "stdout",
     "output_type": "stream",
     "text": [
      "Fitting 10 folds for each of 10 candidates, totalling 100 fits\n"
     ]
    },
    {
     "name": "stderr",
     "output_type": "stream",
     "text": [
      "/usr/local/lib/python3.9/site-packages/sklearn/model_selection/_search.py:922: UserWarning: One or more of the test scores are non-finite: [0.58161765        nan 0.74558824 0.65992647        nan 0.63014706\n",
      "        nan 0.70882353        nan 0.73308824]\n",
      "  warnings.warn(\n"
     ]
    },
    {
     "name": "stdout",
     "output_type": "stream",
     "text": [
      "Fitting 10 folds for each of 10 candidates, totalling 100 fits\n"
     ]
    },
    {
     "name": "stderr",
     "output_type": "stream",
     "text": [
      "/usr/local/lib/python3.9/site-packages/sklearn/model_selection/_search.py:922: UserWarning: One or more of the test scores are non-finite: [0.71507353        nan        nan        nan 0.72132353 0.69044118\n",
      "        nan 0.54595588 0.76948529        nan]\n",
      "  warnings.warn(\n"
     ]
    },
    {
     "name": "stdout",
     "output_type": "stream",
     "text": [
      "Fitting 10 folds for each of 10 candidates, totalling 100 fits\n"
     ]
    },
    {
     "name": "stderr",
     "output_type": "stream",
     "text": [
      "/usr/local/lib/python3.9/site-packages/sklearn/model_selection/_search.py:922: UserWarning: One or more of the test scores are non-finite: [0.75183824 0.70220588        nan 0.61727941 0.65992647        nan\n",
      " 0.75698529 0.75735294 0.71470588 0.60551471]\n",
      "  warnings.warn(\n"
     ]
    },
    {
     "name": "stdout",
     "output_type": "stream",
     "text": [
      "Fitting 10 folds for each of 10 candidates, totalling 100 fits\n"
     ]
    },
    {
     "name": "stderr",
     "output_type": "stream",
     "text": [
      "/usr/local/lib/python3.9/site-packages/sklearn/model_selection/_search.py:922: UserWarning: One or more of the test scores are non-finite: [       nan        nan 0.73235294        nan 0.70882353        nan\n",
      " 0.44117647        nan 0.72720588        nan]\n",
      "  warnings.warn(\n"
     ]
    },
    {
     "name": "stdout",
     "output_type": "stream",
     "text": [
      "Fitting 10 folds for each of 10 candidates, totalling 100 fits\n"
     ]
    },
    {
     "name": "stderr",
     "output_type": "stream",
     "text": [
      "/usr/local/lib/python3.9/site-packages/sklearn/model_selection/_search.py:922: UserWarning: One or more of the test scores are non-finite: [       nan 0.74485294 0.67830882 0.73897059 0.75110294 0.73308824\n",
      "        nan 0.63014706        nan 0.71507353]\n",
      "  warnings.warn(\n"
     ]
    },
    {
     "name": "stdout",
     "output_type": "stream",
     "text": [
      "Fitting 10 folds for each of 10 candidates, totalling 100 fits\n"
     ]
    },
    {
     "name": "stderr",
     "output_type": "stream",
     "text": [
      "/usr/local/lib/python3.9/site-packages/sklearn/model_selection/_search.py:922: UserWarning: One or more of the test scores are non-finite: [       nan 0.58823529 0.61213235 0.65955882        nan 0.72757353\n",
      " 0.69117647 0.71470588 0.72757353        nan]\n",
      "  warnings.warn(\n"
     ]
    },
    {
     "name": "stdout",
     "output_type": "stream",
     "text": [
      "Fitting 10 folds for each of 10 candidates, totalling 100 fits\n"
     ]
    },
    {
     "name": "stderr",
     "output_type": "stream",
     "text": [
      "/usr/local/lib/python3.9/site-packages/sklearn/model_selection/_search.py:922: UserWarning: One or more of the test scores are non-finite: [       nan 0.36176471 0.73345588 0.69080882        nan 0.72095588\n",
      "        nan        nan 0.58676471        nan]\n",
      "  warnings.warn(\n"
     ]
    },
    {
     "name": "stdout",
     "output_type": "stream",
     "text": [
      "Fitting 10 folds for each of 10 candidates, totalling 100 fits\n"
     ]
    },
    {
     "name": "stderr",
     "output_type": "stream",
     "text": [
      "/usr/local/lib/python3.9/site-packages/sklearn/model_selection/_search.py:922: UserWarning: One or more of the test scores are non-finite: [0.62977941 0.73933824 0.75735294 0.60625    0.73933824 0.68419118\n",
      "        nan 0.66654412        nan        nan]\n",
      "  warnings.warn(\n"
     ]
    },
    {
     "name": "stdout",
     "output_type": "stream",
     "text": [
      "Fitting 10 folds for each of 10 candidates, totalling 100 fits\n"
     ]
    },
    {
     "name": "stderr",
     "output_type": "stream",
     "text": [
      "/usr/local/lib/python3.9/site-packages/sklearn/model_selection/_search.py:922: UserWarning: One or more of the test scores are non-finite: [       nan 0.67205882        nan 0.74522059 0.25330882 0.62389706\n",
      " 0.68566176        nan 0.61102941        nan]\n",
      "  warnings.warn(\n"
     ]
    },
    {
     "name": "stdout",
     "output_type": "stream",
     "text": [
      "Fitting 10 folds for each of 10 candidates, totalling 100 fits\n"
     ]
    },
    {
     "name": "stderr",
     "output_type": "stream",
     "text": [
      "/usr/local/lib/python3.9/site-packages/sklearn/model_selection/_search.py:922: UserWarning: One or more of the test scores are non-finite: [       nan 0.61213235        nan 0.62977941 0.58088235        nan\n",
      " 0.45919118 0.73933824 0.68419118 0.64191176]\n",
      "  warnings.warn(\n"
     ]
    },
    {
     "name": "stdout",
     "output_type": "stream",
     "text": [
      "Fitting 10 folds for each of 10 candidates, totalling 100 fits\n"
     ]
    },
    {
     "name": "stderr",
     "output_type": "stream",
     "text": [
      "/usr/local/lib/python3.9/site-packages/sklearn/model_selection/_search.py:922: UserWarning: One or more of the test scores are non-finite: [0.63566176 0.74558824        nan 0.67830882        nan 0.75772059\n",
      " 0.61139706        nan        nan 0.72647059]\n",
      "  warnings.warn(\n"
     ]
    },
    {
     "name": "stdout",
     "output_type": "stream",
     "text": [
      "Fitting 10 folds for each of 10 candidates, totalling 100 fits\n"
     ]
    },
    {
     "name": "stderr",
     "output_type": "stream",
     "text": [
      "/usr/local/lib/python3.9/site-packages/sklearn/model_selection/_search.py:922: UserWarning: One or more of the test scores are non-finite: [       nan        nan 0.75073529 0.62977941 0.72169118 0.67279412\n",
      " 0.76360294        nan 0.73897059        nan]\n",
      "  warnings.warn(\n"
     ]
    },
    {
     "name": "stdout",
     "output_type": "stream",
     "text": [
      "Fitting 10 folds for each of 10 candidates, totalling 100 fits\n"
     ]
    },
    {
     "name": "stderr",
     "output_type": "stream",
     "text": [
      "/usr/local/lib/python3.9/site-packages/sklearn/model_selection/_search.py:922: UserWarning: One or more of the test scores are non-finite: [0.48345588 0.74522059 0.74522059 0.70882353 0.67904412 0.72095588\n",
      " 0.75073529        nan 0.75735294 0.62316176]\n",
      "  warnings.warn(\n"
     ]
    },
    {
     "name": "stdout",
     "output_type": "stream",
     "text": [
      "Fitting 10 folds for each of 10 candidates, totalling 100 fits\n"
     ]
    },
    {
     "name": "stderr",
     "output_type": "stream",
     "text": [
      "/usr/local/lib/python3.9/site-packages/sklearn/model_selection/_search.py:922: UserWarning: One or more of the test scores are non-finite: [       nan        nan 0.61764706 0.71507353 0.6125     0.64742647\n",
      " 0.61838235 0.75735294 0.73897059 0.70294118]\n",
      "  warnings.warn(\n"
     ]
    },
    {
     "name": "stdout",
     "output_type": "stream",
     "text": [
      "Fitting 10 folds for each of 10 candidates, totalling 100 fits\n"
     ]
    },
    {
     "name": "stderr",
     "output_type": "stream",
     "text": [
      "/usr/local/lib/python3.9/site-packages/sklearn/model_selection/_search.py:922: UserWarning: One or more of the test scores are non-finite: [       nan        nan        nan 0.65367647 0.63566176 0.42830882\n",
      " 0.61875    0.73235294 0.76397059        nan]\n",
      "  warnings.warn(\n"
     ]
    },
    {
     "name": "stdout",
     "output_type": "stream",
     "text": [
      "Fitting 10 folds for each of 10 candidates, totalling 100 fits\n"
     ]
    },
    {
     "name": "stderr",
     "output_type": "stream",
     "text": [
      "/usr/local/lib/python3.9/site-packages/sklearn/model_selection/_search.py:922: UserWarning: One or more of the test scores are non-finite: [0.75808824 0.65441176 0.64926471        nan 0.74522059        nan\n",
      " 0.61801471 0.73308824 0.65992647        nan]\n",
      "  warnings.warn(\n"
     ]
    },
    {
     "name": "stdout",
     "output_type": "stream",
     "text": [
      "Fitting 10 folds for each of 10 candidates, totalling 100 fits\n"
     ]
    },
    {
     "name": "stderr",
     "output_type": "stream",
     "text": [
      "/usr/local/lib/python3.9/site-packages/sklearn/model_selection/_search.py:922: UserWarning: One or more of the test scores are non-finite: [       nan 0.73345588        nan 0.73345588        nan 0.72683824\n",
      " 0.75735294        nan        nan 0.73272059]\n",
      "  warnings.warn(\n"
     ]
    },
    {
     "name": "stdout",
     "output_type": "stream",
     "text": [
      "Fitting 10 folds for each of 10 candidates, totalling 100 fits\n"
     ]
    },
    {
     "name": "stderr",
     "output_type": "stream",
     "text": [
      "/usr/local/lib/python3.9/site-packages/sklearn/model_selection/_search.py:922: UserWarning: One or more of the test scores are non-finite: [       nan 0.76360294 0.62389706 0.74485294 0.72095588 0.67794118\n",
      "        nan        nan 0.6125     0.73933824]\n",
      "  warnings.warn(\n"
     ]
    },
    {
     "name": "stdout",
     "output_type": "stream",
     "text": [
      "Fitting 10 folds for each of 10 candidates, totalling 100 fits\n"
     ]
    },
    {
     "name": "stderr",
     "output_type": "stream",
     "text": [
      "/usr/local/lib/python3.9/site-packages/sklearn/model_selection/_search.py:922: UserWarning: One or more of the test scores are non-finite: [0.62316176 0.73382353 0.59963235        nan        nan 0.75698529\n",
      " 0.72169118 0.61727941 0.76360294        nan]\n",
      "  warnings.warn(\n"
     ]
    },
    {
     "name": "stdout",
     "output_type": "stream",
     "text": [
      "Fitting 10 folds for each of 10 candidates, totalling 100 fits\n"
     ]
    },
    {
     "name": "stderr",
     "output_type": "stream",
     "text": [
      "/usr/local/lib/python3.9/site-packages/sklearn/model_selection/_search.py:922: UserWarning: One or more of the test scores are non-finite: [0.64779412 0.66029412 0.70330882 0.74595588        nan 0.75808824\n",
      " 0.74522059 0.65441176 0.72683824        nan]\n",
      "  warnings.warn(\n"
     ]
    },
    {
     "name": "stdout",
     "output_type": "stream",
     "text": [
      "Fitting 10 folds for each of 10 candidates, totalling 100 fits\n"
     ]
    },
    {
     "name": "stderr",
     "output_type": "stream",
     "text": [
      "/usr/local/lib/python3.9/site-packages/sklearn/model_selection/_search.py:922: UserWarning: One or more of the test scores are non-finite: [0.72757353        nan 0.76985294        nan 0.70294118 0.76985294\n",
      " 0.72095588 0.74522059 0.74485294        nan]\n",
      "  warnings.warn(\n"
     ]
    },
    {
     "name": "stdout",
     "output_type": "stream",
     "text": [
      "Fitting 10 folds for each of 10 candidates, totalling 100 fits\n"
     ]
    },
    {
     "name": "stderr",
     "output_type": "stream",
     "text": [
      "/usr/local/lib/python3.9/site-packages/sklearn/model_selection/_search.py:922: UserWarning: One or more of the test scores are non-finite: [0.73933824 0.73897059        nan 0.61764706 0.58786765        nan\n",
      " 0.75183824 0.75147059        nan        nan]\n",
      "  warnings.warn(\n"
     ]
    },
    {
     "name": "stdout",
     "output_type": "stream",
     "text": [
      "Fitting 10 folds for each of 10 candidates, totalling 100 fits\n"
     ]
    },
    {
     "name": "stderr",
     "output_type": "stream",
     "text": [
      "/usr/local/lib/python3.9/site-packages/sklearn/model_selection/_search.py:922: UserWarning: One or more of the test scores are non-finite: [       nan        nan 0.72169118        nan        nan        nan\n",
      "        nan 0.72242647 0.72720588 0.75183824]\n",
      "  warnings.warn(\n"
     ]
    },
    {
     "name": "stdout",
     "output_type": "stream",
     "text": [
      "Fitting 10 folds for each of 10 candidates, totalling 100 fits\n"
     ]
    },
    {
     "name": "stderr",
     "output_type": "stream",
     "text": [
      "/usr/local/lib/python3.9/site-packages/sklearn/model_selection/_search.py:922: UserWarning: One or more of the test scores are non-finite: [       nan        nan        nan 0.73272059        nan        nan\n",
      "        nan        nan        nan 0.70257353]\n",
      "  warnings.warn(\n"
     ]
    },
    {
     "data": {
      "text/plain": [
       "0.6785714285714286"
      ]
     },
     "execution_count": 21,
     "metadata": {},
     "output_type": "execute_result"
    }
   ],
   "source": [
    "n_estimators= [x for x in range(10,1000,10)]\n",
    "criterion=['gini','entropy']\n",
    "\n",
    "max_depth=[y for y in range(1,1000,5)]\n",
    "max_depth.append(None)\n",
    "\n",
    "min_samples_split=[x for x in range(2,10)]\n",
    "min_samples_leaf=[x for x in range(1,10)]\n",
    "max_features=[x for x in range(0,100)]\n",
    "max_features.append('auto')\n",
    "max_features.append('sqrt')\n",
    "max_features.append('log2')\n",
    "max_leaf_nodes=[x for x in range(0,100)]\n",
    "class_weight=['balanced','balanced_subsample']\n",
    "rf_grid = { 'n_estimators' : n_estimators,\n",
    "            'criterion' : criterion,\n",
    "            'max_depth': max_depth,\n",
    "            'min_samples_split': min_samples_split,\n",
    "            'min_samples_leaf': min_samples_leaf,\n",
    "            'max_features': max_features,\n",
    "            'max_leaf_nodes': max_leaf_nodes,\n",
    "            'class_weight': class_weight \n",
    "            }\n",
    "rf_df=pd.DataFrame()\n",
    "rf_df['trial']=[]\n",
    "rf_df['accuracy'] = []\n",
    "rf_df['macro_accuracy'] = []\n",
    "rf_df['confusion_matrix']=[]\n",
    "rf_df['params']=[]\n",
    "\n",
    "trial=[]\n",
    "accuracy=[]\n",
    "macro_accuracy=[]\n",
    "confusion=[]\n",
    "params=[]\n",
    "\n",
    "rf = RandomForestClassifier(random_state=0)\n",
    "RF_model = RandomizedSearchCV(estimator = rf, param_distributions=rf_grid,cv=10,verbose=2,n_jobs=4)\n",
    "for i in range(0,200):\n",
    "    trial.append(i)\n",
    "    RF_model.fit(X_train, y_train)\n",
    "    #print(RF_model.best_params_)\n",
    "    params.append(RF_model.best_params_)\n",
    "    RF_prediction = RF_model.predict(X_test)\n",
    "    score=precision_score(y_test, RF_prediction, average='macro')\n",
    "    acc = accuracy_score(y_test, RF_prediction)\n",
    "    cm = confusion_matrix(y_test, RF_prediction) # clean, highfry, layered, lowfry, midfry, no vocals\n",
    "\n",
    "    accuracy.append(acc)\n",
    "    macro_accuracy.append(score)\n",
    "    confusion.append(cm)\n",
    "    #print(f\"Confusion Matrix:\\n {cm}\")\n",
    "    #print(f\"Accuracy score: {accuracy}\")\n",
    "    #print(f\"Macro accuracy score: {score}\")\n",
    "\n",
    "rf_df['trial']= trial\n",
    "rf_df['accuracy'] = accuracy\n",
    "rf_df['macro_accuracy'] =  macro_accuracy\n",
    "rf_df['confusion_matrix']= confusion\n",
    "rf_df['params']= params\n",
    "rf_df['macro_accuracy'].max()"
   ]
  },
  {
   "cell_type": "code",
   "execution_count": 24,
   "metadata": {},
   "outputs": [
    {
     "data": {
      "text/html": [
       "<div>\n",
       "<style scoped>\n",
       "    .dataframe tbody tr th:only-of-type {\n",
       "        vertical-align: middle;\n",
       "    }\n",
       "\n",
       "    .dataframe tbody tr th {\n",
       "        vertical-align: top;\n",
       "    }\n",
       "\n",
       "    .dataframe thead th {\n",
       "        text-align: right;\n",
       "    }\n",
       "</style>\n",
       "<table border=\"1\" class=\"dataframe\">\n",
       "  <thead>\n",
       "    <tr style=\"text-align: right;\">\n",
       "      <th></th>\n",
       "      <th>trial</th>\n",
       "      <th>accuracy</th>\n",
       "      <th>macro_accuracy</th>\n",
       "      <th>confusion_matrix</th>\n",
       "      <th>params</th>\n",
       "    </tr>\n",
       "  </thead>\n",
       "  <tbody>\n",
       "    <tr>\n",
       "      <th>1</th>\n",
       "      <td>1</td>\n",
       "      <td>0.743902</td>\n",
       "      <td>0.678571</td>\n",
       "      <td>[[1, 1, 0, 5], [0, 3, 0, 4], [0, 0, 2, 6], [0,...</td>\n",
       "      <td>{'n_estimators': 800, 'min_samples_split': 8, ...</td>\n",
       "    </tr>\n",
       "  </tbody>\n",
       "</table>\n",
       "</div>"
      ],
      "text/plain": [
       "   trial  accuracy  macro_accuracy  \\\n",
       "1      1  0.743902        0.678571   \n",
       "\n",
       "                                    confusion_matrix  \\\n",
       "1  [[1, 1, 0, 5], [0, 3, 0, 4], [0, 0, 2, 6], [0,...   \n",
       "\n",
       "                                              params  \n",
       "1  {'n_estimators': 800, 'min_samples_split': 8, ...  "
      ]
     },
     "execution_count": 24,
     "metadata": {},
     "output_type": "execute_result"
    }
   ],
   "source": [
    "rf_df[rf_df['macro_accuracy'] == 0.6785714285714286]"
   ]
  },
  {
   "cell_type": "code",
   "execution_count": 25,
   "metadata": {},
   "outputs": [
    {
     "data": {
      "text/plain": [
       "trial                                                               1\n",
       "accuracy                                                     0.743902\n",
       "macro_accuracy                                               0.678571\n",
       "confusion_matrix    [[1, 1, 0, 5], [0, 3, 0, 4], [0, 0, 2, 6], [0,...\n",
       "params              {'n_estimators': 800, 'min_samples_split': 8, ...\n",
       "Name: 1, dtype: object"
      ]
     },
     "execution_count": 25,
     "metadata": {},
     "output_type": "execute_result"
    }
   ],
   "source": [
    "rf_df.loc[1]"
   ]
  },
  {
   "cell_type": "code",
   "execution_count": 26,
   "metadata": {},
   "outputs": [
    {
     "data": {
      "text/plain": [
       "{'n_estimators': 800,\n",
       " 'min_samples_split': 8,\n",
       " 'min_samples_leaf': 2,\n",
       " 'max_leaf_nodes': 29,\n",
       " 'max_features': 45,\n",
       " 'max_depth': 796,\n",
       " 'criterion': 'entropy',\n",
       " 'class_weight': 'balanced'}"
      ]
     },
     "execution_count": 26,
     "metadata": {},
     "output_type": "execute_result"
    }
   ],
   "source": [
    "rf_df.loc[1]['params']"
   ]
  },
  {
   "cell_type": "markdown",
   "metadata": {},
   "source": [
    "Current best results:\n",
    "\n",
    "RF:  \n",
    "accuracy                                                     0.743902  \n",
    "macro_accuracy                                               0.678571  \n",
    "{'n_estimators': 800,\n",
    " 'min_samples_split': 8,\n",
    " 'min_samples_leaf': 2,\n",
    " 'max_leaf_nodes': 29,\n",
    " 'max_features': 45,\n",
    " 'max_depth': 796,\n",
    " 'criterion': 'entropy',\n",
    " 'class_weight': 'balanced'}\n"
   ]
  },
  {
   "cell_type": "markdown",
   "metadata": {},
   "source": [
    "# Optimized hyperparameters"
   ]
  },
  {
   "cell_type": "code",
   "execution_count": 20,
   "metadata": {},
   "outputs": [
    {
     "name": "stdout",
     "output_type": "stream",
     "text": [
      "-------------------------------------------------------------------------------\n",
      "            KNN             \n",
      "-------------------------------------------------------------------------------\n",
      "Confusion Matrix:\n",
      " [[ 7  0  0  2]\n",
      " [ 1  5  0  5]\n",
      " [ 0  0  0  6]\n",
      " [ 2  3  1 50]]\n",
      "Accuracy score: 0.7560975609756098\n",
      "Macro accuracy score: 0.5296626984126984\n",
      "-------------------------------------------------------------------------------\n",
      "            SVM             \n",
      "-------------------------------------------------------------------------------\n",
      "[[ 4  1  0  4]\n",
      " [ 0  3  0  8]\n",
      " [ 0  0  5  1]\n",
      " [ 0  0  2 54]]\n",
      "Accuracy Score:  0.8048780487804879\n",
      "Macro accuracy Score: 0.8175639658848615\n",
      "-------------------------------------------------------------------------------\n",
      "            RF              \n",
      "-------------------------------------------------------------------------------\n",
      "[[ 6  0  0  3]\n",
      " [ 0  3  0  8]\n",
      " [ 0  0  3  3]\n",
      " [ 1  3  1 51]]\n",
      "Accuracy Score:  0.7682926829268293\n",
      "Macro accuracy Score: 0.7229395604395604\n"
     ]
    }
   ],
   "source": [
    "svm_params = {'kernel': 'poly',\n",
    " 'gamma': 'scale',\n",
    " 'degree': 3,\n",
    " 'decision_function_shape': 'ovr',\n",
    " 'coef0': 0.7000000000000001,\n",
    " 'C': 1.053475672085955,\n",
    " 'random_state':0}\n",
    "\n",
    "\n",
    "rf_params = {'n_estimators': 800,\n",
    " 'min_samples_split': 8,\n",
    " 'min_samples_leaf': 2,\n",
    " 'max_leaf_nodes': 29,\n",
    " 'max_features': 45,\n",
    " 'max_depth': 796,\n",
    " 'criterion': 'entropy',\n",
    " 'class_weight': 'balanced'}\n",
    "\n",
    "print(\"-------------------------------------------------------------------------------\")\n",
    "print(\"            KNN             \")\n",
    "print(\"-------------------------------------------------------------------------------\")\n",
    "#k= [int(x) for x in range(4,10)]\n",
    "#knn_grid = {'n_neighbors':k}\n",
    "\n",
    "\n",
    "KNN_model = KNeighborsClassifier(n_neighbors=7)\n",
    "#KNN_model=RandomizedSearchCV(estimator = knn, param_distributions=knn_grid,cv=10,verbose=2,n_jobs=4)\n",
    "KNN_model.fit(X_train, y_train)\n",
    "#print(KNN_model.best_params_)\n",
    "KNN_prediction = KNN_model.predict(X_test)\n",
    "score=precision_score(y_test, KNN_prediction, average='macro')\n",
    "accuracy = accuracy_score(y_test, KNN_prediction)\n",
    "cm = confusion_matrix(y_test, KNN_prediction) # clean, highfry, layered, lowfry, midfry, no vocals\n",
    "print(f\"Confusion Matrix:\\n {cm}\")\n",
    "print(f\"Accuracy score: {accuracy}\")\n",
    "print(f\"Macro accuracy score: {score}\")\n",
    "\n",
    "print(\"-------------------------------------------------------------------------------\")\n",
    "print(\"            SVM             \")\n",
    "print(\"-------------------------------------------------------------------------------\")\n",
    "SVM_model = make_pipeline(StandardScaler(), SVC(kernel='poly',gamma='scale',degree=3,decision_function_shape='ovr',coef0=0.7000000000000001,C=1.053475672085955,random_state=0))\n",
    "SVM_model.fit(X_train, y_train)\n",
    "SVM_prediction = SVM_model.predict(X_test)\n",
    "score=precision_score(y_test, SVM_prediction, average='macro')\n",
    "cm = confusion_matrix(y_test, SVM_prediction) # clean, highfry, layered, lowfry, midfry, no vocals\n",
    "acc = accuracy_score(y_test, SVM_prediction)\n",
    "print(cm)\n",
    "print(\"Accuracy Score: \",acc)\n",
    "print(\"Macro accuracy Score:\",score)\n",
    "\n",
    "print(\"-------------------------------------------------------------------------------\")\n",
    "print(\"            RF              \")\n",
    "print(\"-------------------------------------------------------------------------------\")\n",
    "\n",
    "RF_model = RandomForestClassifier(n_estimators=800,min_samples_split = 8, min_samples_leaf = 2,max_leaf_nodes = 29, max_depth = 796, criterion = 'entropy',class_weight='balanced',random_state=0)\n",
    "RF_model.fit(X_train, y_train)\n",
    "RF_prediction = RF_model.predict(X_test)\n",
    "score=precision_score(y_test, RF_prediction, average='macro')\n",
    "cm = confusion_matrix(y_test, RF_prediction) # clean, highfry, layered, lowfry, midfry, no vocals\n",
    "acc = accuracy_score(y_test, RF_prediction)\n",
    "print(cm)\n",
    "print(\"Accuracy Score: \",acc)\n",
    "print(\"Macro accuracy Score:\",score)"
   ]
  },
  {
   "cell_type": "markdown",
   "metadata": {},
   "source": [
    "# Old Unused code:"
   ]
  },
  {
   "cell_type": "code",
   "execution_count": 44,
   "metadata": {},
   "outputs": [],
   "source": [
    "# def freq_to_mel(freq):\n",
    "#     return 2595.0 * np.log10(1.0 + freq / 700.0)\n",
    "\n",
    "# def mel_to_freq(mels):\n",
    "#     return 700.0 * (10.0**(mels / 2595.0) - 1.0)\n",
    "\n",
    "# def get_filter_points(fmin, fmax, mel_filter_num, FFT_size, fs=44100):\n",
    "#     fmin_mel = freq_to_mel(fmin)\n",
    "#     fmax_mel = freq_to_mel(fmax)\n",
    "#     mels = np.linspace(fmin_mel, fmax_mel, num=mel_filter_num+2)\n",
    "#     freqs = mel_to_freq(mels)\n",
    "    \n",
    "#     return np.floor((FFT_size + 1) / fs * freqs).astype(int), freqs\n",
    "\n",
    "# def get_filters(filter_points, FFT_size):\n",
    "#     filters = np.zeros((len(filter_points)-2,int(FFT_size/2+1)))\n",
    "    \n",
    "#     for n in range(len(filter_points)-2):\n",
    "#         filters[n, filter_points[n] : filter_points[n + 1]] = np.linspace(0, 1, filter_points[n + 1] - filter_points[n])\n",
    "#         filters[n, filter_points[n + 1] : filter_points[n + 2]] = np.linspace(1, 0, filter_points[n + 2] - filter_points[n + 1])\n",
    "    \n",
    "#     return filters\n",
    "    \n",
    "# def dct(dct_filter_num, filter_len):\n",
    "#     basis = np.empty((dct_filter_num,filter_len))\n",
    "#     basis[0, :] = 1.0 / np.sqrt(filter_len)\n",
    "    \n",
    "#     samples = np.arange(1, 2 * filter_len, 2) * np.pi / (2.0 * filter_len)\n",
    "\n",
    "#     for i in range(1, dct_filter_num):\n",
    "#         basis[i, :] = np.cos(i * samples) * np.sqrt(2.0 / filter_len)\n",
    "        \n",
    "#     return basis"
   ]
  },
  {
   "cell_type": "code",
   "execution_count": 75,
   "metadata": {},
   "outputs": [
    {
     "name": "stderr",
     "output_type": "stream",
     "text": [
      "<ipython-input-75-42337085eaf8>:26: RuntimeWarning: divide by zero encountered in log10\n",
      "  audio_log = 10.0 * np.log10(audio_filtered)\n"
     ]
    }
   ],
   "source": [
    "# n_mfccs=13\n",
    "\n",
    "# freq_min = 0\n",
    "# freq_high = fs / 2\n",
    "# fft_size=xb[0].shape[0]\n",
    "# dct_filter_num = 40\n",
    "# dct_filters = dct(dct_filter_num, n_mfccs)\n",
    "# window = get_window(\"hann\",fft_size , fftbins=True)\n",
    "\n",
    "# audio_winT = np.transpose(xb*window)\n",
    "\n",
    "# audio_fft = np.empty((int(1 + fft_size // 2), audio_winT.shape[1]), dtype=np.complex64, order='F')\n",
    "\n",
    "# for n in range(audio_fft.shape[1]):\n",
    "#     audio_fft[:, n] = fft.fft(audio_winT[:, n], axis=0)[:audio_fft.shape[0]]\n",
    "\n",
    "# audio_fft = np.transpose(audio_fft)\n",
    "# audio_power = np.square(np.abs(audio_fft))\n",
    "# filter_points, mel_freqs = get_filter_points(freq_min, freq_high, n_mfccs, fft_size, fs)\n",
    "# filters = get_filters(filter_points, fft_size)\n",
    "\n",
    "# enorm = 2.0 / (mel_freqs[2:n_mfccs+2] - mel_freqs[:n_mfccs])\n",
    "# filters *= enorm[:, np.newaxis]\n",
    "\n",
    "# audio_filtered = np.dot(filters, np.transpose(audio_power))\n",
    "# audio_log = 10.0 * np.log10(audio_filtered)\n",
    "\n",
    "# dct_filters = dct(dct_filter_num, n_mfccs)\n",
    "\n",
    "# cepstral_coefficents = scipy.fftpack.dct(audio_log)#np.dot(dct_filters, audio_log)\n"
   ]
  },
  {
   "cell_type": "code",
   "execution_count": 66,
   "metadata": {},
   "outputs": [],
   "source": [
    "# def calc_mfccs(xb,fs=44100,n_mfccs=13):\n",
    "#     freq_min = 0\n",
    "#     freq_high = fs / 2\n",
    "#     fft_size=xb[0].shape[0]\n",
    "#     dct_filter_num = 40\n",
    "#     dct_filters = dct(dct_filter_num, n_mfccs)\n",
    "#     window = get_window(\"hann\",fft_size , fftbins=True)\n",
    "#     mfccs=[]\n",
    "#     for block in xb:\n",
    "#         # Apply Window to the block\n",
    "#         windowed_block = window * block\n",
    "#         stft_blk = np.fft.fft(windowed_block)[:windowed_block.shape[0]]\n",
    "#         #stft_blk = np.fft.rfft(windowed_block)\n",
    "#         stft_blk = np.square(np.abs(stft_blk)) #POWER SPECTRUM NOT MAGNITUDE\n",
    "#         #stft_block = stft_blk[int((stft_blk.shape[0])/2):]\n",
    "#         filter_points, mel_freqs = get_filter_points(freq_min, freq_high, n_mfccs, fft_size, fs)\n",
    "#         filters = get_filters(filter_points, fft_size)\n",
    "#         enorm = 2.0 / (mel_freqs[2:n_mfccs+2] - mel_freqs[:n_mfccs])\n",
    "#         filters *= enorm[:, np.newaxis]\n",
    "#         audio_filtered = np.dot(filters, np.transpose(stft_blk))\n",
    "#         audio_log = 10.0 * np.log10(audio_filtered)\n",
    "#         cepstral_coefficents = np.dot(dct_filters, audio_log)\n",
    "#         mfccs.append(cepstral_coefficents)\n",
    "#     return mfccs"
   ]
  },
  {
   "cell_type": "code",
   "execution_count": 69,
   "metadata": {},
   "outputs": [
    {
     "ename": "ValueError",
     "evalue": "shapes (13,1025) and (2048,5294) not aligned: 1025 (dim 1) != 2048 (dim 0)",
     "output_type": "error",
     "traceback": [
      "\u001b[0;31m---------------------------------------------------------------------------\u001b[0m",
      "\u001b[0;31mValueError\u001b[0m                                Traceback (most recent call last)",
      "\u001b[0;32m<ipython-input-69-1d6983c00e46>\u001b[0m in \u001b[0;36m<module>\u001b[0;34m\u001b[0m\n\u001b[1;32m      9\u001b[0m \u001b[0menorm\u001b[0m \u001b[0;34m=\u001b[0m \u001b[0;36m2.0\u001b[0m \u001b[0;34m/\u001b[0m \u001b[0;34m(\u001b[0m\u001b[0mmel_freqs\u001b[0m\u001b[0;34m[\u001b[0m\u001b[0;36m2\u001b[0m\u001b[0;34m:\u001b[0m\u001b[0mn_mfccs\u001b[0m\u001b[0;34m+\u001b[0m\u001b[0;36m2\u001b[0m\u001b[0;34m]\u001b[0m \u001b[0;34m-\u001b[0m \u001b[0mmel_freqs\u001b[0m\u001b[0;34m[\u001b[0m\u001b[0;34m:\u001b[0m\u001b[0mn_mfccs\u001b[0m\u001b[0;34m]\u001b[0m\u001b[0;34m)\u001b[0m\u001b[0;34m\u001b[0m\u001b[0;34m\u001b[0m\u001b[0m\n\u001b[1;32m     10\u001b[0m \u001b[0mfilters\u001b[0m \u001b[0;34m*=\u001b[0m \u001b[0menorm\u001b[0m\u001b[0;34m[\u001b[0m\u001b[0;34m:\u001b[0m\u001b[0;34m,\u001b[0m \u001b[0mnp\u001b[0m\u001b[0;34m.\u001b[0m\u001b[0mnewaxis\u001b[0m\u001b[0;34m]\u001b[0m\u001b[0;34m\u001b[0m\u001b[0;34m\u001b[0m\u001b[0m\n\u001b[0;32m---> 11\u001b[0;31m \u001b[0maudio_filtered\u001b[0m \u001b[0;34m=\u001b[0m \u001b[0mnp\u001b[0m\u001b[0;34m.\u001b[0m\u001b[0mdot\u001b[0m\u001b[0;34m(\u001b[0m\u001b[0mfilters\u001b[0m\u001b[0;34m,\u001b[0m \u001b[0mnp\u001b[0m\u001b[0;34m.\u001b[0m\u001b[0mtranspose\u001b[0m\u001b[0;34m(\u001b[0m\u001b[0mstft_blk\u001b[0m\u001b[0;34m)\u001b[0m\u001b[0;34m)\u001b[0m\u001b[0;34m\u001b[0m\u001b[0;34m\u001b[0m\u001b[0m\n\u001b[0m\u001b[1;32m     12\u001b[0m \u001b[0maudio_log\u001b[0m \u001b[0;34m=\u001b[0m \u001b[0;36m10.0\u001b[0m \u001b[0;34m*\u001b[0m \u001b[0mnp\u001b[0m\u001b[0;34m.\u001b[0m\u001b[0mlog10\u001b[0m\u001b[0;34m(\u001b[0m\u001b[0maudio_filtered\u001b[0m\u001b[0;34m)\u001b[0m\u001b[0;34m\u001b[0m\u001b[0;34m\u001b[0m\u001b[0m\n\u001b[1;32m     13\u001b[0m \u001b[0mcepstral_coefficents\u001b[0m \u001b[0;34m=\u001b[0m \u001b[0mnp\u001b[0m\u001b[0;34m.\u001b[0m\u001b[0mdot\u001b[0m\u001b[0;34m(\u001b[0m\u001b[0mdct_filters\u001b[0m\u001b[0;34m,\u001b[0m \u001b[0maudio_log\u001b[0m\u001b[0;34m)\u001b[0m\u001b[0;34m\u001b[0m\u001b[0;34m\u001b[0m\u001b[0m\n",
      "\u001b[0;32m<__array_function__ internals>\u001b[0m in \u001b[0;36mdot\u001b[0;34m(*args, **kwargs)\u001b[0m\n",
      "\u001b[0;31mValueError\u001b[0m: shapes (13,1025) and (2048,5294) not aligned: 1025 (dim 1) != 2048 (dim 0)"
     ]
    }
   ],
   "source": [
    "window = get_window(\"hann\",fft_size , fftbins=True)\n",
    "windowed_block = window * block\n",
    "stft_blk = np.fft.fft(windowed_block)\n",
    "#stft_blk = np.fft.rfft(windowed_block)\n",
    "stft_blk = np.square(np.abs(stft_blk)) #POWER SPECTRUM NOT MAGNITUDE\n",
    "#stft_block = stft_blk[int((stft_blk.shape[0])/2):]\n",
    "filter_points, mel_freqs = get_filter_points(freq_min, freq_high, n_mfccs, fft_size, fs)\n",
    "filters = get_filters(filter_points, fft_size)\n",
    "enorm = 2.0 / (mel_freqs[2:n_mfccs+2] - mel_freqs[:n_mfccs])\n",
    "filters *= enorm[:, np.newaxis]\n",
    "audio_filtered = np.dot(filters, np.transpose(stft_blk))\n",
    "audio_log = 10.0 * np.log10(audio_filtered)\n",
    "cepstral_coefficents = np.dot(dct_filters, audio_log)"
   ]
  },
  {
   "cell_type": "code",
   "execution_count": 47,
   "metadata": {},
   "outputs": [
    {
     "ename": "ValueError",
     "evalue": "shapes (13,1025) and (2048,) not aligned: 1025 (dim 1) != 2048 (dim 0)",
     "output_type": "error",
     "traceback": [
      "\u001b[0;31m---------------------------------------------------------------------------\u001b[0m",
      "\u001b[0;31mValueError\u001b[0m                                Traceback (most recent call last)",
      "\u001b[0;32m<ipython-input-47-35f7825e4552>\u001b[0m in \u001b[0;36m<module>\u001b[0;34m\u001b[0m\n\u001b[1;32m      1\u001b[0m \u001b[0mxb\u001b[0m\u001b[0;34m,\u001b[0m\u001b[0mt\u001b[0m \u001b[0;34m=\u001b[0m \u001b[0mblock_audio\u001b[0m\u001b[0;34m(\u001b[0m\u001b[0maudio\u001b[0m\u001b[0;34m,\u001b[0m\u001b[0;36m2048\u001b[0m\u001b[0;34m,\u001b[0m\u001b[0;36m1024\u001b[0m\u001b[0;34m,\u001b[0m\u001b[0mfs\u001b[0m\u001b[0;34m)\u001b[0m\u001b[0;34m\u001b[0m\u001b[0;34m\u001b[0m\u001b[0m\n\u001b[0;32m----> 2\u001b[0;31m \u001b[0mcalc_mfccs\u001b[0m\u001b[0;34m(\u001b[0m\u001b[0mxb\u001b[0m\u001b[0;34m,\u001b[0m\u001b[0;36m44100\u001b[0m\u001b[0;34m,\u001b[0m\u001b[0;36m13\u001b[0m\u001b[0;34m)\u001b[0m\u001b[0;34m\u001b[0m\u001b[0;34m\u001b[0m\u001b[0m\n\u001b[0m",
      "\u001b[0;32m<ipython-input-46-2d79a9c3a52c>\u001b[0m in \u001b[0;36mcalc_mfccs\u001b[0;34m(xb, fs, n_mfccs)\u001b[0m\n\u001b[1;32m     18\u001b[0m         \u001b[0menorm\u001b[0m \u001b[0;34m=\u001b[0m \u001b[0;36m2.0\u001b[0m \u001b[0;34m/\u001b[0m \u001b[0;34m(\u001b[0m\u001b[0mmel_freqs\u001b[0m\u001b[0;34m[\u001b[0m\u001b[0;36m2\u001b[0m\u001b[0;34m:\u001b[0m\u001b[0mn_mfccs\u001b[0m\u001b[0;34m+\u001b[0m\u001b[0;36m2\u001b[0m\u001b[0;34m]\u001b[0m \u001b[0;34m-\u001b[0m \u001b[0mmel_freqs\u001b[0m\u001b[0;34m[\u001b[0m\u001b[0;34m:\u001b[0m\u001b[0mn_mfccs\u001b[0m\u001b[0;34m]\u001b[0m\u001b[0;34m)\u001b[0m\u001b[0;34m\u001b[0m\u001b[0;34m\u001b[0m\u001b[0m\n\u001b[1;32m     19\u001b[0m         \u001b[0mfilters\u001b[0m \u001b[0;34m*=\u001b[0m \u001b[0menorm\u001b[0m\u001b[0;34m[\u001b[0m\u001b[0;34m:\u001b[0m\u001b[0;34m,\u001b[0m \u001b[0mnp\u001b[0m\u001b[0;34m.\u001b[0m\u001b[0mnewaxis\u001b[0m\u001b[0;34m]\u001b[0m\u001b[0;34m\u001b[0m\u001b[0;34m\u001b[0m\u001b[0m\n\u001b[0;32m---> 20\u001b[0;31m         \u001b[0maudio_filtered\u001b[0m \u001b[0;34m=\u001b[0m \u001b[0mnp\u001b[0m\u001b[0;34m.\u001b[0m\u001b[0mdot\u001b[0m\u001b[0;34m(\u001b[0m\u001b[0mfilters\u001b[0m\u001b[0;34m,\u001b[0m \u001b[0mnp\u001b[0m\u001b[0;34m.\u001b[0m\u001b[0mtranspose\u001b[0m\u001b[0;34m(\u001b[0m\u001b[0mstft_blk\u001b[0m\u001b[0;34m)\u001b[0m\u001b[0;34m)\u001b[0m\u001b[0;34m\u001b[0m\u001b[0;34m\u001b[0m\u001b[0m\n\u001b[0m\u001b[1;32m     21\u001b[0m         \u001b[0maudio_log\u001b[0m \u001b[0;34m=\u001b[0m \u001b[0;36m10.0\u001b[0m \u001b[0;34m*\u001b[0m \u001b[0mnp\u001b[0m\u001b[0;34m.\u001b[0m\u001b[0mlog10\u001b[0m\u001b[0;34m(\u001b[0m\u001b[0maudio_filtered\u001b[0m\u001b[0;34m)\u001b[0m\u001b[0;34m\u001b[0m\u001b[0;34m\u001b[0m\u001b[0m\n\u001b[1;32m     22\u001b[0m         \u001b[0mcepstral_coefficents\u001b[0m \u001b[0;34m=\u001b[0m \u001b[0mnp\u001b[0m\u001b[0;34m.\u001b[0m\u001b[0mdot\u001b[0m\u001b[0;34m(\u001b[0m\u001b[0mdct_filters\u001b[0m\u001b[0;34m,\u001b[0m \u001b[0maudio_log\u001b[0m\u001b[0;34m)\u001b[0m\u001b[0;34m\u001b[0m\u001b[0;34m\u001b[0m\u001b[0m\n",
      "\u001b[0;32m<__array_function__ internals>\u001b[0m in \u001b[0;36mdot\u001b[0;34m(*args, **kwargs)\u001b[0m\n",
      "\u001b[0;31mValueError\u001b[0m: shapes (13,1025) and (2048,) not aligned: 1025 (dim 1) != 2048 (dim 0)"
     ]
    }
   ],
   "source": [
    "\n",
    "calc_mfccs(xb,44100,13)\n"
   ]
  },
  {
   "cell_type": "code",
   "execution_count": null,
   "metadata": {},
   "outputs": [],
   "source": [
    "def agg_mfccs(x):\n",
    "    mfccs = librosa.feature.mfcc(x,n_mfcc = 13)\n",
    "    mean = [np.mean(feature) for feature in mfccs]\n",
    "    std = [np.std(feature) for feature in mfccs]\n",
    "    mfcc_delta = librosa.feature.delta(mfccs)\n",
    "    delta_mean=[np.mean(feature) for feature in mfcc_delta]\n",
    "    delta_std=[np.std(feature) for feature in mfcc_delta]\n",
    "    return mean,std,delta_mean,delta_std"
   ]
  },
  {
   "cell_type": "markdown",
   "metadata": {},
   "source": [
    "# Feature Selection"
   ]
  },
  {
   "cell_type": "markdown",
   "metadata": {},
   "source": [
    "## Variance Threshold Feature selection"
   ]
  },
  {
   "cell_type": "code",
   "execution_count": 68,
   "metadata": {},
   "outputs": [
    {
     "name": "stdout",
     "output_type": "stream",
     "text": [
      "Index(['mfcc1_mean', 'mfcc2_mean', 'mfcc3_mean', 'mfcc4_mean', 'mfcc5_mean',\n",
      "       'mfcc6_mean', 'mfcc7_mean', 'mfcc8_mean', 'mfcc9_mean', 'mfcc10_mean',\n",
      "       'mfcc11_mean', 'mfcc12_mean', 'mfcc13_mean', 'mfcc1_std', 'mfcc2_std',\n",
      "       'mfcc3_std', 'mfcc4_std', 'mfcc5_std', 'mfcc6_std', 'mfcc7_std',\n",
      "       'mfcc8_std', 'mfcc9_std', 'mfcc10_std', 'mfcc11_std', 'mfcc12_std',\n",
      "       'mfcc13_std', 'delta_mfcc1_std', 'delta_mfcc2_std', 'centroid_mean',\n",
      "       'centroid_std', 'rms_mean', 'rms_std'],\n",
      "      dtype='object')\n",
      "32\n"
     ]
    }
   ],
   "source": [
    "names=['drummer', 'session', 'id', 'style', 'bpm', 'beat_type',\n",
    "       'time_signature', 'midi_filename', 'audio_filename', 'duration',\n",
    "       'split', 'audio', 'mfcc_mean', 'mfcc_std', 'delta_mfcc_mean',\n",
    "       'delta_mfcc_std', 'centroid_mean', 'centroid_std', 'rms_mean',\n",
    "       'rms_std', 'zcr_mean', 'zcr_std', 'crest_mean', 'crest_std',\n",
    "       'flux_mean', 'flux_std', 'mfcc1_mean', 'mfcc2_mean', 'mfcc3_mean',\n",
    "       'mfcc4_mean', 'mfcc5_mean', 'mfcc6_mean', 'mfcc7_mean', 'mfcc8_mean',\n",
    "       'mfcc9_mean', 'mfcc10_mean', 'mfcc11_mean', 'mfcc12_mean',\n",
    "       'mfcc13_mean', 'mfcc1_std', 'mfcc2_std', 'mfcc3_std', 'mfcc4_std',\n",
    "       'mfcc5_std', 'mfcc6_std', 'mfcc7_std', 'mfcc8_std', 'mfcc9_std',\n",
    "       'mfcc10_std', 'mfcc11_std', 'mfcc12_std', 'mfcc13_std',\n",
    "       'delta_mfcc1_mean', 'delta_mfcc2_mean', 'delta_mfcc3_mean',\n",
    "       'delta_mfcc4_mean', 'delta_mfcc5_mean', 'delta_mfcc6_mean',\n",
    "       'delta_mfcc7_mean', 'delta_mfcc8_mean', 'delta_mfcc9_mean',\n",
    "       'delta_mfcc10_mean', 'delta_mfcc11_mean', 'delta_mfcc12_mean',\n",
    "       'delta_mfcc13_mean', 'delta_mfcc1_std', 'delta_mfcc2_std',\n",
    "       'delta_mfcc3_std', 'delta_mfcc4_std', 'delta_mfcc5_std',\n",
    "       'delta_mfcc6_std', 'delta_mfcc7_std', 'delta_mfcc8_std',\n",
    "       'delta_mfcc9_std', 'delta_mfcc10_std', 'delta_mfcc11_std',\n",
    "       'delta_mfcc12_std', 'delta_mfcc13_std']\n",
    "df=pd.DataFrame(np.load('./resources/working_data/data.npy',allow_pickle=True),columns=names)\n",
    "X = df[['mfcc1_mean', 'mfcc2_mean', 'mfcc3_mean',\n",
    "       'mfcc4_mean', 'mfcc5_mean', 'mfcc6_mean', 'mfcc7_mean', 'mfcc8_mean',\n",
    "       'mfcc9_mean', 'mfcc10_mean', 'mfcc11_mean', 'mfcc12_mean',\n",
    "       'mfcc13_mean', 'mfcc1_std', 'mfcc2_std', 'mfcc3_std', 'mfcc4_std',\n",
    "       'mfcc5_std', 'mfcc6_std', 'mfcc7_std', 'mfcc8_std', 'mfcc9_std',\n",
    "       'mfcc10_std', 'mfcc11_std', 'mfcc12_std', 'mfcc13_std',\n",
    "       'delta_mfcc1_mean', 'delta_mfcc2_mean', 'delta_mfcc3_mean',\n",
    "       'delta_mfcc4_mean', 'delta_mfcc5_mean', 'delta_mfcc6_mean',\n",
    "       'delta_mfcc7_mean', 'delta_mfcc8_mean', 'delta_mfcc9_mean',\n",
    "       'delta_mfcc10_mean', 'delta_mfcc11_mean', 'delta_mfcc12_mean',\n",
    "       'delta_mfcc13_mean', 'delta_mfcc1_std', 'delta_mfcc2_std',\n",
    "       'delta_mfcc3_std', 'delta_mfcc4_std', 'delta_mfcc5_std',\n",
    "       'delta_mfcc6_std', 'delta_mfcc7_std', 'delta_mfcc8_std',\n",
    "       'delta_mfcc9_std', 'delta_mfcc10_std', 'delta_mfcc11_std',\n",
    "       'delta_mfcc12_std', 'delta_mfcc13_std',\\\n",
    "       'centroid_mean','centroid_std','rms_mean','rms_std','zcr_mean','zcr_std','crest_mean','crest_std','flux_mean','flux_std']]\n",
    "\n",
    "# To be done before normalizing\n",
    "from sklearn.feature_selection import VarianceThreshold\n",
    "selector = VarianceThreshold(threshold=0.5) # Variance threshold \n",
    "sel = selector.fit(X)\n",
    "sel_index = sel.get_support()\n",
    "X_vt = X.iloc[:, sel_index]\n",
    "print(X_vt.columns)\n",
    "print(len(X_vt.columns))"
   ]
  },
  {
   "cell_type": "markdown",
   "metadata": {},
   "source": [
    "## Mutual Information Feature Selection"
   ]
  },
  {
   "cell_type": "code",
   "execution_count": 64,
   "metadata": {},
   "outputs": [
    {
     "name": "stdout",
     "output_type": "stream",
     "text": [
      "mfcc1_std 0.19571416472480374\n",
      "flux_mean 0.18946082626843608\n",
      "delta_mfcc1_std 0.17146268280202936\n",
      "flux_std 0.1691835113249054\n",
      "mfcc2_mean 0.16391999508760668\n",
      "mfcc9_mean 0.1564266169681845\n",
      "delta_mfcc10_std 0.15125969257156835\n",
      "zcr_std 0.1498671756544192\n",
      "mfcc13_mean 0.14709893638139127\n",
      "mfcc8_mean 0.14374131132867474\n",
      "delta_mfcc2_std 0.14059785386746948\n",
      "mfcc11_mean 0.13268130431894432\n",
      "centroid_std 0.1267104351178172\n",
      "mfcc10_mean 0.12365698771666\n",
      "rms_std 0.12150884656847638\n",
      "Index(['mfcc1_std', 'flux_mean', 'delta_mfcc1_std', 'flux_std', 'mfcc2_mean',\n",
      "       'mfcc9_mean', 'delta_mfcc10_std', 'zcr_std', 'mfcc13_mean',\n",
      "       'mfcc8_mean', 'delta_mfcc2_std', 'mfcc11_mean', 'centroid_std',\n",
      "       'mfcc10_mean', 'rms_std'],\n",
      "      dtype='object')\n"
     ]
    }
   ],
   "source": [
    "from sklearn.feature_selection import mutual_info_classif\n",
    "threshold = 15  # the number of most relevant features\n",
    "high_score_features = []\n",
    "feature_scores = mutual_info_classif(X, y, random_state=0)\n",
    "for score, f_name in sorted(zip(feature_scores, X.columns), reverse=True)[:threshold]:\n",
    "        print(f_name, score)\n",
    "        high_score_features.append(f_name)\n",
    "X_mic = X[high_score_features]\n",
    "print(X_mic.columns)"
   ]
  },
  {
   "cell_type": "code",
   "execution_count": 69,
   "metadata": {},
   "outputs": [
    {
     "name": "stdout",
     "output_type": "stream",
     "text": [
      "Accuracy: 0.73 (+/- 0.05)\n",
      "Accuracy: 0.73 (+/- 0.05)\n",
      "Accuracy: 0.76 (+/- 0.09)\n",
      "Accuracy: 0.77 (+/- 0.03)\n",
      "Accuracy: 0.73 (+/- 0.07)\n",
      "Accuracy: 0.73 (+/- 0.07)\n",
      "Accuracy: 0.72 (+/- 0.05)\n",
      "Accuracy: 0.75 (+/- 0.08)\n",
      "Accuracy: 0.72 (+/- 0.06)\n",
      "Accuracy: 0.76 (+/- 0.10)\n",
      "Accuracy: 0.75 (+/- 0.06)\n",
      "Accuracy: 0.75 (+/- 0.08)\n",
      "Accuracy: 0.74 (+/- 0.05)\n",
      "Accuracy: 0.75 (+/- 0.09)\n",
      "Accuracy: 0.73 (+/- 0.08)\n",
      "Accuracy: 0.77 (+/- 0.08)\n",
      "Accuracy: 0.73 (+/- 0.09)\n",
      "Accuracy: 0.75 (+/- 0.11)\n",
      "Accuracy: 0.75 (+/- 0.07)\n",
      "Accuracy: 0.75 (+/- 0.07)\n",
      "Accuracy: 0.73 (+/- 0.12)\n",
      "Accuracy: 0.73 (+/- 0.10)\n",
      "Accuracy: 0.78 (+/- 0.12)\n",
      "Accuracy: 0.73 (+/- 0.07)\n",
      "Accuracy: 0.75 (+/- 0.11)\n",
      "Accuracy: 0.75 (+/- 0.02)\n",
      "Accuracy: 0.72 (+/- 0.07)\n",
      "Accuracy: 0.72 (+/- 0.05)\n",
      "Accuracy: 0.74 (+/- 0.09)\n",
      "Accuracy: 0.77 (+/- 0.06)\n",
      "Accuracy: 0.75 (+/- 0.06)\n",
      "Accuracy: 0.73 (+/- 0.05)\n",
      "Accuracy: 0.75 (+/- 0.07)\n",
      "Accuracy: 0.74 (+/- 0.09)\n",
      "Accuracy: 0.75 (+/- 0.03)\n",
      "Accuracy: 0.75 (+/- 0.06)\n",
      "Accuracy: 0.74 (+/- 0.05)\n",
      "Accuracy: 0.72 (+/- 0.05)\n",
      "Accuracy: 0.73 (+/- 0.09)\n",
      "Accuracy: 0.75 (+/- 0.10)\n",
      "Accuracy: 0.75 (+/- 0.06)\n",
      "Accuracy: 0.75 (+/- 0.08)\n",
      "Accuracy: 0.72 (+/- 0.05)\n",
      "Accuracy: 0.72 (+/- 0.05)\n",
      "Accuracy: 0.74 (+/- 0.05)\n",
      "Accuracy: 0.74 (+/- 0.09)\n",
      "Accuracy: 0.73 (+/- 0.07)\n",
      "Accuracy: 0.75 (+/- 0.08)\n",
      "Accuracy: 0.72 (+/- 0.05)\n",
      "Accuracy: 0.74 (+/- 0.11)\n"
     ]
    },
    {
     "data": {
      "text/plain": [
       "0.6382575757575757"
      ]
     },
     "execution_count": 69,
     "metadata": {},
     "output_type": "execute_result"
    }
   ],
   "source": [
    "for col in X.columns:\n",
    "    #df[col] = df[col]/max(np.abs(df[col]))\n",
    "    mean = np.mean(X[col])\n",
    "    std = np.std(X[col])\n",
    "    X[col] = (X[col] - mean)/std # z-score normalization\n",
    "    \n",
    "X_train, X_test, y_train, y_test = train_test_split(X_mic, y, test_size=0.33)\n",
    "\n",
    "X_train = X_train.to_numpy()\n",
    "X_test = X_test.to_numpy()\n",
    "y_train = y_train.to_numpy()\n",
    "y_test = y_test.to_numpy()\n",
    "\n",
    "warnings.filterwarnings(\"ignore\")\n",
    "\n",
    "C = [x**0.01 for x in range(25,200)]\n",
    "kernel = ['rbf','linear','poly','sigmoid']\n",
    "degree = [int(x) for x in range(1,8)]\n",
    "gamma = ['scale','auto']\n",
    "coef0 = [x*0.1 for x in range(0,40)]\n",
    "decision_function_shape = ['ovo','ovr']\n",
    "\n",
    "svm_grid = { 'C' : C,\n",
    "            'kernel' : kernel,\n",
    "            'degree' : degree,\n",
    "            'gamma' : gamma,\n",
    "            'coef0' : coef0,\n",
    "            'decision_function_shape' : decision_function_shape\n",
    "            }\n",
    "\n",
    "svc = SVC()\n",
    "svm_df=pd.DataFrame()\n",
    "svm_df['trial']=[]\n",
    "svm_df['accuracy'] = []\n",
    "svm_df['macro_accuracy'] = []\n",
    "svm_df['confusion_matrix']=[]\n",
    "svm_df['params']=[]\n",
    "svm_df['cv_acc']=[]\n",
    "svm_df['cv_std']=[]\n",
    "\n",
    "trial=[]\n",
    "accuracy=[]\n",
    "macro_accuracy=[]\n",
    "confusion=[]\n",
    "params=[]\n",
    "cv_acc=[]\n",
    "cv_std=[]\n",
    "for i in range(0,50):\n",
    "    trial.append(i)\n",
    "    svc_RandomGrid = RandomizedSearchCV(estimator = svc, param_distributions=svm_grid,cv=10,verbose=0,n_jobs=4) #verbose=2\n",
    "    svc_RandomGrid.fit(X_train,y_train)\n",
    "    #print(svc_RandomGrid.best_params_)\n",
    "    params.append(svc_RandomGrid.best_params_)\n",
    "    y_prediction = svc_RandomGrid.predict(X_test)\n",
    "    score=precision_score(y_test, y_prediction, average='macro')\n",
    "    acc = accuracy_score(y_test, y_prediction)\n",
    "    cm = confusion_matrix(y_test, y_prediction) # clean, highfry, layered, lowfry, midfry, no vocals\n",
    "\n",
    "    accuracy.append(acc)\n",
    "    macro_accuracy.append(score)\n",
    "    confusion.append(cm)\n",
    "    scores = cross_validate(svc_RandomGrid, X_train, y_train, cv=5)\n",
    "    cv_acc.append(scores['test_score'].mean())\n",
    "    cv_std.append(scores['test_score'].std())\n",
    "    print(\"Accuracy: %0.2f (+/- %0.2f)\" % (scores['test_score'].mean(), scores['test_score'].std() * 2))\n",
    "    #print(f\"Confusion Matrix:\\n {cm}\")\n",
    "    #print(f\"Accuracy score: {accuracy}\")\n",
    "    #print(f\"Macro accuracy score: {score}\")\n",
    "\n",
    "\n",
    "svm_df['trial']= trial\n",
    "svm_df['accuracy'] = accuracy\n",
    "svm_df['macro_accuracy'] = macro_accuracy\n",
    "svm_df['confusion_matrix']=confusion\n",
    "svm_df['params']=params\n",
    "svm_df['cv_acc']=cv_acc\n",
    "svm_df['cv_std']=cv_std\n",
    "\n",
    "svm_df['macro_accuracy'].max()"
   ]
  },
  {
   "cell_type": "code",
   "execution_count": 86,
   "metadata": {},
   "outputs": [
    {
     "data": {
      "text/plain": [
       "array([0.70731707])"
      ]
     },
     "execution_count": 86,
     "metadata": {},
     "output_type": "execute_result"
    }
   ],
   "source": [
    "svm_df[svm_df['macro_accuracy'] == 0.6382575757575757]['accuracy'].values"
   ]
  },
  {
   "cell_type": "code",
   "execution_count": 79,
   "metadata": {},
   "outputs": [
    {
     "data": {
      "text/plain": [
       "Index(['trial', 'accuracy', 'macro_accuracy', 'confusion_matrix', 'params',\n",
       "       'cv_acc', 'cv_std'],\n",
       "      dtype='object')"
      ]
     },
     "execution_count": 79,
     "metadata": {},
     "output_type": "execute_result"
    }
   ],
   "source": [
    "svm_df.columns"
   ]
  },
  {
   "cell_type": "code",
   "execution_count": 89,
   "metadata": {},
   "outputs": [
    {
     "name": "stdout",
     "output_type": "stream",
     "text": [
      "trial  -  19\n",
      "accuracy  -  0.7073170731707317\n",
      "macro_accuracy  -  0.6382575757575757\n",
      "confusion_matrix  -  [[ 6  0  0  4]\n",
      " [ 1  4  0  5]\n",
      " [ 1  0  7  2]\n",
      " [ 5  2  4 41]]\n",
      "params  -  {'kernel': 'poly', 'gamma': 'scale', 'degree': 4, 'decision_function_shape': 'ovr', 'coef0': 1.7000000000000002, 'C': 1.0443952964253729}\n",
      "cv_acc  -  0.7454545454545455\n",
      "cv_std  -  0.03636363636363633\n"
     ]
    }
   ],
   "source": [
    "\n",
    "for col in svm_df.columns:\n",
    "    #print(col)\n",
    "    #print(svm_df[svm_df['macro_accuracy'] == 0.6382575757575757][col].values[0])\n",
    "    print(col ,' - ', svm_df[svm_df['macro_accuracy'] == 0.6382575757575757][col].values[0])"
   ]
  },
  {
   "cell_type": "code",
   "execution_count": null,
   "metadata": {},
   "outputs": [],
   "source": []
  }
 ],
 "metadata": {
  "interpreter": {
   "hash": "aee8b7b246df8f9039afb4144a1f6fd8d2ca17a180786b69acc140d282b71a49"
  },
  "kernelspec": {
   "display_name": "Python 3.9.7 64-bit",
   "name": "python3"
  },
  "language_info": {
   "codemirror_mode": {
    "name": "ipython",
    "version": 3
   },
   "file_extension": ".py",
   "mimetype": "text/x-python",
   "name": "python",
   "nbconvert_exporter": "python",
   "pygments_lexer": "ipython3",
   "version": "3.9.7"
  },
  "orig_nbformat": 4
 },
 "nbformat": 4,
 "nbformat_minor": 2
}
